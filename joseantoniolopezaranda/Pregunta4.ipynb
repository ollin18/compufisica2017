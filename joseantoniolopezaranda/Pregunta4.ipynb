{
 "cells": [
  {
   "cell_type": "code",
   "execution_count": 1,
   "metadata": {},
   "outputs": [
    {
     "data": {
      "text/plain": [
       "Sumae (generic function with 1 method)"
      ]
     },
     "execution_count": 1,
     "metadata": {},
     "output_type": "execute_result"
    }
   ],
   "source": [
    "function Sumae(n)\n",
    "    if n>=0 #Aquí pedimos que n>=0\n",
    "        i=1 #Aquí establecemos la variabl que guardará la suma al final\n",
    "        k=1 #Este será el que ira incrementando hasta n \n",
    "        j=1 #Será lo que vaya incrementando el factorial\n",
    "        while n>=k #Pedimos como condición que k sea menor o igual a n para el ciclo\n",
    "            j=j*k #Se define el factorial\n",
    "            i=Float64(i+(1/j)) #Se aplica la suma de los inversos de los factoriales\n",
    "            k+=1 #Se suma 1 a k para continuar el ciclo hasta que sea igual a n\n",
    "        end\n",
    "        print(Float64(i)) # Le pedimos que nos impirma en pantalla i al finalizar el ciclo\n",
    "    else\n",
    "        print(\"Tú número es negativo\") #pedimos que si n es menor que 0 nos devuelva esa respuesta\n",
    "    end\n",
    "end"
   ]
  },
  {
   "cell_type": "code",
   "execution_count": 2,
   "metadata": {},
   "outputs": [
    {
     "name": "stdout",
     "output_type": "stream",
     "text": [
      "2.0"
     ]
    }
   ],
   "source": [
    "Sumae(1)"
   ]
  },
  {
   "cell_type": "code",
   "execution_count": 3,
   "metadata": {},
   "outputs": [
    {
     "name": "stdout",
     "output_type": "stream",
     "text": [
      "2.5"
     ]
    }
   ],
   "source": [
    "Sumae(2)"
   ]
  },
  {
   "cell_type": "code",
   "execution_count": 4,
   "metadata": {},
   "outputs": [
    {
     "name": "stdout",
     "output_type": "stream",
     "text": [
      "2.6666666666666665"
     ]
    }
   ],
   "source": [
    "Sumae(3)"
   ]
  },
  {
   "cell_type": "code",
   "execution_count": 5,
   "metadata": {},
   "outputs": [
    {
     "name": "stdout",
     "output_type": "stream",
     "text": [
      "2.708333333333333"
     ]
    }
   ],
   "source": [
    "Sumae(4)"
   ]
  },
  {
   "cell_type": "code",
   "execution_count": 6,
   "metadata": {},
   "outputs": [
    {
     "name": "stdout",
     "output_type": "stream",
     "text": [
      "2.7166666666666663"
     ]
    }
   ],
   "source": [
    "Sumae(5)"
   ]
  },
  {
   "cell_type": "code",
   "execution_count": 7,
   "metadata": {},
   "outputs": [
    {
     "name": "stdout",
     "output_type": "stream",
     "text": [
      "2.7182818284590455"
     ]
    }
   ],
   "source": [
    "Sumae(40)"
   ]
  },
  {
   "cell_type": "code",
   "execution_count": 8,
   "metadata": {},
   "outputs": [
    {
     "data": {
      "text/plain": [
       "e = 2.7182818284590..."
      ]
     },
     "execution_count": 8,
     "metadata": {},
     "output_type": "execute_result"
    }
   ],
   "source": [
    "e"
   ]
  },
  {
   "cell_type": "code",
   "execution_count": null,
   "metadata": {},
   "outputs": [],
   "source": []
  }
 ],
 "metadata": {
  "kernelspec": {
   "display_name": "Julia 0.5.2",
   "language": "julia",
   "name": "julia-0.5"
  },
  "language_info": {
   "file_extension": ".jl",
   "mimetype": "application/julia",
   "name": "julia",
   "version": "0.5.2"
  }
 },
 "nbformat": 4,
 "nbformat_minor": 2
}
