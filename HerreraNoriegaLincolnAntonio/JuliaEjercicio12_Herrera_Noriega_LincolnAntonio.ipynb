{
 "cells": [
  {
   "cell_type": "markdown",
   "metadata": {},
   "source": [
    "a) Crear un archivo con los datos de un movimiento rectilíneo uniforme en el intervalo de tiempo definido por el usuario"
   ]
  },
  {
   "cell_type": "code",
   "execution_count": 1,
   "metadata": {},
   "outputs": [
    {
     "data": {
      "text/plain": [
       "mru (generic function with 1 method)"
      ]
     },
     "execution_count": 1,
     "metadata": {},
     "output_type": "execute_result"
    }
   ],
   "source": [
    "function mru(s0,v0,t0,tf,Δt)\n",
    "    t = collect(t0:Δt:tf)               # definimos el array del tiempo segun el usuario lo define\n",
    "    s = zeros(t)                        # array de ceros del tamaño de t\n",
    "    for i in eachindex(t)               # contador que corre por todos los elementos de t\n",
    "        s[i] = v0*t[i] + s0             # realizamos la expresión del mru para cada punto de t obteniendo su variable correspondiete s\n",
    "    end\n",
    "    variables = hcat(t,s)                # concatenamos los datos para escribirlos\n",
    "    writedlm(\"mru.csv\", variables, '|')  # lo escribimos a mru.csv con | como separador\n",
    "end"
   ]
  },
  {
   "cell_type": "code",
   "execution_count": 2,
   "metadata": {},
   "outputs": [],
   "source": [
    "mru(0,1,0,1,0.01)"
   ]
  },
  {
   "cell_type": "markdown",
   "metadata": {},
   "source": [
    "Ahora podemos leer el archivo"
   ]
  },
  {
   "cell_type": "code",
   "execution_count": 3,
   "metadata": {},
   "outputs": [
    {
     "data": {
      "text/plain": [
       "101×2 Array{Float64,2}:\n",
       " 0.0   0.0 \n",
       " 0.01  0.01\n",
       " 0.02  0.02\n",
       " 0.03  0.03\n",
       " 0.04  0.04\n",
       " 0.05  0.05\n",
       " 0.06  0.06\n",
       " 0.07  0.07\n",
       " 0.08  0.08\n",
       " 0.09  0.09\n",
       " 0.1   0.1 \n",
       " 0.11  0.11\n",
       " 0.12  0.12\n",
       " ⋮         \n",
       " 0.89  0.89\n",
       " 0.9   0.9 \n",
       " 0.91  0.91\n",
       " 0.92  0.92\n",
       " 0.93  0.93\n",
       " 0.94  0.94\n",
       " 0.95  0.95\n",
       " 0.96  0.96\n",
       " 0.97  0.97\n",
       " 0.98  0.98\n",
       " 0.99  0.99\n",
       " 1.0   1.0 "
      ]
     },
     "execution_count": 3,
     "metadata": {},
     "output_type": "execute_result"
    }
   ],
   "source": [
    "readdlm(\"mru.csv\", '|')"
   ]
  },
  {
   "cell_type": "markdown",
   "metadata": {},
   "source": [
    "b) Crear un archivo con los datos de un movimiento uniformemente acelerado en un intervalo de tiempo especificado por el usuario"
   ]
  },
  {
   "cell_type": "code",
   "execution_count": 4,
   "metadata": {},
   "outputs": [
    {
     "data": {
      "text/plain": [
       "mua (generic function with 1 method)"
      ]
     },
     "execution_count": 4,
     "metadata": {},
     "output_type": "execute_result"
    }
   ],
   "source": [
    "function mua(s0,v0,a,t0,tf,Δt)\n",
    "    t = collect(t0:Δt:tf)\n",
    "    s = zeros(t)\n",
    "    for i in eachindex(t)\n",
    "        s[i] = v0*t[i] + s0 + 0.5*a*t[i]^2\n",
    "    end\n",
    "    variables = hcat(t,s)\n",
    "    writedlm(\"mua.csv\", variables, '|')\n",
    "end"
   ]
  },
  {
   "cell_type": "code",
   "execution_count": 5,
   "metadata": {},
   "outputs": [],
   "source": [
    "mua(0,50,-9.81,0,11,0.125)"
   ]
  },
  {
   "cell_type": "code",
   "execution_count": 6,
   "metadata": {},
   "outputs": [
    {
     "data": {
      "text/plain": [
       "89×2 Array{Float64,2}:\n",
       "  0.0      0.0    \n",
       "  0.125    6.17336\n",
       "  0.25    12.1934 \n",
       "  0.375   18.0602 \n",
       "  0.5     23.7737 \n",
       "  0.625   29.334  \n",
       "  0.75    34.7409 \n",
       "  0.875   39.9946 \n",
       "  1.0     45.095  \n",
       "  1.125   50.0421 \n",
       "  1.25    54.8359 \n",
       "  1.375   59.4765 \n",
       "  1.5     63.9637 \n",
       "  ⋮               \n",
       "  9.625   26.8477 \n",
       "  9.75    21.2184 \n",
       "  9.875   15.4359 \n",
       " 10.0      9.5    \n",
       " 10.125    3.41086\n",
       " 10.25    -2.83156\n",
       " 10.375   -9.22727\n",
       " 10.5    -15.7763 \n",
       " 10.625  -22.4785 \n",
       " 10.75   -29.3341 \n",
       " 10.875  -36.3429 \n",
       " 11.0    -43.505  "
      ]
     },
     "execution_count": 6,
     "metadata": {},
     "output_type": "execute_result"
    }
   ],
   "source": [
    "readdlm(\"mua.csv\", '|')"
   ]
  },
  {
   "cell_type": "markdown",
   "metadata": {},
   "source": [
    "c) Crear un archivo de datos de tiro parabólico."
   ]
  },
  {
   "cell_type": "code",
   "execution_count": 7,
   "metadata": {},
   "outputs": [
    {
     "data": {
      "text/plain": [
       "tp (generic function with 1 method)"
      ]
     },
     "execution_count": 7,
     "metadata": {},
     "output_type": "execute_result"
    }
   ],
   "source": [
    "function tp(x0,y0,v0,θ,t0,tf,Δt)\n",
    "    t = collect(t0:Δt:tf)\n",
    "    x = zeros(t)\n",
    "    y = zeros(t)\n",
    "    for i in eachindex(t)\n",
    "        x[i] = x0 + v0*cos(θ)*t[i]\n",
    "        y[i] = y0 + v0*sin(θ)*t[i] - 0.5*9.81*t[i]^2\n",
    "    end\n",
    "    variables = hcat(t,x,y)\n",
    "    writedlm(\"tp.csv\", variables, '|')\n",
    "end"
   ]
  },
  {
   "cell_type": "code",
   "execution_count": 8,
   "metadata": {},
   "outputs": [],
   "source": [
    "tp(0,0,100,π/4,0,15,0.125)"
   ]
  },
  {
   "cell_type": "code",
   "execution_count": 9,
   "metadata": {},
   "outputs": [
    {
     "data": {
      "text/plain": [
       "121×3 Array{Float64,2}:\n",
       "  0.0       0.0        0.0    \n",
       "  0.125     8.83883    8.76219\n",
       "  0.25     17.6777    17.3711 \n",
       "  0.375    26.5165    25.8267 \n",
       "  0.5      35.3553    34.1291 \n",
       "  0.625    44.1942    42.2782 \n",
       "  0.75     53.033     50.2739 \n",
       "  0.875    61.8718    58.1165 \n",
       "  1.0      70.7107    65.8057 \n",
       "  1.125    79.5495    73.3416 \n",
       "  1.25     88.3883    80.7243 \n",
       "  1.375    97.2272    87.9537 \n",
       "  1.5     106.066     95.0298 \n",
       "  ⋮                           \n",
       " 13.625   963.433     52.8657 \n",
       " 13.75    972.272     44.9203 \n",
       " 13.875   981.111     36.8215 \n",
       " 14.0     989.949     28.5695 \n",
       " 14.125   998.788     20.1642 \n",
       " 14.25   1007.63      11.6056 \n",
       " 14.375  1016.47       2.89373\n",
       " 14.5    1025.3       -5.97142\n",
       " 14.625  1034.14     -14.9898 \n",
       " 14.75   1042.98     -24.1616 \n",
       " 14.875  1051.82     -33.4866 \n",
       " 15.0    1060.66     -42.9648 "
      ]
     },
     "execution_count": 9,
     "metadata": {},
     "output_type": "execute_result"
    }
   ],
   "source": [
    "readdlm(\"tp.csv\", '|')"
   ]
  }
 ],
 "metadata": {
  "kernelspec": {
   "display_name": "Julia 0.6.0",
   "language": "julia",
   "name": "julia-0.6"
  },
  "language_info": {
   "file_extension": ".jl",
   "mimetype": "application/julia",
   "name": "julia",
   "version": "0.6.0"
  }
 },
 "nbformat": 4,
 "nbformat_minor": 2
}
