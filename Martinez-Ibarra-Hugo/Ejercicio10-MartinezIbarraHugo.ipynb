{
 "cells": [
  {
   "cell_type": "markdown",
   "metadata": {},
   "source": [
    "### Martínez Ibarra Hugo\n",
    "***\n",
    "### Computación <p style=\"text-align:right\">Grupo 8381\n",
    "## <p style=\"color:darkblue;text-align:center\">Ejercicio #10"
   ]
  },
  {
   "cell_type": "markdown",
   "metadata": {},
   "source": [
    "a) Escribe un programa que realice el producto de una matriz en $\\mathbb{R}^{mxn}$ por un vector en $\\mathbb{R}^n$ las entradas tanto del vector como de la matriz deben leerse de un archivo. (para facilitarte las cosas puedes convertir tu programa de producto punto “del ejercicio 8” en una función)"
   ]
  },
  {
   "cell_type": "markdown",
   "metadata": {},
   "source": [
    "La representación de la operación anterior es la siguiente:\n",
    "Recordar que para la multiplicación de una matriz por un vector, el cual es un caso particular de una multiplicación de matrices, pues es una matriz por otra matriz de una sola columna; se debe cumplir que el número de columnas de la matriz sea igual al número de renglones del vector, y el orden orden en que se hace la multiplicación es importante. \n",
    "$$A_{mxn}= \n",
    " \\begin{bmatrix}\n",
    "  a_{1,1}&a_{1,2}&\\cdots&a_{1,n}\\\\\n",
    "  a_{2,1}&a_{2,2}&\\cdots&a_{2,n}\\\\\n",
    "  \\vdots&\\vdots&\\ddots&\\vdots\\\\\n",
    "  a_{m,1}&a_{m,2}&\\cdots&a_{m,n} \n",
    " \\end{bmatrix} b_{nx1}=\\begin{bmatrix}b_{1,1}\\\\b_{2,1}\\\\ \\vdots\\\\b_{n,1}\\end{bmatrix}$$\n",
    "$$\\begin{bmatrix}\n",
    "  a_{1,1}&a_{1,2}&\\cdots&a_{1,n}\\\\\n",
    "  a_{2,1}&a_{2,2}&\\cdots&a_{2,n}\\\\\n",
    "  \\vdots&\\vdots&\\ddots&\\vdots\\\\\n",
    "  a_{m,1}&a_{m,2}&\\cdots&a_{m,n} \n",
    " \\end{bmatrix}\\begin{bmatrix}b_{1,1}\\\\b_{2,1}\\\\ \\vdots\\\\b_{n,1}\\end{bmatrix}=\\begin{bmatrix}a_{1,1}b_{1,1}+a_{1,2}b_{2,1}+\\cdots+a_{1,n}b_{n,1}\\\\a_{2,1}b_{1,1}+a_{2,2}b_{2,1}+\\cdots+a_{2,n}b_{n,1}\\\\ \\vdots\\\\a_{m,1}b_{1,1}+a_{m,2}b_{2,1}+\\cdots+a_{m,n}b_{n,1}\\end{bmatrix}=c_{mx1}$$"
   ]
  },
  {
   "cell_type": "code",
   "execution_count": 1,
   "metadata": {},
   "outputs": [],
   "source": [
    "#Se definen aquí los vectores para que luego sean escritos en un archivo, este paso sólo se hace con el propósito de que el archivo de datos se genere al mismo tiempo que se corre este cuaderno, pues de lo contrario se tendría que subir un archivo de texto extra, además del presente cuaderno. Sólo por cuestión de practicidad, pero el programa hace precisamente lo que se pide.\n",
    "A=[1 2 3;4 5 6]\n",
    "b=[7,8,9];"
   ]
  },
  {
   "cell_type": "code",
   "execution_count": 2,
   "metadata": {},
   "outputs": [],
   "source": [
    "#Se escriben los archivos que contienen las entradas de los vectores, cabe mencionar que aquí depende cómo se escriban los vectores, verticales u horizontales, pue sasí los leerá el comando, por eso se debe ser cuidadoso con la colocación del símbolo separador(\"|\").\n",
    "writedlm(\"A.txt\",A,'|')\n",
    "writedlm(\"b.txt\",b,'|')"
   ]
  },
  {
   "cell_type": "code",
   "execution_count": 3,
   "metadata": {},
   "outputs": [],
   "source": [
    "#Se leen los datos provenientes de los archivos.\n",
    "A=readdlm(\"A.txt\",'|')\n",
    "b=readdlm(\"b.txt\",'|');"
   ]
  },
  {
   "cell_type": "code",
   "execution_count": 4,
   "metadata": {},
   "outputs": [
    {
     "data": {
      "text/plain": [
       "2×3 Array{Float64,2}:\n",
       " 1.0  2.0  3.0\n",
       " 4.0  5.0  6.0"
      ]
     },
     "execution_count": 4,
     "metadata": {},
     "output_type": "execute_result"
    }
   ],
   "source": [
    "A"
   ]
  },
  {
   "cell_type": "code",
   "execution_count": 5,
   "metadata": {},
   "outputs": [
    {
     "data": {
      "text/plain": [
       "3×1 Array{Float64,2}:\n",
       " 7.0\n",
       " 8.0\n",
       " 9.0"
      ]
     },
     "execution_count": 5,
     "metadata": {},
     "output_type": "execute_result"
    }
   ],
   "source": [
    "b"
   ]
  },
  {
   "cell_type": "code",
   "execution_count": 6,
   "metadata": {},
   "outputs": [
    {
     "data": {
      "text/plain": [
       "prodesc (generic function with 1 method)"
      ]
     },
     "execution_count": 6,
     "metadata": {},
     "output_type": "execute_result"
    }
   ],
   "source": [
    "#Se retoma la función que efectúa el producto escalar.\n",
    "function prodesc(a::Array,b::Array)\n",
    "    if size(a)==size(b)\n",
    "        R=zeros(a)\n",
    "        for i in eachindex(R)\n",
    "            R[i]=a[i]*b[i]\n",
    "        end\n",
    "        sum(R)\n",
    "    elseif size(a)[1]==size(b)[2] && size(a)[2]==size(b)[1]\n",
    "        R=zeros(a)\n",
    "        for i in eachindex(R)\n",
    "            R[i]=a[i]*b[i]\n",
    "        end\n",
    "        sum(R)\n",
    "    else\n",
    "        print(\"El tamaño de los vectores no es compatible\")\n",
    "    end\n",
    "end"
   ]
  },
  {
   "cell_type": "code",
   "execution_count": 7,
   "metadata": {},
   "outputs": [
    {
     "data": {
      "text/plain": [
       "multmatvect (generic function with 1 method)"
      ]
     },
     "execution_count": 7,
     "metadata": {},
     "output_type": "execute_result"
    }
   ],
   "source": [
    "#Se define la función de multiplicación de una matriz por un vector (en ese orden estristamente); una matriz de mxn y un vector de nx1 para que sean de tamaño compatible.\n",
    "#Dentro se comienza por corroborar la compatibilidad de tamaño; es decir, que el número de columnas de la matriz sea igual al número de renglones del vector vertical (columna). Luego se crea un arreglo de ceros (R), especificamente un vector que tienes de tamaño: el mismo número de renglones que la matriz y el mismo núemro de columnas que el vector;es decir 1. Después se llena el vector R con un ciclo for, mediante el uso de la función prodesc() (creada en un ejercicio anterior), el producto escalar se realiza entre cada renglón de la matriz de entrada con la única columna del vector de entrada. Para indicar el renglón de una matriz se expresa como A[i,:] donde i es el número de renglón deseado y : hace referencia a todos los elementos en ese índice (renglón).\n",
    "#Adicionalmente se incluye una advertencia cuando exista el caso de que el tamño de la matriz y el vector no son compatibles.\n",
    "function multmatvect(A::Array,b::Array)\n",
    "    if size(A)[2]==size(b)[1]\n",
    "        R=zeros(size(A)[1],size(b)[2])\n",
    "        for i in 1:size(A)[1]\n",
    "            R[i,size(b)[2]]=prodesc(A[i,:],b[:,size(b)[2]])\n",
    "        end\n",
    "        R\n",
    "    else\n",
    "        print(\"No son de tamaño compatible\")\n",
    "    end\n",
    "end"
   ]
  },
  {
   "cell_type": "code",
   "execution_count": 8,
   "metadata": {},
   "outputs": [
    {
     "data": {
      "text/plain": [
       "2×1 Array{Float64,2}:\n",
       "  50.0\n",
       " 122.0"
      ]
     },
     "execution_count": 8,
     "metadata": {},
     "output_type": "execute_result"
    }
   ],
   "source": [
    "#Se prueba el algoritmo.\n",
    "multmatvect(A,b)"
   ]
  },
  {
   "cell_type": "markdown",
   "metadata": {},
   "source": [
    "b) Escribe un programa que realice el producto de dos matrices, una en $\\mathbb{R}^{mxn}$ y otra en $\\mathbb{R}^{nxp}$, el usuario debe insertar las entradas de las matrices. Apóyate en tu programa anterior, pues es una generalización de este.\n",
    "NOTA: En general, por convención cuando se multiplica una matriz por un vector se pone la matriz del lado izquierdo y el vector del lado derecho; y este a su vez se considera un vector columna."
   ]
  },
  {
   "cell_type": "markdown",
   "metadata": {},
   "source": [
    "Recordar que es importante que en la mutiplicación de matrices, para que esta sea posible, el número de columnas de la primera matriz debe ser igual al número de renglones de la segunda matriz, estrcitamente en ese orden para que la multiplicación esté definida. En este caso se puede representar de la siguiente forma.\n",
    "\n",
    "$$A_{mxn}= \n",
    " \\begin{bmatrix}\n",
    "  a_{1,1}&a_{1,2}&\\cdots&a_{1,n}\\\\\n",
    "  a_{2,1}&a_{2,2}&\\cdots&a_{2,n}\\\\\n",
    "  \\vdots&\\vdots&\\ddots&\\vdots\\\\\n",
    "  a_{m,1}&a_{m,2}&\\cdots&a_{m,n} \n",
    " \\end{bmatrix}\n",
    " B_{nxp}= \n",
    " \\begin{bmatrix}\n",
    "  b_{1,1}&b_{1,2}&\\cdots&b_{1,p}\\\\\n",
    "  b_{2,1}&b_{2,2}&\\cdots&b_{2,p}\\\\\n",
    "  \\vdots&\\vdots&\\ddots&\\vdots\\\\\n",
    "  b_{n,1}&b_{n,2}&\\cdots&a_{n,p} \n",
    " \\end{bmatrix}$$\n",
    " \n",
    " $$\\begin{bmatrix}\n",
    "  a_{1,1}&a_{1,2}&\\cdots&a_{1,n}\\\\\n",
    "  a_{2,1}&a_{2,2}&\\cdots&a_{2,n}\\\\\n",
    "  \\vdots&\\vdots&\\ddots&\\vdots\\\\\n",
    "  a_{m,1}&a_{m,2}&\\cdots&a_{m,n} \n",
    " \\end{bmatrix}\n",
    " \\begin{bmatrix}\n",
    "  b_{1,1}&b_{1,2}&\\cdots&b_{1,p}\\\\\n",
    "  b_{2,1}&b_{2,2}&\\cdots&b_{2,p}\\\\\n",
    "  \\vdots&\\vdots&\\ddots&\\vdots\\\\\n",
    "  b_{n,1}&b_{n,2}&\\cdots&a_{n,p} \n",
    " \\end{bmatrix}=\n",
    " \\begin{bmatrix}\n",
    "  A_{1\\,n}\\bullet B_{n\\,1}&A_{1\\,n}\\bullet B_{n\\,2}&\\cdots&A_{1\\,n}\\bullet B_{n\\,p}\\\\\n",
    "  A_{2\\,n}\\bullet B_{n\\,1}&A_{2\\,n}\\bullet B_{n\\,2}&\\cdots&A_{2\\,n}\\bullet B_{n\\,p}\\\\\n",
    "  \\vdots&\\vdots&\\ddots&\\vdots\\\\\n",
    "  A_{m\\,n}\\bullet B_{n\\,1}&A_{m\\,n}\\bullet B_{n\\,2}&\\cdots&A_{m\\,n}\\bullet B_{n\\,p} \n",
    " \\end{bmatrix}$$\n",
    " \n",
    " Donde la notación $A_{r\\,s}$ se refiere a la tupla que corresponde al renglón r y la columna s y $A_{r\\,s}\\bullet B_{s\\,t}$ el producto punto entre dos tuplas.\n",
    " "
   ]
  },
  {
   "cell_type": "code",
   "execution_count": 9,
   "metadata": {},
   "outputs": [],
   "source": [
    "#Se definen aquí los vectores para que luego sean escritos en un archivo, este paso sólo se hace con el propósito de que el archivo de datos se genere al mismo tiempo que se corre este cuaderno, pues de lo contrario se tendría que subir un archivo de texto extra, además del presente cuaderno. Sólo por cuestión de practicidad, pero el programa hace precisamente lo que se pide.\n",
    "MA=[5.0 8.0 6.0;9.0 3.0 2.0];\n",
    "MB=[7.0 2.0 1.0;5.0 4.0 1.0;2.0 6.0 1.0];"
   ]
  },
  {
   "cell_type": "code",
   "execution_count": 10,
   "metadata": {},
   "outputs": [],
   "source": [
    "#Se escriben los archivos que contienen las entradas de los vectores, cabe mencionar que aquí depende cómo se escriban los vectores, verticales u horizontales, pue sasí los leerá el comando, por eso se debe ser cuidadoso con la colocación del símbolo separador(\"|\").\n",
    "writedlm(\"A.txt\",MA,'|')\n",
    "writedlm(\"B.txt\",MB,'|')"
   ]
  },
  {
   "cell_type": "code",
   "execution_count": 11,
   "metadata": {},
   "outputs": [],
   "source": [
    "#Se leen los datos provenientes de los archivos.\n",
    "A=readdlm(\"A.txt\",'|')\n",
    "B=readdlm(\"b.txt\",'|');"
   ]
  },
  {
   "cell_type": "code",
   "execution_count": 12,
   "metadata": {},
   "outputs": [
    {
     "data": {
      "text/plain": [
       "2×3 Array{Float64,2}:\n",
       " 5.0  8.0  6.0\n",
       " 9.0  3.0  2.0"
      ]
     },
     "execution_count": 12,
     "metadata": {},
     "output_type": "execute_result"
    }
   ],
   "source": [
    "A"
   ]
  },
  {
   "cell_type": "code",
   "execution_count": 13,
   "metadata": {},
   "outputs": [
    {
     "data": {
      "text/plain": [
       "3×3 Array{Float64,2}:\n",
       " 7.0  2.0  1.0\n",
       " 5.0  4.0  1.0\n",
       " 2.0  6.0  1.0"
      ]
     },
     "execution_count": 13,
     "metadata": {},
     "output_type": "execute_result"
    }
   ],
   "source": [
    "B"
   ]
  },
  {
   "cell_type": "code",
   "execution_count": 14,
   "metadata": {},
   "outputs": [
    {
     "data": {
      "text/plain": [
       "multmat (generic function with 1 method)"
      ]
     },
     "execution_count": 14,
     "metadata": {},
     "output_type": "execute_result"
    }
   ],
   "source": [
    "#Se define la función para la multiplicación de matrices.\n",
    "#Dentro se comienza por corroborar que los tamaños de las matrices son compatibles; esto es, la primera matriz debe tener el mismo número de columnas que el número de renglones de la segunda matriz. Si esto se cumple, se crea una matriz de ceros (R) que tiene el mismo número de renglones que la primera matriz y el mismo número de columnas que la segunda matriz. Después se llena el vector R con un ciclo for, mediante el uso de la función prodesc() (creada en un ejercicio anterior), el producto escalar se realiza entre cada renglón de la primera matriz de entrada con cada columna de la segunda matriz de entrada. Para indicar el renglón de la primera matriz se expresa como A[i,:] donde i es el número de renglón deseado y \":\" hace referencia a todos los elementos en ese índice (renglón). Mientras que B[:,j] se refiere a la columna j de la segunda matriz.\n",
    "#Adicionalmente se incluye una advertencia cuando exista el caso de que el tamño de la matriz y el vector no son compatibles.\n",
    "function multmat(A::Array,B::Array)\n",
    "    if size(A)[2]==size(B)[1]\n",
    "        R=zeros(size(A)[1],size(B)[2])\n",
    "        for i in 1:size(A)[1]\n",
    "            for j in 1:size(B)[2]\n",
    "                R[i,j]=prodesc(A[i,:],B[:,j])\n",
    "            end\n",
    "        end\n",
    "        R\n",
    "    else\n",
    "        print(\"No son de tamaño compatible\")\n",
    "    end\n",
    "end"
   ]
  },
  {
   "cell_type": "code",
   "execution_count": 15,
   "metadata": {},
   "outputs": [
    {
     "data": {
      "text/plain": [
       "2×3 Array{Float64,2}:\n",
       " 87.0  78.0  19.0\n",
       " 82.0  42.0  14.0"
      ]
     },
     "execution_count": 15,
     "metadata": {},
     "output_type": "execute_result"
    }
   ],
   "source": [
    "#Se prueba el algoritmo.\n",
    "multmat(A,B)"
   ]
  }
 ],
 "metadata": {
  "kernelspec": {
   "display_name": "Julia 0.6.0",
   "language": "julia",
   "name": "julia-0.6"
  },
  "language_info": {
   "file_extension": ".jl",
   "mimetype": "application/julia",
   "name": "julia",
   "version": "0.6.0"
  }
 },
 "nbformat": 4,
 "nbformat_minor": 2
}
