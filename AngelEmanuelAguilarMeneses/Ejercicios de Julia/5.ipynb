{
 "cells": [
  {
   "cell_type": "markdown",
   "metadata": {},
   "source": [
    "\n",
    " $ax²+bx+c$ Esta es la expresión para un polinomio de segundo grado\n",
    " \n",
    " $x=\\dfrac{-b_-^+\\sqrt(b²-4ac)}{2a}$ Esta es la fórmula general que sirve  para calcular el valor de x"
   ]
  },
  {
   "cell_type": "code",
   "execution_count": 1,
   "metadata": {},
   "outputs": [
    {
     "data": {
      "text/plain": [
       "rtpoli (generic function with 1 method)"
      ]
     },
     "execution_count": 1,
     "metadata": {},
     "output_type": "execute_result"
    }
   ],
   "source": [
    "\n",
    "function rtpoli(a,b,c)#Creamos la función rtpoli\n",
    "    disc=(b^2-4*a*c)#Este es el discriminante\n",
    "    if disc<0#En caso de que el discriminante sea menor a cero nos deberá regresar un número complejo\n",
    "        x_i=(-b+sqrt(complex(disc)))/(2*a)\n",
    "        x_r=(-b-sqrt(complex(disc)))/(2*a)\n",
    "        println(\"$x_i|$x_r Raices complejas\")#Nos regresará las raices y nos dirá que son complejas\n",
    "        elseif disc==0#En caso de que el discrimnante sea igual a cero solo habrá una solución\n",
    "            x=-b/2*a\n",
    "        println(\"$x\")\n",
    "        else disc>0#En caso de que el discrimnate sea positivo nos regresrá las raices de números reales\n",
    "            x_1=(-b+sqrt(disc))/2*a\n",
    "            x_2=(-b-sqrt(disc))/2*a\n",
    "            println(\"$x_1|$x_2 Raices reales\")#Nos regresrá las raices y nos dira si son reales\n",
    "        end\n",
    "    end\n"
   ]
  },
  {
   "cell_type": "markdown",
   "metadata": {},
   "source": [
    "Ahora vamos a calular las raices de los siguientes polinomios cuadraticos\n",
    "\n",
    "$x²+2x+1$\n",
    "\n",
    "$2x²+7x+12$\n",
    "\n",
    "$-4x²+5x-12$\n",
    "\n",
    "$2x²-24$"
   ]
  },
  {
   "cell_type": "code",
   "execution_count": 2,
   "metadata": {},
   "outputs": [
    {
     "name": "stdout",
     "output_type": "stream",
     "text": [
      "-1.0\n"
     ]
    }
   ],
   "source": [
    "rtpoli(1,2,1)#Pobamos la funcion para el discriminate igual a cero"
   ]
  },
  {
   "cell_type": "code",
   "execution_count": 3,
   "metadata": {},
   "outputs": [
    {
     "name": "stdout",
     "output_type": "stream",
     "text": [
      "-1.75 + 1.713913650100261im|-1.75 - 1.713913650100261im Raices complejas\n"
     ]
    }
   ],
   "source": [
    "rtpoli(2,7,12)#Pobamos la función para el discriminate menor a cero"
   ]
  },
  {
   "cell_type": "code",
   "execution_count": 4,
   "metadata": {},
   "outputs": [
    {
     "name": "stdout",
     "output_type": "stream",
     "text": [
      "0.625 - 1.6153559979150107im|0.625 + 1.6153559979150107im Raices complejas\n"
     ]
    }
   ],
   "source": [
    "rtpoli(-4,5,-12)"
   ]
  },
  {
   "cell_type": "code",
   "execution_count": 5,
   "metadata": {},
   "outputs": [
    {
     "name": "stdout",
     "output_type": "stream",
     "text": [
      "13.856406460551018|-13.856406460551018 Raices reales\n"
     ]
    }
   ],
   "source": [
    "rtpoli(2,0,-24)#Probamos la función para el discriminate mayor a cero"
   ]
  }
 ],
 "metadata": {
  "kernelspec": {
   "display_name": "Julia 0.6.0",
   "language": "julia",
   "name": "julia-0.6"
  },
  "language_info": {
   "file_extension": ".jl",
   "mimetype": "application/julia",
   "name": "julia",
   "version": "0.6.0"
  }
 },
 "nbformat": 4,
 "nbformat_minor": 2
}
