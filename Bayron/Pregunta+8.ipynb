{
 "cells": [
  {
   "cell_type": "markdown",
   "metadata": {},
   "source": [
    "a) Calcular el producto interior (producto punto) de dos vectores en $ R^{3} $ el usuario debe insertar las entradas de los vectores. "
   ]
  },
  {
   "cell_type": "code",
   "execution_count": 3,
   "metadata": {},
   "outputs": [
    {
     "data": {
      "text/plain": [
       "prodcruz3 (generic function with 1 method)"
      ]
     },
     "execution_count": 3,
     "metadata": {},
     "output_type": "execute_result"
    }
   ],
   "source": [
    "function prodcruz3(A,B)\n",
    "    if length(A)==length(B)==3 #Necesitamos que los vectores sean del mismo tamaño\n",
    "        R = 0 #aqui se guardara el resultado\n",
    "        for i in 1:length(A) #Se indica que las operaciones se hagan a cada numero del vector\n",
    "            R=R+(A[i]*B[i]) #Aqui se multiplicara cada elemento de los vectores y se le dara el valor de r y asi hasta que termine el ciclo\n",
    "        end\n",
    "        print(R) #Imprime el resultado\n",
    "    else\n",
    "        println(\"Vectores de distinta dimensión\") #Solo si los vectores son de distinto tamaño\n",
    "    end\n",
    "end"
   ]
  },
  {
   "cell_type": "code",
   "execution_count": 4,
   "metadata": {},
   "outputs": [
    {
     "data": {
      "text/plain": [
       "3-element Array{Int64,1}:\n",
       " 8\n",
       " 4\n",
       " 6"
      ]
     },
     "execution_count": 4,
     "metadata": {},
     "output_type": "execute_result"
    }
   ],
   "source": [
    "A=[8,4,6]"
   ]
  },
  {
   "cell_type": "code",
   "execution_count": 5,
   "metadata": {},
   "outputs": [
    {
     "data": {
      "text/plain": [
       "3-element Array{Int64,1}:\n",
       " 4\n",
       " 7\n",
       " 5"
      ]
     },
     "execution_count": 5,
     "metadata": {},
     "output_type": "execute_result"
    }
   ],
   "source": [
    "B=[4,7,5]"
   ]
  },
  {
   "cell_type": "code",
   "execution_count": 6,
   "metadata": {},
   "outputs": [
    {
     "name": "stdout",
     "output_type": "stream",
     "text": [
      "90"
     ]
    }
   ],
   "source": [
    "prodcruz3(A,B)"
   ]
  },
  {
   "cell_type": "markdown",
   "metadata": {},
   "source": [
    "b) Escribe  un programa que realice el producto interior (producto punto) de dos vectores en $ R^{n} $ las entradas de los vectores deben leerse de un archivo. (Recuerda nuevamente que esto solo tiene sentido si los vectores son de la misma dimensión)."
   ]
  },
  {
   "cell_type": "code",
   "execution_count": 16,
   "metadata": {},
   "outputs": [
    {
     "data": {
      "text/plain": [
       "prodcruzn (generic function with 1 method)"
      ]
     },
     "execution_count": 16,
     "metadata": {},
     "output_type": "execute_result"
    }
   ],
   "source": [
    "function prodcruzn(A,B)\n",
    "    if length(A)==length(B) #Comparamos los vectores para que sean del mismo tamaño\n",
    "        R=0.0 #Este sera el resultado\n",
    "        for i in 1:length(A) #Aqui realizara la operacion numero por numero\n",
    "            R=R+(A[i]*B[i]) #Aqui se multiplicara cada elemento de los vectores y se le dara el valor de r y asi hasta que termine el ciclo\n",
    "        end\n",
    "        print(R) #Imprime el resultado\n",
    "    else\n",
    "        println(\"Vectores de distinta dimensión\") #Solo si los vectores son de distinto tamaño\n",
    "    end\n",
    "end"
   ]
  },
  {
   "cell_type": "code",
   "execution_count": 17,
   "metadata": {},
   "outputs": [
    {
     "data": {
      "text/plain": [
       "6-element Array{Int64,1}:\n",
       " 8\n",
       " 7\n",
       " 4\n",
       " 5\n",
       " 6\n",
       " 1"
      ]
     },
     "execution_count": 17,
     "metadata": {},
     "output_type": "execute_result"
    }
   ],
   "source": [
    "u=[8,7,4,5,6,1]"
   ]
  },
  {
   "cell_type": "code",
   "execution_count": 24,
   "metadata": {},
   "outputs": [
    {
     "name": "stdout",
     "output_type": "stream",
     "text": [
      "136.0"
     ]
    }
   ],
   "source": [
    "prodcruzn(u,i)"
   ]
  },
  {
   "cell_type": "code",
   "execution_count": 23,
   "metadata": {},
   "outputs": [
    {
     "data": {
      "text/plain": [
       "6-element Array{Int64,1}:\n",
       " 7\n",
       " 4\n",
       " 1\n",
       " 5\n",
       " 6\n",
       " 2"
      ]
     },
     "execution_count": 23,
     "metadata": {},
     "output_type": "execute_result"
    }
   ],
   "source": [
    "u=[7,4,1,5,6,2]"
   ]
  },
  {
   "cell_type": "code",
   "execution_count": null,
   "metadata": {},
   "outputs": [],
   "source": []
  }
 ],
 "metadata": {
  "kernelspec": {
   "display_name": "Julia 0.6.0",
   "language": "julia",
   "name": "julia-0.6"
  },
  "language_info": {
   "file_extension": ".jl",
   "mimetype": "application/julia",
   "name": "julia",
   "version": "0.6.0"
  }
 },
 "nbformat": 4,
 "nbformat_minor": 2
}
