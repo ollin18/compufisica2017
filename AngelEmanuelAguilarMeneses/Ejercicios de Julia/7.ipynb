{
 "cells": [
  {
   "cell_type": "code",
   "execution_count": 1,
   "metadata": {},
   "outputs": [
    {
     "data": {
      "text/plain": [
       "sumvec3 (generic function with 1 method)"
      ]
     },
     "execution_count": 1,
     "metadata": {},
     "output_type": "execute_result"
    }
   ],
   "source": [
    "function sumvec3(u,v)\n",
    "    if length(u)==length(v)==3#El tamaño de u y v debe de ser 3\n",
    "        P=zeros(length(u))#Hacemos un contador para almacenar el resultado\n",
    "        for i ∈ 1:length(u)#Para cada entrada\n",
    "            c=u[i]+v[i]#Se realiza la suma de vectores\n",
    "            P[i]=c#Le asignamos el resultado a el contador\n",
    "        end\n",
    "    end\n",
    "    print(P)#Imprimimos el resultado\n",
    "end"
   ]
  },
  {
   "cell_type": "code",
   "execution_count": null,
   "metadata": {},
   "outputs": [],
   "source": [
    "u=[1,2,8]#Definimos un arreglo"
   ]
  },
  {
   "cell_type": "code",
   "execution_count": null,
   "metadata": {},
   "outputs": [],
   "source": [
    "v=[3,0,-1]"
   ]
  },
  {
   "cell_type": "code",
   "execution_count": null,
   "metadata": {},
   "outputs": [],
   "source": [
    "sumvec3(u,v)#Probamos la función"
   ]
  },
  {
   "cell_type": "code",
   "execution_count": null,
   "metadata": {},
   "outputs": [],
   "source": [
    "function sumvecn(u,v)\n",
    "    if length(u)==length(v)#El tamaño de los vectores debe ser igual\n",
    "        P=zeros(length(u))#Hacemos un contador que almacene los datos\n",
    "        for i ∈ 1:length(u)#Para cada entrada de u\n",
    "            c=u[i]+v[i]#Se realiza la suma de vectores\n",
    "            P[i]=c#Le asignamos el resultado a el contador\n",
    "        end\n",
    "    end\n",
    "    print(P)#Imprimimos el resultado\n",
    "end"
   ]
  },
  {
   "cell_type": "code",
   "execution_count": null,
   "metadata": {},
   "outputs": [],
   "source": [
    "A=[2,-5,8,-9]"
   ]
  },
  {
   "cell_type": "code",
   "execution_count": null,
   "metadata": {},
   "outputs": [],
   "source": [
    "B=[2,0,-2,9]"
   ]
  },
  {
   "cell_type": "code",
   "execution_count": null,
   "metadata": {},
   "outputs": [],
   "source": [
    "sumvecn(A,B)#Probamos la función"
   ]
  }
 ],
 "metadata": {
  "kernelspec": {
   "display_name": "Julia 0.5.2",
   "language": "julia",
   "name": "julia-0.5"
  },
  "language_info": {
   "file_extension": ".jl",
   "mimetype": "application/julia",
   "name": "julia",
   "version": "0.5.2"
  }
 },
 "nbformat": 4,
 "nbformat_minor": 2
}
