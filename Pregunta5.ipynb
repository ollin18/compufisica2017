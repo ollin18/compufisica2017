{
 "cells": [
  {
   "cell_type": "code",
   "execution_count": 5,
   "metadata": {},
   "outputs": [
    {
     "name": "stderr",
     "output_type": "stream",
     "text": [
      "WARNING: Method definition EcCuad(Any, Any, Any) in module Main at In[4]:2 overwritten at In[5]:2.\n"
     ]
    },
    {
     "data": {
      "text/plain": [
       "EcCuad (generic function with 1 method)"
      ]
     },
     "execution_count": 5,
     "metadata": {},
     "output_type": "execute_result"
    }
   ],
   "source": [
    "function EcCuad(a,b,c)\n",
    "    x1=0.0 #Establecemos las dos soluciones de la ecuación cuadratica, denominadas x1,x2\n",
    "    x2=0.0\n",
    "    if (b^2) - 4a*c >=0 #Le pedimos que si ese resultado es positivo o 0 efectue los calculos de abajo\n",
    "        x1=x1+(-b+sqrt((b^2) - 4a*c))/2a #Caso para x1\n",
    "        x2=x2+(-b-sqrt((b^2) - 4a*c))/2a #Caso para x2\n",
    "    end\n",
    "    if (b^2) - 4a*c < 0 #Le pedimos que si ese resultado es negativo efectue los calculos de abajo\n",
    "        x1=x1+(-b+sqrt(complex((b^2) - 4a*c)))/2a #Caso para x1\n",
    "        x2=x2+(-b-sqrt(complex((b^2) - 4a*c)))/2a #Caso para x2\n",
    "    end\n",
    "    println(x1, x2) #Le pedimos que nos devuelva x1,x2\n",
    "end     "
   ]
  },
  {
   "cell_type": "code",
   "execution_count": 31,
   "metadata": {},
   "outputs": [
    {
     "name": "stdout",
     "output_type": "stream",
     "text": [
      "-0.25 + 1.1989578808281798im-0.25 - 1.1989578808281798im\n"
     ]
    }
   ],
   "source": [
    "EcCuad(2,1,3)"
   ]
  },
  {
   "cell_type": "code",
   "execution_count": 13,
   "metadata": {},
   "outputs": [
    {
     "name": "stdout",
     "output_type": "stream",
     "text": [
      "3.0-2.0\n"
     ]
    }
   ],
   "source": [
    "EcCuad(1,-1,-6)"
   ]
  },
  {
   "cell_type": "code",
   "execution_count": null,
   "metadata": {},
   "outputs": [],
   "source": []
  }
 ],
 "metadata": {
  "kernelspec": {
   "display_name": "Julia 0.5.2",
   "language": "julia",
   "name": "julia-0.5"
  },
  "language_info": {
   "file_extension": ".jl",
   "mimetype": "application/julia",
   "name": "julia",
   "version": "0.5.2"
  }
 },
 "nbformat": 4,
 "nbformat_minor": 2
}
