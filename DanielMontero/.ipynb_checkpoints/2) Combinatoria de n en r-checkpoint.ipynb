{
 "cells": [
  {
   "cell_type": "markdown",
   "metadata": {},
   "source": [
    "# 2) Combinatoria de n en r"
   ]
  },
  {
   "cell_type": "markdown",
   "metadata": {},
   "source": [
    "La función factorial creada con anterioridad se vuelve a aplicar para la nueva función:"
   ]
  },
  {
   "cell_type": "code",
   "execution_count": 4,
   "metadata": {},
   "outputs": [
    {
     "data": {
      "text/plain": [
       "Factorial (generic function with 1 method)"
      ]
     },
     "execution_count": 4,
     "metadata": {},
     "output_type": "execute_result"
    }
   ],
   "source": [
    "function Factorial(N) #Se define que se hará una función\n",
    "    fact=1               #La variable inicia como uno (si N=0, fact=1)\n",
    "    for i ∈ 1:N          #esto define el numero de veces que se repite el ciclo\n",
    "        fact*=i          #Multiplica el valor fact anterior por la i siguiente\n",
    "        end              #termina el ciclo for \n",
    "    return(fact)         #imprime el número resultante en pantalla y sigue funcionando como número\n",
    "    end                  #Finaliza la función"
   ]
  },
  {
   "cell_type": "markdown",
   "metadata": {},
   "source": [
    "## Combinatoria\n",
    "La combinatoria de n en r se calcula con la siguiente fórmula matemática: $$\\textbf Cnr= \\frac{n!}{(n-r)!r!}\n",
    "$$\n",
    "Para esta función se debe pedir que el valor de n sea mayor o igual que el valor de r para que (n-r) sea un natural. Y usando la función factorial antes creada se inserta como parte de la función, dándo valor a la nueva variable \"c\" para la combinatoria. Si se cumple que n es mayor o igual que r entonces se verá el resultado de la combinatoria, sino un mensaje se verá en pantalla indicando cual fue el error al introducir los valores de la función."
   ]
  },
  {
   "cell_type": "code",
   "execution_count": 41,
   "metadata": {},
   "outputs": [
    {
     "data": {
      "text/plain": [
       "combinatoria (generic function with 1 method)"
      ]
     },
     "execution_count": 41,
     "metadata": {},
     "output_type": "execute_result"
    }
   ],
   "source": [
    "function combinatoria(n,r)                          #Se define que función se creará\n",
    "    c=Factorial(n)/(Factorial(n-r)*Factorial(r))    #Usando la función factorial antes creada se hace la formulación matemática \n",
    "if n >= r                                           #Debe ser mayor n, pues la función factorial aplica para números naturales\n",
    "    println(c)                                      #Da el resultado en la variable c que se obutuvo de la formulación \n",
    "        else                                        #Alternativa si no se cumple la regla\n",
    "        println(\"n debe ser mayor o igual que r\")   #En pantalla aparece el mensaje\n",
    "        end                                         #Fin del \"if\"\n",
    "    end                                             #Finaliza la función"
   ]
  },
  {
   "cell_type": "code",
   "execution_count": 40,
   "metadata": {},
   "outputs": [
    {
     "name": "stdout",
     "output_type": "stream",
     "text": [
      "35.0\n"
     ]
    }
   ],
   "source": [
    "combinatoria(7,3)                                   #Prueba de la función"
   ]
  }
 ],
 "metadata": {
  "kernelspec": {
   "display_name": "Julia 0.6.0",
   "language": "julia",
   "name": "julia-0.6"
  },
  "language_info": {
   "file_extension": ".jl",
   "mimetype": "application/julia",
   "name": "julia",
   "version": "0.6.0"
  }
 },
 "nbformat": 4,
 "nbformat_minor": 2
}
