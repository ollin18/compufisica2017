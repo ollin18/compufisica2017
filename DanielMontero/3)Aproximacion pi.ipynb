{
 "cells": [
  {
   "cell_type": "markdown",
   "metadata": {},
   "source": [
    "# 3) Aproximación de π"
   ]
  },
  {
   "cell_type": "markdown",
   "metadata": {},
   "source": [
    "Se aplica nuevamente la función de potencia antes creada para que se pueda usar en la aproximación a π"
   ]
  },
  {
   "cell_type": "code",
   "execution_count": 6,
   "metadata": {},
   "outputs": [
    {
     "data": {
      "text/plain": [
       "Potencia (generic function with 1 method)"
      ]
     },
     "execution_count": 6,
     "metadata": {},
     "output_type": "execute_result"
    }
   ],
   "source": [
    "function Potencia(W,Z)     #Se define la función Potencia dependiente de dos variables (coeficiente y potencia)\n",
    "R=1                        #Se define la variable R como 1 para multiplicarse después\n",
    "    for i ∈ 1:Z            #Se inicia un ciclo for que ocurre el número de veces de la potencia\n",
    "    R=R*W                  #La variable R es multiplicada opor el coeficiente\n",
    "        end                #Termina el ciclo for\n",
    "return(R)                  #El resultado epasa a pantalla\n",
    "    end                    #Finaliza la función"
   ]
  },
  {
   "cell_type": "markdown",
   "metadata": {},
   "source": [
    "## Aproximando π \n",
    "Para aproximar el valor de π se usa la siguiente expresión matemática: \n",
    "$$\n",
    "        \\sum_{i=0}^{\\infty} \\dfrac{(-1)^n}{2n+1}\n",
    "$$\n",
    "Para la función se usa un ciclo for, usado para ir sumando valores a una variable que se define como 0 al inicio. El número de veces que se suma la expresión a la variable es el número insertado a la función; si el número es mayor, la proximación será mejor. Al terminar el ciclo for, el resultado que está en la variable se multiplica por 4, pues la aproximación que obtuvimos era para π/4. Este valor es la aproximación de π obtenida y el valor se muestra en pantalla."
   ]
  },
  {
   "cell_type": "code",
   "execution_count": 34,
   "metadata": {},
   "outputs": [
    {
     "data": {
      "text/plain": [
       "AproximacionPI (generic function with 1 method)"
      ]
     },
     "execution_count": 34,
     "metadata": {},
     "output_type": "execute_result"
    }
   ],
   "source": [
    "function AproximacionPI(n)     #Se define la función por crear\n",
    "    p=0                        #Se crea una variable con valor inicial de 0\n",
    "     for i ∈ 0:n               #Inicia un ciclo for que se repetirá el número de veces de n\n",
    "p=p+Potencia(-1,i)/(2*i+1)     #La variable cambia por ella misma más la formulación de la aproximación a π/4\n",
    "        end                    #Termina el ciclo for\n",
    "    return(p)*4                #La función regresa el número obtenido en la variable p y lo multiplica por 4 para tener π\n",
    "    end                        #Finaliza la función"
   ]
  },
  {
   "cell_type": "code",
   "execution_count": 41,
   "metadata": {},
   "outputs": [
    {
     "data": {
      "text/plain": [
       "3.141909409996166"
      ]
     },
     "execution_count": 41,
     "metadata": {},
     "output_type": "execute_result"
    }
   ],
   "source": [
    "AproximacionPI(3156)              #Prueba de la función"
   ]
  }
 ],
 "metadata": {
  "kernelspec": {
   "display_name": "Julia 0.6.0",
   "language": "julia",
   "name": "julia-0.6"
  },
  "language_info": {
   "file_extension": ".jl",
   "mimetype": "application/julia",
   "name": "julia",
   "version": "0.6.0"
  }
 },
 "nbformat": 4,
 "nbformat_minor": 2
}
