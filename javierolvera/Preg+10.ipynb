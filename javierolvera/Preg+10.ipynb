{
 "cells": [
  {
   "cell_type": "markdown",
   "metadata": {},
   "source": [
    "a)Este programa multiplica una matriz $Rnxm$ por un vector $Rn$"
   ]
  },
  {
   "cell_type": "code",
   "execution_count": 3,
   "metadata": {},
   "outputs": [
    {
     "data": {
      "text/plain": [
       "prodRn (generic function with 1 method)"
      ]
     },
     "execution_count": 3,
     "metadata": {},
     "output_type": "execute_result"
    }
   ],
   "source": [
    "function  prodRn( u , v )\n",
    "    if  length(u) ==  length(v) #Para multimplicar una matriz por un vector se puede reutilizar el código del producto punto \n",
    "        p=0\n",
    "        for i ∈ eachindex(u)\n",
    "           p=u[i]*v[i]+p\n",
    "        end\n",
    "        #print(\"El producto de los vectores es: $p\")\n",
    "        return(p)\n",
    "    else\n",
    "        print(\"¡Error! Distintas dimensiones!\")\n",
    "    end\n",
    "end"
   ]
  },
  {
   "cell_type": "code",
   "execution_count": 4,
   "metadata": {},
   "outputs": [
    {
     "data": {
      "text/plain": [
       "matxvect (generic function with 1 method)"
      ]
     },
     "execution_count": 4,
     "metadata": {},
     "output_type": "execute_result"
    }
   ],
   "source": [
    "function matxvect(A,B)   #Crea la función para multiplicar una matriz por un vector\n",
    "    if size(A)[2] ==  length(B)  #Se requiere que coincidan el número de columnas de A con el número de renglones de B \n",
    "        R=A[:,1]               #Declara un vector respuesta del tamaño de una columna de A\n",
    "        for i ∈ 1:size(A)[1]   #Nos da el número de ciclos según el número de filas de A\n",
    "            R[i]=prodRn(A[i,:],B) #Nos va gnerando cada elemento del vector R, llamando al producto punto de una fila de A por B\n",
    "        end\n",
    "        #print(\"El producto de la matriz A por el vector B es: $R\")\n",
    "        return(R)\n",
    "    else\n",
    "       print(\"¡Error! Distintas dimensiones!\")\n",
    "    end\n",
    "end     \n",
    "        "
   ]
  },
  {
   "cell_type": "code",
   "execution_count": 5,
   "metadata": {},
   "outputs": [],
   "source": [
    "A=[6 3; 2 4; 5 6]\n",
    "B=[6,2];\n"
   ]
  },
  {
   "cell_type": "code",
   "execution_count": 6,
   "metadata": {},
   "outputs": [
    {
     "data": {
      "text/plain": [
       "3-element Array{Int64,1}:\n",
       " 42\n",
       " 20\n",
       " 42"
      ]
     },
     "execution_count": 6,
     "metadata": {},
     "output_type": "execute_result"
    }
   ],
   "source": [
    "matxvect(A,B)"
   ]
  },
  {
   "cell_type": "code",
   "execution_count": 7,
   "metadata": {},
   "outputs": [
    {
     "data": {
      "text/plain": [
       "matxmat (generic function with 1 method)"
      ]
     },
     "execution_count": 7,
     "metadata": {},
     "output_type": "execute_result"
    }
   ],
   "source": [
    "function matxmat(A,B)   #Genera una función para calcular el producto de matrices usando el producto de matriz por vector\n",
    "    if size(A)[2]==size(B)[1] #Verifica que las dimensiones sean correctas\n",
    "        R=matxvect(A,B[:,1]) #Genera la primera columna de la respuesta\n",
    "        for j ∈ 2:size(B)[2] #Genera las siguientes iteraciones según el número de columnas de B\n",
    "            R=hcat(R,matxvect(A,B[:,j])) #Genera las siguientes columnas y las concatena a R usando la multiplicación de matriz por vector\n",
    "            end\n",
    "        print(R)\n",
    "    else\n",
    "       print(\"¡Error! Distintas dimensiones!\")\n",
    "    end\n",
    "end"
   ]
  },
  {
   "cell_type": "code",
   "execution_count": 8,
   "metadata": {},
   "outputs": [],
   "source": [
    "A=[1 0;0 2;3 0]\n",
    "B=[3 0 2 3; 0 1 0 0];"
   ]
  },
  {
   "cell_type": "code",
   "execution_count": 9,
   "metadata": {},
   "outputs": [
    {
     "name": "stdout",
     "output_type": "stream",
     "text": [
      "[3 0 2 3; 0 2 0 0; 9 0 6 9]"
     ]
    }
   ],
   "source": [
    "matxmat(A,B)"
   ]
  }
 ],
 "metadata": {
  "kernelspec": {
   "display_name": "Julia 0.6.0",
   "language": "julia",
   "name": "julia-0.6"
  },
  "language_info": {
   "file_extension": ".jl",
   "mimetype": "application/julia",
   "name": "julia",
   "version": "0.6.0"
  }
 },
 "nbformat": 4,
 "nbformat_minor": 2
}
