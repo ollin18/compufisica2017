{
 "cells": [
  {
   "cell_type": "code",
   "execution_count": 51,
   "metadata": {},
   "outputs": [
    {
     "name": "stderr",
     "output_type": "stream",
     "text": [
      "WARNING: Method definition Sumavectoresr3(Any, Any) in module Main at In[42]:2 overwritten at In[51]:2.\n"
     ]
    },
    {
     "data": {
      "text/plain": [
       "Sumavectoresr3 (generic function with 1 method)"
      ]
     },
     "execution_count": 51,
     "metadata": {},
     "output_type": "execute_result"
    }
   ],
   "source": [
    "function Sumavectoresr3(u,v)\n",
    "    if length(u)==length(v)==3 #Aquí le pedimos que forzosamente el tamaño de ambos vectores sea 3\n",
    "        p= Array{Float64}(length(u)) #creamos un arreglo donde guardaremos el resultado de la suma\n",
    "        for i ∈ eachindex(u) #Aclaramos que las operaciones a seguir son renglon a renglon\n",
    "            p[i]=(u[i]+v[i]) #Aqui se dice que a cada elemento de p le correspondera la suma de dos elementos en la misma posición de u y v\n",
    "        end\n",
    "        print(p) #pedimos que nos devuelva p\n",
    "    else\n",
    "        print(\"Tus vectores son de diferente tamaño\") #pedimos que nos regrese esta respuesta si los vectores tienen diferente dimensión\n",
    "    end\n",
    "end"
   ]
  },
  {
   "cell_type": "code",
   "execution_count": 52,
   "metadata": {},
   "outputs": [
    {
     "data": {
      "text/plain": [
       "3-element Array{Int64,1}:\n",
       " 4\n",
       " 5\n",
       " 6"
      ]
     },
     "execution_count": 52,
     "metadata": {},
     "output_type": "execute_result"
    }
   ],
   "source": [
    "u=[1,2,3]\n",
    "v=[4,5,6]"
   ]
  },
  {
   "cell_type": "code",
   "execution_count": 53,
   "metadata": {},
   "outputs": [
    {
     "name": "stdout",
     "output_type": "stream",
     "text": [
      "[5.0,7.0,9.0]"
     ]
    }
   ],
   "source": [
    "Sumavectoresr3(u,v)"
   ]
  },
  {
   "cell_type": "code",
   "execution_count": 54,
   "metadata": {},
   "outputs": [
    {
     "name": "stderr",
     "output_type": "stream",
     "text": [
      "WARNING: Method definition Sumavectores(Any, Any) in module Main at In[46]:2 overwritten at In[54]:2.\n"
     ]
    },
    {
     "data": {
      "text/plain": [
       "Sumavectores (generic function with 1 method)"
      ]
     },
     "execution_count": 54,
     "metadata": {},
     "output_type": "execute_result"
    }
   ],
   "source": [
    "function Sumavectores(u,v)\n",
    "    if length(u)==length(v) #Le pedimos que la dimensión de u sea igual a la de v\n",
    "        p= Array{Float64}(length(v)) #Creamos un arreglo que guardará la suma de vectores\n",
    "        for i ∈ eachindex(u) #Aclaramos que las operaciones que siguen seran aplicadas elemento a elemento\n",
    "            p[i]=(u[i]+v[i]) #Cada elemento de p será igual a la suma de cada elemento de u cno cada elemento de v\n",
    "        end\n",
    "        print(p) #Le pedimos que regrese p\n",
    "    else\n",
    "        print(\"Tus vectores son de diferente tamaño\") #Le pedimos que regrese esa respuesta si los vectores tienen diferente dimension\n",
    "    end\n",
    "end"
   ]
  },
  {
   "cell_type": "code",
   "execution_count": 55,
   "metadata": {},
   "outputs": [
    {
     "data": {
      "text/plain": [
       "4-element Array{Int64,1}:\n",
       " 3\n",
       " 5\n",
       " 6\n",
       " 8"
      ]
     },
     "execution_count": 55,
     "metadata": {},
     "output_type": "execute_result"
    }
   ],
   "source": [
    "a=[2,3,4,5]\n",
    "b=[3,5,6,8]"
   ]
  },
  {
   "cell_type": "code",
   "execution_count": 56,
   "metadata": {},
   "outputs": [
    {
     "name": "stdout",
     "output_type": "stream",
     "text": [
      "[5.0,8.0,10.0,13.0]"
     ]
    }
   ],
   "source": [
    "Sumavectores(a,b)"
   ]
  },
  {
   "cell_type": "code",
   "execution_count": null,
   "metadata": {},
   "outputs": [],
   "source": []
  }
 ],
 "metadata": {
  "kernelspec": {
   "display_name": "Julia 0.5.2",
   "language": "julia",
   "name": "julia-0.5"
  },
  "language_info": {
   "file_extension": ".jl",
   "mimetype": "application/julia",
   "name": "julia",
   "version": "0.5.2"
  }
 },
 "nbformat": 4,
 "nbformat_minor": 2
}
