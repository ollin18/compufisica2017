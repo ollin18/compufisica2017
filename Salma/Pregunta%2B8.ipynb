{
 "cells": [
  {
   "cell_type": "markdown",
   "metadata": {},
   "source": [
    "a) Calcular el producto interior (producto punto) de dos vectores en $ R^{3} $ el usuario debe insertar las entradas de los vectores. "
   ]
  },
  {
   "cell_type": "code",
   "execution_count": 1,
   "metadata": {},
   "outputs": [
    {
     "data": {
      "text/plain": [
       "prodcruz3 (generic function with 1 method)"
      ]
     },
     "execution_count": 1,
     "metadata": {},
     "output_type": "execute_result"
    }
   ],
   "source": [
    "function prodcruz3(A,B)\n",
    "    if length(A)==length(B)==3 #los vectores deben ser del mismo tamaño\n",
    "        R = 0 #variable en donde se guardara el resultado\n",
    "        for i in 1:length(A) #las operaciones se haran a cada numero del vector\n",
    "            R=R+(A[i]*B[i]) #multiplicara cada elemento de los vectores, dandole un valor a r, hasta que termine el ciclo\n",
    "        end\n",
    "        print(R) #Imprime el resultado\n",
    "    else\n",
    "        println(\"Vectores de distinta dimensión\") #Solo si los vectores son de distinto tamaño\n",
    "    end\n",
    "end"
   ]
  },
  {
   "cell_type": "code",
   "execution_count": 2,
   "metadata": {},
   "outputs": [
    {
     "data": {
      "text/plain": [
       "3-element Array{Int64,1}:\n",
       " 8\n",
       " 4\n",
       " 6"
      ]
     },
     "execution_count": 2,
     "metadata": {},
     "output_type": "execute_result"
    }
   ],
   "source": [
    "A=[8,4,6]"
   ]
  },
  {
   "cell_type": "code",
   "execution_count": 3,
   "metadata": {},
   "outputs": [
    {
     "data": {
      "text/plain": [
       "3-element Array{Int64,1}:\n",
       " 4\n",
       " 7\n",
       " 5"
      ]
     },
     "execution_count": 3,
     "metadata": {},
     "output_type": "execute_result"
    }
   ],
   "source": [
    "B=[4,7,5]"
   ]
  },
  {
   "cell_type": "code",
   "execution_count": 4,
   "metadata": {},
   "outputs": [
    {
     "name": "stdout",
     "output_type": "stream",
     "text": [
      "90"
     ]
    }
   ],
   "source": [
    "prodcruz3(A,B)"
   ]
  },
  {
   "cell_type": "markdown",
   "metadata": {},
   "source": [
    "b) Escribe  un programa que realice el producto interior (producto punto) de dos vectores en $ R^{n} $ las entradas de los vectores deben leerse de un archivo. (Recuerda nuevamente que esto solo tiene sentido si los vectores son de la misma dimensión)."
   ]
  },
  {
   "cell_type": "code",
   "execution_count": 5,
   "metadata": {},
   "outputs": [
    {
     "data": {
      "text/plain": [
       "prodcruzn (generic function with 1 method)"
      ]
     },
     "execution_count": 5,
     "metadata": {},
     "output_type": "execute_result"
    }
   ],
   "source": [
    "function prodcruzn(A,B)\n",
    "    if length(A)==length(B) #los vectores deben ser del mismo tamaño\n",
    "        R=0.0 #variable que guardara el resultado\n",
    "        for i in 1:length(A) #realizara la operacion numero por numero\n",
    "            R=R+(A[i]*B[i]) #multiplicara cada elemento de los vectores, dandole un valor a r, hasta que termine el ciclo\n",
    "        end\n",
    "        print(R) #Imprime el resultado\n",
    "    else\n",
    "        println(\"Vectores de distinta dimensión\") #Solo si los vectores son de distinto tamaño\n",
    "    end\n",
    "end"
   ]
  },
  {
   "cell_type": "code",
   "execution_count": 6,
   "metadata": {},
   "outputs": [
    {
     "data": {
      "text/plain": [
       "6-element Array{Int64,1}:\n",
       " 8\n",
       " 7\n",
       " 4\n",
       " 5\n",
       " 6\n",
       " 1"
      ]
     },
     "execution_count": 6,
     "metadata": {},
     "output_type": "execute_result"
    }
   ],
   "source": [
    "u=[8,7,4,5,6,1]"
   ]
  },
  {
   "cell_type": "code",
   "execution_count": 7,
   "metadata": {},
   "outputs": [
    {
     "ename": "LoadError",
     "evalue": "\u001b[91mUndefVarError: i not defined\u001b[39m",
     "output_type": "error",
     "traceback": [
      "\u001b[91mUndefVarError: i not defined\u001b[39m",
      "",
      "Stacktrace:",
      " [1] \u001b[1minclude_string\u001b[22m\u001b[22m\u001b[1m(\u001b[22m\u001b[22m::String, ::String\u001b[1m)\u001b[22m\u001b[22m at \u001b[1m./loading.jl:515\u001b[22m\u001b[22m"
     ]
    }
   ],
   "source": [
    "prodcruzn(u,i)"
   ]
  },
  {
   "cell_type": "code",
   "execution_count": 8,
   "metadata": {},
   "outputs": [
    {
     "data": {
      "text/plain": [
       "6-element Array{Int64,1}:\n",
       " 7\n",
       " 4\n",
       " 1\n",
       " 5\n",
       " 6\n",
       " 2"
      ]
     },
     "execution_count": 8,
     "metadata": {},
     "output_type": "execute_result"
    }
   ],
   "source": [
    "u=[7,4,1,5,6,2]"
   ]
  }
 ],
 "metadata": {
  "kernelspec": {
   "display_name": "Julia 0.6.0",
   "language": "julia",
   "name": "julia-0.6"
  },
  "language_info": {
   "file_extension": ".jl",
   "mimetype": "application/julia",
   "name": "julia",
   "version": "0.6.0"
  }
 },
 "nbformat": 4,
 "nbformat_minor": 2
}
