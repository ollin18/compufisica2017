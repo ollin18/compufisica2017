{
 "cells": [
  {
   "cell_type": "markdown",
   "metadata": {},
   "source": [
    "# El promedio de dos numero cualesquiera"
   ]
  },
  {
   "cell_type": "code",
   "execution_count": 1,
   "metadata": {},
   "outputs": [
    {
     "data": {
      "text/plain": [
       "Prom (generic function with 1 method)"
      ]
     },
     "execution_count": 1,
     "metadata": {},
     "output_type": "execute_result"
    }
   ],
   "source": [
    "function Prom(a,b) #Primero se hace la funcion del promedio\n",
    "    p=0 #Se crea un contador que vaya guardando el resultado de la operación\n",
    "    p=p+(a+b)/2 #Se crea la operación que haga el promedio de los dos numeros, a y b cualesquiera\n",
    "    return p #Ahora aqui se pide que al terminar de realizar la operación se imprima \"p\" en la pantalla\n",
    "end"
   ]
  },
  {
   "cell_type": "code",
   "execution_count": 2,
   "metadata": {},
   "outputs": [
    {
     "data": {
      "text/plain": [
       "2300"
      ]
     },
     "execution_count": 2,
     "metadata": {},
     "output_type": "execute_result"
    }
   ],
   "source": [
    "α = 500 \n",
    "β = 2300\n",
    "#Se introducen los dos numeros cualesquiera"
   ]
  },
  {
   "cell_type": "code",
   "execution_count": 3,
   "metadata": {},
   "outputs": [
    {
     "data": {
      "text/plain": [
       "1400.0"
      ]
     },
     "execution_count": 3,
     "metadata": {},
     "output_type": "execute_result"
    }
   ],
   "source": [
    "Prom(α,β)"
   ]
  },
  {
   "cell_type": "markdown",
   "metadata": {},
   "source": [
    "# La suma desde 0 hasta un número n introducido por el usuario"
   ]
  },
  {
   "cell_type": "code",
   "execution_count": 4,
   "metadata": {},
   "outputs": [
    {
     "data": {
      "text/plain": [
       "Suma (generic function with 1 method)"
      ]
     },
     "execution_count": 4,
     "metadata": {},
     "output_type": "execute_result"
    }
   ],
   "source": [
    "function Suma(n) #Se crea la funcion con la que se ralizara la suma\n",
    "    if n>0 #Se pide se realize mientras n sea mayor que cero\n",
    "        i = 0 #Se crea un contador que vaya guardando la suma.\n",
    "        k = 1 #Se crea un valor inicial que sera el que se vaya sumando a la operacion\n",
    "        while n >= k #Se pide como condición que mientras \"n\" sea más grande que el contador \"k\"\n",
    "            i = i+k #Se pide que a \"i\" se le sume \"k\"\n",
    "            k += 1 #Se pide que k incremente su valor en una unidad y que continue con el ciclo hasta que \"k\" sea igual a \"n\"\n",
    "        end\n",
    "        print(i) #Se pide que se imprima en pantalla \"i\" cuando termine el ciclo.\n",
    "    else\n",
    "        print(\"No se puede realizar\") #Se pide que ponga en pantalla \"No se puede realizar\" si la suma no se puede realizar\n",
    "    end\n",
    "end"
   ]
  },
  {
   "cell_type": "code",
   "execution_count": 5,
   "metadata": {},
   "outputs": [
    {
     "name": "stdout",
     "output_type": "stream",
     "text": [
      "55"
     ]
    }
   ],
   "source": [
    "Suma(10)"
   ]
  },
  {
   "cell_type": "code",
   "execution_count": 6,
   "metadata": {},
   "outputs": [
    {
     "name": "stdout",
     "output_type": "stream",
     "text": [
      "No se puede realizar"
     ]
    }
   ],
   "source": [
    "Suma(-10)"
   ]
  },
  {
   "cell_type": "markdown",
   "metadata": {},
   "source": [
    "# Calcular el factorial de un numero cualesquiera"
   ]
  },
  {
   "cell_type": "code",
   "execution_count": 7,
   "metadata": {},
   "outputs": [
    {
     "data": {
      "text/plain": [
       "Factorial (generic function with 1 method)"
      ]
     },
     "execution_count": 7,
     "metadata": {},
     "output_type": "execute_result"
    }
   ],
   "source": [
    "function Factorial(n) #Se crea la función del factorial\n",
    "    if n>=0 #Se pide se realize mientras n sea mayor o igual que cero\n",
    "        i=1 #Se crea un contador que vaya guardando los valores del factorial\n",
    "        k=1 #Se crea otro contador que ayude en la operación\n",
    "        while n >= k #Se pide como condicion que mientras \"k\" sea menos o igual que \"n\" aplique la operación\n",
    "            i = i*(k) #Se pone que \"i\" sea igual a multiplicar su mismo valor por el de \"k\"\n",
    "            k +=1 #Se le suma 1 a K para que repita el ciclo y vaya aumentando el contador de \"k\" y de \"i\"\n",
    "        end\n",
    "        print(i) #Se pide que imprima \"i\" en pantalla\n",
    "    else\n",
    "        print(\"No se puede realizar\") #Se pide que ponga \"No se puede realizar\" si la opreracion del factorial no es posible\n",
    "    end\n",
    "end"
   ]
  },
  {
   "cell_type": "code",
   "execution_count": 8,
   "metadata": {},
   "outputs": [
    {
     "name": "stdout",
     "output_type": "stream",
     "text": [
      "3628800"
     ]
    }
   ],
   "source": [
    "Factorial(10)"
   ]
  },
  {
   "cell_type": "code",
   "execution_count": 9,
   "metadata": {},
   "outputs": [
    {
     "name": "stdout",
     "output_type": "stream",
     "text": [
      "No se puede realizar"
     ]
    }
   ],
   "source": [
    "Factorial(-10)"
   ]
  },
  {
   "cell_type": "markdown",
   "metadata": {},
   "source": [
    "# Calcular la potencia de un numero cualesquiera elevado a otro numero cualesquiera"
   ]
  },
  {
   "cell_type": "code",
   "execution_count": 10,
   "metadata": {},
   "outputs": [
    {
     "data": {
      "text/plain": [
       "Exp (generic function with 1 method)"
      ]
     },
     "execution_count": 10,
     "metadata": {},
     "output_type": "execute_result"
    }
   ],
   "source": [
    "function Exp(a,b) #Se crea la funcion para calcular el potencial\n",
    "    i=0.0 #Se nombra a una variable que guardará el valor de \"i\"\n",
    "    i=a^b #Se pone la operación de elevar \"a\" a la potencia \"b\"\n",
    "    print(i) #Se pide que se imprima \"i\" en pantalla\n",
    "end"
   ]
  },
  {
   "cell_type": "code",
   "execution_count": 11,
   "metadata": {},
   "outputs": [
    {
     "name": "stdout",
     "output_type": "stream",
     "text": [
      "729.0"
     ]
    }
   ],
   "source": [
    "Exp(3.0,6)"
   ]
  },
  {
   "cell_type": "code",
   "execution_count": null,
   "metadata": {},
   "outputs": [],
   "source": []
  }
 ],
 "metadata": {
  "kernelspec": {
   "display_name": "Julia 0.6.0",
   "language": "julia",
   "name": "julia-0.6"
  },
  "language_info": {
   "file_extension": ".jl",
   "mimetype": "application/julia",
   "name": "julia",
   "version": "0.6.0"
  }
 },
 "nbformat": 4,
 "nbformat_minor": 2
}
