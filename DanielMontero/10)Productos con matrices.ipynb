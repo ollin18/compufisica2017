{
 "cells": [
  {
   "cell_type": "markdown",
   "metadata": {},
   "source": [
    "# 10)Productos con matrices"
   ]
  },
  {
   "cell_type": "markdown",
   "metadata": {},
   "source": [
    "## a)Matriz por vector"
   ]
  },
  {
   "cell_type": "markdown",
   "metadata": {},
   "source": [
    "Para la función se requiere una matriz y un vector que tengan mismo tamaño de columnas y filas respectivamente. El cálculo se hace multiplicando cada valor de una fila en la matriz por cada valor del vector, éstos se suman y son el resultado del índice correspondiente en el vector resultante.\n",
    "\n",
    "La función inicia creando una variable z para el resultado que tiene el mismo tamaño del vector, y requiere de dos ciclos for en los que primero entra a una fila en a y después cambia cada valor de la columna para hacer la operación correspondiente con el vector. Al acabar el segundo ciclo asigna un valor para el índice correspondiente de z. Al tener todos los índices para z se ve en pantalla el vector resultante.\n",
    "\n",
    "Finalmente la matriz y el vector se leen de archivos y a éstos son asignados como las variables para la función matxvec. "
   ]
  },
  {
   "cell_type": "code",
   "execution_count": 10,
   "metadata": {},
   "outputs": [],
   "source": [
    "M1=reshape([1,2,3,4,5,6,0,0,0], 3, 3)\n",
    "V=[1,1,1]                                        #Se definen una matriz y un vector\n",
    "writedlm(\"M1.txt\", M1)                           #Se escribe M1 en un archivo\n",
    "writedlm(\"V.txt\", V)                             #Se escribe V en un archivo"
   ]
  },
  {
   "cell_type": "code",
   "execution_count": 11,
   "metadata": {},
   "outputs": [
    {
     "data": {
      "text/plain": [
       "matxvecarchivo (generic function with 1 method)"
      ]
     },
     "execution_count": 11,
     "metadata": {},
     "output_type": "execute_result"
    }
   ],
   "source": [
    "function matxvec(a,b)                            #Se crea una función con dos arreglos como variables (matriz y vector) \n",
    "    z=zeros(b)                                   #Se hace un arreglo vacío con el tamaño de b para almacenar resultados\n",
    "    if size(a,2) == size(b,1)                    #Se compara si las columnas de a tienen el mismo tamaño que las filas de b\n",
    "        for fila in 1:size(a,1)                  #Inicia cilo for para las filas de a(cuando son del tamaño requerido)\n",
    "            p=0                                  #Variable que sumará los valores de las multiplicaciones para esa fila\n",
    "            for col in 1:size(b,1)               #Inicia otro ciclo for para cada columna, que tiene el tamaño de b\n",
    "                p=p+(a[fila,col]*b[col])         #Suma al valor anterior de p la multiplicación de a (en la fila en que está el primer ciclo y cambia su columna con el segudo ciclo) por la columna respectiva de b.\n",
    "                end                              #Fin del ciclo for que cambia la columna de a         \n",
    "            z[fila]=p                            #El valor de z en cada índice está dado por la \"p\" de cada vuelta del segundo ciclo for\n",
    "            end                                  #Fin del primer ciclo for\n",
    "        z                                        #Aparece el valor final de \"z\"\n",
    "        else                                     #Si no tienen los tamaños requeridos...\n",
    "        error(\"El tamaño de las columnas en la matriz debe ser igual al de las filas de b\")   #Aparece error en pantalla\n",
    "        end                                      #Fin del if\n",
    "    end                                          #Finaliza la función\n",
    "\n",
    "function matxvecarchivo()                        #Función que usa archivos \n",
    "a=readdlm(\"M1.txt\")                              #Asigna el archivo de a como la matriz\n",
    "b=readdlm(\"V.txt\")                               #Asigna el archivo de b como el vector\n",
    "    matxvec(a,b)                                 #Aplica la función anterior\n",
    "    end                                          #Finaliza la función"
   ]
  },
  {
   "cell_type": "code",
   "execution_count": 12,
   "metadata": {
    "scrolled": true
   },
   "outputs": [
    {
     "data": {
      "text/plain": [
       "3×1 Array{Float64,2}:\n",
       " 5.0\n",
       " 7.0\n",
       " 9.0"
      ]
     },
     "execution_count": 12,
     "metadata": {},
     "output_type": "execute_result"
    }
   ],
   "source": [
    "matxvecarchivo()                                    #Prueba de la función"
   ]
  },
  {
   "cell_type": "markdown",
   "metadata": {},
   "source": [
    "## b)Matriz por matriz"
   ]
  },
  {
   "cell_type": "markdown",
   "metadata": {},
   "source": [
    "Para ésta función se requieren dos matrices a y b que deben tener el mismo número de columnas y filas respectivamente. Primero se hace el arreglo vacío para el resultado que será una matriz con tamaño de las filas de a por las columnas de b. 3 ciclos for son creados; el primero se encarga de hacer el cambio para cada fila de la matriz a, el segundo hace el cambio de columnas(el número de veces del tamaño de las columnas en b) y la suma para cada índice(variable \"p\"), y el tercero hace la multiplicación de cada índice respectivamente. Cada índice en z es asignado con el valor resultante de p del segundo ciclo. Teniendo todos los valores de los índices en z finalizan los ciclos y aparece la matriz resultante en pantalla.\n",
    "    \n",
    "Finalmente los archivos de matrices pueden ser leídos y asignados como a y b en la función matxmat, dando el resultado de la multiplicación de las dos matrices dentro de los archivos. "
   ]
  },
  {
   "cell_type": "code",
   "execution_count": 13,
   "metadata": {},
   "outputs": [],
   "source": [
    "M1=reshape([1,2,3,4,5,6,2,2,3], 3, 3)\n",
    "M2=reshape([1,2,3,4,5,6], 3, 2)                         #Se definen las matrices por multiplicar\n",
    "writedlm(\"M1.txt\", M1)                                  #Se escribe M1 en un archivo\n",
    "writedlm(\"M2.txt\", M2)                                  #Se escribe M2 en un archivo"
   ]
  },
  {
   "cell_type": "code",
   "execution_count": 14,
   "metadata": {},
   "outputs": [
    {
     "data": {
      "text/plain": [
       "matxmatarchivo (generic function with 1 method)"
      ]
     },
     "execution_count": 14,
     "metadata": {},
     "output_type": "execute_result"
    }
   ],
   "source": [
    "function matxmat(a,b)                                   #Se crea la función para dos matrices como variables            \n",
    "    z=zeros(size(a,1),size(b,2))                        #Se hace un arreglo vacío con el tamaño de las filas de a y las columnas de b para el resultado\n",
    "    if size(a,2) == size(b,1)                           #Se compara el tamaño de las columnas de a con las filas de b\n",
    "        for fila in 1:size(a,1)                         #Ciclo for de filas que tiene A (cuando los tamaños son los adecuados)\n",
    "            for col in 1:size(b,2)                      #Ciclo for de columnas que tiene B\n",
    "                p=0                                     #Variable para almacenar resultado de este ciclo\n",
    "                for nxn in 1:size(a,2)                  #Ciclo for para multiplicar los valores con su respectivo índice(a2 o b1 es lo mismo)\n",
    "                  p=p+(a[fila,nxn]*b[nxn,col])          #Al valor de p se le suma la multiplicación hecha en este ciclo\n",
    "                    end                                 #Fin del ciclo for de la multiplicación de cada índice en la fila y columna\n",
    "                z[fila,col]=p                           #Cambia el valor de z en el índice de fila y columna para el ciclo en que se encuentre\n",
    "                end                                     #Fin del cilo for de columna\n",
    "            end                                         #Fin del ciclo for de la fila\n",
    "        z                                               #\"z\" aparece en pantalla\n",
    "        else                                            #Si los tamaños no son los requeridos\n",
    "      error(\"El tamaño de las columnas en la matriz a debe ser igual al de las filas de b\")  #Muestra el error en pantalla\n",
    "        end                                             #Fin del if\n",
    "    end                                                 #Finaliza la función\n",
    "\n",
    "function matxmatarchivo()                               #Función que usa archivos \n",
    "a=readdlm(\"M1.txt\")                                     #Asigna el archivo de a como la matriz 1\n",
    "b=readdlm(\"M2.txt\")                                     #Asigna el archivo de b como la matriz 2\n",
    "    matxmat(a,b)                                        #Aplica la función anterior\n",
    "    end                                                 #Finaliza la función"
   ]
  },
  {
   "cell_type": "code",
   "execution_count": 15,
   "metadata": {},
   "outputs": [
    {
     "data": {
      "text/plain": [
       "3×2 Array{Float64,2}:\n",
       " 15.0  36.0\n",
       " 18.0  45.0\n",
       " 24.0  60.0"
      ]
     },
     "execution_count": 15,
     "metadata": {},
     "output_type": "execute_result"
    }
   ],
   "source": [
    "matxmatarchivo()                                        #Prueba de la función"
   ]
  }
 ],
 "metadata": {
  "kernelspec": {
   "display_name": "Julia 0.6.0",
   "language": "julia",
   "name": "julia-0.6"
  },
  "language_info": {
   "file_extension": ".jl",
   "mimetype": "application/julia",
   "name": "julia",
   "version": "0.6.0"
  }
 },
 "nbformat": 4,
 "nbformat_minor": 2
}
