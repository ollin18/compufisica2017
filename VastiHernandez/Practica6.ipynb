{
 "cells": [
  {
   "cell_type": "markdown",
   "metadata": {},
   "source": [
    "Escribe  un programa que calcule el producto cruz de dos vectores en ℝ3 , el usuario debe insertar las entradas de los vectores."
   ]
  },
  {
   "cell_type": "markdown",
   "metadata": {},
   "source": [
    "El producto vectorial se representa de forma compacta por medio de un determinante que para el caso de dimensión 3x3 tiene un desarrollo matemático conveniente:\n",
    "$$\n",
    "\\overrightarrow { AxB } \\begin{vmatrix} \\overrightarrow { i }  & \\overrightarrow { j }  & \\overrightarrow { k }  \\\\ { A }_{ x } & { A }_{ y } & { A }_{ z } \\\\ { B }_{ x } & { B }_{ y } & { B }_{ z } \\end{vmatrix}\n",
    "$$\n",
    "A partir de esta forma familiar, podemos desarrollarlo para obtener su forma expandida:\n",
    "$$\n",
    "\\overrightarrow { A } x\\overrightarrow { B } \\quad =\\quad \\overrightarrow { i } ({ A }_{ y }B_{ z }-{ A }_{ z }{ B }_{ y })\\quad -\\overrightarrow { j } ({ A }_{ x }{ B }_{ z }-{ A }_{ z }B_{ x })\\quad \\overrightarrow { k } ({ A }_{ x }{ B }_{ y }-{ A }_{ y }{ B }_{ x })\n",
    "$$"
   ]
  },
  {
   "cell_type": "code",
   "execution_count": 1,
   "metadata": {},
   "outputs": [
    {
     "data": {
      "text/plain": [
       "pcruz3 (generic function with 1 method)"
      ]
     },
     "execution_count": 1,
     "metadata": {},
     "output_type": "execute_result"
    }
   ],
   "source": [
    "function pcruz3(A,B)\n",
    "    if length(A)==length(B)==3 #decimos que los vectores tengan el tamaño de 3\n",
    "        i= ((A[2,1] * B[3,1]) - (A[3,1] * B[2,1])) #Resolvemos las determinantes de x\n",
    "        j=-((A[3,1] * B[1,1]) - (A[1,1] * B[3,1])) #Resolvemos las determinantes de y\n",
    "        k= ((A[1,1] * B[2,1]) - (A[2,1] * B[1,1])) #Resolvemos las determinantes de z\n",
    "    end\n",
    "    C=[i,j,k] #Hacemos el vector con los resultados\n",
    "    print(C) #Imprimimos el Vector resultante\n",
    "end"
   ]
  },
  {
   "cell_type": "code",
   "execution_count": 2,
   "metadata": {},
   "outputs": [
    {
     "data": {
      "text/plain": [
       "3-element Array{Int64,1}:\n",
       " 8\n",
       " 7\n",
       " 4"
      ]
     },
     "execution_count": 2,
     "metadata": {},
     "output_type": "execute_result"
    }
   ],
   "source": [
    "A=[8,7,4]"
   ]
  },
  {
   "cell_type": "code",
   "execution_count": 3,
   "metadata": {},
   "outputs": [
    {
     "data": {
      "text/plain": [
       "3-element Array{Int64,1}:\n",
       " 4\n",
       " 2\n",
       " 7"
      ]
     },
     "execution_count": 3,
     "metadata": {},
     "output_type": "execute_result"
    }
   ],
   "source": [
    "B=[4,2,7]"
   ]
  },
  {
   "cell_type": "code",
   "execution_count": 4,
   "metadata": {},
   "outputs": [
    {
     "name": "stdout",
     "output_type": "stream",
     "text": [
      "[41, 40, -12]"
     ]
    }
   ],
   "source": [
    "pcruz3(A,B)"
   ]
  }
 ],
 "metadata": {
  "kernelspec": {
   "display_name": "Julia 0.6.0",
   "language": "julia",
   "name": "julia-0.6"
  },
  "language_info": {
   "file_extension": ".jl",
   "mimetype": "application/julia",
   "name": "julia",
   "version": "0.6.0"
  }
 },
 "nbformat": 4,
 "nbformat_minor": 2
}
