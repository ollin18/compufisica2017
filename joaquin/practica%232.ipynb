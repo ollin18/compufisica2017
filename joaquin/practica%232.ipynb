{
 "cells": [
  {
   "cell_type": "markdown",
   "metadata": {},
   "source": [
    "<div class=\"alert alert-danger\" role=\"alert\">\n",
    "<h1>Ejercicios de programación en julia</h1>\n",
    "<h2>COMPUTACIÓN</h2>\n",
    "<h2>FÍSICA,FACULTAD DE CIENCIAS, UNAM </h2>\n",
    "<h3>JOAQUIN MIRANDA SANTIAGO</h3>\n",
    "</div>"
   ]
  },
  {
   "cell_type": "markdown",
   "metadata": {},
   "source": [
    "# Ejercicio 2\n",
    "## 2.1 Calcular la convinatoria de n en r\n",
    "### La convinatoria de n en r está definida como:\n",
    "$$\n",
    "  C_r^n =\\frac{n!} {\\left(n-r\\right)!r!}\n",
    "$$"
   ]
  },
  {
   "cell_type": "markdown",
   "metadata": {},
   "source": [
    "#### Primero definimos dentro de la función convinatoria tres funciones que calcule el factorial de n, n-r y r\n",
    "#### para que sea más facil hacer la función."
   ]
  },
  {
   "cell_type": "code",
   "execution_count": 110,
   "metadata": {},
   "outputs": [
    {
     "data": {
      "text/plain": [
       "convinatoria (generic function with 1 method)"
      ]
     },
     "execution_count": 110,
     "metadata": {},
     "output_type": "execute_result"
    }
   ],
   "source": [
    "function convinatoria(n,r) \n",
    "   a=0\n",
    "   b=1\n",
    "for i in 1:n \n",
    "       a =a+1 \n",
    "       b=b*a # Aqui calculamos el factorial de n \n",
    "    end\n",
    "    \n",
    "    c=0\n",
    "    d=1\n",
    "    for i in 1:(n-r)\n",
    "        c=c+1\n",
    "        d=d*c #d contiene el valor del factorial (n-r)\n",
    "    end\n",
    "    e=0\n",
    "    f=1\n",
    "    for i in 1:r\n",
    "        e=e+1 \n",
    "        f=f*e # f es el factorial de r\n",
    "    end\n",
    "    cv=(b)/(d*f) # por ultimo, usando al formula, calculamos la convinatoria\n",
    "    println(\"La covinatoria de \",n,\" en \",r,\", es:\")\n",
    "    println(cv)\n",
    "    end\n",
    "\n",
    "    \n",
    "    \n",
    "    \n",
    "    # número de combinaciones sin repetición de p elementos elegidos entre los n \n",
    "    "
   ]
  },
  {
   "cell_type": "code",
   "execution_count": 113,
   "metadata": {},
   "outputs": [
    {
     "name": "stdout",
     "output_type": "stream",
     "text": [
      "La covinatoria de 10 en 6, es:\n",
      "210.0\n"
     ]
    }
   ],
   "source": [
    "#Por poner un ejemplo, sea n=10 y r=6\n",
    "convinatoria(10,6)"
   ]
  },
  {
   "cell_type": "code",
   "execution_count": null,
   "metadata": {},
   "outputs": [],
   "source": []
  }
 ],
 "metadata": {
  "kernelspec": {
   "display_name": "Julia 0.6.0",
   "language": "julia",
   "name": "julia-0.6"
  },
  "language_info": {
   "file_extension": ".jl",
   "mimetype": "application/julia",
   "name": "julia",
   "version": "0.6.0"
  }
 },
 "nbformat": 4,
 "nbformat_minor": 2
}
