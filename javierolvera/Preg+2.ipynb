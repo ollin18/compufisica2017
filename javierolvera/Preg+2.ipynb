{
 "cells": [
  {
   "cell_type": "markdown",
   "metadata": {},
   "source": [
    " Este programa calcula el número de combinaciones de n elementos tomados en conjuntos de r elementos:"
   ]
  },
  {
   "cell_type": "code",
   "execution_count": 3,
   "metadata": {},
   "outputs": [
    {
     "data": {
      "text/plain": [
       "nfactorial (generic function with 1 method)"
      ]
     },
     "execution_count": 3,
     "metadata": {},
     "output_type": "execute_result"
    }
   ],
   "source": [
    "function nfactorial(n)    #Como se utilizará el factorial en la fórmula de combinaciones se agrega la función para el factorial\n",
    "    f=1\n",
    "    for i ∈ 1:n\n",
    "        f=f*i\n",
    "    end\n",
    "    #print(\"El factorial de $n es: $f\")\n",
    "    return(f)            #Se borra la impresión y se sustituye por un return para poder usar el valor de f fuera de la función\n",
    "    end"
   ]
  },
  {
   "cell_type": "code",
   "execution_count": 6,
   "metadata": {},
   "outputs": [
    {
     "data": {
      "text/plain": [
       "combi (generic function with 1 method)"
      ]
     },
     "execution_count": 6,
     "metadata": {},
     "output_type": "execute_result"
    }
   ],
   "source": [
    "function combi(n,r)       #Crea la funcion para el número de combinaciones, utilizando la fórmula dada\n",
    "    c=nfactorial(n)/(nfactorial(n-r)*nfactorial(r))\n",
    "    print(\"Las combinaciones de $n elementos tomados en conjuntos de $r elementos son: $c\") #Los signos de $ nos permiten obtener el valor de la variable\n",
    "end"
   ]
  },
  {
   "cell_type": "code",
   "execution_count": 7,
   "metadata": {},
   "outputs": [
    {
     "name": "stdout",
     "output_type": "stream",
     "text": [
      "Las combinaciones de 3 elementos tomados en conjuntos de 2 elementos son: 3.0"
     ]
    }
   ],
   "source": [
    "combi(3,2)"
   ]
  },
  {
   "cell_type": "code",
   "execution_count": null,
   "metadata": {},
   "outputs": [],
   "source": []
  }
 ],
 "metadata": {
  "kernelspec": {
   "display_name": "Julia 0.6.0",
   "language": "julia",
   "name": "julia-0.6"
  },
  "language_info": {
   "file_extension": ".jl",
   "mimetype": "application/julia",
   "name": "julia",
   "version": "0.6.0"
  }
 },
 "nbformat": 4,
 "nbformat_minor": 2
}
