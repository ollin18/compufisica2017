{
 "cells": [
  {
   "cell_type": "markdown",
   "metadata": {},
   "source": [
    "<div class=\"alert alert-success\" role=\"alert\">\n",
    "<h1>Programación en Julia: Notebook 5 </h1>\n",
    "<h2>Facultad de Ciencias, UNAM </h2>\n",
    "<h3>Joshua Briones Andrade || Compufísica </h3>\n",
    "</div>"
   ]
  },
  {
   "cell_type": "markdown",
   "metadata": {},
   "source": [
    "Calcular las raíces de un polinomio cuadrático. Se debe proporcionar los \n",
    "coeficientes de la ecuación de 2° orden. \n",
    "\n",
    "El programa debe considerar los casos de: \n",
    "- Raíces reales \n",
    "- Raíz doble \n",
    "- Raíces complejas"
   ]
  },
  {
   "cell_type": "markdown",
   "metadata": {},
   "source": [
    "Este ejercicio se resuelve con la \"Chicharronera\", es decir, cuando tenemos una ecuación cuadratica de la forma: $Ax^2+Bx+C=0$ se puede aplicar la siguiente formula:\n",
    "$$x=\\frac{-b\\pm\\sqrt{b^2-4ac}}{2a}$$"
   ]
  },
  {
   "cell_type": "markdown",
   "metadata": {},
   "source": [
    "Asi que definimos nuestra función con tres variables: **a**, **b** y **c** respectivamente.\n",
    "\n",
    "El truco aqui es convertir los valores a, b y c en complejos y asi ya puede trabajar con imaginarios.\n",
    "\n",
    "Otro detalle es definir las dos soluciones posibles ya que en la ecuación vemos un más/menos lo cual nos dice que hay dos salidas."
   ]
  },
  {
   "cell_type": "code",
   "execution_count": 27,
   "metadata": {},
   "outputs": [
    {
     "data": {
      "text/plain": [
       "Chicharronera (generic function with 1 method)"
      ]
     },
     "execution_count": 27,
     "metadata": {},
     "output_type": "execute_result"
    }
   ],
   "source": [
    "function Chicharronera(a,b,c)\n",
    "    a=Complex(a)\n",
    "    b=Complex(b)\n",
    "    c=Complex(c)\n",
    "    x1=(-b+(b^2-(4*a*c))^(1/2))/(2*a)\n",
    "    x2=(-b-(b^2-(4*a*c))^(1/2))/(2*a)\n",
    "        println(\"Solución 1:\")\n",
    "        println(x1)\n",
    "        println(\"Solución 2:\")\n",
    "        println(x2)\n",
    "end"
   ]
  },
  {
   "cell_type": "code",
   "execution_count": 30,
   "metadata": {},
   "outputs": [
    {
     "name": "stdout",
     "output_type": "stream",
     "text": [
      "Solución 1:\n",
      "-1.0 + 0.0im\n",
      "Solución 2:\n",
      "-1.0 + 0.0im\n"
     ]
    }
   ],
   "source": [
    "#Caso REAL\n",
    "Chicharronera(1,2,1)"
   ]
  },
  {
   "cell_type": "code",
   "execution_count": 33,
   "metadata": {},
   "outputs": [
    {
     "name": "stdout",
     "output_type": "stream",
     "text": [
      "Solución 1:\n",
      "-0.2679491924311228 + 0.0im\n",
      "Solución 2:\n",
      "-3.732050807568877 + 0.0im\n"
     ]
    }
   ],
   "source": [
    "#Caso DOS SOLUCIONES\n",
    "Chicharronera(1,4,1)"
   ]
  },
  {
   "cell_type": "code",
   "execution_count": 29,
   "metadata": {},
   "outputs": [
    {
     "name": "stdout",
     "output_type": "stream",
     "text": [
      "Solución 1:\n",
      "-0.49999999999999994 + 0.8660254037844387im\n",
      "Solución 2:\n",
      "-0.5 - 0.8660254037844387im\n"
     ]
    }
   ],
   "source": [
    "#Caso IMAGINARIOS\n",
    "Chicharronera(1,1,1)"
   ]
  },
  {
   "cell_type": "code",
   "execution_count": 34,
   "metadata": {},
   "outputs": [
    {
     "data": {
      "text/plain": [
       "Chicharronera2 (generic function with 1 method)"
      ]
     },
     "execution_count": 34,
     "metadata": {},
     "output_type": "execute_result"
    }
   ],
   "source": [
    "#Para tener más exactitud puse esta otra variante de la Chicharronera pero convirtiendo los coeficientes con \"big\"\n",
    "\n",
    "function Chicharronera2(a,b,c)\n",
    "    a=Complex(big(a))\n",
    "    b=Complex(big(b))\n",
    "    c=Complex(big(c))\n",
    "    x1=(-b+(b^2-(4*a*c))^(1/2))/(2*a)\n",
    "    x2=(-b-(b^2-(4*a*c))^(1/2))/(2*a)\n",
    "        println(\"Solución 1:\")\n",
    "        println(x1)\n",
    "        println(\"Solución 2:\")\n",
    "        println(x2)\n",
    "end"
   ]
  },
  {
   "cell_type": "code",
   "execution_count": 28,
   "metadata": {},
   "outputs": [
    {
     "name": "stdout",
     "output_type": "stream",
     "text": [
      "Solución 1:\n",
      "-4.999999999999999999999999999999999999999999999999999999999999999999999999999957e-01 + 8.660254037844386467637231707529361834714026269051903140279034897259665084543988e-01im\n",
      "Solución 2:\n",
      "-5.000000000000000000000000000000000000000000000000000000000000000000000000000086e-01 - 8.660254037844386467637231707529361834714026269051903140279034897259665084543988e-01im\n"
     ]
    }
   ],
   "source": [
    "Chicharronera2(1,1,1)"
   ]
  }
 ],
 "metadata": {
  "kernelspec": {
   "display_name": "Julia 0.6.0",
   "language": "julia",
   "name": "julia-0.6"
  },
  "language_info": {
   "file_extension": ".jl",
   "mimetype": "application/julia",
   "name": "julia",
   "version": "0.6.0"
  }
 },
 "nbformat": 4,
 "nbformat_minor": 2
}
