{
 "cells": [
  {
   "cell_type": "markdown",
   "metadata": {},
   "source": [
    "<div class=\"alert alert-info\" role=\"alert\">\n",
    "<p class =\"lead\"> \n",
    "<h1> Suma de Vectores </h1>\n",
    "<h3>Computación</h3> <h3>Física, Facultad de Ciencias. UNAM </h3>\n",
    "<h2>Ethan Campos Méndez </h2> </div>"
   ]
  },
  {
   "cell_type": "markdown",
   "metadata": {},
   "source": [
    "Si queremos sumar 2 vectores, primero deben tener el mismo numero de entradas, pues, se suma entrada entrada.\n"
   ]
  },
  {
   "cell_type": "code",
   "execution_count": 1,
   "metadata": {},
   "outputs": [
    {
     "data": {
      "text/plain": [
       "SumaVectoresR3 (generic function with 1 method)"
      ]
     },
     "execution_count": 1,
     "metadata": {},
     "output_type": "execute_result"
    }
   ],
   "source": [
    "function SumaVectoresR3(u1,u2,u3,v1,v2,v3) #Se insertan las entradas de las vectores. \n",
    "    a=u1+v1#Se suma ntrada entrada\n",
    "    b=u2+v2\n",
    "    c=u3+v3\n",
    "    println(\"Vector Resultante: ($a, $b, $c)\")\n",
    "end"
   ]
  },
  {
   "cell_type": "code",
   "execution_count": 2,
   "metadata": {},
   "outputs": [
    {
     "name": "stdout",
     "output_type": "stream",
     "text": [
      "Vector Resultante: (4, 4, 4)\n"
     ]
    }
   ],
   "source": [
    "SumaVectoresR3(1,2,3,3,2,1) #Probamos si funciona"
   ]
  },
  {
   "cell_type": "markdown",
   "metadata": {},
   "source": [
    "El proceso anterior se puede hacer para vectores de pocas dimensiones, pues escribir la función para un programa más grande sería innecesario, pues se puede escribir un función que sea más general."
   ]
  },
  {
   "cell_type": "code",
   "execution_count": 3,
   "metadata": {},
   "outputs": [
    {
     "data": {
      "text/plain": [
       "SumaVectores (generic function with 1 method)"
      ]
     },
     "execution_count": 3,
     "metadata": {},
     "output_type": "execute_result"
    }
   ],
   "source": [
    "function SumaVectores(x,y)\n",
    "    v=zeros(size(x))#Creamos un vector con longitud de x que será el resultante\n",
    "    if length(x)==length(y) #Aquí sólo permitimos hacer la suma sólo si los vectores tienen la misma longitud.\n",
    "for i ∈ eachindex(x) #Lo que hacemos aquí es sumar entrada por entrada la \"i\" representa el numero de entrada que se sumará. \n",
    "    v[i]=(x[i]+y[i])#Se suma entrada por entrada y los guarda en el vector resultante\n",
    "        end\n",
    "        println(\"El Vector resultante es $v\")\n",
    "    else\n",
    "        println(\"Los vectores no tienen la misma cantidad de dimensiones\")\n",
    "    end\n",
    "end"
   ]
  },
  {
   "cell_type": "code",
   "execution_count": 4,
   "metadata": {},
   "outputs": [],
   "source": [
    "#Sea x y y vectores de diferentes dimensiones.\n",
    "x=collect(0:1.0:15);\n",
    "y=collect(5:1.0:10);"
   ]
  },
  {
   "cell_type": "code",
   "execution_count": 5,
   "metadata": {},
   "outputs": [
    {
     "name": "stdout",
     "output_type": "stream",
     "text": [
      "Los vectores no tienen la misma cantidad de dimensiones\n"
     ]
    }
   ],
   "source": [
    "SumaVectores(x,y) "
   ]
  },
  {
   "cell_type": "code",
   "execution_count": 6,
   "metadata": {},
   "outputs": [],
   "source": [
    "#Sea x y y vectores de la misma dimensión.\n",
    "x=collect(0:2:10);\n",
    "y=collect(1:0.5:3.5);"
   ]
  },
  {
   "cell_type": "code",
   "execution_count": 7,
   "metadata": {},
   "outputs": [
    {
     "name": "stdout",
     "output_type": "stream",
     "text": [
      "El Vector resultante es [1.0, 3.5, 6.0, 8.5, 11.0, 13.5]\n"
     ]
    }
   ],
   "source": [
    "SumaVectores(x,y) #veamos si funciona"
   ]
  },
  {
   "cell_type": "markdown",
   "metadata": {},
   "source": [
    "Se pide que las entradas de los vectores se lean de un archivo, para hacer esto dejo un ejemplo: "
   ]
  },
  {
   "cell_type": "code",
   "execution_count": 8,
   "metadata": {},
   "outputs": [
    {
     "data": {
      "text/plain": [
       "10×1 Array{Float64,2}:\n",
       "  1.0\n",
       "  2.0\n",
       "  3.0\n",
       "  4.0\n",
       "  5.0\n",
       "  6.0\n",
       "  7.0\n",
       "  8.0\n",
       "  9.0\n",
       " 10.0"
      ]
     },
     "execution_count": 8,
     "metadata": {},
     "output_type": "execute_result"
    }
   ],
   "source": [
    "x=readdlm(\"EntradasVectores1.csv\", '|')"
   ]
  },
  {
   "cell_type": "code",
   "execution_count": 9,
   "metadata": {},
   "outputs": [
    {
     "data": {
      "text/plain": [
       "11×1 Array{Float64,2}:\n",
       "  0.0\n",
       "  2.0\n",
       "  4.0\n",
       "  6.0\n",
       "  8.0\n",
       " 10.0\n",
       " 12.0\n",
       " 14.0\n",
       " 16.0\n",
       " 18.0\n",
       " 20.0"
      ]
     },
     "execution_count": 9,
     "metadata": {},
     "output_type": "execute_result"
    }
   ],
   "source": [
    "y=readdlm(\"EntradasVectores2.csv\", '|')"
   ]
  },
  {
   "cell_type": "code",
   "execution_count": 10,
   "metadata": {},
   "outputs": [
    {
     "name": "stdout",
     "output_type": "stream",
     "text": [
      "Los vectores no tienen la misma cantidad de dimensiones\n"
     ]
    }
   ],
   "source": [
    "SumaVectores(x,y)"
   ]
  },
  {
   "cell_type": "markdown",
   "metadata": {},
   "source": [
    "Con el comando *readdlm(\"Archivo.csv\", '|')* se leen los archivos y se genera un arreglo."
   ]
  }
 ],
 "metadata": {
  "kernelspec": {
   "display_name": "Julia 0.6.0",
   "language": "julia",
   "name": "julia-0.6"
  },
  "language_info": {
   "file_extension": ".jl",
   "mimetype": "application/julia",
   "name": "julia",
   "version": "0.6.0"
  }
 },
 "nbformat": 4,
 "nbformat_minor": 2
}
