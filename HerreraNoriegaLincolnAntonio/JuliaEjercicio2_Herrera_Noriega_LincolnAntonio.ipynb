{
 "cells": [
  {
   "cell_type": "markdown",
   "metadata": {},
   "source": [
    "Calcular la combinatoria de $n$ en $r$. Primero definimos la función factorial a utilizar."
   ]
  },
  {
   "cell_type": "code",
   "execution_count": 10,
   "metadata": {},
   "outputs": [
    {
     "data": {
      "text/plain": [
       "mifactorial (generic function with 1 method)"
      ]
     },
     "execution_count": 10,
     "metadata": {},
     "output_type": "execute_result"
    }
   ],
   "source": [
    "function mifactorial(N)\n",
    "   if N == 0                     # asignamos el valor al factorial en caso de N=0 con un ciclo if\n",
    "        1\n",
    "    else\n",
    "        N * mifactorial(N-1)     # definimos recursivamente el valor del factorial con la definición misma de la función factorial. El ciclo for seguira hasta llegar al caso N=0, donde terminara el ciclo if y asi la función misma.\n",
    "    end\n",
    "end"
   ]
  },
  {
   "cell_type": "markdown",
   "metadata": {},
   "source": [
    "A continuación definiremos una función que realize la combinatoria para los n, r introducidos por el usuario."
   ]
  },
  {
   "cell_type": "code",
   "execution_count": 7,
   "metadata": {},
   "outputs": [
    {
     "data": {
      "text/plain": [
       "combinatoria (generic function with 1 method)"
      ]
     },
     "execution_count": 7,
     "metadata": {},
     "output_type": "execute_result"
    }
   ],
   "source": [
    "function combinatoria(n,r)\n",
    "    c=mifactorial(n)/(mifactorial(n-r)*mifactorial(r))          # asignamos a c el valor de la combinatoria calculado con operadores aritméticos\n",
    "    print(\"La combinatoria de n = $n y r = $r es $c\")\n",
    "end"
   ]
  },
  {
   "cell_type": "code",
   "execution_count": 8,
   "metadata": {},
   "outputs": [
    {
     "name": "stdout",
     "output_type": "stream",
     "text": [
      "La combinatoria de n = 3 y r = 2 es 3.0"
     ]
    }
   ],
   "source": [
    "combinatoria(3,2)"
   ]
  }
 ],
 "metadata": {
  "kernelspec": {
   "display_name": "Julia 0.6.0",
   "language": "julia",
   "name": "julia-0.6"
  },
  "language_info": {
   "file_extension": ".jl",
   "mimetype": "application/julia",
   "name": "julia",
   "version": "0.6.0"
  }
 },
 "nbformat": 4,
 "nbformat_minor": 2
}
