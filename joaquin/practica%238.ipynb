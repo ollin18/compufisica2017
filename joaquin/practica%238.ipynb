{
 "cells": [
  {
   "cell_type": "markdown",
   "metadata": {},
   "source": [
    "<div class=\"alert alert-danger\" role=\"alert\">\n",
    "<h1>Ejercicios de programación en julia</h1>\n",
    "<h2>COMPUTACIÓN</h2>\n",
    "<h2>FÍSICA,FACULTAD DE CIENCIAS, UNAM </h2>\n",
    "<h3>JOAQUIN MIRANDA SANTIAGO</h3>\n",
    "</div>\n"
   ]
  },
  {
   "cell_type": "markdown",
   "metadata": {},
   "source": [
    "# Ejercicio 6\n",
    "## 6.1 Escribe un programa que calcules el producto interior de dos vectores en $R^3$"
   ]
  },
  {
   "cell_type": "markdown",
   "metadata": {},
   "source": [
    "$$\n",
    "\\hat{\\alpha} =(\\alpha_1,\\alpha_2,\\alpha_3,...,\\alpha_n)\n",
    "$$\n",
    "$$\n",
    "\\hat{\\beta} =(\\beta_1,\\beta_2,\\beta_3,...,\\beta_n)\n",
    "$$\n",
    "\n",
    " EL PRODUCTO INTERIOR ENTRE VECTORES ESTA DEFINIDO COMO:\n",
    " $$\n",
    " \\hat{\\alpha}\\hat{\\beta}=\\displaystyle{\\sum_{k=1}^{n} \\hat{\\alpha}_k\\hat{\\beta}_k}\n",
    " $$"
   ]
  },
  {
   "cell_type": "code",
   "execution_count": null,
   "metadata": {},
   "outputs": [],
   "source": [
    "2#CALCULANDO EL PRODUCTO INTERIOR , TENEMOS\n",
    "function producto_i(a,b) # a y b son vectores cualesquiera\n",
    "   s=0 #s sera la variable que guarde le produc interior de a y b \n",
    "    if length(a)==length(b)\n",
    "    for i in eachindex(a) \n",
    "    s= s + a[i]*b[i]\n",
    "        end\n",
    "        println(\"el resultado de el producto interior del vector a=\",a,\"por el vecotor b=\",b, \"es\": ,s)\n",
    "        else \n",
    "        println(\"error!, los vectores deben de ser del mismo tamaño\")\n",
    "    end\n",
    "end\n"
   ]
  },
  {
   "cell_type": "code",
   "execution_count": 8,
   "metadata": {},
   "outputs": [
    {
     "name": "stdout",
     "output_type": "stream",
     "text": [
      "el resultado de el producto interior del vector a por el vecotor b, es: 11\n"
     ]
    }
   ],
   "source": [
    "# ejemplo\n",
    "producto_i([1,2,3],[1,2,2])"
   ]
  },
  {
   "cell_type": "code",
   "execution_count": null,
   "metadata": {},
   "outputs": [],
   "source": []
  },
  {
   "cell_type": "code",
   "execution_count": null,
   "metadata": {},
   "outputs": [],
   "source": []
  }
 ],
 "metadata": {
  "kernelspec": {
   "display_name": "Julia 0.6.0",
   "language": "julia",
   "name": "julia-0.6"
  },
  "language_info": {
   "file_extension": ".jl",
   "mimetype": "application/julia",
   "name": "julia",
   "version": "0.6.0"
  }
 },
 "nbformat": 4,
 "nbformat_minor": 2
}
