{
 "cells": [
  {
   "cell_type": "code",
   "execution_count": 1,
   "metadata": {},
   "outputs": [
    {
     "data": {
      "text/plain": [
       "ProdInt3x3 (generic function with 1 method)"
      ]
     },
     "execution_count": 1,
     "metadata": {},
     "output_type": "execute_result"
    }
   ],
   "source": [
    "#8.a)\n",
    "function ProdInt3x3(A,B)\n",
    "    if length(A)==length(B)==3\n",
    "        c=zeros(length(A))\n",
    "        v=0\n",
    "        for i ∈ 1:length(A)\n",
    "            c[i]+= A[i]*B[i]\n",
    "        end\n",
    "        for i ∈ 1:length(c)\n",
    "            v+=c[i]\n",
    "        end\n",
    "        print(v)\n",
    "    else\n",
    "        print(\"Deben de ser vectores en R^3\")\n",
    "    end\n",
    "end"
   ]
  },
  {
   "cell_type": "code",
   "execution_count": 2,
   "metadata": {},
   "outputs": [],
   "source": [
    "A=(1,2,3);\n",
    "B=(2,5,5);"
   ]
  },
  {
   "cell_type": "code",
   "execution_count": 3,
   "metadata": {},
   "outputs": [
    {
     "name": "stdout",
     "output_type": "stream",
     "text": [
      "27.0"
     ]
    }
   ],
   "source": [
    "ProdInt3x3(A,B)"
   ]
  },
  {
   "cell_type": "code",
   "execution_count": 4,
   "metadata": {},
   "outputs": [
    {
     "name": "stdout",
     "output_type": "stream",
     "text": [
      "14.0"
     ]
    }
   ],
   "source": [
    "ProdInt3x3(A,A)"
   ]
  },
  {
   "cell_type": "code",
   "execution_count": 5,
   "metadata": {},
   "outputs": [
    {
     "data": {
      "text/plain": [
       "ProdInt (generic function with 1 method)"
      ]
     },
     "execution_count": 5,
     "metadata": {},
     "output_type": "execute_result"
    }
   ],
   "source": [
    "#8.b)\n",
    "function ProdInt(A,B)\n",
    "    if length(A)==length(B)\n",
    "        c=zeros(length(A))\n",
    "        v=0\n",
    "        for i ∈ 1:length(A)\n",
    "            c[i]+= A[i]*B[i]\n",
    "        end\n",
    "        for i ∈ 1:length(c)\n",
    "            v+=c[i]\n",
    "        end\n",
    "        print(v)\n",
    "    else\n",
    "        print(\"Deben de ser vectores de las mismas dimensiones\")\n",
    "    end\n",
    "end"
   ]
  },
  {
   "cell_type": "code",
   "execution_count": 6,
   "metadata": {},
   "outputs": [],
   "source": [
    "C=(4,16,7,12,8);\n",
    "D=(2,8,0,3,5);"
   ]
  },
  {
   "cell_type": "code",
   "execution_count": 7,
   "metadata": {},
   "outputs": [
    {
     "name": "stdout",
     "output_type": "stream",
     "text": [
      "212.0"
     ]
    }
   ],
   "source": [
    "ProdInt(C,D)"
   ]
  },
  {
   "cell_type": "code",
   "execution_count": 8,
   "metadata": {},
   "outputs": [
    {
     "name": "stdout",
     "output_type": "stream",
     "text": [
      "Deben de ser vectores de las mismas dimensiones"
     ]
    }
   ],
   "source": [
    "ProdInt(A,C)"
   ]
  },
  {
   "cell_type": "code",
   "execution_count": null,
   "metadata": {},
   "outputs": [],
   "source": []
  }
 ],
 "metadata": {
  "kernelspec": {
   "display_name": "Julia 0.6.0",
   "language": "julia",
   "name": "julia-0.6"
  },
  "language_info": {
   "file_extension": ".jl",
   "mimetype": "application/julia",
   "name": "julia",
   "version": "0.6.0"
  }
 },
 "nbformat": 4,
 "nbformat_minor": 2
}
