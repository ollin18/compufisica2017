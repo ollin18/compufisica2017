{
 "cells": [
  {
   "cell_type": "markdown",
   "metadata": {},
   "source": [
    "<div class=\"alert alert-info\" role=\"alert\">\n",
    "<p class =\"lead\"> \n",
    "<h1> Producto Interior </h1>\n",
    "<h3>Computación</h3> <h3>Física, Facultad de Ciencias. UNAM </h3>\n",
    "<h2>Ethan Campos Méndez </h2> </div>"
   ]
  },
  {
   "cell_type": "markdown",
   "metadata": {},
   "source": [
    "El Producto Punto o Producto Interior de 3 dimensiones se expresa de la siguiente manera:\n",
    "$$ \\hat{a} {·} \\hat{b} = {(a_x · b_x)}+{(a_x · b_x)}+{(a_z · b_z)} $$"
   ]
  },
  {
   "cell_type": "code",
   "execution_count": 1,
   "metadata": {},
   "outputs": [
    {
     "data": {
      "text/plain": [
       "ProdIntR3 (generic function with 1 method)"
      ]
     },
     "execution_count": 1,
     "metadata": {},
     "output_type": "execute_result"
    }
   ],
   "source": [
    "function ProdIntR3(u1,u2,u3,v1,v2,v3) #Ingresamos las entradas\n",
    "    v=(u1*v1)+(u2*v2)+(u3*v3) \n",
    "    println(\"El resultado es: $v\")\n",
    "end "
   ]
  },
  {
   "cell_type": "code",
   "execution_count": 2,
   "metadata": {},
   "outputs": [
    {
     "name": "stdout",
     "output_type": "stream",
     "text": [
      "El resultado es: 10\n"
     ]
    }
   ],
   "source": [
    "ProdIntR3(1,2,3,3,2,1) #Probemos si funciona"
   ]
  },
  {
   "cell_type": "markdown",
   "metadata": {},
   "source": [
    "Ahora hagamos una función más general que funcione para ${R^n}$"
   ]
  },
  {
   "cell_type": "code",
   "execution_count": 3,
   "metadata": {},
   "outputs": [
    {
     "data": {
      "text/plain": [
       "ProdInt (generic function with 1 method)"
      ]
     },
     "execution_count": 3,
     "metadata": {},
     "output_type": "execute_result"
    }
   ],
   "source": [
    "function ProdInt(u,v) #Ingresamos 2 vectores\n",
    "    x=0\n",
    "    if length(u) == length(v) #Los vectores deben de tener la misma longitud para hacer el producto punto \n",
    "        for i ∈ eachindex(v)\n",
    "            x += u[i]*v[i] #Se multiplican la i-ésimas entradas y se suman a la entrada anterior.\n",
    "        end\n",
    "        println(\"El resultado es: $x\")\n",
    "    else\n",
    "        println(\"Los vectores tienen distintas dimensiones\")\n",
    "    end\n",
    "end"
   ]
  },
  {
   "cell_type": "code",
   "execution_count": 4,
   "metadata": {},
   "outputs": [],
   "source": [
    "#Probemos con vectores de diferentes dimensiones\n",
    "x=collect(1:1.0:10);\n",
    "y=collect(2:2.0:10);"
   ]
  },
  {
   "cell_type": "code",
   "execution_count": 5,
   "metadata": {},
   "outputs": [
    {
     "name": "stdout",
     "output_type": "stream",
     "text": [
      "Los vectores tienen distintas dimensiones\n"
     ]
    }
   ],
   "source": [
    "ProdInt(x,y) "
   ]
  },
  {
   "cell_type": "code",
   "execution_count": 6,
   "metadata": {},
   "outputs": [],
   "source": [
    "#Probemos con vectores de la misma dimensión\n",
    "X=collect(2:.5:10);\n",
    "Y=collect(2:.5:10);"
   ]
  },
  {
   "cell_type": "code",
   "execution_count": 7,
   "metadata": {},
   "outputs": [
    {
     "name": "stdout",
     "output_type": "stream",
     "text": [
      "El resultado es: 714.0\n"
     ]
    }
   ],
   "source": [
    "ProdInt(X,Y)"
   ]
  },
  {
   "cell_type": "markdown",
   "metadata": {},
   "source": [
    "Para poder leer las entradas de los vectores de un archivo usaremos el comando readdlm de la siguiente manera:"
   ]
  },
  {
   "cell_type": "code",
   "execution_count": 8,
   "metadata": {},
   "outputs": [],
   "source": [
    "x=readdlm(\"EntradasVectores1.csv\", '|');\n",
    "y=readdlm(\"EntradasVectores1.csv\", '|');"
   ]
  },
  {
   "cell_type": "code",
   "execution_count": 9,
   "metadata": {},
   "outputs": [
    {
     "name": "stdout",
     "output_type": "stream",
     "text": [
      "El resultado es: 385.0\n"
     ]
    }
   ],
   "source": [
    "ProdInt(x,y)"
   ]
  }
 ],
 "metadata": {
  "kernelspec": {
   "display_name": "Julia 0.6.0",
   "language": "julia",
   "name": "julia-0.6"
  },
  "language_info": {
   "file_extension": ".jl",
   "mimetype": "application/julia",
   "name": "julia",
   "version": "0.6.0"
  }
 },
 "nbformat": 4,
 "nbformat_minor": 2
}
