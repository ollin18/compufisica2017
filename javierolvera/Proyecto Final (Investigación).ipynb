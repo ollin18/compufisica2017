{
 "cells": [
  {
   "cell_type": "markdown",
   "metadata": {},
   "source": [
    "<div class=\"alert alert-info\" role=\"alert\">\n",
    "<p class =\"lead\"> \n",
    "<h1> Proyecto Final </h1>\n",
    "<h3>Computación</h3> <h3>Física, Facultad de Ciencias. UNAM </h3>\n",
    "<h2>Ethan Campos Méndez </h2>\n",
    "<h2>Luis Javier Olvera Vázquez</h2> </div>"
   ]
  },
  {
   "cell_type": "markdown",
   "metadata": {},
   "source": [
    "Nuestro proyecto consiste en calcular las octavas de una nota musical y graficar la frecuencia según la nota que desees. \n"
   ]
  },
  {
   "cell_type": "markdown",
   "metadata": {},
   "source": [
    "Y se resolverá con el siguiente modelo:\n"
   ]
  },
  {
   "cell_type": "markdown",
   "metadata": {},
   "source": [
    "$$\n",
    "{f} = {2^{k}} * {xHz}\n",
    "$$"
   ]
  },
  {
   "cell_type": "markdown",
   "metadata": {},
   "source": [
    "**f** *Es la frecuencia de la nota que obtendremos.* \n",
    "**x** *Es la frecuencia de la nota dada (cabe destacar que la frecuencia de la nota será de la primer octava).*\n",
    "**k** *es la octava que queramos.*\n",
    "\n",
    "Todos los conceptos se tratarán a continuación.\n"
   ]
  },
  {
   "cell_type": "markdown",
   "metadata": {},
   "source": [
    "   Para hablar de notas musicales, primero necesitamos el concepto de música: La música (del griego: $0μουσική$  $τέχνη$ - mousikē téchnē, \"_**El arte de las musas**_\") es, según la definición tradicional del término, el arte de organizar sensible y lógicamente una combinación coherente de sonidos y silencios. \n",
    "\n",
    "   Entonces el concepto que resulta ahora es el de sonido, que en física es cualquier fenómeno que involucre la propagación de ondas mecánicas (sean audibles o no), aunque en este caso que hablamos de música, que es una expresión cultural humana, nos interesa el sonido audible por los humanos.\n",
    "\n",
    "   Cómo el sonido es una onda, entonces tiene algunas propiedades como su **amplitud**, **periodo** (tiempo que dura un ciclo de la perturbación), la **longitud de onda**, la **velocidad de propagación** y relacionada éstas, la **frecuencia**, que es número de oscilaciones presentadas por segundo. \n",
    "   \n",
    "   Esta última característica es la que más nos interesa en este caso , ya que ésta es la que define la tonalidad de una nota. La unidad para medir la frecuencia se llama *Hertz* (Hz), que es 1 oscilación por segundo.\n"
   ]
  },
  {
   "cell_type": "markdown",
   "metadata": {},
   "source": [
    "Recapitulando, en la música existen diferentes sonidos que tienen diferente frecuencia y son agradables al oido, a estas se les conoce cómo **Notas Musicales** "
   ]
  },
  {
   "cell_type": "markdown",
   "metadata": {},
   "source": [
    "Los seres humanos podemos percibir un cierto espectro de frecuencias en el sonido que va de los $20 Hz$ a los $20,000 Hz$. Este espectro de frecuencias ha sido divido discretamente para dar origen a lo que conocemos como notas musicales. Las notas musicales son vibraciones de frecuencias determinadas, a la que le podemos llamar frecuencia fundamental. Una vibración sinusoidal a una frecuencia concreta, produce un sonido puro que nosotros percibimos como un pitido de un determinado tono.\n",
    "\n",
    "Así, el intervalo de 55 HZ a 110 Hz ha sido dividido en 12 notas, separadas por lo que en música se le llama semitonos:\n",
    "_**La, La#, Si, Do, Do#, Re, Re#, Mi, Fa, Fa#, Sol, Sol#**_, y después de esto se repiten periódicamente los nombres para las siguientes notas. Como se puede observar, solo algunas tienen nombre propio (por razones más históricas que físicas): _**Do, Re, Mi, Fa, Sol, La, Si, Do**_ (_A esta secuencia se le llama también \"escala de Do Mayor\"_) y son las representadas en las teclas blancas de los pianos. También podemos observar que la octava nota se repite y lleva el mismo nombre que la primera, por eso se dice que el espectro está dividido en \"octavas\".\n",
    "\n",
    "El porqué de que el nombre se repite es porque si $La$ de la primera octava es 55Hz, en la siguiente octava la frecuencia se duplica, 110Hz y así sucesivamente. El efecto sonoro que produce cada una de éstas notas aunque es más agudo, es muy similar al de la octava anterior, tanto es así que si se tocan juntas, la misma nota en dos octavas, no es casi perceptible el efecto de la nota aguda. \n",
    "\n",
    "Precisamente en este proyecto el propósito es mostrar la frecuencia y el número de ciclos que se repiten en un intervalo de tiempo según una nota escogida y su respectiva octava.\n"
   ]
  },
  {
   "cell_type": "markdown",
   "metadata": {},
   "source": [
    "## Piano con Notas ##\n",
    "\n",
    "![Aaron](http://mariomusica.com/wp-content/uploads/2012/07/corres-notas-teclas-piano.png)"
   ]
  },
  {
   "cell_type": "markdown",
   "metadata": {},
   "source": [
    "En nuestro programa se deberá ingresar la nota de la cuál se obtendrán sus respectivas octavas. \n",
    "De esta manera pondremos la primer octava de la nota que se desea."
   ]
  },
  {
   "cell_type": "markdown",
   "metadata": {},
   "source": [
    "La frecuencia de la primer octava de cada nota es:\n",
    "\n",
    "* Do: 32.7  *Hz*\n",
    "* Re: 36.71 *Hz*\n",
    "* Mi: 41.2  *Hz*\n",
    "* Fa: 43.65 *Hz*\n",
    "* Sol: 49.0 *Hz*\n",
    "* La: 55.0  *Hz*\n",
    "* Si: 61.74 *Hz*"
   ]
  },
  {
   "cell_type": "markdown",
   "metadata": {},
   "source": [
    "De esta manera el programa arrojará las frecuencias de cada una de sus octavas desde la primera a la última y sus diferentes gráficas."
   ]
  }
 ],
 "metadata": {
  "kernelspec": {
   "display_name": "Julia 0.5.2",
   "language": "julia",
   "name": "julia-0.5"
  },
  "language_info": {
   "file_extension": ".jl",
   "mimetype": "application/julia",
   "name": "julia",
   "version": "0.5.2"
  }
 },
 "nbformat": 4,
 "nbformat_minor": 2
}
