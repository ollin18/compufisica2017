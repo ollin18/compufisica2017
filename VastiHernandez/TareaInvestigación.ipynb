{
 "cells": [
  {
   "cell_type": "markdown",
   "metadata": {},
   "source": [
    "\n",
    "<font size=\"5\" color=\"black\" align=center >*Tarea Investigación* \n"
   ]
  },
  {
   "cell_type": "markdown",
   "metadata": {},
   "source": [
    "### 1-: ¿Qué es un sistema de punto flotante?\n",
    "\n"
   ]
  },
  {
   "cell_type": "code",
   "execution_count": 2,
   "metadata": {},
   "outputs": [],
   "source": [
    "#\"Con el sistema de Punto Flotante, se resuelve el problema del punto fijo, ya que amplía el rango. Los  números  que  conocemos  como  escritos  en  notación  científica  o  notación  exponencial  se  asemejan a la notación de punto flotante.\" "
   ]
  },
  {
   "cell_type": "markdown",
   "metadata": {},
   "source": [
    "### 2-: Diferencias entre sistemas operativos de 32 y 64 bits."
   ]
  },
  {
   "cell_type": "code",
   "execution_count": null,
   "metadata": {},
   "outputs": [],
   "source": [
    "# \"La principal diferencia es que un sistema de 64 bits es capaz de procesar hasta el doble de información que en un sistema de 32bits.\n",
    "\n",
    "#De ahí que si queremos sacar el máximo partido a nuestro sistema es recomendable instalar un sistema operativo de 64 bits.\n",
    "\n",
    "#Un sistema operativo de 64 bits necesita más memoria RAM que uno de 32 bits.\n",
    "\n",
    "#Un ordenador con sistema operativo de 64 bits está más enfocado al entorno profesional, mientras que uno de 32 bits es más adecuado para un usuario normal.\""
   ]
  },
  {
   "cell_type": "markdown",
   "metadata": {
    "collapsed": true
   },
   "source": [
    "###  3-: ¿Qué es ALU?\n"
   ]
  },
  {
   "cell_type": "code",
   "execution_count": null,
   "metadata": {},
   "outputs": [],
   "source": [
    "# \"Una unidad aritmética y lógica (ALU) es un circuito combinacional que desarrolla microoperaciones lógicas y aritméticas de dos operandos A y B de n bits. Las operaciones llevadas a cabo por la ALU son controladas por un grupo de entradas de selección de función.\n",
    "\n",
    "#Se debe diseñar una ALU de 4 bits con 3 entradas de selección de función : modo M, entradas de selección S0 y S1. La entrada M selecciona entre una operación lógica (M=0) y una aritmética (M=1). Las funciones desarrolladas por la ALU se muestran en la siguiente tabla. Cuando se está realizando una resta, asumiremos que el resultado es positivo ( p. ej. A>B cuando se hace A-B).\""
   ]
  },
  {
   "cell_type": "code",
   "execution_count": null,
   "metadata": {
    "collapsed": true
   },
   "outputs": [],
   "source": []
  }
 ],
 "metadata": {
  "kernelspec": {
   "display_name": "Julia 0.5.2",
   "language": "julia",
   "name": "julia-0.5"
  },
  "language_info": {
   "file_extension": ".jl",
   "mimetype": "application/julia",
   "name": "julia",
   "version": "0.5.2"
  }
 },
 "nbformat": 4,
 "nbformat_minor": 2
}
