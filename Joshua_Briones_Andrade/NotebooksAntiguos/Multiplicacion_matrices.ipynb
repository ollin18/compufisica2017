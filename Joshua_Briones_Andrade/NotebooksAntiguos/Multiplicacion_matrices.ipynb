{
 "cells": [
  {
   "cell_type": "markdown",
   "metadata": {},
   "source": [
    "# Multiplicación de Matrices (Producto Interno)\n",
    "## Computación\n",
    "### Facultad de Ciencias, UNAM\n",
    "### Briones Andrade Joshua\n"
   ]
  },
  {
   "cell_type": "markdown",
   "metadata": {},
   "source": [
    "Primero para la multiplicación de matrices debemos tener dos maatrices tales que tengan el mismo tamaño.\n",
    "Vamos a definir primero los componentes de estas matrices."
   ]
  },
  {
   "cell_type": "code",
   "execution_count": 17,
   "metadata": {},
   "outputs": [
    {
     "data": {
      "text/plain": [
       "5×5 Array{Int64,2}:\n",
       " 1  1  2  3  4\n",
       " 3  2  3  4  0\n",
       " 0  3  1  0  1\n",
       " 4  4  4  1  2\n",
       " 2  0  0  2  3"
      ]
     },
     "execution_count": 17,
     "metadata": {},
     "output_type": "execute_result"
    }
   ],
   "source": [
    "#Se define la primer matriz como un arreglo de vectores al que llamaremos MatrixA\n",
    "\n",
    "MatrixA = hcat(randcycle(5)-1,randcycle(5)-1,randcycle(5)-1,randcycle(5)-1,randcycle(5)-1)"
   ]
  },
  {
   "cell_type": "code",
   "execution_count": 18,
   "metadata": {},
   "outputs": [
    {
     "data": {
      "text/plain": [
       "5×5 Array{Int64,2}:\n",
       " 3  1  2  3  2\n",
       " 0  4  3  4  3\n",
       " 4  3  4  1  1\n",
       " 2  0  0  2  4\n",
       " 1  2  1  0  0"
      ]
     },
     "execution_count": 18,
     "metadata": {},
     "output_type": "execute_result"
    }
   ],
   "source": [
    "#De igual manera, se define la segunda matriz como un arreglo de vectores al que llamaremos MatrixB\n",
    "\n",
    "MatrixB = hcat(randcycle(5)-1,randcycle(5)-1,randcycle(5)-1,randcycle(5)-1,randcycle(5)-1)"
   ]
  },
  {
   "cell_type": "code",
   "execution_count": 3,
   "metadata": {},
   "outputs": [
    {
     "data": {
      "text/plain": [
       "5×6 Array{Int64,2}:\n",
       " 2  3  4  3  3  2\n",
       " 3  5  5  4  5  4\n",
       " 4  2  1  2  4  1\n",
       " 5  1  2  5  2  5\n",
       " 1  4  3  1  1  3"
      ]
     },
     "execution_count": 3,
     "metadata": {},
     "output_type": "execute_result"
    }
   ],
   "source": [
    "#Se define una tercera matriz como un arreglo de vectores de diferente tamaño a la matriz A y B\n",
    "\n",
    "MatrixC = hcat(randcycle(5),randcycle(5),randcycle(5),randcycle(5),randcycle(5),randcycle(5))"
   ]
  },
  {
   "cell_type": "markdown",
   "metadata": {},
   "source": [
    "La formula para el producto interno de dos vectores es:\n",
    "\n",
    "# $$a_{mxn}\\cdot b_{mxn}=\\sum_{j=1}^{n} \\sum_{i=1}^{m}{\\alpha_{ij}\\beta_{ij}}$$\n",
    "\n",
    "### Donde:\n",
    "\n",
    "### $ n = $ número de renglones \n",
    "\n",
    "### $ m = $ número de columnas  \n",
    "\n",
    "### $ \\alpha_{ij},\\beta_{ij} $ son componentes de la matriz  "
   ]
  },
  {
   "cell_type": "code",
   "execution_count": 19,
   "metadata": {},
   "outputs": [
    {
     "name": "stdout",
     "output_type": "stream",
     "text": [
      "Las matrices no tienen las mismas dimensiones, no es posible multiplicarlas\n"
     ]
    }
   ],
   "source": [
    "#Para nuestro código vamos a checar primero la longitud de MatrixA y comprobaremos que es la misma con MatrixC como prueba\n",
    "\n",
    "n = size(MatrixA)\n",
    "\n",
    "if n != size(MatrixC) \n",
    "        println(\"Las matrices no tienen las mismas dimensiones, no es posible multiplicarlas\")\n",
    "end"
   ]
  },
  {
   "cell_type": "code",
   "execution_count": 23,
   "metadata": {},
   "outputs": [
    {
     "name": "stdout",
     "output_type": "stream",
     "text": [
      "El resultado es:\n",
      "92\n"
     ]
    }
   ],
   "source": [
    "#Finalmente agregamos esto y continuamos con s como nuestra suma obtenida para multiplicar cada uno de los componentes correspondientes y tener nuestro resultado\n",
    "#Como nota sumamos n[2]-1 a length(MatrixA) porque son las veces que hace suma la unidad a j con respecto al tamaño de la matriz\n",
    "s=0\n",
    "n = size(MatrixA)\n",
    "\n",
    "if n != size(MatrixB) \n",
    "        println(\"Las matrices no tienen las mismas dimensiones, no es posible multiplicarlas\")         \n",
    "    else\n",
    "        j=1\n",
    "        i=1        \n",
    "        for a in 1:length(MatrixA)+n[2]-1\n",
    "            if i <=n[1]\n",
    "                s=s+MatrixA[i,j]*MatrixB[i,j]\n",
    "                i=i+1\n",
    "            elseif i > n[1]\n",
    "                j=j+1\n",
    "                if j <= n[2]\n",
    "                    i=1\n",
    "                elseif j > n[2]\n",
    "                end\n",
    "            end\n",
    "        end\n",
    "    println(\"El resultado es:\") \n",
    "    println(s)\n",
    "end"
   ]
  }
 ],
 "metadata": {
  "kernelspec": {
   "display_name": "Julia 0.5.2",
   "language": "julia",
   "name": "julia-0.5"
  },
  "language_info": {
   "file_extension": ".jl",
   "mimetype": "application/julia",
   "name": "julia",
   "version": "0.5.2"
  }
 },
 "nbformat": 4,
 "nbformat_minor": 2
}
