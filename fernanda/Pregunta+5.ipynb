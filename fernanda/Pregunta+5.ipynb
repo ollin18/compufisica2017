{
 "cells": [
  {
   "cell_type": "markdown",
   "metadata": {},
   "source": [
    "<div class=\"alert alert-success\" role=\"alert\">\n",
    " <h1> Pregunta 5</h1>\n",
    " <h2>Computación</h2>\n",
    " <h2>Física, Facultad de Ciencias. UNAM </h2>\n",
    " <h3>Fernanda Martínez Saldaña</h3>\n",
    " </div>"
   ]
  },
  {
   "cell_type": "markdown",
   "metadata": {},
   "source": [
    "Este programa calcula las soluciones de un polinomio de la forma: $ ax^2 + bx + c$, al proporcionar los coeficientes $a, b, c$."
   ]
  },
  {
   "cell_type": "markdown",
   "metadata": {},
   "source": [
    "A continuación se ve la escuación de segundo grado"
   ]
  },
  {
   "cell_type": "markdown",
   "metadata": {},
   "source": [
    "![Imagen](https://ekuatio.com/wp-content/uploads/6-ECUACIONES-DE-SEGUNDO-GRADO-COMPLETAS.jpg)"
   ]
  },
  {
   "cell_type": "code",
   "execution_count": null,
   "metadata": {},
   "outputs": [],
   "source": [
    "Utilizaremos una función para obtener las soluciones de un plinomio"
   ]
  },
  {
   "cell_type": "code",
   "execution_count": 4,
   "metadata": {},
   "outputs": [
    {
     "data": {
      "text/plain": [
       "poli2 (generic function with 1 method)"
      ]
     },
     "execution_count": 4,
     "metadata": {},
     "output_type": "execute_result"
    }
   ],
   "source": [
    "function poli2(a,b,c)         #Generamos la función para calcular las soluciones de un polinomio\n",
    "    disc=b^2-4*a*c\n",
    "    if disc >= 0                    #Utilizamos if para decir que es una condición\n",
    "        x1=(-b+sqrt(disc))/(2*a)    #sustituimos la ecuación de segundo grado con raíz positiva\n",
    "        x2=(-b-sqrt(disc))/(2*a)    #sustituimos la ecuación de segundo grado con raíz negativa\n",
    "        print(\"Las raíces del polinomio dado son: x1=$x1 y x2=$x2\")  #Imprimimos resultado\n",
    "        else       #Ponemos else por si el if no se cumple, con este podemos obtener las raíces complejas \n",
    "        a1=-b/(2*a)                #Ponemos la parte real de la ecuación\n",
    "        b1=sqrt(-disc)/(2*a)       #Ponemos la parte imaginaia de la ecuación positiva\n",
    "        b2=-sqrt(-disc)/(2*a)      #Ponemos la parte imaginaria de la ecuación negtiva\n",
    "        print(\"Las raíces del polinomio son: x1 = $a1 + $b1 i    y    x2 = $a1 + $b2 i\")  #Imprime el resultado\n",
    "    end      #Termina el ciclo if\n",
    "    end    #Termina la función"
   ]
  },
  {
   "cell_type": "markdown",
   "metadata": {},
   "source": [
    "Probamos la función "
   ]
  },
  {
   "cell_type": "markdown",
   "metadata": {},
   "source": [
    "Ejemplo de raíces reales"
   ]
  },
  {
   "cell_type": "code",
   "execution_count": 6,
   "metadata": {},
   "outputs": [
    {
     "name": "stdout",
     "output_type": "stream",
     "text": [
      "Las raíces del polinomio dado son: x1=-1.0 y x2=-3.0"
     ]
    }
   ],
   "source": [
    "poli2(1,4,3)"
   ]
  },
  {
   "cell_type": "markdown",
   "metadata": {},
   "source": [
    "Ejemplo de raíces dobles"
   ]
  },
  {
   "cell_type": "code",
   "execution_count": 23,
   "metadata": {},
   "outputs": [
    {
     "name": "stdout",
     "output_type": "stream",
     "text": [
      "Las raíces del polinomio dado son: x1=-1.0 y x2=-1.0"
     ]
    }
   ],
   "source": [
    "poli2(1,2,1)"
   ]
  },
  {
   "cell_type": "markdown",
   "metadata": {},
   "source": [
    "Ejemplo de raíces complejas:"
   ]
  },
  {
   "cell_type": "code",
   "execution_count": 8,
   "metadata": {},
   "outputs": [
    {
     "name": "stdout",
     "output_type": "stream",
     "text": [
      "Las raíces del polinomio dado son: x1 = -0.75 + 1.3919410907075054 i    y    x2 = -0.75 + -1.3919410907075054 i"
     ]
    }
   ],
   "source": [
    "poli2(2,3,5)"
   ]
  }
 ],
 "metadata": {
  "kernelspec": {
   "display_name": "Julia 0.6.0",
   "language": "julia",
   "name": "julia-0.6"
  },
  "language_info": {
   "file_extension": ".jl",
   "mimetype": "application/julia",
   "name": "julia",
   "version": "0.6.0"
  }
 },
 "nbformat": 4,
 "nbformat_minor": 2
}
