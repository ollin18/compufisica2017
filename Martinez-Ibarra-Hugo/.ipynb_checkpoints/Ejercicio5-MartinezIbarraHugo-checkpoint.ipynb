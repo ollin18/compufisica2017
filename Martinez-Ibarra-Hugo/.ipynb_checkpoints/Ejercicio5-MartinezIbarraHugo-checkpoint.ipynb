{
 "cells": [
  {
   "cell_type": "markdown",
   "metadata": {},
   "source": [
    "### Martínez Ibarra Hugo\n",
    "***\n",
    "### Computación <p style=\"text-align:right\">Grupo 8381\n",
    "## <p style=\"color:darkblue;text-align:center\">Ejercicio #5"
   ]
  },
  {
   "cell_type": "markdown",
   "metadata": {},
   "source": [
    "Calcular las raíces de un polinomio cuadrático. El usuario debe proporcionar los coeficientes de la ecuación de 2° orden. El programa debe considerar los casos de i)raíces reales, ii)raíz doble y iii)raíces complejas."
   ]
  },
  {
   "cell_type": "markdown",
   "metadata": {},
   "source": [
    "Para comenzar, se debe recordar que para una ecuación cuadrática, el tipo de raíz (dos reales y diferentes, dos reales e iguales o dos raíces complejas) está determinado por lo que se conoce como discriminante de la ecuación.\n",
    "\n",
    "La forma general de la ecuación de segundo grado es:\n",
    "$$ax²+bx+c\\qquad a\\neq0$$\n",
    "y el discriminante:\n",
    "$$b²-4ac$$\n",
    "Y para el discriminante se presentan los siguientes casos:\n",
    "\n",
    "Caso 1: $b²-4ac>0$ Se tienen dos raíces reales y diferentes.\n",
    "\n",
    "Caso 2: $b²-4ac=0$ Se tienen dos raíces reales e iguales.\n",
    "\n",
    "Caso 3: $b²-4ac<0$ Se tienen dos raíces complejas."
   ]
  },
  {
   "cell_type": "code",
   "execution_count": 1,
   "metadata": {},
   "outputs": [],
   "source": [
    "#Aquí el usuario proporciona los valores de los coeficientes a, b y c.\n",
    "a=2\n",
    "b=4\n",
    "c=4;"
   ]
  },
  {
   "cell_type": "code",
   "execution_count": 2,
   "metadata": {},
   "outputs": [
    {
     "name": "stdout",
     "output_type": "stream",
     "text": [
      "Se tienen dos raíces reales y complejas:   x1=-3.9999999999999996 + 4.0im   x2=-4.0 - 4.0im\n"
     ]
    }
   ],
   "source": [
    "#Se establece una estrcutira de control de condicionales, donde cada condicional contempla cada uno de los casos descritos con anterioridad. Y una advertencia en caso de que ninguno de esos casos se presente.\n",
    "if b^2-4*a*c>0\n",
    "    x1=(-b/2*a)+((b^2-4*a*c)^(1/2))/2*a\n",
    "    x2=(-b/2*a)-((b^2-4*a*c)^(1/2))/2*a\n",
    "    println(\"Se tienen dos raíces reales y diferentes:   \",\"x1=\",x1,\"   x2=\",x2)\n",
    "elseif b^2-4*a*c==0\n",
    "    x1=(-b/2*a)\n",
    "    x2=(-b/2*a)\n",
    "    println(\"Se tienen dos raíces reales e iguales:   \",\"x1=\",x1,\"   x2=\",x2)\n",
    "elseif b^2-4*a*c<0\n",
    "#Aqui se convierte el número dentro del radical en número imaginario, al agregar el término +0im, de manera que el lenguaje de programación lo identifique como número complejo y lo opere como tal.\n",
    "    x1=(-b/2*a)+(((b^2-4*a*c)+0im)^(1/2))/2*a\n",
    "    x2=(-b/2*a)-(((b^2-4*a*c)+0im)^(1/2))/2*a\n",
    "    println(\"Se tienen dos raíces reales y complejas:   \",\"x1=\",x1,\"   x2=\",x2)\n",
    "else\n",
    "    \"No está definido en la programación\"\n",
    "end"
   ]
  },
  {
   "cell_type": "code",
   "execution_count": 3,
   "metadata": {},
   "outputs": [
    {
     "name": "stdout",
     "output_type": "stream",
     "text": [
      "Se tienen dos raíces reales y complejas:   x1=-4.0+4.0i   x2=-4.0-4.0i\n"
     ]
    }
   ],
   "source": [
    "##Se establece una estrcutira de control de condicionales, donde cada condicional contempla cada uno de los casos descritos con anterioridad. Y una advertencia en caso de que ninguno de esos casos se presente.\n",
    "if b^2-4*a*c>0\n",
    "    x1=(-b/2*a)+((b^2-4*a*c)^(1/2))/2*a\n",
    "    x2=(-b/2*a)-((b^2-4*a*c)^(1/2))/2*a\n",
    "    println(\"Se tienen dos raíces reales y diferentes:   \",\"x1=\",x1,\"   x2=\",x2)\n",
    "elseif b^2-4*a*c==0\n",
    "    x1=(-b/2*a)\n",
    "    x2=(-b/2*a)\n",
    "    println(\"Se tienen dos raíces reales e iguales:   \",\"x1=\",x1,\"   x2=\",x2)\n",
    "elseif b^2-4*a*c<0\n",
    "#Aquí se divide dentro del algoritmo las raíces en su parte real e imaginaria y con la adecuada sintaxis se programa la visualización del resultado.\n",
    "    x1r=(-b/2*a)\n",
    "    x1i=((-(b^2-4*a*c))^(1/2))/2*a\n",
    "    x2r=(-b/2*a)\n",
    "    x2i=-((-(b^2-4*a*c))^(1/2))/2*a\n",
    "    println(\"Se tienen dos raíces reales y complejas:   \",\"x1=\",x1r,\"+\",x1i,\"i\",\"   x2=\",x2r,x2i,\"i\")\n",
    "else\n",
    "    \"No está definido en la programación\"\n",
    "end"
   ]
  },
  {
   "cell_type": "code",
   "execution_count": null,
   "metadata": {},
   "outputs": [],
   "source": []
  }
 ],
 "metadata": {
  "kernelspec": {
   "display_name": "Julia 0.6.0",
   "language": "julia",
   "name": "julia-0.6"
  },
  "language_info": {
   "file_extension": ".jl",
   "mimetype": "application/julia",
   "name": "julia",
   "version": "0.6.0"
  }
 },
 "nbformat": 4,
 "nbformat_minor": 2
}
