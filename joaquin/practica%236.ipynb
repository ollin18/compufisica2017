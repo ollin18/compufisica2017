{
 "cells": [
  {
   "cell_type": "markdown",
   "metadata": {},
   "source": [
    "<div class=\"alert alert-danger\" role=\"alert\">\n",
    "<h1>Ejercicios de programación en julia</h1>\n",
    "<h2>COMPUTACIÓN</h2>\n",
    "<h2>FÍSICA,FACULTAD DE CIENCIAS, UNAM </h2>\n",
    "<h3>JOAQUIN MIRANDA SANTIAGO</h3>\n",
    "</div>\n"
   ]
  },
  {
   "cell_type": "markdown",
   "metadata": {},
   "source": [
    "# Ejercicio 6\n",
    "## 6.1 Escribe un programa que calcule el producto cruz entre dos vectores en $R^3$\n"
   ]
  },
  {
   "cell_type": "markdown",
   "metadata": {},
   "source": [
    "#### Sean los vectores\n",
    "$$\n",
    "\\hat{\\alpha} =\\alpha_1\\hat{i}+\\alpha_2\\hat{j}+\\alpha_3\\hat{k}\n",
    "$$\n",
    "$$\n",
    "\\hat{\\beta} =\\beta_1\\hat{i}+\\beta_2\\hat{j}+\\beta_3\\hat{k}\n",
    "$$\n",
    "#### El producto cruz etre los vectores $\\hat{\\alpha}$ y $\\hat{\\beta}$ puede escribirse como:\n",
    "$$\n",
    "\\hat{\\phi}=(\\alpha_2\\beta_3-\\alpha_3\\beta_2)\\hat{i} +(\\alpha_3\\beta_1-\\alpha_1\\beta_3)\\hat{j}+(\\alpha_1\\beta_2-\\alpha_2\n",
    "\\beta_1)\\hat{k}\n",
    "$$\n",
    "#### Donde $\\hat{\\phi}$ es el vetor resultante del producto cruz"
   ]
  },
  {
   "cell_type": "code",
   "execution_count": 35,
   "metadata": {},
   "outputs": [
    {
     "data": {
      "text/plain": [
       "producto_cruz (generic function with 1 method)"
      ]
     },
     "execution_count": 35,
     "metadata": {},
     "output_type": "execute_result"
    }
   ],
   "source": [
    "function producto_cruz(a,b)\n",
    "    ϕ=zeros(a)\n",
    "    if length(a) ==3\n",
    "        if length(a)==length(b)\n",
    "            ϕ[1]= (a[2]*b[3]-a[3]*b[2])\n",
    "            ϕ[2]=(a[3]*b[1]-a[1]*b[3])\n",
    "            ϕ[3]=(a[1]*b[2]-a[2]*b[1])\n",
    "            println(\"el vector resultente es:\")\n",
    "    println(\"ϕ=\",ϕ)\n",
    "            else \n",
    "            println(\"error!, los vectores deben de ser del mismo tamaño\")\n",
    "        end\n",
    "        else \n",
    "        println(\"lo sentimos, el programa solo puede calcular el produto cruz de vectores en r3 \")\n",
    "    end\n",
    "   \n",
    "end"
   ]
  },
  {
   "cell_type": "code",
   "execution_count": 29,
   "metadata": {},
   "outputs": [
    {
     "data": {
      "text/plain": [
       "3-element Array{Int64,1}:\n",
       "  1\n",
       " -1\n",
       "  3"
      ]
     },
     "execution_count": 29,
     "metadata": {},
     "output_type": "execute_result"
    }
   ],
   "source": [
    "#ejemplo\n",
    "a=[2,0,1]\n",
    "b=[1,-1,3]"
   ]
  },
  {
   "cell_type": "code",
   "execution_count": 30,
   "metadata": {},
   "outputs": [
    {
     "name": "stdout",
     "output_type": "stream",
     "text": [
      "el vector resultente es:\n",
      "ϕ=[1, -5, -2]\n"
     ]
    }
   ],
   "source": [
    "producto_cruz(a,b)"
   ]
  },
  {
   "cell_type": "code",
   "execution_count": 36,
   "metadata": {},
   "outputs": [
    {
     "data": {
      "text/plain": [
       "2-element Array{Int64,1}:\n",
       " 1\n",
       " 2"
      ]
     },
     "execution_count": 36,
     "metadata": {},
     "output_type": "execute_result"
    }
   ],
   "source": [
    "a=[1,2,5, 5]\n",
    "b=[1,2]\n"
   ]
  },
  {
   "cell_type": "code",
   "execution_count": 37,
   "metadata": {},
   "outputs": [
    {
     "name": "stdout",
     "output_type": "stream",
     "text": [
      "lo sentimos, el programa solo puede calcular el produto cruz de vectores en r3 \n"
     ]
    }
   ],
   "source": [
    "producto_cruz(a,b)"
   ]
  },
  {
   "cell_type": "code",
   "execution_count": null,
   "metadata": {},
   "outputs": [],
   "source": []
  }
 ],
 "metadata": {
  "kernelspec": {
   "display_name": "Julia 0.6.0",
   "language": "julia",
   "name": "julia-0.6"
  },
  "language_info": {
   "file_extension": ".jl",
   "mimetype": "application/julia",
   "name": "julia",
   "version": "0.6.0"
  }
 },
 "nbformat": 4,
 "nbformat_minor": 2
}
