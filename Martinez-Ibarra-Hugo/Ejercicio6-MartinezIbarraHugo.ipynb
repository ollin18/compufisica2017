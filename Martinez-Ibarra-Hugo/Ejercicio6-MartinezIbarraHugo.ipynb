{
 "cells": [
  {
   "cell_type": "markdown",
   "metadata": {},
   "source": [
    "### Martínez Ibarra Hugo\n",
    "***\n",
    "### Computación <p style=\"text-align:right\">Grupo 8381\n",
    "## <p style=\"color:darkblue;text-align:center\">Ejercicio #6"
   ]
  },
  {
   "cell_type": "markdown",
   "metadata": {},
   "source": [
    "Escribe un programa que calcule el producto cruz de dos vectores en $\\mathbb{R}³$, el usuario debe insertar las entradas de los vectores."
   ]
  },
  {
   "cell_type": "markdown",
   "metadata": {},
   "source": [
    "Recordar que el prodcuto cruz se puede obtener de una reprentación en forma de determinante entre los tres siguientes vectores: los dos vectores del producto cruz y el vector que contiene los vectores que forman la base del espacio.\n",
    "$$a=[a_{1,1}\\quad a_{1,2}\\quad a_{1,3}]$$\n",
    "$$b=[b_{1,1}\\quad b_{1,2}\\quad b_{1,3}]$$\n",
    "$$axb=\\begin{bmatrix}\\hat{i}&\\hat{j}&\\hat{k}\\\\\n",
    "a_{1,1}&a_{1,2}&a_{1,3}\\\\b_{1,1}&b_{1,2}&b_{1,3}\\end{bmatrix}=(a_{1,2}b_{1,3}-a_{1,3}b_{1,2})\\hat{i}+(a_{1,3}b_{1,1}-a_{1,1}b_{1,3})\\hat{j}+(a_{1,1}b_{1,2}-a_{1,2}b_{1,1})\\hat{k}=\\\\\n",
    "[(a_{1,2}b_{1,3}-a_{1,3}b_{1,2})\\quad(a_{1,3}b_{1,1}-a_{1,1}b_{1,3})\\quad(a_{1,1}b_{1,2}-a_{1,2}b_{1,1})$$\n",
    "\n",
    "Para el caso de vectores verticales:$$$$\n",
    "$a=\\begin{bmatrix}a_{1,1}\\\\a_{2,1}\\\\a_{3,1}\\end{bmatrix}$ $b=\\begin{bmatrix}b_{1,1}\\\\b_{2,1}\\\\b_{3,1}\\end{bmatrix}$\n",
    "$$axb=\\begin{bmatrix}\\hat{i}&\\hat{j}&\\hat{k}\\\\\n",
    "a_{1,1}&a_{2,1}&a_{3,1}\\\\b_{1,1}&b_{2,1}&b_{3,1}\\end{bmatrix}=(a_{2,1}b_{3,1}-a_{3,1}b_{2,1})\\hat{i}+(a_{3,1}b_{1,1}-a_{1,1}b_{3,1})\\hat{j}+(a_{1,1}b_{2,1}-a_{2,1}b_{1,1})\\hat{k}=\\\\\n",
    "[(a_{2,1}b_{3,1}-a_{3,1}b_{2,1})\\quad(a_{3,1}b_{1,1}-a_{1,1}b_{3,1})\\quad(a_{1,1}b_{2,1}-a_{2,1}b_{1,1})$$"
   ]
  },
  {
   "cell_type": "code",
   "execution_count": 1,
   "metadata": {
    "scrolled": true
   },
   "outputs": [],
   "source": [
    "#Aquí el usuario introduce las entradas de cada vector, ya sea vertical (columna) u horizontal (renglón).\n",
    "a=[1 2 3]\n",
    "b=[4 5 6];"
   ]
  },
  {
   "cell_type": "code",
   "execution_count": 2,
   "metadata": {},
   "outputs": [
    {
     "data": {
      "text/plain": [
       "prodvect (generic function with 1 method)"
      ]
     },
     "execution_count": 2,
     "metadata": {},
     "output_type": "execute_result"
    }
   ],
   "source": [
    "#Se define la función para el producto vectorial (cruz) en R³.\n",
    "#Se utiliza condicional para ver si se trata de un vector vertical u horizontal. Lo primero se corrobora al ver si son de la misma dimensión (1 para vectores verticales, 2 para vectores horizontales), luego si tienen el mismo número fe renglones, con lenght(), si coinciden en número de elementos se lleva a cabo la operación. Para el caso de vectores horizontales la dimensión de ambos vectores debe ser 2 y si tienen el mismo tamaño, size()=(1,3), se lleva a cabo la operación. Para ambos casos si no se cumple la condición principal se avisa que no son del mismo tamaño.\n",
    "function prodvect(a::Array,b::Array)\n",
    "    if ndims(a)==ndims(b) && ndims(a)==1\n",
    "        if length(a)==length(b)\n",
    "            axb=[(a[2,]*b[3,]-a[3,]*b[2,]),(a[3,]*b[1,]-a[1,]*b[3,]),(a[1,]*b[2,]-a[2,]*b[1,])]\n",
    "        else\n",
    "            \"No son del mismo tamaño\"\n",
    "        end\n",
    "    elseif ndims(a)==ndims(b) && ndims(a)==2\n",
    "        if size(a)==size(b)&&size(a)==(1,3)\n",
    "            axb=[(a[1,2]*b[1,3]-a[1,3]*b[1,2]) (a[1,3]*b[1,1]-a[1,1]*b[1,3]) (a[1,1]*b[1,2]-a[1,2]*b[1,1])]\n",
    "        else\n",
    "            \"No son del mismo tamaño o no son vectores renglón\"\n",
    "        end\n",
    "    else\n",
    "        \"No definido\"\n",
    "    end\n",
    "end"
   ]
  },
  {
   "cell_type": "code",
   "execution_count": 3,
   "metadata": {},
   "outputs": [
    {
     "data": {
      "text/plain": [
       "1×3 Array{Int64,2}:\n",
       " -3  6  -3"
      ]
     },
     "execution_count": 3,
     "metadata": {},
     "output_type": "execute_result"
    }
   ],
   "source": [
    "axb=prodvect(a,b)"
   ]
  },
  {
   "cell_type": "code",
   "execution_count": null,
   "metadata": {},
   "outputs": [],
   "source": []
  }
 ],
 "metadata": {
  "kernelspec": {
   "display_name": "Julia 0.6.0",
   "language": "julia",
   "name": "julia-0.6"
  },
  "language_info": {
   "file_extension": ".jl",
   "mimetype": "application/julia",
   "name": "julia",
   "version": "0.6.0"
  }
 },
 "nbformat": 4,
 "nbformat_minor": 2
}
