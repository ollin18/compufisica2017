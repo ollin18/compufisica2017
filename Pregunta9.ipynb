{
 "cells": [
  {
   "cell_type": "code",
   "execution_count": 4,
   "metadata": {},
   "outputs": [
    {
     "name": "stderr",
     "output_type": "stream",
     "text": [
      "WARNING: Method definition Suma_matriz2x2(Any, Any) in module Main at In[1]:2 overwritten at In[4]:2.\n"
     ]
    },
    {
     "data": {
      "text/plain": [
       "Suma_matriz2x2 (generic function with 1 method)"
      ]
     },
     "execution_count": 4,
     "metadata": {},
     "output_type": "execute_result"
    }
   ],
   "source": [
    "function Suma_matriz2x2(A,B) \n",
    "    if size(A)==size(B)==(2,2) #Aquí le pedimos que el tamaño de las matrices sea el mismo \n",
    "        R=zeros(size(A)) #Aquí creamos un arreglo de arreglos que contendra al resultado\n",
    "        for i ∈ 1:size(A)[1] #Aquí hablamos de cada elemento en los renglones de A\n",
    "            for j in 1:size(A)[2] #Aquí hablamos de cada elemento en las columnas de A\n",
    "                s=A[i,j]+B[i,j] #Aquí decimos que cada ij-esimo elemento de A se sumara con su equivalente en B\n",
    "                R[i,j]=s #aquí decimos que s colocará cada suma en la misma posición que estaba en A y en B\n",
    "            end\n",
    "        end\n",
    "        print(R) #Aquí le pedimos que imprima R en la pantalla\n",
    "    else\n",
    "        print(\"Revisa dimensiones\")\n",
    "    end\n",
    "end      "
   ]
  },
  {
   "cell_type": "code",
   "execution_count": 16,
   "metadata": {},
   "outputs": [
    {
     "data": {
      "text/plain": [
       "2×2 Array{Int64,2}:\n",
       " 3  4\n",
       " 5  6"
      ]
     },
     "execution_count": 16,
     "metadata": {},
     "output_type": "execute_result"
    }
   ],
   "source": [
    "A=[1 2; 4 5]\n",
    "B=[3 4; 5 6]"
   ]
  },
  {
   "cell_type": "code",
   "execution_count": 3,
   "metadata": {},
   "outputs": [
    {
     "name": "stdout",
     "output_type": "stream",
     "text": [
      "[4.0 6.0; 9.0 11.0]"
     ]
    }
   ],
   "source": [
    "Suma_matriz2x2(A,B)"
   ]
  },
  {
   "cell_type": "code",
   "execution_count": 13,
   "metadata": {},
   "outputs": [
    {
     "name": "stderr",
     "output_type": "stream",
     "text": [
      "WARNING: Method definition Suma_matriz(Any, Any) in module Main at In[7]:2 overwritten at In[13]:2.\n"
     ]
    },
    {
     "data": {
      "text/plain": [
       "Suma_matriz (generic function with 1 method)"
      ]
     },
     "execution_count": 13,
     "metadata": {},
     "output_type": "execute_result"
    }
   ],
   "source": [
    "function Suma_matriz(A,B) \n",
    "    if size(A)==size(B)#Aquí le pedimos que el tamaño de las matrices sea el mismo \n",
    "        R=zeros(size(A)) #Aquí creamos un arreglo de arreglos que contendra al resultado\n",
    "        for i ∈ 1:size(A)[1] #Aquí hablamos de cada elemento en los renglones de A\n",
    "            for j in 1:size(A)[2] #Aquí hablamos de cada elemento en las columnas de A\n",
    "                s=A[i,j]+B[i,j] #Aquí decimos que cada ij-esimo elemento de A se sumara con su equivalente en B\n",
    "                R[i,j]=s #aquí decimos que s colocará cada suma en la misma posición que estaba en A y en B\n",
    "            end\n",
    "        end\n",
    "        print(R) #Aquí le pedimos que imprima R en la pantalla\n",
    "    else\n",
    "        print(\"Revisa dimensiones\")\n",
    "    end\n",
    "end      "
   ]
  },
  {
   "cell_type": "code",
   "execution_count": 14,
   "metadata": {},
   "outputs": [
    {
     "data": {
      "text/plain": [
       "2×2 Array{Int64,2}:\n",
       " 4  5\n",
       " 6  7"
      ]
     },
     "execution_count": 14,
     "metadata": {},
     "output_type": "execute_result"
    }
   ],
   "source": [
    "A=[1 2 3; 2 3 4]\n",
    "B=[4 5; 6 7]"
   ]
  },
  {
   "cell_type": "code",
   "execution_count": 15,
   "metadata": {},
   "outputs": [
    {
     "name": "stdout",
     "output_type": "stream",
     "text": [
      "Revisa dimensiones"
     ]
    }
   ],
   "source": [
    "Suma_matriz(A,B)"
   ]
  },
  {
   "cell_type": "code",
   "execution_count": null,
   "metadata": {},
   "outputs": [],
   "source": []
  }
 ],
 "metadata": {
  "kernelspec": {
   "display_name": "Julia 0.5.2",
   "language": "julia",
   "name": "julia-0.5"
  },
  "language_info": {
   "file_extension": ".jl",
   "mimetype": "application/julia",
   "name": "julia",
   "version": "0.5.2"
  }
 },
 "nbformat": 4,
 "nbformat_minor": 2
}
