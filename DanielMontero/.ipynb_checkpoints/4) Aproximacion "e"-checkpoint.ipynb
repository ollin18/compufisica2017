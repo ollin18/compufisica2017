{
 "cells": [
  {
   "cell_type": "markdown",
   "metadata": {},
   "source": [
    "# 4) Aproximación de \"e\""
   ]
  },
  {
   "cell_type": "markdown",
   "metadata": {},
   "source": [
    "## Función factorial\n",
    "El factorial se calcula mediante una función dependiente de un número. Primero hay que definir una variable para guardar el valor del factorial. Después inicia un ciclo for; lo que hace es multiplicar por el siguiente número natural al valor que tiene la varibale. El proceso se repite el número de veces que se dió a la función."
   ]
  },
  {
   "cell_type": "code",
   "execution_count": 6,
   "metadata": {},
   "outputs": [
    {
     "data": {
      "text/plain": [
       "Factorial (generic function with 1 method)"
      ]
     },
     "execution_count": 6,
     "metadata": {},
     "output_type": "execute_result"
    }
   ],
   "source": [
    "function Factorial(N)           #Se define que se hará una función\n",
    "    fact=1                      #La variable inicia como uno (si N=0, fact=1)\n",
    "    for i ∈ 1:N                 #Esto define el numero de veces que se repite el ciclo\n",
    "        fact*=i                 #Multiplica el valor fact anterior por la i siguiente\n",
    "        end                     #Termina el ciclo for \n",
    "    return(fact)                #Imprime el número resultante en pantalla y sigue funcionando como número\n",
    "    end                         #Finaliza la función"
   ]
  },
  {
   "cell_type": "markdown",
   "metadata": {},
   "source": [
    "#### Prueba factorial"
   ]
  },
  {
   "cell_type": "code",
   "execution_count": 7,
   "metadata": {},
   "outputs": [
    {
     "data": {
      "text/plain": [
       "120"
      ]
     },
     "execution_count": 7,
     "metadata": {},
     "output_type": "execute_result"
    }
   ],
   "source": [
    "Factorial(5)                    #Prueba de la función"
   ]
  },
  {
   "cell_type": "markdown",
   "metadata": {},
   "source": [
    "## Función para aproximar \"e\"\n",
    "En esta función se define un ciclo for, lo que hace éste es tomar el 1 (que es definido como la variable e inicial) y le suma el inverso de el factorial de un número natural el número de veces que se haya dado a la función; la aproximación será más cercana al valor verdadero de \"e\" entre más grande sea el número que recibe la función."
   ]
  },
  {
   "cell_type": "code",
   "execution_count": 8,
   "metadata": {},
   "outputs": [
    {
     "data": {
      "text/plain": [
       "Aproximacione (generic function with 1 method)"
      ]
     },
     "execution_count": 8,
     "metadata": {},
     "output_type": "execute_result"
    }
   ],
   "source": [
    "function Aproximacione(W)    #Se define que se hará una función\n",
    "    e=1                      #Se da un valor a la variable que será calculada\n",
    "    for i ∈ 1:W              #Se da el rango en que se repetirá la función\n",
    "        e+=1/FactorialFor(i) #Se define la parte algebraica de la función\n",
    "        end                  #Termina el ciclo for\n",
    "    println(e)               #Imprime en pantalla la aproximación del número e\n",
    "    end                      #Finaliza la función"
   ]
  },
  {
   "cell_type": "markdown",
   "metadata": {},
   "source": [
    "#### Prueba de la aproximación de \"e\""
   ]
  },
  {
   "cell_type": "code",
   "execution_count": 8,
   "metadata": {},
   "outputs": [
    {
     "name": "stdout",
     "output_type": "stream",
     "text": [
      "2.7182818284590455\n"
     ]
    }
   ],
   "source": [
    "Aproximacione(65)            #Prueba de la función "
   ]
  }
 ],
 "metadata": {
  "kernelspec": {
   "display_name": "Julia 0.6.0",
   "language": "julia",
   "name": "julia-0.6"
  },
  "language_info": {
   "file_extension": ".jl",
   "mimetype": "application/julia",
   "name": "julia",
   "version": "0.6.0"
  }
 },
 "nbformat": 4,
 "nbformat_minor": 2
}
