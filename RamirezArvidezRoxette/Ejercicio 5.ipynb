{
 "cells": [
  {
   "cell_type": "markdown",
   "metadata": {},
   "source": [
    "## RAÍCES DE UN POLINOMIO:\n",
    "Se dice que un valor x = a es raíz de un polinomio P(x), cuando al sustituir dicho valor en el\n",
    "polinomio, el resultado es 0; es decir, cuando P(a) = 0.\n",
    "\n"
   ]
  },
  {
   "cell_type": "markdown",
   "metadata": {},
   "source": [
    "Digamos \n",
    "$$\n",
    "P=2x^2+5x+3\n",
    "$$"
   ]
  },
  {
   "cell_type": "markdown",
   "metadata": {},
   "source": [
    "Observación:\n",
    "El número de raíces reales es menor o igual que el grado del polinomio.\n",
    "Un polinomio cuyo término independiente sea 0, es decir, no aparece término independiente, siempre admite como raíz x\n",
    "= 0. Como se trata de una expresión en la que todos los términos contienen el factor x, al sustituir ésta por 0, se anulan\n",
    "todos y el resu\n",
    "ltado es 0"
   ]
  },
  {
   "cell_type": "markdown",
   "metadata": {},
   "source": [
    "$$\n",
    "2x^2+5x+3=0\n",
    "$$"
   ]
  },
  {
   "cell_type": "markdown",
   "metadata": {},
   "source": [
    "Entonces, si consideramos a) raíces reales, digamos rr. rr < 2"
   ]
  },
  {
   "cell_type": "markdown",
   "metadata": {},
   "source": [
    "Usamos la regla siguiente (chicharonerra) "
   ]
  },
  {
   "cell_type": "markdown",
   "metadata": {},
   "source": [
    "$$\n",
    "x={ \\frac {-b+ (b^2-4ac)^{1/2}}{2a} } ó  x={ \\frac {-b-(b^2-4ac)^{1/2}}{2a} }\n",
    "$$"
   ]
  },
  {
   "cell_type": "markdown",
   "metadata": {},
   "source": [
    "Entonces generamos la función para obtener las raíces de cualquier polinomio de 2 orden"
   ]
  },
  {
   "cell_type": "code",
   "execution_count": 8,
   "metadata": {},
   "outputs": [
    {
     "data": {
      "text/plain": [
       "RaízP (generic function with 1 method)"
      ]
     },
     "execution_count": 8,
     "metadata": {},
     "output_type": "execute_result"
    }
   ],
   "source": [
    "function RaízP(a,b,c) #Asignamos a el polinomio de segundo orden 3 variables\n",
    "    rz=(b^2)-4*a*c #Nombramos rz la variable a cumpli la condición \n",
    "    if (rz>=0) #Usamos el condicional \"if\" si e cumple que rz>=0 entonces sabemos que la raíz es un número real \n",
    "    x=(-b+(rz)^(1/2))/(2*a); #De cumplirse se realiza la operación mencionada \n",
    "    x2=(-b-(rz)^(1/2))/(2*a);#Como es de segundo grado el número de raíces máximo es 2, está es la segunda, de existir.\n",
    "    println(\"raiz 1:\",x,\"\\nraiz 2:\",x2) #Imprime en l pantalla el resultado separando ambas raíces x y x2\n",
    "        else #De no cumplirse rz>=0, sabemosque se trata de un imaginario, y se llevará a cabo lo siguiente \n",
    "    println(\"raiz compleja\") #Se imprime el anuncio ue setrata de un número imaginario\n",
    "    end\n",
    "end"
   ]
  },
  {
   "cell_type": "code",
   "execution_count": 9,
   "metadata": {},
   "outputs": [
    {
     "name": "stdout",
     "output_type": "stream",
     "text": [
      "raiz 1:-1.0\n",
      "raiz 2:-1.5\n"
     ]
    }
   ],
   "source": [
    "RaízP(2,5,3)"
   ]
  },
  {
   "cell_type": "code",
   "execution_count": 10,
   "metadata": {},
   "outputs": [
    {
     "name": "stdout",
     "output_type": "stream",
     "text": [
      "raiz compleja\n"
     ]
    }
   ],
   "source": [
    "RaízP(2,4,8)"
   ]
  },
  {
   "cell_type": "code",
   "execution_count": null,
   "metadata": {},
   "outputs": [],
   "source": []
  }
 ],
 "metadata": {
  "kernelspec": {
   "display_name": "Julia 0.6.0",
   "language": "julia",
   "name": "julia-0.6"
  },
  "language_info": {
   "file_extension": ".jl",
   "mimetype": "application/julia",
   "name": "julia",
   "version": "0.6.0"
  }
 },
 "nbformat": 4,
 "nbformat_minor": 2
}
