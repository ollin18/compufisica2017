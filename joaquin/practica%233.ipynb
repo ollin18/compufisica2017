{
 "cells": [
  {
   "cell_type": "markdown",
   "metadata": {},
   "source": [
    "<div class=\"alert alert-danger\" role=\"alert\">\n",
    "<h1>Ejercicios de programación en julia</h1>\n",
    "<h2>COMPUTACIÓN</h2>\n",
    "<h2>FÍSICA,FACULTAD DE CIENCIAS, UNAM </h2>\n",
    "<h3>JOAQUIN MIRANDA SANTIAGO</h3>\n",
    "</div>"
   ]
  },
  {
   "cell_type": "markdown",
   "metadata": {},
   "source": [
    "# Ejercicio 3\n",
    "## 3.1 Siguiendo la siguiente serie \n",
    "$\\displaystyle{\\sum_{n=0}^{\\infty} \\dfrac{(-1)^n}{2n+1}} = \\dfrac{\\pi}{4}$\n",
    "## Escribe un programa que calcule diferentes aproximaciones de pi para diferentes valores "
   ]
  },
  {
   "cell_type": "code",
   "execution_count": 47,
   "metadata": {},
   "outputs": [
    {
     "data": {
      "text/plain": [
       "aproximación_pi (generic function with 1 method)"
      ]
     },
     "execution_count": 47,
     "metadata": {},
     "output_type": "execute_result"
    }
   ],
   "source": [
    "function aproximación_pi(n)\n",
    "    a =0 \n",
    "    suma= 0\n",
    "    for i in 0:n \n",
    "        a=Float64(((-1)^i)/(2*i + 1))#aqui la variable a actulizara su valor  por su valor anterior más ((-1)^n/2n +1) cada ciclo\n",
    "        suma = suma + a #la variable suma gurdara su valor anterior mas el valor de a \n",
    "       \n",
    "    end\n",
    "    pi =4*suma #puesto que la expresión nos da un valore de π/4, necesitamos multiplicar este valor por 4\n",
    "    println(\"el número π tiene un valor aproximado de: \",pi)\n",
    "end\n",
    "    "
   ]
  },
  {
   "cell_type": "code",
   "execution_count": 45,
   "metadata": {},
   "outputs": [
    {
     "name": "stdout",
     "output_type": "stream",
     "text": [
      "el número π tiene un valor aproximado de: 3.1415927535897814\n"
     ]
    }
   ],
   "source": [
    "#ejemplo\n",
    "aproximación_pi(10000000)"
   ]
  },
  {
   "cell_type": "code",
   "execution_count": null,
   "metadata": {},
   "outputs": [],
   "source": []
  }
 ],
 "metadata": {
  "kernelspec": {
   "display_name": "Julia 0.6.0",
   "language": "julia",
   "name": "julia-0.6"
  },
  "language_info": {
   "file_extension": ".jl",
   "mimetype": "application/julia",
   "name": "julia",
   "version": "0.6.0"
  }
 },
 "nbformat": 4,
 "nbformat_minor": 2
}
