{
 "cells": [
  {
   "cell_type": "markdown",
   "metadata": {},
   "source": [
    "Ec. de la recta\n",
    "\n",
    "$y=mx+b$"
   ]
  },
  {
   "cell_type": "code",
   "execution_count": 1,
   "metadata": {},
   "outputs": [
    {
     "data": {
      "text/plain": [
       "Recta (generic function with 1 method)"
      ]
     },
     "execution_count": 1,
     "metadata": {},
     "output_type": "execute_result"
    }
   ],
   "source": [
    "function Recta(m,b,a,c,d) #m esla pendiente, b a la ordenada al origen, a y d el valor inicial y final del intervalo respectivamente, c establece el espacio entre cada numero del intervalo\n",
    "    Y = zeros(collect(a:c:d)) #Definimos un arreglo de ceros que tendra el tamaño de un areglo que ira desde \"a\" hasta \"d\", avanzando \"c\" espacios entre cada número\n",
    "    X = zeros(collect(a:c:d)) #Aquí hacemos lo mismo que con Y\n",
    "    for i ∈ eachindex(collect(a:c:d)) #Para cada elemento del intervalo\n",
    "        X[i] = collect(a:c:d)[i] #Aquí igualamos el arreglo X al intervalo de a hasta d\n",
    "        for i ∈ eachindex(collect(a:c:d)) #Aqui le decimos que aplique las siguientes operaciones a cada elemento del arreglo (a,d)\n",
    "            Y[i]=(m*collect(a:c:d)[i])+b #Aplicamos la ecuación de la recta\n",
    "        end\n",
    "        recta = hcat(X,Y) #Concatenamos ambos arreglos \n",
    "        writedlm(\"recta.csv\",recta,'|') #Aquí escribimos la concatenación en un archivo para su lectura \n",
    "        end\n",
    "    print(X,Y)#Imprime X e Y\n",
    "end"
   ]
  },
  {
   "cell_type": "code",
   "execution_count": 2,
   "metadata": {},
   "outputs": [
    {
     "name": "stdout",
     "output_type": "stream",
     "text": [
      "[-500,-490,-480,-470,-460,-450,-440,-430,-420,-410,-400,-390,-380,-370,-360,-350,-340,-330,-320,-310,-300,-290,-280,-270,-260,-250,-240,-230,-220,-210,-200,-190,-180,-170,-160,-150,-140,-130,-120,-110,-100,-90,-80,-70,-60,-50,-40,-30,-20,-10,0,10,20,30,40,50,60,70,80,90,100,110,120,130,140,150,160,170,180,190,200,210,220,230,240,250,260,270,280,290,300,310,320,330,340,350,360,370,380,390,400,410,420,430,440,450,460,470,480,490,500,510,520,530,540,550,560,570,580,590,600,610,620,630,640,650,660,670,680,690,700,710,720,730,740,750,760,770,780,790,800,810,820,830,840,850,860,870,880,890,900,910,920,930,940,950,960,970,980,990,1000][-1496,-1466,-1436,-1406,-1376,-1346,-1316,-1286,-1256,-1226,-1196,-1166,-1136,-1106,-1076,-1046,-1016,-986,-956,-926,-896,-866,-836,-806,-776,-746,-716,-686,-656,-626,-596,-566,-536,-506,-476,-446,-416,-386,-356,-326,-296,-266,-236,-206,-176,-146,-116,-86,-56,-26,4,34,64,94,124,154,184,214,244,274,304,334,364,394,424,454,484,514,544,574,604,634,664,694,724,754,784,814,844,874,904,934,964,994,1024,1054,1084,1114,1144,1174,1204,1234,1264,1294,1324,1354,1384,1414,1444,1474,1504,1534,1564,1594,1624,1654,1684,1714,1744,1774,1804,1834,1864,1894,1924,1954,1984,2014,2044,2074,2104,2134,2164,2194,2224,2254,2284,2314,2344,2374,2404,2434,2464,2494,2524,2554,2584,2614,2644,2674,2704,2734,2764,2794,2824,2854,2884,2914,2944,2974,3004]"
     ]
    }
   ],
   "source": [
    "Recta(3,4,-500,10,1000)#Utilizamos la función"
   ]
  },
  {
   "cell_type": "code",
   "execution_count": 3,
   "metadata": {},
   "outputs": [],
   "source": [
    "X=[-500,-490,-480,-470,-460,-450,-440,-430,-420,-410,-400,-390,-380,-370,-360,-350,-340,-330,-320,-310,-300,-290,-280,-270,-260,-250,-240,-230,-220,-210,-200,-190,-180,-170,-160,-150,-140,-130,-120,-110,-100,-90,-80,-70,-60,-50,-40,-30,-20,-10,0,10,20,30,40,50,60,70,80,90,100,110,120,130,140,150,160,170,180,190,200,210,220,230,240,250,260,270,280,290,300,310,320,330,340,350,360,370,380,390,400,410,420,430,440,450,460,470,480,490,500,510,520,530,540,550,560,570,580,590,600,610,620,630,640,650,660,670,680,690,700,710,720,730,740,750,760,770,780,790,800,810,820,830,840,850,860,870,880,890,900,910,920,930,940,950,960,970,980,990,1000];"
   ]
  },
  {
   "cell_type": "code",
   "execution_count": 4,
   "metadata": {},
   "outputs": [],
   "source": [
    "Y=[-1496,-1466,-1436,-1406,-1376,-1346,-1316,-1286,-1256,-1226,-1196,-1166,-1136,-1106,-1076,-1046,-1016,-986,-956,-926,-896,-866,-836,-806,-776,-746,-716,-686,-656,-626,-596,-566,-536,-506,-476,-446,-416,-386,-356,-326,-296,-266,-236,-206,-176,-146,-116,-86,-56,-26,4,34,64,94,124,154,184,214,244,274,304,334,364,394,424,454,484,514,544,574,604,634,664,694,724,754,784,814,844,874,904,934,964,994,1024,1054,1084,1114,1144,1174,1204,1234,1264,1294,1324,1354,1384,1414,1444,1474,1504,1534,1564,1594,1624,1654,1684,1714,1744,1774,1804,1834,1864,1894,1924,1954,1984,2014,2044,2074,2104,2134,2164,2194,2224,2254,2284,2314,2344,2374,2404,2434,2464,2494,2524,2554,2584,2614,2644,2674,2704,2734,2764,2794,2824,2854,2884,2914,2944,2974,3004];"
   ]
  },
  {
   "cell_type": "code",
   "execution_count": 5,
   "metadata": {},
   "outputs": [],
   "source": [
    "using Plots"
   ]
  },
  {
   "cell_type": "code",
   "execution_count": 6,
   "metadata": {},
   "outputs": [
    {
     "data": {
      "text/plain": [
       "Plots.GRBackend()"
      ]
     },
     "execution_count": 6,
     "metadata": {},
     "output_type": "execute_result"
    }
   ],
   "source": [
    "gr()"
   ]
  },
  {
   "cell_type": "code",
   "execution_count": 7,
   "metadata": {},
   "outputs": [
    {
     "data": {
      "text/html": [
       "<?xml version=\"1.0\" encoding=\"utf-8\"?>\n",
       "<svg xmlns=\"http://www.w3.org/2000/svg\" xmlns:xlink=\"http://www.w3.org/1999/xlink\" width=\"600\" height=\"400\" viewBox=\"0 0 600 400\">\n",
       "<defs>\n",
       "  <clipPath id=\"clip00\">\n",
       "    <rect x=\"0\" y=\"0\" width=\"600\" height=\"400\"/>\n",
       "  </clipPath>\n",
       "</defs>\n",
       "<polygon clip-path=\"url(#clip6000)\" points=\"\n",
       "0,400 600,400 600,0 0,0 \n",
       "  \" fill=\"#ffffff\" fill-opacity=\"1\"/>\n",
       "<defs>\n",
       "  <clipPath id=\"clip01\">\n",
       "    <rect x=\"120\" y=\"0\" width=\"421\" height=\"400\"/>\n",
       "  </clipPath>\n",
       "</defs>\n",
       "<polygon clip-path=\"url(#clip6000)\" points=\"\n",
       "39.3701,368.504 592.126,368.504 592.126,7.87402 39.3701,7.87402 \n",
       "  \" fill=\"#ffffff\" fill-opacity=\"1\"/>\n",
       "<defs>\n",
       "  <clipPath id=\"clip02\">\n",
       "    <rect x=\"39\" y=\"7\" width=\"554\" height=\"362\"/>\n",
       "  </clipPath>\n",
       "</defs>\n",
       "<polyline clip-path=\"url(#clip6002)\" style=\"stroke:#000000; stroke-width:1; stroke-opacity:0.5; fill:none\" stroke-dasharray=\"1, 2\" points=\"\n",
       "  39.3701,363.094 39.3701,13.2835 \n",
       "  \"/>\n",
       "<polyline clip-path=\"url(#clip6002)\" style=\"stroke:#000000; stroke-width:1; stroke-opacity:0.5; fill:none\" stroke-dasharray=\"1, 2\" points=\"\n",
       "  131.496,363.094 131.496,13.2835 \n",
       "  \"/>\n",
       "<polyline clip-path=\"url(#clip6002)\" style=\"stroke:#000000; stroke-width:1; stroke-opacity:0.5; fill:none\" stroke-dasharray=\"1, 2\" points=\"\n",
       "  223.622,363.094 223.622,13.2835 \n",
       "  \"/>\n",
       "<polyline clip-path=\"url(#clip6002)\" style=\"stroke:#000000; stroke-width:1; stroke-opacity:0.5; fill:none\" stroke-dasharray=\"1, 2\" points=\"\n",
       "  315.748,363.094 315.748,13.2835 \n",
       "  \"/>\n",
       "<polyline clip-path=\"url(#clip6002)\" style=\"stroke:#000000; stroke-width:1; stroke-opacity:0.5; fill:none\" stroke-dasharray=\"1, 2\" points=\"\n",
       "  407.874,363.094 407.874,13.2835 \n",
       "  \"/>\n",
       "<polyline clip-path=\"url(#clip6002)\" style=\"stroke:#000000; stroke-width:1; stroke-opacity:0.5; fill:none\" stroke-dasharray=\"1, 2\" points=\"\n",
       "  500,363.094 500,13.2835 \n",
       "  \"/>\n",
       "<polyline clip-path=\"url(#clip6002)\" style=\"stroke:#000000; stroke-width:1; stroke-opacity:0.5; fill:none\" stroke-dasharray=\"1, 2\" points=\"\n",
       "  592.126,363.094 592.126,13.2835 \n",
       "  \"/>\n",
       "<polyline clip-path=\"url(#clip6002)\" style=\"stroke:#000000; stroke-width:1; stroke-opacity:0.5; fill:none\" stroke-dasharray=\"1, 2\" points=\"\n",
       "  47.6614,328.755 583.835,328.755 \n",
       "  \"/>\n",
       "<polyline clip-path=\"url(#clip6002)\" style=\"stroke:#000000; stroke-width:1; stroke-opacity:0.5; fill:none\" stroke-dasharray=\"1, 2\" points=\"\n",
       "  47.6614,248.615 583.835,248.615 \n",
       "  \"/>\n",
       "<polyline clip-path=\"url(#clip6002)\" style=\"stroke:#000000; stroke-width:1; stroke-opacity:0.5; fill:none\" stroke-dasharray=\"1, 2\" points=\"\n",
       "  47.6614,168.475 583.835,168.475 \n",
       "  \"/>\n",
       "<polyline clip-path=\"url(#clip6002)\" style=\"stroke:#000000; stroke-width:1; stroke-opacity:0.5; fill:none\" stroke-dasharray=\"1, 2\" points=\"\n",
       "  47.6614,88.3346 583.835,88.3346 \n",
       "  \"/>\n",
       "<polyline clip-path=\"url(#clip6002)\" style=\"stroke:#000000; stroke-width:1; stroke-opacity:0.5; fill:none\" stroke-dasharray=\"1, 2\" points=\"\n",
       "  47.6614,8.19458 583.835,8.19458 \n",
       "  \"/>\n",
       "<polyline clip-path=\"url(#clip6000)\" style=\"stroke:#000000; stroke-width:1; stroke-opacity:1; fill:none\" points=\"\n",
       "  39.3701,368.504 592.126,368.504 \n",
       "  \"/>\n",
       "<polyline clip-path=\"url(#clip6000)\" style=\"stroke:#000000; stroke-width:1; stroke-opacity:1; fill:none\" points=\"\n",
       "  39.3701,368.504 39.3701,363.094 \n",
       "  \"/>\n",
       "<polyline clip-path=\"url(#clip6000)\" style=\"stroke:#000000; stroke-width:1; stroke-opacity:1; fill:none\" points=\"\n",
       "  131.496,368.504 131.496,363.094 \n",
       "  \"/>\n",
       "<polyline clip-path=\"url(#clip6000)\" style=\"stroke:#000000; stroke-width:1; stroke-opacity:1; fill:none\" points=\"\n",
       "  223.622,368.504 223.622,363.094 \n",
       "  \"/>\n",
       "<polyline clip-path=\"url(#clip6000)\" style=\"stroke:#000000; stroke-width:1; stroke-opacity:1; fill:none\" points=\"\n",
       "  315.748,368.504 315.748,363.094 \n",
       "  \"/>\n",
       "<polyline clip-path=\"url(#clip6000)\" style=\"stroke:#000000; stroke-width:1; stroke-opacity:1; fill:none\" points=\"\n",
       "  407.874,368.504 407.874,363.094 \n",
       "  \"/>\n",
       "<polyline clip-path=\"url(#clip6000)\" style=\"stroke:#000000; stroke-width:1; stroke-opacity:1; fill:none\" points=\"\n",
       "  500,368.504 500,363.094 \n",
       "  \"/>\n",
       "<polyline clip-path=\"url(#clip6000)\" style=\"stroke:#000000; stroke-width:1; stroke-opacity:1; fill:none\" points=\"\n",
       "  592.126,368.504 592.126,363.094 \n",
       "  \"/>\n",
       "<polyline clip-path=\"url(#clip6000)\" style=\"stroke:#000000; stroke-width:1; stroke-opacity:1; fill:none\" points=\"\n",
       "  39.3701,368.504 39.3701,7.87402 \n",
       "  \"/>\n",
       "<polyline clip-path=\"url(#clip6000)\" style=\"stroke:#000000; stroke-width:1; stroke-opacity:1; fill:none\" points=\"\n",
       "  39.3701,328.755 47.6614,328.755 \n",
       "  \"/>\n",
       "<polyline clip-path=\"url(#clip6000)\" style=\"stroke:#000000; stroke-width:1; stroke-opacity:1; fill:none\" points=\"\n",
       "  39.3701,248.615 47.6614,248.615 \n",
       "  \"/>\n",
       "<polyline clip-path=\"url(#clip6000)\" style=\"stroke:#000000; stroke-width:1; stroke-opacity:1; fill:none\" points=\"\n",
       "  39.3701,168.475 47.6614,168.475 \n",
       "  \"/>\n",
       "<polyline clip-path=\"url(#clip6000)\" style=\"stroke:#000000; stroke-width:1; stroke-opacity:1; fill:none\" points=\"\n",
       "  39.3701,88.3346 47.6614,88.3346 \n",
       "  \"/>\n",
       "<polyline clip-path=\"url(#clip6000)\" style=\"stroke:#000000; stroke-width:1; stroke-opacity:1; fill:none\" points=\"\n",
       "  39.3701,8.19458 47.6614,8.19458 \n",
       "  \"/>\n",
       "<g clip-path=\"url(#clip6000)\">\n",
       "<text style=\"fill:#000000; fill-opacity:1; font-family:Arial,Helvetica Neue,Helvetica,sans-serif; font-size:12; text-anchor:middle;\" transform=\"rotate(0, 39.3701, 382.304)\" x=\"39.3701\" y=\"382.304\">-500</text>\n",
       "</g>\n",
       "<g clip-path=\"url(#clip6000)\">\n",
       "<text style=\"fill:#000000; fill-opacity:1; font-family:Arial,Helvetica Neue,Helvetica,sans-serif; font-size:12; text-anchor:middle;\" transform=\"rotate(0, 131.496, 382.304)\" x=\"131.496\" y=\"382.304\">-250</text>\n",
       "</g>\n",
       "<g clip-path=\"url(#clip6000)\">\n",
       "<text style=\"fill:#000000; fill-opacity:1; font-family:Arial,Helvetica Neue,Helvetica,sans-serif; font-size:12; text-anchor:middle;\" transform=\"rotate(0, 223.622, 382.304)\" x=\"223.622\" y=\"382.304\">0</text>\n",
       "</g>\n",
       "<g clip-path=\"url(#clip6000)\">\n",
       "<text style=\"fill:#000000; fill-opacity:1; font-family:Arial,Helvetica Neue,Helvetica,sans-serif; font-size:12; text-anchor:middle;\" transform=\"rotate(0, 315.748, 382.304)\" x=\"315.748\" y=\"382.304\">250</text>\n",
       "</g>\n",
       "<g clip-path=\"url(#clip6000)\">\n",
       "<text style=\"fill:#000000; fill-opacity:1; font-family:Arial,Helvetica Neue,Helvetica,sans-serif; font-size:12; text-anchor:middle;\" transform=\"rotate(0, 407.874, 382.304)\" x=\"407.874\" y=\"382.304\">500</text>\n",
       "</g>\n",
       "<g clip-path=\"url(#clip6000)\">\n",
       "<text style=\"fill:#000000; fill-opacity:1; font-family:Arial,Helvetica Neue,Helvetica,sans-serif; font-size:12; text-anchor:middle;\" transform=\"rotate(0, 500, 382.304)\" x=\"500\" y=\"382.304\">750</text>\n",
       "</g>\n",
       "<g clip-path=\"url(#clip6000)\">\n",
       "<text style=\"fill:#000000; fill-opacity:1; font-family:Arial,Helvetica Neue,Helvetica,sans-serif; font-size:12; text-anchor:middle;\" transform=\"rotate(0, 592.126, 382.304)\" x=\"592.126\" y=\"382.304\">1000</text>\n",
       "</g>\n",
       "<g clip-path=\"url(#clip6000)\">\n",
       "<text style=\"fill:#000000; fill-opacity:1; font-family:Arial,Helvetica Neue,Helvetica,sans-serif; font-size:12; text-anchor:end;\" transform=\"rotate(0, 33.3701, 333.255)\" x=\"33.3701\" y=\"333.255\">-1000</text>\n",
       "</g>\n",
       "<g clip-path=\"url(#clip6000)\">\n",
       "<text style=\"fill:#000000; fill-opacity:1; font-family:Arial,Helvetica Neue,Helvetica,sans-serif; font-size:12; text-anchor:end;\" transform=\"rotate(0, 33.3701, 253.115)\" x=\"33.3701\" y=\"253.115\">0</text>\n",
       "</g>\n",
       "<g clip-path=\"url(#clip6000)\">\n",
       "<text style=\"fill:#000000; fill-opacity:1; font-family:Arial,Helvetica Neue,Helvetica,sans-serif; font-size:12; text-anchor:end;\" transform=\"rotate(0, 33.3701, 172.975)\" x=\"33.3701\" y=\"172.975\">1000</text>\n",
       "</g>\n",
       "<g clip-path=\"url(#clip6000)\">\n",
       "<text style=\"fill:#000000; fill-opacity:1; font-family:Arial,Helvetica Neue,Helvetica,sans-serif; font-size:12; text-anchor:end;\" transform=\"rotate(0, 33.3701, 92.8346)\" x=\"33.3701\" y=\"92.8346\">2000</text>\n",
       "</g>\n",
       "<g clip-path=\"url(#clip6000)\">\n",
       "<text style=\"fill:#000000; fill-opacity:1; font-family:Arial,Helvetica Neue,Helvetica,sans-serif; font-size:12; text-anchor:end;\" transform=\"rotate(0, 33.3701, 12.6946)\" x=\"33.3701\" y=\"12.6946\">3000</text>\n",
       "</g>\n",
       "<g clip-path=\"url(#clip6000)\">\n",
       "<text style=\"fill:#000000; fill-opacity:1; font-family:Arial,Helvetica Neue,Helvetica,sans-serif; font-size:21; text-anchor:middle;\" transform=\"rotate(0, 315.748, 18)\" x=\"315.748\" y=\"18\">Recta</text>\n",
       "</g>\n",
       "<g clip-path=\"url(#clip6000)\">\n",
       "<text style=\"fill:#000000; fill-opacity:1; font-family:Arial,Helvetica Neue,Helvetica,sans-serif; font-size:16; text-anchor:middle;\" transform=\"rotate(0, 315.748, 397.6)\" x=\"315.748\" y=\"397.6\">Eje X</text>\n",
       "</g>\n",
       "<g clip-path=\"url(#clip6000)\">\n",
       "<text style=\"fill:#000000; fill-opacity:1; font-family:Arial,Helvetica Neue,Helvetica,sans-serif; font-size:16; text-anchor:middle;\" transform=\"rotate(-90, 14.4, 188.189)\" x=\"14.4\" y=\"188.189\">Eje Y</text>\n",
       "</g>\n",
       "<polyline clip-path=\"url(#clip6002)\" style=\"stroke:#009af9; stroke-width:2; stroke-opacity:1; fill:none\" points=\"\n",
       "  39.3701,368.504 43.0551,366.1 46.7402,363.696 50.4252,361.291 54.1102,358.887 57.7953,356.483 61.4803,354.079 65.1654,351.675 68.8504,349.27 72.5354,346.866 \n",
       "  76.2205,344.462 79.9055,342.058 83.5906,339.654 87.2756,337.249 90.9606,334.845 94.6457,332.441 98.3307,330.037 102.016,327.633 105.701,325.228 109.386,322.824 \n",
       "  113.071,320.42 116.756,318.016 120.441,315.612 124.126,313.207 127.811,310.803 131.496,308.399 135.181,305.995 138.866,303.591 142.551,301.186 146.236,298.782 \n",
       "  149.921,296.378 153.606,293.974 157.291,291.57 160.976,289.165 164.661,286.761 168.346,284.357 172.031,281.953 175.717,279.549 179.402,277.144 183.087,274.74 \n",
       "  186.772,272.336 190.457,269.932 194.142,267.528 197.827,265.123 201.512,262.719 205.197,260.315 208.882,257.911 212.567,255.507 216.252,253.102 219.937,250.698 \n",
       "  223.622,248.294 227.307,245.89 230.992,243.486 234.677,241.081 238.362,238.677 242.047,236.273 245.732,233.869 249.417,231.465 253.102,229.06 256.787,226.656 \n",
       "  260.472,224.252 264.157,221.848 267.843,219.444 271.528,217.039 275.213,214.635 278.898,212.231 282.583,209.827 286.268,207.423 289.953,205.018 293.638,202.614 \n",
       "  297.323,200.21 301.008,197.806 304.693,195.402 308.378,192.997 312.063,190.593 315.748,188.189 319.433,185.785 323.118,183.381 326.803,180.976 330.488,178.572 \n",
       "  334.173,176.168 337.858,173.764 341.543,171.36 345.228,168.955 348.913,166.551 352.598,164.147 356.283,161.743 359.969,159.339 363.654,156.934 367.339,154.53 \n",
       "  371.024,152.126 374.709,149.722 378.394,147.318 382.079,144.913 385.764,142.509 389.449,140.105 393.134,137.701 396.819,135.297 400.504,132.892 404.189,130.488 \n",
       "  407.874,128.084 411.559,125.68 415.244,123.276 418.929,120.871 422.614,118.467 426.299,116.063 429.984,113.659 433.669,111.255 437.354,108.85 441.039,106.446 \n",
       "  444.724,104.042 448.409,101.638 452.094,99.2336 455.78,96.8294 459.465,94.4252 463.15,92.021 466.835,89.6168 470.52,87.2126 474.205,84.8084 477.89,82.4042 \n",
       "  481.575,80 485.26,77.5958 488.945,75.1916 492.63,72.7874 496.315,70.3832 500,67.979 503.685,65.5748 507.37,63.1706 511.055,60.7664 514.74,58.3622 \n",
       "  518.425,55.958 522.11,53.5538 525.795,51.1496 529.48,48.7454 533.165,46.3412 536.85,43.937 540.535,41.5328 544.22,39.1286 547.906,36.7244 551.591,34.3202 \n",
       "  555.276,31.916 558.961,29.5118 562.646,27.1076 566.331,24.7034 570.016,22.2992 573.701,19.895 577.386,17.4908 581.071,15.0866 584.756,12.6824 588.441,10.2782 \n",
       "  592.126,7.87402 \n",
       "  \"/>\n",
       "<polygon clip-path=\"url(#clip6000)\" points=\"\n",
       "501.61,58.994 574.126,58.994 574.126,28.754 501.61,28.754 \n",
       "  \" fill=\"#ffffff\" fill-opacity=\"1\"/>\n",
       "<polyline clip-path=\"url(#clip6000)\" style=\"stroke:#000000; stroke-width:1; stroke-opacity:1; fill:none\" points=\"\n",
       "  501.61,58.994 574.126,58.994 574.126,28.754 501.61,28.754 501.61,58.994 \n",
       "  \"/>\n",
       "<polyline clip-path=\"url(#clip6000)\" style=\"stroke:#009af9; stroke-width:2; stroke-opacity:1; fill:none\" points=\"\n",
       "  507.61,43.874 543.61,43.874 \n",
       "  \"/>\n",
       "<g clip-path=\"url(#clip6000)\">\n",
       "<text style=\"fill:#000000; fill-opacity:1; font-family:Arial,Helvetica Neue,Helvetica,sans-serif; font-size:12; text-anchor:start;\" transform=\"rotate(0, 549.61, 48.374)\" x=\"549.61\" y=\"48.374\">y1</text>\n",
       "</g>\n",
       "</svg>\n"
      ]
     },
     "execution_count": 7,
     "metadata": {},
     "output_type": "execute_result"
    }
   ],
   "source": [
    "plot(X,Y,w=2)\n",
    "title!(\"Recta\")\n",
    "xaxis!(\"Eje X\")\n",
    "yaxis!(\"Eje Y\")"
   ]
  },
  {
   "cell_type": "code",
   "execution_count": 8,
   "metadata": {},
   "outputs": [
    {
     "data": {
      "text/plain": [
       "Parabola (generic function with 1 method)"
      ]
     },
     "execution_count": 8,
     "metadata": {},
     "output_type": "execute_result"
    }
   ],
   "source": [
    "function Parabola(a,b,c,d,e,f) #a,b,c son los coeficientes de la parabola con forma \"y=ax^2+bx+c\", d y f son los valores iniciales y finales del intevalo y \"e\" se refiere al espacio entre cada número del intervalo\n",
    "    Y = zeros(collect(d:e:f)) #Hacemos un arreglo de ceros del tamaño de otro arreglo con valores desde \"d\" hasta \"f\"\n",
    "    X = zeros(collect(d:e:f)) #Hacemos lo mismo que hicimos con Y\n",
    "    for i ∈ eachindex(collect(d:e:f)) #Decimos que aplique todas las operaciones que siguen a cada elemento del arreglo\n",
    "        X[i] = collect(d:e:f)[i] #Decimos que el arreglo de ceros X sea igual al arreglo que va desde d hasta f\n",
    "        for i ∈ eachindex(collect(d:e:f)) #DEcimos que todas las operaciones se apliquen a cada elemento del arreglo\n",
    "            Y[i]=(a*(X[i])^2)+b*X[i]+c #Aplicamos la regla de correspondencia de la parábola \"y=ax^2+bx+c\"\n",
    "        end\n",
    "        parabola = hcat(X,Y) #Aquí concatenamos los arreglos X Y despues de efectuar las operaciones anteriores\n",
    "        writedlm(\"parabola.csv\",parabola,'|') #Aquí escribimos un archivo con los datos arrojados\n",
    "        end\n",
    "   print(X,Y) #Aquí le pedimos nos regrese los arreglos\n",
    "end"
   ]
  },
  {
   "cell_type": "code",
   "execution_count": 9,
   "metadata": {},
   "outputs": [
    {
     "name": "stdout",
     "output_type": "stream",
     "text": [
      "[-100,-99,-98,-97,-96,-95,-94,-93,-92,-91,-90,-89,-88,-87,-86,-85,-84,-83,-82,-81,-80,-79,-78,-77,-76,-75,-74,-73,-72,-71,-70,-69,-68,-67,-66,-65,-64,-63,-62,-61,-60,-59,-58,-57,-56,-55,-54,-53,-52,-51,-50,-49,-48,-47,-46,-45,-44,-43,-42,-41,-40,-39,-38,-37,-36,-35,-34,-33,-32,-31,-30,-29,-28,-27,-26,-25,-24,-23,-22,-21,-20,-19,-18,-17,-16,-15,-14,-13,-12,-11,-10,-9,-8,-7,-6,-5,-4,-3,-2,-1,0,1,2,3,4,5,6,7,8,9,10,11,12,13,14,15,16,17,18,19,20,21,22,23,24,25,26,27,28,29,30,31,32,33,34,35,36,37,38,39,40,41,42,43,44,45,46,47,48,49,50,51,52,53,54,55,56,57,58,59,60,61,62,63,64,65,66,67,68,69,70,71,72,73,74,75,76,77,78,79,80,81,82,83,84,85,86,87,88,89,90,91,92,93,94,95,96,97,98,99,100][9801,9604,9409,9216,9025,8836,8649,8464,8281,8100,7921,7744,7569,7396,7225,7056,6889,6724,6561,6400,6241,6084,5929,5776,5625,5476,5329,5184,5041,4900,4761,4624,4489,4356,4225,4096,3969,3844,3721,3600,3481,3364,3249,3136,3025,2916,2809,2704,2601,2500,2401,2304,2209,2116,2025,1936,1849,1764,1681,1600,1521,1444,1369,1296,1225,1156,1089,1024,961,900,841,784,729,676,625,576,529,484,441,400,361,324,289,256,225,196,169,144,121,100,81,64,49,36,25,16,9,4,1,0,1,4,9,16,25,36,49,64,81,100,121,144,169,196,225,256,289,324,361,400,441,484,529,576,625,676,729,784,841,900,961,1024,1089,1156,1225,1296,1369,1444,1521,1600,1681,1764,1849,1936,2025,2116,2209,2304,2401,2500,2601,2704,2809,2916,3025,3136,3249,3364,3481,3600,3721,3844,3969,4096,4225,4356,4489,4624,4761,4900,5041,5184,5329,5476,5625,5776,5929,6084,6241,6400,6561,6724,6889,7056,7225,7396,7569,7744,7921,8100,8281,8464,8649,8836,9025,9216,9409,9604,9801,10000,10201]"
     ]
    }
   ],
   "source": [
    "Parabola(1,2,1,-100,1,100)"
   ]
  },
  {
   "cell_type": "code",
   "execution_count": 10,
   "metadata": {},
   "outputs": [],
   "source": [
    "X= [-100,-99,-98,-97,-96,-95,-94,-93,-92,-91,-90,-89,-88,-87,-86,-85,-84,-83,-82,-81,-80,-79,-78,-77,-76,-75,-74,-73,-72,-71,-70,-69,-68,-67,-66,-65,-64,-63,-62,-61,-60,-59,-58,-57,-56,-55,-54,-53,-52,-51,-50,-49,-48,-47,-46,-45,-44,-43,-42,-41,-40,-39,-38,-37,-36,-35,-34,-33,-32,-31,-30,-29,-28,-27,-26,-25,-24,-23,-22,-21,-20,-19,-18,-17,-16,-15,-14,-13,-12,-11,-10,-9,-8,-7,-6,-5,-4,-3,-2,-1,0,1,2,3,4,5,6,7,8,9,10,11,12,13,14,15,16,17,18,19,20,21,22,23,24,25,26,27,28,29,30,31,32,33,34,35,36,37,38,39,40,41,42,43,44,45,46,47,48,49,50,51,52,53,54,55,56,57,58,59,60,61,62,63,64,65,66,67,68,69,70,71,72,73,74,75,76,77,78,79,80,81,82,83,84,85,86,87,88,89,90,91,92,93,94,95,96,97,98,99,100];"
   ]
  },
  {
   "cell_type": "code",
   "execution_count": 11,
   "metadata": {},
   "outputs": [],
   "source": [
    "Y= [9801,9604,9409,9216,9025,8836,8649,8464,8281,8100,7921,7744,7569,7396,7225,7056,6889,6724,6561,6400,6241,6084,5929,5776,5625,5476,5329,5184,5041,4900,4761,4624,4489,4356,4225,4096,3969,3844,3721,3600,3481,3364,3249,3136,3025,2916,2809,2704,2601,2500,2401,2304,2209,2116,2025,1936,1849,1764,1681,1600,1521,1444,1369,1296,1225,1156,1089,1024,961,900,841,784,729,676,625,576,529,484,441,400,361,324,289,256,225,196,169,144,121,100,81,64,49,36,25,16,9,4,1,0,1,4,9,16,25,36,49,64,81,100,121,144,169,196,225,256,289,324,361,400,441,484,529,576,625,676,729,784,841,900,961,1024,1089,1156,1225,1296,1369,1444,1521,1600,1681,1764,1849,1936,2025,2116,2209,2304,2401,2500,2601,2704,2809,2916,3025,3136,3249,3364,3481,3600,3721,3844,3969,4096,4225,4356,4489,4624,4761,4900,5041,5184,5329,5476,5625,5776,5929,6084,6241,6400,6561,6724,6889,7056,7225,7396,7569,7744,7921,8100,8281,8464,8649,8836,9025,9216,9409,9604,9801,10000,10201];"
   ]
  },
  {
   "cell_type": "code",
   "execution_count": 12,
   "metadata": {},
   "outputs": [],
   "source": [
    "using Plots"
   ]
  },
  {
   "cell_type": "code",
   "execution_count": 13,
   "metadata": {},
   "outputs": [
    {
     "data": {
      "text/plain": [
       "Plots.GRBackend()"
      ]
     },
     "execution_count": 13,
     "metadata": {},
     "output_type": "execute_result"
    }
   ],
   "source": [
    "gr()"
   ]
  },
  {
   "cell_type": "code",
   "execution_count": 14,
   "metadata": {},
   "outputs": [
    {
     "data": {
      "text/html": [
       "<?xml version=\"1.0\" encoding=\"utf-8\"?>\n",
       "<svg xmlns=\"http://www.w3.org/2000/svg\" xmlns:xlink=\"http://www.w3.org/1999/xlink\" width=\"600\" height=\"400\" viewBox=\"0 0 600 400\">\n",
       "<defs>\n",
       "  <clipPath id=\"clip00\">\n",
       "    <rect x=\"0\" y=\"0\" width=\"600\" height=\"400\"/>\n",
       "  </clipPath>\n",
       "</defs>\n",
       "<polygon clip-path=\"url(#clip6100)\" points=\"\n",
       "0,400 600,400 600,0 0,0 \n",
       "  \" fill=\"#ffffff\" fill-opacity=\"1\"/>\n",
       "<defs>\n",
       "  <clipPath id=\"clip01\">\n",
       "    <rect x=\"120\" y=\"0\" width=\"421\" height=\"400\"/>\n",
       "  </clipPath>\n",
       "</defs>\n",
       "<polygon clip-path=\"url(#clip6100)\" points=\"\n",
       "39.3701,368.504 592.126,368.504 592.126,7.87402 39.3701,7.87402 \n",
       "  \" fill=\"#ffffff\" fill-opacity=\"1\"/>\n",
       "<defs>\n",
       "  <clipPath id=\"clip02\">\n",
       "    <rect x=\"39\" y=\"7\" width=\"554\" height=\"362\"/>\n",
       "  </clipPath>\n",
       "</defs>\n",
       "<polyline clip-path=\"url(#clip6102)\" style=\"stroke:#000000; stroke-width:1; stroke-opacity:0.5; fill:none\" stroke-dasharray=\"1, 2\" points=\"\n",
       "  39.3701,363.094 39.3701,13.2835 \n",
       "  \"/>\n",
       "<polyline clip-path=\"url(#clip6102)\" style=\"stroke:#000000; stroke-width:1; stroke-opacity:0.5; fill:none\" stroke-dasharray=\"1, 2\" points=\"\n",
       "  177.559,363.094 177.559,13.2835 \n",
       "  \"/>\n",
       "<polyline clip-path=\"url(#clip6102)\" style=\"stroke:#000000; stroke-width:1; stroke-opacity:0.5; fill:none\" stroke-dasharray=\"1, 2\" points=\"\n",
       "  315.748,363.094 315.748,13.2835 \n",
       "  \"/>\n",
       "<polyline clip-path=\"url(#clip6102)\" style=\"stroke:#000000; stroke-width:1; stroke-opacity:0.5; fill:none\" stroke-dasharray=\"1, 2\" points=\"\n",
       "  453.937,363.094 453.937,13.2835 \n",
       "  \"/>\n",
       "<polyline clip-path=\"url(#clip6102)\" style=\"stroke:#000000; stroke-width:1; stroke-opacity:0.5; fill:none\" stroke-dasharray=\"1, 2\" points=\"\n",
       "  592.126,363.094 592.126,13.2835 \n",
       "  \"/>\n",
       "<polyline clip-path=\"url(#clip6102)\" style=\"stroke:#000000; stroke-width:1; stroke-opacity:0.5; fill:none\" stroke-dasharray=\"1, 2\" points=\"\n",
       "  47.6614,368.504 583.835,368.504 \n",
       "  \"/>\n",
       "<polyline clip-path=\"url(#clip6102)\" style=\"stroke:#000000; stroke-width:1; stroke-opacity:0.5; fill:none\" stroke-dasharray=\"1, 2\" points=\"\n",
       "  47.6614,280.123 583.835,280.123 \n",
       "  \"/>\n",
       "<polyline clip-path=\"url(#clip6102)\" style=\"stroke:#000000; stroke-width:1; stroke-opacity:0.5; fill:none\" stroke-dasharray=\"1, 2\" points=\"\n",
       "  47.6614,191.742 583.835,191.742 \n",
       "  \"/>\n",
       "<polyline clip-path=\"url(#clip6102)\" style=\"stroke:#000000; stroke-width:1; stroke-opacity:0.5; fill:none\" stroke-dasharray=\"1, 2\" points=\"\n",
       "  47.6614,103.361 583.835,103.361 \n",
       "  \"/>\n",
       "<polyline clip-path=\"url(#clip6102)\" style=\"stroke:#000000; stroke-width:1; stroke-opacity:0.5; fill:none\" stroke-dasharray=\"1, 2\" points=\"\n",
       "  47.6614,14.9798 583.835,14.9798 \n",
       "  \"/>\n",
       "<polyline clip-path=\"url(#clip6100)\" style=\"stroke:#000000; stroke-width:1; stroke-opacity:1; fill:none\" points=\"\n",
       "  39.3701,368.504 592.126,368.504 \n",
       "  \"/>\n",
       "<polyline clip-path=\"url(#clip6100)\" style=\"stroke:#000000; stroke-width:1; stroke-opacity:1; fill:none\" points=\"\n",
       "  39.3701,368.504 39.3701,363.094 \n",
       "  \"/>\n",
       "<polyline clip-path=\"url(#clip6100)\" style=\"stroke:#000000; stroke-width:1; stroke-opacity:1; fill:none\" points=\"\n",
       "  177.559,368.504 177.559,363.094 \n",
       "  \"/>\n",
       "<polyline clip-path=\"url(#clip6100)\" style=\"stroke:#000000; stroke-width:1; stroke-opacity:1; fill:none\" points=\"\n",
       "  315.748,368.504 315.748,363.094 \n",
       "  \"/>\n",
       "<polyline clip-path=\"url(#clip6100)\" style=\"stroke:#000000; stroke-width:1; stroke-opacity:1; fill:none\" points=\"\n",
       "  453.937,368.504 453.937,363.094 \n",
       "  \"/>\n",
       "<polyline clip-path=\"url(#clip6100)\" style=\"stroke:#000000; stroke-width:1; stroke-opacity:1; fill:none\" points=\"\n",
       "  592.126,368.504 592.126,363.094 \n",
       "  \"/>\n",
       "<polyline clip-path=\"url(#clip6100)\" style=\"stroke:#000000; stroke-width:1; stroke-opacity:1; fill:none\" points=\"\n",
       "  39.3701,368.504 39.3701,7.87402 \n",
       "  \"/>\n",
       "<polyline clip-path=\"url(#clip6100)\" style=\"stroke:#000000; stroke-width:1; stroke-opacity:1; fill:none\" points=\"\n",
       "  39.3701,368.504 47.6614,368.504 \n",
       "  \"/>\n",
       "<polyline clip-path=\"url(#clip6100)\" style=\"stroke:#000000; stroke-width:1; stroke-opacity:1; fill:none\" points=\"\n",
       "  39.3701,280.123 47.6614,280.123 \n",
       "  \"/>\n",
       "<polyline clip-path=\"url(#clip6100)\" style=\"stroke:#000000; stroke-width:1; stroke-opacity:1; fill:none\" points=\"\n",
       "  39.3701,191.742 47.6614,191.742 \n",
       "  \"/>\n",
       "<polyline clip-path=\"url(#clip6100)\" style=\"stroke:#000000; stroke-width:1; stroke-opacity:1; fill:none\" points=\"\n",
       "  39.3701,103.361 47.6614,103.361 \n",
       "  \"/>\n",
       "<polyline clip-path=\"url(#clip6100)\" style=\"stroke:#000000; stroke-width:1; stroke-opacity:1; fill:none\" points=\"\n",
       "  39.3701,14.9798 47.6614,14.9798 \n",
       "  \"/>\n",
       "<g clip-path=\"url(#clip6100)\">\n",
       "<text style=\"fill:#000000; fill-opacity:1; font-family:Arial,Helvetica Neue,Helvetica,sans-serif; font-size:12; text-anchor:middle;\" transform=\"rotate(0, 39.3701, 382.304)\" x=\"39.3701\" y=\"382.304\">-100</text>\n",
       "</g>\n",
       "<g clip-path=\"url(#clip6100)\">\n",
       "<text style=\"fill:#000000; fill-opacity:1; font-family:Arial,Helvetica Neue,Helvetica,sans-serif; font-size:12; text-anchor:middle;\" transform=\"rotate(0, 177.559, 382.304)\" x=\"177.559\" y=\"382.304\">-50</text>\n",
       "</g>\n",
       "<g clip-path=\"url(#clip6100)\">\n",
       "<text style=\"fill:#000000; fill-opacity:1; font-family:Arial,Helvetica Neue,Helvetica,sans-serif; font-size:12; text-anchor:middle;\" transform=\"rotate(0, 315.748, 382.304)\" x=\"315.748\" y=\"382.304\">0</text>\n",
       "</g>\n",
       "<g clip-path=\"url(#clip6100)\">\n",
       "<text style=\"fill:#000000; fill-opacity:1; font-family:Arial,Helvetica Neue,Helvetica,sans-serif; font-size:12; text-anchor:middle;\" transform=\"rotate(0, 453.937, 382.304)\" x=\"453.937\" y=\"382.304\">50</text>\n",
       "</g>\n",
       "<g clip-path=\"url(#clip6100)\">\n",
       "<text style=\"fill:#000000; fill-opacity:1; font-family:Arial,Helvetica Neue,Helvetica,sans-serif; font-size:12; text-anchor:middle;\" transform=\"rotate(0, 592.126, 382.304)\" x=\"592.126\" y=\"382.304\">100</text>\n",
       "</g>\n",
       "<g clip-path=\"url(#clip6100)\">\n",
       "<text style=\"fill:#000000; fill-opacity:1; font-family:Arial,Helvetica Neue,Helvetica,sans-serif; font-size:12; text-anchor:end;\" transform=\"rotate(0, 33.3701, 373.004)\" x=\"33.3701\" y=\"373.004\">0</text>\n",
       "</g>\n",
       "<g clip-path=\"url(#clip6100)\">\n",
       "<text style=\"fill:#000000; fill-opacity:1; font-family:Arial,Helvetica Neue,Helvetica,sans-serif; font-size:12; text-anchor:end;\" transform=\"rotate(0, 33.3701, 284.623)\" x=\"33.3701\" y=\"284.623\">2500</text>\n",
       "</g>\n",
       "<g clip-path=\"url(#clip6100)\">\n",
       "<text style=\"fill:#000000; fill-opacity:1; font-family:Arial,Helvetica Neue,Helvetica,sans-serif; font-size:12; text-anchor:end;\" transform=\"rotate(0, 33.3701, 196.242)\" x=\"33.3701\" y=\"196.242\">5000</text>\n",
       "</g>\n",
       "<g clip-path=\"url(#clip6100)\">\n",
       "<text style=\"fill:#000000; fill-opacity:1; font-family:Arial,Helvetica Neue,Helvetica,sans-serif; font-size:12; text-anchor:end;\" transform=\"rotate(0, 33.3701, 107.861)\" x=\"33.3701\" y=\"107.861\">7500</text>\n",
       "</g>\n",
       "<g clip-path=\"url(#clip6100)\">\n",
       "<text style=\"fill:#000000; fill-opacity:1; font-family:Arial,Helvetica Neue,Helvetica,sans-serif; font-size:12; text-anchor:end;\" transform=\"rotate(0, 33.3701, 19.4798)\" x=\"33.3701\" y=\"19.4798\">10000</text>\n",
       "</g>\n",
       "<g clip-path=\"url(#clip6100)\">\n",
       "<text style=\"fill:#000000; fill-opacity:1; font-family:Arial,Helvetica Neue,Helvetica,sans-serif; font-size:21; text-anchor:middle;\" transform=\"rotate(0, 315.748, 18)\" x=\"315.748\" y=\"18\">Parábola</text>\n",
       "</g>\n",
       "<g clip-path=\"url(#clip6100)\">\n",
       "<text style=\"fill:#000000; fill-opacity:1; font-family:Arial,Helvetica Neue,Helvetica,sans-serif; font-size:16; text-anchor:middle;\" transform=\"rotate(0, 315.748, 397.6)\" x=\"315.748\" y=\"397.6\">Eje X</text>\n",
       "</g>\n",
       "<g clip-path=\"url(#clip6100)\">\n",
       "<text style=\"fill:#000000; fill-opacity:1; font-family:Arial,Helvetica Neue,Helvetica,sans-serif; font-size:16; text-anchor:middle;\" transform=\"rotate(-90, 14.4, 188.189)\" x=\"14.4\" y=\"188.189\">Eje Y</text>\n",
       "</g>\n",
       "<polyline clip-path=\"url(#clip6102)\" style=\"stroke:#009af9; stroke-width:2; stroke-opacity:1; fill:none\" points=\"\n",
       "  39.3701,22.015 42.1339,28.9794 44.8976,35.8731 47.6614,42.6961 50.4252,49.4484 53.189,56.1301 55.9528,62.741 58.7165,69.2811 61.4803,75.7506 64.2441,82.1494 \n",
       "  67.0079,88.4775 69.7717,94.7349 72.5354,100.922 75.2992,107.038 78.063,113.083 80.8268,119.057 83.5906,124.961 86.3543,130.794 89.1181,136.557 91.8819,142.249 \n",
       "  94.6457,147.87 97.4094,153.42 100.173,158.9 102.937,164.308 105.701,169.647 108.465,174.914 111.228,180.111 113.992,185.237 116.756,190.292 119.52,195.277 \n",
       "  122.283,200.191 125.047,205.034 127.811,209.807 130.575,214.509 133.339,219.14 136.102,223.7 138.866,228.19 141.63,232.609 144.394,236.958 147.157,241.235 \n",
       "  149.921,245.442 152.685,249.578 155.449,253.644 158.213,257.639 160.976,261.563 163.74,265.416 166.504,269.199 169.268,272.911 172.031,276.552 174.795,280.123 \n",
       "  177.559,283.623 180.323,287.052 183.087,290.41 185.85,293.698 188.614,296.915 191.378,300.062 194.142,303.137 196.906,306.142 199.669,309.077 202.433,311.94 \n",
       "  205.197,314.733 207.961,317.455 210.724,320.106 213.488,322.687 216.252,325.197 219.016,327.637 221.78,330.005 224.543,332.303 227.307,334.53 230.071,336.687 \n",
       "  232.835,338.773 235.598,340.788 238.362,342.732 241.126,344.606 243.89,346.409 246.654,348.141 249.417,349.803 252.181,351.393 254.945,352.914 257.709,354.363 \n",
       "  260.472,355.742 263.236,357.05 266,358.287 268.764,359.454 271.528,360.55 274.291,361.575 277.055,362.529 279.819,363.413 282.583,364.226 285.346,364.969 \n",
       "  288.11,365.64 290.874,366.241 293.638,366.772 296.402,367.231 299.165,367.62 301.929,367.938 304.693,368.186 307.457,368.363 310.22,368.469 312.984,368.504 \n",
       "  315.748,368.469 318.512,368.363 321.276,368.186 324.039,367.938 326.803,367.62 329.567,367.231 332.331,366.772 335.094,366.241 337.858,365.64 340.622,364.969 \n",
       "  343.386,364.226 346.15,363.413 348.913,362.529 351.677,361.575 354.441,360.55 357.205,359.454 359.969,358.287 362.732,357.05 365.496,355.742 368.26,354.363 \n",
       "  371.024,352.914 373.787,351.393 376.551,349.803 379.315,348.141 382.079,346.409 384.843,344.606 387.606,342.732 390.37,340.788 393.134,338.773 395.898,336.687 \n",
       "  398.661,334.53 401.425,332.303 404.189,330.005 406.953,327.637 409.717,325.197 412.48,322.687 415.244,320.106 418.008,317.455 420.772,314.733 423.535,311.94 \n",
       "  426.299,309.077 429.063,306.142 431.827,303.137 434.591,300.062 437.354,296.915 440.118,293.698 442.882,290.41 445.646,287.052 448.409,283.623 451.173,280.123 \n",
       "  453.937,276.552 456.701,272.911 459.465,269.199 462.228,265.416 464.992,261.563 467.756,257.639 470.52,253.644 473.283,249.578 476.047,245.442 478.811,241.235 \n",
       "  481.575,236.958 484.339,232.609 487.102,228.19 489.866,223.7 492.63,219.14 495.394,214.509 498.157,209.807 500.921,205.034 503.685,200.191 506.449,195.277 \n",
       "  509.213,190.292 511.976,185.237 514.74,180.111 517.504,174.914 520.268,169.647 523.031,164.308 525.795,158.9 528.559,153.42 531.323,147.87 534.087,142.249 \n",
       "  536.85,136.557 539.614,130.794 542.378,124.961 545.142,119.057 547.906,113.083 550.669,107.038 553.433,100.922 556.197,94.7349 558.961,88.4775 561.724,82.1494 \n",
       "  564.488,75.7506 567.252,69.2811 570.016,62.741 572.78,56.1301 575.543,49.4484 578.307,42.6961 581.071,35.8731 583.835,28.9794 586.598,22.015 589.362,14.9798 \n",
       "  592.126,7.87402 \n",
       "  \"/>\n",
       "<polygon clip-path=\"url(#clip6100)\" points=\"\n",
       "501.61,58.994 574.126,58.994 574.126,28.754 501.61,28.754 \n",
       "  \" fill=\"#ffffff\" fill-opacity=\"1\"/>\n",
       "<polyline clip-path=\"url(#clip6100)\" style=\"stroke:#000000; stroke-width:1; stroke-opacity:1; fill:none\" points=\"\n",
       "  501.61,58.994 574.126,58.994 574.126,28.754 501.61,28.754 501.61,58.994 \n",
       "  \"/>\n",
       "<polyline clip-path=\"url(#clip6100)\" style=\"stroke:#009af9; stroke-width:2; stroke-opacity:1; fill:none\" points=\"\n",
       "  507.61,43.874 543.61,43.874 \n",
       "  \"/>\n",
       "<g clip-path=\"url(#clip6100)\">\n",
       "<text style=\"fill:#000000; fill-opacity:1; font-family:Arial,Helvetica Neue,Helvetica,sans-serif; font-size:12; text-anchor:start;\" transform=\"rotate(0, 549.61, 48.374)\" x=\"549.61\" y=\"48.374\">y1</text>\n",
       "</g>\n",
       "</svg>\n"
      ]
     },
     "execution_count": 14,
     "metadata": {},
     "output_type": "execute_result"
    }
   ],
   "source": [
    "plot(X,Y,w=2)\n",
    "title!(\"Parábola\")\n",
    "xaxis!(\"Eje X\")\n",
    "yaxis!(\"Eje Y\")"
   ]
  },
  {
   "cell_type": "code",
   "execution_count": null,
   "metadata": {},
   "outputs": [],
   "source": []
  }
 ],
 "metadata": {
  "kernelspec": {
   "display_name": "Julia 0.5.2",
   "language": "julia",
   "name": "julia-0.5"
  },
  "language_info": {
   "file_extension": ".jl",
   "mimetype": "application/julia",
   "name": "julia",
   "version": "0.5.2"
  }
 },
 "nbformat": 4,
 "nbformat_minor": 2
}
