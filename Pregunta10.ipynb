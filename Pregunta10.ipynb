{
 "cells": [
  {
   "cell_type": "code",
   "execution_count": 16,
   "metadata": {},
   "outputs": [
    {
     "data": {
      "text/plain": [
       "MatVec (generic function with 1 method)"
      ]
     },
     "execution_count": 16,
     "metadata": {},
     "output_type": "execute_result"
    }
   ],
   "source": [
    "function MatVec(A,v)\n",
    "    if size(A)[2] == length(v) #Aquí le pedimos que el tamaño del vector columna sea igual al tamaño del renglón de la matriz\n",
    "        r = zeros(size(A)[1]) #Aquí creamos un areglo de ceros del tamaño de las columnas de A en la que alojaremos el resultado\n",
    "        for i in 1:size(A)[1] #Aquí especificamos que las operaciones a realizar son elemento a elemento de las columnas de A\n",
    "            k=0 #Aquí creamos una entrada que ira alojando cada elemento de r\n",
    "            for j in 1:size(A)[2] #Aquí hacemos referencia a cada elemento de los renglones de A sobre los que se aplicaran las siguientes operaciones \n",
    "                m=A[i,j]*v[j] #Aquí efectuamos las operaciones multiplicando el ijesimo elmento de A con el jesimo elemento de v\n",
    "                k+=m #Le sumamos m a la entrada para que la vaya guardando \n",
    "            end\n",
    "            r[i] = k #el i esimo elemento de r es k, esto es, que k guarda cada elemento de r y lo deposita en r\n",
    "        end\n",
    "        r #Aquí pedimos que nos regrese r\n",
    "    end\n",
    "end          "
   ]
  },
  {
   "cell_type": "code",
   "execution_count": 22,
   "metadata": {},
   "outputs": [
    {
     "data": {
      "text/plain": [
       "3-element Array{Int64,1}:\n",
       " 1\n",
       " 2\n",
       " 3"
      ]
     },
     "execution_count": 22,
     "metadata": {},
     "output_type": "execute_result"
    }
   ],
   "source": [
    "A= [1 2 3; 3 4 5; 5 6 7]\n",
    "v=[1,2,3]"
   ]
  },
  {
   "cell_type": "code",
   "execution_count": 23,
   "metadata": {},
   "outputs": [
    {
     "data": {
      "text/plain": [
       "3"
      ]
     },
     "execution_count": 23,
     "metadata": {},
     "output_type": "execute_result"
    }
   ],
   "source": [
    "size(A)[2]"
   ]
  },
  {
   "cell_type": "code",
   "execution_count": 24,
   "metadata": {},
   "outputs": [
    {
     "data": {
      "text/plain": [
       "3-element Array{Float64,1}:\n",
       " 14.0\n",
       " 26.0\n",
       " 38.0"
      ]
     },
     "execution_count": 24,
     "metadata": {},
     "output_type": "execute_result"
    }
   ],
   "source": [
    "MatVec(A,v)"
   ]
  },
  {
   "cell_type": "code",
   "execution_count": 52,
   "metadata": {},
   "outputs": [
    {
     "name": "stderr",
     "output_type": "stream",
     "text": [
      "WARNING: Method definition ProdMatr(Any, Any) in module Main at In[50]:2 overwritten at In[52]:2.\n"
     ]
    },
    {
     "data": {
      "text/plain": [
       "ProdMatr (generic function with 1 method)"
      ]
     },
     "execution_count": 52,
     "metadata": {},
     "output_type": "execute_result"
    }
   ],
   "source": [
    "function ProdMatr(A,B)\n",
    "    if size(A)[2]== size(B)[1] #Aquí le pedimos que las el numero de columnas de A sea el mismo que de renglones en B\n",
    "        M= zeros(size(A)[1],size(B)[2]) #Aquí creamos un arreglo del tamaño de los renglones de A y las columnas de B\n",
    "        for i ∈ 1:size(A)[1] #Decimos que para cada elemento en los renglones de A se aplicara qur r=1\n",
    "            r=1 #r representará el numero de columnas de B\n",
    "            while r<=size(A)[1] #Decimos que mientras r sea menor o igual al tamaño de los renglones de A ocurrira que p=0\n",
    "                p=0 #p será el contador que vaya guardando los valores que se acumulen de cada operación para depositarlos en su lugar en la matriz resultante\n",
    "                for j ∈ 1:size(B)[1] #Decimos que para elemento en los renglones de B ocurriran las siguientes operaciones\n",
    "                    a=A[i,j]*B[j,r] #Aquí decimos que multiplicaremos el ij esimo elemento de A con el jr esimo elemento de B\n",
    "                    p+=a #Aquí se suman los resultados que se obtienen de a\n",
    "                end\n",
    "                M[i,r]=p #Aquí se declara que p representa cada ir esimo elemento de la matriz resultante\n",
    "                r+=1 #Aquí se suma a la r una unidad para continuar con el ciclo \n",
    "            end\n",
    "        end\n",
    "        M #Aquí se pide que imprima M como resultado\n",
    "    else\n",
    "        print(\"Matrices no se pueden multiplicar\") #Aquí se pide que se arroje esta respuesta si no se puede efectuar la operación por la diferencia de dimensiones.\n",
    "    end\n",
    "end"
   ]
  },
  {
   "cell_type": "code",
   "execution_count": 53,
   "metadata": {},
   "outputs": [
    {
     "data": {
      "text/plain": [
       "3×3 Array{Int64,2}:\n",
       " 2  4  5\n",
       " 6  7  8\n",
       " 6  7  9"
      ]
     },
     "execution_count": 53,
     "metadata": {},
     "output_type": "execute_result"
    }
   ],
   "source": [
    "A= [1 2 3; 3 4 5; 5 6 7]\n",
    "B= [2 4 5; 6 7 8; 6 7 9]"
   ]
  },
  {
   "cell_type": "code",
   "execution_count": 54,
   "metadata": {},
   "outputs": [
    {
     "data": {
      "text/plain": [
       "3×3 Array{Float64,2}:\n",
       " 32.0   39.0   48.0\n",
       " 60.0   75.0   92.0\n",
       " 88.0  111.0  136.0"
      ]
     },
     "execution_count": 54,
     "metadata": {},
     "output_type": "execute_result"
    }
   ],
   "source": [
    "ProdMatr(A,B)"
   ]
  },
  {
   "cell_type": "code",
   "execution_count": null,
   "metadata": {},
   "outputs": [],
   "source": []
  }
 ],
 "metadata": {
  "kernelspec": {
   "display_name": "Julia 0.5.2",
   "language": "julia",
   "name": "julia-0.5"
  },
  "language_info": {
   "file_extension": ".jl",
   "mimetype": "application/julia",
   "name": "julia",
   "version": "0.5.2"
  }
 },
 "nbformat": 4,
 "nbformat_minor": 2
}
