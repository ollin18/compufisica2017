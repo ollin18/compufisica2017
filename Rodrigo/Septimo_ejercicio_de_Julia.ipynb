{
 "cells": [
  {
   "cell_type": "markdown",
   "metadata": {},
   "source": [
    "# Suma de dos vectores cualesquiera en R^3"
   ]
  },
  {
   "cell_type": "code",
   "execution_count": 1,
   "metadata": {},
   "outputs": [
    {
     "data": {
      "text/plain": [
       "Sumavectoresr3 (generic function with 1 method)"
      ]
     },
     "execution_count": 1,
     "metadata": {},
     "output_type": "execute_result"
    }
   ],
   "source": [
    "function Sumavectoresr3(u,v) #Se crea la funcion\n",
    "    if length(u)==length(v)==3 #Se pide que el tamaño de los dos vectores sea 3\n",
    "        p= Array{Float64}(length(u)) #Se crea un arreglo donde se vaya guardando el resultado de la suma\n",
    "        for i ∈ eachindex(u) #Se Aclara que las operaciones son renglon a renglon\n",
    "            p[i]=(u[i]+v[i]) #Se dice que a cada elemento de \"p\" le correspondera la suma de dos elementos en la misma posición de \"u\" y \"v\"\n",
    "        end\n",
    "        print(p) #Se pide que imprima p en pantalla\n",
    "    else\n",
    "        print(\"Los vectores no son de igual tamaño\") #Se pide que imprima en pantalla esta respuesta si los vectores tienen diferente dimensión\n",
    "    end\n",
    "end"
   ]
  },
  {
   "cell_type": "code",
   "execution_count": 2,
   "metadata": {},
   "outputs": [
    {
     "data": {
      "text/plain": [
       "3-element Array{Int64,1}:\n",
       " 4\n",
       " 5\n",
       " 6"
      ]
     },
     "execution_count": 2,
     "metadata": {},
     "output_type": "execute_result"
    }
   ],
   "source": [
    "α = [1,2,3]\n",
    "β = [4,5,6]"
   ]
  },
  {
   "cell_type": "code",
   "execution_count": 3,
   "metadata": {},
   "outputs": [
    {
     "name": "stdout",
     "output_type": "stream",
     "text": [
      "[5.0, 7.0, 9.0]"
     ]
    }
   ],
   "source": [
    "Sumavectoresr3(α,β)"
   ]
  },
  {
   "cell_type": "code",
   "execution_count": 4,
   "metadata": {},
   "outputs": [
    {
     "data": {
      "text/plain": [
       "3-element Array{Int64,1}:\n",
       " 11\n",
       " 12\n",
       " 13"
      ]
     },
     "execution_count": 4,
     "metadata": {},
     "output_type": "execute_result"
    }
   ],
   "source": [
    "α = [9,8,7,6]\n",
    "β = [11,12,13]"
   ]
  },
  {
   "cell_type": "code",
   "execution_count": 5,
   "metadata": {},
   "outputs": [
    {
     "name": "stdout",
     "output_type": "stream",
     "text": [
      "Los vectores no son de igual tamaño"
     ]
    }
   ],
   "source": [
    "Sumavectoresr3(α,β)"
   ]
  },
  {
   "cell_type": "markdown",
   "metadata": {},
   "source": [
    "# Suma de dos vectores cualesquiera en R^n"
   ]
  },
  {
   "cell_type": "code",
   "execution_count": 6,
   "metadata": {},
   "outputs": [
    {
     "data": {
      "text/plain": [
       "Sumavectores (generic function with 1 method)"
      ]
     },
     "execution_count": 6,
     "metadata": {},
     "output_type": "execute_result"
    }
   ],
   "source": [
    "function Sumavectores(u,v) #Sse crea la funcion\n",
    "    if length(u)==length(v) #Se pide que la dimensión de ambos vectores sea la misma\n",
    "        p= Array{Float64}(length(v)) #Se crea un arreglo que vaya guardando la suma de vectores\n",
    "        for i ∈ eachindex(u) #Se aclara que las operaciones son elemento a elemento\n",
    "            p[i]=(u[i]+v[i]) #Se dice que a cada elemento de \"p\" le correspondera la suma de dos elementos en la misma posición de \"u\" y \"v\"\n",
    "        end\n",
    "        print(p) #Se pide que imprima \"p\" en pantalla\n",
    "    else\n",
    "        print(\"Los vectores no son de igual tamaño\") #Se pide que imprima en pantalla esta respuesta si los vectores tienen diferente dimensión\n",
    "    end\n",
    "end"
   ]
  },
  {
   "cell_type": "code",
   "execution_count": 7,
   "metadata": {},
   "outputs": [
    {
     "data": {
      "text/plain": [
       "6-element Array{Int64,1}:\n",
       "  1\n",
       "  3\n",
       "  5\n",
       "  7\n",
       " 11\n",
       " 13"
      ]
     },
     "execution_count": 7,
     "metadata": {},
     "output_type": "execute_result"
    }
   ],
   "source": [
    "α = [2,4,6,7,8,10]\n",
    "β = [1,3,5,7,11,13]"
   ]
  },
  {
   "cell_type": "code",
   "execution_count": 8,
   "metadata": {},
   "outputs": [
    {
     "name": "stdout",
     "output_type": "stream",
     "text": [
      "[3.0, 7.0, 11.0, 14.0, 19.0, 23.0]"
     ]
    }
   ],
   "source": [
    "Sumavectores(α,β)"
   ]
  },
  {
   "cell_type": "code",
   "execution_count": 9,
   "metadata": {},
   "outputs": [
    {
     "data": {
      "text/plain": [
       "5-element Array{Int64,1}:\n",
       "  3\n",
       "  6\n",
       "  9\n",
       " 12\n",
       " 15"
      ]
     },
     "execution_count": 9,
     "metadata": {},
     "output_type": "execute_result"
    }
   ],
   "source": [
    "α = [5,10,15,20]\n",
    "β = [3,6,9,12,15]"
   ]
  },
  {
   "cell_type": "code",
   "execution_count": 10,
   "metadata": {},
   "outputs": [
    {
     "name": "stdout",
     "output_type": "stream",
     "text": [
      "Los vectores no son de igual tamaño"
     ]
    }
   ],
   "source": [
    "Sumavectores(α,β)"
   ]
  },
  {
   "cell_type": "code",
   "execution_count": null,
   "metadata": {},
   "outputs": [],
   "source": []
  }
 ],
 "metadata": {
  "kernelspec": {
   "display_name": "Julia 0.6.0",
   "language": "julia",
   "name": "julia-0.6"
  },
  "language_info": {
   "file_extension": ".jl",
   "mimetype": "application/julia",
   "name": "julia",
   "version": "0.6.0"
  }
 },
 "nbformat": 4,
 "nbformat_minor": 2
}
