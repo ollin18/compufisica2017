{
 "cells": [
  {
   "cell_type": "markdown",
   "metadata": {},
   "source": [
    "<div class=\"alert alert-success\" role=\"alert\">\n",
    "<h1> Suma de los primeros \"**n**\" naturales </h1>\n",
    "<h2> Facultad de Ciencias, UNAM </h2>\n",
    "<h3> Briones Andrade Joshua || Computación </h3>\n",
    "</div>"
   ]
  },
  {
   "cell_type": "markdown",
   "metadata": {},
   "source": [
    "La función de la suma para los primeros n naturales es intuitiva porque se puede ver de varias formas, inclusive se rumora que Gauss en el colegio de pequeño inventó una formula para esto.\n",
    "\n",
    "Así que para efectos prácticos lo comprobaremos con dos formulas."
   ]
  },
  {
   "cell_type": "markdown",
   "metadata": {},
   "source": [
    "# $$ \\displaystyle{\\sum_{k=1}^{n}{k}}=\\frac{n(n+1)}{2}=1+2+...+(n-2)+(n-1)+n $$"
   ]
  },
  {
   "cell_type": "code",
   "execution_count": 43,
   "metadata": {},
   "outputs": [
    {
     "name": "stderr",
     "output_type": "stream",
     "text": [
      "WARNING: Method definition Sum(Any) in module Main at In[38]:2 overwritten at In[43]:2.\n"
     ]
    },
    {
     "data": {
      "text/plain": [
       "Sum (generic function with 1 method)"
      ]
     },
     "execution_count": 43,
     "metadata": {},
     "output_type": "execute_result"
    }
   ],
   "source": [
    "function Sum(n)\n",
    "    m=0.0\n",
    "    k=1\n",
    "    for i ∈(1:n)\n",
    "        m=m+k\n",
    "        k=k+1\n",
    "    end\n",
    "#println(\"La suma de 1 a $n es\")\n",
    "    m\n",
    "end"
   ]
  },
  {
   "cell_type": "code",
   "execution_count": 36,
   "metadata": {},
   "outputs": [
    {
     "name": "stderr",
     "output_type": "stream",
     "text": [
      "WARNING: Method definition Gauss(Any) in module Main at In[30]:2 overwritten at In[36]:2.\n"
     ]
    },
    {
     "data": {
      "text/plain": [
       "Gauss (generic function with 1 method)"
      ]
     },
     "execution_count": 36,
     "metadata": {},
     "output_type": "execute_result"
    }
   ],
   "source": [
    "function Gauss(n)\n",
    "    s=(n*(n+1))/(2)\n",
    "    #println(\"La suma por el método de Gauss es:\") \n",
    "    s\n",
    "end"
   ]
  },
  {
   "cell_type": "markdown",
   "metadata": {},
   "source": [
    "Para poder probar que son equivalentes las dos funciones deben arrojar el mismo tipo de resultado asi que checamos con \"**typeof(n)**\"."
   ]
  },
  {
   "cell_type": "code",
   "execution_count": 46,
   "metadata": {},
   "outputs": [
    {
     "data": {
      "text/plain": [
       "Float64"
      ]
     },
     "execution_count": 46,
     "metadata": {},
     "output_type": "execute_result"
    }
   ],
   "source": [
    "typeof(Sum(5))"
   ]
  },
  {
   "cell_type": "code",
   "execution_count": 63,
   "metadata": {},
   "outputs": [
    {
     "data": {
      "text/plain": [
       "Float64"
      ]
     },
     "execution_count": 63,
     "metadata": {},
     "output_type": "execute_result"
    }
   ],
   "source": [
    "typeof(Gauss(5))"
   ]
  },
  {
   "cell_type": "markdown",
   "metadata": {},
   "source": [
    "Ahora hacemos la comparación con el siguiente codigo y los resultados visibles para **n=5**"
   ]
  },
  {
   "cell_type": "code",
   "execution_count": 62,
   "metadata": {},
   "outputs": [
    {
     "data": {
      "text/plain": [
       "(15.0,15.0)"
      ]
     },
     "execution_count": 62,
     "metadata": {},
     "output_type": "execute_result"
    }
   ],
   "source": [
    "(Sum(5),Gauss(5))"
   ]
  },
  {
   "cell_type": "code",
   "execution_count": 60,
   "metadata": {},
   "outputs": [
    {
     "name": "stdout",
     "output_type": "stream",
     "text": [
      "Las dos funciones son equivalentes\n"
     ]
    }
   ],
   "source": [
    "for i in Sum(5)\n",
    "    if i == Gauss(5)\n",
    "        println(\"Las dos funciones son equivalentes\")\n",
    "    end\n",
    "end"
   ]
  },
  {
   "cell_type": "markdown",
   "metadata": {},
   "source": [
    "Ahora para los primeros 10000 naturales, es decir, **n=10000**"
   ]
  },
  {
   "cell_type": "code",
   "execution_count": 66,
   "metadata": {},
   "outputs": [
    {
     "data": {
      "text/plain": [
       "(5.0005e7,5.0005e7)"
      ]
     },
     "execution_count": 66,
     "metadata": {},
     "output_type": "execute_result"
    }
   ],
   "source": [
    "arreglo=(Sum(10000),Gauss(10000))"
   ]
  },
  {
   "cell_type": "code",
   "execution_count": 67,
   "metadata": {},
   "outputs": [
    {
     "name": "stdout",
     "output_type": "stream",
     "text": [
      "Las dos funciones son equivalentes\n"
     ]
    }
   ],
   "source": [
    "for i in arreglo[1]\n",
    "    if i == arreglo[2]\n",
    "        println(\"Las dos funciones son equivalentes\")\n",
    "    end\n",
    "end"
   ]
  },
  {
   "cell_type": "markdown",
   "metadata": {},
   "source": [
    "Así que por induccíon matemática podemos suponer que es cierto para \"**k**\", entonces cierto para \"**k+1**\".\n",
    "\n",
    "Por tanto es válido para todo número natural."
   ]
  }
 ],
 "metadata": {
  "kernelspec": {
   "display_name": "Julia 0.5.2",
   "language": "julia",
   "name": "julia-0.5"
  },
  "language_info": {
   "file_extension": ".jl",
   "mimetype": "application/julia",
   "name": "julia",
   "version": "0.5.2"
  }
 },
 "nbformat": 4,
 "nbformat_minor": 2
}
