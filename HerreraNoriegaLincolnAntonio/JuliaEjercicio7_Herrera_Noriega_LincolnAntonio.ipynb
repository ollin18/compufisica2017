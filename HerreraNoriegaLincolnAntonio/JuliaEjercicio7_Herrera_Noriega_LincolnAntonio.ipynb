{
 "cells": [
  {
   "cell_type": "markdown",
   "metadata": {},
   "source": [
    "a) Sumar dos vectores en ${\\rm I\\!R}^{3}$ insertados por el usuario  "
   ]
  },
  {
   "cell_type": "code",
   "execution_count": 44,
   "metadata": {},
   "outputs": [
    {
     "data": {
      "text/plain": [
       "suma (generic function with 1 method)"
      ]
     },
     "execution_count": 44,
     "metadata": {},
     "output_type": "execute_result"
    }
   ],
   "source": [
    "function suma(A,B)              \n",
    "    s=[A[1]+B[1],A[2]+B[2],A[3]+B[3]]                 # Definimos la variable de la suma como un vector en el que cada componente es la suma de las componentes correspondientes A[i] y B[i] de cada vector     \n",
    "    print(\"el valor de la suma es $s\")\n",
    "end"
   ]
  },
  {
   "cell_type": "code",
   "execution_count": 7,
   "metadata": {},
   "outputs": [],
   "source": [
    "A = [1,1,1]\n",
    "B = [2,2,2];"
   ]
  },
  {
   "cell_type": "code",
   "execution_count": 8,
   "metadata": {},
   "outputs": [
    {
     "name": "stdout",
     "output_type": "stream",
     "text": [
      "La suma de los vectores A y B es [3, 3, 3]"
     ]
    }
   ],
   "source": [
    "suma(A,B)"
   ]
  },
  {
   "cell_type": "markdown",
   "metadata": {},
   "source": [
    "b) Sumar dos vectores en ${\\rm I\\!R}^{n}$ leídos de un archivo de datos"
   ]
  },
  {
   "cell_type": "markdown",
   "metadata": {},
   "source": [
    "Definimos los vectores introducidos por el usuario"
   ]
  },
  {
   "cell_type": "code",
   "execution_count": 28,
   "metadata": {},
   "outputs": [],
   "source": [
    "A = [1,2,3]\n",
    "B = [3,2,1];"
   ]
  },
  {
   "cell_type": "markdown",
   "metadata": {},
   "source": [
    "Escribimos los vectores en un archivo de datos"
   ]
  },
  {
   "cell_type": "code",
   "execution_count": 29,
   "metadata": {},
   "outputs": [],
   "source": [
    "writedlm(\"A.csv\", A, '|')"
   ]
  },
  {
   "cell_type": "code",
   "execution_count": 30,
   "metadata": {},
   "outputs": [],
   "source": [
    "writedlm(\"B.csv\", B, '|')"
   ]
  },
  {
   "cell_type": "markdown",
   "metadata": {},
   "source": [
    "Ahora leemos los archivos y los asignamos a una variable"
   ]
  },
  {
   "cell_type": "code",
   "execution_count": 31,
   "metadata": {},
   "outputs": [],
   "source": [
    "A = readdlm(\"A.csv\", '|');"
   ]
  },
  {
   "cell_type": "code",
   "execution_count": 32,
   "metadata": {},
   "outputs": [],
   "source": [
    "B = readdlm(\"B.csv\", '|');"
   ]
  },
  {
   "cell_type": "markdown",
   "metadata": {},
   "source": [
    "Y definimos la función que leera los vectores y los sumará"
   ]
  },
  {
   "cell_type": "code",
   "execution_count": 33,
   "metadata": {},
   "outputs": [
    {
     "data": {
      "text/plain": [
       "suma (generic function with 1 method)"
      ]
     },
     "execution_count": 33,
     "metadata": {},
     "output_type": "execute_result"
    }
   ],
   "source": [
    "function suma(u,v)\n",
    "    if  length(u) ==  length(v)                  # verificamos con un condicional para realizar la suma solo si ambos vectores tienen el mismo tamaño\n",
    "        s = u                                    \n",
    "        for i ∈ 1:length(u)                      # asignamos el rango del contador desde 1 hasta número de elementos de los dos vectores, que ya adentro del if son del mismo tamaño\n",
    "           s[i]=s[i]+v[i]                        # realizamos la suma entre componentes con el mismo contador, i.e. las componentes correspondientes de los vectores\n",
    "        end\n",
    "        print(\"La suma de los vectores es $s\")\n",
    "    else\n",
    "        print(\"Error, se intento sumar vectores de distinto tamaño\")\n",
    "    end\n",
    "end\n"
   ]
  },
  {
   "cell_type": "code",
   "execution_count": 34,
   "metadata": {},
   "outputs": [
    {
     "name": "stdout",
     "output_type": "stream",
     "text": [
      "La suma de los vectores es [4.0; 4.0; 4.0]"
     ]
    }
   ],
   "source": [
    "suma(A,B)"
   ]
  },
  {
   "cell_type": "markdown",
   "metadata": {},
   "source": [
    "El caso para vectores de distinto tamaño:"
   ]
  },
  {
   "cell_type": "code",
   "execution_count": 38,
   "metadata": {},
   "outputs": [],
   "source": [
    "A=[1,1]\n",
    "B=[1,1,1];"
   ]
  },
  {
   "cell_type": "code",
   "execution_count": 42,
   "metadata": {},
   "outputs": [
    {
     "name": "stdout",
     "output_type": "stream",
     "text": [
      "Error, se intento sumar vectores de distinto tamaño"
     ]
    }
   ],
   "source": [
    "writedlm(\"A.csv\", A, '|')\n",
    "writedlm(\"B.csv\", B, '|')\n",
    "u = readdlm(\"A.csv\", '|')\n",
    "v = readdlm(\"B.csv\", '|')\n",
    "suma(u,v)"
   ]
  }
 ],
 "metadata": {
  "kernelspec": {
   "display_name": "Julia 0.6.0",
   "language": "julia",
   "name": "julia-0.6"
  },
  "language_info": {
   "file_extension": ".jl",
   "mimetype": "application/julia",
   "name": "julia",
   "version": "0.6.0"
  }
 },
 "nbformat": 4,
 "nbformat_minor": 2
}
