{
 "cells": [
  {
   "cell_type": "markdown",
   "metadata": {},
   "source": [
    "<div class=\"alert alert-success\" role=\"alert\">\n",
    " <h1>Caída libre </h1>\n",
    " <h2>Computación</h2>\n",
    " <h2>Física, Facultad de Ciencias. UNAM </h2>\n",
    " <h3>Celeste Castro Granados</h3>\n",
    " </div>"
   ]
  },
  {
   "cell_type": "markdown",
   "metadata": {},
   "source": [
    "Lo primero que vamos a hacer es definir nuestro sistema de ecuaciones para la caída libre o tiro vertical:"
   ]
  },
  {
   "cell_type": "markdown",
   "metadata": {},
   "source": [
    "Sistema de ecuaciones que rigen el tiro vertical:\n",
    "\n",
    "$$\n",
    "\\textbf{V} = at + Vo\n",
    "$$\n",
    "$$\n",
    "\\textbf{a} = -g\n",
    "$$\n",
    "$$\n",
    "\\textbf{y} = \\left(-\\frac{1}{2}gt^2+v_{0}t+y_0\\right)\\hat{j}\n",
    "$$"
   ]
  },
  {
   "cell_type": "markdown",
   "metadata": {},
   "source": [
    "El usuario puede elegir tanto el tiempo, dando valor inicial y final al intervalo, como la velocidad inicial con la que quiere trabajar. En este caso elegimos arbitrariamente, pero siempre se le puede asignar un nuevo valor al anterior.\n",
    "\n",
    "Es importante mencionar que la constante que tenemos es g, la cual representa el valor de la gravedad para el caso de la Tierra."
   ]
  },
  {
   "cell_type": "markdown",
   "metadata": {},
   "source": [
    "Asigamos entonces nuestra velocidad inicial:"
   ]
  },
  {
   "cell_type": "code",
   "execution_count": 1,
   "metadata": {},
   "outputs": [
    {
     "data": {
      "text/plain": [
       "10"
      ]
     },
     "execution_count": 1,
     "metadata": {},
     "output_type": "execute_result"
    }
   ],
   "source": [
    "Vo = 10 #m/s"
   ]
  },
  {
   "cell_type": "markdown",
   "metadata": {},
   "source": [
    "Y ahora tenemos la constante de la gravedad que define nuestra aceleración:"
   ]
  },
  {
   "cell_type": "code",
   "execution_count": 2,
   "metadata": {},
   "outputs": [
    {
     "data": {
      "text/plain": [
       "9.81"
      ]
     },
     "execution_count": 2,
     "metadata": {},
     "output_type": "execute_result"
    }
   ],
   "source": [
    "g = 9.81 #m/s^2"
   ]
  },
  {
   "cell_type": "code",
   "execution_count": 3,
   "metadata": {},
   "outputs": [
    {
     "data": {
      "text/plain": [
       "-9.81"
      ]
     },
     "execution_count": 3,
     "metadata": {},
     "output_type": "execute_result"
    }
   ],
   "source": [
    "a = -g"
   ]
  },
  {
   "cell_type": "markdown",
   "metadata": {},
   "source": [
    "Y finalmente definimos un tiempo"
   ]
  },
  {
   "cell_type": "code",
   "execution_count": 4,
   "metadata": {},
   "outputs": [],
   "source": [
    "t = collect(0:0.125:20);"
   ]
  },
  {
   "cell_type": "markdown",
   "metadata": {},
   "source": [
    "Tomamos las condiciones iniciales para y=0"
   ]
  },
  {
   "cell_type": "markdown",
   "metadata": {},
   "source": [
    "$$\n",
    "\\textbf{y} = \\left(-\\frac{1}{2}gt^2+v_{0}t\\right)\\\n",
    "$$"
   ]
  },
  {
   "cell_type": "markdown",
   "metadata": {},
   "source": [
    "Por lo tanto, tendremos una posición \"y\" que irá variando para cada tiempo, por lo que partimos en ceros:"
   ]
  },
  {
   "cell_type": "code",
   "execution_count": 6,
   "metadata": {},
   "outputs": [],
   "source": [
    "y = zeros(t);"
   ]
  },
  {
   "cell_type": "markdown",
   "metadata": {},
   "source": [
    "Y escribimos el programa para esa posición \"y\":"
   ]
  },
  {
   "cell_type": "code",
   "execution_count": 7,
   "metadata": {},
   "outputs": [],
   "source": [
    "for i ∈ eachindex(t)\n",
    "    y[i] = (-(1/2*g*t[i]^2)+Vo*t[i]) #Va a haber una posición y para cada i\n",
    "end"
   ]
  },
  {
   "cell_type": "markdown",
   "metadata": {},
   "source": [
    "Y finalmente, procedemos a graficar, instalando los paquetes necesarios:"
   ]
  },
  {
   "cell_type": "code",
   "execution_count": 8,
   "metadata": {},
   "outputs": [
    {
     "name": "stderr",
     "output_type": "stream",
     "text": [
      "\u001b[1m\u001b[36mINFO: \u001b[39m\u001b[22m\u001b[36mInitializing package repository /home/juser/.julia/v0.6\n",
      "\u001b[39m\u001b[1m\u001b[36mINFO: \u001b[39m\u001b[22m\u001b[36mCloning METADATA from https://github.com/JuliaLang/METADATA.jl\n",
      "\u001b[39m"
     ]
    }
   ],
   "source": [
    "using Plots"
   ]
  },
  {
   "cell_type": "code",
   "execution_count": 9,
   "metadata": {},
   "outputs": [
    {
     "data": {
      "text/plain": [
       "Plots.PyPlotBackend()"
      ]
     },
     "execution_count": 9,
     "metadata": {},
     "output_type": "execute_result"
    }
   ],
   "source": [
    "pyplot()"
   ]
  },
  {
   "cell_type": "code",
   "execution_count": 12,
   "metadata": {},
   "outputs": [
    {
     "data": {
      "text/html": [
       "<img src=\"data:image/png;base64,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\" />"
      ]
     },
     "execution_count": 12,
     "metadata": {},
     "output_type": "execute_result"
    }
   ],
   "source": [
    "plot(y,w=2)\n",
    "title!(\"Tiro vertical\")\n",
    "xaxis!(\"Tiempo (s)\")\n",
    "yaxis!(\"Posición (m)\")"
   ]
  },
  {
   "cell_type": "markdown",
   "metadata": {},
   "source": [
    "Ahora calcularemos la velocidad para cada tiempo usando la siguiente ecuación:"
   ]
  },
  {
   "cell_type": "markdown",
   "metadata": {},
   "source": [
    "$$\n",
    "\\textbf{V} = at + Vo\n",
    "$$"
   ]
  },
  {
   "cell_type": "markdown",
   "metadata": {},
   "source": [
    "Partimos en ceros, porque aún no hemos calculado ningún valor para la velocidad"
   ]
  },
  {
   "cell_type": "code",
   "execution_count": 15,
   "metadata": {},
   "outputs": [],
   "source": [
    "V = zeros(t);"
   ]
  },
  {
   "cell_type": "markdown",
   "metadata": {},
   "source": [
    "Escribimos el programa:"
   ]
  },
  {
   "cell_type": "code",
   "execution_count": 16,
   "metadata": {},
   "outputs": [],
   "source": [
    "for i ∈ eachindex(t)\n",
    "    V[i] = a*t[i]+Vo #Basado en la ecuación presentada para la velocidad, va a haber una velocidad para cada i\n",
    "end"
   ]
  },
  {
   "cell_type": "markdown",
   "metadata": {},
   "source": [
    "Y por último, graficamos igualmente:"
   ]
  },
  {
   "cell_type": "code",
   "execution_count": 17,
   "metadata": {},
   "outputs": [],
   "source": [
    "using Plots"
   ]
  },
  {
   "cell_type": "code",
   "execution_count": 18,
   "metadata": {},
   "outputs": [
    {
     "data": {
      "text/plain": [
       "Plots.PyPlotBackend()"
      ]
     },
     "execution_count": 18,
     "metadata": {},
     "output_type": "execute_result"
    }
   ],
   "source": [
    "pyplot()"
   ]
  },
  {
   "cell_type": "code",
   "execution_count": 19,
   "metadata": {},
   "outputs": [
    {
     "data": {
      "text/html": [
       "<img src=\"data:image/png;base64,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\" />"
      ]
     },
     "execution_count": 19,
     "metadata": {},
     "output_type": "execute_result"
    }
   ],
   "source": [
    "plot(V,w=2)\n",
    "title!(\"Tiro vertical\")\n",
    "xaxis!(\"Tiempo (s)\")\n",
    "yaxis!(\"Velocidad (m/s)\")"
   ]
  }
 ],
 "metadata": {
  "kernelspec": {
   "display_name": "Julia 0.6.0",
   "language": "julia",
   "name": "julia-0.6"
  },
  "language_info": {
   "file_extension": ".jl",
   "mimetype": "application/julia",
   "name": "julia",
   "version": "0.6.0"
  }
 },
 "nbformat": 4,
 "nbformat_minor": 2
}
