{
 "cells": [
  {
   "cell_type": "code",
   "execution_count": 7,
   "metadata": {},
   "outputs": [
    {
     "data": {
      "text/plain": [
       "Plots.PyPlotBackend()"
      ]
     },
     "execution_count": 7,
     "metadata": {},
     "output_type": "execute_result"
    }
   ],
   "source": [
    "using Plots\n",
    "pyplot()"
   ]
  },
  {
   "cell_type": "markdown",
   "metadata": {},
   "source": [
    "Definimos la constante gravitacional"
   ]
  },
  {
   "cell_type": "code",
   "execution_count": 15,
   "metadata": {},
   "outputs": [
    {
     "data": {
      "text/plain": [
       "6.67408e-11"
      ]
     },
     "execution_count": 15,
     "metadata": {},
     "output_type": "execute_result"
    }
   ],
   "source": [
    "G = 0.0000000000667408"
   ]
  },
  {
   "cell_type": "markdown",
   "metadata": {},
   "source": [
    "Definimos una función que grafique la velocidad de escape de acuerdo a la masa del planeta M, y un rango de radios con incremento de radios introducidos por el usuario"
   ]
  },
  {
   "cell_type": "code",
   "execution_count": 26,
   "metadata": {},
   "outputs": [
    {
     "data": {
      "text/plain": [
       "escaper (generic function with 1 method)"
      ]
     },
     "execution_count": 26,
     "metadata": {},
     "output_type": "execute_result"
    }
   ],
   "source": [
    "function escaper(M,Δr,ri,rf)\n",
    "    r = collect(ri:Δr:rf)\n",
    "    v = zeros(r)\n",
    "    for i in eachindex(r)\n",
    "        v[i] = sqrt((2*G*M)/r[i])\n",
    "    end\n",
    "plot(r,v,w=2)\n",
    "title!(\"Rapidez de escape\")\n",
    "xaxis!(\"Masa\")\n",
    "yaxis!(\"Rapidez\")\n",
    "end"
   ]
  },
  {
   "cell_type": "markdown",
   "metadata": {},
   "source": [
    "Definimos una función que grafique la velocidad de escape de acuerdo a el radio del planeta R, y un rango de masas con incremento de masa introducidos por el usuario"
   ]
  },
  {
   "cell_type": "code",
   "execution_count": 27,
   "metadata": {},
   "outputs": [
    {
     "data": {
      "text/plain": [
       "escapem (generic function with 1 method)"
      ]
     },
     "execution_count": 27,
     "metadata": {},
     "output_type": "execute_result"
    }
   ],
   "source": [
    "function escapem(R,Δm,mi,mf)\n",
    "    m = collect(mi:Δm:mf)\n",
    "    v = zeros(m)\n",
    "    for i in eachindex(m)\n",
    "        v[i] = sqrt((2*G*m[i])/R)\n",
    "    end\n",
    "plot(m,v,w=2)\n",
    "title!(\"Rapidez de escape\")\n",
    "xaxis!(\"Masa (kg/s)\")\n",
    "yaxis!(\"Rapidez (m/s)\")\n",
    "end"
   ]
  },
  {
   "cell_type": "markdown",
   "metadata": {},
   "source": [
    "Grafica de rapidez contra radio con el radio normalizado al radio de la tierra"
   ]
  },
  {
   "cell_type": "code",
   "execution_count": 28,
   "metadata": {},
   "outputs": [
    {
     "data": {
      "text/html": [
       "<img src=\"data:image/png;base64,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\" />"
      ]
     },
     "execution_count": 28,
     "metadata": {},
     "output_type": "execute_result"
    }
   ],
   "source": [
    "escapem(6000,1.0e-22,1.0e-24,5.972e-24)"
   ]
  },
  {
   "cell_type": "markdown",
   "metadata": {},
   "source": [
    "Grafica de rapidez contra masa con la masa normalizada a la masa de la tierra"
   ]
  },
  {
   "cell_type": "code",
   "execution_count": 1,
   "metadata": {},
   "outputs": [
    {
     "ename": "LoadError",
     "evalue": "\u001b[91mUndefVarError: escaper not defined\u001b[39m",
     "output_type": "error",
     "traceback": [
      "\u001b[91mUndefVarError: escaper not defined\u001b[39m",
      "",
      "Stacktrace:",
      " [1] \u001b[1minclude_string\u001b[22m\u001b[22m\u001b[1m(\u001b[22m\u001b[22m::String, ::String\u001b[1m)\u001b[22m\u001b[22m at \u001b[1m./loading.jl:515\u001b[22m\u001b[22m"
     ]
    }
   ],
   "source": [
    "escaper(60.0,10.0,0.0,10.0)"
   ]
  }
 ],
 "metadata": {
  "kernelspec": {
   "display_name": "Julia 0.6.0",
   "language": "julia",
   "name": "julia-0.6"
  },
  "language_info": {
   "file_extension": ".jl",
   "mimetype": "application/julia",
   "name": "julia",
   "version": "0.6.0"
  }
 },
 "nbformat": 4,
 "nbformat_minor": 2
}
