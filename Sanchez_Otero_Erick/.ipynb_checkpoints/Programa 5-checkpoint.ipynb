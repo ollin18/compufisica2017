{
 "cells": [
  {
   "cell_type": "code",
   "execution_count": 48,
   "metadata": {},
   "outputs": [
    {
     "data": {
      "text/plain": [
       "PoliCuad (generic function with 1 method)"
      ]
     },
     "execution_count": 48,
     "metadata": {},
     "output_type": "execute_result"
    }
   ],
   "source": [
    "#5\n",
    "function PoliCuad(a,b,c)\n",
    "    if b^2 - 4a*c >= 0 #En caso de que el discriminante sea mayor o igual a 0 se usa la formula general normal.\n",
    "        x = zeros(2,1) #Ponemos un arreglo donde poner los datos.\n",
    "        #Como es raíz tiene 2 resultados, + o -\n",
    "        x[1,1] += (-b+sqrt((b^2) - 4a*c))/2a\n",
    "        x[2,1] += (-b-sqrt((b^2) - 4a*c))/2a\n",
    "    elseif b^2 - 4a*c < 0 #Si el discriminante es menor a 0 hacemos unos ajustes para obtener el resultado en complejos.\n",
    "        x = zeros(Complex{Float64},2,1) #En este caso definimos un arreglo en complejos para no tener problemas.\n",
    "        #al ser el discriminante \n",
    "        x[1,1] += (-b+(sqrt(complex(b^2 - 4a*c))))/2a #Caso para x1\n",
    "        x[2,1] += (-b-(sqrt(complex(b^2 - 4a*c))))/2a #Caso para x2\n",
    "    end\n",
    "    x\n",
    "end"
   ]
  },
  {
   "cell_type": "code",
   "execution_count": 49,
   "metadata": {},
   "outputs": [
    {
     "data": {
      "text/plain": [
       "2×1 Array{Float64,2}:\n",
       " -1.33333\n",
       " -1.33333"
      ]
     },
     "execution_count": 49,
     "metadata": {},
     "output_type": "execute_result"
    }
   ],
   "source": [
    "PoliCuad(9,24,16)"
   ]
  },
  {
   "cell_type": "code",
   "execution_count": 50,
   "metadata": {},
   "outputs": [
    {
     "data": {
      "text/plain": [
       "2×1 Array{Float64,2}:\n",
       "  0.0\n",
       " -2.0"
      ]
     },
     "execution_count": 50,
     "metadata": {},
     "output_type": "execute_result"
    }
   ],
   "source": [
    "PoliCuad(1,2,0)"
   ]
  },
  {
   "cell_type": "code",
   "execution_count": 51,
   "metadata": {},
   "outputs": [
    {
     "data": {
      "text/plain": [
       "2×1 Array{Complex{Float64},2}:\n",
       " -0.02+0.282135im\n",
       " -0.02-0.282135im"
      ]
     },
     "execution_count": 51,
     "metadata": {},
     "output_type": "execute_result"
    }
   ],
   "source": [
    "PoliCuad(50,2,4)"
   ]
  },
  {
   "cell_type": "code",
   "execution_count": null,
   "metadata": {},
   "outputs": [],
   "source": []
  }
 ],
 "metadata": {
  "kernelspec": {
   "display_name": "Julia 0.6.0",
   "language": "julia",
   "name": "julia-0.6"
  },
  "language_info": {
   "file_extension": ".jl",
   "mimetype": "application/julia",
   "name": "julia",
   "version": "0.6.0"
  }
 },
 "nbformat": 4,
 "nbformat_minor": 2
}
