{
 "cells": [
  {
   "cell_type": "markdown",
   "metadata": {},
   "source": [
    "a) Sumar dos matrices en ${\\rm I\\!R}^{2x2}$ insertadas por el usuario."
   ]
  },
  {
   "cell_type": "code",
   "execution_count": 1,
   "metadata": {},
   "outputs": [
    {
     "data": {
      "text/plain": [
       "suma (generic function with 1 method)"
      ]
     },
     "execution_count": 1,
     "metadata": {},
     "output_type": "execute_result"
    }
   ],
   "source": [
    "function suma(A,B)\n",
    "    s=[A[1,1]+B[1,1] A[1,2]+B[1,2]; A[2,1]+B[2,1] A[2,2]+B[2,2]] # Suma entre las componentes correspondientes\n",
    "    print(\"El valor de la suma es: $s\")\n",
    "end"
   ]
  },
  {
   "cell_type": "code",
   "execution_count": 2,
   "metadata": {},
   "outputs": [],
   "source": [
    "A=[1 1; 1 1]\n",
    "B=[2 2; 2 2];"
   ]
  },
  {
   "cell_type": "code",
   "execution_count": 3,
   "metadata": {},
   "outputs": [
    {
     "name": "stdout",
     "output_type": "stream",
     "text": [
      "El valor de la suma es: [3 3; 3 3]"
     ]
    }
   ],
   "source": [
    "suma(A,B)"
   ]
  },
  {
   "cell_type": "markdown",
   "metadata": {},
   "source": [
    "b) Suma de dos matrices en ${\\rm I\\!R}^{nxn}$ introducidas por el usuario"
   ]
  },
  {
   "cell_type": "code",
   "execution_count": 6,
   "metadata": {},
   "outputs": [],
   "source": [
    "A = [1 1 1;1 1 1]\n",
    "B=[2 2 2;2 2 2];"
   ]
  },
  {
   "cell_type": "code",
   "execution_count": 7,
   "metadata": {},
   "outputs": [],
   "source": [
    "writedlm(\"A.csv\", A, '|')"
   ]
  },
  {
   "cell_type": "code",
   "execution_count": 8,
   "metadata": {},
   "outputs": [],
   "source": [
    "writedlm(\"B.csv\", B, '|')"
   ]
  },
  {
   "cell_type": "code",
   "execution_count": 9,
   "metadata": {},
   "outputs": [],
   "source": [
    "u = readdlm(\"A.csv\", '|');"
   ]
  },
  {
   "cell_type": "code",
   "execution_count": 5,
   "metadata": {},
   "outputs": [],
   "source": [
    "v = readdlm(\"B.csv\", '|');"
   ]
  },
  {
   "cell_type": "code",
   "execution_count": 10,
   "metadata": {},
   "outputs": [
    {
     "data": {
      "text/plain": [
       "suman (generic function with 1 method)"
      ]
     },
     "execution_count": 10,
     "metadata": {},
     "output_type": "execute_result"
    }
   ],
   "source": [
    "function  suman(u,v)\n",
    "    m=size(u)[1]                  # obteniendo el tamaño de los renglones de u\n",
    "    n=size(u)[2]                  # obteniendo el tamaño de las columnas de u\n",
    "    if  size(u) ==  size(v)       # verificando que las matrices tengan el mismo tamaño\n",
    "        s=zeros(u)                 # declarando una matriz de ceros del tamaño de u para comenzar la suma\n",
    "        for i ∈ 1:m                # ciclo for que varia sobre los renglones de la matriz\n",
    "            for j ∈ 1:n            # ciclo for que varía sobre las columnas de la matriz\n",
    "           s[i,j]=u[i,j]+v[i,j]    # suma entre cada componente variando sobre cada columna por el ciclo inmediato y sobre cada renglon por el ciclo exterior for  \n",
    "            end\n",
    "        end\n",
    "        print(\"El valor de la suma es $s\")\n",
    "    else\n",
    "        print(\"Error, se intento sumar matrices de distintas dimensiones\")\n",
    "    end\n",
    "end\n"
   ]
  },
  {
   "cell_type": "markdown",
   "metadata": {},
   "source": [
    "Caso para las sumas del mismo tamaño"
   ]
  },
  {
   "cell_type": "code",
   "execution_count": 11,
   "metadata": {},
   "outputs": [
    {
     "name": "stdout",
     "output_type": "stream",
     "text": [
      "Error, se intento sumar matrices de distintas dimensiones"
     ]
    }
   ],
   "source": [
    "suman(u,v)"
   ]
  },
  {
   "cell_type": "markdown",
   "metadata": {},
   "source": [
    "El caso para matrices de distinto tamaño"
   ]
  },
  {
   "cell_type": "code",
   "execution_count": 13,
   "metadata": {},
   "outputs": [
    {
     "name": "stdout",
     "output_type": "stream",
     "text": [
      "Error, se intento sumar matrices de distintas dimensiones"
     ]
    }
   ],
   "source": [
    "A=[1 1;1 1]\n",
    "B=[1 1 1;1 1 1]\n",
    "writedlm(\"A.csv\", A, '|')\n",
    "writedlm(\"B.csv\", B, '|')\n",
    "u = readdlm(\"A.csv\", '|')\n",
    "v = readdlm(\"B.csv\", '|')\n",
    "suman(u,v)"
   ]
  }
 ],
 "metadata": {
  "kernelspec": {
   "display_name": "Julia 0.6.0",
   "language": "julia",
   "name": "julia-0.6"
  },
  "language_info": {
   "file_extension": ".jl",
   "mimetype": "application/julia",
   "name": "julia",
   "version": "0.6.0"
  }
 },
 "nbformat": 4,
 "nbformat_minor": 2
}
