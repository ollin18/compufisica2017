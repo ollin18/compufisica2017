{
 "cells": [
  {
   "cell_type": "markdown",
   "metadata": {},
   "source": [
    "Calcular las raíces de un polinomio cuadrático segun los coeficientes entregados por el usuario, considerando los tres casos para raíces reales, raiz doble y raíces complejas"
   ]
  },
  {
   "cell_type": "code",
   "execution_count": 20,
   "metadata": {},
   "outputs": [
    {
     "data": {
      "text/plain": [
       "raíces (generic function with 1 method)"
      ]
     },
     "execution_count": 20,
     "metadata": {},
     "output_type": "execute_result"
    }
   ],
   "source": [
    "function raíces(a,b,c)\n",
    "    discriminant=b^2-4*a*c                 # definimos el discriminante\n",
    "    if discriminant > 0                           # condicional if para separar el caso de raíces reales y diferentes\n",
    "        x1=(-b+sqrt(discriminant))/(2*a)          # calculamos las raíces a partir del discriminante y la solución general para ecuaciones cuadráticas\n",
    "        x2=(-b-sqrt(discriminant))/(2*a)          \n",
    "        print(\"Las raíces son: x1=$x1 y x2=$x2\")\n",
    "    else\n",
    "        if discriminant == 0                                  # condicional para separar el caso de raíces dobles\n",
    "                    x1=(-b+sqrt(discriminant))/(2*a)          \n",
    "                    x2=(-b-sqrt(discriminant))/(2*a)\n",
    "                    print(\"Las raíces son: x1=$x1 y x2=$x2\")\n",
    "            else                                             # en caso de quedar con discriminante menor a cero y ambas raíces complejas\n",
    "        a1=-b/(2*a)                                          \n",
    "        b1=sqrt(-discriminant)/(2*a)\n",
    "        b2=-sqrt(-discriminant)/(2*a)\n",
    "        print(\"Las raíces son: x1 = $a1 + $b1 i y x2 = $a1 + $b2 i\")\n",
    "        end\n",
    "    end\n",
    "end"
   ]
  },
  {
   "cell_type": "markdown",
   "metadata": {},
   "source": [
    "Caso para raíces diferentes y reales:"
   ]
  },
  {
   "cell_type": "code",
   "execution_count": 21,
   "metadata": {},
   "outputs": [
    {
     "name": "stdout",
     "output_type": "stream",
     "text": [
      "Las raíces son: x1=-0.5 y x2=-1.0"
     ]
    }
   ],
   "source": [
    "raíces(2,3,1)"
   ]
  },
  {
   "cell_type": "markdown",
   "metadata": {},
   "source": [
    "Caso para raíces dobles:"
   ]
  },
  {
   "cell_type": "code",
   "execution_count": 22,
   "metadata": {},
   "outputs": [
    {
     "name": "stdout",
     "output_type": "stream",
     "text": [
      "Las raíces son: x1=-1.0 y x2=-1.0"
     ]
    }
   ],
   "source": [
    "raíces(4,8,4)"
   ]
  },
  {
   "cell_type": "markdown",
   "metadata": {},
   "source": [
    "Caso para raíces complejas"
   ]
  },
  {
   "cell_type": "code",
   "execution_count": 23,
   "metadata": {},
   "outputs": [
    {
     "name": "stdout",
     "output_type": "stream",
     "text": [
      "Las raíces son: x1 = 0.0 + 2.0 i y x2 = 0.0 + -2.0 i"
     ]
    }
   ],
   "source": [
    "raíces(1,0,4)"
   ]
  }
 ],
 "metadata": {
  "kernelspec": {
   "display_name": "Julia 0.6.0",
   "language": "julia",
   "name": "julia-0.6"
  },
  "language_info": {
   "file_extension": ".jl",
   "mimetype": "application/julia",
   "name": "julia",
   "version": "0.6.0"
  }
 },
 "nbformat": 4,
 "nbformat_minor": 2
}
