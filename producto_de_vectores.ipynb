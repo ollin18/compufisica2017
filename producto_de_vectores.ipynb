{
 "cells": [
  {
   "cell_type": "markdown",
   "metadata": {},
   "source": [
    "# PRACTICA : PRODUCTO DE VECTORES \n",
    "## COMPUTACIÓN\n"
   ]
  },
  {
   "cell_type": "markdown",
   "metadata": {},
   "source": [
    "SEAN LOS VECTORES "
   ]
  },
  {
   "cell_type": "markdown",
   "metadata": {},
   "source": [
    "$$\n",
    "\\hat{\\alpha} =(\\alpha_1,\\alpha_2,\\alpha_3,...,\\alpha_n)\n",
    "$$\n",
    "$$\n",
    "\\hat{\\beta} =(\\beta_1,\\beta_2,\\beta_3,...,\\beta_n)\n",
    "$$\n",
    "\n",
    " EL PRODUCTO INTERIOR ENTRE VECTORES ESTA DEFINIDO COMO:\n",
    " $$\n",
    " \\hat{\\alpha}\\hat{\\beta}=\\displaystyle{\\sum_{k=1}^{n} \\hat{\\alpha}_k\\hat{\\beta}_k}\n",
    " $$"
   ]
  },
  {
   "cell_type": "markdown",
   "metadata": {},
   "source": [
    "EJEMPLO:"
   ]
  },
  {
   "cell_type": "code",
   "execution_count": 14,
   "metadata": {},
   "outputs": [
    {
     "data": {
      "text/plain": [
       "0"
      ]
     },
     "execution_count": 14,
     "metadata": {},
     "output_type": "execute_result"
    }
   ],
   "source": [
    "#SEAN LOS VECTORES A Y B CON 6 ENTRADAS\n",
    "A =[2,3,4,5,6,7]\n",
    "B =[3,5,5,3,5,6]\n",
    "S = 0"
   ]
  },
  {
   "cell_type": "code",
   "execution_count": 15,
   "metadata": {},
   "outputs": [],
   "source": [
    "#CALCULANDO EL PRODUCTO INTERIOR , TENEMOS\n",
    "for k in eachindex(A) \n",
    "    S = S + A[k]*B[k]\n",
    "\n",
    "end"
   ]
  },
  {
   "cell_type": "code",
   "execution_count": 16,
   "metadata": {},
   "outputs": [
    {
     "name": "stdout",
     "output_type": "stream",
     "text": [
      "128\n"
     ]
    }
   ],
   "source": [
    "println(S)"
   ]
  },
  {
   "cell_type": "code",
   "execution_count": null,
   "metadata": {},
   "outputs": [],
   "source": []
  },
  {
   "cell_type": "code",
   "execution_count": null,
   "metadata": {},
   "outputs": [],
   "source": []
  }
 ],
 "metadata": {
  "kernelspec": {
   "display_name": "Julia 0.6.0",
   "language": "julia",
   "name": "julia-0.6"
  },
  "language_info": {
   "file_extension": ".jl",
   "mimetype": "application/julia",
   "name": "julia",
   "version": "0.6.0"
  }
 },
 "nbformat": 4,
 "nbformat_minor": 2
}
