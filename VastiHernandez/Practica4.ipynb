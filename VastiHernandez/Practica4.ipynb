{
 "cells": [
  {
   "cell_type": "markdown",
   "metadata": {},
   "source": [
    "Siguiendo la siguiente serie  $\\displaystyle{\\sum_{n=0}^{∞}} \\dfrac{1}{n!} = e $  Escribe un programa que calcule diferentes aproximaciones de e para diferentes valores.  Apóyate en tu función factorial definida en la pregunta 2.\n"
   ]
  },
  {
   "cell_type": "code",
   "execution_count": 32,
   "metadata": {},
   "outputs": [
    {
     "name": "stderr",
     "output_type": "stream",
     "text": [
      "WARNING: Method definition fact(Any) in module Main at In[31]:2 overwritten at In[32]:2.\n"
     ]
    },
    {
     "data": {
      "text/plain": [
       "fact (generic function with 1 method)"
      ]
     },
     "execution_count": 32,
     "metadata": {},
     "output_type": "execute_result"
    }
   ],
   "source": [
    "function fact(N) #Usaremos nuestra funcion de factorial\n",
    "factm=0 \n",
    "    if N==0 || N==1 \n",
    "     factm=1\n",
    "    else \n",
    "    factm=(N*(fact(N-1))) \n",
    "     end \n",
    "end"
   ]
  },
  {
   "cell_type": "code",
   "execution_count": 52,
   "metadata": {},
   "outputs": [
    {
     "name": "stderr",
     "output_type": "stream",
     "text": [
      "WARNING: Method definition ne(Any) in module Main at In[46]:2 overwritten at In[52]:2.\n"
     ]
    },
    {
     "data": {
      "text/plain": [
       "ne (generic function with 1 method)"
      ]
     },
     "execution_count": 52,
     "metadata": {},
     "output_type": "execute_result"
    }
   ],
   "source": [
    "function ne(n)\n",
    "        nume=1 #Esta variable dara el resultado\n",
    "        co=1 #Este es el contador que aumentara hasta alcanzar \"n\"\n",
    "        z=n #Este lo usaremos como contador para que valla desde \"n\" hasta  0\n",
    "        while n>=co #Este ciclo terminara hasta que \"co\" sea mayor o igual que n\n",
    "            nume=Float64(nume+(1/fact(z))) #Aplicamos la operacion de los inversos factoriales\n",
    "            co+=1 #Se va aumentando el contador hasta que llegue a \"n\"\n",
    "            z-=1 #Aqui ira bajando hasta llegar a 0\n",
    "        end\n",
    "        print(Float64(nume)) #Imprimimos el resultado\n",
    "end"
   ]
  },
  {
   "cell_type": "code",
   "execution_count": 53,
   "metadata": {},
   "outputs": [
    {
     "name": "stdout",
     "output_type": "stream",
     "text": [
      "2.716666666666667"
     ]
    }
   ],
   "source": [
    "ne(5)"
   ]
  },
  {
   "cell_type": "code",
   "execution_count": 54,
   "metadata": {},
   "outputs": [
    {
     "name": "stdout",
     "output_type": "stream",
     "text": [
      "2.7182818284590455"
     ]
    }
   ],
   "source": [
    "ne(20)"
   ]
  },
  {
   "cell_type": "code",
   "execution_count": 55,
   "metadata": {},
   "outputs": [
    {
     "name": "stdout",
     "output_type": "stream",
     "text": [
      "2.7182818284590455"
     ]
    }
   ],
   "source": [
    "ne(65)"
   ]
  },
  {
   "cell_type": "code",
   "execution_count": 19,
   "metadata": {},
   "outputs": [
    {
     "data": {
      "text/plain": [
       "e = 2.7182818284590..."
      ]
     },
     "execution_count": 19,
     "metadata": {},
     "output_type": "execute_result"
    }
   ],
   "source": [
    "e"
   ]
  }
 ],
 "metadata": {
  "kernelspec": {
   "display_name": "Julia 0.5.2",
   "language": "julia",
   "name": "julia-0.5"
  },
  "language_info": {
   "file_extension": ".jl",
   "mimetype": "application/julia",
   "name": "julia",
   "version": "0.5.2"
  }
 },
 "nbformat": 4,
 "nbformat_minor": 2
}
