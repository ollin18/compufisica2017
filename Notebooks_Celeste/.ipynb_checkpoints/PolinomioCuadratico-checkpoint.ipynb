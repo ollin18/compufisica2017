{
 "cells": [
  {
   "cell_type": "markdown",
   "metadata": {},
   "source": [
    "<div class=\"alert alert-info\" role=\"alert\">\n",
    "<p class =\"lead\"> \n",
    "<h1>Raíces de un polinomio cuadrático </h1>\n",
    "<h2> Computación </h2>\n",
    "<h2>Física, Facultad de Ciencias. UNAM </h2>\n",
    "<h3>Celeste Castro Granados</h3>\n",
    "</div>"
   ]
  },
  {
   "cell_type": "markdown",
   "metadata": {},
   "source": [
    "Vamos a escribir un programa que nos permita calcular las raíces de un polinomio cuadrático de la forma: \n",
    "\n",
    "$Ax^2+Bx+C=0$\n",
    "\n",
    "El programa considerará los siguientes 3 casos: \n",
    "- Raíces reales \n",
    "- Raíz doble \n",
    "- Raíces complejas"
   ]
  },
  {
   "cell_type": "markdown",
   "metadata": {},
   "source": [
    "Este problema se resuelve aplicando la llamada fórmula general o \"chicharronera\", i,e.\n",
    "\n",
    "$$x=\\frac{-b\\pm\\sqrt{b^2-4ac}}{2a}$$"
   ]
  },
  {
   "cell_type": "markdown",
   "metadata": {},
   "source": [
    "Por lo tanto, lo primero que necesitamos hacer es definir nuestras tres variables: **a**, **b** y **c** respectivamente.\n",
    "\n",
    "Sabemos que la fórmula puede arrojar resultados de distintos tipos, como lo son reales e imaginarios, por lo que es importante que nuestras variables las definamos como complejas para así considerar todos los resultados posibles.\n",
    "\n",
    "Por último, otra cosa importante, es que al ser una raíz podemos observar que van a a existir 2 soluciones para x, por lo tanto hay que tenerlas presentes."
   ]
  },
  {
   "cell_type": "markdown",
   "metadata": {},
   "source": [
    "Definimos nuestra función considerando los 3 puntos anteriores:"
   ]
  },
  {
   "cell_type": "code",
   "execution_count": 1,
   "metadata": {},
   "outputs": [
    {
     "data": {
      "text/plain": [
       "Chicharronera (generic function with 1 method)"
      ]
     },
     "execution_count": 1,
     "metadata": {},
     "output_type": "execute_result"
    }
   ],
   "source": [
    "function Chicharronera(a,b,c)\n",
    "    a=Complex(a) #Como se mencionó es importante definir nuestras variables como complejas\n",
    "    b=Complex(b) \n",
    "    c=Complex(c)\n",
    "    x1=(-b+sqrt(b^2-(4*a*c)))/(2*a) #Aquí simplemente se sigue la fórmula escrita arriba\n",
    "    x2=(-b-sqrt(b^2-(4*a*c)))/(2*a) #Existen x1 y x2 porque se están considerando las dos soluciones para x que nos va a arroja la fórmula\n",
    "        println(\"Solución 1:\")\n",
    "        println(x1)\n",
    "        println(\"Solución 2:\")\n",
    "        println(x2)\n",
    "end"
   ]
  },
  {
   "cell_type": "markdown",
   "metadata": {},
   "source": [
    "Una vez definida la función, vamos a probarla para distintos casos, y observaremos como arroja distintas soluciones:"
   ]
  },
  {
   "cell_type": "code",
   "execution_count": 2,
   "metadata": {},
   "outputs": [
    {
     "name": "stdout",
     "output_type": "stream",
     "text": [
      "Solución 1:\n",
      "-0.30000000000000004 + 0.33166247903554im\n",
      "Solución 2:\n",
      "-0.30000000000000004 - 0.33166247903554im\n"
     ]
    }
   ],
   "source": [
    "Chicharronera(5,3,1)"
   ]
  },
  {
   "cell_type": "markdown",
   "metadata": {},
   "source": [
    "En este caso podemos observar que ambas soluciones resultaron complejas."
   ]
  },
  {
   "cell_type": "code",
   "execution_count": 3,
   "metadata": {},
   "outputs": [
    {
     "name": "stdout",
     "output_type": "stream",
     "text": [
      "Solución 1:\n",
      "1.4142135623730951 + 0.0im\n",
      "Solución 2:\n",
      "-1.4142135623730951 + 0.0im\n"
     ]
    }
   ],
   "source": [
    "Chicharronera(2,0,-4)"
   ]
  },
  {
   "cell_type": "markdown",
   "metadata": {},
   "source": [
    "Aquí observamos como obtenemos el mismo valor para ambas soluciones pero diferenciadas por el signo."
   ]
  },
  {
   "cell_type": "code",
   "execution_count": 4,
   "metadata": {},
   "outputs": [
    {
     "name": "stdout",
     "output_type": "stream",
     "text": [
      "Solución 1:\n",
      "-0.3333333333333333 + 0.0im\n",
      "Solución 2:\n",
      "-1.5 + 0.0im\n"
     ]
    }
   ],
   "source": [
    "Chicharronera(6,11,3)"
   ]
  },
  {
   "cell_type": "markdown",
   "metadata": {},
   "source": [
    "Y finalmente, para este último ejemplo, observamos que ambas soluciones son reales."
   ]
  }
 ],
 "metadata": {
  "kernelspec": {
   "display_name": "Julia 0.6.0",
   "language": "julia",
   "name": "julia-0.6"
  },
  "language_info": {
   "file_extension": ".jl",
   "mimetype": "application/julia",
   "name": "julia",
   "version": "0.6.0"
  }
 },
 "nbformat": 4,
 "nbformat_minor": 2
}
