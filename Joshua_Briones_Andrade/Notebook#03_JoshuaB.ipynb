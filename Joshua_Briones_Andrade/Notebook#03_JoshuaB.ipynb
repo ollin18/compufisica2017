{
 "cells": [
  {
   "cell_type": "markdown",
   "metadata": {},
   "source": [
    "<div class=\"alert alert-success\" role=\"alert\">\n",
    "<h1>Programación en Julia: Notebook 3 </h1>\n",
    "<h2>Facultad de Ciencias, UNAM </h2>\n",
    "<h3>Joshua Briones Andrade || Compufísica </h3>\n",
    "</div>"
   ]
  },
  {
   "cell_type": "markdown",
   "metadata": {},
   "source": [
    "Siguiendo la serie... $$\\sum^{\\infty}_{n=0}\\frac{(-1)^n}{2n+1}=\\frac{\\pi}{4} $$ ...escribe un programa que calcule diferentes aproximaciones de π\n",
    "para diferentes \n",
    "valores\n"
   ]
  },
  {
   "cell_type": "markdown",
   "metadata": {},
   "source": [
    "Primero definimos una función Pi/4 a la que llamaremos \"PiQ\" y según la definición establecemos el contador k y la suma s para llevar la cuenta, todo esto de un ciclo for para que se repita \"n\" veces y finalmente arroje la aproximación de Pi al usar \"n\" terminos."
   ]
  },
  {
   "cell_type": "code",
   "execution_count": 1,
   "metadata": {},
   "outputs": [
    {
     "data": {
      "text/plain": [
       "PiQ (generic function with 1 method)"
      ]
     },
     "execution_count": 1,
     "metadata": {},
     "output_type": "execute_result"
    }
   ],
   "source": [
    "function PiQ(n)\n",
    "    s=0\n",
    "    k=0\n",
    "    for i ∈ 0:n\n",
    "        s=(((-1)^k)/((2*k)+1))+s\n",
    "        k=k+1\n",
    "    end\n",
    "    s\n",
    "end"
   ]
  },
  {
   "cell_type": "markdown",
   "metadata": {},
   "source": [
    "Ya definimos la función PiQ, ahora la función Pi será PiQ 4 veces."
   ]
  },
  {
   "cell_type": "code",
   "execution_count": 2,
   "metadata": {},
   "outputs": [
    {
     "data": {
      "text/plain": [
       "Pi (generic function with 1 method)"
      ]
     },
     "execution_count": 2,
     "metadata": {},
     "output_type": "execute_result"
    }
   ],
   "source": [
    "function Pi(n)\n",
    "    4*PiQ(n)\n",
    "end"
   ]
  },
  {
   "cell_type": "code",
   "execution_count": 35,
   "metadata": {},
   "outputs": [
    {
     "data": {
      "text/plain": [
       "3.1415925535897915"
      ]
     },
     "execution_count": 35,
     "metadata": {},
     "output_type": "execute_result"
    }
   ],
   "source": [
    "Pi(big(9999999))"
   ]
  },
  {
   "cell_type": "markdown",
   "metadata": {},
   "source": [
    "Ahora para probar nuestra función Pi(n) la vamos a ver reflejada en una gráfica y ver su comportamiento."
   ]
  },
  {
   "cell_type": "code",
   "execution_count": 27,
   "metadata": {},
   "outputs": [
    {
     "data": {
      "text/plain": [
       "301-element Array{Float64,1}:\n",
       " 4.0    \n",
       " 2.66667\n",
       " 3.46667\n",
       " 2.89524\n",
       " 3.33968\n",
       " 2.97605\n",
       " 3.28374\n",
       " 3.01707\n",
       " 3.25237\n",
       " 3.04184\n",
       " 3.23232\n",
       " 3.0584 \n",
       " 3.2184 \n",
       " ⋮      \n",
       " 3.13814\n",
       " 3.14503\n",
       " 3.13817\n",
       " 3.14501\n",
       " 3.13819\n",
       " 3.14498\n",
       " 3.13821\n",
       " 3.14496\n",
       " 3.13824\n",
       " 3.14494\n",
       " 3.13826\n",
       " 3.14491"
      ]
     },
     "execution_count": 27,
     "metadata": {},
     "output_type": "execute_result"
    }
   ],
   "source": [
    "X=collect(0:1:300.0); \n",
    "Y=zeros(X);\n",
    "for i in eachindex(X)\n",
    "    Y[i]=Pi(X[i])\n",
    "end\n",
    "Y"
   ]
  },
  {
   "cell_type": "code",
   "execution_count": 18,
   "metadata": {},
   "outputs": [
    {
     "data": {
      "text/plain": [
       "Plots.GRBackend()"
      ]
     },
     "execution_count": 18,
     "metadata": {},
     "output_type": "execute_result"
    }
   ],
   "source": [
    "using Plots\n",
    "gr()"
   ]
  },
  {
   "cell_type": "code",
   "execution_count": 33,
   "metadata": {},
   "outputs": [
    {
     "data": {
      "text/html": [
       "<?xml version=\"1.0\" encoding=\"utf-8\"?>\n",
       "<svg xmlns=\"http://www.w3.org/2000/svg\" xmlns:xlink=\"http://www.w3.org/1999/xlink\" width=\"600\" height=\"400\" viewBox=\"0 0 600 400\">\n",
       "<defs>\n",
       "  <clipPath id=\"clip3400\">\n",
       "    <rect x=\"0\" y=\"0\" width=\"600\" height=\"400\"/>\n",
       "  </clipPath>\n",
       "</defs>\n",
       "<polygon clip-path=\"url(#clip3400)\" points=\"\n",
       "0,400 600,400 600,0 0,0 \n",
       "  \" fill=\"#ffffff\" fill-opacity=\"1\"/>\n",
       "<defs>\n",
       "  <clipPath id=\"clip3401\">\n",
       "    <rect x=\"120\" y=\"0\" width=\"421\" height=\"400\"/>\n",
       "  </clipPath>\n",
       "</defs>\n",
       "<polygon clip-path=\"url(#clip3400)\" points=\"\n",
       "47.9701,360.065 580.315,360.065 580.315,11.811 47.9701,11.811 \n",
       "  \" fill=\"#ffffff\" fill-opacity=\"1\"/>\n",
       "<defs>\n",
       "  <clipPath id=\"clip3402\">\n",
       "    <rect x=\"47\" y=\"11\" width=\"533\" height=\"349\"/>\n",
       "  </clipPath>\n",
       "</defs>\n",
       "<polyline clip-path=\"url(#clip3402)\" style=\"stroke:#000000; stroke-width:0.5; stroke-opacity:0.1; fill:none\" points=\"\n",
       "  47.9701,360.065 47.9701,11.811 \n",
       "  \"/>\n",
       "<polyline clip-path=\"url(#clip3402)\" style=\"stroke:#000000; stroke-width:0.5; stroke-opacity:0.1; fill:none\" points=\"\n",
       "  225.418,360.065 225.418,11.811 \n",
       "  \"/>\n",
       "<polyline clip-path=\"url(#clip3402)\" style=\"stroke:#000000; stroke-width:0.5; stroke-opacity:0.1; fill:none\" points=\"\n",
       "  402.867,360.065 402.867,11.811 \n",
       "  \"/>\n",
       "<polyline clip-path=\"url(#clip3402)\" style=\"stroke:#000000; stroke-width:0.5; stroke-opacity:0.1; fill:none\" points=\"\n",
       "  580.315,360.065 580.315,11.811 \n",
       "  \"/>\n",
       "<polyline clip-path=\"url(#clip3402)\" style=\"stroke:#000000; stroke-width:0.5; stroke-opacity:0.1; fill:none\" points=\"\n",
       "  47.9701,325.24 580.315,325.24 \n",
       "  \"/>\n",
       "<polyline clip-path=\"url(#clip3402)\" style=\"stroke:#000000; stroke-width:0.5; stroke-opacity:0.1; fill:none\" points=\"\n",
       "  47.9701,273.002 580.315,273.002 \n",
       "  \"/>\n",
       "<polyline clip-path=\"url(#clip3402)\" style=\"stroke:#000000; stroke-width:0.5; stroke-opacity:0.1; fill:none\" points=\"\n",
       "  47.9701,220.764 580.315,220.764 \n",
       "  \"/>\n",
       "<polyline clip-path=\"url(#clip3402)\" style=\"stroke:#000000; stroke-width:0.5; stroke-opacity:0.1; fill:none\" points=\"\n",
       "  47.9701,168.526 580.315,168.526 \n",
       "  \"/>\n",
       "<polyline clip-path=\"url(#clip3402)\" style=\"stroke:#000000; stroke-width:0.5; stroke-opacity:0.1; fill:none\" points=\"\n",
       "  47.9701,116.287 580.315,116.287 \n",
       "  \"/>\n",
       "<polyline clip-path=\"url(#clip3402)\" style=\"stroke:#000000; stroke-width:0.5; stroke-opacity:0.1; fill:none\" points=\"\n",
       "  47.9701,64.0492 580.315,64.0492 \n",
       "  \"/>\n",
       "<polyline clip-path=\"url(#clip3402)\" style=\"stroke:#000000; stroke-width:0.5; stroke-opacity:0.1; fill:none\" points=\"\n",
       "  47.9701,11.811 580.315,11.811 \n",
       "  \"/>\n",
       "<polyline clip-path=\"url(#clip3400)\" style=\"stroke:#000000; stroke-width:1; stroke-opacity:1; fill:none\" points=\"\n",
       "  47.9701,360.065 580.315,360.065 \n",
       "  \"/>\n",
       "<polyline clip-path=\"url(#clip3400)\" style=\"stroke:#000000; stroke-width:1; stroke-opacity:1; fill:none\" points=\"\n",
       "  47.9701,360.065 47.9701,11.811 \n",
       "  \"/>\n",
       "<polyline clip-path=\"url(#clip3400)\" style=\"stroke:#000000; stroke-width:1; stroke-opacity:1; fill:none\" points=\"\n",
       "  47.9701,360.065 47.9701,354.842 \n",
       "  \"/>\n",
       "<polyline clip-path=\"url(#clip3400)\" style=\"stroke:#000000; stroke-width:1; stroke-opacity:1; fill:none\" points=\"\n",
       "  225.418,360.065 225.418,354.842 \n",
       "  \"/>\n",
       "<polyline clip-path=\"url(#clip3400)\" style=\"stroke:#000000; stroke-width:1; stroke-opacity:1; fill:none\" points=\"\n",
       "  402.867,360.065 402.867,354.842 \n",
       "  \"/>\n",
       "<polyline clip-path=\"url(#clip3400)\" style=\"stroke:#000000; stroke-width:1; stroke-opacity:1; fill:none\" points=\"\n",
       "  580.315,360.065 580.315,354.842 \n",
       "  \"/>\n",
       "<polyline clip-path=\"url(#clip3400)\" style=\"stroke:#000000; stroke-width:1; stroke-opacity:1; fill:none\" points=\"\n",
       "  47.9701,325.24 55.9553,325.24 \n",
       "  \"/>\n",
       "<polyline clip-path=\"url(#clip3400)\" style=\"stroke:#000000; stroke-width:1; stroke-opacity:1; fill:none\" points=\"\n",
       "  47.9701,273.002 55.9553,273.002 \n",
       "  \"/>\n",
       "<polyline clip-path=\"url(#clip3400)\" style=\"stroke:#000000; stroke-width:1; stroke-opacity:1; fill:none\" points=\"\n",
       "  47.9701,220.764 55.9553,220.764 \n",
       "  \"/>\n",
       "<polyline clip-path=\"url(#clip3400)\" style=\"stroke:#000000; stroke-width:1; stroke-opacity:1; fill:none\" points=\"\n",
       "  47.9701,168.526 55.9553,168.526 \n",
       "  \"/>\n",
       "<polyline clip-path=\"url(#clip3400)\" style=\"stroke:#000000; stroke-width:1; stroke-opacity:1; fill:none\" points=\"\n",
       "  47.9701,116.287 55.9553,116.287 \n",
       "  \"/>\n",
       "<polyline clip-path=\"url(#clip3400)\" style=\"stroke:#000000; stroke-width:1; stroke-opacity:1; fill:none\" points=\"\n",
       "  47.9701,64.0492 55.9553,64.0492 \n",
       "  \"/>\n",
       "<polyline clip-path=\"url(#clip3400)\" style=\"stroke:#000000; stroke-width:1; stroke-opacity:1; fill:none\" points=\"\n",
       "  47.9701,11.811 55.9553,11.811 \n",
       "  \"/>\n",
       "<g clip-path=\"url(#clip3400)\">\n",
       "<text style=\"fill:#000000; fill-opacity:1; font-family:Arial,Helvetica Neue,Helvetica,sans-serif; font-size:12; text-anchor:middle;\" transform=\"rotate(0, 47.9701, 373.865)\" x=\"47.9701\" y=\"373.865\">0</text>\n",
       "</g>\n",
       "<g clip-path=\"url(#clip3400)\">\n",
       "<text style=\"fill:#000000; fill-opacity:1; font-family:Arial,Helvetica Neue,Helvetica,sans-serif; font-size:12; text-anchor:middle;\" transform=\"rotate(0, 225.418, 373.865)\" x=\"225.418\" y=\"373.865\">100</text>\n",
       "</g>\n",
       "<g clip-path=\"url(#clip3400)\">\n",
       "<text style=\"fill:#000000; fill-opacity:1; font-family:Arial,Helvetica Neue,Helvetica,sans-serif; font-size:12; text-anchor:middle;\" transform=\"rotate(0, 402.867, 373.865)\" x=\"402.867\" y=\"373.865\">200</text>\n",
       "</g>\n",
       "<g clip-path=\"url(#clip3400)\">\n",
       "<text style=\"fill:#000000; fill-opacity:1; font-family:Arial,Helvetica Neue,Helvetica,sans-serif; font-size:12; text-anchor:middle;\" transform=\"rotate(0, 580.315, 373.865)\" x=\"580.315\" y=\"373.865\">300</text>\n",
       "</g>\n",
       "<g clip-path=\"url(#clip3400)\">\n",
       "<text style=\"fill:#000000; fill-opacity:1; font-family:Arial,Helvetica Neue,Helvetica,sans-serif; font-size:12; text-anchor:end;\" transform=\"rotate(0, 41.9701, 329.74)\" x=\"41.9701\" y=\"329.74\">2.8</text>\n",
       "</g>\n",
       "<g clip-path=\"url(#clip3400)\">\n",
       "<text style=\"fill:#000000; fill-opacity:1; font-family:Arial,Helvetica Neue,Helvetica,sans-serif; font-size:12; text-anchor:end;\" transform=\"rotate(0, 41.9701, 277.502)\" x=\"41.9701\" y=\"277.502\">3.0</text>\n",
       "</g>\n",
       "<g clip-path=\"url(#clip3400)\">\n",
       "<text style=\"fill:#000000; fill-opacity:1; font-family:Arial,Helvetica Neue,Helvetica,sans-serif; font-size:12; text-anchor:end;\" transform=\"rotate(0, 41.9701, 225.264)\" x=\"41.9701\" y=\"225.264\">3.2</text>\n",
       "</g>\n",
       "<g clip-path=\"url(#clip3400)\">\n",
       "<text style=\"fill:#000000; fill-opacity:1; font-family:Arial,Helvetica Neue,Helvetica,sans-serif; font-size:12; text-anchor:end;\" transform=\"rotate(0, 41.9701, 173.026)\" x=\"41.9701\" y=\"173.026\">3.4</text>\n",
       "</g>\n",
       "<g clip-path=\"url(#clip3400)\">\n",
       "<text style=\"fill:#000000; fill-opacity:1; font-family:Arial,Helvetica Neue,Helvetica,sans-serif; font-size:12; text-anchor:end;\" transform=\"rotate(0, 41.9701, 120.787)\" x=\"41.9701\" y=\"120.787\">3.6</text>\n",
       "</g>\n",
       "<g clip-path=\"url(#clip3400)\">\n",
       "<text style=\"fill:#000000; fill-opacity:1; font-family:Arial,Helvetica Neue,Helvetica,sans-serif; font-size:12; text-anchor:end;\" transform=\"rotate(0, 41.9701, 68.5492)\" x=\"41.9701\" y=\"68.5492\">3.8</text>\n",
       "</g>\n",
       "<g clip-path=\"url(#clip3400)\">\n",
       "<text style=\"fill:#000000; fill-opacity:1; font-family:Arial,Helvetica Neue,Helvetica,sans-serif; font-size:12; text-anchor:end;\" transform=\"rotate(0, 41.9701, 16.311)\" x=\"41.9701\" y=\"16.311\">4.0</text>\n",
       "</g>\n",
       "<g clip-path=\"url(#clip3400)\">\n",
       "<text style=\"fill:#000000; fill-opacity:1; font-family:Arial,Helvetica Neue,Helvetica,sans-serif; font-size:16; text-anchor:middle;\" transform=\"rotate(0, 314.143, 397.6)\" x=\"314.143\" y=\"397.6\">Numero de terminos sumados</text>\n",
       "</g>\n",
       "<g clip-path=\"url(#clip3400)\">\n",
       "<text style=\"fill:#000000; fill-opacity:1; font-family:Arial,Helvetica Neue,Helvetica,sans-serif; font-size:16; text-anchor:middle;\" transform=\"rotate(-90, 14.4, 185.938)\" x=\"14.4\" y=\"185.938\">Suma de terminos</text>\n",
       "</g>\n",
       "<polyline clip-path=\"url(#clip3402)\" style=\"stroke:#009af9; stroke-width:1; stroke-opacity:1; fill:none\" points=\"\n",
       "  47.9701,11.811 49.7446,360.065 51.5191,151.113 53.2936,300.365 55.0681,184.28 56.8426,279.258 58.617,198.892 60.3915,268.543 62.166,207.086 63.9405,262.074 \n",
       "  65.715,212.323 67.4894,257.748 69.2639,215.957 71.0384,254.652 72.8129,218.626 74.5874,252.328 76.3619,220.668 78.1363,250.519 79.9108,222.282 81.6853,249.071 \n",
       "  83.4598,223.588 85.2343,247.885 87.0088,224.668 88.7832,246.897 90.5577,225.576 92.3322,246.061 94.1067,226.349 95.8812,245.344 97.6557,227.015 99.4301,244.723 \n",
       "  101.205,227.596 102.979,244.179 104.754,228.106 106.528,243.7 108.303,228.558 110.077,243.273 111.852,228.961 113.626,242.891 115.4,229.323 117.175,242.548 \n",
       "  118.949,229.65 120.724,242.237 122.498,229.946 124.273,241.955 126.047,230.216 127.822,241.697 129.596,230.462 131.371,241.46 133.145,230.689 134.92,241.242 \n",
       "  136.694,230.898 138.469,241.042 140.243,231.091 142.018,240.856 143.792,231.271 145.567,240.683 147.341,231.437 149.116,240.522 150.89,231.592 152.665,240.372 \n",
       "  154.439,231.738 156.214,240.232 157.988,231.873 159.763,240.1 161.537,232.001 163.312,239.976 165.086,232.121 166.86,239.86 168.635,232.234 170.409,239.75 \n",
       "  172.184,232.341 173.958,239.647 175.733,232.441 177.507,239.549 179.282,232.537 181.056,239.456 182.831,232.627 184.605,239.368 186.38,232.713 188.154,239.284 \n",
       "  189.929,232.795 191.703,239.204 193.478,232.872 195.252,239.128 197.027,232.946 198.801,239.056 200.576,233.017 202.35,238.987 204.125,233.084 205.899,238.921 \n",
       "  207.674,233.149 209.448,238.858 211.223,233.211 212.997,238.798 214.772,233.27 216.546,238.74 218.32,233.327 220.095,238.684 221.869,233.381 223.644,238.631 \n",
       "  225.418,233.433 227.193,238.58 228.967,233.483 230.742,238.531 232.516,233.532 234.291,238.483 236.065,233.578 237.84,238.438 239.614,233.623 241.389,238.394 \n",
       "  243.163,233.666 244.938,238.351 246.712,233.708 248.487,238.31 250.261,233.748 252.036,238.271 253.81,233.787 255.585,238.233 257.359,233.824 259.134,238.196 \n",
       "  260.908,233.861 262.683,238.16 264.457,233.896 266.232,238.125 268.006,233.93 269.78,238.092 271.555,233.963 273.329,238.06 275.104,233.994 276.878,238.028 \n",
       "  278.653,234.025 280.427,237.998 282.202,234.055 283.976,237.968 285.751,234.084 287.525,237.94 289.3,234.113 291.074,237.912 292.849,234.14 294.623,237.885 \n",
       "  296.398,234.167 298.172,237.858 299.947,234.193 301.721,237.833 303.496,234.218 305.27,237.808 307.045,234.242 308.819,237.784 310.594,234.266 312.368,237.76 \n",
       "  314.143,234.289 315.917,237.737 317.692,234.312 319.466,237.715 321.24,234.334 323.015,237.693 324.789,234.356 326.564,237.672 328.338,234.376 330.113,237.652 \n",
       "  331.887,234.397 333.662,237.631 335.436,234.417 337.211,237.612 338.985,234.436 340.76,237.593 342.534,234.455 344.309,237.574 346.083,234.474 347.858,237.556 \n",
       "  349.632,234.492 351.407,237.538 353.181,234.509 354.956,237.52 356.73,234.527 358.505,237.503 360.279,234.543 362.054,237.486 363.828,234.56 365.603,237.47 \n",
       "  367.377,234.576 369.152,237.454 370.926,234.592 372.7,237.439 374.475,234.607 376.249,237.423 378.024,234.622 379.798,237.408 381.573,234.637 383.347,237.394 \n",
       "  385.122,234.652 386.896,237.379 388.671,234.666 390.445,237.365 392.22,234.68 393.994,237.352 395.769,234.693 397.543,237.338 399.318,234.707 401.092,237.325 \n",
       "  402.867,234.72 404.641,237.312 406.416,234.732 408.19,237.299 409.965,234.745 411.739,237.287 413.514,234.757 415.288,237.275 417.063,234.769 418.837,237.263 \n",
       "  420.612,234.781 422.386,237.251 424.16,234.793 425.935,237.24 427.709,234.804 429.484,237.228 431.258,234.815 433.033,237.217 434.807,234.826 436.582,237.206 \n",
       "  438.356,234.837 440.131,237.196 441.905,234.848 443.68,237.185 445.454,234.858 447.229,237.175 449.003,234.869 450.778,237.165 452.552,234.879 454.327,237.155 \n",
       "  456.101,234.888 457.876,237.145 459.65,234.898 461.425,237.135 463.199,234.908 464.974,237.126 466.748,234.917 468.523,237.117 470.297,234.926 472.072,237.107 \n",
       "  473.846,234.935 475.62,237.098 477.395,234.944 479.169,237.09 480.944,234.953 482.718,237.081 484.493,234.962 486.267,237.072 488.042,234.97 489.816,237.064 \n",
       "  491.591,234.979 493.365,237.056 495.14,234.987 496.914,237.047 498.689,234.995 500.463,237.039 502.238,235.003 504.012,237.031 505.787,235.011 507.561,237.024 \n",
       "  509.336,235.018 511.11,237.016 512.885,235.026 514.659,237.008 516.434,235.033 518.208,237.001 519.983,235.041 521.757,236.994 523.532,235.048 525.306,236.986 \n",
       "  527.08,235.055 528.855,236.979 530.629,235.062 532.404,236.972 534.178,235.069 535.953,236.965 537.727,235.076 539.502,236.959 541.276,235.083 543.051,236.952 \n",
       "  544.825,235.09 546.6,236.945 548.374,235.096 550.149,236.939 551.923,235.103 553.698,236.932 555.472,235.109 557.247,236.926 559.021,235.115 560.796,236.92 \n",
       "  562.57,235.122 564.345,236.914 566.119,235.128 567.894,236.908 569.668,235.134 571.443,236.902 573.217,235.14 574.992,236.896 576.766,235.146 578.54,236.89 \n",
       "  580.315,235.151 \n",
       "  \"/>\n",
       "<polygon clip-path=\"url(#clip3400)\" points=\"\n",
       "457.527,62.931 562.315,62.931 562.315,32.691 457.527,32.691 \n",
       "  \" fill=\"#ffffff\" fill-opacity=\"1\"/>\n",
       "<polyline clip-path=\"url(#clip3400)\" style=\"stroke:#000000; stroke-width:1; stroke-opacity:1; fill:none\" points=\"\n",
       "  457.527,62.931 562.315,62.931 562.315,32.691 457.527,32.691 457.527,62.931 \n",
       "  \"/>\n",
       "<polyline clip-path=\"url(#clip3400)\" style=\"stroke:#009af9; stroke-width:1; stroke-opacity:1; fill:none\" points=\"\n",
       "  463.527,47.811 499.527,47.811 \n",
       "  \"/>\n",
       "<g clip-path=\"url(#clip3400)\">\n",
       "<text style=\"fill:#000000; fill-opacity:1; font-family:Arial,Helvetica Neue,Helvetica,sans-serif; font-size:12; text-anchor:start;\" transform=\"rotate(0, 505.527, 52.311)\" x=\"505.527\" y=\"52.311\">Aprox Pi</text>\n",
       "</g>\n",
       "</svg>\n"
      ]
     },
     "execution_count": 33,
     "metadata": {},
     "output_type": "execute_result"
    }
   ],
   "source": [
    "plot(X,Y,w=1,label=[\"Aprox Pi\"])\n",
    "xaxis!(\"Numero de terminos sumados\")\n",
    "yaxis!(\"Suma de terminos\")"
   ]
  }
 ],
 "metadata": {
  "kernelspec": {
   "display_name": "Julia 0.6.0",
   "language": "julia",
   "name": "julia-0.6"
  },
  "language_info": {
   "file_extension": ".jl",
   "mimetype": "application/julia",
   "name": "julia",
   "version": "0.6.0"
  }
 },
 "nbformat": 4,
 "nbformat_minor": 2
}
