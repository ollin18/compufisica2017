{
 "cells": [
  {
   "cell_type": "markdown",
   "metadata": {},
   "source": [
    "# 11)Recta y parábola"
   ]
  },
  {
   "cell_type": "markdown",
   "metadata": {},
   "source": [
    "## a)Recta"
   ]
  },
  {
   "cell_type": "markdown",
   "metadata": {},
   "source": [
    "La función para la recta depende de los valores de la pendiente y la ordenada al origen, así como el intervalo en x que el usuario quiera y el espacio entre cada valor. La ecuación que se usa es la siguiente:\n",
    "**y=mx+b**\n",
    "\n",
    "Los valores que se introducen en la función son:\n",
    " xo(valor inicial en x),xf(valor final en x), e(intervalos de x), m(pendiente), b(ordenada al origen).\n",
    "\n",
    "Finalmente se genera un archivo con los valores obtenidos en la variable y."
   ]
  },
  {
   "cell_type": "code",
   "execution_count": 1,
   "metadata": {},
   "outputs": [
    {
     "data": {
      "text/plain": [
       "Recta (generic function with 1 method)"
      ]
     },
     "execution_count": 1,
     "metadata": {},
     "output_type": "execute_result"
    }
   ],
   "source": [
    "function Recta(xo,xf,e,m,b)             #La función creada requiere 5 valores; xo(valor inicial en x),xf(valor final en x), e(intervalos de x), m(pendiente), b(ordenada al origen).\n",
    "    x=collect(xo:e:xf)                  #Se hace un arreglo para las x con los valores asignados\n",
    "    y=zeros(x)                          #Se crea un arreglo para y del tamaño de x\n",
    "    for i in eachindex(x)               #Se hace un ciclo for para cada valor en x\n",
    "    y[i]=m*x[i]+b                       #A cada y se le asigna un valor con las variables dadas\n",
    "        end                             #Fin del ciclo for\n",
    "    writedlm(\"ry.txt\", y)               #Se escribe un archivo con los valores de la recta para y\n",
    "    readdlm(\"ry.txt\")                   #Se lee y muestra el archivo en pantalla\n",
    "    end                                 #Finaliza la función"
   ]
  },
  {
   "cell_type": "code",
   "execution_count": 2,
   "metadata": {},
   "outputs": [
    {
     "data": {
      "text/plain": [
       "10×1 Array{Float64,2}:\n",
       "  2.0\n",
       "  3.0\n",
       "  4.0\n",
       "  5.0\n",
       "  6.0\n",
       "  7.0\n",
       "  8.0\n",
       "  9.0\n",
       " 10.0\n",
       " 11.0"
      ]
     },
     "execution_count": 2,
     "metadata": {},
     "output_type": "execute_result"
    }
   ],
   "source": [
    "Recta(1,10,1,1,1)                        #Prueba de la función"
   ]
  },
  {
   "cell_type": "markdown",
   "metadata": {},
   "source": [
    "## b)Parábola"
   ]
  },
  {
   "cell_type": "markdown",
   "metadata": {},
   "source": [
    "La parábola depende de los valores a,b,c que representan el coeficiente cuadrático, el coeficiente lineal y el término independiente respectivamente, así como del intervalo que el usuario desee y el espacio que hay entre cada valor de x. La ecuación que se usa es la siguiente: \n",
    "        **y=ax^2+bx+c**\n",
    "        \n",
    "Los valores que se introducen son: \n",
    "xo(valor inicial en x),xf(valor final en x), e(intervalos de x), a(coeficiente de x^2), b(coeficiente de x), c(término independiente).\n",
    "\n",
    "Finalmente la función generá un archivo de los valores obtendios en la variable y."
   ]
  },
  {
   "cell_type": "code",
   "execution_count": 3,
   "metadata": {},
   "outputs": [
    {
     "data": {
      "text/plain": [
       "Parábola (generic function with 1 method)"
      ]
     },
     "execution_count": 3,
     "metadata": {},
     "output_type": "execute_result"
    }
   ],
   "source": [
    "function Parábola(xo,xf,e,a,b,c)        #La función creada requiere 5 valores; xo(valor inicial en x),xf(valor final en x), e(intervalos de x), a(coeficiente de x^2), b(coeficiente de x), c(término independiente).\n",
    "    x=collect(xo:e:xf)                  #Se hace un arreglo para las x con los valores asignados\n",
    "    y=zeros(x)                          #Se crea un arreglo para y del tamaño de x\n",
    "    for i in eachindex(x)               #Se hace un ciclo for para cada valor en x\n",
    "    y[i]=a*(x[i]^2)+b*(x[i])+c                      #A cada y se le asigna un valor con las variables dadas\n",
    "        end                             #Fin del ciclo for\n",
    "    writedlm(\"py.txt\", y)               #Se escribe un archivo con los valores de la parábola para y\n",
    "    readdlm(\"py.txt\")                   #Se lee y muestra el archivo en pantalla\n",
    "    end                                 #Finaliza la función"
   ]
  },
  {
   "cell_type": "code",
   "execution_count": 4,
   "metadata": {},
   "outputs": [
    {
     "data": {
      "text/plain": [
       "10×1 Array{Float64,2}:\n",
       "   1.0\n",
       "   4.0\n",
       "   9.0\n",
       "  16.0\n",
       "  25.0\n",
       "  36.0\n",
       "  49.0\n",
       "  64.0\n",
       "  81.0\n",
       " 100.0"
      ]
     },
     "execution_count": 4,
     "metadata": {},
     "output_type": "execute_result"
    }
   ],
   "source": [
    "Parábola(1,10,1,1,0,0)                   #Prueba de la función"
   ]
  }
 ],
 "metadata": {
  "kernelspec": {
   "display_name": "Julia 0.6.0",
   "language": "julia",
   "name": "julia-0.6"
  },
  "language_info": {
   "file_extension": ".jl",
   "mimetype": "application/julia",
   "name": "julia",
   "version": "0.6.0"
  }
 },
 "nbformat": 4,
 "nbformat_minor": 2
}
