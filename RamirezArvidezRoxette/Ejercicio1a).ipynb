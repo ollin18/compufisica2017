{
 "cells": [
  {
   "cell_type": "code",
   "execution_count": 21,
   "metadata": {
    "scrolled": true
   },
   "outputs": [
    {
     "data": {
      "text/plain": [
       "Promedio (generic function with 1 method)"
      ]
     },
     "execution_count": 21,
     "metadata": {},
     "output_type": "execute_result"
    }
   ],
   "source": [
    "function Promedio(a,b) #Genermos una función llamada promedio que dados los valores a y b por el usuario los sume y multiplique por 1/2, ya que sólo se solcita para dos valores a,b y no, n valores.\n",
    "    P=a+b #Hacemos P=a+b que son los valores dados\n",
    "    for i=1/2 #Asignamos a i el único valor 1/2 que es el factor a multipicar (a+b) para encontrar elpromedio de estos\n",
    "        P=P*i #Asignamos un nuevo valor a P que es el producto de la suma de a y b con i. Como i tiene un valor específicpo al regresar a P el ciclo termina.\n",
    "        end #Termina\n",
    "    println(P) #Imprime el nuevo valor de P\n",
    "end\n"
   ]
  },
  {
   "cell_type": "code",
   "execution_count": 23,
   "metadata": {},
   "outputs": [
    {
     "name": "stdout",
     "output_type": "stream",
     "text": [
      "6.0\n"
     ]
    }
   ],
   "source": [
    "Promedio(3,9)"
   ]
  },
  {
   "cell_type": "code",
   "execution_count": null,
   "metadata": {},
   "outputs": [],
   "source": []
  }
 ],
 "metadata": {
  "kernelspec": {
   "display_name": "Julia 0.6.0",
   "language": "julia",
   "name": "julia-0.6"
  },
  "language_info": {
   "file_extension": ".jl",
   "mimetype": "application/julia",
   "name": "julia",
   "version": "0.6.0"
  }
 },
 "nbformat": 4,
 "nbformat_minor": 2
}
