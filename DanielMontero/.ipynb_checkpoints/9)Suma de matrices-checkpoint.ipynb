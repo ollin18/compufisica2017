{
 "cells": [
  {
   "cell_type": "markdown",
   "metadata": {},
   "source": [
    "# 9)Suma de matrices"
   ]
  },
  {
   "cell_type": "markdown",
   "metadata": {},
   "source": [
    "## a)Suma de matrices 2x2"
   ]
  },
  {
   "cell_type": "markdown",
   "metadata": {},
   "source": [
    "La suma de matrices se hace sumando cada valor en una matriz con el respectivo en la otra. Para que esto suceda en la función se crea un ciclo que hace esta operación con cada índice de las matrices y le asigna el valor a un nuevo arreglo."
   ]
  },
  {
   "cell_type": "code",
   "execution_count": 180,
   "metadata": {},
   "outputs": [
    {
     "data": {
      "text/plain": [
       "2×2 Array{Int64,2}:\n",
       " 1  3\n",
       " 2  4"
      ]
     },
     "execution_count": 180,
     "metadata": {},
     "output_type": "execute_result"
    }
   ],
   "source": [
    "a=reshape([1,8,6,7], 2, 2)\n",
    "b=reshape([1,2,3,4], 2, 2)                   #Se definen a y b, y se les da la forma 2x2"
   ]
  },
  {
   "cell_type": "code",
   "execution_count": 181,
   "metadata": {},
   "outputs": [
    {
     "data": {
      "text/plain": [
       "sumat2x2 (generic function with 1 method)"
      ]
     },
     "execution_count": 181,
     "metadata": {},
     "output_type": "execute_result"
    }
   ],
   "source": [
    "function sumat2x2(a,b)                   #Se define la función que sumará matrices\n",
    "     z=reshape([0,0,0,0],2 , 2)          #Se crea una matriz de 2x2 para almacenar el resultado\n",
    "        if length(a)==length(b)          #Compara si los arreglos tienen el mismo tamaño\n",
    "        for i in eachindex(a)            #Si tienen el mismo tamaño hace el ciclo for para cada valor de a\n",
    "            z[i]=a[i]+b[i]               #A cada índice de z se le asigna el valor de la suma de los dos arreglos con ese índice\n",
    "            end                          #Fin del ciclo for\n",
    "        z                                #Aparece el arreglo z en pantalla\n",
    "        else println(\"Sus matrices deben tener la misma dimensión(2x2)\")  #Si a y b tienen distinto tamaño aparece el mensaje\n",
    "        end                              #Finaliza el if\n",
    "    end                                  #Finaliza la función"
   ]
  },
  {
   "cell_type": "code",
   "execution_count": 182,
   "metadata": {},
   "outputs": [
    {
     "data": {
      "text/plain": [
       "2×2 Array{Int64,2}:\n",
       "  2   9\n",
       " 10  11"
      ]
     },
     "execution_count": 182,
     "metadata": {},
     "output_type": "execute_result"
    }
   ],
   "source": [
    "sumat2x2(a,b)                            #Prueba de la función"
   ]
  },
  {
   "cell_type": "markdown",
   "metadata": {},
   "source": [
    "## b)Suma de matrices nxm"
   ]
  },
  {
   "cell_type": "markdown",
   "metadata": {},
   "source": [
    "La suma de matrices de nxm se hace de forma parecida a la suma 2x2; los arreglos deben mantener el mismo tamaño y también se suma cada valor respectivamente. En esta función el arreglo creado para almacenar el resultado tiene un tamaño igual que el de a(primer matriz insertada). Se crean dos archivos con las matrices y una función las utiliza como las variables por sumar."
   ]
  },
  {
   "cell_type": "code",
   "execution_count": 183,
   "metadata": {},
   "outputs": [],
   "source": [
    "n=reshape([1,2,3,5,6,1,7,8,6], 3, 3)\n",
    "m=reshape([1,3,3,6,8,4,2,5,1], 3, 3)     #Se definen dos matrices de nxm(en este caso 3x3)\n",
    "writedlm(\"n.txt\", n)                     #Se escribe n en un archivo\n",
    "writedlm(\"m.txt\", m)                     #Se escribe m en un archivo"
   ]
  },
  {
   "cell_type": "code",
   "execution_count": 184,
   "metadata": {},
   "outputs": [
    {
     "data": {
      "text/plain": [
       "sumatarchivos (generic function with 1 method)"
      ]
     },
     "execution_count": 184,
     "metadata": {},
     "output_type": "execute_result"
    }
   ],
   "source": [
    "function sumatnxm(a,b)\n",
    "     z=zeros(a)                          #Se crea una matriz del tamaño de a para almacenar el resultado\n",
    "            if length(a)==length(b)      #Compara si los arreglos tienen el mismo tamaño\n",
    "        for i in eachindex(a)            #Si tienen el mismo tamaño hace el ciclo for para cada valor de a\n",
    "            z[i]=a[i]+b[i]               #A cada índice de z se le asigna el valor de la suma de los dos arreglos con ese índice\n",
    "            end                          #Fin del ciclo for  \n",
    "        z                                #Aparece el arreglo z en pantalla\n",
    "        else println(\"Sus matrices deben tener la misma dimensión\")  #Si a y b tienen distinto tamaño aparece el mensaje\n",
    "        end                              #Fin del if\n",
    "        end                              #Finaliza la función\n",
    "\n",
    "function sumatarchivos()                  #Función que usa archivos \n",
    " a=readdlm(\"n.txt\")                       #Asigna el archivo de n como la matriz 1\n",
    " b=readdlm(\"m.txt\")                       #Asigna el archivo de m como la matriz 2\n",
    "    sumatnxm(a,b)                          #Aplica la función anterior\n",
    "    end                                   #Finaliza de la función"
   ]
  },
  {
   "cell_type": "code",
   "execution_count": 185,
   "metadata": {},
   "outputs": [
    {
     "data": {
      "text/plain": [
       "3×3 Array{Float64,2}:\n",
       " 2.0  11.0   9.0\n",
       " 5.0  14.0  13.0\n",
       " 6.0   5.0   7.0"
      ]
     },
     "execution_count": 185,
     "metadata": {},
     "output_type": "execute_result"
    }
   ],
   "source": [
    "sumatarchivos()                             #Prueba de la función"
   ]
  }
 ],
 "metadata": {
  "kernelspec": {
   "display_name": "Julia 0.6.0",
   "language": "julia",
   "name": "julia-0.6"
  },
  "language_info": {
   "file_extension": ".jl",
   "mimetype": "application/julia",
   "name": "julia",
   "version": "0.6.0"
  }
 },
 "nbformat": 4,
 "nbformat_minor": 2
}
