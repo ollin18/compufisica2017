{
 "cells": [
  {
   "cell_type": "code",
   "execution_count": 10,
   "metadata": {},
   "outputs": [
    {
     "name": "stderr",
     "output_type": "stream",
     "text": [
      "WARNING: Method definition MRU(Any, Any, Any, Any) in module Main at In[8]:2 overwritten at In[10]:2.\n"
     ]
    },
    {
     "data": {
      "text/plain": [
       "MRU (generic function with 1 method)"
      ]
     },
     "execution_count": 10,
     "metadata": {},
     "output_type": "execute_result"
    }
   ],
   "source": [
    "function MRU(t1,t2,Δt,v) #t1 y t2 son el tiempo inicial y final respectivamente, Δt es la separación entre cada tiempo,v es la velocidad\n",
    "    t= collect(t1:Δt:t2) #aquí creamos un arreglo de tiemo desde t1 hasta t2 con espacio de Δt entre cada tiempo. \n",
    "    posición=zeros(collect(t1:Δt:t2)) #Aquí creamos un arreglo de ceros para guardar los datos de la posición\n",
    "    velocidad=zeros(length(t)) #Aquí creamos un arreglo de ceros para la velocidad\n",
    "    for i ∈ 1:length(t) #Le pedimos que a todo elemento de t se le aplique las siguientes operaciones\n",
    "        if i != 1 #le pedimos que el elemento de t sea distinto de 1 \n",
    "            posición[i] = posición[i-1]+v*Δt #Aquí utilizamos la ecuación del mru, se le resta 1a i porque manejamos el Δt en la ecuación\n",
    "        end\n",
    "    end\n",
    "    velocidad=velocidad .+ v #Aquí declaramos que la velocidad sera obtenida sumando a cada elemento del arreglo la velocidad dada\n",
    "    mrudatos= hcat(t,posición,velocidad)#Aquí concatenamos los datos obtenidos\n",
    "    writedlm(\"mrudatos.csv\",mrudatos,'|') #Aquí escribimos los datos en un archivo\n",
    "    print(t,posición,velocidad) #Aquí pedimos que regrese los datos de tiempo, posición y velocidad\n",
    "end   "
   ]
  },
  {
   "cell_type": "code",
   "execution_count": 12,
   "metadata": {},
   "outputs": [
    {
     "name": "stdout",
     "output_type": "stream",
     "text": [
      "[0.0,0.5,1.0,1.5,2.0,2.5,3.0,3.5,4.0,4.5,5.0,5.5,6.0,6.5,7.0,7.5,8.0,8.5,9.0,9.5,10.0,10.5,11.0,11.5,12.0,12.5,13.0,13.5,14.0,14.5,15.0,15.5,16.0,16.5,17.0,17.5,18.0,18.5,19.0,19.5,20.0,20.5,21.0,21.5,22.0,22.5,23.0,23.5,24.0,24.5,25.0,25.5,26.0,26.5,27.0,27.5,28.0,28.5,29.0,29.5,30.0,30.5,31.0,31.5,32.0,32.5,33.0,33.5,34.0,34.5,35.0,35.5,36.0,36.5,37.0,37.5,38.0,38.5,39.0,39.5,40.0,40.5,41.0,41.5,42.0,42.5,43.0,43.5,44.0,44.5,45.0,45.5,46.0,46.5,47.0,47.5,48.0,48.5,49.0,49.5,50.0,50.5,51.0,51.5,52.0,52.5,53.0,53.5,54.0,54.5,55.0,55.5,56.0,56.5,57.0,57.5,58.0,58.5,59.0,59.5,60.0][0.0,22.5,45.0,67.5,90.0,112.5,135.0,157.5,180.0,202.5,225.0,247.5,270.0,292.5,315.0,337.5,360.0,382.5,405.0,427.5,450.0,472.5,495.0,517.5,540.0,562.5,585.0,607.5,630.0,652.5,675.0,697.5,720.0,742.5,765.0,787.5,810.0,832.5,855.0,877.5,900.0,922.5,945.0,967.5,990.0,1012.5,1035.0,1057.5,1080.0,1102.5,1125.0,1147.5,1170.0,1192.5,1215.0,1237.5,1260.0,1282.5,1305.0,1327.5,1350.0,1372.5,1395.0,1417.5,1440.0,1462.5,1485.0,1507.5,1530.0,1552.5,1575.0,1597.5,1620.0,1642.5,1665.0,1687.5,1710.0,1732.5,1755.0,1777.5,1800.0,1822.5,1845.0,1867.5,1890.0,1912.5,1935.0,1957.5,1980.0,2002.5,2025.0,2047.5,2070.0,2092.5,2115.0,2137.5,2160.0,2182.5,2205.0,2227.5,2250.0,2272.5,2295.0,2317.5,2340.0,2362.5,2385.0,2407.5,2430.0,2452.5,2475.0,2497.5,2520.0,2542.5,2565.0,2587.5,2610.0,2632.5,2655.0,2677.5,2700.0][45.0,45.0,45.0,45.0,45.0,45.0,45.0,45.0,45.0,45.0,45.0,45.0,45.0,45.0,45.0,45.0,45.0,45.0,45.0,45.0,45.0,45.0,45.0,45.0,45.0,45.0,45.0,45.0,45.0,45.0,45.0,45.0,45.0,45.0,45.0,45.0,45.0,45.0,45.0,45.0,45.0,45.0,45.0,45.0,45.0,45.0,45.0,45.0,45.0,45.0,45.0,45.0,45.0,45.0,45.0,45.0,45.0,45.0,45.0,45.0,45.0,45.0,45.0,45.0,45.0,45.0,45.0,45.0,45.0,45.0,45.0,45.0,45.0,45.0,45.0,45.0,45.0,45.0,45.0,45.0,45.0,45.0,45.0,45.0,45.0,45.0,45.0,45.0,45.0,45.0,45.0,45.0,45.0,45.0,45.0,45.0,45.0,45.0,45.0,45.0,45.0,45.0,45.0,45.0,45.0,45.0,45.0,45.0,45.0,45.0,45.0,45.0,45.0,45.0,45.0,45.0,45.0,45.0,45.0,45.0,45.0]"
     ]
    }
   ],
   "source": [
    "MRU(0,60,0.5,45)"
   ]
  },
  {
   "cell_type": "code",
   "execution_count": 19,
   "metadata": {},
   "outputs": [
    {
     "name": "stderr",
     "output_type": "stream",
     "text": [
      "WARNING: Method definition MUA(Any, Any, Any, Any, Any) in module Main at In[17]:2 overwritten at In[19]:2.\n"
     ]
    },
    {
     "data": {
      "text/plain": [
       "MUA (generic function with 1 method)"
      ]
     },
     "execution_count": 19,
     "metadata": {},
     "output_type": "execute_result"
    }
   ],
   "source": [
    "function MUA(t1,t2,Δt,v_0,a) #t1 y t2 son los tiempos inicial y final, Δt es el espacio entre cada tiempo, v_0 se refiere a la velocidad inicial y a es la aceleración. \n",
    "    t= collect(t1:Δt:t2) #aquí creamos un arreglo de tiemo desde t1 hasta t2 con espacio de Δt entre cada tiempo. \n",
    "    posición=zeros(collect(t1:Δt:t2)) #Aquí creamos un arreglo de ceros para guardar los datos de la posición\n",
    "    velocidad=zeros(collect(t1:Δt:t2)) #Aquí creamos un arreglo de ceros para la velocidad\n",
    "    for i ∈ 1:length(t) #Le pedimos que a todo elemento de t se le aplique las siguientes operaciones\n",
    "        if i != 1 #le pedimos que el elemento de t sea distinto de 1 \n",
    "            posición[i]=(v_0*t[i])+(1/2*a*(t[i])^2) #Aquí utilizamos la ecuación del mua \"X(t)=v_0t + 1/2at^2\"\n",
    "            velocidad[i]=v_0+a*t[i] #Aquí utilizamos la ecuación de la velocidad en el mua \"V(t)=v_0 + at\"\n",
    "        end\n",
    "    end\n",
    "    muadatos= hcat(t,posición,velocidad)#Aquí concatenamos los datos obtenidos\n",
    "    writedlm(\"muadatos.csv\",muadatos,'|') #Aquí escribimos los datos en un archivo\n",
    "    print(t,posición,velocidad) #Aquí le pedimos que imprima los datos del tiempo, la posición y la velocidad\n",
    "end  "
   ]
  },
  {
   "cell_type": "code",
   "execution_count": 18,
   "metadata": {},
   "outputs": [
    {
     "name": "stdout",
     "output_type": "stream",
     "text": [
      "[0.0,0.5,1.0,1.5,2.0,2.5,3.0,3.5,4.0,4.5,5.0,5.5,6.0,6.5,7.0,7.5,8.0,8.5,9.0,9.5,10.0,10.5,11.0,11.5,12.0,12.5,13.0,13.5,14.0,14.5,15.0,15.5,16.0,16.5,17.0,17.5,18.0,18.5,19.0,19.5,20.0,20.5,21.0,21.5,22.0,22.5,23.0,23.5,24.0,24.5,25.0,25.5,26.0,26.5,27.0,27.5,28.0,28.5,29.0,29.5,30.0,30.5,31.0,31.5,32.0,32.5,33.0,33.5,34.0,34.5,35.0,35.5,36.0,36.5,37.0,37.5,38.0,38.5,39.0,39.5,40.0,40.5,41.0,41.5,42.0,42.5,43.0,43.5,44.0,44.5,45.0,45.5,46.0,46.5,47.0,47.5,48.0,48.5,49.0,49.5,50.0,50.5,51.0,51.5,52.0,52.5,53.0,53.5,54.0,54.5,55.0,55.5,56.0,56.5,57.0,57.5,58.0,58.5,59.0,59.5,60.0][0.0,2.375,5.5,9.375,14.0,19.375,25.5,32.375,40.0,48.375,57.5,67.375,78.0,89.375,101.5,114.375,128.0,142.375,157.5,173.375,190.0,207.375,225.5,244.375,264.0,284.375,305.5,327.375,350.0,373.375,397.5,422.375,448.0,474.375,501.5,529.375,558.0,587.375,617.5,648.375,680.0,712.375,745.5,779.375,814.0,849.375,885.5,922.375,960.0,998.375,1037.5,1077.38,1118.0,1159.38,1201.5,1244.38,1288.0,1332.38,1377.5,1423.38,1470.0,1517.38,1565.5,1614.38,1664.0,1714.38,1765.5,1817.38,1870.0,1923.38,1977.5,2032.38,2088.0,2144.38,2201.5,2259.38,2318.0,2377.38,2437.5,2498.38,2560.0,2622.38,2685.5,2749.38,2814.0,2879.38,2945.5,3012.38,3080.0,3148.38,3217.5,3287.38,3358.0,3429.38,3501.5,3574.38,3648.0,3722.38,3797.5,3873.38,3950.0,4027.38,4105.5,4184.38,4264.0,4344.38,4425.5,4507.38,4590.0,4673.38,4757.5,4842.38,4928.0,5014.38,5101.5,5189.38,5278.0,5367.38,5457.5,5548.38,5640.0][0.0,5.5,7.0,8.5,10.0,11.5,13.0,14.5,16.0,17.5,19.0,20.5,22.0,23.5,25.0,26.5,28.0,29.5,31.0,32.5,34.0,35.5,37.0,38.5,40.0,41.5,43.0,44.5,46.0,47.5,49.0,50.5,52.0,53.5,55.0,56.5,58.0,59.5,61.0,62.5,64.0,65.5,67.0,68.5,70.0,71.5,73.0,74.5,76.0,77.5,79.0,80.5,82.0,83.5,85.0,86.5,88.0,89.5,91.0,92.5,94.0,95.5,97.0,98.5,100.0,101.5,103.0,104.5,106.0,107.5,109.0,110.5,112.0,113.5,115.0,116.5,118.0,119.5,121.0,122.5,124.0,125.5,127.0,128.5,130.0,131.5,133.0,134.5,136.0,137.5,139.0,140.5,142.0,143.5,145.0,146.5,148.0,149.5,151.0,152.5,154.0,155.5,157.0,158.5,160.0,161.5,163.0,164.5,166.0,167.5,169.0,170.5,172.0,173.5,175.0,176.5,178.0,179.5,181.0,182.5,184.0]"
     ]
    }
   ],
   "source": [
    "MUA(0,60,0.5,4,3)"
   ]
  },
  {
   "cell_type": "code",
   "execution_count": 2,
   "metadata": {},
   "outputs": [
    {
     "data": {
      "text/plain": [
       "TiroPa (generic function with 1 method)"
      ]
     },
     "execution_count": 2,
     "metadata": {},
     "output_type": "execute_result"
    }
   ],
   "source": [
    "function TiroPa(t1,t2,Δt,θ,g,v_0) #t1,t2 y Δt corresponden al tiempo inicial,final y separación entre cada tiempo,Θ es el angulo, g es el valor de la gravedad, v_0 es la velocidad inicial\n",
    "    t=collect(t1:Δt:t2) #aquí creamos un arreglo de tiemo desde t1 hasta t2 con espacio de Δt entre cada tiempo.\n",
    "    X=zeros(t) #Aquí creamos un arreglo que guardara la posición en X \n",
    "    Y=zeros(t) #Aquí creamos un arreglo que guardara l posición en Y\n",
    "    for i in eachindex(t) #Le pedimos que a todo elemento de t se le aplique las siguientes operaciones\n",
    "        X[i] = v_0*cos(θ)*t[i] #Aquí utilizamos la ecuación\n",
    "        Y[i] = (-(1/2*g*t[i]^2)+v_0*sin(θ)*t[i]) #Aquí utilizamos la ecuación\n",
    "    end\n",
    "    Datos=hcat(t,X,Y) #Aquí concatenamos los datos obtenidos\n",
    "    writedlm(\"Datos.csv\",Datos,'|') #Aquí escribimos los datos en un archivo\n",
    "    print(t,X,Y) #Aquí le pedimos que imprima los datos del tiempo, la posición en X y Y\n",
    "end "
   ]
  },
  {
   "cell_type": "code",
   "execution_count": 36,
   "metadata": {},
   "outputs": [
    {
     "name": "stdout",
     "output_type": "stream",
     "text": [
      "[0.0,0.125,0.25,0.375,0.5,0.625,0.75,0.875,1.0,1.125,1.25,1.375,1.5,1.625,1.75,1.875,2.0,2.125,2.25,2.375,2.5,2.625,2.75,2.875,3.0,3.125,3.25,3.375,3.5,3.625,3.75,3.875,4.0,4.125,4.25,4.375,4.5,4.625,4.75,4.875,5.0][0.0,8.83883,17.6777,26.5165,35.3553,44.1942,53.033,61.8718,70.7107,79.5495,88.3883,97.2272,106.066,114.905,123.744,132.583,141.421,150.26,159.099,167.938,176.777,185.616,194.454,203.293,212.132,220.971,229.81,238.649,247.487,256.326,265.165,274.004,282.843,291.682,300.52,309.359,318.198,327.037,335.876,344.715,353.553][0.0,8.76219,17.3711,25.8267,34.1291,42.2782,50.2739,58.1165,65.8057,73.3416,80.7243,87.9537,95.0298,101.953,108.722,115.338,121.801,128.111,134.267,140.271,146.12,151.817,157.36,162.75,167.987,173.07,178.001,182.778,187.401,191.871,196.188,200.352,204.363,208.22,211.924,215.474,218.872,222.116,225.207,228.144,230.928]"
     ]
    }
   ],
   "source": [
    "TiroPa(0,5,0.125,pi/4,9.81,100)"
   ]
  },
  {
   "cell_type": "code",
   "execution_count": null,
   "metadata": {},
   "outputs": [],
   "source": []
  }
 ],
 "metadata": {
  "kernelspec": {
   "display_name": "Julia 0.5.2",
   "language": "julia",
   "name": "julia-0.5"
  },
  "language_info": {
   "file_extension": ".jl",
   "mimetype": "application/julia",
   "name": "julia",
   "version": "0.5.2"
  }
 },
 "nbformat": 4,
 "nbformat_minor": 2
}
