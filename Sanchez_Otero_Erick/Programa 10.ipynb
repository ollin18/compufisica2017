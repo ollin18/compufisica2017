{
 "cells": [
  {
   "cell_type": "code",
   "execution_count": 1,
   "metadata": {},
   "outputs": [
    {
     "data": {
      "text/plain": [
       "ProdMaVec (generic function with 1 method)"
      ]
     },
     "execution_count": 1,
     "metadata": {},
     "output_type": "execute_result"
    }
   ],
   "source": [
    "#10.a)\n",
    "function ProdMaVec(A,v)\n",
    "    if size(A)[2] == length(v)\n",
    "        b=Array{Float64}(size(A)[1])\n",
    "        for i in 1:size(A)[1]\n",
    "            p=0\n",
    "            for j in 1:size(A)[2]\n",
    "                a=A[i,j]*v[j]\n",
    "                p+=a\n",
    "            end\n",
    "            b[i]=p\n",
    "        end\n",
    "        b\n",
    "    else\n",
    "        print(\"no\")\n",
    "    end\n",
    "end"
   ]
  },
  {
   "cell_type": "code",
   "execution_count": 4,
   "metadata": {},
   "outputs": [
    {
     "data": {
      "text/plain": [
       "3×3 Array{Int64,2}:\n",
       " 1  2  3\n",
       " 5  3  5\n",
       " 2  1  3"
      ]
     },
     "execution_count": 4,
     "metadata": {},
     "output_type": "execute_result"
    }
   ],
   "source": [
    "A=[1 2 3; 5 3 5;2 1 3]"
   ]
  },
  {
   "cell_type": "code",
   "execution_count": 5,
   "metadata": {},
   "outputs": [
    {
     "data": {
      "text/plain": [
       "1×3 Array{Int64,2}:\n",
       " 2  1  4"
      ]
     },
     "execution_count": 5,
     "metadata": {},
     "output_type": "execute_result"
    }
   ],
   "source": [
    "a= [2 1 4]"
   ]
  },
  {
   "cell_type": "code",
   "execution_count": 8,
   "metadata": {},
   "outputs": [
    {
     "name": "stdout",
     "output_type": "stream",
     "text": [
      "no"
     ]
    }
   ],
   "source": [
    "ProdMaVec(A,A)"
   ]
  },
  {
   "cell_type": "code",
   "execution_count": 9,
   "metadata": {},
   "outputs": [
    {
     "data": {
      "text/plain": [
       "ProdMatr (generic function with 1 method)"
      ]
     },
     "execution_count": 9,
     "metadata": {},
     "output_type": "execute_result"
    }
   ],
   "source": [
    "#10.b)\n",
    "function ProdMatr(A,B)\n",
    "    if size(A)[2] == size(B)[1]\n",
    "        b=zeros(size(A)[1],size(B)[2])\n",
    "        for i ∈ 1:size(A)[1]\n",
    "            k=1\n",
    "            while k<=size(A)[1]\n",
    "                p=0\n",
    "                for j ∈ 1:size(B)[1]\n",
    "                    a=A[i,j]*B[j,k]\n",
    "                    p+=a\n",
    "                end\n",
    "                b[i,k]=p\n",
    "                k+=1\n",
    "            end\n",
    "        end\n",
    "        b\n",
    "    else\n",
    "        print(\"Revisar dimensiones\")\n",
    "    end\n",
    "end"
   ]
  },
  {
   "cell_type": "code",
   "execution_count": 12,
   "metadata": {},
   "outputs": [
    {
     "data": {
      "text/plain": [
       "1×3 Array{Float64,2}:\n",
       " 15.0  0.0  0.0"
      ]
     },
     "execution_count": 12,
     "metadata": {},
     "output_type": "execute_result"
    }
   ],
   "source": [
    "ProdMatr(a,A)"
   ]
  },
  {
   "cell_type": "code",
   "execution_count": 13,
   "metadata": {},
   "outputs": [
    {
     "data": {
      "text/plain": [
       "3×3 Array{Float64,2}:\n",
       " 17.0  11.0  22.0\n",
       " 30.0  24.0  45.0\n",
       " 13.0  10.0  20.0"
      ]
     },
     "execution_count": 13,
     "metadata": {},
     "output_type": "execute_result"
    }
   ],
   "source": [
    "ProdMatr(A,A)"
   ]
  },
  {
   "cell_type": "code",
   "execution_count": 14,
   "metadata": {},
   "outputs": [
    {
     "name": "stdout",
     "output_type": "stream",
     "text": [
      "revisar dimensiones"
     ]
    }
   ],
   "source": [
    "ProdMatr(A,a)"
   ]
  },
  {
   "cell_type": "code",
   "execution_count": null,
   "metadata": {},
   "outputs": [],
   "source": []
  }
 ],
 "metadata": {
  "kernelspec": {
   "display_name": "Julia 0.6.0",
   "language": "julia",
   "name": "julia-0.6"
  },
  "language_info": {
   "file_extension": ".jl",
   "mimetype": "application/julia",
   "name": "julia",
   "version": "0.6.0"
  }
 },
 "nbformat": 4,
 "nbformat_minor": 2
}
