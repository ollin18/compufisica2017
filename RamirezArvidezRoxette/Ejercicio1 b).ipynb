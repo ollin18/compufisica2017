{
 "cells": [
  {
   "cell_type": "markdown",
   "metadata": {},
   "source": [
    "Suma de los primeros n naturales.\n",
    "Para esto usamos la ecuación :"
   ]
  },
  {
   "cell_type": "code",
   "execution_count": 7,
   "metadata": {},
   "outputs": [
    {
     "ename": "LoadError",
     "evalue": "\u001b[91mUndefVarError: n not defined\u001b[39m",
     "output_type": "error",
     "traceback": [
      "\u001b[91mUndefVarError: n not defined\u001b[39m",
      "",
      "Stacktrace:",
      " [1] \u001b[1minclude_string\u001b[22m\u001b[22m\u001b[1m(\u001b[22m\u001b[22m::String, ::String\u001b[1m)\u001b[22m\u001b[22m at \u001b[1m./loading.jl:515\u001b[22m\u001b[22m"
     ]
    }
   ],
   "source": [
    "n\n",
    "∑ i= n(n+1)/2\n",
    "i=0\n"
   ]
  },
  {
   "cell_type": "markdown",
   "metadata": {},
   "source": [
    "Para cualquier n dado. Para esto usamos un ciclo for."
   ]
  },
  {
   "cell_type": "markdown",
   "metadata": {},
   "source": [
    "EL ciclo for unciona mediante un sistema de instrucciones que se repiten hasta que la condición que se ha establecido se cumple, generando datos al usuario.\n"
   ]
  },
  {
   "cell_type": "code",
   "execution_count": 9,
   "metadata": {},
   "outputs": [
    {
     "data": {
      "text/plain": [
       "Suma (generic function with 1 method)"
      ]
     },
     "execution_count": 9,
     "metadata": {},
     "output_type": "execute_result"
    }
   ],
   "source": [
    "function Suma(N) #La función que se genere será llamada Suma(N), donde N es un número determinado por el usuario\n",
    "    suma=0.0 #Asignaremos por convención a la operación suma el valor 0, por ser el primer número a sumar\n",
    "    for i ∈ 1:N #La función \"for\" que dice para cada i, es decir cada elemento de la sucesión de N elementos,  pertenece al intervalo que va de 1 hasta N, él número asignado por el usuario.\n",
    "        suma+=i #es equivlente a: suma=suma+i. Es decir si después de dado el valor a suma de 0, si N=2, suma=0+1 y ahora suma tienne el valor 1, se repite el ciclo, y como N=2 la operción suma+=i se efect´ua nuevamente. siendo suma+=2.e repite el ciclo con el nuevo valor de suma=3. Pero el ciclo se detiene aquí ya que N=2. Se ha cumplido la condición del intervalo dado.\n",
    "    end #termina el ciclo for \n",
    "    println(suma) #Pide que imprima el valor final que tiene la ecuación \"suma\"\n",
    "end #Termia la función "
   ]
  },
  {
   "cell_type": "code",
   "execution_count": 10,
   "metadata": {},
   "outputs": [
    {
     "name": "stdout",
     "output_type": "stream",
     "text": [
      "5050.0\n"
     ]
    }
   ],
   "source": [
    "Suma(100)"
   ]
  },
  {
   "cell_type": "code",
   "execution_count": 14,
   "metadata": {},
   "outputs": [
    {
     "name": "stdout",
     "output_type": "stream",
     "text": [
      "55.0\n"
     ]
    }
   ],
   "source": [
    "Suma(10)"
   ]
  },
  {
   "cell_type": "code",
   "execution_count": 15,
   "metadata": {},
   "outputs": [
    {
     "name": "stdout",
     "output_type": "stream",
     "text": [
      "125250.0\n"
     ]
    }
   ],
   "source": [
    "Suma(500)"
   ]
  },
  {
   "cell_type": "markdown",
   "metadata": {},
   "source": [
    "Se comprueba entonces que la ecuación dada para la suma de los primeros n naturales es correcta "
   ]
  },
  {
   "cell_type": "code",
   "execution_count": null,
   "metadata": {},
   "outputs": [],
   "source": []
  }
 ],
 "metadata": {
  "kernelspec": {
   "display_name": "Julia 0.6.0",
   "language": "julia",
   "name": "julia-0.6"
  },
  "language_info": {
   "file_extension": ".jl",
   "mimetype": "application/julia",
   "name": "julia",
   "version": "0.6.0"
  }
 },
 "nbformat": 4,
 "nbformat_minor": 2
}
