{
 "cells": [
  {
   "cell_type": "code",
   "execution_count": 28,
   "metadata": {},
   "outputs": [
    {
     "data": {
      "text/plain": [
       "Prom (generic function with 1 method)"
      ]
     },
     "execution_count": 28,
     "metadata": {},
     "output_type": "execute_result"
    }
   ],
   "source": [
    "function Prom(a,b)\n",
    "    p=0 #Aqui se crea un contador que guardará el resultado de la operación\n",
    "    p=p+(a+b)/2 #Aquí se crea la operación que se hará sobre los numeros a y b para obtener su promedio\n",
    "    return p #Aquí se pide que al terminar de realizar la operación se imprima en pantalla p\n",
    "end"
   ]
  },
  {
   "cell_type": "code",
   "execution_count": 29,
   "metadata": {},
   "outputs": [
    {
     "data": {
      "text/plain": [
       "354544"
      ]
     },
     "execution_count": 29,
     "metadata": {},
     "output_type": "execute_result"
    }
   ],
   "source": [
    "r=94566\n",
    "f=354544"
   ]
  },
  {
   "cell_type": "code",
   "execution_count": 30,
   "metadata": {},
   "outputs": [
    {
     "data": {
      "text/plain": [
       "224555.0"
      ]
     },
     "execution_count": 30,
     "metadata": {},
     "output_type": "execute_result"
    }
   ],
   "source": [
    "Prom(f,r)"
   ]
  },
  {
   "cell_type": "code",
   "execution_count": 1,
   "metadata": {},
   "outputs": [
    {
     "data": {
      "text/plain": [
       "Suma (generic function with 1 method)"
      ]
     },
     "execution_count": 1,
     "metadata": {},
     "output_type": "execute_result"
    }
   ],
   "source": [
    "function Suma(n)\n",
    "    if n>0\n",
    "        i = 0 #Aquí se crea un contador que ira guardando la suma.\n",
    "        k = 1 #Aquí se crea un valor inicial que será el que se empiece a sumar a la operación\n",
    "        while n >= k #aqui se le pide como condición que mientras \"n\" sea más grande que el contador \"k\"\n",
    "            i = i+k #Aquí se pide que a \"i\" se le sume el valor de \"k\"\n",
    "            k += 1 #Aquí se pide que k incremente su valor en una unidad y continuar con el ciclo hasta que k sea igual a n\n",
    "        end\n",
    "        print(i) #Aquí se pide que se imprima en pantalla el valor final de i despues de terminado el ciclo.\n",
    "    else\n",
    "        print(\"Tu número es negativo\")\n",
    "    end\n",
    "end"
   ]
  },
  {
   "cell_type": "code",
   "execution_count": 2,
   "metadata": {},
   "outputs": [
    {
     "name": "stdout",
     "output_type": "stream",
     "text": [
      "5050"
     ]
    }
   ],
   "source": [
    "Suma(100)"
   ]
  },
  {
   "cell_type": "code",
   "execution_count": 1,
   "metadata": {},
   "outputs": [
    {
     "data": {
      "text/plain": [
       "Factorial (generic function with 1 method)"
      ]
     },
     "execution_count": 1,
     "metadata": {},
     "output_type": "execute_result"
    }
   ],
   "source": [
    "function Factorial(n)\n",
    "    if n>=0 #Aquí le pedimos que el numero que demos tenga que ser mayor o igual que 0\n",
    "        i=1 #Aqui damos valor a un contador en el que se iran depositando los valores del factorial\n",
    "        k=1 #Aquí se da otro contador que ayudará en la operación\n",
    "        while n >= k #aqui le pedimos que aplique la operación mientras \"k\" sea menos o igual que \"n\"\n",
    "            i = i*(k) #Aquí tenemos que \"i\" será igual a multiplicar su mismo valor por el de \"k\"\n",
    "            k +=1 #Aquí le sumamos 1 a K para que repita el ciclo y vaya aumentando el contador de \"k\" y de \"i\"\n",
    "        end\n",
    "        print(i) #aquí le pedimos que regrese i\n",
    "    else\n",
    "        print(\"Tu número es negativo\") #Aquí le pedimos que si la operación factorial no es posible de realizar arroje esta respuesta\n",
    "    end\n",
    "end"
   ]
  },
  {
   "cell_type": "code",
   "execution_count": 112,
   "metadata": {},
   "outputs": [
    {
     "name": "stdout",
     "output_type": "stream",
     "text": [
      "1"
     ]
    }
   ],
   "source": [
    "Factorial(0)"
   ]
  },
  {
   "cell_type": "code",
   "execution_count": 26,
   "metadata": {},
   "outputs": [
    {
     "name": "stdout",
     "output_type": "stream",
     "text": [
      "2432902008176640000"
     ]
    }
   ],
   "source": [
    "Factorial(20)"
   ]
  },
  {
   "cell_type": "code",
   "execution_count": 114,
   "metadata": {},
   "outputs": [
    {
     "name": "stdout",
     "output_type": "stream",
     "text": [
      "Tu número es negativo"
     ]
    }
   ],
   "source": [
    "Factorial(-1)"
   ]
  },
  {
   "cell_type": "code",
   "execution_count": 2,
   "metadata": {},
   "outputs": [
    {
     "data": {
      "text/plain": [
       "Exp (generic function with 1 method)"
      ]
     },
     "execution_count": 2,
     "metadata": {},
     "output_type": "execute_result"
    }
   ],
   "source": [
    "function Exp(a,b)\n",
    "    i=0.0 #Aqui se nombra una variable que guardará el valor de \"i\"\n",
    "    i=a^b #Aquí se aplica la operación de elevar a a la potencia b\n",
    "    print(i) #Se pide que se imprima \"i\"\n",
    "end"
   ]
  },
  {
   "cell_type": "code",
   "execution_count": 3,
   "metadata": {},
   "outputs": [
    {
     "name": "stdout",
     "output_type": "stream",
     "text": [
      "262144.0"
     ]
    }
   ],
   "source": [
    "Exp(4.0,9)"
   ]
  },
  {
   "cell_type": "code",
   "execution_count": null,
   "metadata": {},
   "outputs": [],
   "source": []
  }
 ],
 "metadata": {
  "kernelspec": {
   "display_name": "Julia 0.5.2",
   "language": "julia",
   "name": "julia-0.5"
  },
  "language_info": {
   "file_extension": ".jl",
   "mimetype": "application/julia",
   "name": "julia",
   "version": "0.5.2"
  }
 },
 "nbformat": 4,
 "nbformat_minor": 2
}
