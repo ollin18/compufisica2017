{
 "cells": [
  {
   "cell_type": "markdown",
   "metadata": {},
   "source": [
    "Calcular el producto cruz de dos vectores en ℝ^3"
   ]
  },
  {
   "cell_type": "markdown",
   "metadata": {},
   "source": [
    "\n",
    "El Producto cruz tienee como resultado un tercer vector con dirección perpendicular aa los otros dos.\n",
    "El producto cruz se puede expresar mediante un determinante:\n",
    "$$ \\vec U x\\vec BV= (u_x,u_y,u_z)x(v_x,v_y,v_z)= $$\n",
    "$$\n",
    "\\begin{bmatrix}\n",
    "\\hat{x} \\hat{y} \\hat{z}\\\\ \n",
    "  v_x     v_y     v_z\\\\      \n",
    "  u_x     u_y     u_z\\\\\n",
    "\\end{bmatrix} = \\hat{x} \\begin{bmatrix}\n",
    "  v_y     v_z\\\\      \n",
    "  u_y     u_z\\\\\n",
    "\\end{bmatrix} - \\hat{y}\\begin{bmatrix} \n",
    "  v_x     v_z\\\\\n",
    "  u_x     u_z\\\\\n",
    "\\end{bmatrix} +\\hat{z} \\begin{bmatrix} \n",
    "  v_x     v_y\\\\      \n",
    "  u_x     u_y\\\\\n",
    "\\end{bmatrix}$$"
   ]
  },
  {
   "cell_type": "code",
   "execution_count": 4,
   "metadata": {},
   "outputs": [
    {
     "data": {
      "text/plain": [
       "Cruz (generic function with 1 method)"
      ]
     },
     "execution_count": 4,
     "metadata": {},
     "output_type": "execute_result"
    }
   ],
   "source": [
    "function Cruz(U,V) #Generamo la función cruz para operar los vectores U y V\n",
    "    if length(U)==length(V) #Usamos el condicionl si las dimensiones de U y V son iguales, sepuede operar \n",
    "        W=zeros(U) #Hacemos un arreglo con las dimensiones de U para el vector resultante W\n",
    "        w1=(U[3]*V[2])-(U[2]*V[3]) #Son las operaciones mencionada en teoría para hacer el producto cruz con los respectivos U y V\n",
    "        w2=(U[3]*V[1])-(U[1]*V[3])\n",
    "        w3=(U[2]*V[1])-(U[1]*V[2])\n",
    "           W=hcat(w1,w2,w3)#W lee toma los valore resultantes de w1, w2, w3.\n",
    "    else #De no cumplire la condición \n",
    "        println(\"No tienen dimensione iguales :'c\") #Imprime \"No tiene dmensiones iguales. \n",
    "    end #Termina el ciclo condicional\n",
    "end #Termina la función"
   ]
  },
  {
   "cell_type": "code",
   "execution_count": 6,
   "metadata": {},
   "outputs": [
    {
     "name": "stdout",
     "output_type": "stream",
     "text": [
      "No tienen dimensione iguales :'c\n"
     ]
    }
   ],
   "source": [
    "A=(1,2,3);B=(4,5,6,7);\n",
    "Cruz(A,B)"
   ]
  },
  {
   "cell_type": "code",
   "execution_count": 7,
   "metadata": {},
   "outputs": [
    {
     "data": {
      "text/plain": [
       "1×3 Array{Int64,2}:\n",
       " 4  8  4"
      ]
     },
     "execution_count": 7,
     "metadata": {},
     "output_type": "execute_result"
    }
   ],
   "source": [
    "A=(1,2,3);B=(5,6,7);\n",
    "Cruz(A,B)"
   ]
  },
  {
   "cell_type": "code",
   "execution_count": 8,
   "metadata": {},
   "outputs": [
    {
     "data": {
      "text/plain": [
       "1×3 Array{Int64,2}:\n",
       " -34  -9  13"
      ]
     },
     "execution_count": 8,
     "metadata": {},
     "output_type": "execute_result"
    }
   ],
   "source": [
    "A=(3,7,3);B=(4,5,7);\n",
    "Cruz(A,B)"
   ]
  },
  {
   "cell_type": "code",
   "execution_count": null,
   "metadata": {},
   "outputs": [],
   "source": []
  }
 ],
 "metadata": {
  "kernelspec": {
   "display_name": "Julia 0.6.0",
   "language": "julia",
   "name": "julia-0.6"
  },
  "language_info": {
   "file_extension": ".jl",
   "mimetype": "application/julia",
   "name": "julia",
   "version": "0.6.0"
  }
 },
 "nbformat": 4,
 "nbformat_minor": 2
}
