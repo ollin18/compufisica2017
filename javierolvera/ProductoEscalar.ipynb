{
 "cells": [
  {
   "cell_type": "raw",
   "metadata": {},
   "source": [
    "Este programa realiza el producto escalar entre dos vectores u y v."
   ]
  },
  {
   "cell_type": "code",
   "execution_count": 1,
   "metadata": {},
   "outputs": [
    {
     "data": {
      "text/plain": [
       "ProductoEscalar (generic function with 1 method)"
      ]
     },
     "execution_count": 1,
     "metadata": {},
     "output_type": "execute_result"
    }
   ],
   "source": [
    "function ProductoEscalar(u,v) # Creauna función para la operación producto escalar teniendo como parámetros dos vectores\n",
    "    if length(u)==length(v)   # Verifica que el tamaño de los vectores sea igual para poder proceder\n",
    "        p=0                   # Declara el valor inicial de la variabe de respuesta\n",
    "        for i in eachindex(u) # Establece una sumatoria desde 1 hasta el número de componentes de los vectores\n",
    "            p = p + u[i]*v[i] # Multiplica componente a componente y acumula los resultados\n",
    "        end\n",
    "        p                     # Imprime el resultado\n",
    "    else                      # Manda mensaje de error si no tienen el mismo tamaño los vectores\n",
    "        print(\"Error: Para realizar este producto es necesario que los vectores tengan el mismo tamaño\")\n",
    "    end\n",
    "end"
   ]
  },
  {
   "cell_type": "code",
   "execution_count": 2,
   "metadata": {},
   "outputs": [
    {
     "data": {
      "text/plain": [
       "4-element Array{Int64,1}:\n",
       " 1\n",
       " 2\n",
       " 3\n",
       " 4"
      ]
     },
     "execution_count": 2,
     "metadata": {},
     "output_type": "execute_result"
    }
   ],
   "source": [
    "# Declaración de vectores u y v\n",
    "u=[1,2,3,4]\n"
   ]
  },
  {
   "cell_type": "code",
   "execution_count": 3,
   "metadata": {},
   "outputs": [
    {
     "data": {
      "text/plain": [
       "4-element Array{Int64,1}:\n",
       " 1\n",
       " 2\n",
       " 3\n",
       " 4"
      ]
     },
     "execution_count": 3,
     "metadata": {},
     "output_type": "execute_result"
    }
   ],
   "source": [
    "v=[1,2,3,4]"
   ]
  },
  {
   "cell_type": "code",
   "execution_count": 4,
   "metadata": {},
   "outputs": [
    {
     "data": {
      "text/plain": [
       "30"
      ]
     },
     "execution_count": 4,
     "metadata": {},
     "output_type": "execute_result"
    }
   ],
   "source": [
    "#Mandar llamar la función creada para el producto escalar\n",
    "ProductoEscalar(u,v)"
   ]
  },
  {
   "cell_type": "code",
   "execution_count": 5,
   "metadata": {},
   "outputs": [
    {
     "data": {
      "text/plain": [
       "30"
      ]
     },
     "execution_count": 5,
     "metadata": {},
     "output_type": "execute_result"
    }
   ],
   "source": [
    "sum(u.*v) # Realiza la sumatoria de los elementos del vector resultante de multiplicar entrada a entrada los vectores u y v para verificar el funcionamiento de nuestra función. "
   ]
  },
  {
   "cell_type": "code",
   "execution_count": 6,
   "metadata": {},
   "outputs": [
    {
     "data": {
      "text/plain": [
       "3-element Array{Int64,1}:\n",
       " 1\n",
       " 2\n",
       " 3"
      ]
     },
     "execution_count": 6,
     "metadata": {},
     "output_type": "execute_result"
    }
   ],
   "source": [
    "# Declarando don nuevos vectores de diferente tamaño para comprobar que la función verifica este caso\n",
    "u=[1,2,3,4]\n",
    "v=[1,2,3]"
   ]
  },
  {
   "cell_type": "code",
   "execution_count": 7,
   "metadata": {},
   "outputs": [
    {
     "name": "stdout",
     "output_type": "stream",
     "text": [
      "Error: Para realizar este producto es necesario que los vectores tengan el mismo tamaño"
     ]
    }
   ],
   "source": [
    "ProductoEscalar(u,v)\n",
    "# Caso verificado"
   ]
  },
  {
   "cell_type": "code",
   "execution_count": 8,
   "metadata": {},
   "outputs": [
    {
     "ename": "LoadError",
     "evalue": "\u001b[91mDimensionMismatch(\"arrays could not be broadcast to a common size\")\u001b[39m",
     "output_type": "error",
     "traceback": [
      "\u001b[91mDimensionMismatch(\"arrays could not be broadcast to a common size\")\u001b[39m",
      "",
      "Stacktrace:",
      " [1] \u001b[1m_bcs1\u001b[22m\u001b[22m\u001b[1m(\u001b[22m\u001b[22m::Base.OneTo{Int64}, ::Base.OneTo{Int64}\u001b[1m)\u001b[22m\u001b[22m at \u001b[1m./broadcast.jl:70\u001b[22m\u001b[22m",
      " [2] \u001b[1m_bcs\u001b[22m\u001b[22m at \u001b[1m./broadcast.jl:63\u001b[22m\u001b[22m [inlined]",
      " [3] \u001b[1mbroadcast_shape\u001b[22m\u001b[22m at \u001b[1m./broadcast.jl:57\u001b[22m\u001b[22m [inlined] (repeats 2 times)",
      " [4] \u001b[1mbroadcast_indices\u001b[22m\u001b[22m at \u001b[1m./broadcast.jl:53\u001b[22m\u001b[22m [inlined]",
      " [5] \u001b[1mbroadcast_c\u001b[22m\u001b[22m at \u001b[1m./broadcast.jl:311\u001b[22m\u001b[22m [inlined]",
      " [6] \u001b[1mbroadcast\u001b[22m\u001b[22m\u001b[1m(\u001b[22m\u001b[22m::Function, ::Array{Int64,1}, ::Array{Int64,1}\u001b[1m)\u001b[22m\u001b[22m at \u001b[1m./broadcast.jl:434\u001b[22m\u001b[22m",
      " [7] \u001b[1minclude_string\u001b[22m\u001b[22m\u001b[1m(\u001b[22m\u001b[22m::String, ::String\u001b[1m)\u001b[22m\u001b[22m at \u001b[1m./loading.jl:515\u001b[22m\u001b[22m"
     ]
    }
   ],
   "source": [
    "sum(u.*v) # Para verificar que también la operación de broadcasting también manda señal de error."
   ]
  }
 ],
 "metadata": {
  "kernelspec": {
   "display_name": "Julia 0.6.0",
   "language": "julia",
   "name": "julia-0.6"
  },
  "language_info": {
   "file_extension": ".jl",
   "mimetype": "application/julia",
   "name": "julia",
   "version": "0.6.0"
  }
 },
 "nbformat": 4,
 "nbformat_minor": 2
}
