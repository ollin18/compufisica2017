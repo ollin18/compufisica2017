{
 "cells": [
  {
   "cell_type": "code",
   "execution_count": 1,
   "metadata": {},
   "outputs": [
    {
     "data": {
      "text/plain": [
       "Exponencialu (generic function with 1 method)"
      ]
     },
     "execution_count": 1,
     "metadata": {},
     "output_type": "execute_result"
    }
   ],
   "source": [
    "#4\n",
    "#Yo haré la función exponencial desde cero.\n",
    "function Exponencialu(N)\n",
    "    i = 1.0\n",
    "    k = 1.0\n",
    "    #Muy importante empezar la suma de los datos desde 1 ya que 0!=1 por lo que 1/0!=1 así que para el valor 0 es 1.\n",
    "    E = 1.0 #Ponemos que empiece desde 1.0\n",
    "    while N >= k\n",
    "        i = i*k\n",
    "        k += 1\n",
    "        E += 1/i #Es muy parecido a la función exponencial pero agregamos el detalle de invertir el dato obtenido.\n",
    "        end\n",
    "    println(E)\n",
    "end"
   ]
  },
  {
   "cell_type": "code",
   "execution_count": 2,
   "metadata": {},
   "outputs": [
    {
     "name": "stdout",
     "output_type": "stream",
     "text": [
      "2.7182818011463845\n"
     ]
    }
   ],
   "source": [
    "Exponencialu(10)"
   ]
  }
 ],
 "metadata": {
  "kernelspec": {
   "display_name": "Julia 0.6.0",
   "language": "julia",
   "name": "julia-0.6"
  },
  "language_info": {
   "file_extension": ".jl",
   "mimetype": "application/julia",
   "name": "julia",
   "version": "0.6.0"
  }
 },
 "nbformat": 4,
 "nbformat_minor": 2
}
