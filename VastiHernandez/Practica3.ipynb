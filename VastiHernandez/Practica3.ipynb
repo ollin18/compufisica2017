{
 "cells": [
  {
   "cell_type": "markdown",
   "metadata": {},
   "source": [
    "Siguiendo la siguiente serie\n",
    "\n",
    "$\\displaystyle{\\sum_{n=0}^{∞} i} = \\dfrac{{-1}^n}{2n+1} = \\dfrac {π}{4}$\n",
    "\n",
    "Escribe un programa que calcule diferentes aproximaciones de π para diferentes valores."
   ]
  },
  {
   "cell_type": "code",
   "execution_count": 1,
   "metadata": {},
   "outputs": [
    {
     "data": {
      "text/plain": [
       "PI (generic function with 1 method)"
      ]
     },
     "execution_count": 1,
     "metadata": {},
     "output_type": "execute_result"
    }
   ],
   "source": [
    "function PI(n)\n",
    "        pi=0 #Aquí se guardará cada resultado\n",
    "        co=0 \n",
    "        while n>=co #Este proceso se repetirá hasta que 'pi' llegue a \"n\"\n",
    "            pi=pi+((-1)^co)/(2co+1) #De esta manera se formará un ciclo, el cuál depende de los valores que irán cambiando\n",
    "            co+=1 #Además para que el ciclo siga se le sumará un valor de 1\n",
    "        end \n",
    "    print(4pi) #Imprimir, lo que dará lugar al resultado\n",
    "end"
   ]
  },
  {
   "cell_type": "code",
   "execution_count": 3,
   "metadata": {},
   "outputs": [
    {
     "name": "stdout",
     "output_type": "stream",
     "text": [
      "2.666666666666667"
     ]
    }
   ],
   "source": [
    "PI(1)"
   ]
  },
  {
   "cell_type": "code",
   "execution_count": 5,
   "metadata": {},
   "outputs": [
    {
     "name": "stdout",
     "output_type": "stream",
     "text": [
      "3.232315809405594"
     ]
    }
   ],
   "source": [
    "PI(10)\n"
   ]
  },
  {
   "cell_type": "code",
   "execution_count": 6,
   "metadata": {},
   "outputs": [
    {
     "name": "stdout",
     "output_type": "stream",
     "text": [
      "3.1425916543395442"
     ]
    }
   ],
   "source": [
    "PI(1000)"
   ]
  },
  {
   "cell_type": "code",
   "execution_count": 14,
   "metadata": {},
   "outputs": [
    {
     "name": "stdout",
     "output_type": "stream",
     "text": [
      "3.1416026534897203"
     ]
    }
   ],
   "source": [
    "PI(100000)"
   ]
  },
  {
   "cell_type": "code",
   "execution_count": 11,
   "metadata": {},
   "outputs": [
    {
     "name": "stdout",
     "output_type": "stream",
     "text": [
      "3.141592663589326"
     ]
    }
   ],
   "source": [
    "PI(100000000) "
   ]
  },
  {
   "cell_type": "code",
   "execution_count": null,
   "metadata": {},
   "outputs": [],
   "source": [
    "Se Puede observar que, cada vez que aumenta el valor, más es su aproximación a PI"
   ]
  }
 ],
 "metadata": {
  "kernelspec": {
   "display_name": "Julia 0.5.2",
   "language": "julia",
   "name": "julia-0.5"
  },
  "language_info": {
   "file_extension": ".jl",
   "mimetype": "application/julia",
   "name": "julia",
   "version": "0.5.2"
  }
 },
 "nbformat": 4,
 "nbformat_minor": 2
}
