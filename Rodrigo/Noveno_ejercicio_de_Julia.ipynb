{
 "cells": [
  {
   "cell_type": "markdown",
   "metadata": {},
   "source": [
    "# Suma de dos matrices cualesquiera en R2x2"
   ]
  },
  {
   "cell_type": "code",
   "execution_count": 1,
   "metadata": {},
   "outputs": [
    {
     "data": {
      "text/plain": [
       "Suma_matriz2x2 (generic function with 1 method)"
      ]
     },
     "execution_count": 1,
     "metadata": {},
     "output_type": "execute_result"
    }
   ],
   "source": [
    "function Suma_matriz2x2(A,B) #Se crea la funcion\n",
    "    if size(A)==size(B)==(2,2) #Se pide que las matrices tengan el mismo tamaño\n",
    "        R=zeros(size(A)) #Se crea un arreglo que contendra al resultado\n",
    "        for i ∈ 1:size(A)[1] #Se crea el for para cada elemento en los renglones de \"A\"\n",
    "            for j in 1:size(A)[2] #Se crea el for para cada elemento en las columnas de \"A\"\n",
    "                s=A[i,j]+B[i,j] #Se pide que cada ij-esimo elemento de \"A\" se sumara con su equivalente en \"B\"\n",
    "                R[i,j]=s #Se crea a \"s\" que colocará cada suma en la misma posición que estaba en \"A\" y en \"B\"\n",
    "            end\n",
    "        end\n",
    "        print(R) #Se pide que imprima \"R\" en la pantalla al terminar\n",
    "    else\n",
    "        print(\"Las dimensiones son diferentes\") #Se pide que imprima \"Las dimensiones son diferentes\" cuando las dimensiones no sean iguales\n",
    "    end\n",
    "end"
   ]
  },
  {
   "cell_type": "code",
   "execution_count": 3,
   "metadata": {},
   "outputs": [
    {
     "data": {
      "text/plain": [
       "2×2 Array{Int64,2}:\n",
       " 2  4\n",
       " 6  8"
      ]
     },
     "execution_count": 3,
     "metadata": {},
     "output_type": "execute_result"
    }
   ],
   "source": [
    "α = [3 6; 9 12]\n",
    "β = [2 4; 6 8]"
   ]
  },
  {
   "cell_type": "code",
   "execution_count": 4,
   "metadata": {},
   "outputs": [
    {
     "name": "stdout",
     "output_type": "stream",
     "text": [
      "[5.0 10.0; 15.0 20.0]"
     ]
    }
   ],
   "source": [
    "Suma_matriz2x2(α,β)"
   ]
  },
  {
   "cell_type": "markdown",
   "metadata": {},
   "source": [
    "# Suma de dos matrices en Rnxn"
   ]
  },
  {
   "cell_type": "code",
   "execution_count": 5,
   "metadata": {},
   "outputs": [
    {
     "data": {
      "text/plain": [
       "Suma_matriz (generic function with 1 method)"
      ]
     },
     "execution_count": 5,
     "metadata": {},
     "output_type": "execute_result"
    }
   ],
   "source": [
    "function Suma_matriz(A,B) #Se crea la funcion\n",
    "    if size(A)==size(B) #Se pide que el tamaño de las dos matrices sea el mismo \n",
    "        R=zeros(size(A)) #Se crea un arreglo de arreglos que vaya guardando el resultado\n",
    "        for i ∈ 1:size(A)[1] #Se crea el for para cada elemento en los renglones de \"A\"\n",
    "            for j in 1:size(A)[2] #Se crea el for para cada elemento en las columnas de \"A\"\n",
    "                s=A[i,j]+B[i,j] #Se pide que cada ij-esimo elemento de \"A\" se sumara con su equivalente en \"B\"\n",
    "                R[i,j]=s #Se crea a \"s\" que colocará cada suma en la misma posición que estaba en \"A\" y en \"B\"\n",
    "            end\n",
    "        end\n",
    "        print(R) #Se pide que imprima \"R\" en la pantalla al terminar\n",
    "    else\n",
    "        print(\"Las dimensiones son dierentes\") #Se pide que imprima en pantalla \"Las dimensiones son dierentes\"\n",
    "    end\n",
    "end"
   ]
  },
  {
   "cell_type": "code",
   "execution_count": 6,
   "metadata": {},
   "outputs": [
    {
     "data": {
      "text/plain": [
       "2×2 Array{Int64,2}:\n",
       " 1  2\n",
       " 3  4"
      ]
     },
     "execution_count": 6,
     "metadata": {},
     "output_type": "execute_result"
    }
   ],
   "source": [
    "α = [5 6; 7 8]\n",
    "β = [1 2; 3 4]"
   ]
  },
  {
   "cell_type": "code",
   "execution_count": 7,
   "metadata": {},
   "outputs": [
    {
     "name": "stdout",
     "output_type": "stream",
     "text": [
      "[6.0 8.0; 10.0 12.0]"
     ]
    }
   ],
   "source": [
    "Suma_matriz(α,β)"
   ]
  },
  {
   "cell_type": "code",
   "execution_count": null,
   "metadata": {},
   "outputs": [],
   "source": []
  }
 ],
 "metadata": {
  "kernelspec": {
   "display_name": "Julia 0.6.0",
   "language": "julia",
   "name": "julia-0.6"
  },
  "language_info": {
   "file_extension": ".jl",
   "mimetype": "application/julia",
   "name": "julia",
   "version": "0.6.0"
  }
 },
 "nbformat": 4,
 "nbformat_minor": 2
}
