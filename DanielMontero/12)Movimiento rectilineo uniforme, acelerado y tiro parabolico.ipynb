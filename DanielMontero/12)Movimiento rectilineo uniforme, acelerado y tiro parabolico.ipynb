{
 "cells": [
  {
   "cell_type": "markdown",
   "metadata": {},
   "source": [
    "# 12)Movimiento rectilíneo uniforme, acelerado y tiro parabólico"
   ]
  },
  {
   "cell_type": "markdown",
   "metadata": {},
   "source": [
    "## a)Movimiento rectilíneo uniforme"
   ]
  },
  {
   "cell_type": "markdown",
   "metadata": {},
   "source": [
    "Esta función se podrá utilizar a partir de los valores para un intervalo de tiempo y el espacio que hay entre estos tiempos, así como del valor que el usuario asigne a la velocidad usando $$d=v*t$$ para poder saber la distancia que ha recorrido un objeto en un tiempo determinado. El ciclo for usado en la función da el valor a cada distancia correspondiente a un tiempo. Finalmente la función escribe un archivo con los valores obtenidos y lo muestra en pantalla."
   ]
  },
  {
   "cell_type": "code",
   "execution_count": 4,
   "metadata": {},
   "outputs": [
    {
     "data": {
      "text/plain": [
       "mru (generic function with 1 method)"
      ]
     },
     "execution_count": 4,
     "metadata": {},
     "output_type": "execute_result"
    }
   ],
   "source": [
    "function mru(ti,tf,e,v)                        #Se crea la función con variables de ti(tiempo inicial), tf(tiempo final), e(intervalo entre valores de tiempo), v(velocidad constante).\n",
    "    t=(ti:e:tf)                                #Se crea el arreglo de tiempo con las variables dadas\n",
    "    d=zeros(t)                                 #Se crea el arreglo para almacenar las distancias con el tamaño de t\n",
    "    for i in eachindex(t)                      #Ciclo for para cada valor de t\n",
    "   d[i]=v*t[i]                                 #Cálculo de las distancias para cada índice\n",
    "        end                                    #Fin del ciclo for\n",
    "    writedlm(\"mrud.txt\", d)                    #Se escribe un archivo de las distancias obtenidas\n",
    "    readdlm(\"mrud.txt\")                        #Se lee y muestra el archivo en pantalla\n",
    "    end                                        #Finaliza la función"
   ]
  },
  {
   "cell_type": "code",
   "execution_count": 5,
   "metadata": {},
   "outputs": [
    {
     "data": {
      "text/plain": [
       "11×1 Array{Float64,2}:\n",
       "   0.0\n",
       "  20.0\n",
       "  40.0\n",
       "  60.0\n",
       "  80.0\n",
       " 100.0\n",
       " 120.0\n",
       " 140.0\n",
       " 160.0\n",
       " 180.0\n",
       " 200.0"
      ]
     },
     "execution_count": 5,
     "metadata": {},
     "output_type": "execute_result"
    }
   ],
   "source": [
    "mru(0,10,1,20)                                  #Prueba de la función"
   ]
  },
  {
   "cell_type": "markdown",
   "metadata": {},
   "source": [
    "## b)Movimiento uniformemente acelerado"
   ]
  },
  {
   "cell_type": "markdown",
   "metadata": {},
   "source": [
    "La función para el movimiento uniformemente acelerado(mua) se crea a partir de valores para cierto intervalo de tiempo, velocidad inicial y aceleración.\n",
    "Para cada distancia se utiliza$$\n",
    "\\textbf{d} = v_i*t +\\frac{at^2}{2}\n",
    "$$ \n",
    "Para la velocidad se usa $$v=v_i+at$$\n",
    "Y para cada índice de t, con un cilo for hay un valor asignado. Finalmente escribe archivos con los resultados y los imprime en pantalla."
   ]
  },
  {
   "cell_type": "code",
   "execution_count": 6,
   "metadata": {},
   "outputs": [
    {
     "data": {
      "text/plain": [
       "mua (generic function with 1 method)"
      ]
     },
     "execution_count": 6,
     "metadata": {},
     "output_type": "execute_result"
    }
   ],
   "source": [
    "function mua(ti,tf,e,vi,a)                       #Se crea la función con variables de ti(tiempo inicial), tf(tiempo final), e(intervalo entre valores de tiempo),vi(velocidad inicial), a(aceleración constante).\n",
    "    t=(ti:e:tf)                                  #Se crea el arreglo de tiempo con las variables dadas\n",
    "    d=zeros(t)                                   #Se crea el arreglo para almacenar las distancias con el tamaño de t\n",
    "    v=zeros(t)                                   #Se crea el arreglo para almacenar las distancias con el tamaño de t\n",
    "    for i in eachindex(t)                        #Ciclo for para cada valor de t\n",
    "        d[i]=vi*t[i]+((a*t[i]^2)/2)              #Cálculo de las distancias para cada índice \n",
    "        v[i]=vi+a*t[i]                           #Cálculo de las velocidades para cada índice\n",
    "        end                                      #Fin del ciclo for\n",
    "println(\"Distancias de t(i)\")                    #Imprime mensaje\n",
    "    writedlm(\"muad.txt\", d)                      #Se escribe un archivo de las distancias obtenidas\n",
    "  println(d)                                     #Muestra los resultados para las distancias\n",
    "    println(\"Velocidades de t(i)\")               #Imprime mensaje\n",
    "    writedlm(\"muav.txt\", v)                      #Se escribe un archivo de las velocidades obtenidas\n",
    "  println(v)                                     #Muestra los resultados para las velocidades\n",
    "    end                                          #Finaliza la función"
   ]
  },
  {
   "cell_type": "code",
   "execution_count": 7,
   "metadata": {},
   "outputs": [
    {
     "name": "stdout",
     "output_type": "stream",
     "text": [
      "Distancias de t(i)\n",
      "[0, 6, 14, 24, 36, 50, 66, 84, 104, 126, 150]\n",
      "Velocidades de t(i)\n",
      "[5, 7, 9, 11, 13, 15, 17, 19, 21, 23, 25]\n"
     ]
    }
   ],
   "source": [
    "mua(0,10,1,5,2)                                  #Prueba de la función"
   ]
  },
  {
   "cell_type": "markdown",
   "metadata": {},
   "source": [
    "## c)Tiro parabólico"
   ]
  },
  {
   "cell_type": "markdown",
   "metadata": {},
   "source": [
    "Para la función del tiro parabólico(tp) se requiere introducir los valores para intervalo de tiempo, velocidad inicial y ángulo de tiro. Así creando un arreglo de tiempo, uno de X y otro de Y con el mismo tamaño que el de tiempo, y se define la aceleración, que en este caso es la gravedad(9.81). Para calcular la velocidad se usa la fórmula siguiente:\n",
    "$$ v_icos(θ)+v_isen(θ) $$\n",
    "Y para la posición de X y de Y en cierto momento se utiliza:\n",
    "$$ \n",
    "x=v_icos(θ)t \n",
    "$$\n",
    "\n",
    "$$\n",
    "y=-\\frac{gt^2}{2}+v_isen(θ)t\n",
    "$$\n",
    "Al finalizar sus ciclos, escriben los datos dentro de un archivo y los envían a pantalla."
   ]
  },
  {
   "cell_type": "code",
   "execution_count": 8,
   "metadata": {},
   "outputs": [
    {
     "data": {
      "text/plain": [
       "tp (generic function with 1 method)"
      ]
     },
     "execution_count": 8,
     "metadata": {},
     "output_type": "execute_result"
    }
   ],
   "source": [
    "function tp(ti,tf,e,vi,θ)                  #Se crea la función con variables de ti(tiempo inicial), tf(tiempo final), e(intervalo entre valores de tiempo),vi(velocidad inicial), θ(ángulo de tiro).\n",
    "  t=(ti:e:tf)                              #Se crea el arreglo de tiempo con las variables dadas               \n",
    "    x=zeros(t)                             #Se crea el arreglo para almacenar la distancia recorrida en x con el tamaño de t\n",
    "    y=zeros(t)                             #Se crea el arreglo para almacenar la distancia recorrida en x con el tamaño de t\n",
    "    g=-9.81                                #Se da el valor a la gravedad\n",
    "    v = vi*cos(θ)+vi*sin(θ)                #Se define la velocidad dependiendo de las variables dadas\n",
    "    for i in eachindex(t)                  #Ciclo for para cada valor de t\n",
    "    x[i]=vi*cos(θ)*t[i]                    #Cálculo de la distancia recorrida horizontalmente en cada índice\n",
    "    y[i]=(-(1/2*g*t[i]^2)+vi*sin(θ)*t[i])  #Cálculo de la distancia recorrida verticalmente en cada índice\n",
    "        end                                #Fin del ciclo for\n",
    "    \n",
    "    println(\"Velocidad:\")                  #Imprime mensaje\n",
    "    writedlm(\"tpv.txt\", v)                 #Escribe un archivo con la velocidad resultante\n",
    "    println(v)                             #Se ve el resultado en pantalla\n",
    "    \n",
    "     println(\"Posiciones x de t(i):\")      #Imprime mensaje\n",
    "    writedlm(\"tpx.txt\", x)                 #Escribe un archivo con los valores de x resultantes\n",
    "    println(x)\n",
    "    \n",
    "     println(\"Posiciones y de t(i):\")      #Imprime mensaje\n",
    "    writedlm(\"tpy.txt\", y)                 #Escribe un archivo con los valores de y resultantes\n",
    "    println(y)                             #Se ve el resultado en pantalla\n",
    "    end                                    #Finaliza la función"
   ]
  },
  {
   "cell_type": "code",
   "execution_count": 9,
   "metadata": {},
   "outputs": [
    {
     "name": "stdout",
     "output_type": "stream",
     "text": [
      "Velocidad:\n",
      "7.0710678118654755\n",
      "Posiciones x de t(i):\n",
      "[3.53553, 7.07107, 10.6066, 14.1421, 17.6777, 21.2132, 24.7487, 28.2843, 31.8198, 35.3553]\n",
      "Posiciones y de t(i):\n",
      "[8.44053, 26.6911, 54.7516, 92.6221, 140.303, 197.793, 265.094, 342.204, 429.125, 525.855]\n"
     ]
    }
   ],
   "source": [
    "tp(1,10,1.0,5,π/4)                         #Prueba de la función"
   ]
  }
 ],
 "metadata": {
  "kernelspec": {
   "display_name": "Julia 0.6.0",
   "language": "julia",
   "name": "julia-0.6"
  },
  "language_info": {
   "file_extension": ".jl",
   "mimetype": "application/julia",
   "name": "julia",
   "version": "0.6.0"
  }
 },
 "nbformat": 4,
 "nbformat_minor": 2
}
