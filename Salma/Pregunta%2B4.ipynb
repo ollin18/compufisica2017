{
 "cells": [
  {
   "cell_type": "markdown",
   "metadata": {},
   "source": [
    "Siguiendo la siguiente serie  $\\displaystyle{\\sum_{n=0}^{∞}} \\dfrac{1}{n!} = e $  Escribe un programa que calcule diferentes aproximaciones de e para diferentes valores.  Apóyate en tu función factorial definida en la pregunta 2.\n"
   ]
  },
  {
   "cell_type": "code",
   "execution_count": 1,
   "metadata": {},
   "outputs": [
    {
     "data": {
      "text/plain": [
       "fact (generic function with 1 method)"
      ]
     },
     "execution_count": 1,
     "metadata": {},
     "output_type": "execute_result"
    }
   ],
   "source": [
    "function fact(N) #Usando la funcion de factorial\n",
    "factm=0 \n",
    "    if N==0 || N==1 \n",
    "     factm=1\n",
    "    else \n",
    "    factm=(N*(fact(N-1))) \n",
    "     end \n",
    "end"
   ]
  },
  {
   "cell_type": "code",
   "execution_count": 2,
   "metadata": {},
   "outputs": [
    {
     "data": {
      "text/plain": [
       "ne (generic function with 1 method)"
      ]
     },
     "execution_count": 2,
     "metadata": {},
     "output_type": "execute_result"
    }
   ],
   "source": [
    "function ne(n)\n",
    "        nume=1 #Esta variable es la que dara el resultado\n",
    "        co=1 #Este contador aumentara hasta alcanzar \"n\"\n",
    "        z=n #Este sera contador que va desde \"n\" hasta  0\n",
    "        while n>=co #El ciclo terminara cuando \"co\" sea mayor o igual que n\n",
    "            nume=Float64(nume+(1/fact(z))) #Aplicando la operacion de los inversos factoriales\n",
    "            co+=1 #el contador aumentara hasta que llegue a \"n\"\n",
    "            z-=1 #Aqui ira bajando hasta llegar a 0\n",
    "        end\n",
    "        print(Float64(nume)) #Imprime el resultado\n",
    "end"
   ]
  },
  {
   "cell_type": "code",
   "execution_count": 3,
   "metadata": {},
   "outputs": [
    {
     "name": "stdout",
     "output_type": "stream",
     "text": [
      "2.716666666666667"
     ]
    }
   ],
   "source": [
    "ne(5)"
   ]
  },
  {
   "cell_type": "code",
   "execution_count": 4,
   "metadata": {},
   "outputs": [
    {
     "name": "stdout",
     "output_type": "stream",
     "text": [
      "2.7182818284590455"
     ]
    }
   ],
   "source": [
    "ne(20)"
   ]
  },
  {
   "cell_type": "code",
   "execution_count": 5,
   "metadata": {},
   "outputs": [
    {
     "name": "stdout",
     "output_type": "stream",
     "text": [
      "2.7182818284590455"
     ]
    }
   ],
   "source": [
    "ne(65)"
   ]
  },
  {
   "cell_type": "code",
   "execution_count": 6,
   "metadata": {},
   "outputs": [
    {
     "data": {
      "text/plain": [
       "e = 2.7182818284590..."
      ]
     },
     "execution_count": 6,
     "metadata": {},
     "output_type": "execute_result"
    }
   ],
   "source": [
    "e"
   ]
  }
 ],
 "metadata": {
  "kernelspec": {
   "display_name": "Julia 0.5.2",
   "language": "julia",
   "name": "julia-0.5"
  },
  "language_info": {
   "file_extension": ".jl",
   "mimetype": "application/julia",
   "name": "julia",
   "version": "0.5.2"
  }
 },
 "nbformat": 4,
 "nbformat_minor": 2
}
