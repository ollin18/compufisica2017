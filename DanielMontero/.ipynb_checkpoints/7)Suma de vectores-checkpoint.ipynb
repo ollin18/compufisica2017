{
 "cells": [
  {
   "cell_type": "markdown",
   "metadata": {},
   "source": [
    "# 7)Suma de vectores "
   ]
  },
  {
   "cell_type": "markdown",
   "metadata": {},
   "source": [
    "### a)Suma de vectores en R^3"
   ]
  },
  {
   "cell_type": "markdown",
   "metadata": {},
   "source": [
    "La función para sumar vectores de tres componentes, se hace con un ciclo que suma cada valor según su índice con el otro vector.  El arreglo que da como resultado es igualmente un vector de 3 componentes."
   ]
  },
  {
   "cell_type": "code",
   "execution_count": 14,
   "metadata": {},
   "outputs": [],
   "source": [
    "u=[1,8,4]\n",
    "v=[1,2,6]; #Se definen los arreglos que serán sumados"
   ]
  },
  {
   "cell_type": "code",
   "execution_count": 40,
   "metadata": {},
   "outputs": [
    {
     "data": {
      "text/plain": [
       "sumaR3 (generic function with 1 method)"
      ]
     },
     "execution_count": 40,
     "metadata": {},
     "output_type": "execute_result"
    }
   ],
   "source": [
    "function sumaR3(u,v)   #Se define la función que se creará\n",
    "    z=[0,0,0]          #Se hace un arreglo de ceros que contendrá los valores resultantes \n",
    "    for i in 1:3       #Se hace el siguiente proceso 3 veces\n",
    "       z[i]=u[i]+v[i]  #cada índice de z cambia por la suma de los dos índices de u y v\n",
    "        end            #Fin del ciclo for\n",
    "    println(z)         #Se ve el resutado de z en pantalla\n",
    "    end                #Finaliza la función"
   ]
  },
  {
   "cell_type": "code",
   "execution_count": 37,
   "metadata": {},
   "outputs": [
    {
     "name": "stdout",
     "output_type": "stream",
     "text": [
      "[2, 10, 10]\n"
     ]
    }
   ],
   "source": [
    "sumaR3(u,v)             #Prueba de la función"
   ]
  },
  {
   "cell_type": "markdown",
   "metadata": {},
   "source": [
    "### a)Suma de vectores en R^n"
   ]
  },
  {
   "cell_type": "markdown",
   "metadata": {},
   "source": [
    "De forma parecida al anterior, esta función suma cada valor del vector según su índice, ahora permitiendo el tamaño que sea, ya que el arreglo vacío creado toma el mismo número de elementos que el vector dado(se mantiene la condición de que deban tener el mismo tamaño ambos vectores). Los vectores son asignados en un archivo cada uno. Estos archivos son leídos por la función y toman los valores de a y b, así son sumados y generan el nuevo arreglo \"z\" como vector resultante."
   ]
  },
  {
   "cell_type": "code",
   "execution_count": 73,
   "metadata": {},
   "outputs": [],
   "source": [
    "a=[1,8,4,1.1,7,9,9]             \n",
    "b=[1,2,6,0.2,0,1,2];          #Se definen dos vectores en Rn\n",
    "writedlm(\"a.txt\", a)          #Se escribe a en un archivo\n",
    "writedlm(\"b.txt\", b)          #Se escribe b en un archivo"
   ]
  },
  {
   "cell_type": "code",
   "execution_count": 74,
   "metadata": {},
   "outputs": [
    {
     "data": {
      "text/plain": [
       "sumaarchivos (generic function with 1 method)"
      ]
     },
     "execution_count": 74,
     "metadata": {},
     "output_type": "execute_result"
    }
   ],
   "source": [
    "function sumaRn(a,b)              #Se define la función que se creará\n",
    "     z=zeros(a)                   #Se hace un arreglo de ceros del tamaño del primer vector\n",
    "     if length(a)==length(b)      #Se comparan las dimensiones de los vectores\n",
    "       for i in eachindex(a)      #Inicia un ciclo for para cada índice de a, si ambos vectores son de la misma dimensión\n",
    "       z[i]=a[i]+b[i]             #Se suma cada índice respectivamente\n",
    "            end                   #Fin del ciclo for\n",
    "    println(z)                    #Aparece el valor de z en pantalla\n",
    "        else                      #si a y b no son iguales\n",
    "    println(\"Sus vectores deben tener las mismas dimensiones\") #aparece el mensaje\n",
    "        end                       #Fin del if\n",
    "    end                           #Finaliza la función\n",
    "\n",
    "function sumaarchivos()           #Función que usa archivos \n",
    "a= readdlm(\"a.txt\")               #Asigna el archivo de a como el vector1\n",
    " b=   readdlm(\"b.txt\")            #Asigna el archivo de b como el vector2\n",
    "    sumaRn(a,b)                   #Aplica la función anterior\n",
    "    end                           #Finaliza de la función"
   ]
  },
  {
   "cell_type": "code",
   "execution_count": 76,
   "metadata": {},
   "outputs": [
    {
     "name": "stdout",
     "output_type": "stream",
     "text": [
      "[2.0; 10.0; 10.0; 1.3; 7.0; 10.0; 11.0]\n"
     ]
    }
   ],
   "source": [
    "sumaarchivos()                    #Prueba de la función"
   ]
  }
 ],
 "metadata": {
  "kernelspec": {
   "display_name": "Julia 0.6.0",
   "language": "julia",
   "name": "julia-0.6"
  },
  "language_info": {
   "file_extension": ".jl",
   "mimetype": "application/julia",
   "name": "julia",
   "version": "0.6.0"
  }
 },
 "nbformat": 4,
 "nbformat_minor": 2
}
