{
 "cells": [
  {
   "cell_type": "markdown",
   "metadata": {},
   "source": [
    "<div class=\"alert alert-danger\" role=\"alert\">\n",
    "<h1>Ejercicios de programación en julia</h1>\n",
    "<h2>COMPUTACIÓN</h2>\n",
    "<h2>FÍSICA,FACULTAD DE CIENCIAS, UNAM </h2>\n",
    "<h3>JOAQUIN MIRANDA SANTIAGO</h3>\n",
    "</div>"
   ]
  },
  {
   "cell_type": "markdown",
   "metadata": {},
   "source": [
    "# Ejercicio 12\n",
    "## a) Movimiento rectilineo uniforme \n",
    "### ecuación \n",
    " $X =Vt$\n"
   ]
  },
  {
   "cell_type": "code",
   "execution_count": 13,
   "metadata": {},
   "outputs": [
    {
     "data": {
      "text/plain": [
       "MRU (generic function with 3 methods)"
      ]
     },
     "execution_count": 13,
     "metadata": {},
     "output_type": "execute_result"
    }
   ],
   "source": [
    "function MRU(v ,t)\n",
    "    X=zeros(t)\n",
    "    for i in eachindex(t)\n",
    "        X[i]=v*t[i]\n",
    "    end\n",
    "     S=hcat(t,X)\n",
    "    writedlm(\"MRU.csv\",S,'|') \n",
    "end\n",
    "        "
   ]
  },
  {
   "cell_type": "code",
   "execution_count": 14,
   "metadata": {},
   "outputs": [],
   "source": [
    "#ejemplo\n",
    "y =4 #m\n",
    "v = 10 #m/s\n",
    "t=collect(0:0.5:10);"
   ]
  },
  {
   "cell_type": "code",
   "execution_count": 15,
   "metadata": {},
   "outputs": [],
   "source": [
    "MRU(y,v ,t)"
   ]
  },
  {
   "cell_type": "code",
   "execution_count": 16,
   "metadata": {},
   "outputs": [
    {
     "data": {
      "text/plain": [
       "21×1 Array{Any,2}:\n",
       " \"0|4\"  \n",
       " \"5|4\"  \n",
       " \"10|4\" \n",
       " \"15|4\" \n",
       " \"20|4\" \n",
       " \"25|4\" \n",
       " \"30|4\" \n",
       " \"35|4\" \n",
       " \"40|4\" \n",
       " \"45|4\" \n",
       " \"50|4\" \n",
       " \"55|4\" \n",
       " \"60|4\" \n",
       " \"65|4\" \n",
       " \"70|4\" \n",
       " \"75|4\" \n",
       " \"80|4\" \n",
       " \"85|4\" \n",
       " \"90|4\" \n",
       " \"95|4\" \n",
       " \"100|4\""
      ]
     },
     "execution_count": 16,
     "metadata": {},
     "output_type": "execute_result"
    }
   ],
   "source": [
    "readdlm(\"MRU.csv\")"
   ]
  },
  {
   "cell_type": "markdown",
   "metadata": {},
   "source": [
    "## b)Movimiento uniformemete acelerado\n",
    "### formula\n",
    "$X=x_1 +v_ot+at^2/2$"
   ]
  },
  {
   "cell_type": "code",
   "execution_count": 25,
   "metadata": {},
   "outputs": [
    {
     "data": {
      "text/plain": [
       "MUA (generic function with 1 method)"
      ]
     },
     "execution_count": 25,
     "metadata": {},
     "output_type": "execute_result"
    }
   ],
   "source": [
    "function MUA(x,a,v ,t)# x es la posición inicial\n",
    "    X=zeros(t)\n",
    "    for i in eachindex(t)\n",
    "        X[i]=x +v*t[i]+(a*t[i]^2)/2\n",
    "    end\n",
    "     S=hcat(t,X)\n",
    "    writedlm(\"MUA.csv\",S,'|') \n",
    "end\n",
    "        "
   ]
  },
  {
   "cell_type": "code",
   "execution_count": 26,
   "metadata": {},
   "outputs": [],
   "source": [
    "# ejemplo\n",
    "x=3#m\n",
    "a=4#m/s^2\n",
    "v=3 #m/s\n",
    "t=collect(1:0.125:15);"
   ]
  },
  {
   "cell_type": "code",
   "execution_count": 27,
   "metadata": {},
   "outputs": [],
   "source": [
    "MUA(x,a,v,t)"
   ]
  },
  {
   "cell_type": "code",
   "execution_count": 28,
   "metadata": {},
   "outputs": [
    {
     "data": {
      "text/plain": [
       "113×1 Array{Any,2}:\n",
       " \"1|8\"             \n",
       " \"1.125|8.90625\"   \n",
       " \"1.25|9.875\"      \n",
       " \"1.375|10.90625\"  \n",
       " \"1.5|12\"          \n",
       " \"1.625|13.15625\"  \n",
       " \"1.75|14.375\"     \n",
       " \"1.875|15.65625\"  \n",
       " \"2|17\"            \n",
       " \"2.125|18.40625\"  \n",
       " \"2.25|19.875\"     \n",
       " \"2.375|21.40625\"  \n",
       " \"2.5|23\"          \n",
       " ⋮                 \n",
       " \"13.625|415.15625\"\n",
       " \"13.75|422.375\"   \n",
       " \"13.875|429.65625\"\n",
       " \"14|437\"          \n",
       " \"14.125|444.40625\"\n",
       " \"14.25|451.875\"   \n",
       " \"14.375|459.40625\"\n",
       " \"14.5|467\"        \n",
       " \"14.625|474.65625\"\n",
       " \"14.75|482.375\"   \n",
       " \"14.875|490.15625\"\n",
       " \"15|498\"          "
      ]
     },
     "execution_count": 28,
     "metadata": {},
     "output_type": "execute_result"
    }
   ],
   "source": [
    "readdlm(\"MUA.csv\")"
   ]
  },
  {
   "cell_type": "markdown",
   "metadata": {},
   "source": [
    "## Tiro parábolico\n",
    "## formulas:\n",
    "$$\n",
    "\\textbf{v} = v_0 cos(\\theta)\\hat{i} + v_0 sen(\\theta)\\hat{j}\n",
    "$$\n",
    "\n",
    "$$\n",
    "\\textbf{x} = (v_{0x}t+x_0)\\hat{i} + \\left(-\\frac{1}{2}gt^2+v_{0y}t+y_0\\right)\\hat{j}\n",
    "$$"
   ]
  },
  {
   "cell_type": "code",
   "execution_count": 34,
   "metadata": {},
   "outputs": [
    {
     "data": {
      "text/plain": [
       "tiro_p (generic function with 1 method)"
      ]
     },
     "execution_count": 34,
     "metadata": {},
     "output_type": "execute_result"
    }
   ],
   "source": [
    "function tiro_p(v_0,θ,t) #v_0 es ña velocidad inicial,θ es el angulo de tiro y t es el intervalo de tiempo\n",
    "    for i in eachindex(t)\n",
    "    X[i] = v_0*cos(θ)*t[i]\n",
    "    Y[i] = (-(1/2*9.81*t[i]^2)+v_0*sin(θ)*t[i])\n",
    "    end\n",
    "      g=hcat(X,Y)\n",
    "    writedlm(\"TPB.csv\",g,'|') \n",
    "end"
   ]
  },
  {
   "cell_type": "code",
   "execution_count": null,
   "metadata": {},
   "outputs": [],
   "source": [
    "readdlm(\"TPB.csv\")"
   ]
  }
 ],
 "metadata": {
  "kernelspec": {
   "display_name": "Julia 0.6.0",
   "language": "julia",
   "name": "julia-0.6"
  },
  "language_info": {
   "file_extension": ".jl",
   "mimetype": "application/julia",
   "name": "julia",
   "version": "0.6.0"
  }
 },
 "nbformat": 4,
 "nbformat_minor": 2
}
