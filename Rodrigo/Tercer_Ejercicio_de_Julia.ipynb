{
 "cells": [
  {
   "cell_type": "markdown",
   "metadata": {},
   "source": [
    "   # Hacer un programa que calcule diferentes aproximaciones de π"
   ]
  },
  {
   "cell_type": "code",
   "execution_count": 1,
   "metadata": {},
   "outputs": [
    {
     "data": {
      "text/plain": [
       "Sumapi (generic function with 1 method)"
      ]
     },
     "execution_count": 1,
     "metadata": {},
     "output_type": "execute_result"
    }
   ],
   "source": [
    "function Sumapi(n) #Se crea la función\n",
    "    if n>0 #Se pide que \"n\" sea mayo que 0\n",
    "        i=0 #Se establece un contador donde guardara la suma que se vaya ejecutando\n",
    "        k=0 #Se establece un contador que representara el valor que incrementará para que la suma se efectue con cada valor hasta \"n\"\n",
    "        while n>=k #Se pide como condición que \"k\" sea igual o menor que \"n\" para que se cumpla el ciclo\n",
    "            i=i+((-1)^k)/(2k+1) #Se suma al contador cada que \"k\" crece\n",
    "            k+=1 #Se le sumamos 1 a \"k\" para contiuar el ciclo\n",
    "            end \n",
    "        print(4i) #Pedimos que nos imprima \"i\" en pantalla una vez que el ciclo termine\n",
    "    else\n",
    "        print(\"No se puede ralizar\") #Pedimos que en caso de que \"n\" no sea positivo nos devuelva esta respuesta\n",
    "    end\n",
    "end"
   ]
  },
  {
   "cell_type": "code",
   "execution_count": 2,
   "metadata": {},
   "outputs": [
    {
     "name": "stdout",
     "output_type": "stream",
     "text": [
      "2.666666666666667"
     ]
    }
   ],
   "source": [
    "Sumapi(1)"
   ]
  },
  {
   "cell_type": "code",
   "execution_count": 3,
   "metadata": {},
   "outputs": [
    {
     "name": "stdout",
     "output_type": "stream",
     "text": [
      "2.9760461760461765"
     ]
    }
   ],
   "source": [
    "Sumapi(5)"
   ]
  },
  {
   "cell_type": "code",
   "execution_count": 4,
   "metadata": {},
   "outputs": [
    {
     "name": "stdout",
     "output_type": "stream",
     "text": [
      "3.232315809405594"
     ]
    }
   ],
   "source": [
    "Sumapi(10)"
   ]
  },
  {
   "cell_type": "code",
   "execution_count": 5,
   "metadata": {},
   "outputs": [
    {
     "name": "stdout",
     "output_type": "stream",
     "text": [
      "3.1611986129870506"
     ]
    }
   ],
   "source": [
    "Sumapi(50)"
   ]
  },
  {
   "cell_type": "code",
   "execution_count": 6,
   "metadata": {},
   "outputs": [
    {
     "name": "stdout",
     "output_type": "stream",
     "text": [
      "3.1514934010709914"
     ]
    }
   ],
   "source": [
    "Sumapi(100)"
   ]
  },
  {
   "cell_type": "code",
   "execution_count": 7,
   "metadata": {},
   "outputs": [
    {
     "name": "stdout",
     "output_type": "stream",
     "text": [
      "3.1425916543395442"
     ]
    }
   ],
   "source": [
    "Sumapi(1000) \n",
    "#Entre mas grande el valor de \"n\" mas de hacerca a π"
   ]
  },
  {
   "cell_type": "code",
   "execution_count": 8,
   "metadata": {},
   "outputs": [
    {
     "data": {
      "text/plain": [
       "π = 3.1415926535897..."
      ]
     },
     "execution_count": 8,
     "metadata": {},
     "output_type": "execute_result"
    }
   ],
   "source": [
    "π"
   ]
  },
  {
   "cell_type": "code",
   "execution_count": null,
   "metadata": {},
   "outputs": [],
   "source": []
  }
 ],
 "metadata": {
  "kernelspec": {
   "display_name": "Julia 0.6.0",
   "language": "julia",
   "name": "julia-0.6"
  },
  "language_info": {
   "file_extension": ".jl",
   "mimetype": "application/julia",
   "name": "julia",
   "version": "0.6.0"
  }
 },
 "nbformat": 4,
 "nbformat_minor": 2
}
