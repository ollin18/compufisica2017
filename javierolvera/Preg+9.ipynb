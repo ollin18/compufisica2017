{
 "cells": [
  {
   "cell_type": "markdown",
   "metadata": {},
   "source": [
    "a) Este programa obtiene la suma de dos matrices en $R2x2$ insertadas por el usuario."
   ]
  },
  {
   "cell_type": "code",
   "execution_count": 1,
   "metadata": {},
   "outputs": [
    {
     "data": {
      "text/plain": [
       "sumat (generic function with 1 method)"
      ]
     },
     "execution_count": 1,
     "metadata": {},
     "output_type": "execute_result"
    }
   ],
   "source": [
    "function sumat(A,B)\n",
    "    S=[A[1,1]+B[1,1] A[1,2]+B[1,2]; A[2,1]+B[2,1] A[2,2]+B[2,2]] #Crea la matriz suma, sumando los elementos en la misma posición de cada matriz\n",
    "    print(\"La suma de las matrices A y B es: $S\")\n",
    "end"
   ]
  },
  {
   "cell_type": "code",
   "execution_count": 2,
   "metadata": {},
   "outputs": [],
   "source": [
    "A=[1 2; 3 4]\n",
    "B=[4 5; 5 6];"
   ]
  },
  {
   "cell_type": "code",
   "execution_count": 3,
   "metadata": {},
   "outputs": [
    {
     "name": "stdout",
     "output_type": "stream",
     "text": [
      "La suma de las matrices A y B es: [5 7; 8 10]"
     ]
    }
   ],
   "source": [
    "sumat(A,B)"
   ]
  },
  {
   "cell_type": "markdown",
   "metadata": {},
   "source": [
    "b) Este programa obtiene la suma de matrices en $Rmxn$ leídos de un archivo de datos"
   ]
  },
  {
   "cell_type": "code",
   "execution_count": 11,
   "metadata": {},
   "outputs": [],
   "source": [
    "A = [1 2 3;3 4 5]\n",
    "B=[4 5 6;5 6 7];"
   ]
  },
  {
   "cell_type": "code",
   "execution_count": 12,
   "metadata": {},
   "outputs": [],
   "source": [
    "writedlm(\"matrizA.csv\", A, '|')"
   ]
  },
  {
   "cell_type": "code",
   "execution_count": 13,
   "metadata": {},
   "outputs": [],
   "source": [
    "writedlm(\"matrizB.csv\", B, '|')"
   ]
  },
  {
   "cell_type": "code",
   "execution_count": 14,
   "metadata": {},
   "outputs": [],
   "source": [
    "u = readdlm(\"matrizA.csv\", '|');"
   ]
  },
  {
   "cell_type": "code",
   "execution_count": 15,
   "metadata": {},
   "outputs": [],
   "source": [
    "v = readdlm(\"matrizB.csv\", '|');"
   ]
  },
  {
   "cell_type": "code",
   "execution_count": 16,
   "metadata": {},
   "outputs": [
    {
     "data": {
      "text/plain": [
       "sumatRmn (generic function with 1 method)"
      ]
     },
     "execution_count": 16,
     "metadata": {},
     "output_type": "execute_result"
    }
   ],
   "source": [
    "function  sumatRmn(u,v)\n",
    "    m=size(u)[1] #Guarda el número de filas\n",
    "    n=size(u)[2] #Guarda el número de columnas\n",
    "    if  size(u) ==  size(v) #Verifique se sean de las mismas dimensiones para poder sumarlas\n",
    "        S=u      #Asigna una matriz de respuesta del mismo tamaño que las tratadas\n",
    "        for i ∈ 1:m #Nos da un recorrido por las m filas\n",
    "            for j ∈ 1:n #Nos da un recorrido por las n columnas\n",
    "           S[i,j]=S[i,j]+v[i,j] #Nos general el i,j-ésimo elemento\n",
    "            end\n",
    "        end\n",
    "        print(\"La suma de las matrices es: $S\")\n",
    "    else\n",
    "        print(\"¡Error! Distintas dimensiones!\")\n",
    "    end\n",
    "end\n"
   ]
  },
  {
   "cell_type": "code",
   "execution_count": 17,
   "metadata": {},
   "outputs": [
    {
     "name": "stdout",
     "output_type": "stream",
     "text": [
      "La suma de las matrices es: [5.0 7.0 9.0; 8.0 10.0 12.0]"
     ]
    }
   ],
   "source": [
    "sumatRmn(u,v)"
   ]
  },
  {
   "cell_type": "markdown",
   "metadata": {},
   "source": [
    "Un ejemplo con matrices de distintas dimensiones:"
   ]
  },
  {
   "cell_type": "code",
   "execution_count": 18,
   "metadata": {},
   "outputs": [
    {
     "name": "stdout",
     "output_type": "stream",
     "text": [
      "¡Error! Distintas dimensiones!"
     ]
    }
   ],
   "source": [
    "A=[2 3;3 4]\n",
    "B=[1 2 3;3 1 2]\n",
    "writedlm(\"matrizA.csv\", A, '|')\n",
    "writedlm(\"matrizB.csv\", B, '|')\n",
    "u = readdlm(\"matrizA.csv\", '|')\n",
    "v = readdlm(\"matrizB.csv\", '|')\n",
    "sumatRmn(u,v)"
   ]
  }
 ],
 "metadata": {
  "kernelspec": {
   "display_name": "Julia 0.6.0",
   "language": "julia",
   "name": "julia-0.6"
  },
  "language_info": {
   "file_extension": ".jl",
   "mimetype": "application/julia",
   "name": "julia",
   "version": "0.6.0"
  }
 },
 "nbformat": 4,
 "nbformat_minor": 2
}
