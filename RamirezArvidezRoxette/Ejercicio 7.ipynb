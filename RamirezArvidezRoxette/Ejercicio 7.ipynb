{
 "cells": [
  {
   "cell_type": "markdown",
   "metadata": {},
   "source": [
    "a) Escribe un programa que sume dos vectores en  $ R^{3} $ , el usuario debe insertar las entradas de los vectores. "
   ]
  },
  {
   "cell_type": "markdown",
   "metadata": {},
   "source": [
    "Sbemmos que la suma de dos vectores en R^3 se define en la siguiente fórmula:"
   ]
  },
  {
   "cell_type": "markdown",
   "metadata": {},
   "source": [
    "$$ \\vec A + \\vec B = (a\\hat x+a\\hat y+a\\hat z)+(b\\hat x+b\\hat y+b\\hat z)= (a+b)\\hat x + (a+b)\\hat y + (a+b)\\hat z=\\vec C $$"
   ]
  },
  {
   "cell_type": "markdown",
   "metadata": {},
   "source": [
    "Generamos una función que opere estos vectores:"
   ]
  },
  {
   "cell_type": "code",
   "execution_count": 12,
   "metadata": {},
   "outputs": [
    {
     "name": "stderr",
     "output_type": "stream",
     "text": [
      "WARNING: Method definition SV3(Any, Any) in module Main at In[1]:2 overwritten at In[12]:2.\n"
     ]
    },
    {
     "data": {
      "text/plain": [
       "SV3 (generic function with 1 method)"
      ]
     },
     "execution_count": 12,
     "metadata": {},
     "output_type": "execute_result"
    }
   ],
   "source": [
    "function SV3(A,B) #Nombramos a la función SV3\n",
    "    if length(A)==length(B)==3 #Abrimos el condicional si las dimensiones del vector A son iguales a B, y las de B, necesriamente de 3, y por transición lllas dimensiones de A=3, entonces,\n",
    "        C=[0,0,0] #Creamos un arreglo de ceros donde se ubicarán los resultados de la función\n",
    "        for i in eachindex(A) #Para cada elemento se realiza la operación, renglón a renglón...\n",
    "            C[i]=(A[i]+B[i]) #Como está sealado arribael vector C es resultado de sumar A y B, esto es renglón a renglón\n",
    "            end #Terminamo el ciclo for\n",
    "        else #De no cumplirse la condición:\n",
    "        print(\"Error: en igualdad dimensiones o no son de dimensión=3\") #Imprime en pantalla el texto de rojo\n",
    "        end #Termina el condicional\n",
    "    print(C) #Imprime el valor de C que es el vector resultante de ser posible la operación\n",
    "    end #Termina la función"
   ]
  },
  {
   "cell_type": "code",
   "execution_count": 13,
   "metadata": {},
   "outputs": [
    {
     "data": {
      "text/plain": [
       "3-element Array{Int64,1}:\n",
       " 1\n",
       " 1\n",
       " 1"
      ]
     },
     "execution_count": 13,
     "metadata": {},
     "output_type": "execute_result"
    }
   ],
   "source": [
    "A=[1,2,34] #Estos vectores cumplen length(A)==length(B)==3\n",
    "B=[1,1,1]"
   ]
  },
  {
   "cell_type": "code",
   "execution_count": 14,
   "metadata": {},
   "outputs": [
    {
     "name": "stdout",
     "output_type": "stream",
     "text": [
      "[2,3,35]"
     ]
    }
   ],
   "source": [
    "SV3(A,B)"
   ]
  },
  {
   "cell_type": "code",
   "execution_count": 15,
   "metadata": {},
   "outputs": [
    {
     "data": {
      "text/plain": [
       "3-element Array{Int64,1}:\n",
       " 1\n",
       " 1\n",
       " 1"
      ]
     },
     "execution_count": 15,
     "metadata": {},
     "output_type": "execute_result"
    }
   ],
   "source": [
    "A=[1,34] #Estos vectores NO cumplen length(A)==length(B)==3 :'v\n",
    "B=[1,1,1]"
   ]
  },
  {
   "cell_type": "code",
   "execution_count": 16,
   "metadata": {},
   "outputs": [
    {
     "name": "stdout",
     "output_type": "stream",
     "text": [
      "Error: en igualdad dimensiones o no son de dimensión=3"
     ]
    },
    {
     "ename": "LoadError",
     "evalue": "UndefVarError: C not defined",
     "output_type": "error",
     "traceback": [
      "UndefVarError: C not defined",
      "",
      " in SV3(::Array{Int64,1}, ::Array{Int64,1}) at ./In[12]:10",
      " in include_string(::String, ::String) at ./loading.jl:441"
     ]
    }
   ],
   "source": [
    "SV3(A,B)"
   ]
  },
  {
   "cell_type": "markdown",
   "metadata": {},
   "source": [
    "b) Escribe  un programa que sume dos vectores en  $ R^{n} $  las entradas de los vectores deben leerse de un archivo de datos. (recuerda que esto solo tiene sentido si los vectores a sumar son de la misma dimensión)."
   ]
  },
  {
   "cell_type": "markdown",
   "metadata": {},
   "source": [
    "$$ \\vec A + \\vec B = (a_1,a_2,a_3,...,a_n)+(b_1,b_2,b_3,...,b_n)= [(a+b)_1 ,(a+b)_2 ,(a+b)_3,..., (a+b)_n] = \\vec C $$"
   ]
  },
  {
   "cell_type": "code",
   "execution_count": 7,
   "metadata": {},
   "outputs": [
    {
     "name": "stderr",
     "output_type": "stream",
     "text": [
      "WARNING: Method definition SVN(Any, Any) in module Main at In[4]:2 overwritten at In[7]:2.\n"
     ]
    },
    {
     "data": {
      "text/plain": [
       "SVN (generic function with 1 method)"
      ]
     },
     "execution_count": 7,
     "metadata": {},
     "output_type": "execute_result"
    }
   ],
   "source": [
    "function SVN(A,B)\n",
    "    if length(A)==length(B) #Abre el condicional, pues es necesario qu dimensions de A sean iguales a las dimensiones de B\n",
    "        t=length(A) #Creamos un arreglo de dimensiones A, pues sabemos ya que debe ser igual al de B\n",
    "        c= Array{Float64}(t) #Creamos un Vector que tenga el mismo tamaño que el de A, donde se establecerán los elementos resultantes de la operción\n",
    "        for i in eachindex(c) #A cada elemento le correponde la operación:\n",
    "            c[i]=(A[i]+B[i]) #Se hace la suma de cada elemento correspondiente con el elemento de B\n",
    "            end #Termina la función \"for\"\n",
    "        print(c) #Imprime el vector resultante u\n",
    "        else #demás de no cumplirse la condición\n",
    "        print(\"Son de distintas dimensiones bro :c\") #Imprime en la pantalla el mensaje en rojo\n",
    "        end #Termina el condicional\n",
    "    end #Termina la función :) "
   ]
  },
  {
   "cell_type": "code",
   "execution_count": 8,
   "metadata": {},
   "outputs": [
    {
     "data": {
      "text/plain": [
       "8-element Array{Int64,1}:\n",
       " 1\n",
       " 5\n",
       " 4\n",
       " 9\n",
       " 6\n",
       " 3\n",
       " 2\n",
       " 8"
      ]
     },
     "execution_count": 8,
     "metadata": {},
     "output_type": "execute_result"
    }
   ],
   "source": [
    "A=[7,4,1,8,6,5,1,9]\n",
    "B=[1,5,4,9,6,3,2,8]"
   ]
  },
  {
   "cell_type": "code",
   "execution_count": 9,
   "metadata": {},
   "outputs": [
    {
     "name": "stdout",
     "output_type": "stream",
     "text": [
      "[8.0,9.0,5.0,17.0,12.0,8.0,3.0,17.0]"
     ]
    }
   ],
   "source": [
    "SVN(A,B)"
   ]
  },
  {
   "cell_type": "code",
   "execution_count": null,
   "metadata": {},
   "outputs": [],
   "source": []
  },
  {
   "cell_type": "code",
   "execution_count": null,
   "metadata": {},
   "outputs": [],
   "source": []
  }
 ],
 "metadata": {
  "kernelspec": {
   "display_name": "Julia 0.5.2",
   "language": "julia",
   "name": "julia-0.5"
  },
  "language_info": {
   "file_extension": ".jl",
   "mimetype": "application/julia",
   "name": "julia",
   "version": "0.5.2"
  }
 },
 "nbformat": 4,
 "nbformat_minor": 2
}
