{
 "cells": [
  {
   "cell_type": "markdown",
   "metadata": {},
   "source": [
    "<div class=\"alert alert-success\" role=\"alert\">\n",
    "<h1>Programación en Julia: Notebook 7 </h1>\n",
    "<h2>Facultad de Ciencias, UNAM </h2>\n",
    "<h3>Joshua Briones Andrade || Compufísica </h3>\n",
    "</div>"
   ]
  },
  {
   "cell_type": "markdown",
   "metadata": {},
   "source": [
    "**a)** Escribe un programa que sume dos vectores en ℝ^3, se debe insertar las entradas de los vectores. "
   ]
  },
  {
   "cell_type": "markdown",
   "metadata": {},
   "source": [
    "Para este ejercicio vamos a utilizar la definición de la suma de vectores para ℝ^3 donde se suma componente con componente.  \n",
    "\n",
    "$$ \\vec A + \\vec B = (a\\hat x+a\\hat y+a\\hat z)+(b\\hat x+b\\hat y+b\\hat z)= (a+b)\\hat x + (a+b)\\hat y + (a+b)\\hat z=\\vec C $$"
   ]
  },
  {
   "cell_type": "code",
   "execution_count": 9,
   "metadata": {},
   "outputs": [
    {
     "data": {
      "text/plain": [
       "SumVec3 (generic function with 1 method)"
      ]
     },
     "execution_count": 9,
     "metadata": {},
     "output_type": "execute_result"
    }
   ],
   "source": [
    "function SumVec3(A,B)\n",
    "    if length(A)==length(B)\n",
    "        c=zeros(A)\n",
    "        for i ∈ eachindex(A)\n",
    "            c[i]=A[i]+B[i]\n",
    "        end\n",
    "        C=hcat(c[1],c[2],c[3])\n",
    "        C\n",
    "    else\n",
    "        \"No son de las mismas dimensiones compa, arre\"\n",
    "    end\n",
    "end"
   ]
  },
  {
   "cell_type": "code",
   "execution_count": 10,
   "metadata": {},
   "outputs": [
    {
     "data": {
      "text/plain": [
       "\"No son de las mismas dimensiones compa, arre\""
      ]
     },
     "execution_count": 10,
     "metadata": {},
     "output_type": "execute_result"
    }
   ],
   "source": [
    "#Caso DIFERENTES DIMENSIONES\n",
    "\n",
    "A=[1,2,3,4]; B=[1,1,1]\n",
    "SumVec3(A,B)"
   ]
  },
  {
   "cell_type": "code",
   "execution_count": 11,
   "metadata": {},
   "outputs": [
    {
     "data": {
      "text/plain": [
       "1×3 Array{Float64,2}:\n",
       " 2.0  3.0  35.0"
      ]
     },
     "execution_count": 11,
     "metadata": {},
     "output_type": "execute_result"
    }
   ],
   "source": [
    "#Caso MISMAS DIMENSIONES\n",
    "\n",
    "A=(1,2,34); B=(1,1,1)\n",
    "SumVec3(A,B)"
   ]
  },
  {
   "cell_type": "markdown",
   "metadata": {},
   "source": [
    "**b)** Escribe  un programa que sume dos vectores en ℝ^n las entradas de los vectores deben leerse de un archivo de datos. (recuerda que esto solo tiene sentido si los vectores a sumar son de la misma dimensión)"
   ]
  },
  {
   "cell_type": "markdown",
   "metadata": {},
   "source": [
    "$$ \\vec A + \\vec B = (a_1,a_2,a_3,...,a_n)+(b_1,b_2,b_3,...,b_n)= [(a+b)_1 ,(a+b)_2 ,(a+b)_3,..., (a+b)_n] = \\vec C $$"
   ]
  },
  {
   "cell_type": "code",
   "execution_count": 68,
   "metadata": {},
   "outputs": [
    {
     "data": {
      "text/plain": [
       "SumVec (generic function with 2 methods)"
      ]
     },
     "execution_count": 68,
     "metadata": {},
     "output_type": "execute_result"
    }
   ],
   "source": [
    "function SumVec(A,B)\n",
    "    if length(A)==length(B)\n",
    "        c=zeros(A)\n",
    "        for i ∈ eachindex(A)\n",
    "            c[i]=A[i]+B[i]\n",
    "        end\n",
    "        C=c[1:length(A)]\n",
    "        C'\n",
    "    else\n",
    "        \"No son de las mismas dimensiones compa, arre\"\n",
    "    end\n",
    "end"
   ]
  },
  {
   "cell_type": "code",
   "execution_count": 90,
   "metadata": {},
   "outputs": [
    {
     "data": {
      "text/plain": [
       "\"No son de las mismas dimensiones compa, arre\""
      ]
     },
     "execution_count": 90,
     "metadata": {},
     "output_type": "execute_result"
    }
   ],
   "source": [
    "#Caso DIFERENTES DIMENSIONES\n",
    "\n",
    "D=hcat(7,1,6,1); C=hcat(1,1,1)\n",
    "SumVec(A,C)"
   ]
  },
  {
   "cell_type": "code",
   "execution_count": 91,
   "metadata": {},
   "outputs": [
    {
     "data": {
      "text/plain": [
       "1×4 RowVector{Int64,Array{Int64,1}}:\n",
       " 2  3  5  1"
      ]
     },
     "execution_count": 91,
     "metadata": {},
     "output_type": "execute_result"
    }
   ],
   "source": [
    "#Caso MISMAS DIMENSIONES\n",
    "\n",
    "A=hcat(1,2,4,1); B=hcat(1,1,1,0)\n",
    "SumVec(A,B)"
   ]
  },
  {
   "cell_type": "code",
   "execution_count": 92,
   "metadata": {},
   "outputs": [
    {
     "data": {
      "text/plain": [
       "3×4 Array{Float64,2}:\n",
       " 1.0  2.0  4.0  1.0\n",
       " 1.0  1.0  1.0  0.0\n",
       " 7.0  1.0  6.0  1.0"
      ]
     },
     "execution_count": 92,
     "metadata": {},
     "output_type": "execute_result"
    }
   ],
   "source": [
    "T=vcat(A,B,D)\n",
    "writedlm(\"SumVec.csv\",T,'|')\n",
    "readdlm(\"SumVec.csv\",'|')"
   ]
  },
  {
   "cell_type": "code",
   "execution_count": 93,
   "metadata": {},
   "outputs": [
    {
     "data": {
      "text/plain": [
       "SumVec (generic function with 2 methods)"
      ]
     },
     "execution_count": 93,
     "metadata": {},
     "output_type": "execute_result"
    }
   ],
   "source": [
    "function SumVec(AB)\n",
    "    c=zeros(1,size(AB)[2])\n",
    "    for i ∈ 1:size(AB)[2]\n",
    "        s=0\n",
    "        j=1\n",
    "        for m ∈ 1:size(AB)[1]\n",
    "        s=s+AB[j,i]\n",
    "        j=j+1 \n",
    "        end\n",
    "    c[i]=s\n",
    "    end\n",
    "C=c[1:length(A)]\n",
    "C'\n",
    "end"
   ]
  },
  {
   "cell_type": "code",
   "execution_count": 94,
   "metadata": {},
   "outputs": [
    {
     "data": {
      "text/plain": [
       "3×4 Array{Float64,2}:\n",
       " 1.0  2.0  4.0  1.0\n",
       " 1.0  1.0  1.0  0.0\n",
       " 7.0  1.0  6.0  1.0"
      ]
     },
     "execution_count": 94,
     "metadata": {},
     "output_type": "execute_result"
    }
   ],
   "source": [
    "readdlm(\"SumVec.csv\",'|')"
   ]
  },
  {
   "cell_type": "code",
   "execution_count": 95,
   "metadata": {},
   "outputs": [
    {
     "data": {
      "text/plain": [
       "1×4 RowVector{Float64,Array{Float64,1}}:\n",
       " 9.0  4.0  11.0  2.0"
      ]
     },
     "execution_count": 95,
     "metadata": {},
     "output_type": "execute_result"
    }
   ],
   "source": [
    "SumVec(readdlm(\"SumVec.csv\",'|'))"
   ]
  }
 ],
 "metadata": {
  "kernelspec": {
   "display_name": "Julia 0.6.0",
   "language": "julia",
   "name": "julia-0.6"
  },
  "language_info": {
   "file_extension": ".jl",
   "mimetype": "application/julia",
   "name": "julia",
   "version": "0.6.0"
  }
 },
 "nbformat": 4,
 "nbformat_minor": 2
}
