{
 "cells": [
  {
   "cell_type": "markdown",
   "metadata": {},
   "source": [
    "<div class=\"alert alert-success\" role=\"alert\">\n",
    "<h1>Programación en Julia: Notebook 9 </h1>\n",
    "<h2>Facultad de Ciencias, UNAM </h2>\n",
    "<h3>Joshua Briones Andrade || Compufísica </h3>\n",
    "</div>"
   ]
  },
  {
   "cell_type": "markdown",
   "metadata": {},
   "source": [
    "**a)** Sumar dos matrices en $ ℝ^{2x2} $, el usuario debe insertar las entradas de las \n",
    "matrices. "
   ]
  },
  {
   "cell_type": "markdown",
   "metadata": {},
   "source": [
    "Sean dos matrices $ A,B \\in m_{2x2} $ tales que la suma de las matrices es...\n",
    "\n",
    "$$ A_{2x2}+B_{2x2} = \n",
    "\\begin{pmatrix}\n",
    "a_{11} & a_{12} \\\\\n",
    "a_{21} & a_{22} \\\\\\end{pmatrix} \n",
    "+\n",
    "\\begin{pmatrix}\n",
    "b_{11} & b_{12}\\\\\n",
    "b_{21} & b_{22}\\\\\\end{pmatrix}=... $$ "
   ]
  },
  {
   "cell_type": "markdown",
   "metadata": {},
   "source": [
    "$$\n",
    "...=\\begin{pmatrix}\n",
    "a_{11}+b_{11} & a_{12}+b_{12}\\\\\n",
    "    a_{21}+b_{21} & a_{22}+b_{22}\\\\\\end{pmatrix}=C_{2x2} $$"
   ]
  },
  {
   "cell_type": "markdown",
   "metadata": {},
   "source": [
    "Para empezar vamos a definir los renglones i, j y un ciclo for que contenga a otro dentro de este para que recorra todos los componentes de la matriz."
   ]
  },
  {
   "cell_type": "code",
   "execution_count": 6,
   "metadata": {},
   "outputs": [
    {
     "data": {
      "text/plain": [
       "SumMat2 (generic function with 1 method)"
      ]
     },
     "execution_count": 6,
     "metadata": {},
     "output_type": "execute_result"
    }
   ],
   "source": [
    "function SumMat2(A,B)\n",
    "    n=size(A)\n",
    "    \n",
    "    if n !=size(B)\n",
    "        println(\"No se puede compa, no tienen las mismas dimensiones, saludos\")\n",
    "    else\n",
    "        C=zeros(A)\n",
    "        i=1\n",
    "        j=1\n",
    "        for h ∈ 1:2\n",
    "            for m ∈ 1:2\n",
    "            C[i,j]=A[i,j]+B[i,j]\n",
    "            i=i+1\n",
    "            end\n",
    "            i=1\n",
    "            j=j+1\n",
    "        end\n",
    "        C\n",
    "    end\n",
    "end      "
   ]
  },
  {
   "cell_type": "code",
   "execution_count": 7,
   "metadata": {},
   "outputs": [
    {
     "data": {
      "text/plain": [
       "2×2 Array{Int64,2}:\n",
       " 1  3\n",
       " 2  4"
      ]
     },
     "execution_count": 7,
     "metadata": {},
     "output_type": "execute_result"
    }
   ],
   "source": [
    "#Primer matriz cuadrada \"A\"\n",
    "A=hcat([1,2],[3,4])"
   ]
  },
  {
   "cell_type": "code",
   "execution_count": 8,
   "metadata": {},
   "outputs": [
    {
     "data": {
      "text/plain": [
       "2×2 Array{Int64,2}:\n",
       " 2  2\n",
       " 2  2"
      ]
     },
     "execution_count": 8,
     "metadata": {},
     "output_type": "execute_result"
    }
   ],
   "source": [
    "#Segunda matriz cuadrada \"B\"\n",
    "B=hcat([2,2],[2,2])"
   ]
  },
  {
   "cell_type": "code",
   "execution_count": 9,
   "metadata": {},
   "outputs": [
    {
     "data": {
      "text/plain": [
       "2×3 Array{Int64,2}:\n",
       " 2  2  3\n",
       " 2  2  3"
      ]
     },
     "execution_count": 9,
     "metadata": {},
     "output_type": "execute_result"
    }
   ],
   "source": [
    "#Ultima matriz \"C\"\n",
    "C=hcat([2,2],[2,2],[3,3])"
   ]
  },
  {
   "cell_type": "code",
   "execution_count": 10,
   "metadata": {},
   "outputs": [
    {
     "data": {
      "text/plain": [
       "2×2 Array{Int64,2}:\n",
       " 3  5\n",
       " 4  6"
      ]
     },
     "execution_count": 10,
     "metadata": {},
     "output_type": "execute_result"
    }
   ],
   "source": [
    "#Caso MISMAS DIMENSIONES\n",
    "\n",
    "SumMat2(A,B)"
   ]
  },
  {
   "cell_type": "code",
   "execution_count": 11,
   "metadata": {},
   "outputs": [
    {
     "name": "stdout",
     "output_type": "stream",
     "text": [
      "No se puede compa, no tienen las mismas dimensiones, saludos\n"
     ]
    }
   ],
   "source": [
    "#Caso DIFERENTES DIMENSIONES\n",
    "\n",
    "SumMat(A,C)"
   ]
  },
  {
   "cell_type": "markdown",
   "metadata": {},
   "source": [
    "**b)** Escribe  un programa que sume dos matrices en $ ℝ^{nxn} $, las entradas de las matrices deben leerse de un archivo. \n",
    "\n",
    "(Recuerda también que esto solo tiene sentido si las matrices a sumar son de la misma dimensión)"
   ]
  },
  {
   "cell_type": "markdown",
   "metadata": {},
   "source": [
    "Sean dos matrices $ A,B \\in m_{mxn} $ tales que la suma de las matrices es...\n",
    "\n",
    "$$ A_{mxn}+B_{mxn} = \n",
    "\\begin{pmatrix}\n",
    "a_{11} & a_{12} & \\dots & a_{1m}\\\\\n",
    "a_{21} & a_{22} & \\dots & a_{2m}\\\\\n",
    "\\vdots & \\vdots & \\ddots& \\vdots\\\\\n",
    "a_{n1} & a_{n2} & \\dots & a_{nm}\\\\\\end{pmatrix} \n",
    "+\n",
    "\\begin{pmatrix}\n",
    "b_{11} & b_{12} & \\dots & b_{1m}\\\\\n",
    "b_{21} & b_{22} & \\dots & b_{2m}\\\\\n",
    "\\vdots & \\vdots & \\ddots& \\vdots\\\\\n",
    "b_{n1} & a_{n2} & \\dots & a_{nm}\\\\\\end{pmatrix}=... $$ "
   ]
  },
  {
   "cell_type": "markdown",
   "metadata": {},
   "source": [
    "$$\n",
    "...=\\begin{pmatrix}\n",
    "a_{11}+b_{11} & a_{12}+b_{12} & \\dots & a_{1m}+b_{1m}\\\\\n",
    "a_{21}+b_{21} & a_{22}+b_{22} & \\dots & a_{2m}+b_{2m}\\\\\n",
    "\\vdots & \\vdots & \\ddots& \\vdots\\\\\n",
    "    a_{n1}+b_{n1} & a_{n2}+b_{n2} & \\dots & a_{nm}+b_{nm}\\\\\\end{pmatrix}=C_{mxn} $$"
   ]
  },
  {
   "cell_type": "markdown",
   "metadata": {},
   "source": [
    "Para el caso generalizado definimos los renglones i, j y un ciclo for que considere las dimesiones de las matrices para repetirse i o j veces, este contendra a otro dentro ciclo for para que recorra todos los componentes de la matriz.\n"
   ]
  },
  {
   "cell_type": "code",
   "execution_count": 1,
   "metadata": {},
   "outputs": [
    {
     "data": {
      "text/plain": [
       "SumMat (generic function with 1 method)"
      ]
     },
     "execution_count": 1,
     "metadata": {},
     "output_type": "execute_result"
    }
   ],
   "source": [
    "function SumMat(A,B)\n",
    "    n=size(A)\n",
    "    \n",
    "    if n !=size(B)\n",
    "        println(\"No se puede compa, no tienen las mismas dimensiones, saludos\")\n",
    "    else\n",
    "        C=zeros(A)\n",
    "        i=1\n",
    "        j=1\n",
    "        for h ∈ 1:n[2]\n",
    "            for m ∈ 1:n[1]\n",
    "            C[i,j]=A[i,j]+B[i,j]\n",
    "            i=i+1\n",
    "            end\n",
    "            i=1\n",
    "            j=j+1\n",
    "        end\n",
    "        C\n",
    "    end\n",
    "end      "
   ]
  },
  {
   "cell_type": "code",
   "execution_count": 2,
   "metadata": {},
   "outputs": [
    {
     "data": {
      "text/plain": [
       "5×5 Array{Int64,2}:\n",
       " 4  2  2  1  2\n",
       " 3  3  3  2  3\n",
       " 1  1  1  3  1\n",
       " 0  4  4  4  4\n",
       " 2  0  0  0  0"
      ]
     },
     "execution_count": 2,
     "metadata": {},
     "output_type": "execute_result"
    }
   ],
   "source": [
    "#Se define la primer matriz como un arreglo de vectores al que llamaremos A\n",
    "\n",
    "A = hcat(randcycle(5)-1,randcycle(5)-1,randcycle(5)-1,randcycle(5)-1,randcycle(5)-1)"
   ]
  },
  {
   "cell_type": "code",
   "execution_count": 3,
   "metadata": {},
   "outputs": [
    {
     "data": {
      "text/plain": [
       "5×5 Array{Int64,2}:\n",
       " 4  2  4  4  3\n",
       " 3  3  2  2  0\n",
       " 0  1  0  3  1\n",
       " 2  4  1  0  4\n",
       " 1  0  3  1  2"
      ]
     },
     "execution_count": 3,
     "metadata": {},
     "output_type": "execute_result"
    }
   ],
   "source": [
    "#Después definimos la segunda matriz como un arreglo de vectores que se llame B\n",
    "\n",
    "B = hcat(randcycle(5)-1,randcycle(5)-1,randcycle(5)-1,randcycle(5)-1,randcycle(5)-1)"
   ]
  },
  {
   "cell_type": "code",
   "execution_count": 4,
   "metadata": {},
   "outputs": [
    {
     "data": {
      "text/plain": [
       "5×6 Array{Int64,2}:\n",
       " 5  3  4  2  4  5\n",
       " 3  4  3  3  5  4\n",
       " 1  2  1  5  2  1\n",
       " 2  5  5  1  3  3\n",
       " 4  1  2  4  1  2"
      ]
     },
     "execution_count": 4,
     "metadata": {},
     "output_type": "execute_result"
    }
   ],
   "source": [
    "#Se define una tercera matriz como un arreglo de vectores de diferente tamaño a la matriz A y B\n",
    "\n",
    "C = hcat(randcycle(5),randcycle(5),randcycle(5),randcycle(5),randcycle(5),randcycle(5))"
   ]
  },
  {
   "cell_type": "code",
   "execution_count": 5,
   "metadata": {},
   "outputs": [
    {
     "data": {
      "text/plain": [
       "5×5 Array{Int64,2}:\n",
       " 8  4  6  5  5\n",
       " 6  6  5  4  3\n",
       " 1  2  1  6  2\n",
       " 2  8  5  4  8\n",
       " 3  0  3  1  2"
      ]
     },
     "execution_count": 5,
     "metadata": {},
     "output_type": "execute_result"
    }
   ],
   "source": [
    "#Caso MISMAS DIMENSIONES\n",
    "\n",
    "SumMat(A,B)"
   ]
  },
  {
   "cell_type": "code",
   "execution_count": 77,
   "metadata": {},
   "outputs": [
    {
     "name": "stdout",
     "output_type": "stream",
     "text": [
      "No se puede compa, no tienen las mismas dimensiones, saludos\n"
     ]
    }
   ],
   "source": [
    "#Caso DIFERENTES DIMENSIONES\n",
    "\n",
    "SumMat(A,C)"
   ]
  }
 ],
 "metadata": {
  "kernelspec": {
   "display_name": "Julia 0.6.0",
   "language": "julia",
   "name": "julia-0.6"
  },
  "language_info": {
   "file_extension": ".jl",
   "mimetype": "application/julia",
   "name": "julia",
   "version": "0.6.0"
  }
 },
 "nbformat": 4,
 "nbformat_minor": 2
}
