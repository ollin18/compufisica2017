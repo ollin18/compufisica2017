{
 "cells": [
  {
   "cell_type": "code",
   "execution_count": 1,
   "metadata": {},
   "outputs": [
    {
     "data": {
      "text/plain": [
       "EcCuad (generic function with 1 method)"
      ]
     },
     "execution_count": 1,
     "metadata": {},
     "output_type": "execute_result"
    }
   ],
   "source": [
    "function EcCuad(a,b,c) #Se define la funcion\n",
    "    x1=0.0 #Se establecen las dos soluciones de la ecuación cuadratica, denominadas x1 y x2\n",
    "    x2=0.0\n",
    "    if (b^2) - 4a*c >=0 #Se pide que si el resultado es mayor o igual a 0 efectue los calculos de abajo\n",
    "        x1=x1+(-b+sqrt((b^2) - 4a*c))/2a #Para el caso x1\n",
    "        x2=x2+(-b-sqrt((b^2) - 4a*c))/2a #Para el caso x2\n",
    "    end\n",
    "    if (b^2) - 4a*c < 0 #Se pide que si el resultado es menor que cero efectue los calculos de abajo\n",
    "        x1=x1+(-b+sqrt(complex((b^2) - 4a*c)))/2a #Para el caso x1\n",
    "        x2=x2+(-b-sqrt(complex((b^2) - 4a*c)))/2a #Para el caso x2\n",
    "    end\n",
    "    println(x1, x2) #Se pide que imprima en pantalla x1,x2\n",
    "end"
   ]
  },
  {
   "cell_type": "code",
   "execution_count": 4,
   "metadata": {},
   "outputs": [
    {
     "name": "stdout",
     "output_type": "stream",
     "text": [
      "-0.375 + 0.33071891388307384im-0.375 - 0.33071891388307384im\n"
     ]
    }
   ],
   "source": [
    "EcCuad(4,3,1)"
   ]
  },
  {
   "cell_type": "code",
   "execution_count": 5,
   "metadata": {},
   "outputs": [
    {
     "name": "stdout",
     "output_type": "stream",
     "text": [
      "0.125 - 0.4841229182759271im0.125 + 0.4841229182759271im\n"
     ]
    }
   ],
   "source": [
    "EcCuad(-4,1,-1)"
   ]
  },
  {
   "cell_type": "code",
   "execution_count": null,
   "metadata": {},
   "outputs": [],
   "source": []
  }
 ],
 "metadata": {
  "kernelspec": {
   "display_name": "Julia 0.6.0",
   "language": "julia",
   "name": "julia-0.6"
  },
  "language_info": {
   "file_extension": ".jl",
   "mimetype": "application/julia",
   "name": "julia",
   "version": "0.6.0"
  }
 },
 "nbformat": 4,
 "nbformat_minor": 2
}
