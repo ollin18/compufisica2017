{
 "cells": [
  {
   "cell_type": "markdown",
   "metadata": {},
   "source": [
    "<div class=\"alert alert-info\" role=\"alert\">\n",
    "<p class =\"lead\"> \n",
    "<h1> Producto Cruz de 2 Vectores </h1>\n",
    "<h3>Computación</h3> <h3>Física, Facultad de Ciencias. UNAM </h3>\n",
    "<h2>Ethan Campos Méndez</h2> </div>"
   ]
  },
  {
   "cell_type": "markdown",
   "metadata": {},
   "source": [
    "El producto cruz es:                $\\hat{u}$  x  $\\hat{v}$"
   ]
  },
  {
   "cell_type": "markdown",
   "metadata": {},
   "source": [
    "Entonces debemos de calcular el determinate de la matriz que se genera al multiplicar.\n",
    "Que sería equivalente a: \n",
    "$ \\hat{i}{({u_2*v_3+v_2*u_3})} -\\hat{j}{({u_1*v_3+v_1*u_3})} + \\hat {k}{({u_1*v_2+v_1*u_2})} $"
   ]
  },
  {
   "cell_type": "code",
   "execution_count": 13,
   "metadata": {},
   "outputs": [
    {
     "data": {
      "text/plain": [
       "ProdCruz (generic function with 2 methods)"
      ]
     },
     "execution_count": 13,
     "metadata": {},
     "output_type": "execute_result"
    }
   ],
   "source": [
    "function ProdCruz(u1,u2,u3,v1,v2,v3) #Insertaremos entrada por entrada\n",
    "        i = (u2*v3)-(v2*u3)\n",
    "        j = -(u1*v3)+(v1*u3)\n",
    "        k = (u1*v2)+(v1*u2)\n",
    "    println(\"El vector resultante es ($i,$j,$k)\")\n",
    "end"
   ]
  },
  {
   "cell_type": "code",
   "execution_count": 14,
   "metadata": {},
   "outputs": [
    {
     "name": "stdout",
     "output_type": "stream",
     "text": [
      "El vector resultante es (-4,8,16)\n"
     ]
    }
   ],
   "source": [
    "ProdCruz(1,2,3,5,6,7)"
   ]
  },
  {
   "cell_type": "code",
   "execution_count": null,
   "metadata": {},
   "outputs": [],
   "source": []
  }
 ],
 "metadata": {
  "kernelspec": {
   "display_name": "Julia 0.6.0",
   "language": "julia",
   "name": "julia-0.6"
  },
  "language_info": {
   "file_extension": ".jl",
   "mimetype": "application/julia",
   "name": "julia",
   "version": "0.6.0"
  }
 },
 "nbformat": 4,
 "nbformat_minor": 2
}
