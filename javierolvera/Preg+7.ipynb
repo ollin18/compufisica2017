{
 "cells": [
  {
   "cell_type": "markdown",
   "metadata": {},
   "source": [
    "a) Este programa suma dos vectores en $R^3$ insertados por el usuario  "
   ]
  },
  {
   "cell_type": "code",
   "execution_count": 3,
   "metadata": {},
   "outputs": [
    {
     "data": {
      "text/plain": [
       "sumavect (generic function with 1 method)"
      ]
     },
     "execution_count": 3,
     "metadata": {},
     "output_type": "execute_result"
    }
   ],
   "source": [
    "function sumavect(A,B) #Crea la función para suma de vectores\n",
    "    S=[A[1]+B[1],A[2]+B[2],A[3]+B[3]] #Suma componente a componente de los vectores\n",
    "    print(\"La suma de los vectores A y B es: $S\")\n",
    "end"
   ]
  },
  {
   "cell_type": "code",
   "execution_count": 4,
   "metadata": {},
   "outputs": [],
   "source": [
    "A=[1,2,3]\n",
    "B=[4,5,6];"
   ]
  },
  {
   "cell_type": "code",
   "execution_count": 5,
   "metadata": {},
   "outputs": [
    {
     "name": "stdout",
     "output_type": "stream",
     "text": [
      "La suma de los vectores A y B es: [5, 7, 9]"
     ]
    }
   ],
   "source": [
    "sumavect(A,B)"
   ]
  },
  {
   "cell_type": "markdown",
   "metadata": {},
   "source": [
    "b) Este programa suma dos vectores en $R^n$ leídos de un archivo de datos"
   ]
  },
  {
   "cell_type": "code",
   "execution_count": 6,
   "metadata": {},
   "outputs": [],
   "source": [
    "A = [1,2,3] #Declaramos dos vectores muestra\n",
    "B=[4,5,6];"
   ]
  },
  {
   "cell_type": "code",
   "execution_count": 5,
   "metadata": {},
   "outputs": [],
   "source": [
    "writedlm(\"vectorA.csv\", A, '|') #Se crea un archivo que contenta el primer vector que va a usarse"
   ]
  },
  {
   "cell_type": "code",
   "execution_count": 6,
   "metadata": {},
   "outputs": [],
   "source": [
    "writedlm(\"vectorB.csv\", B, '|') #Se crea un archivo que contenga el segundo vector que va ausarse"
   ]
  },
  {
   "cell_type": "code",
   "execution_count": 7,
   "metadata": {},
   "outputs": [
    {
     "name": "stdout",
     "output_type": "stream",
     "text": [
      "1\n",
      "2\n",
      "3\n"
     ]
    }
   ],
   "source": [
    ";cat vectorA.csv #Leemos los archivos para verificar que se crearon y escribieron"
   ]
  },
  {
   "cell_type": "code",
   "execution_count": 8,
   "metadata": {},
   "outputs": [
    {
     "name": "stdout",
     "output_type": "stream",
     "text": [
      "4\n",
      "5\n",
      "6\n"
     ]
    }
   ],
   "source": [
    ";cat vectorB.csv #Usamos un ; para poder insertar instrucciones de Linux"
   ]
  },
  {
   "cell_type": "code",
   "execution_count": 9,
   "metadata": {},
   "outputs": [
    {
     "data": {
      "text/plain": [
       "3×1 Array{Float64,2}:\n",
       " 1.0\n",
       " 2.0\n",
       " 3.0"
      ]
     },
     "execution_count": 9,
     "metadata": {},
     "output_type": "execute_result"
    }
   ],
   "source": [
    "u = readdlm(\"vectorA.csv\", '|') #Se leen los archivos guardando en variables lo leído"
   ]
  },
  {
   "cell_type": "code",
   "execution_count": 10,
   "metadata": {},
   "outputs": [
    {
     "data": {
      "text/plain": [
       "3×1 Array{Float64,2}:\n",
       " 4.0\n",
       " 5.0\n",
       " 6.0"
      ]
     },
     "execution_count": 10,
     "metadata": {},
     "output_type": "execute_result"
    }
   ],
   "source": [
    "v = readdlm(\"vectorB.csv\", '|')"
   ]
  },
  {
   "cell_type": "code",
   "execution_count": 13,
   "metadata": {},
   "outputs": [
    {
     "data": {
      "text/plain": [
       "sumaRn (generic function with 1 method)"
      ]
     },
     "execution_count": 13,
     "metadata": {},
     "output_type": "execute_result"
    }
   ],
   "source": [
    "function  sumaRn( u , v )   #Se crea la función que suma los vectores de longitud variable\n",
    "    if  length(u) ==  length(v)   #Se verifica que sean de la misma longitud ambos vectores para poder sumarse\n",
    "        S  = u         #Si sí, se crea un vector Suma del mismo tamaño que los vectores a sumar, en este caso igual a u \n",
    "        for i ∈ eachindex(u)  #Se usa la cantidad de índices que tengan los vectores tratados\n",
    "           S[i]=S[i]+v[i]     #Se crea el elemento i del vector S sumando componente a componente los vectores u y v\n",
    "        end\n",
    "        print(\"La suma de los vectores es: $S\")\n",
    "    else\n",
    "        print(\"¡Error! Distintas dimensiones!\") #En caso de no ser de la misma longitud se envía un mensaje de error\n",
    "    end\n",
    "end\n"
   ]
  },
  {
   "cell_type": "code",
   "execution_count": 14,
   "metadata": {},
   "outputs": [
    {
     "name": "stdout",
     "output_type": "stream",
     "text": [
      "La suma de los vectores es: [9.0; 12.0; 15.0]"
     ]
    }
   ],
   "source": [
    "sumaRn(u,v)"
   ]
  },
  {
   "cell_type": "markdown",
   "metadata": {},
   "source": [
    "Un ejemplo con vectores de distintas dimensiones:"
   ]
  },
  {
   "cell_type": "code",
   "execution_count": 15,
   "metadata": {},
   "outputs": [
    {
     "name": "stdout",
     "output_type": "stream",
     "text": [
      "¡Error! Distintas dimensiones!"
     ]
    }
   ],
   "source": [
    "A=[2,3]\n",
    "B=[1,2,3]\n",
    "writedlm(\"vectorA.csv\", A, '|')\n",
    "writedlm(\"vectorB.csv\", B, '|')\n",
    "u = readdlm(\"vectorA.csv\", '|')\n",
    "v = readdlm(\"vectorB.csv\", '|')\n",
    "sumaRn(u,v)"
   ]
  }
 ],
 "metadata": {
  "kernelspec": {
   "display_name": "Julia 0.6.0",
   "language": "julia",
   "name": "julia-0.6"
  },
  "language_info": {
   "file_extension": ".jl",
   "mimetype": "application/julia",
   "name": "julia",
   "version": "0.6.0"
  }
 },
 "nbformat": 4,
 "nbformat_minor": 2
}
