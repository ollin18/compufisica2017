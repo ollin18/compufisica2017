{
 "cells": [
  {
   "cell_type": "markdown",
   "metadata": {},
   "source": [
    "<div class=\"alert alert-success\" role=\"alert\">\n",
    " <h1> Pregunta 6</h1>\n",
    " <h2>Computación</h2>\n",
    " <h2>Física, Facultad de Ciencias. UNAM </h2>\n",
    " <h3>Fernanda Martínez Saldaña</h3>\n",
    " </div>"
   ]
  },
  {
   "cell_type": "markdown",
   "metadata": {},
   "source": [
    "En este programa se calculará el producto cruz de dos vectores en R^3"
   ]
  },
  {
   "cell_type": "markdown",
   "metadata": {},
   "source": [
    "Primero debemos declarar dos vectores con 3 componentes"
   ]
  },
  {
   "cell_type": "code",
   "execution_count": 8,
   "metadata": {},
   "outputs": [
    {
     "data": {
      "text/plain": [
       "3-element Array{Int64,1}:\n",
       " 4\n",
       " 2\n",
       " 1"
      ]
     },
     "execution_count": 8,
     "metadata": {},
     "output_type": "execute_result"
    }
   ],
   "source": [
    "A=[3,1,5] \n",
    "B=[4,2,1]"
   ]
  },
  {
   "cell_type": "markdown",
   "metadata": {},
   "source": [
    "La forma del producto cruz es la siguiente\n",
    "Ax=3\n",
    "Ay=1\n",
    "Az=0\n",
    "Bx=4\n",
    "By=0\n",
    "Bz=1\n",
    "Para i que en la función será x le denominamos Ay*Bz+Az*By\n",
    "Para -j que en la función será y tenemos que Ax*Bz-AzBx\n",
    "Para k que en la función será z tenemos que Ax*By-Ay*Bx\n"
   ]
  },
  {
   "cell_type": "markdown",
   "metadata": {},
   "source": [
    "Utilizaremos una función en donde se calculará el producto cruz"
   ]
  },
  {
   "cell_type": "code",
   "execution_count": 13,
   "metadata": {},
   "outputs": [
    {
     "data": {
      "text/plain": [
       "prodcruz (generic function with 1 method)"
      ]
     },
     "execution_count": 13,
     "metadata": {},
     "output_type": "execute_result"
    }
   ],
   "source": [
    "function prodcruz(A,B)   #Generamos una función de producto cruz\n",
    "    pcx=A[2]*B[3]-A[3]*B[2]  #Ponemos el orden en que deben ir las variables en x\n",
    "    pcy=-A[1]*B[3]+A[3]*B[1] #Ponemos el orden en que deben ir las variables en y\n",
    "    pcz=A[1]* B[2]-A[2]*B[1] #Ponemos el orden en que deben ir las variables en z\n",
    "    pc=[pcx,pcy,pcz]         #Entonces el producto cruz es el conjunto de pcx pcy y pcz\n",
    "    print(\"El producto cruz de los vectores A y B es: $pc\")   #Imprimimos resultado\n",
    "end     #Terminamos la función"
   ]
  },
  {
   "cell_type": "markdown",
   "metadata": {},
   "source": [
    "Probamos la función producto cruz"
   ]
  },
  {
   "cell_type": "code",
   "execution_count": 14,
   "metadata": {},
   "outputs": [
    {
     "name": "stdout",
     "output_type": "stream",
     "text": [
      "El producto cruz de los vectores A y B es: [-9, 17, 2]"
     ]
    }
   ],
   "source": [
    "prodcruz(A,B)"
   ]
  }
 ],
 "metadata": {
  "kernelspec": {
   "display_name": "Julia 0.6.0",
   "language": "julia",
   "name": "julia-0.6"
  },
  "language_info": {
   "file_extension": ".jl",
   "mimetype": "application/julia",
   "name": "julia",
   "version": "0.6.0"
  }
 },
 "nbformat": 4,
 "nbformat_minor": 2
}
