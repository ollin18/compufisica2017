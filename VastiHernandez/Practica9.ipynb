{
 "cells": [
  {
   "cell_type": "code",
   "execution_count": 31,
   "metadata": {},
   "outputs": [
    {
     "data": {
      "text/plain": [
       "SMatriz (generic function with 1 method)"
      ]
     },
     "execution_count": 31,
     "metadata": {},
     "output_type": "execute_result"
    }
   ],
   "source": [
    "function SMatriz(A,B) \n",
    "    if size(A)==size(B)==(2,2) \n",
    "        R=zeros(size(A)) #Este sera el resultado que sera del mismo tamaño que A\n",
    "        for i in 1:size(A)[1] #por cadaelemento del renglon 1 de A\n",
    "            for j in 1:size(A)[2] #por cadaelemento del renglon 2 de A\n",
    "                c=A[i,j]+B[i,j] #Y aqui sera por cada i y j esimo elemento de A en B\n",
    "                R[i,j]=c #Se colocan los resultados en cada renglon y columna \n",
    "            end\n",
    "        end\n",
    "        print(R) #Aquí le pedimos que imprima R en la pantalla\n",
    "    end\n",
    "end"
   ]
  },
  {
   "cell_type": "code",
   "execution_count": 32,
   "metadata": {},
   "outputs": [
    {
     "data": {
      "text/plain": [
       "2×2 Array{Int64,2}:\n",
       " 1  4\n",
       " 6  8"
      ]
     },
     "execution_count": 32,
     "metadata": {},
     "output_type": "execute_result"
    }
   ],
   "source": [
    "A=[1 4;6 8;]"
   ]
  },
  {
   "cell_type": "code",
   "execution_count": 33,
   "metadata": {},
   "outputs": [
    {
     "data": {
      "text/plain": [
       "2×2 Array{Int64,2}:\n",
       "  4  5\n",
       " -1  0"
      ]
     },
     "execution_count": 33,
     "metadata": {},
     "output_type": "execute_result"
    }
   ],
   "source": [
    "b=[4 5;-1 0;]"
   ]
  },
  {
   "cell_type": "code",
   "execution_count": 34,
   "metadata": {},
   "outputs": [
    {
     "name": "stdout",
     "output_type": "stream",
     "text": [
      "[5.0 9.0; 5.0 8.0]"
     ]
    }
   ],
   "source": [
    "SMatriz(A,b)"
   ]
  },
  {
   "cell_type": "code",
   "execution_count": 40,
   "metadata": {},
   "outputs": [
    {
     "data": {
      "text/plain": [
       "SMatrizn (generic function with 1 method)"
      ]
     },
     "execution_count": 40,
     "metadata": {},
     "output_type": "execute_result"
    }
   ],
   "source": [
    "function SMatrizn(A,B) \n",
    "    if size(A)==size(B) \n",
    "        R=zeros(size(A)) #Este sera el resultado que sera del mismo tamaño que A\n",
    "        for i in 1:size(A)[1] #por cadaelemento del renglon 1 de A\n",
    "            for j in 1:size(A)[2] #por cadaelemento del renglon 2 de A\n",
    "                c=A[i,j]+B[i,j] #Y aqui sera por cada i y j esimo elemento de A en B\n",
    "                R[i,j]=c #Se colocan los resultados en cada renglon y columna\n",
    "            end\n",
    "        end\n",
    "        print() #Aquí le pedimos que imprima R en la pantalla\n",
    "    end\n",
    "end"
   ]
  },
  {
   "cell_type": "code",
   "execution_count": 41,
   "metadata": {},
   "outputs": [
    {
     "data": {
      "text/plain": [
       "3×4 Array{Int64,2}:\n",
       " 8  4  23  1\n",
       " 4  8   1  1\n",
       " 7  1   6  5"
      ]
     },
     "execution_count": 41,
     "metadata": {},
     "output_type": "execute_result"
    }
   ],
   "source": [
    "g=[8 4 23 1;4 8 1 1;7 1 6 5]"
   ]
  },
  {
   "cell_type": "code",
   "execution_count": 42,
   "metadata": {},
   "outputs": [
    {
     "data": {
      "text/plain": [
       "3×4 Array{Int64,2}:\n",
       " 8  7   4  1\n",
       " 8  4  25  6\n",
       " 7  5   9  3"
      ]
     },
     "execution_count": 42,
     "metadata": {},
     "output_type": "execute_result"
    }
   ],
   "source": [
    "h=[8 7 4  1;8  4 25 6;7 5 9 3]"
   ]
  },
  {
   "cell_type": "code",
   "execution_count": 43,
   "metadata": {},
   "outputs": [
    {
     "name": "stdout",
     "output_type": "stream",
     "text": [
      "[16.0 11.0 27.0 2.0; 12.0 12.0 26.0 7.0; 14.0 6.0 15.0 8.0]"
     ]
    }
   ],
   "source": [
    "SMatrizn(g,h)"
   ]
  },
  {
   "cell_type": "code",
   "execution_count": 44,
   "metadata": {},
   "outputs": [
    {
     "data": {
      "text/plain": [
       "3×4 Array{Float64,2}:\n",
       " 16.0  11.0  27.0  2.0\n",
       " 12.0  12.0  26.0  7.0\n",
       " 14.0   6.0  15.0  8.0"
      ]
     },
     "execution_count": 44,
     "metadata": {},
     "output_type": "execute_result"
    }
   ],
   "source": [
    "l=[16.0 11.0 27.0 2.0; 12.0 12.0 26.0 7.0; 14.0 6.0 15.0 8.0]"
   ]
  },
  {
   "cell_type": "code",
   "execution_count": null,
   "metadata": {},
   "outputs": [],
   "source": []
  }
 ],
 "metadata": {
  "kernelspec": {
   "display_name": "Julia 0.6.0",
   "language": "julia",
   "name": "julia-0.6"
  },
  "language_info": {
   "file_extension": ".jl",
   "mimetype": "application/julia",
   "name": "julia",
   "version": "0.6.0"
  }
 },
 "nbformat": 4,
 "nbformat_minor": 2
}
