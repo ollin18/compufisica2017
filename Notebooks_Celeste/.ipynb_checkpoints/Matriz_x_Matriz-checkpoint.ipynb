{
 "cells": [
  {
   "cell_type": "markdown",
   "metadata": {},
   "source": [
    "<div class=\"alert alert-success\" role=\"alert\">\n",
    " <h1>Producto de Matriz por Matriz </h1>\n",
    " <h2>Computación</h2>\n",
    " <h2>Física, Facultad de Ciencias. UNAM </h2>\n",
    " <h3>Celeste Castro Granados</h3>\n",
    " </div>"
   ]
  },
  {
   "cell_type": "markdown",
   "metadata": {},
   "source": [
    "Vamos a escribir un programa que realice el producto de dos matrices:"
   ]
  },
  {
   "cell_type": "markdown",
   "metadata": {},
   "source": [
    "Para hacerlo, primero tenemos que dar una función que realice el producto interior, para poder usarla más adelante:"
   ]
  },
  {
   "cell_type": "code",
   "execution_count": 1,
   "metadata": {},
   "outputs": [
    {
     "data": {
      "text/plain": [
       "ProductoInt (generic function with 1 method)"
      ]
     },
     "execution_count": 1,
     "metadata": {},
     "output_type": "execute_result"
    }
   ],
   "source": [
    "function ProductoInt(u,v)\n",
    "    if length(u) == length(v) #Con esta línea nos aseguramos de que se efectúe sólo si los vectores son de la misma dimensión\n",
    "        p=0\n",
    "        for i in eachindex(u) #Aquí nos referimos a que el contador pase por cada índice del vector u\n",
    "            p = p +u[i]*v[i] #El producto va a ser igual a su valor anterior más el producto de la entrada i tanto en v como en u\n",
    "        end\n",
    "        p\n",
    "    else\n",
    "        println(\"u y v deben de ser del mismo tamaño\") #Esto va a imprimir en caso de que los vectores no sean de la misma dimensión\n",
    "    end\n",
    "end"
   ]
  },
  {
   "cell_type": "markdown",
   "metadata": {},
   "source": [
    "Teniendo esta, ahora si ya damos una función para multiplicar matriz por matriz:"
   ]
  },
  {
   "cell_type": "code",
   "execution_count": 2,
   "metadata": {},
   "outputs": [
    {
     "data": {
      "text/plain": [
       "matXmat (generic function with 1 method)"
      ]
     },
     "execution_count": 2,
     "metadata": {},
     "output_type": "execute_result"
    }
   ],
   "source": [
    "function matXmat(A,B)\n",
    "    renA = size(A)[1] #Estamos definiendo el renglón de A del tamaño de la columna de A\n",
    "    coluA = size(A)[2] #Estamos definiendo la columna de B del tamaño del renglón de A\n",
    "    renB = size(B)[1] #Lo mismo de arriba pero con B\n",
    "    coluB = size(B)[2] #Lo mismo de arriba pero con B   \n",
    "    renglonResult = [] #El renglón resultante está vacío al inicio\n",
    "    for renglonA in 1:renA #Decimos que para cada renglonA que vaya desde 1 hasta el tamaño del renA que definimos arriba \n",
    "        columnaResult = [] #Igualmente al principio la columna resultante está vacía \n",
    "        columnaResult = columnaResult'\n",
    "        for columnaB in 1:coluB\n",
    "            columnaResult=hcat(columnaResult,ProductoInt(A[renglonA,:],B[:,columnaB]))\n",
    "        end\n",
    "        renglonResult=vcat(renglonResult,columnaResult)\n",
    "    end\n",
    "    renglonResult\n",
    "end"
   ]
  }
 ],
 "metadata": {
  "kernelspec": {
   "display_name": "Julia 0.6.0",
   "language": "julia",
   "name": "julia-0.6"
  },
  "language_info": {
   "file_extension": ".jl",
   "mimetype": "application/julia",
   "name": "julia",
   "version": "0.6.0"
  }
 },
 "nbformat": 4,
 "nbformat_minor": 2
}
