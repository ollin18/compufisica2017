{
 "cells": [
  {
   "cell_type": "markdown",
   "metadata": {},
   "source": [
    "# 6)Producto cruz en R^3"
   ]
  },
  {
   "cell_type": "markdown",
   "metadata": {},
   "source": [
    "Para la función del producto cruz en R^3 se necesitan dos vectores que serán las variables para ésta. Al comprobar que los vectores pertenecen a R^3, se hace un arreglo de 3 componentes para almacenar la respuesta y se usa la operación correspondiente para el producto cruz:\n",
    "\n",
    "**_axb=(ay*bz-az*by)i+(az*bx-ax*bz)j+(ax*by-ay*bx)k_**\n",
    "\n",
    "El producto cruz resultante aparece dentro del arreglo creado en la función y se imprime en pantalla."
   ]
  },
  {
   "cell_type": "code",
   "execution_count": 25,
   "metadata": {},
   "outputs": [
    {
     "data": {
      "text/plain": [
       "3-element Array{Int64,1}:\n",
       " 9\n",
       " 5\n",
       " 1"
      ]
     },
     "execution_count": 25,
     "metadata": {},
     "output_type": "execute_result"
    }
   ],
   "source": [
    "a=[1,4,5]\n",
    "b=[9,5,1]                               #Se definen dos  vectores en R3 para aplicar en la función"
   ]
  },
  {
   "cell_type": "code",
   "execution_count": 26,
   "metadata": {},
   "outputs": [
    {
     "data": {
      "text/plain": [
       "productocruz (generic function with 1 method)"
      ]
     },
     "execution_count": 26,
     "metadata": {},
     "output_type": "execute_result"
    }
   ],
   "source": [
    "function productocruz(a,b)              #Se define la función con dos vectores como variables \n",
    "    if length(a)==length(b) == 3        #La función se ejecuta solo cuando a y b tienen 3 componentes\n",
    "    z=zeros(3)                          #Se hace un arreglo para almacenar el resultado\n",
    "    z=[(a[2]*b[3]-a[3]*b[2]),(a[3]*b[1]-a[1]*b[3]),(a[1]*b[2]-a[2]*b[1])]  #La operación matemática para el producto cruz en R3\n",
    "    println(z)                          #La respuesta aparece en pantalla\n",
    "        else println(\"Sus vectores deben tener 3 componentes\") #Si a y b son  de tamaño distinto a 3 aparece el mensaje\n",
    "        end                             #Fin del if\n",
    "        end                             #Finaliza la función"
   ]
  },
  {
   "cell_type": "code",
   "execution_count": 27,
   "metadata": {},
   "outputs": [
    {
     "name": "stdout",
     "output_type": "stream",
     "text": [
      "[-21, 44, -31]\n"
     ]
    }
   ],
   "source": [
    "productocruz(a,b)                       #Prueba de la función"
   ]
  }
 ],
 "metadata": {
  "kernelspec": {
   "display_name": "Julia 0.6.0",
   "language": "julia",
   "name": "julia-0.6"
  },
  "language_info": {
   "file_extension": ".jl",
   "mimetype": "application/julia",
   "name": "julia",
   "version": "0.6.0"
  }
 },
 "nbformat": 4,
 "nbformat_minor": 2
}
