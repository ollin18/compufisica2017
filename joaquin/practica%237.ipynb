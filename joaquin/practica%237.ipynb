{
 "cells": [
  {
   "cell_type": "markdown",
   "metadata": {},
   "source": [
    "<div class=\"alert alert-danger\" role=\"alert\">\n",
    "<h1>Ejercicios de programación en julia</h1>\n",
    "<h2>COMPUTACIÓN</h2>\n",
    "<h2>FÍSICA,FACULTAD DE CIENCIAS, UNAM </h2>\n",
    "<h3>JOAQUIN MIRANDA SANTIAGO</h3>\n",
    "</div>"
   ]
  },
  {
   "cell_type": "markdown",
   "metadata": {},
   "source": [
    "# Ejercicio 7\n",
    "## a) Escribe un programa que sume vectores en $R^3$\n",
    "#### los vectores se suman entrada por entrada.\n",
    "#### si\n",
    "$$\n",
    "\\hat{\\alpha} =(\\alpha_1,\\alpha_2,\\alpha_3)\n",
    "$$\n",
    "$$\n",
    "\\hat{\\beta} =(\\beta_1,\\beta_2,\\beta_3)\n",
    "$$\n",
    "#### entoces \n",
    "$$\n",
    "\\hat{\\alpha}+\\hat{\\beta} =(\\alpha_1+\\beta_1,\\alpha_2+\\beta_2,\\alpha_3+\\beta_3)\n",
    "$$\n"
   ]
  },
  {
   "cell_type": "code",
   "execution_count": 7,
   "metadata": {},
   "outputs": [
    {
     "data": {
      "text/plain": [
       "suma_de_vectores (generic function with 1 method)"
      ]
     },
     "execution_count": 7,
     "metadata": {},
     "output_type": "execute_result"
    }
   ],
   "source": [
    "function suma_de_vectores(a,b)\n",
    "     ϕ=zeros(a)\n",
    "    if length(a) ==3\n",
    "        if length(a)==length(b)\n",
    "            for i in 1:3\n",
    "                ϕ[i]= a[i]+b[i]\n",
    "            end\n",
    "            \n",
    "            println(\"el vector resultente es:\")\n",
    "    println(\"ϕ=\",ϕ)\n",
    "            else \n",
    "            println(\"error!, los vectores deben de ser del mismo tamaño\")\n",
    "        end\n",
    "        else \n",
    "        println(\"lo sentimos, el programa solo puede suamar vectores en R3 \")\n",
    "    end\n",
    "   \n",
    "end"
   ]
  },
  {
   "cell_type": "markdown",
   "metadata": {},
   "source": [
    "### ejemplos"
   ]
  },
  {
   "cell_type": "code",
   "execution_count": 8,
   "metadata": {},
   "outputs": [
    {
     "data": {
      "text/plain": [
       "3-element Array{Int64,1}:\n",
       " 3\n",
       " 2\n",
       " 1"
      ]
     },
     "execution_count": 8,
     "metadata": {},
     "output_type": "execute_result"
    }
   ],
   "source": [
    "a=[1,2,3]\n",
    "b=[3,2,1]"
   ]
  },
  {
   "cell_type": "code",
   "execution_count": 10,
   "metadata": {},
   "outputs": [
    {
     "name": "stdout",
     "output_type": "stream",
     "text": [
      "el vector resultente es:\n",
      "ϕ=[4, 4, 4]\n"
     ]
    }
   ],
   "source": [
    "suma_de_vectores(a,b)"
   ]
  },
  {
   "cell_type": "code",
   "execution_count": 11,
   "metadata": {},
   "outputs": [
    {
     "data": {
      "text/plain": [
       "2-element Array{Int64,1}:\n",
       " 1\n",
       " 2"
      ]
     },
     "execution_count": 11,
     "metadata": {},
     "output_type": "execute_result"
    }
   ],
   "source": [
    "c=[4,6,7]\n",
    "d=[1,2]"
   ]
  },
  {
   "cell_type": "code",
   "execution_count": 12,
   "metadata": {},
   "outputs": [
    {
     "name": "stdout",
     "output_type": "stream",
     "text": [
      "error!, los vectores deben de ser del mismo tamaño\n"
     ]
    }
   ],
   "source": [
    "suma_de_vectores(c,d)"
   ]
  },
  {
   "cell_type": "markdown",
   "metadata": {},
   "source": [
    "## b) Escribe un programa que sume dos vectores en $R^n$ las estradas de los vectores deben leerse de un archivo."
   ]
  },
  {
   "cell_type": "markdown",
   "metadata": {},
   "source": [
    "$$\n",
    "\\hat{\\alpha} =(\\alpha_1,\\alpha_2,\\alpha_3,...,\\alpha_n)\n",
    "$$\n",
    "$$\n",
    "\\hat{\\beta} =(\\beta_1,\\beta_2,\\beta_3,...,\\beta_n)\n",
    "$$\n",
    "#### las suma de $ \\hat{\\alpha} $ y $\\hat{\\beta}$ esta definida como:\n",
    "$$\n",
    "\\hat{\\alpha}+\\hat{\\beta} =(\\alpha_1+\\beta_1,\\alpha_2+\\beta_2,\\alpha_3+\\beta_3,...,\\alpha_n+\\beta_n)\n",
    "$$"
   ]
  },
  {
   "cell_type": "code",
   "execution_count": 2,
   "metadata": {},
   "outputs": [
    {
     "data": {
      "text/plain": [
       "suma_de_vectores (generic function with 1 method)"
      ]
     },
     "execution_count": 2,
     "metadata": {},
     "output_type": "execute_result"
    }
   ],
   "source": [
    "function suma_de_vectores(A,B)\n",
    "     C=zeros(A)\n",
    "        if length(A)==length(A)\n",
    "            for i in 1:length(A)\n",
    "                C[i]= A[i]+B[i]\n",
    "            end\n",
    "            \n",
    "            println(\"el vector resultente es:\")\n",
    "    println(\"C=\",C)\n",
    "        else \n",
    "            println(\"error!, los vectores deben de ser del mismo tamaño\")\n",
    "        end\n",
    "   \n",
    "end"
   ]
  },
  {
   "cell_type": "code",
   "execution_count": 1,
   "metadata": {},
   "outputs": [
    {
     "data": {
      "text/plain": [
       "5-element Array{Int64,1}:\n",
       " 5\n",
       " 4\n",
       " 3\n",
       " 2\n",
       " 1"
      ]
     },
     "execution_count": 1,
     "metadata": {},
     "output_type": "execute_result"
    }
   ],
   "source": [
    "#ejemplo\n",
    "A=[1,2,3,4,5]\n",
    "B=[5,4,3,2,1]"
   ]
  },
  {
   "cell_type": "code",
   "execution_count": 3,
   "metadata": {},
   "outputs": [
    {
     "name": "stdout",
     "output_type": "stream",
     "text": [
      "el vector resultente es:\n",
      "C=[6, 6, 6, 6, 6]\n"
     ]
    }
   ],
   "source": [
    "suma_de_vectores(A,B)"
   ]
  },
  {
   "cell_type": "code",
   "execution_count": null,
   "metadata": {},
   "outputs": [],
   "source": []
  }
 ],
 "metadata": {
  "kernelspec": {
   "display_name": "Julia 0.6.0",
   "language": "julia",
   "name": "julia-0.6"
  },
  "language_info": {
   "file_extension": ".jl",
   "mimetype": "application/julia",
   "name": "julia",
   "version": "0.6.0"
  }
 },
 "nbformat": 4,
 "nbformat_minor": 2
}
