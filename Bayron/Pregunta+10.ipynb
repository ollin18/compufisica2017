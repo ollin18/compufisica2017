{
 "cells": [
  {
   "cell_type": "code",
   "execution_count": 28,
   "metadata": {},
   "outputs": [
    {
     "data": {
      "text/plain": [
       "MatVec (generic function with 1 method)"
      ]
     },
     "execution_count": 28,
     "metadata": {},
     "output_type": "execute_result"
    }
   ],
   "source": [
    "function MatVec(mat,vec)\n",
    "    if size(mat)[2] == length(vec) #Necesitamos que el tamaño del renglon dea igual al del vector\n",
    "        R = zeros(size(mat)[1]) #Este sera el resultado con el tamaño de las columbas de A\n",
    "        for i in 1:size(mat)[1] #Las operaciones e haran en las columnas de A\n",
    "            l=0 #Esta variable guardara los elementos del renglon\n",
    "            for j in 1:size(mat)[2] #las operaciones del segundo renglon de A\n",
    "                m=mat[i,j]*vec[j] #Se multiplicara el ij(esimo) renglon de A por la del vector\n",
    "                l+=m #Y le sumamos a k m para que  valla guardando\n",
    "            end\n",
    "            R[i]=l #este es nuestro vector resultante\n",
    "        end\n",
    "        print(R) #Pedimos que imprima r\n",
    "    end\n",
    "end"
   ]
  },
  {
   "cell_type": "code",
   "execution_count": 16,
   "metadata": {},
   "outputs": [
    {
     "data": {
      "text/plain": [
       "3×3 Array{Int64,2}:\n",
       " 1  7  8\n",
       " 8  4  6\n",
       " 1  5  6"
      ]
     },
     "execution_count": 16,
     "metadata": {},
     "output_type": "execute_result"
    }
   ],
   "source": [
    "M=[1 7 8;8 4 6;1 5 6]"
   ]
  },
  {
   "cell_type": "code",
   "execution_count": 17,
   "metadata": {},
   "outputs": [
    {
     "data": {
      "text/plain": [
       "3-element Array{Int64,1}:\n",
       " 1\n",
       " 7\n",
       " 5"
      ]
     },
     "execution_count": 17,
     "metadata": {},
     "output_type": "execute_result"
    }
   ],
   "source": [
    "V=[1,7,5]"
   ]
  },
  {
   "cell_type": "code",
   "execution_count": 29,
   "metadata": {},
   "outputs": [
    {
     "name": "stdout",
     "output_type": "stream",
     "text": [
      "[90.0, 66.0, 66.0]"
     ]
    }
   ],
   "source": [
    "MatVec(M,V)"
   ]
  },
  {
   "cell_type": "code",
   "execution_count": 56,
   "metadata": {},
   "outputs": [
    {
     "data": {
      "text/plain": [
       "MulMatr (generic function with 1 method)"
      ]
     },
     "execution_count": 56,
     "metadata": {},
     "output_type": "execute_result"
    }
   ],
   "source": [
    "function MulMatr(A,B)\n",
    "    if size(A)[2]== size(B)[1] #El numero de columnas de A tiene que ser igual que de renglones de B\n",
    "        M= zeros(size(A)[1],size(B)[2]) #Creamos una matriz del tamaño de los renglones de A y las columnas de B\n",
    "        for i in 1:size(A)[1] #A cada numero de los renglones de A\n",
    "            l=1 #estas son las columnas de B\n",
    "            while l<=size(A)[1] #si l es menor o igual al tamaño de los renglones de A entonces x=0\n",
    "                x=0 #este es un contador y guarda el resultado de w\n",
    "                for j in 1:size(B)[1] #A cada numero de los renglones de B\n",
    "                    w=A[i,j]*B[j,l] #Y vamos multiplicando el i esimo con el j esimo \n",
    "                    x+=w #Se van sumando los resultados de w\n",
    "                end\n",
    "                Res[i,l]=x #Entonces x es cada iesimo del resultado\n",
    "                l+=1 #Y vamos aumentando uno para que valla recorriendo en la matriz\n",
    "            end\n",
    "        end\n",
    "        print(Res) #Imprimimos la matriz resultante\n",
    "    end\n",
    "end"
   ]
  },
  {
   "cell_type": "code",
   "execution_count": 58,
   "metadata": {},
   "outputs": [
    {
     "data": {
      "text/plain": [
       "3×3 Array{Int64,2}:\n",
       " 1  8  9\n",
       " 5  4  5\n",
       " 5  2  7"
      ]
     },
     "execution_count": 58,
     "metadata": {},
     "output_type": "execute_result"
    }
   ],
   "source": [
    "A= [1 8 9; 5 4 5; 5 2 7]"
   ]
  },
  {
   "cell_type": "code",
   "execution_count": 54,
   "metadata": {},
   "outputs": [
    {
     "name": "stdout",
     "output_type": "stream",
     "text": [
      "[115.0 103.0 34.0; 79.0 87.0 54.0; 81.0 97.0 56.0]"
     ]
    }
   ],
   "source": [
    "MulMatr(A,B)"
   ]
  },
  {
   "cell_type": "code",
   "execution_count": 53,
   "metadata": {},
   "outputs": [
    {
     "data": {
      "text/plain": [
       "3×3 Array{Int64,2}:\n",
       " 4  7  8\n",
       " 6  3  1\n",
       " 7  8  2"
      ]
     },
     "execution_count": 53,
     "metadata": {},
     "output_type": "execute_result"
    }
   ],
   "source": [
    "B=[4 7 8; 6 3 1;  7 8 2]"
   ]
  },
  {
   "cell_type": "code",
   "execution_count": null,
   "metadata": {},
   "outputs": [],
   "source": []
  }
 ],
 "metadata": {
  "kernelspec": {
   "display_name": "Julia 0.6.0",
   "language": "julia",
   "name": "julia-0.6"
  },
  "language_info": {
   "file_extension": ".jl",
   "mimetype": "application/julia",
   "name": "julia",
   "version": "0.6.0"
  }
 },
 "nbformat": 4,
 "nbformat_minor": 2
}
