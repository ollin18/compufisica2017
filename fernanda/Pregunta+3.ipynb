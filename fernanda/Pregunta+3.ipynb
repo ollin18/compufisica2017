{
 "cells": [
  {
   "cell_type": "markdown",
   "metadata": {},
   "source": [
    "<div class=\"alert alert-success\" role=\"alert\">\n",
    " <h1> Pregunta 3</h1>\n",
    " <h2>Computación</h2>\n",
    " <h2>Física, Facultad de Ciencias. UNAM </h2>\n",
    " <h3>Fernanda Martínez Saldaña</h3>\n",
    " </div>"
   ]
  },
  {
   "cell_type": "markdown",
   "metadata": {},
   "source": [
    "Vamos a calcular una aproximación $\\pi$ usando la serie de Leibniz:"
   ]
  },
  {
   "cell_type": "markdown",
   "metadata": {},
   "source": [
    "$\\displaystyle{\\sum_{n=0}^{\\infty} \\dfrac{(-1)^n}{2n+1}} = \\dfrac{\\pi}{4}$"
   ]
  },
  {
   "cell_type": "markdown",
   "metadata": {},
   "source": [
    "Usaremos una función llamada Leibniz que recibe el argumento N de aproximación ..."
   ]
  },
  {
   "cell_type": "code",
   "execution_count": 8,
   "metadata": {},
   "outputs": [
    {
     "name": "stderr",
     "output_type": "stream",
     "text": [
      "WARNING: Method definition Leibniz(Any) in module Main at In[6]:2 overwritten at In[8]:2.\n"
     ]
    },
    {
     "data": {
      "text/plain": [
       "Leibniz (generic function with 1 method)"
      ]
     },
     "execution_count": 8,
     "metadata": {},
     "output_type": "execute_result"
    }
   ],
   "source": [
    "function Leibniz(N)   #Generamos una función llamada Leibniz\n",
    "    s=0.0          #Le damos un valor inicial a la suma de 0\n",
    "    p=0.0             #Le damos un valor inicial a la potencia\n",
    "    for n ∈ 0:N       #Varía la variable contadora n desde o hasta N\n",
    "        s = s + ((Float64(big(((-1)^n))) / (Float64(big(2*n + 1))))) \n",
    "   #Sustituimos la serie de Leibniz en la función\n",
    "        p = 4*s   #La potencia será el 4 que está en la serie de Leibniz por la s que es la suma \n",
    "        end      #Terminamos el ciclo for\n",
    "    #print(p)\n",
    "    return p          #Al usar \"return\" dentro de la función, ésta regresa la variable como un producto de lo que haga la función. Así puedo asignarsela después a una variable fuera de la función.\n",
    " end              #Termina la función"
   ]
  },
  {
   "cell_type": "markdown",
   "metadata": {},
   "source": [
    "Se utiliza la función Float64 para evitar errores de división"
   ]
  },
  {
   "cell_type": "markdown",
   "metadata": {},
   "source": [
    "Usamos la función big con la finalidad de usar la mayor cantidad de cifras despues del punto decimal y así tener un mejor cálculo."
   ]
  },
  {
   "cell_type": "markdown",
   "metadata": {},
   "source": [
    "Ahora probemos la aproximación con nuestra función"
   ]
  },
  {
   "cell_type": "code",
   "execution_count": 9,
   "metadata": {},
   "outputs": [
    {
     "data": {
      "text/plain": [
       "3.1514934010709914"
      ]
     },
     "execution_count": 9,
     "metadata": {},
     "output_type": "execute_result"
    }
   ],
   "source": [
    "Leibniz(100)"
   ]
  },
  {
   "cell_type": "code",
   "execution_count": 10,
   "metadata": {},
   "outputs": [
    {
     "data": {
      "text/plain": [
       "3.1416926435905346"
      ]
     },
     "execution_count": 10,
     "metadata": {},
     "output_type": "execute_result"
    }
   ],
   "source": [
    "Leibniz(10000)"
   ]
  },
  {
   "cell_type": "code",
   "execution_count": null,
   "metadata": {},
   "outputs": [],
   "source": []
  }
 ],
 "metadata": {
  "kernelspec": {
   "display_name": "Julia 0.5.2",
   "language": "julia",
   "name": "julia-0.5"
  },
  "language_info": {
   "file_extension": ".jl",
   "mimetype": "application/julia",
   "name": "julia",
   "version": "0.5.2"
  }
 },
 "nbformat": 4,
 "nbformat_minor": 2
}
