{
 "cells": [
  {
   "cell_type": "markdown",
   "metadata": {},
   "source": [
    "Este programa calcula las soluciones de un polinomio de la forma: $ ax^2 + bx + c$, al proporcionar los coeficientes $a, b, c$."
   ]
  },
  {
   "cell_type": "code",
   "execution_count": 21,
   "metadata": {},
   "outputs": [
    {
     "data": {
      "text/plain": [
       "poli2 (generic function with 1 method)"
      ]
     },
     "execution_count": 21,
     "metadata": {},
     "output_type": "execute_result"
    }
   ],
   "source": [
    "function poli2(a,b,c)  #Crea una función para sacar las raíces de una ecuación cuadrática\n",
    "    disc=b^2-4*a*c     #Obtiene el valor del discriminante que nos ayudará a identificar los casos\n",
    "    if disc >= 0       #Los caso de raíces reales se pueden trabajar juntas \n",
    "        x1=(-b+sqrt(disc))/(2*a)  #Se hace uso de la fórmula general, primero con raíz positiva y luego negativa\n",
    "        x2=(-b-sqrt(disc))/(2*a)\n",
    "        print(\"Las raíces del polinomio dado son: x1=$x1 y x2=$x2\")\n",
    "    else\n",
    "        a1=-b/(2*a)   #Nos ayuda a obtener la parte real de ambas raíces complejas\n",
    "        b1=sqrt(-disc)/(2*a)   #Obtiene la parte imaginaria de la primera raíz, cambiando el sigo del discriminante\n",
    "        b2=-sqrt(-disc)/(2*a)  #Así es posible obtener la raíz\n",
    "        print(\"Las raíces del polinomio dado son: x1 = $a1 + $b1 i    y    x2 = $a1 + $b2 i\") #Concatena una i a las respuestas complejas\n",
    "    end\n",
    "end"
   ]
  },
  {
   "cell_type": "markdown",
   "metadata": {},
   "source": [
    "Ejemplo de raíces reales y diferentes:"
   ]
  },
  {
   "cell_type": "code",
   "execution_count": 22,
   "metadata": {},
   "outputs": [
    {
     "name": "stdout",
     "output_type": "stream",
     "text": [
      "Las raíces del polinomio dado son: x1=-1.0 y x2=-2.0"
     ]
    }
   ],
   "source": [
    "poli2(1,3,2)"
   ]
  },
  {
   "cell_type": "markdown",
   "metadata": {},
   "source": [
    "Ejemplo de raíces reales e iguales:"
   ]
  },
  {
   "cell_type": "code",
   "execution_count": 23,
   "metadata": {},
   "outputs": [
    {
     "name": "stdout",
     "output_type": "stream",
     "text": [
      "Las raíces del polinomio dado son: x1=-1.0 y x2=-1.0"
     ]
    }
   ],
   "source": [
    "poli2(1,2,1)"
   ]
  },
  {
   "cell_type": "markdown",
   "metadata": {},
   "source": [
    "Ejemplo de raíces complejas:"
   ]
  },
  {
   "cell_type": "code",
   "execution_count": 24,
   "metadata": {},
   "outputs": [
    {
     "name": "stdout",
     "output_type": "stream",
     "text": [
      "Las raíces del polinomio dado son: x1 = 0.0 + 2.0 i    y    x2 = 0.0 + -2.0 i"
     ]
    }
   ],
   "source": [
    "poli2(1,0,4)"
   ]
  }
 ],
 "metadata": {
  "kernelspec": {
   "display_name": "Julia 0.6.0",
   "language": "julia",
   "name": "julia-0.6"
  },
  "language_info": {
   "file_extension": ".jl",
   "mimetype": "application/julia",
   "name": "julia",
   "version": "0.6.0"
  }
 },
 "nbformat": 4,
 "nbformat_minor": 2
}
