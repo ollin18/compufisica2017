{
 "cells": [
  {
   "cell_type": "markdown",
   "metadata": {},
   "source": [
    "<div class=\"alert alert-success\" role=\"alert\">\n",
    " <h1>Pregunta 4</h1>\n",
    " <h2>Computación</h2>\n",
    " <h2>Física, Facultad de Ciencias. UNAM </h2>\n",
    " <h3>Fernanada Martínez Saldaña</h3>\n",
    " </div>"
   ]
  },
  {
   "cell_type": "markdown",
   "metadata": {},
   "source": [
    "Vamos a crear una función para calcular el factorial de un número, y con ella calcular una aproximación para el valor de e:"
   ]
  },
  {
   "cell_type": "markdown",
   "metadata": {},
   "source": [
    "$\\displaystyle{\\sum_{n=0}^{\\infty} \\dfrac{1}{n!}} = e$"
   ]
  },
  {
   "cell_type": "markdown",
   "metadata": {},
   "source": [
    "Usaremos una función llamada nfact que recibe el argumento N ..."
   ]
  },
  {
   "cell_type": "code",
   "execution_count": 4,
   "metadata": {},
   "outputs": [
    {
     "data": {
      "text/plain": [
       "nfact (generic function with 1 method)"
      ]
     },
     "execution_count": 4,
     "metadata": {},
     "output_type": "execute_result"
    }
   ],
   "source": [
    "function nfact(n)  #Generamos una función n\n",
    "    if n == 0      #Ponemos if ya que queremos que se cumpla la condición en la cual n tiene que ser igual a 0\n",
    "        1\n",
    "    else       #Ponemos else por si el valor de expresión es falso  \n",
    "        n * nfact(n-1)\n",
    "        end   #Termina el ciclo if\n",
    "end   #Termina la función\n"
   ]
  },
  {
   "cell_type": "markdown",
   "metadata": {},
   "source": [
    "Probamos la función nfact"
   ]
  },
  {
   "cell_type": "code",
   "execution_count": 5,
   "metadata": {},
   "outputs": [
    {
     "data": {
      "text/plain": [
       "120"
      ]
     },
     "execution_count": 5,
     "metadata": {},
     "output_type": "execute_result"
    }
   ],
   "source": [
    "nfact(5)"
   ]
  },
  {
   "cell_type": "markdown",
   "metadata": {},
   "source": [
    "Ahora usaremos unafunción llamada euler "
   ]
  },
  {
   "cell_type": "code",
   "execution_count": 6,
   "metadata": {},
   "outputs": [
    {
     "data": {
      "text/plain": [
       "euler (generic function with 1 method)"
      ]
     },
     "execution_count": 6,
     "metadata": {},
     "output_type": "execute_result"
    }
   ],
   "source": [
    "function euler(M)   #generamos una función para calcular las aproximaciones de e\n",
    "    e=0.0           #Le damos valor inicial a e de 0\n",
    "    \n",
    "    for n ∈ 0:M-1   #Varía la variable contadora n de o hasta M-1\n",
    "        e = e + ((Float64(big(1)))) / (Float64(big(nfact(n)))) #Sustituimos la expresión con la funció factorial\n",
    "        end      #Termina ciclo for\n",
    "    \n",
    "    print(\"La aproximación de e es $e\")  #Imprime el resultado\n",
    "    return     #\n",
    "    end          #Termina la función"
   ]
  },
  {
   "cell_type": "markdown",
   "metadata": {},
   "source": [
    "Ahora probemos la aproximación con nuestra función euler"
   ]
  },
  {
   "cell_type": "code",
   "execution_count": 7,
   "metadata": {},
   "outputs": [
    {
     "name": "stdout",
     "output_type": "stream",
     "text": [
      "La aproximación de e es 2.7166666666666663"
     ]
    }
   ],
   "source": [
    "euler(6)"
   ]
  },
  {
   "cell_type": "code",
   "execution_count": 8,
   "metadata": {},
   "outputs": [
    {
     "name": "stdout",
     "output_type": "stream",
     "text": [
      "La aproximación de e es 2.7182815255731922"
     ]
    }
   ],
   "source": [
    "euler(10)"
   ]
  }
 ],
 "metadata": {
  "kernelspec": {
   "display_name": "Julia 0.5.2",
   "language": "julia",
   "name": "julia-0.5"
  },
  "language_info": {
   "file_extension": ".jl",
   "mimetype": "application/julia",
   "name": "julia",
   "version": "0.5.2"
  }
 },
 "nbformat": 4,
 "nbformat_minor": 2
}
