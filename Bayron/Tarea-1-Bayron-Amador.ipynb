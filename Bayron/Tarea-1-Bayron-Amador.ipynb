{
 "cells": [
  {
   "cell_type": "markdown",
   "metadata": {},
   "source": [
    " # <font size=\"10\" color=\"darkred\">Tarea #1</font> <font size=\"3\" color=\"red\">Bayron Jesus Amador Lopez</font>\n",
    " ***"
   ]
  },
  {
   "cell_type": "markdown",
   "metadata": {},
   "source": [
    "## <font color='green'>¿Que es un sistema de punto flotante?</font>"
   ]
  },
  {
   "cell_type": "markdown",
   "metadata": {},
   "source": [
    "La coma o punto flotante surge de la necesidad de representar números reales y enteros con un rango de\n",
    "representación mayor que el que nos ofrece punto fijo. En la representación en coma flotante, se dividen los n\n",
    "bits disponibles para representar un dato, en 2 partes llamadas mantisa M y exponente E. Considerando que la\n",
    "mantisa tiene una longitud de p bits y que el exponente la tiene de q bits, se cumple que;\n",
    "<font size=\"3\" color=\"red\">n = p + q.</font>\n",
    "\n",
    "[Pagina consultada](http://ingenieriacusa.blogspot.mx/2011/09/3enp-metodos-numericos-punto-flotante.html)"
   ]
  },
  {
   "cell_type": "markdown",
   "metadata": {},
   "source": [
    "## <font color='green'>¿Qué diferencia existe entre un S.O. de 32 bits y de 64 bits?</font>\n"
   ]
  },
  {
   "cell_type": "markdown",
   "metadata": {},
   "source": [
    "+ Los procesadores de 32 bits son más baratos y consumen menos, pero también suelen ser menos potentes\n",
    "+ Los procesadores de 32 bits sólo pueden direccionar 4 GB de memoria. No pueden usar más de 4 GB de RAM directamente y en muchos casos no pueden manejar ficheros de más de 4 GB\n",
    "+ Los procesadores de 64 bits disponen de instrucciones específicas de 64 bits. Ejecutan los programas más rápido si el software está diseñado para usar código de 64 bits\n",
    "+ En el entorno móvil, las CPUs de 64 bits puede manejar más eficientemente la encriptación y gestionan mejor la batería\n",
    "+ Un procesador de 32 bits puede representar números desde 0 hasta 4,294,967,295\n",
    "+ Uno de 64 bits incrementará la capacidad logrando que se puedan representar números desde 0 hasta 18,446744,073,709,551,615"
   ]
  },
  {
   "cell_type": "markdown",
   "metadata": {},
   "source": [
    "![Bits](https://i.imgur.com/xv2EH8Y.jpg)\n",
    "[Paginda consultada](https://www.maestrodelacomputacion.net/diferencia-entre-32-y-64-bits/)"
   ]
  },
  {
   "cell_type": "markdown",
   "metadata": {},
   "source": [
    "## <font color='green'>¿Que es ALU?</font>"
   ]
  },
  {
   "cell_type": "markdown",
   "metadata": {},
   "source": [
    "Definimos genéricamente a la unidad ALU (por sus siglas en inglés Arithmetic Logic Unit) como una de las unidades que forman parte de la Unidad Central de Procesos (es decir, del Procesador, Microprocesador o CPU - Central Processor Unit, por sus siglas en inglés) mediante la cual es posible realizar una gran cantidad de operaciones aritméticas básicas (Suma, Resta, División y Multiplicación) además de realizar algunas operaciones Lógicas (Yes, Or, Not, And - Es decir, si; y, o, no) entre dos números o dos conjuntos de números.\n",
    "\n",
    "[Pagina Consultada](https://www.definicionabc.com/tecnologia/alu.php)"
   ]
  },
  {
   "cell_type": "markdown",
   "metadata": {},
   "source": [
    "## <font color='green'>Algoritmo y Estabilidad</font>"
   ]
  },
  {
   "cell_type": "markdown",
   "metadata": {},
   "source": [
    "En el subcampo matemático del análisis numérico, la estabilidad numérica es una propiedad de los algoritmos numéricos. Describe cómo los errores en los datos de entrada se propagan a través del algoritmo. En un método estable, los errores debidos a las aproximaciones se atenúan a medida que la computación procede. En un método inestable, cualquier error en el procesamiento se magnifica conforme el cálculo procede. Métodos inestables generan rápidamente anomalías y son inútiles para el procesamiento numérico.\n",
    "\n",
    "[Pagina consultada](https://es.wikipedia.org/wiki/Estabilidad_num%C3%A9rica)"
   ]
  },
  {
   "cell_type": "code",
   "execution_count": null,
   "metadata": {
    "collapsed": true
   },
   "outputs": [],
   "source": []
  }
 ],
 "metadata": {
  "kernelspec": {
   "display_name": "Julia 0.5.2",
   "language": "julia",
   "name": "julia-0.5"
  },
  "language_info": {
   "file_extension": ".jl",
   "mimetype": "application/julia",
   "name": "julia",
   "version": "0.5.2"
  }
 },
 "nbformat": 4,
 "nbformat_minor": 2
}
