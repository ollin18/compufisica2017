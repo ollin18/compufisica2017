{
 "cells": [
  {
   "cell_type": "markdown",
   "metadata": {},
   "source": [
    "### Martínez Ibarra Hugo\n",
    "***\n",
    "### Computación <p style=\"text-align:right\">Grupo 8381\n",
    "## <p style=\"color:darkblue;text-align:center\">Ejercicio #1"
   ]
  },
  {
   "cell_type": "markdown",
   "metadata": {},
   "source": [
    "a) Calcular el promedio de dos números a y b introducidos por el usuario."
   ]
  },
  {
   "cell_type": "code",
   "execution_count": 1,
   "metadata": {},
   "outputs": [],
   "source": [
    "#Primero se dan los dos número a y b.\n",
    "a=4\n",
    "b=2;"
   ]
  },
  {
   "cell_type": "code",
   "execution_count": 2,
   "metadata": {},
   "outputs": [
    {
     "data": {
      "text/plain": [
       "promedio (generic function with 1 method)"
      ]
     },
     "execution_count": 2,
     "metadata": {},
     "output_type": "execute_result"
    }
   ],
   "source": [
    "#Se define la función promedio que toma dos números como argumento y calcula el promedio entre ambos.\n",
    "function promedio(a,b)\n",
    "    (a+b)/2\n",
    "end"
   ]
  },
  {
   "cell_type": "code",
   "execution_count": 3,
   "metadata": {},
   "outputs": [
    {
     "data": {
      "text/plain": [
       "3.0"
      ]
     },
     "execution_count": 3,
     "metadata": {},
     "output_type": "execute_result"
    }
   ],
   "source": [
    "#Se pone a prueba el algoritmo.\n",
    "promedio(a,b)"
   ]
  },
  {
   "cell_type": "markdown",
   "metadata": {},
   "source": [
    "b) La suma desde 0 hasta un numero n introducido por el usuario. $$\\sum_{i=0}^{n} i$$"
   ]
  },
  {
   "cell_type": "code",
   "execution_count": 4,
   "metadata": {},
   "outputs": [
    {
     "name": "stdout",
     "output_type": "stream",
     "text": [
      "Iteración: 1  Suma: 1\n",
      "Iteración: 2  Suma: 3\n",
      "Iteración: 3  Suma: 6\n"
     ]
    }
   ],
   "source": [
    "#Con un ciclo for se define s como la variable que guardará el valor acumulado de la suma, k será la variable \"aditiva\"\n",
    "#aquella que adiciona a cada valor de la suma anterior, y se va actualizando una vez hecha cada operación; funge como la\n",
    "#adición consecutiva de los números naturales. Finalmente n es el parámetro que indica hasta cuáles primeros n números\n",
    "#naturales se desea la suma.\n",
    "\n",
    "#Primero se expresa, en el ciclo, que la siguiente secuencia de instrucciones se repetirá desde 1 hasta n veces.\n",
    "#La primera instrucción es que la suma se actualice como el resultado de sumar el valor anterior de s más el valor de k\n",
    "#(el siguiente número natural),y luego se pide que k sea aumentada una unidad; es decir, el siguiente número natural, y\n",
    "#así sucesivamente. Lo anterior mientras se imprime la iteración y valor de la suma actuales.\n",
    "\n",
    "s=0\n",
    "k=1\n",
    "n=3;\n",
    "\n",
    "for i ∈ 1:n\n",
    "    s=s+k\n",
    "    k=k+1\n",
    "    println(\"Iteración: \",i,\"  Suma: \",s)\n",
    "end"
   ]
  },
  {
   "cell_type": "code",
   "execution_count": 5,
   "metadata": {},
   "outputs": [
    {
     "name": "stdout",
     "output_type": "stream",
     "text": [
      "Iteración: 1  Suma: 1\n",
      "Iteración: 2  Suma: 3\n",
      "Iteración: 3  Suma: 6\n"
     ]
    }
   ],
   "source": [
    "#Otra forma es con un ciclo while, donde se define sum como la variable que guardará el valor acumulado de la suma, j como la variable aditiva que representará al numero natural siguiente en la suma y N como el parámetro que indica hasta cuáles primeros n números naturales se desea la suma.\n",
    "\n",
    "#El cilco while se condiciona a que se repitan las instrucciones en su interior siempre que N sea mayor que j; siempre que el número hasta el que se desea la suma (N) sea mayor que el último número natural sumado. Luego, se actualiza el número natural que se desea sumar, es decir se genera el número natural siguiente y se suma al valor anterior de la suma (sum). Lo anterior mientras se imprime la iteración y valor de la suma actuales.\n",
    "\n",
    "sum=0;\n",
    "N=3;\n",
    "j=0;\n",
    "\n",
    "while j<N\n",
    "    j=j+1\n",
    "    sum=sum+j\n",
    "    println(\"Iteración: \",j,\"  Suma: \",sum)\n",
    "end"
   ]
  },
  {
   "cell_type": "markdown",
   "metadata": {},
   "source": [
    "c) Calcular el factorial de un numero introducido por el usuario. Donde el factorial de un número se define como:\n",
    "$$n!=n*(n-1)*(n-2)...3*2*1$$"
   ]
  },
  {
   "cell_type": "code",
   "execution_count": 6,
   "metadata": {},
   "outputs": [
    {
     "data": {
      "text/plain": [
       "facto (generic function with 1 method)"
      ]
     },
     "execution_count": 6,
     "metadata": {},
     "output_type": "execute_result"
    }
   ],
   "source": [
    "#Se define la función factorial como una función recursiva, donde se comienza estableciendo que el factorial de 0 es 1; 0!=1 y después para cualquier otro número positivo como el producto del número del cual se desea su factorial por el factorial del número anterior, y al hacerse esto consecutivamente se llega hasta el factorial de cero y se detiene. Además existe una instrucción para advertir en caso de que se pretenda obtener el factorial de un número no positivo.\n",
    "\n",
    "function facto(r)\n",
    "    if r==0\n",
    "        1\n",
    "    elseif r>0\n",
    "        r*facto(r-1)\n",
    "    else\n",
    "        println(\"Es un número no positivo\")\n",
    "    end\n",
    "end"
   ]
  },
  {
   "cell_type": "code",
   "execution_count": 7,
   "metadata": {},
   "outputs": [
    {
     "data": {
      "text/plain": [
       "51090942171709440000"
      ]
     },
     "execution_count": 7,
     "metadata": {},
     "output_type": "execute_result"
    }
   ],
   "source": [
    "#Se pone a prueba el algoritmo.\n",
    "facto(big(21))"
   ]
  },
  {
   "cell_type": "markdown",
   "metadata": {},
   "source": [
    "d) Calcular la potencia de un numero a (introducido por el usuario) a la potencia b\n",
    "(también introducida por el usuario)"
   ]
  },
  {
   "cell_type": "code",
   "execution_count": 8,
   "metadata": {},
   "outputs": [],
   "source": [
    "#Se definen los número a (base) y b(exponente)\n",
    "a=2\n",
    "b=5;"
   ]
  },
  {
   "cell_type": "code",
   "execution_count": 9,
   "metadata": {},
   "outputs": [
    {
     "data": {
      "text/plain": [
       "pot (generic function with 1 method)"
      ]
     },
     "execution_count": 9,
     "metadata": {},
     "output_type": "execute_result"
    }
   ],
   "source": [
    "#Se define la función potencia al establecer primero la variable p como la variable que guardará el valor acumulado del producto, luego se define un ciclo for que efectuara el producto de a por el valor anterior de p, la instrucción anterior se repetirá b veces (el exponente de la base) y finalmente al terminar se imprimirá el valor último de p (la potencia: \"a\" a la \"b\").\n",
    "function pot(a,b)\n",
    "    p=1\n",
    "    for i ∈ 1:b\n",
    "        p=p*a\n",
    "    end\n",
    "    print(p)\n",
    "end"
   ]
  },
  {
   "cell_type": "code",
   "execution_count": 10,
   "metadata": {},
   "outputs": [
    {
     "name": "stdout",
     "output_type": "stream",
     "text": [
      "32"
     ]
    }
   ],
   "source": [
    "#Se pone a prueba el algoritmo.\n",
    "pot(a,b)"
   ]
  },
  {
   "cell_type": "code",
   "execution_count": null,
   "metadata": {},
   "outputs": [],
   "source": []
  }
 ],
 "metadata": {
  "kernelspec": {
   "display_name": "Julia 0.6.0",
   "language": "julia",
   "name": "julia-0.6"
  },
  "language_info": {
   "file_extension": ".jl",
   "mimetype": "application/julia",
   "name": "julia",
   "version": "0.6.0"
  }
 },
 "nbformat": 4,
 "nbformat_minor": 2
}
