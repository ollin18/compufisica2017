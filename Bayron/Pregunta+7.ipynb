{
 "cells": [
  {
   "cell_type": "markdown",
   "metadata": {},
   "source": [
    "a) Escribe un programa que sume dos vectores en  $ R^{3} $ , el usuario debe insertar las entradas de los vectores. "
   ]
  },
  {
   "cell_type": "code",
   "execution_count": 1,
   "metadata": {},
   "outputs": [
    {
     "data": {
      "text/plain": [
       "svect3 (generic function with 1 method)"
      ]
     },
     "execution_count": 1,
     "metadata": {},
     "output_type": "execute_result"
    }
   ],
   "source": [
    "function svect3(A,B)\n",
    "    if length(A)==length(B)==3 #El tamaño de los vectores debe ser 3\n",
    "        C=[0,0,0] #Creamos un vector para que de el resultado\n",
    "        for i in eachindex(A) #Se realizaran las operaciones renglon a renglon\n",
    "            C[i]=(A[i]+B[i]) #Esta es la operacion que se realizara por cada renglon \"i\"\n",
    "        end\n",
    "    else #Imprimimos en caso de que sus vectores no sean;\n",
    "        print(\"Tus vectores deben ser de tamaño 3\") \n",
    "    end\n",
    "    print(C) #Imprimimos el vector resultante\n",
    "end"
   ]
  },
  {
   "cell_type": "code",
   "execution_count": 2,
   "metadata": {},
   "outputs": [
    {
     "data": {
      "text/plain": [
       "3-element Array{Int64,1}:\n",
       " 5\n",
       " 5\n",
       " 5"
      ]
     },
     "execution_count": 2,
     "metadata": {},
     "output_type": "execute_result"
    }
   ],
   "source": [
    "y=[5,5,5]"
   ]
  },
  {
   "cell_type": "code",
   "execution_count": 3,
   "metadata": {},
   "outputs": [
    {
     "data": {
      "text/plain": [
       "3-element Array{Int64,1}:\n",
       " 5\n",
       " 5\n",
       " 5"
      ]
     },
     "execution_count": 3,
     "metadata": {},
     "output_type": "execute_result"
    }
   ],
   "source": [
    "x=[5,5,5]"
   ]
  },
  {
   "cell_type": "code",
   "execution_count": 4,
   "metadata": {},
   "outputs": [
    {
     "name": "stdout",
     "output_type": "stream",
     "text": [
      "[10,10,10]"
     ]
    }
   ],
   "source": [
    "svect3(x,y)"
   ]
  },
  {
   "cell_type": "markdown",
   "metadata": {},
   "source": [
    "b) Escribe  un programa que sume dos vectores en  $ R^{n} $  las entradas de los vectores deben leerse de un archivo de datos. (recuerda que esto solo tiene sentido si los vectores a sumar son de la misma dimensión)."
   ]
  },
  {
   "cell_type": "code",
   "execution_count": 5,
   "metadata": {},
   "outputs": [
    {
     "data": {
      "text/plain": [
       "svectorn (generic function with 1 method)"
      ]
     },
     "execution_count": 5,
     "metadata": {},
     "output_type": "execute_result"
    }
   ],
   "source": [
    "function svectorn(A,B)\n",
    "    if length(A)==length(B) #Esto es para comparar que los dos vestores tengan el mismo tamaño\n",
    "        t=length(A)\n",
    "        u= Array{Float64}(t) #Creamos un Vector que tenga el mismo tamaño que el de A\n",
    "        for i in eachindex(u) #Se hara la suma de cada componente del vector con el otro\n",
    "            u[i]=(A[i]+B[i]) #Se hara la suma de cada iesimo numero de A con cada iedimo numero de B\n",
    "        end\n",
    "        print(u) #Imprime el vector resultante\n",
    "    else\n",
    "        print(\"Los vectores tienen diferente tamaño\") #Eso solo es si el tamaño de los vectores no es el mismo\n",
    "    end\n",
    "end"
   ]
  },
  {
   "cell_type": "code",
   "execution_count": 6,
   "metadata": {},
   "outputs": [
    {
     "data": {
      "text/plain": [
       "8-element Array{Int64,1}:\n",
       " 7\n",
       " 4\n",
       " 1\n",
       " 8\n",
       " 6\n",
       " 5\n",
       " 1\n",
       " 9"
      ]
     },
     "execution_count": 6,
     "metadata": {},
     "output_type": "execute_result"
    }
   ],
   "source": [
    "l=[7,4,1,8,6,5,1,9]"
   ]
  },
  {
   "cell_type": "code",
   "execution_count": 7,
   "metadata": {},
   "outputs": [
    {
     "data": {
      "text/plain": [
       "8-element Array{Int64,1}:\n",
       " 1\n",
       " 5\n",
       " 4\n",
       " 9\n",
       " 6\n",
       " 3\n",
       " 2\n",
       " 8"
      ]
     },
     "execution_count": 7,
     "metadata": {},
     "output_type": "execute_result"
    }
   ],
   "source": [
    "m=[1,5,4,9,6,3,2,8]"
   ]
  },
  {
   "cell_type": "code",
   "execution_count": 8,
   "metadata": {},
   "outputs": [
    {
     "name": "stdout",
     "output_type": "stream",
     "text": [
      "[8.0,9.0,5.0,17.0,12.0,8.0,3.0,17.0]"
     ]
    }
   ],
   "source": [
    "svectorn(l,m)"
   ]
  },
  {
   "cell_type": "code",
   "execution_count": null,
   "metadata": {},
   "outputs": [],
   "source": []
  }
 ],
 "metadata": {
  "kernelspec": {
   "display_name": "Julia 0.5.2",
   "language": "julia",
   "name": "julia-0.5"
  },
  "language_info": {
   "file_extension": ".jl",
   "mimetype": "application/julia",
   "name": "julia",
   "version": "0.5.2"
  }
 },
 "nbformat": 4,
 "nbformat_minor": 2
}
