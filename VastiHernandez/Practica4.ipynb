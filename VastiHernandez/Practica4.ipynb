{
 "cells": [
  {
   "cell_type": "markdown",
   "metadata": {},
   "source": [
    "Siguiendo la siguiente serie  $\\displaystyle{\\sum_{n=0}^{∞}} \\dfrac{1}{n!} = e $  Escribe un programa que calcule diferentes aproximaciones de e para diferentes valores.  Apóyate en tu función factorial definida en la pregunta 2.\n"
   ]
  },
  {
   "cell_type": "code",
   "execution_count": 1,
   "metadata": {},
   "outputs": [
    {
     "data": {
      "text/plain": [
       "fact (generic function with 1 method)"
      ]
     },
     "execution_count": 1,
     "metadata": {},
     "output_type": "execute_result"
    }
   ],
   "source": [
    "function fact(N) #Como nos dicen las instrucciones partiremos de una funcion de factorial\n",
    "factm=0 \n",
    "    if N==0 || N==1 \n",
    "     factm=1\n",
    "    else \n",
    "    factm=(N*(fact(N-1))) \n",
    "     end \n",
    "end"
   ]
  },
  {
   "cell_type": "code",
   "execution_count": 2,
   "metadata": {},
   "outputs": [
    {
     "data": {
      "text/plain": [
       "ne (generic function with 1 method)"
      ]
     },
     "execution_count": 2,
     "metadata": {},
     "output_type": "execute_result"
    }
   ],
   "source": [
    "function ne(n)\n",
    "        nume=1 \n",
    "        co=1 #Esta variable se irá aumentando hasta llegar al valor de 'n'\n",
    "        z=n #Por otra parte esta irá disminuyendo de  'n' a 0\n",
    "        while n>=co #De esta manera se usará While para obtener un ciclo,el cual cederá hasta que 'co' sea mayor o igual a 'n'\n",
    "            nume=Float64(nume+(1/fact(z))) #Se aplica el modelo matemático de los inversos factoriales\n",
    "            co+=1 \n",
    "            z-=1 \n",
    "        end\n",
    "        print(Float64(nume)) #Imprimir, lo que dará lugar al resultado\n",
    "end"
   ]
  },
  {
   "cell_type": "code",
   "execution_count": 3,
   "metadata": {},
   "outputs": [
    {
     "name": "stdout",
     "output_type": "stream",
     "text": [
      "2.0"
     ]
    }
   ],
   "source": [
    "ne(1)"
   ]
  },
  {
   "cell_type": "code",
   "execution_count": 4,
   "metadata": {},
   "outputs": [
    {
     "name": "stdout",
     "output_type": "stream",
     "text": [
      "2.716666666666667"
     ]
    }
   ],
   "source": [
    "ne(5)"
   ]
  },
  {
   "cell_type": "code",
   "execution_count": 5,
   "metadata": {},
   "outputs": [
    {
     "name": "stdout",
     "output_type": "stream",
     "text": [
      "2.7182818284590455"
     ]
    }
   ],
   "source": [
    "ne(30)"
   ]
  },
  {
   "cell_type": "code",
   "execution_count": 6,
   "metadata": {},
   "outputs": [
    {
     "name": "stdout",
     "output_type": "stream",
     "text": [
      "2.7182818284590455"
     ]
    }
   ],
   "source": [
    "ne(50)"
   ]
  },
  {
   "cell_type": "code",
   "execution_count": 8,
   "metadata": {},
   "outputs": [
    {
     "name": "stdout",
     "output_type": "stream",
     "text": [
      "Inf"
     ]
    }
   ],
   "source": [
    "ne(100)"
   ]
  },
  {
   "cell_type": "code",
   "execution_count": 9,
   "metadata": {},
   "outputs": [
    {
     "data": {
      "text/plain": [
       "e = 2.7182818284590..."
      ]
     },
     "execution_count": 9,
     "metadata": {},
     "output_type": "execute_result"
    }
   ],
   "source": [
    "e"
   ]
  },
  {
   "cell_type": "code",
   "execution_count": null,
   "metadata": {},
   "outputs": [],
   "source": [
    "#Al igual que la práctica de 'PI', mientras el valor sea mayor se aproxima a 'e', sin embargo si se sobrepasa arrebasa el valor"
   ]
  }
 ],
 "metadata": {
  "kernelspec": {
   "display_name": "Julia 0.5.2",
   "language": "julia",
   "name": "julia-0.5"
  },
  "language_info": {
   "file_extension": ".jl",
   "mimetype": "application/julia",
   "name": "julia",
   "version": "0.5.2"
  }
 },
 "nbformat": 4,
 "nbformat_minor": 2
}
