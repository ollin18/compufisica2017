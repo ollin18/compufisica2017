{
 "cells": [
  {
   "cell_type": "markdown",
   "metadata": {},
   "source": [
    "<div class=\"alert alert-info\" role=\"alert\">\n",
    "<p class =\"lead\"> \n",
    "<h1> Suma de matrices</h1>\n",
    "<h3>Computación</h3> <h3>Física, Facultad de Ciencias. UNAM </h3>\n",
    "<h2>Ethan Campos Méndez </h2> </div>"
   ]
  },
  {
   "cell_type": "markdown",
   "metadata": {},
   "source": [
    "La suma de matrices se realiza entrada a entrada por lo tanto las matrices deben de tener la misma dimensión."
   ]
  },
  {
   "cell_type": "code",
   "execution_count": 1,
   "metadata": {},
   "outputs": [
    {
     "data": {
      "text/plain": [
       "SumaMatriz2x2 (generic function with 1 method)"
      ]
     },
     "execution_count": 1,
     "metadata": {},
     "output_type": "execute_result"
    }
   ],
   "source": [
    "function SumaMatriz2x2(u11,u12,u21,u22,v11,v12,v21,v22)#Ponemos los términos de las matrices \n",
    "    a=u11+v11 #Sumamos entrada a entrada\n",
    "    b=u12+v12\n",
    "    c=u21+v21\n",
    "    d=u22+v22\n",
    "    A=[a b; c d] #Los definimos como matriz\n",
    "    println(A) #Imprimimos la matriz\n",
    "end"
   ]
  },
  {
   "cell_type": "code",
   "execution_count": 2,
   "metadata": {},
   "outputs": [
    {
     "name": "stdout",
     "output_type": "stream",
     "text": [
      "[6 9; 7 17]\n"
     ]
    }
   ],
   "source": [
    "SumaMatriz2x2(1,5,4,8,5,4,3,9) #Veamos su funcionamiento"
   ]
  },
  {
   "cell_type": "code",
   "execution_count": 3,
   "metadata": {},
   "outputs": [
    {
     "data": {
      "text/plain": [
       "SumaMat (generic function with 1 method)"
      ]
     },
     "execution_count": 3,
     "metadata": {},
     "output_type": "execute_result"
    }
   ],
   "source": [
    "function SumaMat(A,B) #Ingresamos las matrices\n",
    "    renA = size(A)[1] #Definimos los tamaños de las matrices como una variable\n",
    "    colA = size(A)[2]\n",
    "    renB = size(B)[1]\n",
    "    colB = size(B)[2]\n",
    "    if length(renA)==length(renB) #Si la longitud del Renglón A es igual a la del Renglón B entonces\n",
    "        if length(colA)==length(colB) #Hay que comprobar que las comlumnas tambíen sean del mismo tamaño\n",
    "            c=zeros(size(A)[1]) #Creamos arreglos con el tamaños del renglón y de la columna\n",
    "            d=zeros(size(A)[2])\n",
    "            for i ∈ 1:renA #Creamos un ciclo para que sume entrada a entrada\n",
    "        for j ∈ 1:renA\n",
    "            c[j]=A[i,j]+B[i,j]      \n",
    "                d[i]=c[j]\n",
    "                println(hcat(d[i])) #Arrojamos el resultado, aunque no supe como ordenar las matrices\n",
    "                end\n",
    "            end\n",
    "        else\n",
    "            println(\"Las columnas no tienen la misma longitud\")\n",
    "        end\n",
    "    else\n",
    "        println(\"Los renglones no tienen la misma longitud\")\n",
    "    end\n",
    "end    "
   ]
  },
  {
   "cell_type": "code",
   "execution_count": 4,
   "metadata": {},
   "outputs": [],
   "source": [
    "#Definimos dos matrices\n",
    "A=[1.0 2.0; 1.0 2.0];\n",
    "B=[2.0 1.0; 2.0 1.0];"
   ]
  },
  {
   "cell_type": "code",
   "execution_count": 5,
   "metadata": {},
   "outputs": [
    {
     "name": "stdout",
     "output_type": "stream",
     "text": [
      "[3.0]\n",
      "[3.0]\n",
      "[3.0]\n",
      "[3.0]\n"
     ]
    }
   ],
   "source": [
    "SumaMat(A,B)"
   ]
  },
  {
   "cell_type": "code",
   "execution_count": 6,
   "metadata": {},
   "outputs": [
    {
     "data": {
      "text/plain": [
       "3×3 Array{Float64,2}:\n",
       " 3.0  2.0  1.0\n",
       " 3.0  2.0  1.0\n",
       " 3.0  2.0  1.0"
      ]
     },
     "execution_count": 6,
     "metadata": {},
     "output_type": "execute_result"
    }
   ],
   "source": [
    "#Intentamos con otras matrices\n",
    "A=[1.0 2.0 3.0; 1.0 2.0 3.0; 1.0 2.0 3.0] \n",
    "B=[3.0 2.0 1.0; 3.0 2.0 1.0; 3.0 2.0 1.0]"
   ]
  },
  {
   "cell_type": "code",
   "execution_count": 7,
   "metadata": {},
   "outputs": [
    {
     "name": "stdout",
     "output_type": "stream",
     "text": [
      "[4.0]\n",
      "[4.0]\n",
      "[4.0]\n",
      "[4.0]\n",
      "[4.0]\n",
      "[4.0]\n",
      "[4.0]\n",
      "[4.0]\n",
      "[4.0]\n"
     ]
    }
   ],
   "source": [
    "SumaMat(A,B)"
   ]
  },
  {
   "cell_type": "raw",
   "metadata": {},
   "source": [
    "Para leer las entradas de las matrices de un archivo usaremos el comando readdlm, veamos como se usa:"
   ]
  },
  {
   "cell_type": "code",
   "execution_count": 8,
   "metadata": {},
   "outputs": [
    {
     "data": {
      "text/plain": [
       "3×1 Array{Any,2}:\n",
       " \"1 2 3\"\n",
       " \"6 5 4\"\n",
       " \"9 5 1\""
      ]
     },
     "execution_count": 8,
     "metadata": {},
     "output_type": "execute_result"
    }
   ],
   "source": [
    "X=readdlm(\"EntradasMatrices.csv\", '|')"
   ]
  },
  {
   "cell_type": "markdown",
   "metadata": {},
   "source": [
    "Después sólo basta con poner X en la función."
   ]
  }
 ],
 "metadata": {
  "kernelspec": {
   "display_name": "Julia 0.5.2",
   "language": "julia",
   "name": "julia-0.5"
  },
  "language_info": {
   "file_extension": ".jl",
   "mimetype": "application/julia",
   "name": "julia",
   "version": "0.5.2"
  }
 },
 "nbformat": 4,
 "nbformat_minor": 2
}
