{
 "cells": [
  {
   "cell_type": "markdown",
   "metadata": {},
   "source": [
    "a) Este programa calcula el promedio de dos números dados por el usuario."
   ]
  },
  {
   "cell_type": "code",
   "execution_count": 8,
   "metadata": {},
   "outputs": [
    {
     "data": {
      "text/plain": [
       "prom (generic function with 1 method)"
      ]
     },
     "execution_count": 8,
     "metadata": {},
     "output_type": "execute_result"
    }
   ],
   "source": [
    "function prom(a,b)    #Esto genera la función promedio pidiendo como argumento dos números \n",
    "    p=(a+b)/2         #calcula el promedio de ambos\n",
    "    print(\"El promedio de ambos números es: $p\") #imprime el resultado guardado en la variable p\n",
    "end"
   ]
  },
  {
   "cell_type": "code",
   "execution_count": 9,
   "metadata": {},
   "outputs": [
    {
     "name": "stdout",
     "output_type": "stream",
     "text": [
      "El promedio de ambos números es: 4.0"
     ]
    }
   ],
   "source": [
    "prom(5,3)"
   ]
  },
  {
   "cell_type": "markdown",
   "metadata": {},
   "source": [
    "b) Este programa calcula la suma desde 0 hasta un número n proporcionado por el usuario:"
   ]
  },
  {
   "cell_type": "code",
   "execution_count": 1,
   "metadata": {},
   "outputs": [
    {
     "data": {
      "text/plain": [
       "sumagauss (generic function with 1 method)"
      ]
     },
     "execution_count": 1,
     "metadata": {},
     "output_type": "execute_result"
    }
   ],
   "source": [
    "function sumagauss(n)\n",
    "    s=0               #Da un valor inicial para la suma de 0\n",
    "    for i ∈ 0:1:n       #Varía la variable contadora i desde 0 hasta el número proporcionado\n",
    "        s= i + s      #acumula la suma de las i\n",
    "    end\n",
    "        print(\"La suma de los números desde 0 hasta $n es: $s\") #Imprime el resultado\n",
    "end"
   ]
  },
  {
   "cell_type": "code",
   "execution_count": 2,
   "metadata": {},
   "outputs": [
    {
     "name": "stdout",
     "output_type": "stream",
     "text": [
      "La suma de los números desde 0 hasta 100 es: 5050"
     ]
    }
   ],
   "source": [
    "sumagauss(100)"
   ]
  },
  {
   "cell_type": "markdown",
   "metadata": {},
   "source": [
    "c) El siguiente programa calculará el factorial de un número introducido por el usuario:"
   ]
  },
  {
   "cell_type": "code",
   "execution_count": 3,
   "metadata": {},
   "outputs": [
    {
     "data": {
      "text/plain": [
       "nfactorial (generic function with 1 method)"
      ]
     },
     "execution_count": 3,
     "metadata": {},
     "output_type": "execute_result"
    }
   ],
   "source": [
    "function nfactorial(n) #Esta función obtiene el factorial de un número mayor o igual a cero\n",
    "        f=1            # si n es cero, f=1 y no entra al intervalo de 1 a n\n",
    "    for i ∈ 1:n     \n",
    "        f=f*i          #Multiplica todas las i de 1 a n\n",
    "    end\n",
    "    print(\"El factorial de $n es: $f\")\n",
    "    end\n"
   ]
  },
  {
   "cell_type": "code",
   "execution_count": 4,
   "metadata": {},
   "outputs": [
    {
     "name": "stdout",
     "output_type": "stream",
     "text": [
      "El factorial de 0 es: 1"
     ]
    }
   ],
   "source": [
    "nfactorial(0)\n"
   ]
  },
  {
   "cell_type": "markdown",
   "metadata": {},
   "source": [
    "d) Este programa calcula la potencia de un número elevado a un exponente introducido por el usuario: Pot(base,exponente)"
   ]
  },
  {
   "cell_type": "code",
   "execution_count": 20,
   "metadata": {},
   "outputs": [
    {
     "data": {
      "text/plain": [
       "Pot (generic function with 1 method)"
      ]
     },
     "execution_count": 20,
     "metadata": {},
     "output_type": "execute_result"
    }
   ],
   "source": [
    "function Pot(a,b)   #Crea la función potencia que requiere de dos parámetros, la base y el exponente\n",
    "    p=1             # Al ser una multiplicación abreviada conviene empezar por el neutro multiplicativo\n",
    "    for i ∈ 1:b     \n",
    "        p=a*p       # Multiplica la base \"a\" por sí misma \"b\" veces \n",
    "    end\n",
    "    print(\"La potencia de $a elevado a la $b es: $p \")\n",
    "end"
   ]
  },
  {
   "cell_type": "code",
   "execution_count": 21,
   "metadata": {},
   "outputs": [
    {
     "name": "stdout",
     "output_type": "stream",
     "text": [
      "La potencia de 2 elevado a la 3 es: 8 "
     ]
    }
   ],
   "source": [
    "Pot(2,3)"
   ]
  }
 ],
 "metadata": {
  "kernelspec": {
   "display_name": "Julia 0.6.0",
   "language": "julia",
   "name": "julia-0.6"
  },
  "language_info": {
   "file_extension": ".jl",
   "mimetype": "application/julia",
   "name": "julia",
   "version": "0.6.0"
  }
 },
 "nbformat": 4,
 "nbformat_minor": 2
}
