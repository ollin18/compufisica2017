{
 "cells": [
  {
   "cell_type": "markdown",
   "metadata": {},
   "source": [
    " <div class=\"alert alert-success\" role=\"alert\">\n",
    " <h1> Pregunta 11 </h1>\n",
    " <h2>Computación</h2>\n",
    " <h2>Física, Facultad de Ciencias. UNAM </h2>\n",
    " <h3>Fernanda Martínez Saldaña</h3>\n",
    " \n",
    " </div>"
   ]
  },
  {
   "cell_type": "code",
   "execution_count": null,
   "metadata": {},
   "outputs": [],
   "source": [
    "a) Se hará un programa donde se calcule una recta de valores Y en términos de valores X"
   ]
  },
  {
   "cell_type": "markdown",
   "metadata": {},
   "source": [
    "Ecuación de la recta"
   ]
  },
  {
   "cell_type": "markdown",
   "metadata": {},
   "source": [
    "$$ \n",
    "y=mx+b\n",
    "$$"
   ]
  },
  {
   "cell_type": "markdown",
   "metadata": {},
   "source": [
    "Le damos valores a m y b"
   ]
  },
  {
   "cell_type": "code",
   "execution_count": 8,
   "metadata": {},
   "outputs": [
    {
     "data": {
      "text/plain": [
       "10"
      ]
     },
     "execution_count": 8,
     "metadata": {},
     "output_type": "execute_result"
    }
   ],
   "source": [
    "m=10"
   ]
  },
  {
   "cell_type": "code",
   "execution_count": 9,
   "metadata": {},
   "outputs": [
    {
     "data": {
      "text/plain": [
       "19"
      ]
     },
     "execution_count": 9,
     "metadata": {},
     "output_type": "execute_result"
    }
   ],
   "source": [
    "b=19"
   ]
  },
  {
   "cell_type": "markdown",
   "metadata": {},
   "source": [
    "los valores en x irán de -20 hasta 20 en pasos de 0.125"
   ]
  },
  {
   "cell_type": "code",
   "execution_count": 10,
   "metadata": {},
   "outputs": [],
   "source": [
    "x = collect(-20:0.125:20);"
   ]
  },
  {
   "cell_type": "markdown",
   "metadata": {},
   "source": [
    "Los valores en y empezarán en 0"
   ]
  },
  {
   "cell_type": "code",
   "execution_count": 11,
   "metadata": {},
   "outputs": [],
   "source": [
    "y = zeros(x);"
   ]
  },
  {
   "cell_type": "markdown",
   "metadata": {},
   "source": [
    "Utilizaremos una función para calcular la recta"
   ]
  },
  {
   "cell_type": "code",
   "execution_count": 14,
   "metadata": {},
   "outputs": [],
   "source": [
    "for i in eachindex(x)  #Utilizaos for para variar la variable i\n",
    "    y = m*x+b       #Anotamos la ecuación dela recta\n",
    "    \n",
    "    end    #Termianmos ciclo for"
   ]
  },
  {
   "cell_type": "markdown",
   "metadata": {},
   "source": [
    "Preparamos los paquetes para graficar"
   ]
  },
  {
   "cell_type": "code",
   "execution_count": 17,
   "metadata": {},
   "outputs": [],
   "source": [
    "using Plots"
   ]
  },
  {
   "cell_type": "code",
   "execution_count": 18,
   "metadata": {},
   "outputs": [
    {
     "data": {
      "text/plain": [
       "Plots.PyPlotBackend()"
      ]
     },
     "execution_count": 18,
     "metadata": {},
     "output_type": "execute_result"
    }
   ],
   "source": [
    "pyplot()"
   ]
  },
  {
   "cell_type": "code",
   "execution_count": 19,
   "metadata": {},
   "outputs": [
    {
     "data": {
      "text/html": [
       "<img src=\"data:image/png;base64,iVBORw0KGgoAAAANSUhEUgAAAlgAAAGQCAYAAAByNR6YAAAABHNCSVQICAgIfAhkiAAAAAlwSFlzAAAPYQAAD2EBqD+naQAAIABJREFUeJzt3X10VPW97/HPTIYEAkxywoMkkAcg5MhRMCBpFawRTymt9QJeUc9yFW48egL09mDFtog9KGkVFClHC7VY7xWlVHtk4bKnl9qjUkAjFEFEeygPCULDQyDKQIalJCQzv/sHEgjMTJ5mZu/Z836txVrN3snwHdbP6Wft/dm/uIwxRgAAAIgat9UDAEBbDh48KJfL1epPt27dNHDgQN15553avn17XOdxuVy66aab4vp3AkgsHqsHAID2Gjp0qL7zne9Ikj7//HN98MEHWrNmjV5//XW9/fbbuvHGGy2eEADOIWABSBiFhYVasGBBq2NPPPGE5s2bp/nz52vTpk3WDAYAl+AWIYCEdu+990qSPvjgg8vOnT59Wo8++qiuuuoq9ejRQ5mZmZo4caIqKytDvtbp06dVUVGhkSNHKj09XRkZGRo1apTmz5+vpqYmbdy4US6XS5K0adOmVrcsX3zxRUlSfX29nnzySZWWlionJ0epqanKycnR9OnTtX///tj8IwCwHRcldwB2d/DgQQ0ePFgTJ07UH//4x1bnPv30U/Xv318ZGRk6depUy3Gfz6cbb7xRu3bt0rhx41RSUiK/36/f/e53qq+v15o1azRlypSW76+rq1Npaan27Nmj4uJi3XzzzQoGg9qzZ4/Wr1+vuro6nTp1Si+++KIqKiqUn5+vsrKylp+fMmWKiouL9ec//1mlpaUaP368hg4dqp49e2rPnj36wx/+oIyMDO3YsUP5+fkx/zcDYDEDADZ34MABI8lMnDjxsnMLFy40ksy3v/3tVsfvvvtuI8k8//zzrY4fP37c5Obmmn79+pkzZ860HL/99tuNJPPwww9f9nccO3bMNDU1tXwtyZSWloac9dSpU+bEiROXHf/Tn/5k3G63ue+++yK+VwDOwBUsALZ3/gpWqJL7hg0bdMUVV2jDhg0aPny4JOmzzz7TgAEDVFpaqvXr11/2esuWLdPs2bP1+9//XrfeequOHTumnJwcDRkyRLt371a3bt0izuNyuVRaWqqNGzd26H2MHDlSp0+f1oEDBzr0cwASDyV3AAlj//79qqioaHVswIABevfdd1VYWNhybNu2bQoEAmpsbLysFC9JVVVVkqQ9e/bo1ltv1fbt22WM0fjx49sMV+2xceNGPf3009q6das+++wzNTc3t5xLTU3t8usDsD8CFoCEcXEH69NPP9VLL72kuXPnatKkSXr//ffVq1cvSef6V5L03nvv6b333gv7ep9//rmkc8V0SRo4cGCXZ1yzZo3uuusu9erVSxMnTlRBQYHS09NbivB/+9vfuvx3ALA/AhaAhNSvXz/94Ac/UH19vR577DH927/9m55++mlJktfrlSQ9+OCDWrJkSZuvlZmZKUk6cuRIl+dasGCBunfvrg8++EDDhg1rde63v/1tl18fQGJgmwYACe3hhx9WTk6Onn32WR08eFCSVFJSIpfLpS1btrTrNcaMGSO3260NGzaoqampze93u90KBAIhz+3fv1/Dhw+/LFzV1tbqk08+adc8ABIfAQtAQuvRo4fmzp2rpqYm/fSnP5V0rpd15513avPmzXrqqacU6lmerVu36osvvpAkXXHFFbr99ttDdrykc1s4XNyjysrK0uHDh0POk5+fr+rqah0/frzlWENDg2bNmtWu8AbAGXiKEIDtRdoHSzoXYIYOHaq6ujrt2bNHQ4cOlc/n0z/+4z9q586dGjFihK6//nplZmbq0KFD2r59u6qqqlRbW6sBAwZIOvfk4Y033qjdu3dr1KhRuvnmm2WM0b59+/Tmm2/q+PHjLbcS77rrLr366quaPHmyRo0apZSUFE2aNEkjR47U8uXL9a//+q/Kzs7W1KlT1dzcrLfeekvGGPXq1UsfffRRyMAHwGEs2yACANop0j5Y5y1btsxIMtOmTWs59sUXX5jFixeba6+91vTs2dP06NHDDB482EyZMsWsWrWq1d5WxhhTX19v5s+fb6688kqTlpZmMjIyTHFxsXnkkUfM2bNnW76vtrbW3HnnnaZv377G7XYbSWblypXGGGOCwaBZsWKFueqqq0z37t3NgAEDzL333mvq6upMaWmp4WMXSA5cwQIAAIgyOlgAAABRRsACAACIMgIWAABAlBGwAAAAooyABQAAEGUELAAAgCgjYAEAAESZowOWMUZ+v59dkwEAQFw5OmCdPn1aGRkZOn36tNWjwGbq6+utHgE2xLpAKKwLGGP00r6g+q5qkuv5C38i8cRpNsBWAoGA1SPAhlgXCIV1kdz2njKaWRnQxtoLd8MyUqVFJZGvURGwAAAALtEYMHpiZ1ALdwZ1Nnjh+F1DXPr361OUne6K+PMELAAAgItsPBrUzMqA9l50d7igl/TsDSn6Vm772lVJG7DOnj2rv/3tb4649JuSkqL8/HylpqZaPQoAAAnrswajH24N6MV9F24HprikH4x065HRbqV7Il+1ulhSBqzDhw/r7rvv1hdffGH1KFGTnp6uV155RQMHDrR6FAAAEooxRquqjB78c0AnGi8cv66/S8/dkKKRfdofrM5LuoAVDAb1k5/8RJmZmfr5z3+u7t27Wz1SlzU0NGj+/PmqqKjQihUr5HY7+uFQAACiJlyJ/YkSt8qHu+V2dTxcSUkYsD777DPt2LFDjz/+uIqLi60eJ2q+973v6cc//rFOnDihfv36WT0OAAC21tUSe1uSLmCdOnVKkjRo0CCLJ4mu8+/n5MmTBCwAACKIRom9LUkXsILBczE1JSXF4kmi6/z7Of/+AABAa9EssbeFso6NHTx4UDfddJMyMjIcdTsTAIB4Or8T+5WvNrcKV9f1d2nHbR498ZWUqIYriYBla16vV4899phefvllq0cBACAh7T1ldPO6gMo2XXhCMCNV+uU4t96b1LknBNsjbgGroaFBU6ZMUVFRka655hpNmDBB1dXVkqS6ujp985vf1LBhw3T11VfrnXfeafm5SOecYsmSJSovL2/5+tSpU+rbt68k6YYbblDPnj2tGg0AgITUGDCq+CCgkWubWz0heOcQl3bf4dHMf0jp9BOC7RHXDlZ5ebm+9a1vyeVyafny5brvvvu0ceNGPfTQQ7ruuuv0xz/+Udu2bdNtt92mAwcOqFu3bhHPRcuaT4J65IOATkf+vY2d0rub9NNrUzR1SPgse99996moqEiLFy9WZmamVq5cqcmTJysrKyv6AwEA4HDxKLG3JW4Bq3v37rrllltavr7uuuu0ZMkSSdKrr77acjWrpKREOTk52rRpk77+9a9HPBctT30c1J5TUXu5kK8fKWBlZmZq6tSpeuGFF/TAAw/ol7/8pf7jP/4jdgMBAOBA8Syxt8WypwifeeYZTZ48WSdOnFBTU5MGDBjQcq6goEA1NTURz4XS2NioxsYLW7D6/f52zfKjkW7Nj+EVrB+ObDstz549W5MmTdLw4cPVr18/jRo1KvrDAADgQLHYib2rLAlYCxcuVHV1tdavX68zZ85E7XUXLVqkioqKy477fD41NzdLOtdvCgaDam5ubjk2JU+akhfLf/ygmpsjb59QWFiowYMHq7y8XIsWLWqZTZICgYCMMa2OXaq5uVnBYFCnTp2Sz+eL2uROdfLkSatHgA2xLhAK68Leqk679IMPu6vy0wuRxtvN6JGrG/W/BjfJ7ZJi9X+Lkao8cQ9YS5Ys0Wuvvaa3335b6enpSk9Pl8fj0bFjx1quVB08eFB5eXnq06dP2HOhzJs3T3PmzGn52u/3Kzc3V1lZWfJ6vZLO3Y5zu93yeDzyeOy1DVh5ebm+973v6a677pLH49EXX3yhoqIiNTY2qr6+XgUFBZo2bZoWLVp02c96PB653W5lZmbS3Won/p0QCusCobAu7CfcTux3DnHp6es9yk5PtW44xTlgLV26VK+88orefvttZWZmthy/4447tGLFCi1YsEDbtm3TkSNHVFpa2ua5S6WlpSktLS0u7yUWNmzYoO9+97stBf709HQdPnzY4qkAALAXO5TY2xK3gHX48GE9+OCDGjJkiMaPHy/pXCDaunWrnnzySU2bNk3Dhg1TamqqVq9e3RIyIp1ziqNHj+rmm29WVlaW/uu//svqcQAAsKVwJfYHR7j16LXxLbG3JW4Ba9CgQTLGhDx3xRVX6M033+zwOafIycnRnj17rB4DAABbCldi/2p/l35lUYm9LfYqIQEAAFxk3ymjmZUBbbhos9CMVOmJErfKh7tjulloVyRdwHK7z92bbWqKwZ4MFjr/fs6/PwAAElnkEnuKstPtGazOS7qAlZOTo9TUVD3//PP6l3/5F0f0uZqamvT8888rNTVVOTk5Vo8DAECXJEKJvS1JF7B69eqlpUuXas6cOdq8ebPV40RNamqqli5dql69elk9CgAAnZJIJfa2JF3Aks79mp4333xTR48eVTAYeQPQROB2u5WTk0O4AgAkpEQssbclKQOWdO5KVlFRkdVjAACQ1EKV2L3dpCe+4tYMG5fY25K0AQsAAFinMWD05EdBPf5hYpbY20LAAgAAcbWpNqgZ7yZ2ib0tBCwAABAXTiqxt4WABQAAYsqJJfa2ELAAAEDMOLXE3hYCFgAAiDqnl9jbQsACAABRFarEnt9LenZcim7Jc0aJvS0ELAAAEBUnviyxrwxRYn9ktFs9uzn7qtXFCFgAAKBLjDH6dZXRg1sD+qzhwnEnl9jbQsACAACdlqwl9rYQsAAAQIcle4m9LQQsAADQIZTY20bAAgAA7UKJvf0IWAAAICJK7B1HwAIAAGFFKrGXX+lWiptwFQoBCwAAXIYSe9cQsAAAQCuU2LuOgAUAACRRYo8mAhYAAEmOEnv0EbAAAEhilNhjg4AFAEASosQeWwQsAACSDCX22CNgAQCQJCixxw8BCwAAh6PEHn8ELAAAHIwSuzUIWAAAOBAldmsRsAAAcBhK7NYjYAEA4BCU2O2DgAUAQIKLVGJ/7oYUXUOJPe4IWAAAJLB9p4xmvRfQn45SYrcTAhYAAAmIEru9EbAAAEgwlNjtj4AFAECCoMSeOAhYAADYHCX2xEPAAgDAxiixJyYCFgAANhSpxP7v16UopyfBys4IWAAA2Awl9sRHwAIAwCYosTsHAQsAAItRYnceAhYAABaixO5MBCwAACxAid3ZCFgAAMQZJXbnI2ABABAn4Ursc0a49SgldkchYAEAEGOU2JMPAQsAgBiixJ6cCFgAAMQAJfbkRsACACDKKLGDgAUAQJRQYsd5BCwAALqIEjsuRcACAKALwpXYF33FrRmU2JMWAQsAgE5oDBgt/iiox3cG1Ri4cJwSOyQCFgAAHUaJHW0hYAEA0E6U2NFeBCwAANpAiR0dRcACACCC6tMuzdtCiR0dQ8ACACCElhL7hz3VGLwQru4Y7NLT11NiR2QELAAALvFObVAzKgPac0qSzgWp/F7SL8al6NuU2NEOBCwAAL50osHoR1sDeqFVid1ozogUSuzoEAIWACDpRSqxLx7xuW4ckmndcEhIBCwAQFJrayf2+lNBC6dDoiJgAQCSUrid2CmxIxoIWACApNO6xH4OJXZEEwELAJA0QpfY2Ykd0UfAAgA4njFGq6uN5vyZndgRHwQsAICjtVViZyd2xAIBCwDgSJTYYSUCFgDAcSixw2oELACAY1Bih10QsAAACY8SO+wmbtdJZ8+erYKCArlcLu3cubPleFVVlcaOHauioiKVlJRo165d7ToHAIB0rsT+9T8ENH3jhXDl7Sb9Ypxb7/0PwhWsEbeANXXqVFVWVio/P7/V8RkzZqi8vFz79u3T3LlzVVZW1q5zAIDk1hgw+umOgEa+1tzqCcE7Bru0+w6PvvsPKTwhCMu4jDGm7W+LnoKCAr3++usqLi5WXV2dCgsL5fP55PF4ZIxRdna2Kisr5fV6w54rLCxs19/l9/uVkZGh+vp6eb3eGL8zJBKfz6esrCyrx4DNsC4SRzxL7KwLdIalHaxDhw4pOztbHs+5MVwul/Ly8lRTU6OMjIyw58IFrMbGRjU2NrZ87ff7Y/8mAABxQ4kdicJRJfdFixapoqLisuM+n0/Nzc0WTAS7OnnypNUjwIZYF/ZljPRqjUfzP07TibMXrlBdmxXQ0lENujozqMbTUmOE1+gs1gXCiXRl09KAlZubq9raWjU3N7fcBqypqVFeXp68Xm/Yc+HMmzdPc+bMafna7/crNzdXWVlZ3CLEZbjkj1BYF/YTeSd2j1Lc3WM+A+sCHWXpbmv9+/fX6NGjtXr1aknS2rVrNWjQIBUWFkY8F05aWpq8Xm+rPwCAxESJHYksbiX3GTNmaN26dTp27Jj69Omj3r17q7q6Wnv37lVZWZlOnDghr9erlStXasSIEZIU8Vx7UHJHOJRWEQrrwj7stBM76wKdEfenCOOJgIVw+MBEKKwL69mxxM66QGc4quQOAEhM7MQOpyFgAQAsFbnE7qZnhYREwAIAWKIxYLT4o6Ae3xlUY+DC8TsGu/T09SnK6UmwQuIiYAEA4s5OJXYgFghYAIC4sWOJHYgFAhYAIObCldi/0s+lX32NEjuch4AFAIipqnqjmZWU2JFcCFgAgJigxI5kRsACAEQdJXYkOwIWACBqKLED5xCwAABdRokdaI2ABQDoEkrswOUIWACATqHEDoRHwAIAdBgldiAyAhYAoN0osQPtQ8ACALSJEjvQMQQsAEBElNiBjiNgAQBCosQOdB4BCwBwGUrsQNcQsAAALcKV2B8Y4dYCSuxAuxGwAAARS+zPfS1FxZTYgQ4hYAFAkquqN5pVGdB6SuxA1BCwACBJUWIHYoeABQBJiBI7EFsELABIIpTYgfggYAFAEqDEDsQXAQsAHC5Uib13N2lRiVszh1NiB2KBgAUADhWuxD51sEvPUGIHYoqABQAO9E5tUDMrA9pNiR2wBAELAByEEjtgDwQsAHAASuyAvRCwACDBUWIH7IeABQAJihI7YF8ELABIQKFK7Hm9pF+MTdGt+ZTYAasRsAAggfgajH70fkD/dy8ldsDOCFgAkACMMfrNlyX2TymxA7ZHwAIAm6PEDiQeAhYA2BQldiBxEbAAwIYosQOJjYAFADZCiR1wBgIWANgAJXbAWQhYAGAxSuyA8xCwAMAijQGjpz4K6jFK7IDjELAAwAKU2AFnI2ABQBxRYgeSAwELAOKAEjuQXAhYABBjlNiB5EPAAoAYocQOJC8CFgDEwLu1Qc2gxA4kLQIWAEQRJXYAEgELAKKCEjuAixGwAKCLKLEDuBQBCwA6iRI7gHAIWADQCZTYAURCwAKADqDEDqA9CFgA0A6U2AF0BAELANpAiR1ARxGwACAMSuwAOouABQAhUGIH0BWtPiVWrFghv99v1SwAYDlfg9F97zTrxv93IVyluKQfjHTrr1M9hCsA7dLqk2LOnDnKzs7W9OnTtWnTJqtmAoC4M8bo1RqPrlzT3OoJwa/0c2n7bR499dUUnhAE0G6tAtbRo0e1ePFi/fWvf9X48eNVWFiohQsX6siRI1bNBwAxV1VvNOEPAc3a1qPlCcHe3aTlY93aPIknBAF0nMsYY0Kd+Pjjj/XCCy/o5Zdf1smTJ/WNb3xD//zP/6xJkyapW7du8Z6zU/x+vzIyMlRfXy+v12v1OLARn8+nrKwsq8eAxc4GjBaHKbE/fX2KBlJih/i8QOeEDVjnHT16VHfffbfeeecdSVLfvn01a9YsPfTQQ+rRo0dchuwsAhbC4QMToUrsg9KD+uUN3ehZoRU+L9AZIT9FjDF64403NHXqVA0ZMkR79uzRD3/4Q23evFkzZ87UsmXL9J3vfCfeswJAl0UqsW+e8DnhCkBUtNqmYf/+/XrhhRe0atUqHT16VBMmTNBvfvMbTZ48WR7PuW+97rrrNGbMGP3TP/2TJQMDQGe0Zyd2n8+6+QA4S6uANWzYMA0cOFD33HOP7r33XuXn54f8oSuvvFJf/epX4zIgAHQVO7EDiLdWAes///M/dcstt8jtjnyJvKioSBs2bIjpYADQVZTYAVilVcC69dZbrZoDAKKKndgBWIlflQPAUXwNRj96P9Bqs9AUl/TACLceHe1WLzYLBRAHBCwAjtCeEjsAxAsBC0DCo8QOwG4IWAASFiV2AHZFwAKQkCixA7CzhPgUqqqq0tixY1VUVKSSkhLt2rXL6pEAWCTSTuy7pnoIVwBsISE+iWbMmKHy8nLt27dPc+fOVVlZmdUjAYgzY4xWVwV15ZrmVk8IlvRzafttHj311RSeEARgG7YPWHV1ddq+fXvL7z68/fbbdejQIVVXV1s8GYB4qao3mvCHgKZtvPCEYO9u0rKxbm2ZxBOCAOzH9h2sQ4cOKTs7u+V3IbpcLuXl5ammpkaFhYWtvrexsVGNjY0tX/v9/rjOCiC6KLEDSFS2D1gdsWjRIlVUVFx23Ofzqbm52YKJYFcnT560egS0YctnKZqzI037Tqe0HBuUHtTi4gZNzA5IjZKvMcILdALrAqGwLhBOVlZW2HMuY4wJe9YG6urqVFhYKJ/PJ4/HI2OMsrOzVVlZ2a4rWLm5uaqvr5fX64336LAxn88X8T8MWMfXYDT3/YD+jwU7sbMuEArrAp1h+ytY/fv31+jRo7V69WqVlZVp7dq1GjRo0GXhSpLS0tKUlpZmwZQAuircTuwl/Vz6FTuxA0gwtg9YkvTcc8+prKxMCxculNfr1cqVK60eCUAUhduJfWGJW7PYiR1AAkqIgPX3f//32rJli9VjAIiycCX22we79AwldgAJLCECFgDnCbcT+/KxKfofbBYKIMERsADElZUldgCIFwIWgLgwxujl/UYPbKHEDsD5CFgAYq663mjWewG9fYQSO4DkQMACEDOU2AEkKwIWgJigxA4gmRGwAERVuBL79692a8G1lNgBJAcCFoCoiFRif+6GFI3qS7ACkDwIWAC6jBI7ALRGwALQaWcDRk99HNRPP6TEDgAXI2AB6BRK7AAQHgELQIdQYgeAthGwALQLJXYAaD8CFoA2UWIHgI4hYAEIixI7AHQOAQtASJTYAaDzCFgAWqHEDgBdR8ACIIkSOwBEEwELACV2AIgyAhaQxCixA0BsELCAJEWJHQBih4AFJBlK7AAQewQsIElQYgeA+CFgAUmAEjsAxBcBC3AwSuwAYA0CFuBQlNgBwDoELMBhKLEDgPUIWIBDUGIHAPsgYAEOQIkdAOyFgAUkMErsAGBPBCwgQVUeC6r8XUrsAGBHBCwgwVBiBwD7I2ABCYISOwAkDgIWkAAosQNAYiFgATZGiR0AEhMBC7ApSuwAkLgIWIDNUGIHgMRHwAJsghI7ADgHAQuwAUrsAOAsBCzAQpTYAcCZCFiARSixA4BzEbCAOAtVYne7pAcosQOAYxCwgDihxA4AyYOABcQBJXYASC4ELCCGKLEDQHIiYAExUnksqBnvBvRXSuwAkHQIWECUUWIHABCwgCihxA4AOI+ABURBuBL742Pc+u4/UGIHgGRDwAK6IFyJ/X8WnCuxD+pFsAKAZETAAjqJEjsAIBwCFtBBlNgBAG0hYAHtZIzRK/uNHvhzQHVnLhynxA4AuBQBC2gHSuwAgI4gYAERUGIHAHQGAQsII1SJPben9ItxlNgBAJERsIBLhCuxf/9qtyoosQMA2oGABXyJEjsAIFoIWICk/X6jWZUBvUWJHQAQBQQsJLWzAaMlX5bYGyixAwCihICFpEWJHQAQKwQsJB1fg9H3P0jTrw9euGRFiR0AEE0ELCSN1iX21JbjY/q69KuvUWIHAEQPAQtJgRI7ACCeCFhwtHAl9ltzmvTL0h6U2AEAMUHAgmNFKrGP631aWb3SrRsOAOBoBCw4jq/B6KFtAT2/J/xO7D6fhQMCAByPgAXHCLcTOyV2AEC8EbDgCJTYAQB2QsBCQmMndgCAHRGwkLDCldiXj0vRJHZiBwBYiICFhNOeEjsAAFYiYCFhUGIHACQKAhYSAiV2AEAiIWDB1iixAwASUdyawLNnz1ZBQYFcLpd27tzZ6lxVVZXGjh2roqIilZSUaNeuXe06B2erPBbUqNea9ePtF8JVbk/pd99I0doJHsIVAMC24hawpk6dqsrKSuXn5192bsaMGSovL9e+ffs0d+5clZWVtescnMnXYFT+brO+9vsLTwi6XdKcEW799Q4PTwgCAGzPZYwxbX9b9BQUFOj1119XcXGxJKmurk6FhYXy+XzyeDwyxig7O1uVlZXyer1hzxUWFrb5d/n9fmVkZKi+vl5erzfWbw1dFKnE/tzXUjQ6iiV2n8+nrKysqL0enIF1gVBYF+gMyztYhw4dUnZ2tjyec6O4XC7l5eWppqZGGRkZYc+FCliNjY1qbGxs+drv98fnTaDLKLEDAJzE8oAVTYsWLVJFRcVlx30+n5qbmy2YCG05G5SW70vVz3anqiF4IUTdmtOkhdc0amC6Uf2pCC/QSSdPnoz+iyLhsS4QCusC4US6shmzgLVq1SotXbpUknT//ffrnnvuCfl9ubm5qq2tVXNzc8ttwJqaGuXl5cnr9YY9F8q8efM0Z86clq/9fr9yc3OVlZXFLUIbirwTezdJ6TH9+7nkj1BYFwiFdYGOilnAmj59uqZPn97m9/Xv31+jR4/W6tWrVVZWprVr12rQoEEttwAjnbtUWlqa0tLSovo+EH3sxA4AcLq4ldxnzJihdevW6dixY+rTp4969+6t6upqSdLevXtVVlamEydOyOv1auXKlRoxYkSb59pCyd1e4llibwulVYTCukAorAt0RtyfIownApZ9hCqx9+omLbSoxM4HJkJhXSAU1gU6w1Eld9gPO7EDAJIRAQsxE7nEzmahAADnImAh6k42Gs19nxI7ACB5EbAQNXYqsQMAYCUCFqLCbiV2AACsRMBCl1BiBwDgcgQsdBoldgAAQiNgocMosQMAEBkBC+1GiR0AgPYhYKFdKLEDANB+BCxqDkfjAAAHrklEQVRERIkdAICOI2AhLErsAAB0DgELl6HEDgBA1xCw0IISOwAA0UHAgiRK7AAARBMBK8lRYgcAIPoIWEmMEjsAALFBwEpClNgBAIgtAlYSocQOAEB8ELCSBCV2AADih4DlcOFK7LcVuPRzSuwAAMQEAcvBKLEDAGANApYDUWIHAMBaBCwHMcbot/uNvk+JHQAASxGwHGK/3+i7lQG9SYkdAADLEbASHCV2AADsh4CVwCixAwBgTwSsBBSuxH7/VW79ZAwldgAArEbASiDhSuzX9nXpV5TYAQCwDQJWgqDEDgBA4iBg2dzZgNHP/hLUT3ZQYgcAIFEQsGzsvWNBzagMaNfJC8cosQMAYH8ELBuixA4AQGIjYNkIJXYAAJyBgGUT4Ursj49x639TYgcAIKEQsCxGiR0AAOchYFmIEjsAAM5EwLLAyUajh94P6ld7gi3HKLEDAOAcBKw4osQOAEByIGDFCSV2AACSBwErxiixAwCQfAhYMRSqxD6op7R8bIomF1BiBwDAqQhYMRCpxF5xrVu9U7lqBQCAkxGwoogSOwAAkAhYUUOJHQAAnEfA6iJK7AAA4FIErC6gxA4AAEIhYHUCJXYAABAJAasDKLEDAID2IGC1EyV2AADQXgSsNlBiBwAAHUXAioASOwAA6AwCVgiU2AEAQFcQsC5CiR0AAEQDAetLlNgBAEC0JH3AosQOAACiLakDFiV2AAAQC0kZsCixAwCAWEqqgEWJHQAAxEPSBCxK7AAAIF6SImD97OOAFu9rpsQOAADiIikC1k92BKUe5/43JXYAABBrjg5Yxnx5O7DhtFwuadZwtx4uPldi9/utnQ3W8vv98ngcvfzRCawLhMK6QCS9e/eWy3X53TCXaUkhzvPJJ59o6NChVo8BAAAcqq6uTv369bvsuKMjeVZWliSppqZGGRkZFk8Du/D7/crNzdWhQ4fk9XqtHgc2wbpAKKwLhHN+baSmpoY87+iA5Xaf61llZGTwHwYu4/V6WRe4DOsCobAuEE6o24OSRNMbAAAgyghYAAAAUZayYMGCBVYPEUspKSm66aabeAIErbAuEArrAqGwLhBOpLXh6KcIAQAArMAtQgAAgCgjYAEAAEQZAQsAACDKHBOwGhoaNGXKFBUVFemaa67RhAkTVF1d3XK+rq5O3/zmNzVs2DBdffXVeueddyycFvE0e/ZsFRQUyOVyaefOna3OVVVVaezYsSoqKlJJSYl27dpl0ZSwEusAUvjPCtZHcouULyJmC+MQZ86cMevWrTPBYNAYY8yyZctMaWlpy/l77rnHPProo8YYY95//30zcOBAc/bsWQsmRbxt2rTJHDp0yOTn55sPP/yw1bnx48eblStXGmOMWbNmjRkzZowFE8JqrAMYE/6zgvWR3CLli0jZwjEB61Lbtm0z+fn5LV/37NnT1NbWtnxdUlJi3nrrLQsmg1Uu/dA8fvy46d27t2lqajLGGBMMBs0VV1xhqqqqrBoRFmAd4FIXf1awPnCpi/NFpGzhmFuEl3rmmWc0efJkSdKJEyfU1NSkAQMGtJwvKChQTU2NVePBBg4dOqTs7OyW/UtcLpfy8vJYF0mGdYBIWB+41Pl80Va2cOSuaQsXLlR1dbXWr19v9SgAAMAhLs4XZ86cifi9CX0Fa9WqVSouLlZxcbFWrlwpSVqyZIlee+01vfHGG0pPT5ck9enTRx6PR8eOHWv52YMHDyovL8+SuRFbodZFKLm5uaqtrVVzc7MkyRijmpoa1kWSYR0gEtYHzrs0X7SVLRI6YE2fPl07d+7Uzp07dc8992jp0qV65ZVX9NZbbykzM7PV995xxx1asWKFJGnbtm06cuSISktLrRgbMXbpuginf//+Gj16tFavXi1JWrt2rQYNGqTCwsJ4jQobYB0gEtYHJIXNF5GyhWN+Vc7hw4eVm5urIUOGqHfv3pKktLQ0bd26VZJ0/PhxTZs2TQcOHFBqaqqWL1+u8ePHWzky4mTGjBlat26djh07pj59+qh3794tj9ju3btXZWVlOnHihLxer1auXKkRI0ZYPDHijXUAKfxnBesjuUXKF5GyhWMCFgAAgF0k9C1CAAAAOyJgAQAARBkBCwAAIMoIWAAAAFFGwAIAAIgyAhYAAECUEbAAAACijIAFAAAQZQQsAACAKCNgAQAARBkBC0DS8vv9ys/P19SpU1sdnzlzpvr06aOjR49aNBmAREfAApC0zv/i3tdee02//vWvJUlvvPGGnnvuOT377LPKycmxeEIAiYpf9gwg6d1///166aWXtHHjRt1yyy266aab9PLLL1s9FoAERsACkPTOnDmj0aNH68CBA+rbt6/+8pe/6O/+7u+sHgtAAuMWIYCk16NHD02ZMkWNjY26++67CVcAuowrWACS3scff6ySkhJdddVV2r17t3bs2KHhw4dbPRaABEbAApDUzp49q5KSEnm9Xq1fv17jxo2TJG3ZskUej8fi6QAkKm4RAkhqjzzyiPbv368XX3xRqampWrVqlf77v/9bjz32mNWjAUhgBCwASWvz5s166qmn9LOf/UxDhw6VJA0fPlyLFi3S448/ru3bt1s8IYBExS1CAACAKOMKFgAAQJQRsAAAAKLs/wMdfF/OrekGCgAAAABJRU5ErkJggg==\" />"
      ]
     },
     "execution_count": 19,
     "metadata": {},
     "output_type": "execute_result"
    }
   ],
   "source": [
    "plot(x,y,w=2)\n",
    "title!(\"Recta\")  #Ponemos título a nuestra gráfica\n",
    "xaxis!(\"x\")      #Eje x le denominamos x\n",
    "yaxis!(\"y\")      #Eje y le denominamos y"
   ]
  },
  {
   "cell_type": "code",
   "execution_count": 25,
   "metadata": {},
   "outputs": [],
   "source": [
    "variables = hcat(x,y);     #vemos las variables de x y y"
   ]
  },
  {
   "cell_type": "markdown",
   "metadata": {},
   "source": [
    "con writedlm escrbimos el archivo"
   ]
  },
  {
   "cell_type": "code",
   "execution_count": 23,
   "metadata": {},
   "outputs": [],
   "source": [
    "writedlm(\"graficarecta.csv\",variables,'|')"
   ]
  },
  {
   "cell_type": "markdown",
   "metadata": {},
   "source": [
    "Con read podemos ver los datos que fueron introducidos al archivo"
   ]
  },
  {
   "cell_type": "code",
   "execution_count": 24,
   "metadata": {},
   "outputs": [
    {
     "data": {
      "text/plain": [
       "321×2 Array{Float64,2}:\n",
       " -20.0    -181.0 \n",
       " -19.875  -179.75\n",
       " -19.75   -178.5 \n",
       " -19.625  -177.25\n",
       " -19.5    -176.0 \n",
       " -19.375  -174.75\n",
       " -19.25   -173.5 \n",
       " -19.125  -172.25\n",
       " -19.0    -171.0 \n",
       " -18.875  -169.75\n",
       " -18.75   -168.5 \n",
       " -18.625  -167.25\n",
       " -18.5    -166.0 \n",
       "   ⋮             \n",
       "  18.625   205.25\n",
       "  18.75    206.5 \n",
       "  18.875   207.75\n",
       "  19.0     209.0 \n",
       "  19.125   210.25\n",
       "  19.25    211.5 \n",
       "  19.375   212.75\n",
       "  19.5     214.0 \n",
       "  19.625   215.25\n",
       "  19.75    216.5 \n",
       "  19.875   217.75\n",
       "  20.0     219.0 "
      ]
     },
     "execution_count": 24,
     "metadata": {},
     "output_type": "execute_result"
    }
   ],
   "source": [
    "readdlm(\"graficarecta.csv\",'|')"
   ]
  },
  {
   "cell_type": "code",
   "execution_count": null,
   "metadata": {},
   "outputs": [],
   "source": [
    "b)"
   ]
  }
 ],
 "metadata": {
  "kernelspec": {
   "display_name": "Julia 0.6.0",
   "language": "julia",
   "name": "julia-0.6"
  },
  "language_info": {
   "file_extension": ".jl",
   "mimetype": "application/julia",
   "name": "julia",
   "version": "0.6.0"
  }
 },
 "nbformat": 4,
 "nbformat_minor": 2
}
