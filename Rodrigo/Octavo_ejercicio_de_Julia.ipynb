{
 "cells": [
  {
   "cell_type": "markdown",
   "metadata": {},
   "source": [
    "# Calcular el producto interno (producto punto) de dos vectores cualesquiera en R3"
   ]
  },
  {
   "cell_type": "code",
   "execution_count": 1,
   "metadata": {},
   "outputs": [
    {
     "data": {
      "text/plain": [
       "ProdIntR3 (generic function with 1 method)"
      ]
     },
     "execution_count": 1,
     "metadata": {},
     "output_type": "execute_result"
    }
   ],
   "source": [
    "function ProdIntR3(vec1,vec2) #Se define la funcion\n",
    "    if length(vec1)==length(vec2)==3 #Se pide que ambos vectores tengan un tamaño de 3\n",
    "        p = 0.0 #Se establece una variable, contador, que guardará el numero resultante\n",
    "        for i ∈ 1:length(vec1) #Sepide que las operanciones sean aplicadas elemento por elemento del primer vector\n",
    "            p=p+(vec1[i]*vec2[i]) #Se declara que \"p\" sera la suma de \"p\" y la multiplicacion de cada elemento de \"vec1\" y \"vec2\"\n",
    "        end\n",
    "        print(p) #Se pide que imprima en pantalla \"p\" al finalizar el ciclo\n",
    "    else\n",
    "        println(\"Los vectores son de iguales dimensiones\") #Se pide que imprima en pantalla esta respuesta si los vectores no tienen la mismas dimensiones\n",
    "    end\n",
    "end"
   ]
  },
  {
   "cell_type": "code",
   "execution_count": 3,
   "metadata": {},
   "outputs": [
    {
     "data": {
      "text/plain": [
       "(9, 8, 7)"
      ]
     },
     "execution_count": 3,
     "metadata": {},
     "output_type": "execute_result"
    }
   ],
   "source": [
    "α = (1,2,3)\n",
    "β = (9,8,7)"
   ]
  },
  {
   "cell_type": "code",
   "execution_count": 5,
   "metadata": {},
   "outputs": [
    {
     "name": "stdout",
     "output_type": "stream",
     "text": [
      "46.0"
     ]
    }
   ],
   "source": [
    "ProdIntR3(α,β)"
   ]
  },
  {
   "cell_type": "markdown",
   "metadata": {},
   "source": [
    "# Calcular el prodructo interno (producto punto) de dos vectores cualesquiera en Rn"
   ]
  },
  {
   "cell_type": "code",
   "execution_count": 6,
   "metadata": {},
   "outputs": [
    {
     "data": {
      "text/plain": [
       "ProdInt (generic function with 1 method)"
      ]
     },
     "execution_count": 6,
     "metadata": {},
     "output_type": "execute_result"
    }
   ],
   "source": [
    "function ProdInt(vec1,vec2) #Se define la funcion \n",
    "    if length(vec1)==length(vec2) #Se pide que las dimensiones de los vectores sea la misma\n",
    "        p = 0.0 #Se establece una variable que vaya guardando el número resultante\n",
    "        for i ∈ 1:length(vec1) #Se pide que la siguiente operacion se realice elemento por elemento del \"vec1\"\n",
    "            p=p+(vec1[i]*vec2[i]) #Se declara que \"p\" sera la suma de \"p\" y la multiplicacion de cada elemento de \"vec1\" y \"vec2\"\n",
    "        end\n",
    "        print(p) #Se pide que imprima en pantalla \"p\" al terminar\n",
    "    else\n",
    "        println(\"Vectores de distinta dimensión\") #Se pide que si los vectores no son de igual dimensiones imprima en pantalla esta respuesta\n",
    "    end\n",
    "end"
   ]
  },
  {
   "cell_type": "code",
   "execution_count": 8,
   "metadata": {},
   "outputs": [
    {
     "data": {
      "text/plain": [
       "(3, 9, 27)"
      ]
     },
     "execution_count": 8,
     "metadata": {},
     "output_type": "execute_result"
    }
   ],
   "source": [
    "α = (7,14,21)\n",
    "β = (2,4,6)\n",
    "Δ = (3,9,27)"
   ]
  },
  {
   "cell_type": "code",
   "execution_count": 9,
   "metadata": {},
   "outputs": [
    {
     "name": "stdout",
     "output_type": "stream",
     "text": [
      "196.0"
     ]
    }
   ],
   "source": [
    "ProdInt(α,β)"
   ]
  },
  {
   "cell_type": "code",
   "execution_count": 10,
   "metadata": {},
   "outputs": [
    {
     "name": "stdout",
     "output_type": "stream",
     "text": [
      "204.0"
     ]
    }
   ],
   "source": [
    "ProdInt(β,Δ)"
   ]
  },
  {
   "cell_type": "code",
   "execution_count": 11,
   "metadata": {},
   "outputs": [
    {
     "name": "stdout",
     "output_type": "stream",
     "text": [
      "714.0"
     ]
    }
   ],
   "source": [
    "ProdInt(α,Δ)"
   ]
  },
  {
   "cell_type": "code",
   "execution_count": null,
   "metadata": {},
   "outputs": [],
   "source": []
  }
 ],
 "metadata": {
  "kernelspec": {
   "display_name": "Julia 0.6.0",
   "language": "julia",
   "name": "julia-0.6"
  },
  "language_info": {
   "file_extension": ".jl",
   "mimetype": "application/julia",
   "name": "julia",
   "version": "0.6.0"
  }
 },
 "nbformat": 4,
 "nbformat_minor": 2
}
