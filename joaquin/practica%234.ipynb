{
 "cells": [
  {
   "cell_type": "markdown",
   "metadata": {},
   "source": [
    "<div class=\"alert alert-danger\" role=\"alert\">\n",
    "<h1>Ejercicios de programación en julia</h1>\n",
    "<h2>COMPUTACIÓN</h2>\n",
    "<h2>FÍSICA,FACULTAD DE CIENCIAS, UNAM </h2>\n",
    "<h3>JOAQUIN MIRANDA SANTIAGO</h3>\n",
    "</div>"
   ]
  },
  {
   "cell_type": "markdown",
   "metadata": {},
   "source": [
    "# Ejercicio 4\n",
    "## 4.1 Usando la siguiente serie\n",
    " _e_ = $\\displaystyle{\\sum_{n=0}^{\\infty} \\dfrac{1}{n!}}$\n",
    "  ## escribe un programa que calcule diferentes aproximaciones de de _e_ para diferentes valores \n"
   ]
  },
  {
   "cell_type": "code",
   "execution_count": 28,
   "metadata": {},
   "outputs": [
    {
     "data": {
      "text/plain": [
       "factorial (generic function with 1 method)"
      ]
     },
     "execution_count": 28,
     "metadata": {},
     "output_type": "execute_result"
    }
   ],
   "source": [
    "# definamos primero uan función que calcule el factorial de un número a\n",
    "function factorial(a)\n",
    "    if a ==0\n",
    "        1\n",
    "    elseif a ==1\n",
    "        1\n",
    "        else a*factorial(a-1)\n",
    "    end\n",
    "end"
   ]
  },
  {
   "cell_type": "code",
   "execution_count": 31,
   "metadata": {},
   "outputs": [
    {
     "data": {
      "text/plain": [
       "numero_e (generic function with 1 method)"
      ]
     },
     "execution_count": 31,
     "metadata": {},
     "output_type": "execute_result"
    }
   ],
   "source": [
    "function numero_e(n) # entre más grande sea sea el valor de n, mejor sera la aproximación.\n",
    " e=0\n",
    "    for i ∈ 0:n\n",
    "        e += big(1)/(factorial(i))#actulizamos el valor de e por su valor anterior más 1/n!\n",
    "    end\n",
    "    println(\"El número e tiene un valor aproximado de: \",e)\n",
    "    end \n",
    "    \n",
    "    \n",
    "    "
   ]
  },
  {
   "cell_type": "code",
   "execution_count": 32,
   "metadata": {},
   "outputs": [
    {
     "name": "stdout",
     "output_type": "stream",
     "text": [
      "El número e tiene un valor aproximado de: 2.718281828459045233887552181779289345079841221491589079396721678933926109861265\n"
     ]
    }
   ],
   "source": [
    "#veamos un ejemplo\n",
    "numero_e(35)"
   ]
  },
  {
   "cell_type": "code",
   "execution_count": null,
   "metadata": {},
   "outputs": [],
   "source": []
  }
 ],
 "metadata": {
  "kernelspec": {
   "display_name": "Julia 0.6.0",
   "language": "julia",
   "name": "julia-0.6"
  },
  "language_info": {
   "file_extension": ".jl",
   "mimetype": "application/julia",
   "name": "julia",
   "version": "0.6.0"
  }
 },
 "nbformat": 4,
 "nbformat_minor": 2
}
