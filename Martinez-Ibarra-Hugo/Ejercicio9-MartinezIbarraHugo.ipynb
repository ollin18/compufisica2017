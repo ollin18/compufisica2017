{
 "cells": [
  {
   "cell_type": "markdown",
   "metadata": {},
   "source": [
    "### Martínez Ibarra Hugo\n",
    "***\n",
    "### Computación <p style=\"text-align:right\">Grupo 8381\n",
    "## <p style=\"color:darkblue;text-align:center\">Ejercicio #9"
   ]
  },
  {
   "cell_type": "markdown",
   "metadata": {},
   "source": [
    "a) Sumar dos matrices en $\\mathbb{R}^{2x2}$, el usuario debe insertar las entradas de las matrices."
   ]
  },
  {
   "cell_type": "markdown",
   "metadata": {},
   "source": [
    "Recordar que la suma de matrices se hace entrada a entrada y con matrices del mismo tamaño:\n",
    "$$A_{2x2}=\\begin{bmatrix}a_{1,1}&a_{1,2}\\\\a_{2,1}&a_{2,1}\\end{bmatrix}$$\n",
    "$$B_{2x2}=\\begin{bmatrix}b_{1,1}&b_{1,2}\\\\b_{2,1}&b_{2,1}\\end{bmatrix}$$\n",
    "$$A+B=\\begin{bmatrix}a_{1,1}+b_{1,1}&a_{1,2}+b_{1,2}\\\\a_{2,1}+b_{2,1}&a_{2,2}+b_{2,2}\\end{bmatrix}$$"
   ]
  },
  {
   "cell_type": "code",
   "execution_count": 1,
   "metadata": {},
   "outputs": [
    {
     "data": {
      "text/plain": [
       "2×2 Array{Int64,2}:\n",
       " 5  6\n",
       " 7  8"
      ]
     },
     "execution_count": 1,
     "metadata": {},
     "output_type": "execute_result"
    }
   ],
   "source": [
    "#Aquí el usuario debe introducir las entradas de las matrices de 2x2.\n",
    "A=[1 2;3 4]\n",
    "B=[5 6;7 8]"
   ]
  },
  {
   "cell_type": "code",
   "execution_count": 2,
   "metadata": {},
   "outputs": [
    {
     "data": {
      "text/plain": [
       "summatr22 (generic function with 1 method)"
      ]
     },
     "execution_count": 2,
     "metadata": {},
     "output_type": "execute_result"
    }
   ],
   "source": [
    "#Se define una función para la suma de matrices de 2x2, por lo que recibe como entradas dos matrices de 2x2.\n",
    "#Dentro se comienza por corroborar que ambas matrices sean del mismo tamño, si esto sucede se crea una matriz del mismo tamaño que cualquiera de las dos; 2x2, pero llena de ceros, los cuales se remplazarán eventualmente por los valores de la suma. Después se emplea la idea de suma de vectores de un ejercicio pasado, donde se hace la suma de vectores columna, pues aquí con un ciclo se llena la primera columna de la matriz resultante (r) y con otro ciclo for la otra columna de dicha matirz.\n",
    "#Adicionalmente se añade una advertencia cuando no se cumple la igualdad de tamaño de las matrices de entrada.\n",
    "function summatr22(A::Array,B::Array)\n",
    "    if size(A)==size(B)\n",
    "        sum=zeros(2,2)\n",
    "        for i in 1:2\n",
    "            sum[i,1]=A[i,1]+B[i,1]\n",
    "        end\n",
    "        for i in 1:2\n",
    "            sum[i,2]=A[i,2]+B[i,2]\n",
    "        end\n",
    "        sum\n",
    "    else\n",
    "        \"No se trata de matrices de 2x2\"\n",
    "    end\n",
    "end        "
   ]
  },
  {
   "cell_type": "code",
   "execution_count": 3,
   "metadata": {},
   "outputs": [
    {
     "data": {
      "text/plain": [
       "2×2 Array{Float64,2}:\n",
       "  6.0   8.0\n",
       " 10.0  12.0"
      ]
     },
     "execution_count": 3,
     "metadata": {},
     "output_type": "execute_result"
    }
   ],
   "source": [
    "#Se prueba el algoritmo.\n",
    "summatr22(A,B)"
   ]
  },
  {
   "cell_type": "markdown",
   "metadata": {},
   "source": [
    "b) Escribe un programa que sume dos matrices en $\\mathbb{R}^{nxn}$, las entradas de las matrices deben leerse de un archivo. Recuerda también que esto solo tiene sentido si las matrices a sumar son de la misma dimensión."
   ]
  },
  {
   "cell_type": "markdown",
   "metadata": {},
   "source": [
    "$$A_{nxn}= \n",
    " \\begin{bmatrix}\n",
    "  a_{1,1}&a_{1,2}&\\cdots&a_{1,n}\\\\\n",
    "  a_{2,1}&a_{2,2}&\\cdots&a_{2,n}\\\\\n",
    "  \\vdots&\\vdots&\\ddots&\\vdots\\\\\n",
    "  a_{n,1}&a_{n,2}&\\cdots&a_{n,n} \n",
    "    \\end{bmatrix}\\qquad B_{nxn}= \n",
    " \\begin{bmatrix}\n",
    "  b_{1,1}&b_{1,2}&\\cdots&b_{1,n}\\\\\n",
    "  b_{2,1}&b_{2,2}&\\cdots&b_{2,n}\\\\\n",
    "  \\vdots&\\vdots&\\ddots&\\vdots\\\\\n",
    "  b_{n,1}&b_{n,2}&\\cdots&b_{n,n} \n",
    "\\end{bmatrix}$$\n",
    "\n",
    "$$\\begin{bmatrix}\n",
    "  a_{1,1}&a_{1,2}&\\cdots&a_{1,n}\\\\\n",
    "  a_{2,1}&a_{2,2}&\\cdots&a_{2,n}\\\\\n",
    "  \\vdots&\\vdots&\\ddots&\\vdots\\\\\n",
    "  a_{n,1}&a_{n,2}&\\cdots&a_{n,n} \n",
    "    \\end{bmatrix}\n",
    "  \\begin{bmatrix}\n",
    "  b_{1,1}&b_{1,2}&\\cdots&b_{1,n}\\\\\n",
    "  b_{2,1}&b_{2,2}&\\cdots&b_{2,n}\\\\\n",
    "  \\vdots&\\vdots&\\ddots&\\vdots\\\\\n",
    "  b_{n,1}&b_{n,2}&\\cdots&b_{n,n} \n",
    "  \\end{bmatrix}=\n",
    "  \\begin{bmatrix}\n",
    "  a_{1,1}+b_{1,1}&a_{1,2}+b_{1,2}&\\cdots&a_{1,n}+b_{1,n}\\\\\n",
    "  a_{2,1}+b_{2,1}&a_{2,2}+b_{2,2}&\\cdots&a_{2,n}+b_{2,n}\\\\\n",
    "  \\vdots&\\vdots&\\ddots&\\vdots\\\\\n",
    "  a_{n,1}+b_{n,1}&a_{n,2}+b_{n,2}&\\cdots&a_{n,n}+b_{n,n}\n",
    "  \\end{bmatrix}=C_{nxn}$$"
   ]
  },
  {
   "cell_type": "code",
   "execution_count": 4,
   "metadata": {},
   "outputs": [],
   "source": [
    "#Se definen aquí los vectores para que luego sean escritos en un archivo, este paso sólo se hace con el propósito de que el archivo de datos se genere al mismo tiempo que se corre este cuaderno, pues de lo contrario se tendría que subir un archivo de texto extra, además del presente cuaderno. Sólo por cuestión de practicidad, pero el programa hace precisamente lo que se pide.\n",
    "MA=[1 2 0;3 4 0;0 0 0]\n",
    "MB=[5 6 0;7 8 0;0 0 0];"
   ]
  },
  {
   "cell_type": "code",
   "execution_count": 5,
   "metadata": {},
   "outputs": [],
   "source": [
    "#Se escriben los archivos que contienen las entradas de los vectores, cabe mencionar que aquí depende cómo se escriban los vectores, verticales u horizontales, pue sasí los leerá el comando, por eso se debe ser cuidadoso con la colocación del símbolo separador(\"|\").\n",
    "writedlm(\"a.txt\",MA,'|')\n",
    "writedlm(\"b.txt\",MB,'|')"
   ]
  },
  {
   "cell_type": "code",
   "execution_count": 6,
   "metadata": {},
   "outputs": [],
   "source": [
    "#Se leen los datos provenientes de los archivos.\n",
    "A=readdlm(\"a.txt\",'|')\n",
    "B=readdlm(\"b.txt\",'|');"
   ]
  },
  {
   "cell_type": "code",
   "execution_count": 7,
   "metadata": {},
   "outputs": [
    {
     "data": {
      "text/plain": [
       "3×3 Array{Float64,2}:\n",
       " 1.0  2.0  0.0\n",
       " 3.0  4.0  0.0\n",
       " 0.0  0.0  0.0"
      ]
     },
     "execution_count": 7,
     "metadata": {},
     "output_type": "execute_result"
    }
   ],
   "source": [
    "A"
   ]
  },
  {
   "cell_type": "code",
   "execution_count": 8,
   "metadata": {},
   "outputs": [
    {
     "data": {
      "text/plain": [
       "3×3 Array{Float64,2}:\n",
       " 5.0  6.0  0.0\n",
       " 7.0  8.0  0.0\n",
       " 0.0  0.0  0.0"
      ]
     },
     "execution_count": 8,
     "metadata": {},
     "output_type": "execute_result"
    }
   ],
   "source": [
    "B"
   ]
  },
  {
   "cell_type": "code",
   "execution_count": 9,
   "metadata": {},
   "outputs": [
    {
     "data": {
      "text/plain": [
       "summat (generic function with 1 method)"
      ]
     },
     "execution_count": 9,
     "metadata": {},
     "output_type": "execute_result"
    }
   ],
   "source": [
    "#Se define una función que tendrá como entrada dos matrices.\n",
    "#Dentro se comienza por corroborar que las dos matrices de entrada sean del mismo tamaño nxn. Si esto sucede se crea una matriz de ceros del tamaño de cualquiera de las dos matrices de entrada (r),aquí se elige a. Luego con un ciclo for que recorre los índices de los renglones de la matriz resultante (r) y dentro otro ciclo for que va a recorrer las columnas de la misma matriz, aquí se pretende que por cada renglón de r que se recorre, se recorrerán todas las columnas de r, y como se trata de matrices de nxn, la suma el simplemente sumar las entradas correspondientes de cada matriz de entrada en la matriz resultante; es decir coinciden los ínidices de las entrada.\n",
    "#Adicionalmente se añade una advertencia cuando las matrices de entrada no son del mismo tamaño.\n",
    "function summat(A::Array,B::Array)\n",
    "    if size(A)==size(B)\n",
    "        sum=zeros(size(A)[1],size(A)[2])\n",
    "        for i in 1:size(A)[1]\n",
    "            for j in 1:size(A)[2]\n",
    "                sum[i,j]=A[i,j]+B[i,j]\n",
    "            end\n",
    "        end\n",
    "        sum\n",
    "    else\n",
    "        \"No son del mismo tamaño\"\n",
    "    end\n",
    "end\n",
    "        "
   ]
  },
  {
   "cell_type": "code",
   "execution_count": 10,
   "metadata": {},
   "outputs": [
    {
     "data": {
      "text/plain": [
       "3×3 Array{Float64,2}:\n",
       "  6.0   8.0  0.0\n",
       " 10.0  12.0  0.0\n",
       "  0.0   0.0  0.0"
      ]
     },
     "execution_count": 10,
     "metadata": {},
     "output_type": "execute_result"
    }
   ],
   "source": [
    "#Se prueba el algoritmo.\n",
    "summat(A,B)"
   ]
  },
  {
   "cell_type": "code",
   "execution_count": null,
   "metadata": {},
   "outputs": [],
   "source": []
  }
 ],
 "metadata": {
  "kernelspec": {
   "display_name": "Julia 0.6.0",
   "language": "julia",
   "name": "julia-0.6"
  },
  "language_info": {
   "file_extension": ".jl",
   "mimetype": "application/julia",
   "name": "julia",
   "version": "0.6.0"
  }
 },
 "nbformat": 4,
 "nbformat_minor": 2
}
