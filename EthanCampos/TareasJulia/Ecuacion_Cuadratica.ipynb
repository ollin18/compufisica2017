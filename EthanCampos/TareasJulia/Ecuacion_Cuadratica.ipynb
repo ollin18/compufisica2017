{
 "cells": [
  {
   "cell_type": "markdown",
   "metadata": {},
   "source": [
    "<div class=\"alert alert-info\" role=\"alert\">\n",
    "<p class =\"lead\"> \n",
    "<h1> Ecuación Cuadrática </h1>\n",
    "<h3>Computación</h3> <h3>Física, Facultad de Ciencias. UNAM </h3>\n",
    "<h2>Ethan Campos Méndez </h2> </div>"
   ]
  },
  {
   "cell_type": "markdown",
   "metadata": {},
   "source": [
    "Sabemos que la ecuación cuadrática es: \n",
    "$$ \\displaystyle \\dfrac{-b±{\\sqrt{b^2-4ac}}}{{2}{a}} $$"
   ]
  },
  {
   "cell_type": "markdown",
   "metadata": {},
   "source": [
    "Para saber que clase de raíces obtendremos usaremos el discriminante de la ecuación de segundo grado:\n",
    " $ {\\delta}={b^2-4ac} $"
   ]
  },
  {
   "cell_type": "markdown",
   "metadata": {},
   "source": [
    "Si $\\delta>{0}$ entonces el polinomio cuadrático tiene dos raíces reales distintas.\n",
    "\n",
    "Si $\\delta={0}$ entonces el polinomio cuadrático tiene dos raíces reales iguales.\n",
    "\n",
    "Si $\\delta<{0}$ entonces el polinomio cuadrático tiene dos raíces imaginarias."
   ]
  },
  {
   "cell_type": "markdown",
   "metadata": {},
   "source": [
    "Crearemos la función EcCuadratica."
   ]
  },
  {
   "cell_type": "code",
   "execution_count": 7,
   "metadata": {},
   "outputs": [
    {
     "data": {
      "text/plain": [
       "EcCuadratica (generic function with 1 method)"
      ]
     },
     "execution_count": 7,
     "metadata": {},
     "output_type": "execute_result"
    }
   ],
   "source": [
    "function EcCuadratica(a,b,c)#cada variable representa el coeficiente del polinomio que se quiere sacar raíz.\n",
    "    δ=(b^2)-4*a*c #usamos el discriminante\n",
    "    if δ>0 #Delta mayor que 0\n",
    "        d=((-b)+sqrt(b^2-4*a*c))/(2*a)#Ponemos la ecuación general cuadrática con +\n",
    "        e=((-b)-sqrt(b^2-4*a*c))/(2*a)#Ponemos la ecuación general cuadrática con -\n",
    "            println(\"El polinomio tiene dos raíces reales distintas $d y $e\")\n",
    "    end\n",
    "    \n",
    "    if δ==0 #Delta igual a cero\n",
    "        d=(-b)/(2*a) #Sacamos la raíz igual\n",
    "            println(\"El polinomio tiene dos raíces iguales $d\")\n",
    "    end\n",
    "    \n",
    "    if δ<0 #Delta menor que cero \n",
    "        d=((-b)+sqrt(complex(b^2-4*a*c)))/(2*a) #Ponemos la ecuación general cuadrática con +\n",
    "        e=((-b)-sqrt(complex(b^2-4*a*c)))/(2*a) #Ponemos la ecuación general cuadrática con -\n",
    "            println(\"El polinomio tiene dos imaginarias $d y $e\")\n",
    "    end\n",
    "    \n",
    "end"
   ]
  },
  {
   "cell_type": "code",
   "execution_count": 8,
   "metadata": {},
   "outputs": [
    {
     "name": "stdout",
     "output_type": "stream",
     "text": [
      "El polinomio tiene dos imaginarias 0.0 + 1.0im y 0.0 - 1.0im\n"
     ]
    }
   ],
   "source": [
    "EcCuadratica(1,0,1)"
   ]
  },
  {
   "cell_type": "code",
   "execution_count": 9,
   "metadata": {},
   "outputs": [
    {
     "name": "stdout",
     "output_type": "stream",
     "text": [
      "El polinomio tiene dos raíces reales distintas 1.0 y -1.0\n"
     ]
    }
   ],
   "source": [
    "EcCuadratica(1,0,-1)"
   ]
  },
  {
   "cell_type": "code",
   "execution_count": 10,
   "metadata": {},
   "outputs": [
    {
     "name": "stdout",
     "output_type": "stream",
     "text": [
      "El polinomio tiene dos raíces iguales -2.0\n"
     ]
    }
   ],
   "source": [
    "EcCuadratica(1,4,4)"
   ]
  },
  {
   "cell_type": "code",
   "execution_count": null,
   "metadata": {},
   "outputs": [],
   "source": []
  }
 ],
 "metadata": {
  "kernelspec": {
   "display_name": "Julia 0.6.0",
   "language": "julia",
   "name": "julia-0.6"
  },
  "language_info": {
   "file_extension": ".jl",
   "mimetype": "application/julia",
   "name": "julia",
   "version": "0.6.0"
  }
 },
 "nbformat": 4,
 "nbformat_minor": 2
}
