{
 "cells": [
  {
   "cell_type": "markdown",
   "metadata": {},
   "source": [
    "# 6)Producto interior de vectores"
   ]
  },
  {
   "cell_type": "markdown",
   "metadata": {},
   "source": [
    "### a)Producto interior en R^3"
   ]
  },
  {
   "cell_type": "markdown",
   "metadata": {},
   "source": [
    "Para crear la función que haga un producto interior de vectores (en R^3) se deben tener dos arreglos, que serán los vectores por multiplicar. Primero hay que asegurarse de que los dos arreglos tengan los mismos componentes para poder realizar el producto:\n",
    "##### (a1,a2,a3)x(b1,b2,b3)=a1b1+a2b2+a3b3\n",
    "Para esto se usa una variable que inicialmente toma el valor de cero, y en un ciclo se le asignan valores que se suman, multiplicando a cada componente de los vectores con el mismo índice."
   ]
  },
  {
   "cell_type": "code",
   "execution_count": 62,
   "metadata": {},
   "outputs": [],
   "source": [
    "u=[1,8,4]\n",
    "v=[1,2,6]; #Se definen los arreglos que serán multiplicados"
   ]
  },
  {
   "cell_type": "code",
   "execution_count": 63,
   "metadata": {},
   "outputs": [
    {
     "data": {
      "text/plain": [
       "prodintR3 (generic function with 1 method)"
      ]
     },
     "execution_count": 63,
     "metadata": {},
     "output_type": "execute_result"
    }
   ],
   "source": [
    "function prodintR3(u,v)                       #Declarar que se creará una nueva función\n",
    "    if length(u)==length(v)                        #La función con el for se ejecuta solo cuando u y v tengan la misma dimensión \n",
    "        p=0                                        #p es una variable en la que se almacenará el resultado\n",
    "        for i in eachindex(u)                      #Cada valor en u y v van a ser afectados en el orden que aparecen \n",
    "            p=p+(u[i]*v[i])                        #Se define la función algebraica\n",
    "            end                                    #Fin del ciclo for\n",
    "        println(p)                                 #El valor de la multiplicación se imprime\n",
    "        else                \n",
    "        println(\"Error en tamaño de arreglos\")     #Esto ocurre cuando la dimensión de u y v es distinta\n",
    "        end                                        #Fin del if\n",
    "    end                                            #Fin de la función"
   ]
  },
  {
   "cell_type": "code",
   "execution_count": 64,
   "metadata": {},
   "outputs": [
    {
     "name": "stdout",
     "output_type": "stream",
     "text": [
      "41\n"
     ]
    }
   ],
   "source": [
    "prodintR3(u,v)                                 #Prueba de la función"
   ]
  },
  {
   "cell_type": "markdown",
   "metadata": {},
   "source": [
    "### b)Producto interior en R^n"
   ]
  },
  {
   "cell_type": "markdown",
   "metadata": {},
   "source": [
    "De forma parecida al anterior, con la función se multiplica cada valor del vector según su índice y sumando eso al resultado , ahora permitiendo el tamaño que sea, ya que el arreglo vacío creado toma el mismo número de elementos que el vector dado(se mantiene la condición de que deban tener el mismo tamaño ambos vectores). Los vectores son asignados en un archivo cada uno. Estos archivos son leídos por la función y toman los valores de x y y, así son multiplicados y generan el nuevo arreglo \"z\" como resltado."
   ]
  },
  {
   "cell_type": "code",
   "execution_count": 65,
   "metadata": {},
   "outputs": [],
   "source": [
    "x=[1,2,4,4,7,9,0]             \n",
    "y=[2,4,5,5,0,1,2];                       #Se definen dos vectores en Rn\n",
    "writedlm(\"x.txt\", x)                     #Se escribe a en un archivo\n",
    "writedlm(\"y.txt\", y)                     #Se escribe b en un archivo"
   ]
  },
  {
   "cell_type": "code",
   "execution_count": 68,
   "metadata": {},
   "outputs": [
    {
     "data": {
      "text/plain": [
       "prodintarchivos (generic function with 1 method)"
      ]
     },
     "execution_count": 68,
     "metadata": {},
     "output_type": "execute_result"
    }
   ],
   "source": [
    "function prodintRn(a,b)                  #Se define la función que se creará\n",
    "     z=0                                 #Se crea una variable para almacenar el resultado\n",
    "     if length(a)==length(b)             #Se comparan las dimensiones de los vectores\n",
    "       for i in eachindex(a)             #Inicia un ciclo for para cada índice de a, si ambos vectores son de la misma dimensión\n",
    "         z=z+(a[i]*b[i])                 #Se multiplica cada índice respectivamente y se suma al resultado de z\n",
    "            end                          #Fin del ciclo for\n",
    "    println(z)                           #Aparece el valor de z en pantalla\n",
    "        else                             #si a y b no son iguales\n",
    "    println(\"Sus vectores deben tener las mismas dimensiones\") #aparece el mensaje\n",
    "        end                              #Fin del if\n",
    "    end                                  #Finaliza la función\n",
    "\n",
    "function prodintarchivos()                #Función que usa archivos \n",
    " a=readdlm(\"x.txt\")                       #Asigna el archivo de a como el vector1\n",
    " b=readdlm(\"y.txt\")                       #Asigna el archivo de b como el vector2\n",
    "    prodintRn(a,b)                        #Aplica la función anterior\n",
    "    end                                   #Finaliza de la función"
   ]
  },
  {
   "cell_type": "code",
   "execution_count": 69,
   "metadata": {},
   "outputs": [
    {
     "name": "stdout",
     "output_type": "stream",
     "text": [
      "59.0\n"
     ]
    }
   ],
   "source": [
    "prodintarchivos()                         #Prueba de la función"
   ]
  }
 ],
 "metadata": {
  "kernelspec": {
   "display_name": "Julia 0.6.0",
   "language": "julia",
   "name": "julia-0.6"
  },
  "language_info": {
   "file_extension": ".jl",
   "mimetype": "application/julia",
   "name": "julia",
   "version": "0.6.0"
  }
 },
 "nbformat": 4,
 "nbformat_minor": 2
}
