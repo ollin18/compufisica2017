{
 "cells": [
  {
   "cell_type": "markdown",
   "metadata": {},
   "source": [
    "<div class=\"alert alert-info\" role=\"alert\">\n",
    "<p class =\"lead\"> \n",
    "<h1>Suma de Matrices </h1>\n",
    "<h2> Computación </h2>\n",
    "<h2>Física, Facultad de Ciencias. UNAM </h2>\n",
    "<h3>Celeste Castro Granados</h3>\n",
    "</div>"
   ]
  },
  {
   "cell_type": "markdown",
   "metadata": {},
   "source": [
    "Vamos a escribir un programa que nos permita sumar dos matrices en $ ℝ^{2x2} $ en el cual el usuario será el que definirá cada entrada de las matrices."
   ]
  },
  {
   "cell_type": "markdown",
   "metadata": {},
   "source": [
    "Sean dos matrices $ A,B \\in m_{2x2} $, la suma de dos matrices está dada de la siguiente manera:\n",
    "\n",
    "$$ A_{2x2}+B_{2x2} = \n",
    "\\begin{pmatrix}\n",
    "a_{11} & a_{12} \\\\\n",
    "a_{21} & a_{22} \\\\\\end{pmatrix} \n",
    "+\n",
    "\\begin{pmatrix}\n",
    "b_{11} & b_{12}\\\\\n",
    "b_{21} & b_{22}\\\\\\end{pmatrix}=... $$ "
   ]
  },
  {
   "cell_type": "markdown",
   "metadata": {},
   "source": [
    "$$\n",
    "...=\\begin{pmatrix}\n",
    "a_{11}+b_{11} & a_{12}+b_{12}\\\\\n",
    "    a_{21}+b_{21} & a_{22}+b_{22}\\\\\\end{pmatrix}=C_{2x2} $$"
   ]
  },
  {
   "cell_type": "markdown",
   "metadata": {},
   "source": [
    "Para empezar vamos a definir los renglones i, j y un ciclo for que contenga a otro dentro de este para que recorra todos los componentes de la matriz."
   ]
  },
  {
   "cell_type": "code",
   "execution_count": 1,
   "metadata": {},
   "outputs": [
    {
     "data": {
      "text/plain": [
       "SumMat (generic function with 1 method)"
      ]
     },
     "execution_count": 1,
     "metadata": {},
     "output_type": "execute_result"
    }
   ],
   "source": [
    "function SumMat(A,B)\n",
    "    n=size(A) #Definimos n del tamaño de la matriz A\n",
    "    \n",
    "    if n !=size(B)\n",
    "        println(\"Las matrices deben ser de la misma dimensión\") #Esto va a suceder cuando las matrices no sean del mismo tamaño, no se va a realizar la operación\n",
    "    else\n",
    "        C=zeros(A) #Esta va a ser nuestra matriz resultante \n",
    "        i=1\n",
    "        j=1\n",
    "        for h ∈ 1:2 #Va a ir de 1 hasta 2 porque son matrices cuadradas\n",
    "            for m ∈ 1:2\n",
    "            C[i,j]=A[i,j]+B[i,j] #Decimos que la entrada i,j de C va a ser igual a la suma de la misma entrada en A + la misma entrada en B\n",
    "            i=i+1 #Aquí le decimos que vaya recorriendo renglón por renglón\n",
    "            end\n",
    "            i=1\n",
    "            j=j+1\n",
    "        end\n",
    "        C\n",
    "    end\n",
    "end      "
   ]
  },
  {
   "cell_type": "markdown",
   "metadata": {},
   "source": [
    "Una vez definida nuestra función, vamos a probarla con matrices aleatorias:"
   ]
  },
  {
   "cell_type": "code",
   "execution_count": 2,
   "metadata": {},
   "outputs": [
    {
     "data": {
      "text/plain": [
       "2×2 Array{Float64,2}:\n",
       " 0.465083  0.199151\n",
       " 0.781546  0.846741"
      ]
     },
     "execution_count": 2,
     "metadata": {},
     "output_type": "execute_result"
    }
   ],
   "source": [
    "A = rand(2,2)"
   ]
  },
  {
   "cell_type": "code",
   "execution_count": 3,
   "metadata": {},
   "outputs": [
    {
     "data": {
      "text/plain": [
       "2×2 Array{Float64,2}:\n",
       " 0.231094  0.0228099\n",
       " 0.599149  0.763205 "
      ]
     },
     "execution_count": 3,
     "metadata": {},
     "output_type": "execute_result"
    }
   ],
   "source": [
    "B = rand(2,2)"
   ]
  },
  {
   "cell_type": "code",
   "execution_count": 4,
   "metadata": {},
   "outputs": [
    {
     "data": {
      "text/plain": [
       "2×2 Array{Float64,2}:\n",
       " 0.696177  0.221961\n",
       " 1.38069   1.60995 "
      ]
     },
     "execution_count": 4,
     "metadata": {},
     "output_type": "execute_result"
    }
   ],
   "source": [
    "SumMat(A,B)"
   ]
  },
  {
   "cell_type": "markdown",
   "metadata": {},
   "source": [
    "Otro ejemplo:"
   ]
  },
  {
   "cell_type": "code",
   "execution_count": 5,
   "metadata": {},
   "outputs": [
    {
     "data": {
      "text/plain": [
       "2×2 Array{Int64,2}:\n",
       " 2  5\n",
       " 3  7"
      ]
     },
     "execution_count": 5,
     "metadata": {},
     "output_type": "execute_result"
    }
   ],
   "source": [
    "A=hcat([2,3],[5,7])"
   ]
  },
  {
   "cell_type": "code",
   "execution_count": 6,
   "metadata": {},
   "outputs": [
    {
     "data": {
      "text/plain": [
       "2×2 Array{Int64,2}:\n",
       " 4  8\n",
       " 2  5"
      ]
     },
     "execution_count": 6,
     "metadata": {},
     "output_type": "execute_result"
    }
   ],
   "source": [
    "B=hcat([4,2],[8,5])"
   ]
  },
  {
   "cell_type": "code",
   "execution_count": 7,
   "metadata": {},
   "outputs": [
    {
     "data": {
      "text/plain": [
       "2×2 Array{Int64,2}:\n",
       " 6  13\n",
       " 5  12"
      ]
     },
     "execution_count": 7,
     "metadata": {},
     "output_type": "execute_result"
    }
   ],
   "source": [
    "SumMat(A,B)"
   ]
  },
  {
   "cell_type": "markdown",
   "metadata": {},
   "source": [
    "Y un último ejemplo:"
   ]
  },
  {
   "cell_type": "code",
   "execution_count": 9,
   "metadata": {},
   "outputs": [
    {
     "data": {
      "text/plain": [
       "2×3 Array{Int64,2}:\n",
       " 2  5  9\n",
       " 3  7  1"
      ]
     },
     "execution_count": 9,
     "metadata": {},
     "output_type": "execute_result"
    }
   ],
   "source": [
    "A =hcat([2,3],[5,7],[9,1])"
   ]
  },
  {
   "cell_type": "code",
   "execution_count": 10,
   "metadata": {},
   "outputs": [
    {
     "data": {
      "text/plain": [
       "2×2 Array{Int64,2}:\n",
       "  2  5\n",
       " 11  3"
      ]
     },
     "execution_count": 10,
     "metadata": {},
     "output_type": "execute_result"
    }
   ],
   "source": [
    "B=hcat([2,11],[5,3])"
   ]
  },
  {
   "cell_type": "code",
   "execution_count": 11,
   "metadata": {},
   "outputs": [
    {
     "name": "stdout",
     "output_type": "stream",
     "text": [
      "Las matrices deben ser de la misma dimensión\n"
     ]
    }
   ],
   "source": [
    "SumMat(A,B)"
   ]
  },
  {
   "cell_type": "markdown",
   "metadata": {},
   "source": [
    "Y aquí observamos lo que sucede cuando las matrices no son de la misma dimensión."
   ]
  },
  {
   "cell_type": "markdown",
   "metadata": {},
   "source": [
    "**Para el caso generalizado definimos los renglones i, j y un ciclo for que considere las dimesiones de las matrices para repetirse i o j veces, este contendra a otro dentro ciclo for para que recorra todos los componentes de la matriz.**\n"
   ]
  },
  {
   "cell_type": "code",
   "execution_count": 12,
   "metadata": {},
   "outputs": [
    {
     "data": {
      "text/plain": [
       "SumaMat (generic function with 1 method)"
      ]
     },
     "execution_count": 12,
     "metadata": {},
     "output_type": "execute_result"
    }
   ],
   "source": [
    "function SumaMat(A,B)\n",
    "    n=size(A)\n",
    "    \n",
    "    if n !=size(B)\n",
    "        println(\"Las matrices deben de ser de la misma dimensión\")\n",
    "    else\n",
    "        C=zeros(A)\n",
    "        i=1\n",
    "        j=1\n",
    "        for h ∈ 1:n[2]\n",
    "            for m ∈ 1:n[1]\n",
    "            C[i,j]=A[i,j]+B[i,j]\n",
    "            i=i+1\n",
    "            end\n",
    "            i=1\n",
    "            j=j+1\n",
    "        end\n",
    "        C\n",
    "    end\n",
    "end      "
   ]
  }
 ],
 "metadata": {
  "kernelspec": {
   "display_name": "Julia 0.6.0",
   "language": "julia",
   "name": "julia-0.6"
  },
  "language_info": {
   "file_extension": ".jl",
   "mimetype": "application/julia",
   "name": "julia",
   "version": "0.6.0"
  }
 },
 "nbformat": 4,
 "nbformat_minor": 2
}
