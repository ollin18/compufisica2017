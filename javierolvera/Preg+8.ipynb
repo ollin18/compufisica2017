{
 "cells": [
  {
   "cell_type": "markdown",
   "metadata": {},
   "source": [
    "a) Este programa obtiene el producto interior de dos vectores en $R^3$ insertados por el usuario  "
   ]
  },
  {
   "cell_type": "code",
   "execution_count": 1,
   "metadata": {},
   "outputs": [
    {
     "data": {
      "text/plain": [
       "prodvect (generic function with 1 method)"
      ]
     },
     "execution_count": 1,
     "metadata": {},
     "output_type": "execute_result"
    }
   ],
   "source": [
    "function prodvect(A,B)\n",
    "    p=A[1]*B[1]+A[2]*B[2]+A[3]*B[3] #El producto escalar se obtiene multiplicando componente a componente y sumando los resultados\n",
    "    print(\"El producto interno de los vectores A y B es: $p\")\n",
    "end"
   ]
  },
  {
   "cell_type": "code",
   "execution_count": 18,
   "metadata": {},
   "outputs": [],
   "source": [
    "A=[1,2,3]\n",
    "B=[4,5,6];"
   ]
  },
  {
   "cell_type": "code",
   "execution_count": 4,
   "metadata": {},
   "outputs": [
    {
     "name": "stdout",
     "output_type": "stream",
     "text": [
      "El producto interno de los vectores A y B es: 32"
     ]
    }
   ],
   "source": [
    "prodvect(A,B)"
   ]
  },
  {
   "cell_type": "markdown",
   "metadata": {},
   "source": [
    "b) Este programa obtiene el producto interno de dos vectores en $R^n$ leídos de un archivo de datos"
   ]
  },
  {
   "cell_type": "code",
   "execution_count": 17,
   "metadata": {},
   "outputs": [],
   "source": [
    "A = [1,2,3]\n",
    "B=[4,5,6];"
   ]
  },
  {
   "cell_type": "code",
   "execution_count": 6,
   "metadata": {},
   "outputs": [],
   "source": [
    "writedlm(\"vectorA.csv\", A, '|')"
   ]
  },
  {
   "cell_type": "code",
   "execution_count": 7,
   "metadata": {},
   "outputs": [],
   "source": [
    "writedlm(\"vectorB.csv\", B, '|')"
   ]
  },
  {
   "cell_type": "code",
   "execution_count": 15,
   "metadata": {},
   "outputs": [],
   "source": [
    "u = readdlm(\"vectorA.csv\", '|');"
   ]
  },
  {
   "cell_type": "code",
   "execution_count": 16,
   "metadata": {},
   "outputs": [],
   "source": [
    "v = readdlm(\"vectorB.csv\", '|');"
   ]
  },
  {
   "cell_type": "code",
   "execution_count": 12,
   "metadata": {},
   "outputs": [
    {
     "data": {
      "text/plain": [
       "prodRn (generic function with 1 method)"
      ]
     },
     "execution_count": 12,
     "metadata": {},
     "output_type": "execute_result"
    }
   ],
   "source": [
    "function  prodRn( u , v )\n",
    "    if  length(u) ==  length(v)\n",
    "        p=0   #Se inicializa la variable p(producto) en cero\n",
    "        for i ∈ eachindex(u) #Crea un ciclo con el numero de iteraciones igual al número de componentes de los vectores tratados\n",
    "           p=u[i]*v[i]+p  #Se acumula el resultado de los productos\n",
    "        end\n",
    "        print(\"El producto de los vectores es: $p\")\n",
    "    else\n",
    "        print(\"¡Error! Distintas dimensiones!\")\n",
    "    end\n",
    "end\n"
   ]
  },
  {
   "cell_type": "code",
   "execution_count": 13,
   "metadata": {},
   "outputs": [
    {
     "name": "stdout",
     "output_type": "stream",
     "text": [
      "El producto de los vectores es: 32.0"
     ]
    }
   ],
   "source": [
    "prodRn(u,v)"
   ]
  },
  {
   "cell_type": "markdown",
   "metadata": {},
   "source": [
    "Un ejemplo con vectores de distintas dimensiones:"
   ]
  },
  {
   "cell_type": "code",
   "execution_count": 14,
   "metadata": {},
   "outputs": [
    {
     "name": "stdout",
     "output_type": "stream",
     "text": [
      "¡Error! Distintas dimensiones!"
     ]
    }
   ],
   "source": [
    "A=[2,3]\n",
    "B=[1,2,3]\n",
    "writedlm(\"vectorA.csv\", A, '|')\n",
    "writedlm(\"vectorB.csv\", B, '|')\n",
    "u = readdlm(\"vectorA.csv\", '|')\n",
    "v = readdlm(\"vectorB.csv\", '|')\n",
    "prodRn(u,v)"
   ]
  }
 ],
 "metadata": {
  "kernelspec": {
   "display_name": "Julia 0.6.0",
   "language": "julia",
   "name": "julia-0.6"
  },
  "language_info": {
   "file_extension": ".jl",
   "mimetype": "application/julia",
   "name": "julia",
   "version": "0.6.0"
  }
 },
 "nbformat": 4,
 "nbformat_minor": 2
}
