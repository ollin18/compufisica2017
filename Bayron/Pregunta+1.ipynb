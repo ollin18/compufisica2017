{
 "cells": [
  {
   "cell_type": "markdown",
   "metadata": {},
   "source": [
    "a) Calcular el promedio de dos números a  y  b introducidos por el usuario."
   ]
  },
  {
   "cell_type": "code",
   "execution_count": 1,
   "metadata": {},
   "outputs": [
    {
     "data": {
      "text/plain": [
       "Promedio (generic function with 1 method)"
      ]
     },
     "execution_count": 1,
     "metadata": {},
     "output_type": "execute_result"
    }
   ],
   "source": [
    "function Promedio(a,b) #El usuario va a introducir los numeros para sacar el promedio\n",
    "    c=0 #Creamos un contador\n",
    "    c=c+(a+b)/2 #Esta es la operacion que utilizamos para obtener el promedio\n",
    "    return c #Le decimos que imprima c\n",
    "end"
   ]
  },
  {
   "cell_type": "code",
   "execution_count": 2,
   "metadata": {},
   "outputs": [
    {
     "data": {
      "text/plain": [
       "9.5"
      ]
     },
     "execution_count": 2,
     "metadata": {},
     "output_type": "execute_result"
    }
   ],
   "source": [
    "Promedio(9,10)"
   ]
  },
  {
   "cell_type": "markdown",
   "metadata": {},
   "source": [
    "b) La suma desde 0 hasta un numero n introducido por el usuario."
   ]
  },
  {
   "cell_type": "code",
   "execution_count": 3,
   "metadata": {},
   "outputs": [
    {
     "data": {
      "text/plain": [
       "SumaNaturales (generic function with 1 method)"
      ]
     },
     "execution_count": 3,
     "metadata": {},
     "output_type": "execute_result"
    }
   ],
   "source": [
    "function SumaNaturales(N) #\"N\" es el numero que el usuario va introsucir para su suma\n",
    "i=0\n",
    "k=1\n",
    "    for n in 1:N #Creamos un For para que valla sumando todos los numeros detras del numero que introjo el usuario\n",
    "    i=i+k;\n",
    "    k=k+1;\n",
    "    end\n",
    "    print(i) #Pedimos al programa que imprima la variable i puesto que en esta esta el resultado\n",
    "end"
   ]
  },
  {
   "cell_type": "code",
   "execution_count": 4,
   "metadata": {},
   "outputs": [
    {
     "name": "stdout",
     "output_type": "stream",
     "text": [
      "5050"
     ]
    }
   ],
   "source": [
    "SumaNaturales(100)"
   ]
  },
  {
   "cell_type": "markdown",
   "metadata": {},
   "source": [
    "c) Calcular el factorial de un numero introducido por el usuario."
   ]
  },
  {
   "cell_type": "code",
   "execution_count": 5,
   "metadata": {},
   "outputs": [
    {
     "data": {
      "text/plain": [
       "fact (generic function with 1 method)"
      ]
     },
     "execution_count": 5,
     "metadata": {},
     "output_type": "execute_result"
    }
   ],
   "source": [
    "function fact(N)\n",
    "    factm=0 #Ponemos el contador\n",
    "        if N==0 || N==1 # decimos que si \"N\" es parecido a 0 o 1 diga que el resultado sea 1\n",
    "        factm=1\n",
    "            else #Y si no es 0 o 1 entonces realiza la siguiente operacion\n",
    "            factm=(N*(fact(N-1)))  #hara la operacion hasta que N sea 0\n",
    "        end \n",
    "end"
   ]
  },
  {
   "cell_type": "code",
   "execution_count": 6,
   "metadata": {},
   "outputs": [
    {
     "data": {
      "text/plain": [
       "120"
      ]
     },
     "execution_count": 6,
     "metadata": {},
     "output_type": "execute_result"
    }
   ],
   "source": [
    "fact(5)"
   ]
  },
  {
   "cell_type": "code",
   "execution_count": 7,
   "metadata": {},
   "outputs": [
    {
     "data": {
      "text/plain": [
       "Expo (generic function with 1 method)"
      ]
     },
     "execution_count": 7,
     "metadata": {},
     "output_type": "execute_result"
    }
   ],
   "source": [
    "function Expo(a,b)\n",
    "    x=0.0 #Nombramos una variable que guardará el valor de \"x\" \n",
    "    x=a^b #Aplicamos la operación de elevar a a la potencia b\n",
    "    print(x) #Se pide que se imprima \"x\"\n",
    "end"
   ]
  },
  {
   "cell_type": "code",
   "execution_count": 8,
   "metadata": {},
   "outputs": [
    {
     "name": "stdout",
     "output_type": "stream",
     "text": [
      "4"
     ]
    }
   ],
   "source": [
    "Expo(2,2)"
   ]
  },
  {
   "cell_type": "code",
   "execution_count": null,
   "metadata": {},
   "outputs": [],
   "source": []
  }
 ],
 "metadata": {
  "kernelspec": {
   "display_name": "Julia 0.5.2",
   "language": "julia",
   "name": "julia-0.5"
  },
  "language_info": {
   "file_extension": ".jl",
   "mimetype": "application/julia",
   "name": "julia",
   "version": "0.5.2"
  }
 },
 "nbformat": 4,
 "nbformat_minor": 2
}
