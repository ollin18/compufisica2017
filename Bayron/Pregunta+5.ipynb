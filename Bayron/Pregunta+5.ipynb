{
 "cells": [
  {
   "cell_type": "markdown",
   "metadata": {},
   "source": [
    "Calcular las raíces de un polinomio cuadrático. El usuario debe proporcionar los coeficientes de la ecuación de 2° orden. El programa debe considerar los casos de i) raíces reales, ii) raíz doble y iii) raíces complejas.\n",
    "$$\n",
    "x=\\frac { -b\\pm \\sqrt { { b }^{ 2 }-4ac }  }{ 2a } \n",
    "$$"
   ]
  },
  {
   "cell_type": "code",
   "execution_count": 22,
   "metadata": {},
   "outputs": [
    {
     "data": {
      "text/plain": [
       "EcuCua (generic function with 1 method)"
      ]
     },
     "execution_count": 22,
     "metadata": {},
     "output_type": "execute_result"
    }
   ],
   "source": [
    "function EcuCua(a,b,c)\n",
    "    if c==0 #Esto es por si C es 0 entonces solo sera un resultado y solo nos de un resultado el programa\n",
    "        x=(-b/a)\n",
    "        print(\"Raices reales\"\"\\nx=\" ,x)\n",
    "    else\n",
    "        if b==0 #Si lo que esta dentro de la raiz es negativo entonces usamos los numeros complejos\n",
    "        x1=(-b)+(sqrt(complex((b^2)-4a*c)))/2a #Aqui usaremos la formula para resolver las ecuaciones cuadradas pero con numeros complejos\n",
    "        x2=(-b)-(sqrt(complex((b^2)-4a*c)))/2a\n",
    "        print(\"Raiz Compleja\"\"\\nraiz 1:\",x1,\"\\nraiz 2:\",x2)\n",
    "        else\n",
    "            if b !=0 && c !=0 && ((b^2)-4a*c) >=0  #Si lo que esta adentro de la raiz es positivo y \"c, b\" distinto de 0 prosigue el programa\n",
    "            x1 = (-b + sqrt(b^2 - 4*a*c)) / (2 * a) #Aqui usaremos la formula para resolver las ecuaciones cuadradas\n",
    "            x2 = (-b - sqrt(b^2 - 4*a*c)) / (2 * a)\n",
    "            print(\"Raiz doble\"\"\\nraiz 1:\",x1,\"\\nraiz 2:\",x2)\n",
    "            end\n",
    "        end\n",
    "    end\n",
    "end"
   ]
  },
  {
   "cell_type": "code",
   "execution_count": 23,
   "metadata": {},
   "outputs": [
    {
     "name": "stdout",
     "output_type": "stream",
     "text": [
      "Raiz doble\n",
      "raiz 1:5.0\n",
      "raiz 2:1.0"
     ]
    }
   ],
   "source": [
    "EcuCua(1,-6,5)"
   ]
  },
  {
   "cell_type": "code",
   "execution_count": 24,
   "metadata": {},
   "outputs": [
    {
     "name": "stdout",
     "output_type": "stream",
     "text": [
      "Raiz Compleja\n",
      "raiz 1:0.0 + 2.0im\n",
      "raiz 2:0.0 - 2.0im"
     ]
    }
   ],
   "source": [
    "EcuCua(1,0,4)"
   ]
  },
  {
   "cell_type": "code",
   "execution_count": 25,
   "metadata": {},
   "outputs": [
    {
     "name": "stdout",
     "output_type": "stream",
     "text": [
      "Raices reales\n",
      "x=4.0"
     ]
    }
   ],
   "source": [
    "EcuCua(2,-8,0)"
   ]
  },
  {
   "cell_type": "code",
   "execution_count": null,
   "metadata": {},
   "outputs": [],
   "source": []
  }
 ],
 "metadata": {
  "kernelspec": {
   "display_name": "Julia 0.6.0",
   "language": "julia",
   "name": "julia-0.6"
  },
  "language_info": {
   "file_extension": ".jl",
   "mimetype": "application/julia",
   "name": "julia",
   "version": "0.6.0"
  }
 },
 "nbformat": 4,
 "nbformat_minor": 2
}
