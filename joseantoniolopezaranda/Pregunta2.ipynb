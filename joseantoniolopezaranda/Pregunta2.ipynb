{
 "cells": [
  {
   "cell_type": "code",
   "execution_count": 1,
   "metadata": {},
   "outputs": [
    {
     "data": {
      "text/plain": [
       "Comb (generic function with 1 method)"
      ]
     },
     "execution_count": 1,
     "metadata": {},
     "output_type": "execute_result"
    }
   ],
   "source": [
    "function Comb(n,r)\n",
    "    if n>r\n",
    "        c=0 #Aquí abrimos un contador que guardara la operación final\n",
    "        if n>=0 #Pedimos como codicion que sea mayor o igual a 0\n",
    "            i1=1 #Establecemos una variable que guardara el factorial de n\n",
    "            k1=1 #Establecemos un contador que ira sacando el factorial de n\n",
    "            while n>=k1 #Iniciamos un ciclo que terminara hasta que k1 sea mayor que n\n",
    "                i1=i1*k1 #multiplicamos k1 por i1 para que el ciclo siga\n",
    "                k1+=1 #sumamos 1 para que el ciclo continue\n",
    "            end\n",
    "            if r>=0 #Pedimos que r sea mayor o igual a 0\n",
    "                i2=1 #Establecemos una variable que guardara el factorial de r\n",
    "                k2=1 #Establecemos un contador que ira sacando el factorial de r\n",
    "                while r>=k2 #Iniciamos un ciclo que terminara hasta que k2 sea mayor que r\n",
    "                    i2=i2*k2 #multiplicamos k2 por i2 para que el ciclo siga\n",
    "                    k2+=1 #sumamos 1 para que el ciclo continue\n",
    "                end\n",
    "                if (n-r)>=0 #Pedimos que n-r sea mayor o igual a 0\n",
    "                    i=1 #Establecemos una variable que guardara el factorial de n-r\n",
    "                    k3=1 #Establecemos un contador que ira sacando el factorial de n-r\n",
    "                    while (n-r)>=k3 #Iniciamos un ciclo que terminara hasta que k3 sea mayor que n-r\n",
    "                        i = i*k3 #multiplicamos k3 por i para que el ciclo siga\n",
    "                        k3+=1 #sumamos 1 para que el ciclo continue\n",
    "                    end\n",
    "                end\n",
    "            end\n",
    "        end\n",
    "        c=i1/(i*i2) #c será igual a ese resultado,obtenido de i1,i2,i\n",
    "        print(c) #Le pedimos que nos regrese \"c\"\n",
    "    else\n",
    "        print(\"r>n,checar\")\n",
    "    end\n",
    "end"
   ]
  },
  {
   "cell_type": "code",
   "execution_count": 63,
   "metadata": {},
   "outputs": [
    {
     "name": "stdout",
     "output_type": "stream",
     "text": [
      "4.0"
     ]
    }
   ],
   "source": [
    "Comb(4,3)"
   ]
  },
  {
   "cell_type": "code",
   "execution_count": 62,
   "metadata": {},
   "outputs": [
    {
     "name": "stdout",
     "output_type": "stream",
     "text": [
      "r>n,checar"
     ]
    }
   ],
   "source": [
    "Comb(8,10)"
   ]
  },
  {
   "cell_type": "code",
   "execution_count": null,
   "metadata": {},
   "outputs": [],
   "source": []
  }
 ],
 "metadata": {
  "kernelspec": {
   "display_name": "Julia 0.5.2",
   "language": "julia",
   "name": "julia-0.5"
  },
  "language_info": {
   "file_extension": ".jl",
   "mimetype": "application/julia",
   "name": "julia",
   "version": "0.5.2"
  }
 },
 "nbformat": 4,
 "nbformat_minor": 2
}
