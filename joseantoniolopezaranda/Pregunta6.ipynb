{
 "cells": [
  {
   "cell_type": "code",
   "execution_count": 48,
   "metadata": {},
   "outputs": [
    {
     "name": "stderr",
     "output_type": "stream",
     "text": [
      "WARNING: Method definition ProdCruz3x3(Any, Any) in module Main at In[38]:2 overwritten at In[48]:2.\n"
     ]
    },
    {
     "data": {
      "text/plain": [
       "ProdCruz3x3 (generic function with 1 method)"
      ]
     },
     "execution_count": 48,
     "metadata": {},
     "output_type": "execute_result"
    }
   ],
   "source": [
    "function ProdCruz3x3(u,v)\n",
    "    if length(u)==length(v)==3 #Aquí le pedimos que el tamaño de ambos vectores sea igual a 3\n",
    "        p=0 #Aquí creamos una variable que va a guardar un valor x del vector\n",
    "        f=0 #Aquí creamos una variable que va a guardar un valor y del vector\n",
    "        h=0 #Aquí creamos una variable que va a guardar un valor z del vector\n",
    "        p= ((u[2,1]*v[3,1])-(u[3,1]*v[2,1])) #Aquí resolvemos un determinante 2x2 que corresponde al valor de \"x\"\n",
    "        f= -((u[3,1]*v[1,1])-(u[1,1]*v[3,1])) #Aquí resolvemos un determinante 2x2 que corresponde al valor de \"y\"\n",
    "        h= ((u[1,1]*v[2,1])-(u[2,1]*v[1,1])) #Aquí resolvemos un determinante 2x2 que corresponde al valor de \"z\"\n",
    "    end\n",
    "    C=(p,f,h) #Aquí metemos los valores de los determinantes en un vector\n",
    "    print(C) #Aquí le pedimos que imprima el vector resultante.\n",
    "end  "
   ]
  },
  {
   "cell_type": "code",
   "execution_count": 49,
   "metadata": {},
   "outputs": [],
   "source": [
    "u=[1,2,3]\n",
    "v=[3,6,7];"
   ]
  },
  {
   "cell_type": "code",
   "execution_count": 52,
   "metadata": {},
   "outputs": [
    {
     "name": "stdout",
     "output_type": "stream",
     "text": [
      "(-4,-2,0)"
     ]
    }
   ],
   "source": [
    "ProdCruz3x3(u,v)"
   ]
  },
  {
   "cell_type": "code",
   "execution_count": null,
   "metadata": {},
   "outputs": [],
   "source": []
  }
 ],
 "metadata": {
  "kernelspec": {
   "display_name": "Julia 0.5.2",
   "language": "julia",
   "name": "julia-0.5"
  },
  "language_info": {
   "file_extension": ".jl",
   "mimetype": "application/julia",
   "name": "julia",
   "version": "0.5.2"
  }
 },
 "nbformat": 4,
 "nbformat_minor": 2
}
