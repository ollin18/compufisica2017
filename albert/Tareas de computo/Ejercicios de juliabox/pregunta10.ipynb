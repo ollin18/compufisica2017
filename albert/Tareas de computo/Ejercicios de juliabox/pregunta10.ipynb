{
 "cells": [
  {
   "cell_type": "code",
   "execution_count": 28,
   "metadata": {},
   "outputs": [
    {
     "data": {
      "text/plain": [
       "MatVec (generic function with 1 method)"
      ]
     },
     "execution_count": 28,
     "metadata": {},
     "output_type": "execute_result"
    }
   ],
   "source": [
    "function MatVec(mat,vec)\n",
    "    if size(mat)[2] == length(vec) # comparamos el tamaño de los vectores \n",
    "        R = zeros(size(mat)[1]) # hacemos el contador para el resultado \n",
    "        for i in 1:size(mat)[1] # operamos la columna de a \n",
    "            l=0 # guarda los reglones \n",
    "            for j in 1:size(mat)[2] # operaciones de la 2 columna de a \n",
    "                m=mat[i,j]*vec[j] # se multiplicara el ij\n",
    "                l+=m # le sumamos para que llene el contador \n",
    "            end\n",
    "            R[i]=l # el contador con el resultado \n",
    "        end\n",
    "        print(R) # imprimimos el resutado \n",
    "    end\n",
    "end"
   ]
  },
  {
   "cell_type": "code",
   "execution_count": 16,
   "metadata": {},
   "outputs": [
    {
     "data": {
      "text/plain": [
       "3×3 Array{Int64,2}:\n",
       " 1  7  8\n",
       " 8  4  6\n",
       " 1  5  6"
      ]
     },
     "execution_count": 16,
     "metadata": {},
     "output_type": "execute_result"
    }
   ],
   "source": [
    "M=[1 7 8;8 4 6;1 5 6]"
   ]
  },
  {
   "cell_type": "code",
   "execution_count": 17,
   "metadata": {},
   "outputs": [
    {
     "data": {
      "text/plain": [
       "3-element Array{Int64,1}:\n",
       " 1\n",
       " 7\n",
       " 5"
      ]
     },
     "execution_count": 17,
     "metadata": {},
     "output_type": "execute_result"
    }
   ],
   "source": [
    "V=[1,7,5]"
   ]
  },
  {
   "cell_type": "code",
   "execution_count": 29,
   "metadata": {},
   "outputs": [
    {
     "name": "stdout",
     "output_type": "stream",
     "text": [
      "[90.0, 66.0, 66.0]"
     ]
    }
   ],
   "source": [
    "MatVec(M,V)"
   ]
  },
  {
   "cell_type": "code",
   "execution_count": 56,
   "metadata": {},
   "outputs": [
    {
     "data": {
      "text/plain": [
       "MulMatr (generic function with 1 method)"
      ]
     },
     "execution_count": 56,
     "metadata": {},
     "output_type": "execute_result"
    }
   ],
   "source": [
    "function MulMatr(A,B)\n",
    "    if size(A)[2]== size(B)[1] # comparamos el tamaño de las matrices \n",
    "        M= zeros(size(A)[1],size(B)[2]) # creamos un contador para almacenar el mismo resultado \n",
    "        for i in 1:size(A)[1] # iniciamos el for \n",
    "            l=1 # marcamos las columnas de b \n",
    "            while l<=size(A)[1] # hacemos las condiciones del while\n",
    "                x=0 # abrimos un contador que almacena el resultado de w \n",
    "                for j in 1:size(B)[1] # para los renglones de b \n",
    "                    w=A[i,j]*B[j,l] # multiplicamos i con cada j \n",
    "                    x+=w # se suman los resultados de w\n",
    "                end\n",
    "                Res[i,l]=x # x es cada ij \n",
    "                l+=1 # recorremos la matriz de 1 en 1 \n",
    "            end\n",
    "        end\n",
    "        print(Res) # imprimimos el resultado \n",
    "    end\n",
    "end"
   ]
  },
  {
   "cell_type": "code",
   "execution_count": 58,
   "metadata": {},
   "outputs": [
    {
     "data": {
      "text/plain": [
       "3×3 Array{Int64,2}:\n",
       " 1  8  9\n",
       " 5  4  5\n",
       " 5  2  7"
      ]
     },
     "execution_count": 58,
     "metadata": {},
     "output_type": "execute_result"
    }
   ],
   "source": [
    "A= [1 8 9; 5 4 5; 5 2 7]"
   ]
  },
  {
   "cell_type": "code",
   "execution_count": 54,
   "metadata": {},
   "outputs": [
    {
     "name": "stdout",
     "output_type": "stream",
     "text": [
      "[115.0 103.0 34.0; 79.0 87.0 54.0; 81.0 97.0 56.0]"
     ]
    }
   ],
   "source": [
    "MulMatr(A,B)"
   ]
  },
  {
   "cell_type": "code",
   "execution_count": 53,
   "metadata": {},
   "outputs": [
    {
     "data": {
      "text/plain": [
       "3×3 Array{Int64,2}:\n",
       " 4  7  8\n",
       " 6  3  1\n",
       " 7  8  2"
      ]
     },
     "execution_count": 53,
     "metadata": {},
     "output_type": "execute_result"
    }
   ],
   "source": [
    "B=[4 7 8; 6 3 1;  7 8 2]"
   ]
  },
  {
   "cell_type": "code",
   "execution_count": null,
   "metadata": {},
   "outputs": [],
   "source": []
  }
 ],
 "metadata": {
  "kernelspec": {
   "display_name": "Julia 0.6.0",
   "language": "julia",
   "name": "julia-0.6"
  },
  "language_info": {
   "file_extension": ".jl",
   "mimetype": "application/julia",
   "name": "julia",
   "version": "0.6.0"
  }
 },
 "nbformat": 4,
 "nbformat_minor": 2
}
