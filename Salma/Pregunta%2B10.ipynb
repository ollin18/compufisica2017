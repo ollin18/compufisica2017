{
 "cells": [
  {
   "cell_type": "code",
   "execution_count": 1,
   "metadata": {},
   "outputs": [
    {
     "data": {
      "text/plain": [
       "MatVec (generic function with 1 method)"
      ]
     },
     "execution_count": 1,
     "metadata": {},
     "output_type": "execute_result"
    }
   ],
   "source": [
    "function MatVec(mat,vec)\n",
    "    if size(mat)[2] == length(vec) #el tamaño del renglon sera igual al del vector\n",
    "        R = zeros(size(mat)[1]) #el resultado sera del tamaño de las columbas de A\n",
    "        for i in 1:size(mat)[1] #en las columnas de a se haran todas las operaciones\n",
    "            l=0 #Esta variable guardara los elementos del renglon\n",
    "            for j in 1:size(mat)[2] #las operaciones de A en el segundo renglon\n",
    "                m=mat[i,j]*vec[j] #Se multiplicara el ij(esimo) renglon de A por la del vector\n",
    "                l+=m #le sumamos a k m para que se valla guardando\n",
    "            end\n",
    "            R[i]=l #vector resultante\n",
    "        end\n",
    "        print(R) #el programa imprime r\n",
    "    end\n",
    "end"
   ]
  },
  {
   "cell_type": "code",
   "execution_count": 2,
   "metadata": {},
   "outputs": [
    {
     "data": {
      "text/plain": [
       "3×3 Array{Int64,2}:\n",
       " 1  7  8\n",
       " 8  4  6\n",
       " 1  5  6"
      ]
     },
     "execution_count": 2,
     "metadata": {},
     "output_type": "execute_result"
    }
   ],
   "source": [
    "M=[1 7 8;8 4 6;1 5 6]"
   ]
  },
  {
   "cell_type": "code",
   "execution_count": 3,
   "metadata": {},
   "outputs": [
    {
     "data": {
      "text/plain": [
       "3-element Array{Int64,1}:\n",
       " 1\n",
       " 7\n",
       " 5"
      ]
     },
     "execution_count": 3,
     "metadata": {},
     "output_type": "execute_result"
    }
   ],
   "source": [
    "V=[1,7,5]"
   ]
  },
  {
   "cell_type": "code",
   "execution_count": 4,
   "metadata": {},
   "outputs": [
    {
     "name": "stdout",
     "output_type": "stream",
     "text": [
      "[90.0, 66.0, 66.0]"
     ]
    }
   ],
   "source": [
    "MatVec(M,V)"
   ]
  },
  {
   "cell_type": "code",
   "execution_count": 5,
   "metadata": {},
   "outputs": [
    {
     "data": {
      "text/plain": [
       "MulMatr (generic function with 1 method)"
      ]
     },
     "execution_count": 5,
     "metadata": {},
     "output_type": "execute_result"
    }
   ],
   "source": [
    "function MulMatr(A,B)\n",
    "    if size(A)[2]== size(B)[1] #El numero de columnas de A igual que el numero de renglones de B\n",
    "        M= zeros(size(A)[1],size(B)[2]) #Creamos una matriz del tamaño de los renglones de A y las columnas de B\n",
    "        for i in 1:size(A)[1] #A cada numero de los renglones de A\n",
    "            l=1 #estas son las columnas de B\n",
    "            while l<=size(A)[1] #si l es menor o igual al tamaño de los renglones de A entonces x=0\n",
    "                x=0 #este es un contador y guarda el resultado de w\n",
    "                for j in 1:size(B)[1] #A cada numero de los renglones de B\n",
    "                    w=A[i,j]*B[j,l] #Y vamos multiplicando el i esimo con el j esimo \n",
    "                    x+=w #Se van sumando los resultados de w\n",
    "                end\n",
    "                Res[i,l]=x #Entonces x es cada iesimo del resultado\n",
    "                l+=1 #Y vamos aumentando uno para que valla recorriendo en la matriz\n",
    "            end\n",
    "        end\n",
    "        print(Res) #matriz resultante\n",
    "    end\n",
    "end"
   ]
  },
  {
   "cell_type": "code",
   "execution_count": 6,
   "metadata": {},
   "outputs": [
    {
     "data": {
      "text/plain": [
       "3×3 Array{Int64,2}:\n",
       " 1  8  9\n",
       " 5  4  5\n",
       " 5  2  7"
      ]
     },
     "execution_count": 6,
     "metadata": {},
     "output_type": "execute_result"
    }
   ],
   "source": [
    "A= [1 8 9; 5 4 5; 5 2 7]"
   ]
  },
  {
   "cell_type": "code",
   "execution_count": 7,
   "metadata": {},
   "outputs": [
    {
     "ename": "LoadError",
     "evalue": "\u001b[91mUndefVarError: B not defined\u001b[39m",
     "output_type": "error",
     "traceback": [
      "\u001b[91mUndefVarError: B not defined\u001b[39m",
      "",
      "Stacktrace:",
      " [1] \u001b[1minclude_string\u001b[22m\u001b[22m\u001b[1m(\u001b[22m\u001b[22m::String, ::String\u001b[1m)\u001b[22m\u001b[22m at \u001b[1m./loading.jl:515\u001b[22m\u001b[22m"
     ]
    }
   ],
   "source": [
    "MulMatr(A,B)"
   ]
  },
  {
   "cell_type": "code",
   "execution_count": 8,
   "metadata": {},
   "outputs": [
    {
     "data": {
      "text/plain": [
       "3×3 Array{Int64,2}:\n",
       " 4  7  8\n",
       " 6  3  1\n",
       " 7  8  2"
      ]
     },
     "execution_count": 8,
     "metadata": {},
     "output_type": "execute_result"
    }
   ],
   "source": [
    "B=[4 7 8; 6 3 1;  7 8 2]"
   ]
  },
  {
   "cell_type": "code",
   "execution_count": 9,
   "metadata": {},
   "outputs": [
    {
     "ename": "LoadError",
     "evalue": "\u001b[91mUndefVarError: Res not defined\u001b[39m",
     "output_type": "error",
     "traceback": [
      "\u001b[91mUndefVarError: Res not defined\u001b[39m",
      "",
      "Stacktrace:",
      " [1] \u001b[1mMulMatr\u001b[22m\u001b[22m\u001b[1m(\u001b[22m\u001b[22m::Array{Int64,2}, ::Array{Int64,2}\u001b[1m)\u001b[22m\u001b[22m at \u001b[1m./In[5]:12\u001b[22m\u001b[22m",
      " [2] \u001b[1minclude_string\u001b[22m\u001b[22m\u001b[1m(\u001b[22m\u001b[22m::String, ::String\u001b[1m)\u001b[22m\u001b[22m at \u001b[1m./loading.jl:515\u001b[22m\u001b[22m"
     ]
    }
   ],
   "source": [
    "MulMatr(A,B)"
   ]
  },
  {
   "cell_type": "code",
   "execution_count": null,
   "metadata": {},
   "outputs": [],
   "source": []
  }
 ],
 "metadata": {
  "kernelspec": {
   "display_name": "Julia 0.6.0",
   "language": "julia",
   "name": "julia-0.6"
  },
  "language_info": {
   "file_extension": ".jl",
   "mimetype": "application/julia",
   "name": "julia",
   "version": "0.6.0"
  }
 },
 "nbformat": 4,
 "nbformat_minor": 2
}
