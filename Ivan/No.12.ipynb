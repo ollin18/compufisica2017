{
 "cells": [
  {
   "cell_type": "code",
   "execution_count": 2,
   "metadata": {},
   "outputs": [
    {
     "data": {
      "text/plain": [
       "MRU (generic function with 1 method)"
      ]
     },
     "execution_count": 2,
     "metadata": {},
     "output_type": "execute_result"
    }
   ],
   "source": [
    "function MRU(t1,t2,Δt,v) #t1 y t2 son el tiempo inicial y final, Δt es la separación entre cada tiempo,v es la velocidad\n",
    "    t= collect(t1:Δt:t2) #creamos un arreglo de tiemo desde t1 hasta t2 con espacio de Δt entre cada tiempo. \n",
    "    posición=zeros(collect(t1:Δt:t2)) #creamos un arreglo de ceros para guardar los datos de la posición\n",
    "    velocidad=zeros(length(t)) #creamos un arreglo de ceros para la velocidad\n",
    "    for i ∈ 1:length(t) #Hcemos que a todo elemento de t se le aplique las siguientes operaciones\n",
    "        if i != 1 #Hacemos que el elemento de t sea distinto de 1 \n",
    "            posición[i] = posición[i-1]+v*Δt #utilizamos la ecuación del mru, se le resta 1a i porque manejamos el Δt en la ecuación\n",
    "        end\n",
    "    end\n",
    "    velocidad=velocidad .+ v #declaramos que la velocidad sera obtenida sumando a cada elemento del arreglo la velocidad dada\n",
    "    mrudatos= hcat(t,posición,velocidad)#concatenamos los datos obtenidos\n",
    "    writedlm(\"mrudatos.csv\",mrudatos,'|') #escribimos los datos en un archivo\n",
    "    print(t,posición,velocidad) #pedimos que regrese los datos de tiempo, posición y velocidad\n",
    "end   "
   ]
  },
  {
   "cell_type": "code",
   "execution_count": 3,
   "metadata": {},
   "outputs": [
    {
     "name": "stdout",
     "output_type": "stream",
     "text": [
      "[0.0,0.5,1.0,1.5,2.0,2.5,3.0,3.5,4.0,4.5,5.0,5.5,6.0,6.5,7.0,7.5,8.0,8.5,9.0,9.5,10.0,10.5,11.0,11.5,12.0,12.5,13.0,13.5,14.0,14.5,15.0,15.5,16.0,16.5,17.0,17.5,18.0,18.5,19.0,19.5,20.0,20.5,21.0,21.5,22.0,22.5,23.0,23.5,24.0,24.5,25.0,25.5,26.0,26.5,27.0,27.5,28.0,28.5,29.0,29.5,30.0,30.5,31.0,31.5,32.0,32.5,33.0,33.5,34.0,34.5,35.0,35.5,36.0,36.5,37.0,37.5,38.0,38.5,39.0,39.5,40.0,40.5,41.0,41.5,42.0,42.5,43.0,43.5,44.0,44.5,45.0,45.5,46.0,46.5,47.0,47.5,48.0,48.5,49.0,49.5,50.0,50.5,51.0,51.5,52.0,52.5,53.0,53.5,54.0,54.5,55.0,55.5,56.0,56.5,57.0,57.5,58.0,58.5,59.0,59.5,60.0,60.5,61.0,61.5,62.0,62.5,63.0,63.5,64.0,64.5,65.0,65.5,66.0,66.5,67.0,67.5,68.0,68.5,69.0,69.5,70.0][0.0,22.5,45.0,67.5,90.0,112.5,135.0,157.5,180.0,202.5,225.0,247.5,270.0,292.5,315.0,337.5,360.0,382.5,405.0,427.5,450.0,472.5,495.0,517.5,540.0,562.5,585.0,607.5,630.0,652.5,675.0,697.5,720.0,742.5,765.0,787.5,810.0,832.5,855.0,877.5,900.0,922.5,945.0,967.5,990.0,1012.5,1035.0,1057.5,1080.0,1102.5,1125.0,1147.5,1170.0,1192.5,1215.0,1237.5,1260.0,1282.5,1305.0,1327.5,1350.0,1372.5,1395.0,1417.5,1440.0,1462.5,1485.0,1507.5,1530.0,1552.5,1575.0,1597.5,1620.0,1642.5,1665.0,1687.5,1710.0,1732.5,1755.0,1777.5,1800.0,1822.5,1845.0,1867.5,1890.0,1912.5,1935.0,1957.5,1980.0,2002.5,2025.0,2047.5,2070.0,2092.5,2115.0,2137.5,2160.0,2182.5,2205.0,2227.5,2250.0,2272.5,2295.0,2317.5,2340.0,2362.5,2385.0,2407.5,2430.0,2452.5,2475.0,2497.5,2520.0,2542.5,2565.0,2587.5,2610.0,2632.5,2655.0,2677.5,2700.0,2722.5,2745.0,2767.5,2790.0,2812.5,2835.0,2857.5,2880.0,2902.5,2925.0,2947.5,2970.0,2992.5,3015.0,3037.5,3060.0,3082.5,3105.0,3127.5,3150.0][45.0,45.0,45.0,45.0,45.0,45.0,45.0,45.0,45.0,45.0,45.0,45.0,45.0,45.0,45.0,45.0,45.0,45.0,45.0,45.0,45.0,45.0,45.0,45.0,45.0,45.0,45.0,45.0,45.0,45.0,45.0,45.0,45.0,45.0,45.0,45.0,45.0,45.0,45.0,45.0,45.0,45.0,45.0,45.0,45.0,45.0,45.0,45.0,45.0,45.0,45.0,45.0,45.0,45.0,45.0,45.0,45.0,45.0,45.0,45.0,45.0,45.0,45.0,45.0,45.0,45.0,45.0,45.0,45.0,45.0,45.0,45.0,45.0,45.0,45.0,45.0,45.0,45.0,45.0,45.0,45.0,45.0,45.0,45.0,45.0,45.0,45.0,45.0,45.0,45.0,45.0,45.0,45.0,45.0,45.0,45.0,45.0,45.0,45.0,45.0,45.0,45.0,45.0,45.0,45.0,45.0,45.0,45.0,45.0,45.0,45.0,45.0,45.0,45.0,45.0,45.0,45.0,45.0,45.0,45.0,45.0,45.0,45.0,45.0,45.0,45.0,45.0,45.0,45.0,45.0,45.0,45.0,45.0,45.0,45.0,45.0,45.0,45.0,45.0,45.0,45.0]"
     ]
    }
   ],
   "source": [
    "MRU(0,70,0.5,45)"
   ]
  },
  {
   "cell_type": "code",
   "execution_count": 4,
   "metadata": {},
   "outputs": [
    {
     "data": {
      "text/plain": [
       "MUA (generic function with 1 method)"
      ]
     },
     "execution_count": 4,
     "metadata": {},
     "output_type": "execute_result"
    }
   ],
   "source": [
    "function MUA(t1,t2,Δt,v_0,a) #t1 y t2 son los tiempos inicial y final, Δt es el espacio entre cada tiempo, v_0 se refiere a la velocidad inicial y a es la aceleración. \n",
    "    t= collect(t1:Δt:t2) #aquí creamos un arreglo de tiemo desde t1 hasta t2 con espacio de Δt entre cada tiempo. \n",
    "    posición=zeros(collect(t1:Δt:t2)) #Aquí creamos un arreglo de ceros para guardar los datos de la posición\n",
    "    velocidad=zeros(collect(t1:Δt:t2)) #Aquí creamos un arreglo de ceros para la velocidad\n",
    "    for i ∈ 1:length(t) #Le pedimos que a todo elemento de t se le aplique las siguientes operaciones\n",
    "        if i != 1 #le pedimos que el elemento de t sea distinto de 1 \n",
    "            posición[i]=(v_0*t[i])+(1/2*a*(t[i])^2) #Aquí utilizamos la ecuación del mua \"X(t)=v_0t + 1/2at^2\"\n",
    "            velocidad[i]=v_0+a*t[i] #Aquí utilizamos la ecuación de la velocidad en el mua \"V(t)=v_0 + at\"\n",
    "        end\n",
    "    end\n",
    "    muadatos= hcat(t,posición,velocidad)#Aquí concatenamos los datos obtenidos\n",
    "    writedlm(\"muadatos.csv\",muadatos,'|') #Aquí escribimos los datos en un archivo\n",
    "    print(t,posición,velocidad) #Aquí le pedimos que imprima los datos del tiempo, la posición y la velocidad\n",
    "end  "
   ]
  },
  {
   "cell_type": "code",
   "execution_count": 5,
   "metadata": {},
   "outputs": [
    {
     "name": "stdout",
     "output_type": "stream",
     "text": [
      "[0.0,0.5,1.0,1.5,2.0,2.5,3.0,3.5,4.0,4.5,5.0,5.5,6.0,6.5,7.0,7.5,8.0,8.5,9.0,9.5,10.0,10.5,11.0,11.5,12.0,12.5,13.0,13.5,14.0,14.5,15.0,15.5,16.0,16.5,17.0,17.5,18.0,18.5,19.0,19.5,20.0,20.5,21.0,21.5,22.0,22.5,23.0,23.5,24.0,24.5,25.0,25.5,26.0,26.5,27.0,27.5,28.0,28.5,29.0,29.5,30.0,30.5,31.0,31.5,32.0,32.5,33.0,33.5,34.0,34.5,35.0,35.5,36.0,36.5,37.0,37.5,38.0,38.5,39.0,39.5,40.0,40.5,41.0,41.5,42.0,42.5,43.0,43.5,44.0,44.5,45.0,45.5,46.0,46.5,47.0,47.5,48.0,48.5,49.0,49.5,50.0,50.5,51.0,51.5,52.0,52.5,53.0,53.5,54.0,54.5,55.0,55.5,56.0,56.5,57.0][0.0,2.75,7.0,12.75,20.0,28.75,39.0,50.75,64.0,78.75,95.0,112.75,132.0,152.75,175.0,198.75,224.0,250.75,279.0,308.75,340.0,372.75,407.0,442.75,480.0,518.75,559.0,600.75,644.0,688.75,735.0,782.75,832.0,882.75,935.0,988.75,1044.0,1100.75,1159.0,1218.75,1280.0,1342.75,1407.0,1472.75,1540.0,1608.75,1679.0,1750.75,1824.0,1898.75,1975.0,2052.75,2132.0,2212.75,2295.0,2378.75,2464.0,2550.75,2639.0,2728.75,2820.0,2912.75,3007.0,3102.75,3200.0,3298.75,3399.0,3500.75,3604.0,3708.75,3815.0,3922.75,4032.0,4142.75,4255.0,4368.75,4484.0,4600.75,4719.0,4838.75,4960.0,5082.75,5207.0,5332.75,5460.0,5588.75,5719.0,5850.75,5984.0,6118.75,6255.0,6392.75,6532.0,6672.75,6815.0,6958.75,7104.0,7250.75,7399.0,7548.75,7700.0,7852.75,8007.0,8162.75,8320.0,8478.75,8639.0,8800.75,8964.0,9128.75,9295.0,9462.75,9632.0,9802.75,9975.0][0.0,7.0,10.0,13.0,16.0,19.0,22.0,25.0,28.0,31.0,34.0,37.0,40.0,43.0,46.0,49.0,52.0,55.0,58.0,61.0,64.0,67.0,70.0,73.0,76.0,79.0,82.0,85.0,88.0,91.0,94.0,97.0,100.0,103.0,106.0,109.0,112.0,115.0,118.0,121.0,124.0,127.0,130.0,133.0,136.0,139.0,142.0,145.0,148.0,151.0,154.0,157.0,160.0,163.0,166.0,169.0,172.0,175.0,178.0,181.0,184.0,187.0,190.0,193.0,196.0,199.0,202.0,205.0,208.0,211.0,214.0,217.0,220.0,223.0,226.0,229.0,232.0,235.0,238.0,241.0,244.0,247.0,250.0,253.0,256.0,259.0,262.0,265.0,268.0,271.0,274.0,277.0,280.0,283.0,286.0,289.0,292.0,295.0,298.0,301.0,304.0,307.0,310.0,313.0,316.0,319.0,322.0,325.0,328.0,331.0,334.0,337.0,340.0,343.0,346.0]"
     ]
    }
   ],
   "source": [
    "MUA(0,57,0.5,4,6)"
   ]
  },
  {
   "cell_type": "code",
   "execution_count": 6,
   "metadata": {},
   "outputs": [
    {
     "data": {
      "text/plain": [
       "TiroPa (generic function with 1 method)"
      ]
     },
     "execution_count": 6,
     "metadata": {},
     "output_type": "execute_result"
    }
   ],
   "source": [
    "function TiroPa(t1,t2,Δt,θ,g,v_0) #t1,t2 y Δt corresponden al tiempo inicial,final y separación entre cada tiempo,Θ es el angulo, g es el valor de la gravedad, v_0 es la velocidad inicial\n",
    "    t=collect(t1:Δt:t2) #aquí creamos un arreglo de tiemo desde t1 hasta t2 con espacio de Δt entre cada tiempo.\n",
    "    X=zeros(t) #Aquí creamos un arreglo que guardara la posición en X \n",
    "    Y=zeros(t) #Aquí creamos un arreglo que guardara l posición en Y\n",
    "    for i in eachindex(t) #Le pedimos que a todo elemento de t se le aplique las siguientes operaciones\n",
    "        X[i] = v_0*cos(θ)*t[i] #Aquí utilizamos la ecuación\n",
    "        Y[i] = (-(1/2*g*t[i]^2)+v_0*sin(θ)*t[i]) #Aquí utilizamos la ecuación\n",
    "    end\n",
    "    Datos=hcat(t,X,Y) #Aquí concatenamos los datos obtenidos\n",
    "    writedlm(\"Datos.csv\",Datos,'|') #Aquí escribimos los datos en un archivo\n",
    "    print(t,X,Y) #Aquí le pedimos que imprima los datos del tiempo, la posición en X y Y\n",
    "end "
   ]
  },
  {
   "cell_type": "code",
   "execution_count": 7,
   "metadata": {},
   "outputs": [
    {
     "name": "stdout",
     "output_type": "stream",
     "text": [
      "[0.0,0.125,0.25,0.375,0.5,0.625,0.75,0.875,1.0,1.125,1.25,1.375,1.5,1.625,1.75,1.875,2.0,2.125,2.25,2.375,2.5,2.625,2.75,2.875,3.0,3.125,3.25,3.375,3.5,3.625,3.75,3.875,4.0,4.125,4.25,4.375,4.5,4.625,4.75,4.875,5.0,5.125,5.25,5.375,5.5,5.625,5.75,5.875,6.0,6.125,6.25,6.375,6.5,6.625,6.75,6.875,7.0][0.0,8.83883,17.6777,26.5165,35.3553,44.1942,53.033,61.8718,70.7107,79.5495,88.3883,97.2272,106.066,114.905,123.744,132.583,141.421,150.26,159.099,167.938,176.777,185.616,194.454,203.293,212.132,220.971,229.81,238.649,247.487,256.326,265.165,274.004,282.843,291.682,300.52,309.359,318.198,327.037,335.876,344.715,353.553,362.392,371.231,380.07,388.909,397.748,406.586,415.425,424.264,433.103,441.942,450.781,459.619,468.458,477.297,486.136,494.975][0.0,8.77782,17.4336,25.9674,34.3791,42.6688,50.8364,58.8821,66.8057,74.6072,82.2868,89.8443,97.2798,104.593,111.785,118.854,125.801,132.627,139.33,145.911,152.37,158.708,164.923,171.016,176.987,182.836,188.563,194.168,199.651,205.012,210.251,215.368,220.363,225.236,229.986,234.615,239.122,243.506,247.769,251.91,255.928,259.825,263.599,267.252,270.782,274.191,277.477,280.642,283.684,286.604,289.403,292.079,294.633,297.065,299.376,301.564,303.63]"
     ]
    }
   ],
   "source": [
    "TiroPa(0,7,0.125,pi/4,7.81,100)"
   ]
  },
  {
   "cell_type": "code",
   "execution_count": null,
   "metadata": {},
   "outputs": [],
   "source": []
  }
 ],
 "metadata": {
  "kernelspec": {
   "display_name": "Julia 0.5.2",
   "language": "julia",
   "name": "julia-0.5"
  },
  "language_info": {
   "file_extension": ".jl",
   "mimetype": "application/julia",
   "name": "julia",
   "version": "0.5.2"
  }
 },
 "nbformat": 4,
 "nbformat_minor": 2
}
