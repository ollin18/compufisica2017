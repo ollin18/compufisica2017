{
 "cells": [
  {
   "cell_type": "markdown",
   "metadata": {},
   "source": [
    "# Tarea No.1\n",
    "\n",
    "## Computación\n",
    "\n",
    "## Física, UNAM.\n",
    "\n",
    "Castro Granados Celeste. \n"
   ]
  },
  {
   "cell_type": "markdown",
   "metadata": {},
   "source": [
    "## Sistema de números de punto flotante\n",
    "\n",
    "**Características:** \n",
    "\n",
    "1. Está basado en la notación científica\n",
    "2. Capaz de representar números muy grandes y muy pequeños sin incrementar el número de bits.\n",
    "3. Capaz de representar números con componentes enteros y fraccionarios.\n"
   ]
  },
  {
   "cell_type": "markdown",
   "metadata": {},
   "source": [
    ">Número de Punto Floante = Número Real."
   ]
  },
  {
   "cell_type": "markdown",
   "metadata": {},
   "source": [
    "**Partes de un número de punto flotante:** \n",
    "\n",
    "* Mantisa: Magnitud del número.\n",
    "* Exponente: Número de lugares que se va a mover el punto.\n",
    "* Signo: Positivo o negativo.\n",
    "\n",
    "Ejemplo:"
   ]
  },
  {
   "cell_type": "code",
   "execution_count": 2,
   "metadata": {},
   "outputs": [
    {
     "data": {
      "text/plain": [
       "0.2415068"
      ]
     },
     "execution_count": 2,
     "metadata": {},
     "output_type": "execute_result"
    }
   ],
   "source": [
    "Número=241,506,800\n",
    "Mantisa=.2415068"
   ]
  },
  {
   "cell_type": "code",
   "execution_count": 3,
   "metadata": {},
   "outputs": [
    {
     "data": {
      "text/plain": [
       "9"
      ]
     },
     "execution_count": 3,
     "metadata": {},
     "output_type": "execute_result"
    }
   ],
   "source": [
    "Exponente=9"
   ]
  },
  {
   "cell_type": "markdown",
   "metadata": {},
   "source": [
    "Lo anterior se refiere a : 0.2415068 x10^9\n",
    "\n",
    "Aquí podemos ver otro ejemplo de número flotante:"
   ]
  },
  {
   "cell_type": "code",
   "execution_count": 9,
   "metadata": {},
   "outputs": [
    {
     "data": {
      "text/plain": [
       "Float64"
      ]
     },
     "execution_count": 9,
     "metadata": {},
     "output_type": "execute_result"
    }
   ],
   "source": [
    "typeof(2.6789)"
   ]
  },
  {
   "cell_type": "markdown",
   "metadata": {},
   "source": [
    "Para los números de punto flotante binarios el formato se define por el standard ANSI/IEEE 754-1985 de tres formas:\n",
    "\n",
    "+ Precisión sencilla - 32 bits\n",
    "+ Precisión doble - 64 bits\n",
    "+ Precisión extendida - 80 bits\n",
    "+ Se trabaja con números normalizados.\n",
    "\n",
    ">Nota: Decimos que un número binario está normalizado si el dígito a la izquierda del punto es igual a 1."
   ]
  },
  {
   "cell_type": "markdown",
   "metadata": {},
   "source": [
    "![Imágen](http://slideplayer.es/slide/5388201/17/images/25/Partes+de+un+n%C3%BAmero+de+punto+flotante.jpg)"
   ]
  },
  {
   "cell_type": "markdown",
   "metadata": {},
   "source": [
    "## Diferencia entre sistemas operativos de 32 bits y 64 bits"
   ]
  },
  {
   "cell_type": "markdown",
   "metadata": {},
   "source": [
    "### Procesadores:\n",
    "\n",
    "Los procesadores de 64 bits pueden trabajar el doble de información en el mismo ciclo de reloj (un hertz), pueden acceder a mayor capacidad de memoria y procesar archivos más grandes. Actualmente un procesador de 32 bits puede controlar un máximo de 4 GB de memoria Ram; mientras que un procesador de 64 bits tiene la capacidad de controlar 16 Exabytes de memoria, es decir, 16 mil millones de GB, una cantidad bastante sorprendente.\n",
    "\n",
    "En cuanto a los cálculos matemáticos también existen diferencias, ya que un procesador de 32 bits puede representar números desde 0 hasta 4,294,967,295; y uno de 64 bits incrementará la capacidad logrando que se puedan representar números desde 0 hasta 18,446744,073,709,551,615. Obviamente esto significa que las computadoras podrán hacer operaciones con cantidades mayores y que los cálculos con cantidades pequeñas sean más eficientes.\n",
    "\n",
    "Las diferencias son bastante notables y sin duda contar con un procesador de 64 bits mejoraría sin duda las capacidades de hardware, en especial el poder trabajar con bastante memoria ram."
   ]
  },
  {
   "cell_type": "markdown",
   "metadata": {},
   "source": [
    "### Sistemas operativos:\n",
    "\n",
    "Cuando encontramos diferentes versiones de algún sistema operativo (Windows, Linux o Mac) y debemos elegir entre una versión de 32 o una de 64 bits debemos tener en cuenta lo siguiente:\n",
    "\n",
    "1. Para instalar una versión de 64 bits en nuestro computador debemos contar con un procesador de 64 bits o de lo contrario no podremos instalarlo.\n",
    "2. Las versiones de 32 bits se puede instalar con cualquier tipo de procesador ya sea de 32 o 64 bits\n",
    "3. Si instalamos una versión de 32 bits en un computador con procesador de 64 estaremos desaprovechando las ventajas que dicho procesador trae, ya que para sacarle todo su potencial es necesario tener un sistema de 64 bits instalado.\n",
    "4. Los sistemas operativos de 64 bits son mas utilizados a nivel profesión donde se requiere realmente todo el potencial de la maquina, ademas muchos sistemas de 64 bits presentan incompatibilidad gran cantidad de software.\n"
   ]
  },
  {
   "cell_type": "markdown",
   "metadata": {},
   "source": [
    "### Software:\n",
    "\n",
    "Cuando debemos escoger entre software de 32 y 64 bits lo primero y mas importante a tener en cuenta es que tipo de Sistema Operativo tenemos instalado y si es de 32 o 64 bits para así respectivamente seleccionar el software a instalar.\n",
    "\n",
    "Muchos sistemas de 64 bits presentan incompatibilidad al instalarle software de 32 bits, por eso se recomienda instalarle solo versiones de 64 bits para un mejor rendimiento y evitar problemas, aunque los sistemas actuales ya vienen con muchas mejoras para evitar esto.\n"
   ]
  },
  {
   "cell_type": "markdown",
   "metadata": {},
   "source": [
    "![Imágen2](http://omicrono.elespanol.com/wp-content/uploads/2016/08/32-bit-y-64-bit.jpg)"
   ]
  },
  {
   "cell_type": "markdown",
   "metadata": {},
   "source": [
    "## ALU (Unidad aritmética lógica)"
   ]
  },
  {
   "cell_type": "markdown",
   "metadata": {},
   "source": [
    "La unidad aritmético lógica, también conocida como ALU (siglas en inglés de arithmetic logic unit), es un circuito digital que calcula operaciones aritméticas y operaciones lógicas, entre dos números.\n",
    "\n",
    "*Operaciones típicas:* \n",
    "1. Sumar\n",
    "2. Restar\n",
    "3. Multiplicar\n",
    "4. Desplazamiento de registros\n",
    "5. Comparaciones "
   ]
  },
  {
   "cell_type": "markdown",
   "metadata": {},
   "source": [
    ">Ejemplos de operaciones:"
   ]
  },
  {
   "cell_type": "code",
   "execution_count": 10,
   "metadata": {},
   "outputs": [
    {
     "data": {
      "text/plain": [
       "823"
      ]
     },
     "execution_count": 10,
     "metadata": {},
     "output_type": "execute_result"
    }
   ],
   "source": [
    "34+789"
   ]
  },
  {
   "cell_type": "code",
   "execution_count": 11,
   "metadata": {},
   "outputs": [
    {
     "data": {
      "text/plain": [
       "-4484"
      ]
     },
     "execution_count": 11,
     "metadata": {},
     "output_type": "execute_result"
    }
   ],
   "source": [
    "4563-9047"
   ]
  },
  {
   "cell_type": "code",
   "execution_count": 12,
   "metadata": {},
   "outputs": [
    {
     "data": {
      "text/plain": [
       "967176"
      ]
     },
     "execution_count": 12,
     "metadata": {},
     "output_type": "execute_result"
    }
   ],
   "source": [
    "2121*456"
   ]
  },
  {
   "cell_type": "markdown",
   "metadata": {},
   "source": [
    "![Imágen3](http://seduca.uaemex.mx/material/LIA/LC/img/lc_U4t4_1.jpg)"
   ]
  },
  {
   "cell_type": "markdown",
   "metadata": {},
   "source": [
    "## Algoritmo y Estabilidad"
   ]
  },
  {
   "cell_type": "markdown",
   "metadata": {},
   "source": [
    "**Nociones de estabilidad**\n",
    "\n",
    "Sea *X* un conjunto de datos de entrada, *Y* el conjunto de datos de salida y *f* la forma en la que se relacionan *X* y *Y*.\n",
    "Entonces: *f*: *X* ---> *Y*.\n",
    "Sin embargo para poder encontrar una solución es necesario aproximarla mediante algún algoritmo computacional."
   ]
  },
  {
   "cell_type": "markdown",
   "metadata": {},
   "source": [
    "Debido a que en la mayoría de los casos los algoritmos empleados están escritos en algún lenguaje de computación, los datos de entrada (subconjunto de *X*), así como las operaciones tienen un error, ya sea por el redondeo o por los cálculos realizados.\n",
    "Es por este motivo que lo más que se le puede pedir a un algoritmo numérico es que sea estable. \n",
    "\n",
    ">Idea intuitiva: Un algoritmo es establesi, pequeños cambios en los datos de entrada, producen pequeños cambios en los datos de salida. Y por el contrario, un algoritmo es inestable si, pequeños cambios en los datos de entrada producen grandes cambios en los datos de salida. "
   ]
  },
  {
   "cell_type": "markdown",
   "metadata": {},
   "source": [
    "Un algoritmo es estable para una clase de matrices C si para cada matriz A en , la solución computacional por el algoritmo es la solución exacta cercana al problema. "
   ]
  },
  {
   "cell_type": "markdown",
   "metadata": {},
   "source": [
    "Un problema (con respecto a un conjunto dado de datos) es llamado mal condicionado si a una perturbación relativa pequeña en los datos puede causar un error rlativo grande en la solución computacional, independientemente del método de solución. De lo contrario, es llamado bien condicionado; esto es, un problema es bien condicionao si todas las pequeñas perturbaciones en los datos sólo producen pequeños errores relativos en la solución."
   ]
  },
  {
   "cell_type": "markdown",
   "metadata": {},
   "source": [
    "## Cibergrafía"
   ]
  },
  {
   "cell_type": "markdown",
   "metadata": {},
   "source": [
    "1. <http://www.erikavilches.com/Anterior/TC1004.01.200811/diapositivas/Punto%20Flotante%201.pdf>\n",
    "2. <https://www.maestrodelacomputacion.net/diferencia-entre-32-y-64-bits/>\n",
    "3. <http://profesores.fi-b.unam.mx/normaelva/ALU.pdf>\n",
    "4. <https://prezi.com/untsczyf_gst/estabilidad-de-algoritmos/>\n"
   ]
  }
 ],
 "metadata": {
  "kernelspec": {
   "display_name": "Julia 0.5.2",
   "language": "julia",
   "name": "julia-0.5"
  },
  "language_info": {
   "file_extension": ".jl",
   "mimetype": "application/julia",
   "name": "julia",
   "version": "0.5.2"
  }
 },
 "nbformat": 4,
 "nbformat_minor": 2
}
