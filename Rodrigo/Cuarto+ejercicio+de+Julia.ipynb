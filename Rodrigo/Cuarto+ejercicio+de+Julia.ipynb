{
 "cells": [
  {
   "cell_type": "markdown",
   "metadata": {},
   "source": [
    "# Calcular diferentes aproximaciones para \"e\" de diferentes valores"
   ]
  },
  {
   "cell_type": "code",
   "execution_count": 1,
   "metadata": {},
   "outputs": [
    {
     "data": {
      "text/plain": [
       "Sumae (generic function with 1 method)"
      ]
     },
     "execution_count": 1,
     "metadata": {},
     "output_type": "execute_result"
    }
   ],
   "source": [
    "function Sumae(n) #Se crea la funcion\n",
    "    if n>=0 #Se pide que n mayor o igual que 0\n",
    "        i=1 #Se establece la variabl que guardará la suma al final\n",
    "        k=1 #Se crea un valor inicial que sera el que se vaya sumando a la operacion hasta \"n\"\n",
    "        j=1 #Será el que vaya incrementando el factorial\n",
    "        while n>=k #Se pide como condición que \"k\" sea menor o igual a \"n\" para que el ciclo continue\n",
    "            j=j*k #Se define el factorial\n",
    "            i=Float64(i+(1/j)) #Se aplica la suma de los inversos de los factoriales\n",
    "            k+=1 #Se suma 1 a 2\"k\" para continuar el ciclo hasta que sea igual a \"n\"\n",
    "        end\n",
    "        print(Float64(i)) #Se pide que nos impirma en pantalla \"i\" al finalizar el ciclo\n",
    "    else\n",
    "        print(\"Valor no valido\") #pedimos que si \"n\" no es positivo nos devuelva esa respuesta\n",
    "    end\n",
    "end"
   ]
  },
  {
   "cell_type": "code",
   "execution_count": 2,
   "metadata": {},
   "outputs": [
    {
     "name": "stdout",
     "output_type": "stream",
     "text": [
      "2.0"
     ]
    }
   ],
   "source": [
    "Sumae(1)"
   ]
  },
  {
   "cell_type": "code",
   "execution_count": 3,
   "metadata": {},
   "outputs": [
    {
     "name": "stdout",
     "output_type": "stream",
     "text": [
      "2.7166666666666663"
     ]
    }
   ],
   "source": [
    "Sumae(5)"
   ]
  },
  {
   "cell_type": "code",
   "execution_count": 4,
   "metadata": {},
   "outputs": [
    {
     "name": "stdout",
     "output_type": "stream",
     "text": [
      "2.7182818011463845"
     ]
    }
   ],
   "source": [
    "Sumae(10)"
   ]
  },
  {
   "cell_type": "code",
   "execution_count": 5,
   "metadata": {},
   "outputs": [
    {
     "name": "stdout",
     "output_type": "stream",
     "text": [
      "2.7182818284590455"
     ]
    }
   ],
   "source": [
    "Sumae(50)"
   ]
  },
  {
   "cell_type": "code",
   "execution_count": 6,
   "metadata": {},
   "outputs": [
    {
     "data": {
      "text/plain": [
       "e = 2.7182818284590..."
      ]
     },
     "execution_count": 6,
     "metadata": {},
     "output_type": "execute_result"
    }
   ],
   "source": [
    "e"
   ]
  },
  {
   "cell_type": "code",
   "execution_count": null,
   "metadata": {},
   "outputs": [],
   "source": []
  }
 ],
 "metadata": {
  "kernelspec": {
   "display_name": "Julia 0.6.0",
   "language": "julia",
   "name": "julia-0.6"
  },
  "language_info": {
   "file_extension": ".jl",
   "mimetype": "application/julia",
   "name": "julia",
   "version": "0.6.0"
  }
 },
 "nbformat": 4,
 "nbformat_minor": 2
}
