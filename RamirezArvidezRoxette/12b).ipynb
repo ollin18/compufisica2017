{
 "cells": [
  {
   "cell_type": "markdown",
   "metadata": {},
   "source": [
    "Recordardamos el sistema de ecuaciones que rigen el tiro parabólico"
   ]
  },
  {
   "cell_type": "markdown",
   "metadata": {},
   "source": [
    "$$\n",
    "\\textbf{s} = (x_0 + v_{0x}t)\\hat{i} + \\left(-\\frac{1}{2}gt^2+v_{0y}t+y_0\\right)\\hat{j}\n",
    "$$\n",
    "$$\n",
    "\\textbf{v} = v_0 cos(\\theta)\\hat{i} + (v_0 sen(\\theta) -gt)\\hat{j}\n",
    "$$\n",
    "$$\n",
    "\\textbf{a} = -g\\hat{j}\n",
    "$$\n",
    "Con este sistema ahora poeos conocer el tiempo de vuelo y el alcance máximo, considerando que la altura no puede ser menor a cero. Con coordenadas iniciales de x=0 y y=0:\n",
    "\n",
    "\n",
    "$$\n",
    "\\textbf{t_vuelo} = \\frac{2v_0 sen (\\theta)}{g}\n",
    "$$\n",
    "\n",
    "$$\n",
    "\\textbf{x_alcance} = \\frac{2v_0^2 sen (\\theta) cos (\\theta)}{g}\n",
    "$$\n"
   ]
  },
  {
   "cell_type": "markdown",
   "metadata": {},
   "source": [
    "Dado que x_O=0 y y=0 Entonces\n",
    "$$\n",
    "\\textbf{s(t)} = (v_{0x}t)\\hat{i} + \\left(-\\frac{1}{2}gt^2+v_{0y}t\\right)\\hat{j}\n",
    "$$"
   ]
  },
  {
   "cell_type": "code",
   "execution_count": 1,
   "metadata": {},
   "outputs": [],
   "source": [
    "t = collect(0:0.125:20); #El usuario geera un arreglo que toma valores de 0 a 20 en intervalos de 0.125, son lo valores que tomará el tiempo"
   ]
  },
  {
   "cell_type": "code",
   "execution_count": 2,
   "metadata": {},
   "outputs": [
    {
     "data": {
      "text/plain": [
       "9.81"
      ]
     },
     "execution_count": 2,
     "metadata": {},
     "output_type": "execute_result"
    }
   ],
   "source": [
    "g = 9.81 # m/s². Asignmos el valor de la contante de gravedad, que siempre es el mismo en la Tierra"
   ]
  },
  {
   "cell_type": "code",
   "execution_count": 3,
   "metadata": {},
   "outputs": [
    {
     "data": {
      "text/plain": [
       "100"
      ]
     },
     "execution_count": 3,
     "metadata": {},
     "output_type": "execute_result"
    }
   ],
   "source": [
    "v_O = 100 # m/s. Asiganamos una vlocidad inicial para el mov de tiro Prabólico"
   ]
  },
  {
   "cell_type": "code",
   "execution_count": 4,
   "metadata": {},
   "outputs": [
    {
     "data": {
      "text/plain": [
       "0.7853981633974483"
      ]
     },
     "execution_count": 4,
     "metadata": {},
     "output_type": "execute_result"
    }
   ],
   "source": [
    "θ = π/4 #Elegimos el valor de dirección, es decir el ángulo"
   ]
  },
  {
   "cell_type": "code",
   "execution_count": 5,
   "metadata": {},
   "outputs": [],
   "source": [
    "X = zeros(t); #Construimos el arreglo para los eje x e y, con ceros, con las dimnsiones del arreglo de t, pues a cada elemento t le corresponderá un valor en el eje\n",
    "Y = zeros(t);"
   ]
  },
  {
   "cell_type": "code",
   "execution_count": 6,
   "metadata": {},
   "outputs": [
    {
     "data": {
      "text/plain": [
       "16.375"
      ]
     },
     "execution_count": 6,
     "metadata": {},
     "output_type": "execute_result"
    }
   ],
   "source": [
    "t[132] #Es pra ver que en la posición 132 en el arreglo t, existe el elemento con valor 16.375"
   ]
  },
  {
   "cell_type": "code",
   "execution_count": 7,
   "metadata": {},
   "outputs": [],
   "source": [
    "for i in eachindex(t) #Para cada elemento, en el arrglo t se cumple:\n",
    "    X[i] = v_O*cos(θ)*t[i] #los valores de x que dependen de las condiciones iniciales dadas, velocidad y ángulo \n",
    "    Y[i] = (-(0.5*g*t[i]^2)+v_O*sin(θ)*t[i]) #Los valores de y dependen de las condicione iniciales dadas, velocidad y ángulo \n",
    "end"
   ]
  },
  {
   "cell_type": "code",
   "execution_count": 8,
   "metadata": {},
   "outputs": [
    {
     "name": "stderr",
     "output_type": "stream",
     "text": [
      "\u001b[1m\u001b[36mINFO: \u001b[39m\u001b[22m\u001b[36mPkg operations are not possible on JuliaBox. Please use the \"Packages\" menu at the top of the main screen.\n",
      "\u001b[39m"
     ]
    }
   ],
   "source": [
    "Pkg.add(\"Plots\") #Descrga los paquetes ncesarios para graficar"
   ]
  },
  {
   "cell_type": "code",
   "execution_count": 9,
   "metadata": {},
   "outputs": [
    {
     "name": "stderr",
     "output_type": "stream",
     "text": [
      "\u001b[1m\u001b[36mINFO: \u001b[39m\u001b[22m\u001b[36mInitializing package repository /mnt/juliabox/.julia/v0.6\n",
      "\u001b[39m\u001b[1m\u001b[36mINFO: \u001b[39m\u001b[22m\u001b[36mCloning METADATA from https://github.com/JuliaLang/METADATA.jl\n",
      "\u001b[39m"
     ]
    }
   ],
   "source": [
    "using Plots #Permite el uso de lo paqutes para graficar"
   ]
  },
  {
   "cell_type": "code",
   "execution_count": 10,
   "metadata": {},
   "outputs": [
    {
     "data": {
      "text/plain": [
       "Plots.PyPlotBackend()"
      ]
     },
     "execution_count": 10,
     "metadata": {},
     "output_type": "execute_result"
    }
   ],
   "source": [
    "pyplot()"
   ]
  },
  {
   "cell_type": "code",
   "execution_count": 11,
   "metadata": {
    "scrolled": true
   },
   "outputs": [
    {
     "data": {
      "text/html": [
       "<img src=\"data:image/png;base64,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\" />"
      ]
     },
     "execution_count": 11,
     "metadata": {},
     "output_type": "execute_result"
    }
   ],
   "source": [
    "plot(X,Y,w=2) #Imprime valores de abcisas, orenadas (con los que toma en las ecuaciones anteriores) y el grosor de la gráfica\n",
    "title!(\"Tiro Parabolico\") #Título principal\n",
    "xaxis!(\"Tiempo de vuuelo en x (m)\") #Nombres en abciss\n",
    "yaxis!(\"Posición en y (m)\") #Nombre en ordenadas "
   ]
  },
  {
   "cell_type": "code",
   "execution_count": 13,
   "metadata": {},
   "outputs": [
    {
     "data": {
      "text/plain": [
       "161×2 Array{Float64,2}:\n",
       "    0.0         0.0    \n",
       "    8.83883     8.76219\n",
       "   17.6777     17.3711 \n",
       "   26.5165     25.8267 \n",
       "   35.3553     34.1291 \n",
       "   44.1942     42.2782 \n",
       "   53.033      50.2739 \n",
       "   61.8718     58.1165 \n",
       "   70.7107     65.8057 \n",
       "   79.5495     73.3416 \n",
       "   88.3883     80.7243 \n",
       "   97.2272     87.9537 \n",
       "  106.066      95.0298 \n",
       "    ⋮                  \n",
       " 1316.99     -384.512  \n",
       " 1325.83     -398.589  \n",
       " 1334.66     -412.819  \n",
       " 1343.5      -427.202  \n",
       " 1352.34     -441.739  \n",
       " 1361.18     -456.429  \n",
       " 1370.02     -471.272  \n",
       " 1378.86     -486.268  \n",
       " 1387.7      -501.418  \n",
       " 1396.54     -516.721  \n",
       " 1405.37     -532.177  \n",
       " 1414.21     -547.786  "
      ]
     },
     "execution_count": 13,
     "metadata": {},
     "output_type": "execute_result"
    }
   ],
   "source": [
    "variables=hcat(X,Y)"
   ]
  },
  {
   "cell_type": "code",
   "execution_count": 16,
   "metadata": {},
   "outputs": [],
   "source": [
    "writedlm(\"Parábola.csv\", variables, '|')"
   ]
  },
  {
   "cell_type": "code",
   "execution_count": 17,
   "metadata": {},
   "outputs": [
    {
     "data": {
      "text/plain": [
       "161×2 Array{Float64,2}:\n",
       "    0.0         0.0    \n",
       "    8.83883     8.76219\n",
       "   17.6777     17.3711 \n",
       "   26.5165     25.8267 \n",
       "   35.3553     34.1291 \n",
       "   44.1942     42.2782 \n",
       "   53.033      50.2739 \n",
       "   61.8718     58.1165 \n",
       "   70.7107     65.8057 \n",
       "   79.5495     73.3416 \n",
       "   88.3883     80.7243 \n",
       "   97.2272     87.9537 \n",
       "  106.066      95.0298 \n",
       "    ⋮                  \n",
       " 1316.99     -384.512  \n",
       " 1325.83     -398.589  \n",
       " 1334.66     -412.819  \n",
       " 1343.5      -427.202  \n",
       " 1352.34     -441.739  \n",
       " 1361.18     -456.429  \n",
       " 1370.02     -471.272  \n",
       " 1378.86     -486.268  \n",
       " 1387.7      -501.418  \n",
       " 1396.54     -516.721  \n",
       " 1405.37     -532.177  \n",
       " 1414.21     -547.786  "
      ]
     },
     "execution_count": 17,
     "metadata": {},
     "output_type": "execute_result"
    }
   ],
   "source": [
    "lectura=readdlm(\"Parábola.csv\", '|')"
   ]
  },
  {
   "cell_type": "code",
   "execution_count": 23,
   "metadata": {},
   "outputs": [
    {
     "data": {
      "text/plain": [
       "Plots.GRBackend()"
      ]
     },
     "execution_count": 23,
     "metadata": {},
     "output_type": "execute_result"
    }
   ],
   "source": [
    "gr()"
   ]
  },
  {
   "cell_type": "code",
   "execution_count": 18,
   "metadata": {},
   "outputs": [
    {
     "name": "stderr",
     "output_type": "stream",
     "text": [
      "\u001b[1m\u001b[36mINFO: \u001b[39m\u001b[22m\u001b[36mSaved animation to /home/juser/tmp.gif\n",
      "\u001b[39m"
     ]
    },
    {
     "data": {
      "text/html": [
       "<img src=\"tmp.gif?0.9426607164722611>\" />"
      ],
      "text/plain": [
       "Plots.AnimatedGif(\"/home/juser/tmp.gif\")"
      ]
     },
     "execution_count": 18,
     "metadata": {},
     "output_type": "execute_result"
    }
   ],
   "source": [
    "@gif for i in eachindex(t)\n",
    "    x = v_O*cos(θ)*t[i]\n",
    "    y = (-1(0.5*g*t[i]^2)+v_O*sin(θ)*t[i])\n",
    "    push!(plt,x,y)\n",
    "    end every 2    #AL igual que la graficación anterior, pero está es a manera de gif para viualizarla de otra manera "
   ]
  },
  {
   "cell_type": "code",
   "execution_count": 12,
   "metadata": {},
   "outputs": [
    {
     "name": "stderr",
     "output_type": "stream",
     "text": [
      "\u001b[1m\u001b[36mINFO: \u001b[39m\u001b[22m\u001b[36mPkg operations are not possible on JuliaBox. Please use the \"Packages\" menu at the top of the main screen.\n",
      "\u001b[39m"
     ]
    }
   ],
   "source": [
    "Pkg.add(\"Interact\")"
   ]
  },
  {
   "cell_type": "code",
   "execution_count": 16,
   "metadata": {},
   "outputs": [
    {
     "data": {
      "text/html": [
       "<div id=\"interact-js-shim\">\n",
       "    <script charset=\"utf-8\">\n",
       "(function (IPython, $, _, MathJax) {\n",
       "    $.event.special.destroyed = {\n",
       "\tremove: function(o) {\n",
       "\t    if (o.handler) {\n",
       "\t\to.handler.apply(this, arguments)\n",
       "\t    }\n",
       "\t}\n",
       "    }\n",
       "\n",
       "    var OutputArea = IPython.version >= \"4.0.0\" ? require(\"notebook/js/outputarea\").OutputArea : IPython.OutputArea;\n",
       "\n",
       "    var redrawValue = function (container, type, val) {\n",
       "\tvar selector = $(\"<div/>\");\n",
       "\tvar oa = new OutputArea(_.extend(selector, {\n",
       "\t    selector: selector,\n",
       "\t    prompt_area: true,\n",
       "\t    events: IPython.events,\n",
       "\t    keyboard_manager: IPython.keyboard_manager\n",
       "\t})); // Hack to work with IPython 2.1.0\n",
       "\n",
       "\tswitch (type) {\n",
       "\tcase \"image/png\":\n",
       "            var _src = 'data:' + type + ';base64,' + val;\n",
       "\t    $(container).find(\"img\").attr('src', _src);\n",
       "\t    break;\n",
       "\tcase \"text/latex\":\n",
       "\t\tif (MathJax){\n",
       "\t\t\tvar math = MathJax.Hub.getAllJax(container)[0];\n",
       "\t\t\tMathJax.Hub.Queue([\"Text\", math, val.replace(/^\\${1,2}|\\${1,2}$/g, '')]);\n",
       "\t\t\tbreak;\n",
       "\t\t}\n",
       "\tdefault:\n",
       "\t    var toinsert = OutputArea.append_map[type].apply(\n",
       "\t\toa, [val, {}, selector]\n",
       "\t    );\n",
       "\t    $(container).empty().append(toinsert.contents());\n",
       "\t    selector.remove();\n",
       "\t}\n",
       "    }\n",
       "\n",
       "\n",
       "    $(document).ready(function() {\n",
       "\tfunction initComm(evt, data) {\n",
       "\t    var comm_manager = data.kernel.comm_manager;\n",
       "        //_.extend(comm_manager.targets, require(\"widgets/js/widget\"))\n",
       "\t    comm_manager.register_target(\"Signal\", function (comm) {\n",
       "            comm.on_msg(function (msg) {\n",
       "                var val = msg.content.data.value;\n",
       "                $(\".signal-\" + comm.comm_id).each(function() {\n",
       "                var type = $(this).data(\"type\");\n",
       "                if (typeof(val[type]) !== \"undefined\" && val[type] !== null) {\n",
       "                    redrawValue(this, type, val[type], type);\n",
       "                }\n",
       "                });\n",
       "                delete val;\n",
       "                delete msg.content.data.value;\n",
       "            });\n",
       "\t    });\n",
       "\n",
       "\t    // coordingate with Comm and redraw Signals\n",
       "\t    // XXX: Test using Reactive here to improve performance\n",
       "\t    $([IPython.events]).on(\n",
       "\t\t'output_appended.OutputArea', function (event, type, value, md, toinsert) {\n",
       "\t\t    if (md && md.reactive) {\n",
       "                // console.log(md.comm_id);\n",
       "                toinsert.addClass(\"signal-\" + md.comm_id);\n",
       "                toinsert.data(\"type\", type);\n",
       "                // Signal back indicating the mimetype required\n",
       "                var comm_manager = IPython.notebook.kernel.comm_manager;\n",
       "                var comm = comm_manager.comms[md.comm_id];\n",
       "                comm.then(function (c) {\n",
       "                    c.send({action: \"subscribe_mime\",\n",
       "                       mime: type});\n",
       "                    toinsert.bind(\"destroyed\", function() {\n",
       "                        c.send({action: \"unsubscribe_mime\",\n",
       "                               mime: type});\n",
       "                    });\n",
       "                })\n",
       "\t\t    }\n",
       "\t    });\n",
       "\t}\n",
       "\n",
       "\ttry {\n",
       "\t    // try to initialize right away. otherwise, wait on the status_started event.\n",
       "\t    initComm(undefined, IPython.notebook);\n",
       "\t} catch (e) {\n",
       "\t    $([IPython.events]).on('kernel_created.Kernel kernel_created.Session', initComm);\n",
       "\t}\n",
       "    });\n",
       "})(IPython, jQuery, _, MathJax);\n",
       "</script>\n",
       "    <script>\n",
       "        window.interactLoadedFlag = true\n",
       "       $(\"#interact-js-shim\").bind(\"destroyed\", function () {\n",
       "           if (window.interactLoadedFlag) {\n",
       "               console.warn(\"JavaScript required by Interact will be removed if you remove this cell or run using Interact more than once.\")\n",
       "           }\n",
       "       })\n",
       "       $([IPython.events]).on(\"kernel_starting.Kernel kernel_restarting.Kernel\", function () { window.interactLoadedFlag = false })\n",
       "   </script>\n",
       "</div>"
      ]
     },
     "metadata": {},
     "output_type": "display_data"
    }
   ],
   "source": [
    "using Interact"
   ]
  },
  {
   "cell_type": "code",
   "execution_count": 17,
   "metadata": {},
   "outputs": [
    {
     "data": {
      "application/vnd.jupyter.widget-view+json": {
       "model_id": "fdbb3bdf-d6cb-4a7a-b1af-ead0b3621212",
       "version_major": 2,
       "version_minor": 0
      }
     },
     "metadata": {},
     "output_type": "display_data"
    },
    {
     "data": {
      "text/html": [],
      "text/plain": [
       "Interact.Options{:SelectionSlider,Any}(1: \"input\" = 3.141592653589793 Any , \"θ\", 3.141592653589793, \"3.141592653589793\", 17, Interact.OptionDict(DataStructures.OrderedDict{Any,Any}(\"0.0\"=>0.0,\"0.19634954084936207\"=>0.19635,\"0.39269908169872414\"=>0.392699,\"0.5890486225480862\"=>0.589049,\"0.7853981633974483\"=>0.785398,\"0.9817477042468103\"=>0.981748,\"1.1780972450961724\"=>1.1781,\"1.3744467859455345\"=>1.37445,\"1.5707963267948966\"=>1.5708,\"1.7671458676442586\"=>1.76715…), Dict{Any,Any}(Pair{Any,Any}(0.785398, \"0.7853981633974483\"),Pair{Any,Any}(5.69414, \"5.6941366846315\"),Pair{Any,Any}(5.89049, \"5.890486225480862\"),Pair{Any,Any}(0.589049, \"0.5890486225480862\"),Pair{Any,Any}(5.49779, \"5.497787143782138\"),Pair{Any,Any}(1.76715, \"1.7671458676442586\"),Pair{Any,Any}(2.35619, \"2.356194490192345\"),Pair{Any,Any}(1.37445, \"1.3744467859455345\"),Pair{Any,Any}(0.0, \"0.0\"),Pair{Any,Any}(0.392699, \"0.39269908169872414\")…)), Any[], Any[], true, \"horizontal\")"
      ]
     },
     "metadata": {},
     "output_type": "display_data"
    },
    {
     "data": {
      "text/html": [
       "<?xml version=\"1.0\" encoding=\"utf-8\"?>\n",
       "<svg xmlns=\"http://www.w3.org/2000/svg\" xmlns:xlink=\"http://www.w3.org/1999/xlink\" width=\"600\" height=\"400\" viewBox=\"0 0 600 400\">\n",
       "<defs>\n",
       "  <clipPath id=\"clip7100\">\n",
       "    <rect x=\"0\" y=\"0\" width=\"600\" height=\"400\"/>\n",
       "  </clipPath>\n",
       "</defs>\n",
       "<polygon clip-path=\"url(#clip7100)\" points=\"\n",
       "0,400 600,400 600,0 0,0 \n",
       "  \" fill=\"#ffffff\" fill-opacity=\"1\"/>\n",
       "<defs>\n",
       "  <clipPath id=\"clip7101\">\n",
       "    <rect x=\"120\" y=\"0\" width=\"421\" height=\"400\"/>\n",
       "  </clipPath>\n",
       "</defs>\n",
       "<polygon clip-path=\"url(#clip7100)\" points=\"\n",
       "49.028,375.813 580.315,375.813 580.315,11.811 49.028,11.811 \n",
       "  \" fill=\"#ffffff\" fill-opacity=\"1\"/>\n",
       "<defs>\n",
       "  <clipPath id=\"clip7102\">\n",
       "    <rect x=\"49\" y=\"11\" width=\"532\" height=\"365\"/>\n",
       "  </clipPath>\n",
       "</defs>\n",
       "<polyline clip-path=\"url(#clip7102)\" style=\"stroke:#000000; stroke-width:0.5; stroke-opacity:0.1; fill:none\" points=\"\n",
       "  49.028,375.813 49.028,11.811 \n",
       "  \"/>\n",
       "<polyline clip-path=\"url(#clip7102)\" style=\"stroke:#000000; stroke-width:0.5; stroke-opacity:0.1; fill:none\" points=\"\n",
       "  181.85,375.813 181.85,11.811 \n",
       "  \"/>\n",
       "<polyline clip-path=\"url(#clip7102)\" style=\"stroke:#000000; stroke-width:0.5; stroke-opacity:0.1; fill:none\" points=\"\n",
       "  314.671,375.813 314.671,11.811 \n",
       "  \"/>\n",
       "<polyline clip-path=\"url(#clip7102)\" style=\"stroke:#000000; stroke-width:0.5; stroke-opacity:0.1; fill:none\" points=\"\n",
       "  447.493,375.813 447.493,11.811 \n",
       "  \"/>\n",
       "<polyline clip-path=\"url(#clip7102)\" style=\"stroke:#000000; stroke-width:0.5; stroke-opacity:0.1; fill:none\" points=\"\n",
       "  580.315,375.813 580.315,11.811 \n",
       "  \"/>\n",
       "<polyline clip-path=\"url(#clip7102)\" style=\"stroke:#000000; stroke-width:0.5; stroke-opacity:0.1; fill:none\" points=\"\n",
       "  49.028,290.1 580.315,290.1 \n",
       "  \"/>\n",
       "<polyline clip-path=\"url(#clip7102)\" style=\"stroke:#000000; stroke-width:0.5; stroke-opacity:0.1; fill:none\" points=\"\n",
       "  49.028,197.337 580.315,197.337 \n",
       "  \"/>\n",
       "<polyline clip-path=\"url(#clip7102)\" style=\"stroke:#000000; stroke-width:0.5; stroke-opacity:0.1; fill:none\" points=\"\n",
       "  49.028,104.574 580.315,104.574 \n",
       "  \"/>\n",
       "<polyline clip-path=\"url(#clip7102)\" style=\"stroke:#000000; stroke-width:0.5; stroke-opacity:0.1; fill:none\" points=\"\n",
       "  49.028,11.811 580.315,11.811 \n",
       "  \"/>\n",
       "<polyline clip-path=\"url(#clip7100)\" style=\"stroke:#000000; stroke-width:1; stroke-opacity:1; fill:none\" points=\"\n",
       "  49.028,375.813 580.315,375.813 \n",
       "  \"/>\n",
       "<polyline clip-path=\"url(#clip7100)\" style=\"stroke:#000000; stroke-width:1; stroke-opacity:1; fill:none\" points=\"\n",
       "  49.028,375.813 49.028,11.811 \n",
       "  \"/>\n",
       "<polyline clip-path=\"url(#clip7100)\" style=\"stroke:#000000; stroke-width:1; stroke-opacity:1; fill:none\" points=\"\n",
       "  49.028,375.813 49.028,370.353 \n",
       "  \"/>\n",
       "<polyline clip-path=\"url(#clip7100)\" style=\"stroke:#000000; stroke-width:1; stroke-opacity:1; fill:none\" points=\"\n",
       "  181.85,375.813 181.85,370.353 \n",
       "  \"/>\n",
       "<polyline clip-path=\"url(#clip7100)\" style=\"stroke:#000000; stroke-width:1; stroke-opacity:1; fill:none\" points=\"\n",
       "  314.671,375.813 314.671,370.353 \n",
       "  \"/>\n",
       "<polyline clip-path=\"url(#clip7100)\" style=\"stroke:#000000; stroke-width:1; stroke-opacity:1; fill:none\" points=\"\n",
       "  447.493,375.813 447.493,370.353 \n",
       "  \"/>\n",
       "<polyline clip-path=\"url(#clip7100)\" style=\"stroke:#000000; stroke-width:1; stroke-opacity:1; fill:none\" points=\"\n",
       "  580.315,375.813 580.315,370.353 \n",
       "  \"/>\n",
       "<polyline clip-path=\"url(#clip7100)\" style=\"stroke:#000000; stroke-width:1; stroke-opacity:1; fill:none\" points=\"\n",
       "  49.028,290.1 56.9973,290.1 \n",
       "  \"/>\n",
       "<polyline clip-path=\"url(#clip7100)\" style=\"stroke:#000000; stroke-width:1; stroke-opacity:1; fill:none\" points=\"\n",
       "  49.028,197.337 56.9973,197.337 \n",
       "  \"/>\n",
       "<polyline clip-path=\"url(#clip7100)\" style=\"stroke:#000000; stroke-width:1; stroke-opacity:1; fill:none\" points=\"\n",
       "  49.028,104.574 56.9973,104.574 \n",
       "  \"/>\n",
       "<polyline clip-path=\"url(#clip7100)\" style=\"stroke:#000000; stroke-width:1; stroke-opacity:1; fill:none\" points=\"\n",
       "  49.028,11.811 56.9973,11.811 \n",
       "  \"/>\n",
       "<g clip-path=\"url(#clip7100)\">\n",
       "<text style=\"fill:#000000; fill-opacity:1; font-family:Arial,Helvetica Neue,Helvetica,sans-serif; font-size:12; text-anchor:middle;\" transform=\"rotate(0, 49.028, 389.613)\" x=\"49.028\" y=\"389.613\">-2000</text>\n",
       "</g>\n",
       "<g clip-path=\"url(#clip7100)\">\n",
       "<text style=\"fill:#000000; fill-opacity:1; font-family:Arial,Helvetica Neue,Helvetica,sans-serif; font-size:12; text-anchor:middle;\" transform=\"rotate(0, 181.85, 389.613)\" x=\"181.85\" y=\"389.613\">-1500</text>\n",
       "</g>\n",
       "<g clip-path=\"url(#clip7100)\">\n",
       "<text style=\"fill:#000000; fill-opacity:1; font-family:Arial,Helvetica Neue,Helvetica,sans-serif; font-size:12; text-anchor:middle;\" transform=\"rotate(0, 314.671, 389.613)\" x=\"314.671\" y=\"389.613\">-1000</text>\n",
       "</g>\n",
       "<g clip-path=\"url(#clip7100)\">\n",
       "<text style=\"fill:#000000; fill-opacity:1; font-family:Arial,Helvetica Neue,Helvetica,sans-serif; font-size:12; text-anchor:middle;\" transform=\"rotate(0, 447.493, 389.613)\" x=\"447.493\" y=\"389.613\">-500</text>\n",
       "</g>\n",
       "<g clip-path=\"url(#clip7100)\">\n",
       "<text style=\"fill:#000000; fill-opacity:1; font-family:Arial,Helvetica Neue,Helvetica,sans-serif; font-size:12; text-anchor:middle;\" transform=\"rotate(0, 580.315, 389.613)\" x=\"580.315\" y=\"389.613\">0</text>\n",
       "</g>\n",
       "<g clip-path=\"url(#clip7100)\">\n",
       "<text style=\"fill:#000000; fill-opacity:1; font-family:Arial,Helvetica Neue,Helvetica,sans-serif; font-size:12; text-anchor:end;\" transform=\"rotate(0, 43.028, 294.6)\" x=\"43.028\" y=\"294.6\">-1500</text>\n",
       "</g>\n",
       "<g clip-path=\"url(#clip7100)\">\n",
       "<text style=\"fill:#000000; fill-opacity:1; font-family:Arial,Helvetica Neue,Helvetica,sans-serif; font-size:12; text-anchor:end;\" transform=\"rotate(0, 43.028, 201.837)\" x=\"43.028\" y=\"201.837\">-1000</text>\n",
       "</g>\n",
       "<g clip-path=\"url(#clip7100)\">\n",
       "<text style=\"fill:#000000; fill-opacity:1; font-family:Arial,Helvetica Neue,Helvetica,sans-serif; font-size:12; text-anchor:end;\" transform=\"rotate(0, 43.028, 109.074)\" x=\"43.028\" y=\"109.074\">-500</text>\n",
       "</g>\n",
       "<g clip-path=\"url(#clip7100)\">\n",
       "<text style=\"fill:#000000; fill-opacity:1; font-family:Arial,Helvetica Neue,Helvetica,sans-serif; font-size:12; text-anchor:end;\" transform=\"rotate(0, 43.028, 16.311)\" x=\"43.028\" y=\"16.311\">0</text>\n",
       "</g>\n",
       "<polyline clip-path=\"url(#clip7102)\" style=\"stroke:#009af9; stroke-width:2; stroke-opacity:1; fill:none\" points=\"\n",
       "  580.315,11.811 576.994,11.8252 573.674,11.8679 570.353,11.939 567.033,12.0385 563.712,12.1665 560.392,12.3229 557.071,12.5077 553.751,12.721 550.43,12.9628 \n",
       "  547.11,13.2329 543.789,13.5315 540.468,13.8585 537.148,14.214 533.827,14.5979 530.507,15.0103 527.186,15.451 523.866,15.9203 520.545,16.4179 517.225,16.944 \n",
       "  513.904,17.4986 510.584,18.0815 507.263,18.6929 503.942,19.3328 500.622,20.0011 497.301,20.6978 493.981,21.423 490.66,22.1766 487.34,22.9586 484.019,23.7691 \n",
       "  480.699,24.608 477.378,25.4753 474.058,26.3711 470.737,27.2953 467.416,28.248 464.096,29.2291 460.775,30.2386 457.455,31.2766 454.134,32.343 450.814,33.4379 \n",
       "  447.493,34.5612 444.173,35.7129 440.852,36.8931 437.532,38.1017 434.211,39.3387 430.891,40.6042 427.57,41.8981 424.249,43.2205 420.929,44.5712 417.608,45.9505 \n",
       "  414.288,47.3581 410.967,48.7942 407.647,50.2588 404.326,51.7518 401.006,53.2732 397.685,54.823 394.365,56.4013 391.044,58.0081 387.723,59.6432 384.403,61.3068 \n",
       "  381.082,62.9989 377.762,64.7193 374.441,66.4683 371.121,68.2456 367.8,70.0514 364.48,71.8856 361.159,73.7483 357.839,75.6394 354.518,77.559 351.197,79.5069 \n",
       "  347.877,81.4834 344.556,83.4882 341.236,85.5215 337.915,87.5832 334.595,89.6734 331.274,91.792 327.954,93.9391 324.633,96.1146 321.313,98.3185 317.992,100.551 \n",
       "  314.671,102.812 311.351,105.101 308.03,107.419 304.71,109.765 301.389,112.139 298.069,114.542 294.748,116.974 291.428,119.433 288.107,121.922 284.787,124.438 \n",
       "  281.466,126.984 278.146,129.557 274.825,132.159 271.504,134.79 268.184,137.449 264.863,140.136 261.543,142.852 258.222,145.596 254.902,148.369 251.581,151.17 \n",
       "  248.261,153.999 244.94,156.857 241.62,159.744 238.299,162.659 234.978,165.602 231.658,168.574 228.337,171.574 225.017,174.603 221.696,177.66 218.376,180.745 \n",
       "  215.055,183.859 211.735,187.001 208.414,190.172 205.094,193.371 201.773,196.599 198.452,199.855 195.132,203.14 191.811,206.453 188.491,209.794 185.17,213.164 \n",
       "  181.85,216.562 178.529,219.989 175.209,223.444 171.888,226.928 168.568,230.44 165.247,233.98 161.927,237.549 158.606,241.147 155.285,244.773 151.965,248.427 \n",
       "  148.644,252.11 145.324,255.821 142.003,259.56 138.683,263.328 135.362,267.125 132.042,270.949 128.721,274.803 125.401,278.685 122.08,282.595 118.759,286.533 \n",
       "  115.439,290.5 112.118,294.496 108.798,298.52 105.477,302.572 102.157,306.653 98.8362,310.762 95.5156,314.9 92.1951,319.066 88.8746,323.261 85.554,327.484 \n",
       "  82.2335,331.735 78.9129,336.015 75.5924,340.323 72.2718,344.66 68.9513,349.025 65.6307,353.419 62.3102,357.841 58.9897,362.291 55.6691,366.77 52.3486,371.278 \n",
       "  49.028,375.813 \n",
       "  \"/>\n",
       "<polygon clip-path=\"url(#clip7100)\" points=\"\n",
       "489.799,62.931 562.315,62.931 562.315,32.691 489.799,32.691 \n",
       "  \" fill=\"#ffffff\" fill-opacity=\"1\"/>\n",
       "<polyline clip-path=\"url(#clip7100)\" style=\"stroke:#000000; stroke-width:1; stroke-opacity:1; fill:none\" points=\"\n",
       "  489.799,62.931 562.315,62.931 562.315,32.691 489.799,32.691 489.799,62.931 \n",
       "  \"/>\n",
       "<polyline clip-path=\"url(#clip7100)\" style=\"stroke:#009af9; stroke-width:2; stroke-opacity:1; fill:none\" points=\"\n",
       "  495.799,47.811 531.799,47.811 \n",
       "  \"/>\n",
       "<g clip-path=\"url(#clip7100)\">\n",
       "<text style=\"fill:#000000; fill-opacity:1; font-family:Arial,Helvetica Neue,Helvetica,sans-serif; font-size:12; text-anchor:start;\" transform=\"rotate(0, 537.799, 52.311)\" x=\"537.799\" y=\"52.311\">y1</text>\n",
       "</g>\n",
       "</svg>\n"
      ]
     },
     "execution_count": 17,
     "metadata": {
      "comm_id": "ca078aa3-86b3-4fcf-b2b2-d5044d970a0c",
      "reactive": true
     },
     "output_type": "execute_result"
    }
   ],
   "source": [
    "@manipulate for θ=0:π/16:2π\n",
    "    X = v_O*cos(θ).*t\n",
    "    Y = (-(0.5*g.*t.^2)+v_O*sin(θ).*t)\n",
    "    plot(X,Y,w=2)\n",
    "    end #Te permite graficar de manera interactiva es decir uando la funión anterior pero modificando los datos independientes, el ángulo de inclinación en este caso, para observar que ocurre en otras condiciones"
   ]
  },
  {
   "cell_type": "code",
   "execution_count": null,
   "metadata": {},
   "outputs": [],
   "source": []
  }
 ],
 "metadata": {
  "kernelspec": {
   "display_name": "Julia 0.6.0",
   "language": "julia",
   "name": "julia-0.6"
  },
  "language_info": {
   "file_extension": ".jl",
   "mimetype": "application/julia",
   "name": "julia",
   "version": "0.6.0"
  }
 },
 "nbformat": 4,
 "nbformat_minor": 2
}
