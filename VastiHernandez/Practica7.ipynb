{
 "cells": [
  {
   "cell_type": "markdown",
   "metadata": {},
   "source": [
    "a) Escribe un programa que sume dos vectores en  $ R^{3} $ , el usuario debe insertar las entradas de los vectores. "
   ]
  },
  {
   "cell_type": "code",
   "execution_count": 1,
   "metadata": {},
   "outputs": [
    {
     "data": {
      "text/plain": [
       "svect3 (generic function with 1 method)"
      ]
     },
     "execution_count": 1,
     "metadata": {},
     "output_type": "execute_result"
    }
   ],
   "source": [
    "function svect3(A,B)\n",
    "    if length(A)==length(B)==3 #Sea el tamaño de los vectores 3\n",
    "        C=[0,0,0] #Dí un vector en el que se dará el resultado\n",
    "        for i in eachindex(A) 
    "            C[i]=(A[i]+B[i]) #Esta operacion que se realizara por cada renglon, siendo que se aplicará de renglón a renglón \"i\"\n",
    "        end\n",
    "    else #Se imprime cuando los vectores no sean;\n",
    "        print(\"Los vectores deben ser de tamaño 3\") \n",
    "    end\n",
    "    print(C) #Imprimimos el vector resultante\n",
    "end"
   ]
  },
  {
   "cell_type": "code",
   "execution_count": 2,
   "metadata": {},
   "outputs": [
    {
     "data": {
      "text/plain": [
       "3-element Array{Int64,1}:\n",
       " 5\n",
       " 5\n",
       " 5"
      ]
     },
     "execution_count": 2,
     "metadata": {},
     "output_type": "execute_result"
    }
   ],
   "source": [
    "y=[5,5,5]"
   ]
  },
  {
   "cell_type": "code",
   "execution_count": 3,
   "metadata": {},
   "outputs": [
    {
     "data": {
      "text/plain": [
       "3-element Array{Int64,1}:\n",
       " 5\n",
       " 5\n",
       " 5"
      ]
     },
     "execution_count": 3,
     "metadata": {},
     "output_type": "execute_result"
    }
   ],
   "source": [
    "x=[5,5,5]"
   ]
  },
  {
   "cell_type": "code",
   "execution_count": 4,
   "metadata": {},
   "outputs": [
    {
     "name": "stdout",
     "output_type": "stream",
     "text": [
      "[10,10,10]"
     ]
    }
   ],
   "source": [
    "svect3(x,y)"
   ]
  },
  {
   "cell_type": "markdown",
   "metadata": {},
   "source": [
    "b) Escribe  un programa que sume dos vectores en  $ R^{n} $  las entradas de los vectores deben leerse de un archivo de datos. (recuerda que esto solo tiene sentido si los vectores a sumar son de la misma dimensión)."
   ]
  },
  {
   "cell_type": "code",
   "execution_count": 5,
   "metadata": {},
   "outputs": [
    {
     "data": {
      "text/plain": [
       "svectorn (generic function with 1 method)"
      ]
     },
     "execution_count": 5,
     "metadata": {},
     "output_type": "execute_result"
    }
   ],
   "source": [
    "function svectorn(A,B)\n",
    "    if length(A)==length(B) #Con este modelo podré observar que los dos vestores tengan la misma dimensión\n",
    "        t=length(A)\n",
    "        u= Array{Float64}(t) #Dí un Vector con la misma domensión que el de A\n",
    "        for i in eachindex(u) 
    "            u[i]=(A[i]+B[i]) #La suma será por cada i-ésimo numero de A con cada i-ésimo numero de B\n",
    "        end\n",
    "        print(u) #Imprime el vector resultante\n",
    "    else\n",
    "        print(\"Los vectores tienen diferente tamaño\") #Eso solo es si el tamaño de los vectores no es el mismo\n",
    "    end\n",
    "end"
   ]
  },
  {
   "cell_type": "code",
   "execution_count": 6,
   "metadata": {},
   "outputs": [
    {
     "data": {
      "text/plain": [
       "8-element Array{Int64,1}:\n",
       " 7\n",
       " 4\n",
       " 1\n",
       " 8\n",
       " 6\n",
       " 5\n",
       " 1\n",
       " 9"
      ]
     },
     "execution_count": 6,
     "metadata": {},
     "output_type": "execute_result"
    }
   ],
   "source": [
    "l=[7,4,1,8,6,5,1,9]"
   ]
  },
  {
   "cell_type": "code",
   "execution_count": 7,
   "metadata": {},
   "outputs": [
    {
     "data": {
      "text/plain": [
       "8-element Array{Int64,1}:\n",
       " 1\n",
       " 5\n",
       " 4\n",
       " 9\n",
       " 6\n",
       " 3\n",
       " 2\n",
       " 8"
      ]
     },
     "execution_count": 7,
     "metadata": {},
     "output_type": "execute_result"
    }
   ],
   "source": [
    "m=[1,5,4,9,6,3,2,8]"
   ]
  },
  {
   "cell_type": "code",
   "execution_count": 8,
   "metadata": {},
   "outputs": [
    {
     "name": "stdout",
     "output_type": "stream",
     "text": [
      "[8.0,9.0,5.0,17.0,12.0,8.0,3.0,17.0]"
     ]
    }
   ],
   "source": [
    "svectorn(l,m)"
   ]
  },
  {
   "cell_type": "code",
   "execution_count": null,
   "metadata": {},
   "outputs": [],
   "source": []
  }
 ],
 "metadata": {
  "kernelspec": {
   "display_name": "Julia 0.5.2",
   "language": "julia",
   "name": "julia-0.5"
  },
  "language_info": {
   "file_extension": ".jl",
   "mimetype": "application/julia",
   "name": "julia",
   "version": "0.5.2"
  }
 },
 "nbformat": 4,
 "nbformat_minor": 2
}
