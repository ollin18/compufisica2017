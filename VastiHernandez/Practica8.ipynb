{
 "cells": [
  {
   "cell_type": "markdown",
   "metadata": {},
   "source": [
    "a) Calcular el producto interior (producto punto) de dos vectores en $ R^{3} $ el usuario debe insertar las entradas de los vectores. "
   ]
  },
  {
   "cell_type": "code",
   "execution_count": 3,
   "metadata": {},
   "outputs": [
    {
     "data": {
      "text/plain": [
       "producto (generic function with 1 method)"
      ]
     },
     "execution_count": 3,
     "metadata": {},
     "output_type": "execute_result"
    }
   ],
   "source": [
    "function producto(A,B)\n",
    "    if length(A)==length(B)==3 #Al igual que las prácticas anteriores, aquí se indica la magnitud de los vectores, en este caso ambos son del mismo tamaño\n",
    "        R = 0 \n",
    "        for i in 1:length(A) #Los procedimientos se aplicarán a cada valor del vector\n",
    "            R=R+(A[i]*B[i]) #Por otra parte se multiplicará cada elemento de los dos vectores \n",
    "        end\n",
    "        print(R) #Imprimir, lo que dará lugar al resultado\n",
    "    else\n",
    "        println(\"Vectores de distinta dimensión\") #Cuando los vectores no son del mismo tamaño, y no pueda continuar el ciclo\n",
    "    end\n",
    "end"
   ]
  },
  {
   "cell_type": "code",
   "execution_count": 4,
   "metadata": {},
   "outputs": [
    {
     "data": {
      "text/plain": [
       "3-element Array{Int64,1}:\n",
       "  8\n",
       " 12\n",
       " 16"
      ]
     },
     "execution_count": 4,
     "metadata": {},
     "output_type": "execute_result"
    }
   ],
   "source": [
    "A=[8,12,16]"
   ]
  },
  {
   "cell_type": "code",
   "execution_count": 5,
   "metadata": {},
   "outputs": [
    {
     "data": {
      "text/plain": [
       "3-element Array{Int64,1}:\n",
       " 6\n",
       " 7\n",
       " 8"
      ]
     },
     "execution_count": 5,
     "metadata": {},
     "output_type": "execute_result"
    }
   ],
   "source": [
    "B=[6,7,8]"
   ]
  },
  {
   "cell_type": "code",
   "execution_count": 6,
   "metadata": {},
   "outputs": [
    {
     "name": "stdout",
     "output_type": "stream",
     "text": [
      "260"
     ]
    }
   ],
   "source": [
    "producto(A,B)"
   ]
  },
  {
   "cell_type": "markdown",
   "metadata": {},
   "source": [
    "b) Escribe  un programa que realice el producto interior (producto punto) de dos vectores en $ R^{n} $ las entradas de los vectores deben leerse de un archivo. (Recuerda nuevamente que esto solo tiene sentido si los vectores son de la misma dimensión)."
   ]
  },
  {
   "cell_type": "code",
   "execution_count": 37,
   "metadata": {},
   "outputs": [
    {
     "data": {
      "text/plain": [
       "producto2 (generic function with 1 method)"
      ]
     },
     "execution_count": 37,
     "metadata": {},
     "output_type": "execute_result"
    }
   ],
   "source": [
    "function producto2(A,B)\n",
    "    if length(A)==length(B) #Al igual que el ejercicio anterior, aquí se indica la magnitud de los vectores, en este caso ambos deberan ser del mismo tamañ\n",
    "        R=0.0 \n",
    "        for i in 1:length(A) #La operacion se efectuará de un número por un número numero\n",
    "            R=R+(A[i]*B[i]) #Aqui se multiplicara cada elemento\n",
    "        end\n",
    "        print(R) #Imprimir, así se dará lugar al resultado\n",
    "    else\n",
    "        println(\"Vectores de distinta dimensión\") #Cuando los vectores son de diferente tamaño, y no pueda continuar el ciclo\n",
    "    end\n",
    "end"
   ]
  },
  {
   "cell_type": "code",
   "execution_count": 32,
   "metadata": {},
   "outputs": [
    {
     "data": {
      "text/plain": [
       "4-element Array{Int64,1}:\n",
       " 8\n",
       " 7\n",
       " 4\n",
       " 5"
      ]
     },
     "execution_count": 32,
     "metadata": {},
     "output_type": "execute_result"
    }
   ],
   "source": [
    "u=[8,7,4,5]"
   ]
  },
  {
   "cell_type": "code",
   "execution_count": 39,
   "metadata": {},
   "outputs": [
    {
     "ename": "LoadError",
     "evalue": "\u001b[91mUndefVarError: i not defined\u001b[39m",
     "output_type": "error",
     "traceback": [
      "\u001b[91mUndefVarError: i not defined\u001b[39m",
      "",
      "Stacktrace:",
      " [1] \u001b[1minclude_string\u001b[22m\u001b[22m\u001b[1m(\u001b[22m\u001b[22m::String, ::String\u001b[1m)\u001b[22m\u001b[22m at \u001b[1m./loading.jl:515\u001b[22m\u001b[22m"
     ]
    }
   ],
   "source": [
    "producto2(u,i)"
   ]
  },
  {
   "cell_type": "code",
   "execution_count": null,
   "metadata": {},
   "outputs": [],
   "source": []
  }
 ],
 "metadata": {
  "kernelspec": {
   "display_name": "Julia 0.6.0",
   "language": "julia",
   "name": "julia-0.6"
  },
  "language_info": {
   "file_extension": ".jl",
   "mimetype": "application/julia",
   "name": "julia",
   "version": "0.6.0"
  }
 },
 "nbformat": 4,
 "nbformat_minor": 2
}
