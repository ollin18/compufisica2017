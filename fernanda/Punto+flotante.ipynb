{
 "cells": [
  {
   "cell_type": "markdown",
   "metadata": {},
   "source": [
    "# Tarea 1\n",
    "\n",
    "## Computación\n",
    "\n",
    "### Fernanda Martínez Saldaña ###\n",
    "***\n",
    "\n"
   ]
  },
  {
   "cell_type": "markdown",
   "metadata": {},
   "source": [
    "# Sistema de punto flotante"
   ]
  },
  {
   "cell_type": "markdown",
   "metadata": {},
   "source": [
    "El punto flotante surge de la necesidad de representar números reales y enteros con un rango de representación mayor que el que nos ofrece punto fijo. En la representación en coma flotante, se dividen los n bits disponibles para representar un dato, en 2 partes llamadas mantisa M y exponente E. Considerando que la mantisa tiene una longitud de p bits y que el exponente la tiene de q bits, se cumple que n = p + q.\n"
   ]
  },
  {
   "cell_type": "markdown",
   "metadata": {},
   "source": [
    "### Cómo funcionan los números de punto flotante###"
   ]
  },
  {
   "cell_type": "markdown",
   "metadata": {},
   "source": [
    "La idea es descomponer el número en dos partes:\n",
    "\n",
    "* Una mantisa (también llamada coeficiente o significando) que contiene los dígitos del número. Mantisas negativas representan números negativos.\n",
    "\n",
    "* Un exponente que indica dónde se coloca el punto decimal (o binario) en relación al inicio de la mantisa. Exponentes negativos representan números menores que uno."
   ]
  },
  {
   "cell_type": "markdown",
   "metadata": {},
   "source": [
    "### Este formato cumple todos los requisitos:\n",
    "\n",
    "* Puede representar números de órdenes de magnitud enormemente dispares (limitado por la longitud del exponente).\n",
    "\n",
    "* Proporciona la misma precisión relativa para todos los órdenes (limitado por la longitud de la mantisa).\n",
    "\n",
    "* Permite cálculos entre magnitudes: multiplicar un número muy grande y uno muy pequeño conserva la precisión de ambos en el resultado.\n"
   ]
  },
  {
   "cell_type": "markdown",
   "metadata": {},
   "source": [
    "![Imagen](http://www.puntoflotante.net/FORMATO_PUNTO_FLOTANTE.jpg)\n"
   ]
  },
  {
   "cell_type": "markdown",
   "metadata": {},
   "source": [
    "\n",
    "\n",
    "# Diferencia entre sistemas operativos de 32/64 bits"
   ]
  },
  {
   "cell_type": "markdown",
   "metadata": {},
   "source": [
    "* Para empezar un chip de 64 bits (a cuya arquitectura en ocasiones nos referimos como x64) puede hacer mucho más que uno de 32 bits.\n",
    "\n",
    "* La principal diferencia entre un procesador de 32 bits y uno de 64 bits es que el primero puede procesar secuencia de bits de hasta 32 bits, mientras que los procesadores de 64 bits pueden extender al doble esta capacidad.\n",
    "\n",
    "* El caso de los procesadores de 64 bits, estos pueden trabajar con el doble de información en el mismo ciclo de reloj que uno de 32 bits, lo que les permite pueden acceder a mayor capacidad de memoria y procesar bloques de datos mucho más grandes, aumentado el rendimiento y la velocidad de proceso general.\n",
    "\n",
    "* El procesador de 64 bits puede direccionar teóricamente hasta 16 exabytes de memoria, mientras que los procesadores de 32 bits sólo pueden direccionar 4 Gb.\n",
    "\n",
    "* En cuanto a los sistemas operativos, concretamente Windows, la más importante diferencia entre las versiones 32 y 64 bits es que el primero admite hasta 4 Gb. de RAM, de los cuales aprovechará tan sólo 3.25 Gb. En el caso de los sistemas operativos de 64 bits estos admiten hasta 192 Gb. de RAM.\n",
    "\n",
    "\n",
    "\n",
    "\n"
   ]
  },
  {
   "cell_type": "markdown",
   "metadata": {},
   "source": [
    "![Imagen](http://omicrono.elespanol.com/wp-content/uploads/2016/08/32-bit-y-64-bit.jpg)\n",
    "***"
   ]
  },
  {
   "cell_type": "markdown",
   "metadata": {},
   "source": [
    "# ALU\n"
   ]
  },
  {
   "cell_type": "markdown",
   "metadata": {},
   "source": [
    "La ALU puede considerarse como \"el núcleo central del computador\"."
   ]
  },
  {
   "cell_type": "markdown",
   "metadata": {},
   "source": [
    "Una unidad aritmética y lógica (ALU) es un circuito combinacional que desarrolla microoperaciones lógicas y aritméticas de dos operandos A y B de n bits. Las operaciones llevadas a cabo por la ALU son controladas por un grupo de entradas de selección de función."
   ]
  },
  {
   "cell_type": "markdown",
   "metadata": {},
   "source": [
    "Se debe diseñar una ALU de 4 bits con 3 entradas de selección de función : \n",
    "* Modo M, entradas de selección S0 y S1. \n",
    "* La entrada M selecciona entre una operación lógica (M=0).  \n",
    "* Una aritmética (M=1)\n",
    "\n"
   ]
  },
  {
   "cell_type": "markdown",
   "metadata": {},
   "source": [
    "Las operaciones que hace son:\n",
    "\n",
    "* Aritméticas:\n",
    "\n",
    "Suma, resta,multiplicación, división.\n",
    "\n",
    "* Operaciones lógicas de bits:\n",
    "\n",
    "AND,NOT,OR,XOR,XNOR\n",
    "\n",
    "* Operaciones de desplazamiento de bits:\n",
    "\n",
    "Desplazan o rotan una palabra en un número específico de bits hacia la izquierda o hacia la derecha.\n",
    "***\n",
    "\n",
    "\n"
   ]
  },
  {
   "cell_type": "markdown",
   "metadata": {},
   "source": [
    "Por ejemplo:"
   ]
  },
  {
   "cell_type": "code",
   "execution_count": 8,
   "metadata": {
    "collapsed": false
   },
   "outputs": [
    {
     "data": {
      "text/plain": [
       "8019"
      ]
     },
     "execution_count": 8,
     "metadata": {},
     "output_type": "execute_result"
    }
   ],
   "source": [
    "1019+7000"
   ]
  },
  {
   "cell_type": "code",
   "execution_count": 10,
   "metadata": {
    "collapsed": false
   },
   "outputs": [
    {
     "data": {
      "text/plain": [
       "313"
      ]
     },
     "execution_count": 10,
     "metadata": {},
     "output_type": "execute_result"
    }
   ],
   "source": [
    "235+78"
   ]
  },
  {
   "cell_type": "code",
   "execution_count": 12,
   "metadata": {
    "collapsed": false
   },
   "outputs": [
    {
     "data": {
      "text/plain": [
       "305721"
      ]
     },
     "execution_count": 12,
     "metadata": {},
     "output_type": "execute_result"
    }
   ],
   "source": [
    "4563*67"
   ]
  },
  {
   "cell_type": "code",
   "execution_count": 16,
   "metadata": {
    "collapsed": false
   },
   "outputs": [
    {
     "data": {
      "text/plain": [
       "14.043478260869565"
      ]
     },
     "execution_count": 16,
     "metadata": {},
     "output_type": "execute_result"
    },
    {
     "ename": "KeyError",
     "evalue": "key not found: \"comm_info_request\"",
     "output_type": "error",
     "traceback": [
      "KERNEL EXCEPTION",
      "key not found: \"comm_info_request\"",
      "",
      " in eventloop at /opt/julia_packages/.julia/v0.3/IJulia/src/IJulia.jl:143",
      " in anonymous at task.jl:340"
     ]
    }
   ],
   "source": [
    "323/23\n"
   ]
  },
  {
   "cell_type": "markdown",
   "metadata": {},
   "source": [
    "![Imagen](https://upload.wikimedia.org/wikipedia/commons/thumb/0/0f/ALU_block.gif/1200px-ALU_block.gif)\n",
    "***"
   ]
  },
  {
   "cell_type": "markdown",
   "metadata": {},
   "source": [
    "\n",
    "\n",
    "\n",
    "\n",
    "# Algoritmo y estabilidad"
   ]
  },
  {
   "cell_type": "markdown",
   "metadata": {},
   "source": [
    "Sería bueno que los algoritmos numéricos proporcionaran respuestas exactas a los problemas numéricos, pero como los números reales forman un continuo y los ordenadores sólo pueden utilizar un número finito de números racionales, ese objetivo es, en general, imposible de alcanzar. La noción de estabilidad es la forma estándar de caracterizar lo que es posible; lo que los analistas numéricos consideran que es la “respuesta correcta” aunque no sea la exacta."
   ]
  },
  {
   "cell_type": "markdown",
   "metadata": {},
   "source": [
    "Sea X un conjunto de datos de entrada, Y el conjunto de datos de salida y f la forma en la que se relacionan X y Y. Entonces: f: X ---> Y. Sin embargo para poder encontrar una solución es necesario aproximarla mediante algún algoritmo computacional.\n",
    "\n"
   ]
  },
  {
   "cell_type": "markdown",
   "metadata": {},
   "source": [
    "Debido a que en la mayoría de los casos los algoritmos empleados están escritos en algún lenguaje de computación, los datos de entrada (subconjunto de X), así como las operaciones tienen un error, ya sea por el redondeo o por los cálculos realizados. Es por este motivo que lo más que se le puede pedir a un algoritmo numérico es que sea estable."
   ]
  },
  {
   "cell_type": "markdown",
   "metadata": {},
   "source": [
    "Un algoritmo es estable si, pequeños datos entrada, producen pequeños cambios en los datos de salida.\n",
    "\n",
    "Y por el contrario un algoritmo es inestable si, pequeños cambios en los datos de entrada producen grandes cambios en los datos de salida. "
   ]
  },
  {
   "cell_type": "markdown",
   "metadata": {},
   "source": [
    "Un algoritmo es estable para una clase de matrices C si para cada matriz A en C, la solución computacional por el algoritmo es la solución exacta cercana al problema. "
   ]
  },
  {
   "cell_type": "markdown",
   "metadata": {},
   "source": [
    "![Imagen](http://slideplayer.es/slide/2273536/8/images/40/ESTABILIDAD+DEL+ALGORITMO.jpg)"
   ]
  }
 ],
 "metadata": {
  "kernelspec": {
   "display_name": "Julia 0.3.12",
   "language": "julia",
   "name": "julia-0.3"
  },
  "language_info": {
   "file_extension": ".jl",
   "mimetype": "application/julia",
   "name": "julia",
   "version": "0.3.12"
  }
 },
 "nbformat": 4,
 "nbformat_minor": 2
}
