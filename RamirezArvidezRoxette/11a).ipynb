{
 "cells": [
  {
   "cell_type": "markdown",
   "metadata": {},
   "source": [
    "Recordamos la ecuación principal de la recta. En que m representa la pendiente de la recta y b es el coeficiente de posición y es el número en que la recta corta al eje de las ordenadas."
   ]
  },
  {
   "cell_type": "markdown",
   "metadata": {},
   "source": [
    "$$\n",
    "\\textbf{y} = mx + b\n",
    "$$\n",
    "\n"
   ]
  },
  {
   "cell_type": "markdown",
   "metadata": {},
   "source": [
    "Luego se asinanlos valores tanto de pendiente, conmo la intersección en el eje de ordenadas"
   ]
  },
  {
   "cell_type": "code",
   "execution_count": 18,
   "metadata": {},
   "outputs": [
    {
     "data": {
      "text/plain": [
       "5"
      ]
     },
     "execution_count": 18,
     "metadata": {},
     "output_type": "execute_result"
    }
   ],
   "source": [
    "m=5 # Asiganmos el valor 5"
   ]
  },
  {
   "cell_type": "code",
   "execution_count": 19,
   "metadata": {},
   "outputs": [
    {
     "data": {
      "text/plain": [
       "9"
      ]
     },
     "execution_count": 19,
     "metadata": {},
     "output_type": "execute_result"
    }
   ],
   "source": [
    "b=9 # Asignamos el valor en y, 9"
   ]
  },
  {
   "cell_type": "code",
   "execution_count": 20,
   "metadata": {},
   "outputs": [],
   "source": [
    "x=collect(0:0.125:10); #Generamos un arreglo que va del 0 a 10, en intervalo de 0.125, que serviría como el dominio de nuestra grafica, es decirlos valores qu tomará x"
   ]
  },
  {
   "cell_type": "code",
   "execution_count": 21,
   "metadata": {},
   "outputs": [],
   "source": [
    "y=zeros(x); #Construimos otro arreglo únicmanete de ceros quetendra las dimensiones correspondientes al arreglo de x, para que posteriormente no sirva para evalur la ecuación y arrojar valores al eje de ordenaas (y)"
   ]
  },
  {
   "cell_type": "code",
   "execution_count": 22,
   "metadata": {},
   "outputs": [],
   "source": [
    "for i in eachindex(x) #Decimos que para cada elemento (i) en cadapunto del intervalo x\n",
    "    y = m*x + b #E cumplirá la ecuación, con m y b determinados por el usuario\n",
    "end #Termina la función"
   ]
  },
  {
   "cell_type": "code",
   "execution_count": 23,
   "metadata": {},
   "outputs": [],
   "source": [
    "using Plots #Este comando nos permite usr el paquete en juliabox para graficar e imprimir el resultado en pantalla"
   ]
  },
  {
   "cell_type": "code",
   "execution_count": 24,
   "metadata": {},
   "outputs": [
    {
     "data": {
      "text/plain": [
       "Plots.PyPlotBackend()"
      ]
     },
     "execution_count": 24,
     "metadata": {},
     "output_type": "execute_result"
    }
   ],
   "source": [
    "pyplot() #Para imprimir la gráfica"
   ]
  },
  {
   "cell_type": "code",
   "execution_count": 25,
   "metadata": {},
   "outputs": [
    {
     "data": {
      "text/html": [
       "<img src=\"data:image/png;base64,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\" />"
      ]
     },
     "execution_count": 25,
     "metadata": {},
     "output_type": "execute_result"
    }
   ],
   "source": [
    "plot(x,y,w=3) #Tiene asignado valores en eje de abciss, orddendas y grosor de la gráfica, respectivamente, con x e y valores arrojados por el programa hhecho\n",
    "title!(\"Gráfica de la Recta\") #Título principal de la gráfica\n",
    "xaxis!(\"Eje x\") #Nombre en eje de abcisas\n",
    "yaxis!(\"Eje y\") #Nombre en je de ordenadas"
   ]
  },
  {
   "cell_type": "code",
   "execution_count": 26,
   "metadata": {},
   "outputs": [
    {
     "data": {
      "text/plain": [
       "81×2 Array{Float64,2}:\n",
       "  0.0     9.0  \n",
       "  0.125   9.625\n",
       "  0.25   10.25 \n",
       "  0.375  10.875\n",
       "  0.5    11.5  \n",
       "  0.625  12.125\n",
       "  0.75   12.75 \n",
       "  0.875  13.375\n",
       "  1.0    14.0  \n",
       "  1.125  14.625\n",
       "  1.25   15.25 \n",
       "  1.375  15.875\n",
       "  1.5    16.5  \n",
       "  ⋮            \n",
       "  8.625  52.125\n",
       "  8.75   52.75 \n",
       "  8.875  53.375\n",
       "  9.0    54.0  \n",
       "  9.125  54.625\n",
       "  9.25   55.25 \n",
       "  9.375  55.875\n",
       "  9.5    56.5  \n",
       "  9.625  57.125\n",
       "  9.75   57.75 \n",
       "  9.875  58.375\n",
       " 10.0    59.0  "
      ]
     },
     "execution_count": 26,
     "metadata": {},
     "output_type": "execute_result"
    }
   ],
   "source": [
    "variables=hcat(x,y) #Lee los valores correpondientes que arrojo para x e y"
   ]
  },
  {
   "cell_type": "code",
   "execution_count": 27,
   "metadata": {},
   "outputs": [],
   "source": [
    "writedlm(\"Recta.csv\", variables, '|') #Escribe en un documento llamado \"Recta.csv\" los datos generados"
   ]
  },
  {
   "cell_type": "code",
   "execution_count": 28,
   "metadata": {},
   "outputs": [
    {
     "data": {
      "text/plain": [
       "81×2 Array{Float64,2}:\n",
       "  0.0     9.0  \n",
       "  0.125   9.625\n",
       "  0.25   10.25 \n",
       "  0.375  10.875\n",
       "  0.5    11.5  \n",
       "  0.625  12.125\n",
       "  0.75   12.75 \n",
       "  0.875  13.375\n",
       "  1.0    14.0  \n",
       "  1.125  14.625\n",
       "  1.25   15.25 \n",
       "  1.375  15.875\n",
       "  1.5    16.5  \n",
       "  ⋮            \n",
       "  8.625  52.125\n",
       "  8.75   52.75 \n",
       "  8.875  53.375\n",
       "  9.0    54.0  \n",
       "  9.125  54.625\n",
       "  9.25   55.25 \n",
       "  9.375  55.875\n",
       "  9.5    56.5  \n",
       "  9.625  57.125\n",
       "  9.75   57.75 \n",
       "  9.875  58.375\n",
       " 10.0    59.0  "
      ]
     },
     "execution_count": 28,
     "metadata": {},
     "output_type": "execute_result"
    }
   ],
   "source": [
    "lectura=readdlm(\"Recta.csv\", '|') #Lee el arcchivo generado"
   ]
  },
  {
   "cell_type": "code",
   "execution_count": null,
   "metadata": {},
   "outputs": [],
   "source": []
  }
 ],
 "metadata": {
  "kernelspec": {
   "display_name": "Julia 0.6.0",
   "language": "julia",
   "name": "julia-0.6"
  },
  "language_info": {
   "file_extension": ".jl",
   "mimetype": "application/julia",
   "name": "julia",
   "version": "0.6.0"
  }
 },
 "nbformat": 4,
 "nbformat_minor": 2
}
