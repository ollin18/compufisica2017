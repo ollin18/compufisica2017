{
 "cells": [
  {
   "cell_type": "markdown",
   "metadata": {},
   "source": [
    "# Multiplicación de vectores"
   ]
  },
  {
   "cell_type": "code",
   "execution_count": 34,
   "metadata": {},
   "outputs": [],
   "source": [
    "u=[1,8,4]\n",
    "v=[1,2,6]; #Se definen los arreglos que serán multiplicados"
   ]
  },
  {
   "cell_type": "code",
   "execution_count": 35,
   "metadata": {},
   "outputs": [
    {
     "data": {
      "text/plain": [
       "multiplicacion (generic function with 1 method)"
      ]
     },
     "execution_count": 35,
     "metadata": {},
     "output_type": "execute_result"
    }
   ],
   "source": [
    "function multiplicacion(u,v) #Declarar que se creará una nuevafunción\n",
    "    if length(u)==length(v)  #La función con el for se ejecuta solo cuando u y v tengan la misma dimensión \n",
    "        p=0                  #p es una variable en la que se almacenará el resultado\n",
    "        for i in eachindex(u)#Cada valor en u y v van a ser afectados en el orden que aparecen \n",
    "            p=p+(u[i]*v[i])  #Se define la función algebraica\n",
    "            end              #Fin del ciclo for\n",
    "        println(p)           #El valor de la multiplicación se imprime\n",
    "        else                \n",
    "        println(\"Error en tamaño de arreglos\")  #Esto ocurre cuando la dimensión de u y v es distinta\n",
    "        end                                         #Fin del if\n",
    "    end                                             #Fin de la función"
   ]
  },
  {
   "cell_type": "code",
   "execution_count": 37,
   "metadata": {},
   "outputs": [
    {
     "name": "stdout",
     "output_type": "stream",
     "text": [
      "41\n"
     ]
    }
   ],
   "source": [
    "multiplicacion(u,v)   #Prueba de la función"
   ]
  }
 ],
 "metadata": {
  "kernelspec": {
   "display_name": "Julia 0.6.0",
   "language": "julia",
   "name": "julia-0.6"
  },
  "language_info": {
   "file_extension": ".jl",
   "mimetype": "application/julia",
   "name": "julia",
   "version": "0.6.0"
  }
 },
 "nbformat": 4,
 "nbformat_minor": 2
}
