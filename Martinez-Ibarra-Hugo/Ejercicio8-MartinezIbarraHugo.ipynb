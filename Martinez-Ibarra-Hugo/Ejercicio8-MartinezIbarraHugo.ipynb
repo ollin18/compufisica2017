{
 "cells": [
  {
   "cell_type": "markdown",
   "metadata": {},
   "source": [
    "### Martínez Ibarra Hugo\n",
    "***\n",
    "### Computación <p style=\"text-align:right\">Grupo 8381\n",
    "## <p style=\"color:darkblue;text-align:center\">Ejercicio #8"
   ]
  },
  {
   "cell_type": "markdown",
   "metadata": {},
   "source": [
    "a) Calcular el producto interior (producto punto) de dos vectores en $\\mathbb{R}³$ el usuario debe insertar las entradas de los vectores."
   ]
  },
  {
   "cell_type": "markdown",
   "metadata": {},
   "source": [
    "Recordar que el producto escalar o producto punto se realiza entre dos vectores columna o dos vectores renglón con el mismo número de entradas:\n",
    "$$a=[a_{1,1}\\quad a_{1,2}\\quad a_{1,3}]$$\n",
    "$$b=[b_{1,1}\\quad b_{1,2}\\quad b_{1,3}]$$\n",
    "$$a\\bullet b=a_{1,1}*b_{1,1}+a_{1,2}*b_{1,2}+a_{1,3}*b_{1,3}$$\n",
    "\n",
    "Para el caso de vectores verticales (columna):\n",
    "$$a=\\begin{bmatrix}a_{1,1}\\\\a_{2,1}\\\\a_{3,1}\\end{bmatrix}\\qquad b=\\begin{bmatrix}b_{1,1}\\\\b_{2,1}\\\\b_{3,1}\\end{bmatrix}$$\n",
    "$$a\\bullet b=a_{1,1}*b_{1,1}+a_{2,1}*b_{2,1}+a_{3,1}*b_{3,1}$$\n",
    "\n",
    "Para el caso de un vector horizontal (renglón) primero y luego un vector vertical (columna):\n",
    "$$a=[a_{1,1}\\quad a_{1,2}\\quad a_{1,3}]\\qquad b=\\begin{bmatrix}b_{1,1}\\\\b_{2,1}\\\\b_{3,1}\\end{bmatrix}$$\n",
    "$$a\\bullet b=a_{1,1}*b_{1,1}+a_{1,2}*b_{2,1}+a_{1,3}*b_{3,1}$$"
   ]
  },
  {
   "cell_type": "code",
   "execution_count": 1,
   "metadata": {},
   "outputs": [],
   "source": [
    "#Aquí el usuario introduce las entradas de los vectores\n",
    "a=[1,2,3]\n",
    "b=[4,5,6];"
   ]
  },
  {
   "cell_type": "code",
   "execution_count": 2,
   "metadata": {},
   "outputs": [
    {
     "data": {
      "text/plain": [
       "prodescr3 (generic function with 1 method)"
      ]
     },
     "execution_count": 2,
     "metadata": {},
     "output_type": "execute_result"
    }
   ],
   "source": [
    "#Se define la función para el producto escalar en R³.\n",
    "#Se utiliza condicional para ver si se trata de un vector vertical u horizontal. Lo primero se corrobora al ver si son de la misma dimensión (1 para vectores verticales, 2 para vectores horizontales), luego si tienen el mismo número de renglones, con lenght(), si coinciden en número de elementos se lleva a cabo la operación. Para el caso de vectores horizontales la dimensión de ambos vectores debe ser 2 y si tienen el mismo tamaño, size()=(1,3), se lleva a cabo la operación. Para ambos casos si no se cumple la condición principal se avisa que no son del mismo tamaño.\n",
    "#Adicionalmente se considera el caso en que se hace el producto punto entre un vector renglón y un vector columna (en ese orden), donde se indica que la dimensión de renglones del primer vector debe coincidir con la dimensión del vector columna; es decir 1, luego la dimensión de columnas del primer vector debe coincidir con la dimensión de renglones del segundo vector. Y finalmente realizar el producto adecuado.\n",
    "function prodescr3(a::Array,b::Array)\n",
    "    if ndims(a)==ndims(b) && ndims(a)==1\n",
    "        if length(a)==length(b)\n",
    "            prod=a[1,]*b[1,]+a[2,]*b[2,]+a[3,]*b[3,]\n",
    "        else\n",
    "            \"No son del mismo tamaño\"\n",
    "        end\n",
    "    elseif ndims(a)==ndims(b) && ndims(a)==2\n",
    "        if size(a)==size(b) && size(a)==(1,3)\n",
    "            prod=a[1,1]*b[1,1]+a[1,2]*b[1,2]+a[1,3]*b[1,3]\n",
    "        else\n",
    "            \"No son del mismo tamaño o no son vectores renglón\"\n",
    "        end\n",
    "    elseif size(a)[1]==ndims(b) && size(a)[2]==size(b)[1]\n",
    "        prod=a[1,1]*b[1,]+a[1,2]*b[2,]+a[1,3]*b[3,]\n",
    "    else\n",
    "        \"No definido\"\n",
    "    end\n",
    "end"
   ]
  },
  {
   "cell_type": "code",
   "execution_count": 3,
   "metadata": {},
   "outputs": [
    {
     "data": {
      "text/plain": [
       "32"
      ]
     },
     "execution_count": 3,
     "metadata": {},
     "output_type": "execute_result"
    }
   ],
   "source": [
    "#Se prueba el algoritmo.\n",
    "prodescr3(a,b)"
   ]
  },
  {
   "cell_type": "markdown",
   "metadata": {},
   "source": [
    "b) Escribe un programa que realice el producto interior (producto punto) de dos vectores en $\\mathbb{R}^n$. Las entradas de los vectores deben leerse de un archivo. (Recuerda nuevamente que esto solo tiene sentido si los vectores son de la misma dimensión)."
   ]
  },
  {
   "cell_type": "code",
   "execution_count": 4,
   "metadata": {},
   "outputs": [],
   "source": [
    "#Se definen aquí los vectores para que luego sean escritos en un archivo, este paso sólo se hace con el propósito de que el archivo de datos se genere al mismo tiempo que se corre este cuaderno, pues de lo contrario se tendría que subir un archivo de texto extra, además del presente cuaderno. Sólo por cuestión de practicidad, pero el programa hace precisamente lo que se pide.\n",
    "va=[1 2 3 0]\n",
    "vb=[4,5,6,0];"
   ]
  },
  {
   "cell_type": "code",
   "execution_count": 5,
   "metadata": {},
   "outputs": [],
   "source": [
    "#Se escriben los archivos que contienen las entradas de los vectores, cabe mencionar que aquí depende cómo se escriban los vectores, verticales u horizontales, pue sasí los leerá el comando, por eso se debe ser cuidadoso con la colocación del símbolo separador(\"|\").\n",
    "writedlm(\"a.txt\",va,'|')\n",
    "writedlm(\"b.txt\",vb,'|')"
   ]
  },
  {
   "cell_type": "code",
   "execution_count": 6,
   "metadata": {},
   "outputs": [],
   "source": [
    "#Se leen los datos provenientes de los archivos.\n",
    "a=readdlm(\"a.txt\",'|')\n",
    "b=readdlm(\"b.txt\",'|');"
   ]
  },
  {
   "cell_type": "code",
   "execution_count": 7,
   "metadata": {},
   "outputs": [
    {
     "data": {
      "text/plain": [
       "1×4 Array{Float64,2}:\n",
       " 1.0  2.0  3.0  0.0"
      ]
     },
     "execution_count": 7,
     "metadata": {},
     "output_type": "execute_result"
    }
   ],
   "source": [
    "a"
   ]
  },
  {
   "cell_type": "code",
   "execution_count": 8,
   "metadata": {},
   "outputs": [
    {
     "data": {
      "text/plain": [
       "4×1 Array{Float64,2}:\n",
       " 4.0\n",
       " 5.0\n",
       " 6.0\n",
       " 0.0"
      ]
     },
     "execution_count": 8,
     "metadata": {},
     "output_type": "execute_result"
    }
   ],
   "source": [
    "b"
   ]
  },
  {
   "cell_type": "code",
   "execution_count": 9,
   "metadata": {},
   "outputs": [
    {
     "data": {
      "text/plain": [
       "prodesc (generic function with 1 method)"
      ]
     },
     "execution_count": 9,
     "metadata": {},
     "output_type": "execute_result"
    }
   ],
   "source": [
    "#Se crea una función que toma los dos vectores para el producto escalar, sean ambos vectores renglon, o columna, o el primero es un vector renglón y el segundo un vector columna (en ese orden).\n",
    "#Se comienza al corroborar que los vectores sean del mismo tamaño, sí esto sucede, se crea un vector (R) de ceros del mismo tamaño que cualquiera de los dos vectores iniciales, aquí se eligió el vector a, luego con un ciclo for, cada entrada del vector R estará ocupada por el producto de las entradas correspondientes al mismo índice del vector R, finalmente, fuera del ciclo se suman todos los componentes del vector R mediante la función sum().\n",
    "#Adicionalmente, se considera el caso cuando el primer vector es renglón y el segundo vector es columna, esto se hace al corroborar que el número de renglones del primer sea igual al número de columnas del segundo vector y que el número de columnas del primer vector sea igual al número de renglones del segundo vector.\n",
    "#Cuando ninguno de los casos anteriores se presenta se notifica que el tamño de los vectores no es compatible.\n",
    "function prodesc(a::Array,b::Array)\n",
    "    if size(a)==size(b)\n",
    "        R=zeros(a)\n",
    "        for i in eachindex(R)\n",
    "            R[i]=a[i]*b[i]\n",
    "        end\n",
    "        sum(R)\n",
    "    elseif size(a)[1]==size(b)[2] && size(a)[2]==size(b)[1]\n",
    "        R=zeros(a)\n",
    "        for i in eachindex(R)\n",
    "            R[i]=a[i]*b[i]\n",
    "        end\n",
    "        sum(R)\n",
    "    else\n",
    "        print(\"El tamaño de los vectores no es compatible\")\n",
    "    end\n",
    "end"
   ]
  },
  {
   "cell_type": "code",
   "execution_count": 10,
   "metadata": {},
   "outputs": [
    {
     "data": {
      "text/plain": [
       "32.0"
      ]
     },
     "execution_count": 10,
     "metadata": {},
     "output_type": "execute_result"
    }
   ],
   "source": [
    "#Se prueba el algoritmo.\n",
    "prodesc(a,b)"
   ]
  },
  {
   "cell_type": "code",
   "execution_count": null,
   "metadata": {},
   "outputs": [],
   "source": []
  }
 ],
 "metadata": {
  "kernelspec": {
   "display_name": "Julia 0.6.0",
   "language": "julia",
   "name": "julia-0.6"
  },
  "language_info": {
   "file_extension": ".jl",
   "mimetype": "application/julia",
   "name": "julia",
   "version": "0.6.0"
  }
 },
 "nbformat": 4,
 "nbformat_minor": 2
}
