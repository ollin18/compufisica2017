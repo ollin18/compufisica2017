{
 "cells": [
  {
   "cell_type": "code",
   "execution_count": 7,
   "metadata": {},
   "outputs": [
    {
     "data": {
      "text/plain": [
       "ProdIntR3 (generic function with 1 method)"
      ]
     },
     "execution_count": 7,
     "metadata": {},
     "output_type": "execute_result"
    }
   ],
   "source": [
    "function ProdIntR3(vec1,vec2)\n",
    "    if length(vec1)==length(vec2)==3 #Aquí le pedimos que ambos vectores sean de tamaño 3\n",
    "        p = 0.0 #Establecemos una variable que guardará el numero resultante\n",
    "        for i ∈ 1:length(vec1) #Le decimos que las siguientes operanciones sean aplicadas elemento por elemento de \"vec1\"\n",
    "            p=p+(vec1[i]*vec2[i]) #Declaramos que p sera la suma de p y la multiplicacion de cada elemento de vec1 y vec2\n",
    "        end\n",
    "        print(p) #Le pedimos que nos imprima p al finalizar el ciclo\n",
    "    else\n",
    "        println(\"Vectores de distinta dimensión\") #Le decimos que nos regrese esta respuesta si los vectores no tienen la misma dirección\n",
    "    end\n",
    "end"
   ]
  },
  {
   "cell_type": "code",
   "execution_count": 20,
   "metadata": {},
   "outputs": [
    {
     "data": {
      "text/plain": [
       "3-element Array{Int64,1}:\n",
       " 4\n",
       " 5\n",
       " 6"
      ]
     },
     "execution_count": 20,
     "metadata": {},
     "output_type": "execute_result"
    }
   ],
   "source": [
    "u=[2,3,5]\n",
    "v=[4,5,6]"
   ]
  },
  {
   "cell_type": "code",
   "execution_count": 13,
   "metadata": {},
   "outputs": [
    {
     "name": "stdout",
     "output_type": "stream",
     "text": [
      "53.0"
     ]
    }
   ],
   "source": [
    "ProdInt(u,v)"
   ]
  },
  {
   "cell_type": "code",
   "execution_count": 22,
   "metadata": {},
   "outputs": [
    {
     "name": "stderr",
     "output_type": "stream",
     "text": [
      "WARNING: Method definition ProdInt(Any, Any) in module Main at In[21]:2 overwritten at In[22]:2.\n"
     ]
    },
    {
     "data": {
      "text/plain": [
       "ProdInt (generic function with 1 method)"
      ]
     },
     "execution_count": 22,
     "metadata": {},
     "output_type": "execute_result"
    }
   ],
   "source": [
    "function ProdInt(vec1,vec2)\n",
    "    if length(vec1)==length(vec2) #Pedimos que las dimensiones de ambos vectores sea la misma\n",
    "        p = 0.0 #Establecemos una variable que ira guardando el numero resultante\n",
    "        for i ∈ 1:length(vec1) #Le pedimos que la operación siguiente se realice elemento por elemento de \"vec1\"\n",
    "            p=p+(vec1[i]*vec2[i]) #Declaramos que p sera la suma de p y la multiplicacion de cada elemento de vec1 y vec2\n",
    "        end\n",
    "        print(p)#Pedimos que nos regrese p en la pantalla\n",
    "    else\n",
    "        println(\"Vectores de distinta dimensión\") #Pedimos que si los vectores son de diferentes dimensiones regresa esta respuesta\n",
    "    end\n",
    "end"
   ]
  },
  {
   "cell_type": "code",
   "execution_count": 17,
   "metadata": {},
   "outputs": [
    {
     "data": {
      "text/plain": [
       "5-element Array{Int64,1}:\n",
       " 7\n",
       " 6\n",
       " 5\n",
       " 7\n",
       " 8"
      ]
     },
     "execution_count": 17,
     "metadata": {},
     "output_type": "execute_result"
    }
   ],
   "source": [
    "a=[2,6,7]\n",
    "b=[3,8,9,6,9]\n",
    "c=[7,6,5,7,8]"
   ]
  },
  {
   "cell_type": "code",
   "execution_count": 18,
   "metadata": {},
   "outputs": [
    {
     "name": "stdout",
     "output_type": "stream",
     "text": [
      "Vectores de distinta dimensión\n"
     ]
    }
   ],
   "source": [
    "ProdInt(a,b)"
   ]
  },
  {
   "cell_type": "code",
   "execution_count": 19,
   "metadata": {},
   "outputs": [
    {
     "name": "stdout",
     "output_type": "stream",
     "text": [
      "228.0"
     ]
    }
   ],
   "source": [
    "ProdInt(b,c)"
   ]
  },
  {
   "cell_type": "code",
   "execution_count": null,
   "metadata": {},
   "outputs": [],
   "source": []
  }
 ],
 "metadata": {
  "kernelspec": {
   "display_name": "Julia 0.5.2",
   "language": "julia",
   "name": "julia-0.5"
  },
  "language_info": {
   "file_extension": ".jl",
   "mimetype": "application/julia",
   "name": "julia",
   "version": "0.5.2"
  }
 },
 "nbformat": 4,
 "nbformat_minor": 2
}
