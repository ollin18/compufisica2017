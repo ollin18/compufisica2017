{
 "cells": [
  {
   "cell_type": "markdown",
   "metadata": {},
   "source": [
    "\n",
    "<font size=\"8\" color=\"purple\" align=center >*Tarea numero 1* \n"
   ]
  },
  {
   "cell_type": "markdown",
   "metadata": {},
   "source": [
    "## Investigación sobre :\n",
    "###              1-: Que es un sistema de punto flotante\n",
    "###                            2-: Las diferencias entre sistemas operativos de 32 y 64 bits \n",
    "###                          3-: Que es ALU (unidad lógico matemática) y que es un algoritmo \n",
    "###                        4-: Que es la estabilidad de un algoritmo"
   ]
  },
  {
   "cell_type": "markdown",
   "metadata": {},
   "source": [
    "<font size=\"6\" color=\"orange\"> Alumno velasco Santiago Albert Javier \n",
    "\n",
    "\n",
    "\n",
    "\n"
   ]
  },
  {
   "cell_type": "markdown",
   "metadata": {},
   "source": [
    "# 1-: ¿Qué es un sistema de puntto flotante?\n",
    "### Cómo funcionan los números de punto flotante\n",
    "### La idea es descomponer el número en dos partes:\n",
    "### Una mantisa (también llamada coeficiente o significando) que contiene los dígitos del número. Mantisas negativas representan números negativos.\n",
    "### Un exponente que indica dónde se coloca el punto decimal (o binario) en relación al inicio de la mantisa. Exponentes negativos representan números menores que uno.\n",
    "### Este formato cumple todos los requisitos:\n",
    "### Puede representar números de órdenes de magnitud enormemente dispares (limitado por la longitud del exponente).\n",
    "### Proporciona la misma precisión relativa para todos los órdenes (limitado por la longitud de la mantisa).\n",
    "### Permite cálculos entre magnitudes: multiplicar un número muy grande y uno muy pequeño conserva la precisión de ambos en el resultado.\n",
    "### Los números de coma flotante decimales normalmente se expresan en notación científica con un punto explícito siempre entre el primer y el segundo dígitos. El exponente o bien se escribe explícitamente incluyendo la base, o se usa una e para separarlo de la mantisa."
   ]
  },
  {
   "cell_type": "markdown",
   "metadata": {},
   "source": [
    "![Tabla](https://1.bp.blogspot.com/-s9vXsPGg8nY/UeASNAAsphI/AAAAAAAAFqM/Sym8WRue1Gk/s1600/Dev+-+MSDN+-+Tabla+2.+Tipos+Integrales.png)\n",
    "### en la tabla se muestran algunos sistemas en los cuales se usan los sistemas de puntos flotantes "
   ]
  },
  {
   "cell_type": "markdown",
   "metadata": {},
   "source": [
    "# 2-: Diferencias entre sistemas operativos de 32 y 64 bits."
   ]
  },
  {
   "cell_type": "markdown",
   "metadata": {},
   "source": [
    "### Básicamente, la principal diferencia entre un procesador de 32 bits y uno de 64 bits es que el primero puede procesar secuencia de bits de hasta 32 bits, mientras que los procesadores de 64 bits pueden extender al doble esta capacidad. Como sabemos, el procesador de una PC es el encargado de realizar todos los cálculos lógicos y matemáticos con el fin de obtener los resultados solicitados por el usuario, y para ello deben manejar paquetes de información a una determinada velocidad. En este punto la principal diferencia entre ambas plataformas es que en el caso de los procesadores de 64 bits, estos pueden trabajar con el doble de información en el mismo ciclo de reloj que uno de 32 bits, lo que les permite pueden acceder a mayor capacidad de memoria y procesar bloques de datos mucho más grandes, aumentado el rendimiento y la velocidad de proceso general."
   ]
  },
  {
   "cell_type": "markdown",
   "metadata": {},
   "source": [
    "### tra diferencia, y por la cual muchos sistemas profesionales prefieren una arquitectura de 64 bits, es que este tipo de procesadores pueden direccionar teóricamente hasta 16 exabytes de memoria, mientras que los procesadores de 32 bits sólo pueden direccionar 4 Gb, lo cual en sistemas de poco rendimiento como PC de escritos es más que suficiente.\n",
    "### En cuanto a los sistemas operativos, concretamente Windows, la más importante diferencia entre las versiones 32 y 64 bits es que el primero admite hasta 4 Gb. de RAM, de los cuales aprovechará tan sólo 3.25 Gb. En el caso de los sistemas operativos de 64 bits estos admiten hasta 192 Gb. de RAM."
   ]
  },
  {
   "cell_type": "markdown",
   "metadata": {},
   "source": [
    "### Como hemos podido ver, un sistema de 64 bits puede llegar a ser la solución ideal para todos aquellos usuarios que manipulan grandes cantidades de datos debido a la forma en que esta arquitectura procesa la información, ahora si somos usuarios que sólo usamos la computadora para realizar tareas básicas y no tanto, pero nunca exigimos la computadora con cosas demasiado complejas, un sistema de 32 bits es la respuesta adecuada a nuestras necesidades, lo que además nos libera de una serie de problemas como la mencionada incompatibilidad de los controladores de hardware y la necesidad de obtener software específico para esa plataforma para poder sacarle provecho. En definitiva, si no aprovecharemos las bondades de los 64 bits, el gasto que significa contar con esta plataforma no se justificará de modo alguno."
   ]
  },
  {
   "cell_type": "markdown",
   "metadata": {},
   "source": [
    "![Imagen de procesador](https://www.informatica-hoy.com.ar/aprender-informatica/imagenes/Diferencia-PC-32-64-bits_clip_image006.jpg)"
   ]
  },
  {
   "cell_type": "markdown",
   "metadata": {
    "collapsed": true
   },
   "source": [
    "#  3-: ¿Qué es ALU?\n",
    "### Unidad Aritmético / Lógica\n",
    "### Esta unidad realiza cálculos (suma, resta, multiplicación y división) y operaciones lógicas (comparaciones). Transfiere los datos entre las posiciones de almacenamiento. \n",
    "### Tiene un registro muy importante conocido como: Acumulador ACC Al realizar operaciones aritméticas y lógicas, la UAL mueve datos entre ella y el almacenamiento. Los datos usados en el procesamiento se transfieren de su posición en el almacenamiento a la UAL. \n",
    "### Los datos se manipulan de acuerdo con las instrucciones del programa y regresan al almacenamiento. Debido a que el procesamiento no puede efectuarse en el área de almacenamiento, los datos deben transferirse a la UAL. Para terminar una operación puede suceder que los datos pasen de la UAL al área de almacenamient o varias veces."
   ]
  },
  {
   "cell_type": "markdown",
   "metadata": {},
   "source": [
    "### Una ALU puede encontrarse en todo tipo de circuitos y dispositivos electrónicos. Por ejemplo, en un reloj de pulsera digital que permite la adición de un segundo en forma constante. Pero también y en cantidad en un complejo circuito de microprocesador moderno. Otros ejemplos se encuentran en tarjetas gráficas, de sonido o video, equipos de TV de alta definición, y lectoras de CD. "
   ]
  },
  {
   "cell_type": "markdown",
   "metadata": {},
   "source": [
    "### Típicamente, una unidad aritmético lógica está compuesta por un circuito operacional, un registro de entradas, un registro acumulador y un registro de estados. Estas entidades permiten el correcto funcionamiento de la ALU y, por ejemplo, son responsables de la resolución de operaciones aritméticas de números enteros, operaciones lógicas de bits, operaciones de desplazamiento de bits y otras más complejas. Entre estas últimas pueden contarse, por caso, calcular la raíz cuadrada, emular a un coprocesador y múltiples otras. \n"
   ]
  },
  {
   "cell_type": "markdown",
   "metadata": {},
   "source": [
    "![ALU](https://sanmartinfernando.files.wordpress.com/2014/05/alu.png?w=438&h=297)\n"
   ]
  },
  {
   "cell_type": "markdown",
   "metadata": {},
   "source": [
    "# 3.1-: ¿Qué es un algoritmo?\n",
    "### Un algoritmo es una serie de operaciones detalladas y no ambiguas. En otras palabras un algoritmo es un conjunto de reglas para resolver una cierta clase de problemas .\n",
    "### Un algoritmo es el medio por el que se explica cómo puede resolverse un problena, mediante aproximaciones paso a paso. Se puede formular de muchas formas con el cuidado de que no exista ambigüedad\n",
    "### resaltar\\Al conjunto formado por la representación de datos utilizada y el algoritmo mismo se llama programa"
   ]
  },
  {
   "cell_type": "markdown",
   "metadata": {},
   "source": [
    "\n",
    "\n",
    "## CARACTERISTICAS DE LOS ALGORITMOS\n",
    "### Las principales características de los algoritmos son:\n",
    "### 1-: El algoritmo debe ser sencillo e indicar el orden de realización de cada paso.\n",
    "### 2-: Un algoritmo debe estar definido.\n",
    "### 3-: El algoritmo de ser finito.La palabra algoritmo se deriva de la traducción al latín de la palabra árabe alkhowarizmi, nombre de un matemático y astrónomo árabe que escribió un tratado sobre manipulación de números y ecuaciones en el siglo IX.\n",
    "### 4-: Un algoritmo es una serie de pasos organizados que describe el proceso que se debe seguir, para dar solución a un problema específico.\n",
    "### TIPOS DE ALGORITMOS \n",
    "### Existen dos tipos y son llamados así por su naturaleza:\n",
    "### •             Cualitativos: Son aquellos en los que se describen los pasos utilizando palabras.\n",
    "### •             Cuantitativos: Son aquellos en los que se utilizan cálculos numéricos para definir los pasos del proceso."
   ]
  },
  {
   "cell_type": "markdown",
   "metadata": {},
   "source": [
    "# 4-: ¿Qué es la estabilidad de un algoritmo?\n",
    "### Descripción:\n",
    "### El Filtro Kalman es una técnica eficiente de teorías de estimaciones que combina la información de diferentes fuentes inciertas para obtener los valores de variables de interés juntos con el incierto de esto. Esto es usado en un amplio rango de aplicaciones de ingeniería como GPS, radar o robótica. El Filtro Kalman Extendido (EKF) es una versión no linear del filtro Kalman y es considerada como el estándar “de facto” en la teoría de estimación de estado no-linear. Este forma una técnica poderosa y versátil basada en modelos  con características de rendimiento superior comparado con otras técnicas de estimación no lineal existente. Como las matemáticas son no lineales y complejas, existe un método no analítico para evaluar la estabilidad y convergencia de un diseño EKF. Actualmente se necesitan pruebas extensas para asegurar una aplicación EKF. Esto cuesta mucho dinero y tiempo. TNO busca la mejor metodología posible que sea capaz de mejorar la estabilidad y convergencia de un diseño EKF. La meta es reducir el tiempo de desarrollo de un algoritmo EKF. "
   ]
  },
  {
   "cell_type": "markdown",
   "metadata": {},
   "source": [
    "### En el subcampo matemático del análisis numérico, la estabilidad numérica es una propiedad de los algoritmos numéricos. Describe cómo los errores en los datos de entrada se propagan a través del algoritmo. En un método estable, los errores debidos a las aproximaciones se atenúan a medida que la computación procede. En un método inestable, cualquier error en el procesamiento se magnifica conforme el cálculo procede. Métodos inestables generan rápidamente anomalías y son inútiles para el procesamiento numérico.\n",
    "### La estabilidad numérica de un método junto con el número condición (en:condition number) define cuán buen resultado podemos obtener usando métodos aproximados para calcular cierto problema matemático.\n",
    "### Algunas veces un sólo cálculo puede ser logrado de varias maneras, que pueden ser algebraicamente idénticas en términos de números reales o complejos, pero que en la práctica producen resultados diferentes según varían los niveles de estabilidad numérica. Una de las tareas comunes del análisis numérico es tratar de seleccionar algoritmos robustos: esto es, que tienen una buena estabilidad numérica en un amplio intervalo (range) de situaciones. Estos métodos están frecuentemente disponibles para usuarios de lenguajes de programación como bibliotecas de computación matemática (ver mathematical computing libraries). El uso apropiado de bibliotecas de computación matemática es usualmente muy superior a algoritmos numéricos \"caseros\"."
   ]
  },
  {
   "cell_type": "markdown",
   "metadata": {},
   "source": [
    "# Bibliografias \n",
    "### <http://ingenieriacusa.blogspot.mx/2011/09/3enp-metodos-numericos-punto-flotante.html>\n",
    "### <http://puntoflotante.org/formats/fp/> \n",
    "### <https://1.bp.blogspot.com/-s9vXsPGg8nY/UeASNAAsphI/AAAAAAAAFqM/Sym8WRue1Gk/s1600/Dev+-+MSDN+-+Tabla+2.+Tipos+Integrales.png>\n",
    "### <https://www.informatica-hoy.com.ar/aprender-informatica/Diferencia-PC-32-64-bits.php>\n",
    "### <http://www.internetglosario.com/805/UnidadAritmeticoLogica.html>\n",
    "### <https://sanmartinfernando.files.wordpress.com/2014/05/alu.png?w=438&h=297>\n",
    "### <https://plataformasistemas.wordpress.com/algoritmos/que-es-un-algoritmo/>\n",
    "### <http://www.innoversia.net/rfp/investigacion-654-0.html>\n"
   ]
  },
  {
   "cell_type": "code",
   "execution_count": null,
   "metadata": {
    "collapsed": true
   },
   "outputs": [],
   "source": []
  }
 ],
 "metadata": {
  "kernelspec": {
   "display_name": "Julia 0.5.2",
   "language": "julia",
   "name": "julia-0.5"
  },
  "language_info": {
   "file_extension": ".jl",
   "mimetype": "application/julia",
   "name": "julia",
   "version": "0.5.2"
  }
 },
 "nbformat": 4,
 "nbformat_minor": 2
}
