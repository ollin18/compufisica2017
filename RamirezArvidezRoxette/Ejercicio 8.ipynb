{
 "cells": [
  {
   "cell_type": "markdown",
   "metadata": {},
   "source": [
    "a) Calcular el producto interior (producto punto) de dos vectores en $ R^{3} $ el usuario debe insertar las entradas de los vectores. "
   ]
  },
  {
   "cell_type": "code",
   "execution_count": 1,
   "metadata": {},
   "outputs": [
    {
     "data": {
      "text/plain": [
       "PC3 (generic function with 1 method)"
      ]
     },
     "execution_count": 1,
     "metadata": {},
     "output_type": "execute_result"
    }
   ],
   "source": [
    "function PC3(A,B)\n",
    "    if length(A)==length(B)==3 #Se abre el condicional. Es menester que las dimensiones del vector A ean iguales a las del vector B, que como se solicita es de 3 dimensiones\n",
    "        C = 0 #Ess un contador donde se almacena el valor resultante, que sabemos tendría que ser una magnitud escalar\n",
    "        for i in 1:length(A) #Ahora para cada elemento del vector A se realiza la operción a continuación dada\n",
    "            C=C+(A[i]*B[i]) #Se asigna un nuevo valor que es el valor anterior de C con adición de el product del vector A por el B, hasta que se termine el ciclo en el intervalo ado en A\n",
    "            end #Termina el ciclo for\n",
    "        print(C) #Imprime C, que es el resultado final del ciclo for \n",
    "        else #Además en caso de no cumplirse la condición dada, imprime el iguiente mensaje\n",
    "        println(\"Vectores de distinta dimensión\") \n",
    "        end #Termina el condicional\n",
    "    end #Termina la función"
   ]
  },
  {
   "cell_type": "code",
   "execution_count": 6,
   "metadata": {},
   "outputs": [
    {
     "data": {
      "text/plain": [
       "3-element Array{Int64,1}:\n",
       " 9\n",
       " 3\n",
       " 2"
      ]
     },
     "execution_count": 6,
     "metadata": {},
     "output_type": "execute_result"
    }
   ],
   "source": [
    "A=[9,3,2]"
   ]
  },
  {
   "cell_type": "code",
   "execution_count": 7,
   "metadata": {},
   "outputs": [
    {
     "data": {
      "text/plain": [
       "3-element Array{Int64,1}:\n",
       " 8\n",
       " 7\n",
       " 3"
      ]
     },
     "execution_count": 7,
     "metadata": {},
     "output_type": "execute_result"
    }
   ],
   "source": [
    "B=[8,7,3]"
   ]
  },
  {
   "cell_type": "code",
   "execution_count": 8,
   "metadata": {},
   "outputs": [
    {
     "name": "stdout",
     "output_type": "stream",
     "text": [
      "99"
     ]
    }
   ],
   "source": [
    "PC3(A,B)"
   ]
  },
  {
   "cell_type": "code",
   "execution_count": 9,
   "metadata": {},
   "outputs": [
    {
     "data": {
      "text/plain": [
       "4-element Array{Int64,1}:\n",
       " 8\n",
       " 7\n",
       " 2\n",
       " 3"
      ]
     },
     "execution_count": 9,
     "metadata": {},
     "output_type": "execute_result"
    }
   ],
   "source": [
    "B=[8,7,2,3]"
   ]
  },
  {
   "cell_type": "code",
   "execution_count": 10,
   "metadata": {},
   "outputs": [
    {
     "name": "stdout",
     "output_type": "stream",
     "text": [
      "Vectores de distinta dimensión\n"
     ]
    }
   ],
   "source": [
    "PC3(A,B) #Se le asigna un nuevo vector a B que es de dimensiones distintas que A y se comprueba la utilidad de la función PC3"
   ]
  },
  {
   "cell_type": "markdown",
   "metadata": {},
   "source": [
    "b) Escribe  un programa que realice el producto interior (producto punto) de dos vectores en $ R^{n} $ las entradas de los vectores deben leerse de un archivo. (Recuerda nuevamente que esto solo tiene sentido si los vectores son de la misma dimensión)."
   ]
  },
  {
   "cell_type": "code",
   "execution_count": 1,
   "metadata": {},
   "outputs": [
    {
     "data": {
      "text/plain": [
       "PCn (generic function with 1 method)"
      ]
     },
     "execution_count": 1,
     "metadata": {},
     "output_type": "execute_result"
    }
   ],
   "source": [
    "function PCn(A,B)\n",
    "    if length(A)==length(B) #Abrimos el condicional para comprobar que A y B son de dimensiones iguales \n",
    "        R=0.0 #En este contador se irá acumulando el vlor, que es una magnitud escalar, del producto punto para dos vectores de dimensiones cualquiera\n",
    "        for i in 1:length(A) #A cad elemento le corresponde un valor respecto a la siguiente operación\n",
    "            R=R+(A[i]*B[i]) #Se le asigna un nuevo valor a C, que es igual a la adición del valor anterior de C con el producto de los vectores A y B\n",
    "            end #Termina el ciclo for\n",
    "        print(R) #Imprime el resultado C, que es el valor final al concluir el ciclo anterior, esto, habiendose operado toos lo elementos.\n",
    "        else #En caso de no cumplirse la condición dada de length(A)==length(B) se imprime el siguiente mensaje\n",
    "        println(\"Vectores de distinta dimensión\") #Solo si los vectores son de distintas dimensiones\n",
    "        end #Termina el condicional\n",
    "    end #Termina la función "
   ]
  },
  {
   "cell_type": "code",
   "execution_count": 2,
   "metadata": {},
   "outputs": [
    {
     "data": {
      "text/plain": [
       "5-element Array{Int64,1}:\n",
       "  4\n",
       " 56\n",
       "  3\n",
       "  1\n",
       "  4"
      ]
     },
     "execution_count": 2,
     "metadata": {},
     "output_type": "execute_result"
    }
   ],
   "source": [
    "A=[5,18,5,6,3]\n",
    "B=[4,56,3,1,4]"
   ]
  },
  {
   "cell_type": "code",
   "execution_count": 3,
   "metadata": {},
   "outputs": [
    {
     "name": "stdout",
     "output_type": "stream",
     "text": [
      "1061.0"
     ]
    }
   ],
   "source": [
    "PCn(A,B)"
   ]
  },
  {
   "cell_type": "code",
   "execution_count": null,
   "metadata": {},
   "outputs": [],
   "source": []
  }
 ],
 "metadata": {
  "kernelspec": {
   "display_name": "Julia 0.6.0",
   "language": "julia",
   "name": "julia-0.6"
  },
  "language_info": {
   "file_extension": ".jl",
   "mimetype": "application/julia",
   "name": "julia",
   "version": "0.6.0"
  }
 },
 "nbformat": 4,
 "nbformat_minor": 2
}
