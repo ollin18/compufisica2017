{
 "cells": [
  {
   "cell_type": "markdown",
   "metadata": {},
   "source": [
    "# Calcular el producto cruz de dos vectores cualesqueira en R^3 "
   ]
  },
  {
   "cell_type": "code",
   "execution_count": 1,
   "metadata": {},
   "outputs": [
    {
     "data": {
      "text/plain": [
       "Cruz (generic function with 1 method)"
      ]
     },
     "execution_count": 1,
     "metadata": {},
     "output_type": "execute_result"
    }
   ],
   "source": [
    "function Cruz(u,v) #Se hace la función para el producto cruz\n",
    "    if length(u)==length(v) #Se comparan las dimensiones de \"u\" y \"v\" para que sean iguales \n",
    "        w=zeros(u) #Se hace un arreglo de ceros con las dimensiones de \"u\" para el vector resultante \"w\"\n",
    "        w1=(u[3]*v[2])-(u[2]*v[3]) #Se hacen las operaciones para hacer el producto cruz con los respectivos \"u\" y \"v\"\n",
    "        w2=(u[3]*v[1])-(u[1]*v[3])\n",
    "        w3=(u[2]*v[1])-(u[1]*v[2])\n",
    "           W=hcat(w1,w2,w3) #W lee y toma los valore resultantes de w1, w2, w3.\n",
    "    else \n",
    "        println(\"No tienen dimensiones iguales\") #Imprime en pantalla \"No tiene dimensiones iguales\" si no se puede realizar\n",
    "    end \n",
    "end"
   ]
  },
  {
   "cell_type": "code",
   "execution_count": 2,
   "metadata": {},
   "outputs": [
    {
     "data": {
      "text/plain": [
       "(1, 3, 5)"
      ]
     },
     "execution_count": 2,
     "metadata": {},
     "output_type": "execute_result"
    }
   ],
   "source": [
    "A = (2,4,6)\n",
    "B = (1,3,5)\n",
    "#Se introducen diferentes valores para probar"
   ]
  },
  {
   "cell_type": "code",
   "execution_count": 3,
   "metadata": {},
   "outputs": [
    {
     "data": {
      "text/plain": [
       "1×3 Array{Int64,2}:\n",
       " -2  -4  -2"
      ]
     },
     "execution_count": 3,
     "metadata": {},
     "output_type": "execute_result"
    }
   ],
   "source": [
    "Cruz(A,B)"
   ]
  },
  {
   "cell_type": "code",
   "execution_count": 4,
   "metadata": {},
   "outputs": [
    {
     "data": {
      "text/plain": [
       "(4, 5, 6, 7)"
      ]
     },
     "execution_count": 4,
     "metadata": {},
     "output_type": "execute_result"
    }
   ],
   "source": [
    "A = (1,2,3)\n",
    "B = (4,5,6,7)\n",
    "#Se introducen diferentes valores para probar"
   ]
  },
  {
   "cell_type": "code",
   "execution_count": 5,
   "metadata": {},
   "outputs": [
    {
     "name": "stdout",
     "output_type": "stream",
     "text": [
      "No tienen dimensiones iguales\n"
     ]
    }
   ],
   "source": [
    "Cruz(A,B)"
   ]
  },
  {
   "cell_type": "code",
   "execution_count": null,
   "metadata": {},
   "outputs": [],
   "source": []
  }
 ],
 "metadata": {
  "kernelspec": {
   "display_name": "Julia 0.6.0",
   "language": "julia",
   "name": "julia-0.6"
  },
  "language_info": {
   "file_extension": ".jl",
   "mimetype": "application/julia",
   "name": "julia",
   "version": "0.6.0"
  }
 },
 "nbformat": 4,
 "nbformat_minor": 2
}
