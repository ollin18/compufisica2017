{
 "cells": [
  {
   "cell_type": "markdown",
   "metadata": {},
   "source": [
    "<div class=\"alert alert-success\" role=\"alert\">\n",
    "<h1>Programación en Julia: Notebook 6 </h1>\n",
    "<h2>Facultad de Ciencias, UNAM </h2>\n",
    "<h3>Joshua Briones Andrade || Compufísica </h3>\n",
    "</div>"
   ]
  },
  {
   "cell_type": "markdown",
   "metadata": {},
   "source": [
    "Escribe un programa que calcule el producto cruz de dos vectores en ℝ^3, se debe insertar las entradas de los vectores. "
   ]
  },
  {
   "cell_type": "markdown",
   "metadata": {},
   "source": [
    "Sabemos que por la definición del producto cruz tenemos lo siguiente:  $$ \\vec A x\\vec B = (a_x,a_y,a_z)x(b_x,b_y,b_z)=... $$"
   ]
  },
  {
   "cell_type": "markdown",
   "metadata": {},
   "source": [
    "$$...=\n",
    "\\begin{bmatrix}\n",
    "\\hat{x} & \\hat{y} & \\hat{z}\\\\ \n",
    "b_x & b_y & b_z\\\\\n",
    "a_x & a_y & a_z\\\\\n",
    "\\end{bmatrix}\n",
    "=...$$ \n"
   ]
  },
  {
   "cell_type": "markdown",
   "metadata": {},
   "source": [
    "$$ \\hat{x}(a_z b_y-a_y b_z)+\\hat{y}(a_x b_z-a_z b_x)+\\hat{z}(a_y b_x-a_x b_y) $$ "
   ]
  },
  {
   "cell_type": "code",
   "execution_count": 1,
   "metadata": {},
   "outputs": [
    {
     "data": {
      "text/plain": [
       "Cruz (generic function with 1 method)"
      ]
     },
     "execution_count": 1,
     "metadata": {},
     "output_type": "execute_result"
    }
   ],
   "source": [
    "function Cruz(A,B)\n",
    "    if length(A)==length(B)\n",
    "        C=zeros(A)\n",
    "        c1=(A[3]*B[2])-(A[2]*B[3])\n",
    "        c2=(A[1]*B[3])-(A[3]*B[1])\n",
    "        c3=(A[2]*B[1])-(A[1]*B[2])\n",
    "           C=hcat(c1,c2,c3)\n",
    "    else\n",
    "        println(\"No son de las mismas dimensiones compa, arre\")\n",
    "    end\n",
    "end"
   ]
  },
  {
   "cell_type": "code",
   "execution_count": 2,
   "metadata": {},
   "outputs": [
    {
     "name": "stdout",
     "output_type": "stream",
     "text": [
      "No son de las mismas dimensiones compa, arre\n"
     ]
    }
   ],
   "source": [
    "A=(1,2,3);B=(2,3,2,1);\n",
    "Cruz(A,B)"
   ]
  },
  {
   "cell_type": "code",
   "execution_count": 3,
   "metadata": {},
   "outputs": [
    {
     "data": {
      "text/plain": [
       "1×3 Array{Int64,2}:\n",
       " 5  -4  1"
      ]
     },
     "execution_count": 3,
     "metadata": {},
     "output_type": "execute_result"
    }
   ],
   "source": [
    "A=(1,2,3);B=(2,3,2);\n",
    "Cruz(A,B)"
   ]
  },
  {
   "cell_type": "code",
   "execution_count": 4,
   "metadata": {},
   "outputs": [
    {
     "data": {
      "text/plain": [
       "1×3 Array{Int64,2}:\n",
       " 5  0  -5"
      ]
     },
     "execution_count": 4,
     "metadata": {},
     "output_type": "execute_result"
    }
   ],
   "source": [
    "A=(3,2,3);B=(2,3,2);\n",
    "Cruz(A,B)"
   ]
  },
  {
   "cell_type": "code",
   "execution_count": null,
   "metadata": {},
   "outputs": [],
   "source": []
  }
 ],
 "metadata": {
  "kernelspec": {
   "display_name": "Julia 0.6.0",
   "language": "julia",
   "name": "julia-0.6"
  },
  "language_info": {
   "file_extension": ".jl",
   "mimetype": "application/julia",
   "name": "julia",
   "version": "0.6.0"
  }
 },
 "nbformat": 4,
 "nbformat_minor": 2
}
