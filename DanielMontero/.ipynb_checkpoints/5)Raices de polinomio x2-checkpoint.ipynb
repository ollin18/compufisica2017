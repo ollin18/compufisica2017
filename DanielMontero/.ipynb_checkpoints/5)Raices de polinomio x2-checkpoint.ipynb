{
 "cells": [
  {
   "cell_type": "markdown",
   "metadata": {},
   "source": [
    "# 5)Racíces de polinomio cuadrático"
   ]
  },
  {
   "cell_type": "markdown",
   "metadata": {},
   "source": [
    "Para resolver las raíces de un polinomio de segundo grado se puede utilizar la fórmula de escuaciones de segundo grado para la función: \n",
    "$$ \n",
    "x=\\frac{-b±\\sqrt(b^2-4ac)}{2a}\n",
    "$$\n",
    "\n",
    "Tomando en cuenta los números reales e imaginarios, se utilizan números complejos para que esté definida la raíz de la función. Y para cuando los valores de las raíces sean los mismos sólo es necesario que aparezca uno de éstos. "
   ]
  },
  {
   "cell_type": "code",
   "execution_count": 46,
   "metadata": {},
   "outputs": [
    {
     "data": {
      "text/plain": [
       "raicesx2 (generic function with 1 method)"
      ]
     },
     "execution_count": 46,
     "metadata": {},
     "output_type": "execute_result"
    }
   ],
   "source": [
    "function raicesx2(a,b,c)                        #Se define la funnción que se creará para tres variables\n",
    "    x1=(-b+sqrt(complex(b^2-4a*c)))/2a          #Se define la primer raíz matemáticamente\n",
    "        x2=(-b-sqrt(complex(b^2-4a*c)))/2a      #Se define la segunda raíz matemáticamente\n",
    "    if  x1==x2                                  #Se condiciona el paso siguiente dependiendo de los resultados de x1 y x2\n",
    "        println(\"Valor de la raíz doble:\")      #En caso de ser iguales, da un mensaje \n",
    "        println(x1)                             #Y aparece solo un resultado en pantalla\n",
    "        else                                    #Cuando no son iguales \n",
    "        println(\"valores de las raíces:\")       #Da un mensaje\n",
    "            println(x1)                         #Aparece la raíz 1 en pantalla\n",
    "            println(x2)                         #Aparece la raíz 2 en pantalla\n",
    "        end                                     #Fin del if\n",
    "    end                                         #Finaliza la función"
   ]
  },
  {
   "cell_type": "code",
   "execution_count": 49,
   "metadata": {},
   "outputs": [
    {
     "name": "stdout",
     "output_type": "stream",
     "text": [
      "Valor de la raíz doble:\n",
      "0.0 + 0.0im\n"
     ]
    }
   ],
   "source": [
    "raicesx2(1,0,0)                                  #Prueba de la función"
   ]
  }
 ],
 "metadata": {
  "kernelspec": {
   "display_name": "Julia 0.6.0",
   "language": "julia",
   "name": "julia-0.6"
  },
  "language_info": {
   "file_extension": ".jl",
   "mimetype": "application/julia",
   "name": "julia",
   "version": "0.6.0"
  }
 },
 "nbformat": 4,
 "nbformat_minor": 2
}
