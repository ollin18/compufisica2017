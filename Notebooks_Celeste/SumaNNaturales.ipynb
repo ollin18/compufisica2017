{
 "cells": [
  {
   "cell_type": "markdown",
   "metadata": {},
   "source": [
    " <div class=\"alert alert-success\" role=\"alert\">\n",
    " <h1>Suma de N números naturales </h1>\n",
    " <h2>Computación</h2>\n",
    " <h2>Física, Facultad de Ciencias. UNAM </h2>\n",
    " <h3>Celeste Castro Granados</h3>\n",
    " </div>"
   ]
  },
  {
   "cell_type": "markdown",
   "metadata": {},
   "source": [
    "Vamos a crear una función que nos ayude a calcular la suma desde 0 hasta un número N natural, el cual va a ser introducido por el usuario.\n",
    "\n",
    "$\\displaystyle{\\sum_{i=1}^{N} i}$"
   ]
  },
  {
   "cell_type": "markdown",
   "metadata": {},
   "source": [
    "Como sabemos, el cálculo de una suma de *n* naturales se puede hacer mediante la siguiente expresión:\n",
    "\n",
    "$\\displaystyle{\\sum_{i=1}^{N} i} = \\dfrac{N(N+1)}{2}$\n"
   ]
  },
  {
   "cell_type": "markdown",
   "metadata": {},
   "source": [
    "Sin embargo, nosotros lo haremos por medio de una función que utilizará un ciclo $\\textit{for}$"
   ]
  },
  {
   "cell_type": "markdown",
   "metadata": {},
   "source": [
    "Empecemos a plantear nuestra función:"
   ]
  },
  {
   "cell_type": "code",
   "execution_count": 1,
   "metadata": {},
   "outputs": [
    {
     "data": {
      "text/plain": [
       "SumaN (generic function with 1 method)"
      ]
     },
     "execution_count": 1,
     "metadata": {},
     "output_type": "execute_result"
    }
   ],
   "source": [
    "function SumaN(N)\n",
    "    suma=0\n",
    "for i ∈ 1:N #para cada i desde 1 hasta N\n",
    "        suma+=i #suma=suma+i\n",
    "    end\n",
    "    println(suma)\n",
    "end"
   ]
  },
  {
   "cell_type": "markdown",
   "metadata": {},
   "source": [
    "El mecanismo de la función es el siguiente:\n",
    "\n",
    "Primeramente tenemos que el valor de nuestra \"suma\" es 0, ya que aún no hemos sumado nada.\n",
    "Posteriormente tenemos a **i** que funciona como nuestro contador, y decimos que para cada **i** que vaya desde 1 hasta el número N que asignemos, nuestra \"suma\" será su valor anterior más el valor que tenga **i**.\n",
    "Finalmente le pedimos a la función que nos imprima la \"suma\"."
   ]
  },
  {
   "cell_type": "markdown",
   "metadata": {},
   "source": [
    "**Y ahora, por último, podemos proceder a probar nuestra función para diferentes números:**"
   ]
  },
  {
   "cell_type": "code",
   "execution_count": 2,
   "metadata": {},
   "outputs": [
    {
     "name": "stdout",
     "output_type": "stream",
     "text": [
      "595\n"
     ]
    }
   ],
   "source": [
    "SumaN(34)"
   ]
  },
  {
   "cell_type": "code",
   "execution_count": 3,
   "metadata": {},
   "outputs": [
    {
     "name": "stdout",
     "output_type": "stream",
     "text": [
      "36856\n"
     ]
    }
   ],
   "source": [
    "SumaN(271)"
   ]
  },
  {
   "cell_type": "code",
   "execution_count": 4,
   "metadata": {},
   "outputs": [
    {
     "name": "stdout",
     "output_type": "stream",
     "text": [
      "1596\n"
     ]
    }
   ],
   "source": [
    "SumaN(56)"
   ]
  }
 ],
 "metadata": {
  "kernelspec": {
   "display_name": "Julia 0.6.0",
   "language": "julia",
   "name": "julia-0.6"
  },
  "language_info": {
   "file_extension": ".jl",
   "mimetype": "application/julia",
   "name": "julia",
   "version": "0.6.0"
  }
 },
 "nbformat": 4,
 "nbformat_minor": 2
}
