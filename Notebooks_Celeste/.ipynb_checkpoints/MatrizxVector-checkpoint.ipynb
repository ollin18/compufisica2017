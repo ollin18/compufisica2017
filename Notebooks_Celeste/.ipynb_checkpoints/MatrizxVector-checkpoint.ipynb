{
 "cells": [
  {
   "cell_type": "markdown",
   "metadata": {},
   "source": [
    "<div class=\"alert alert-success\" role=\"alert\">\n",
    " <h1>Producto de una matriz por un vector</h1>\n",
    " <h2>Computación</h2>\n",
    " <h2>Física, Facultad de Ciencias. UNAM </h2>\n",
    " <h3>Celeste Castro Granados</h3>\n",
    " </div>"
   ]
  },
  {
   "cell_type": "markdown",
   "metadata": {},
   "source": [
    "Vamos a crear una función que sea capaz de multiplicar una matriz, que sea introducida por el usuario, por un vector igualmente introducido por el usuario."
   ]
  },
  {
   "cell_type": "markdown",
   "metadata": {},
   "source": [
    "Lo primero que tenemos que checar es que efectivamente se pueda llevar a cabo la multiplicación, es decir, concuerden en tamaño los renglones de la matriz con el vector."
   ]
  },
  {
   "cell_type": "markdown",
   "metadata": {},
   "source": [
    "Definimos entonces nuestra función, pero para hacerlo, tenemos que definir una función previa que realice el producto interior entre 2 vectores:"
   ]
  },
  {
   "cell_type": "code",
   "execution_count": 1,
   "metadata": {},
   "outputs": [
    {
     "data": {
      "text/plain": [
       "ProductoInt (generic function with 1 method)"
      ]
     },
     "execution_count": 1,
     "metadata": {},
     "output_type": "execute_result"
    }
   ],
   "source": [
    "function ProductoInt(u,v)\n",
    "    if length(u) == length(v) #Con esta línea nos aseguramos de que se efectúe sólo si los vectores son de la misma dimensión\n",
    "        p=0\n",
    "        for i in eachindex(u) #Aquí nos referimos a que el contador pase por cada índice del vector u\n",
    "            p = p +u[i]*v[i] #El producto va a ser igual a su valor anterior más el producto de la entrada i tanto en v como en u\n",
    "        end\n",
    "        p\n",
    "    else\n",
    "        println(\"u y v deben de ser del mismo tamaño\") #Esto va a imprimir en caso de que los vectores no sean de la misma dimensión\n",
    "    end\n",
    "end"
   ]
  },
  {
   "cell_type": "markdown",
   "metadata": {},
   "source": [
    "Ya que tenemos la del producto interior, ahora sí, ya podemos establecer la función para multiplicar una matriz por un vector:"
   ]
  },
  {
   "cell_type": "code",
   "execution_count": 2,
   "metadata": {},
   "outputs": [
    {
     "data": {
      "text/plain": [
       "matXvec (generic function with 1 method)"
      ]
     },
     "execution_count": 2,
     "metadata": {},
     "output_type": "execute_result"
    }
   ],
   "source": [
    "function matXvec(A,v)\n",
    "    if size(A)[2] == length(v) #En esta línea lo que se asegura es que el tamaño de los renglones de A sea igual al del vector v para que se pueda efectuar la multiplicación\n",
    "        vectorResultante = zeros(size(A)[1]) #Tenemos que el vector que nos va a dar como resultado va a ser del mismo tamaño que las columnas de A \n",
    "        for renglon in 1:size(A)[1] #Aquí ya especificamos que va a ir desde 1 hasta cumplir el tamaño de la columna de A \n",
    "            vectorResultante[renglon] = ProductoInt(A[renglon,:],v) #Aquí se efectúa la operación usando la función del producto punto \n",
    "        end\n",
    "        vectorResultante #Nos va a dar nuestro vector resultante\n",
    "    end\n",
    "end   "
   ]
  },
  {
   "cell_type": "markdown",
   "metadata": {},
   "source": [
    "Y finalmente, vamos a probar nuestra función definiendo aleatoriamente una matriz y un vector:"
   ]
  },
  {
   "cell_type": "code",
   "execution_count": 3,
   "metadata": {},
   "outputs": [
    {
     "data": {
      "text/plain": [
       "3×3 Array{Float64,2}:\n",
       " 0.399724  0.77772    0.156082\n",
       " 0.385538  0.0850214  0.993187\n",
       " 0.119852  0.982208   0.247149"
      ]
     },
     "execution_count": 3,
     "metadata": {},
     "output_type": "execute_result"
    }
   ],
   "source": [
    "A = rand(3,3)"
   ]
  },
  {
   "cell_type": "code",
   "execution_count": 4,
   "metadata": {},
   "outputs": [
    {
     "data": {
      "text/plain": [
       "3-element Array{Float64,1}:\n",
       " 0.527466\n",
       " 0.294557\n",
       " 0.673536"
      ]
     },
     "execution_count": 4,
     "metadata": {},
     "output_type": "execute_result"
    }
   ],
   "source": [
    "v = rand(3)"
   ]
  },
  {
   "cell_type": "code",
   "execution_count": 5,
   "metadata": {},
   "outputs": [
    {
     "data": {
      "text/plain": [
       "3-element Array{Float64,1}:\n",
       " 0.54505 \n",
       " 0.897349\n",
       " 0.518998"
      ]
     },
     "execution_count": 5,
     "metadata": {},
     "output_type": "execute_result"
    }
   ],
   "source": [
    "matXvec(A,v)"
   ]
  }
 ],
 "metadata": {
  "kernelspec": {
   "display_name": "Julia 0.6.0",
   "language": "julia",
   "name": "julia-0.6"
  },
  "language_info": {
   "file_extension": ".jl",
   "mimetype": "application/julia",
   "name": "julia",
   "version": "0.6.0"
  }
 },
 "nbformat": 4,
 "nbformat_minor": 2
}
