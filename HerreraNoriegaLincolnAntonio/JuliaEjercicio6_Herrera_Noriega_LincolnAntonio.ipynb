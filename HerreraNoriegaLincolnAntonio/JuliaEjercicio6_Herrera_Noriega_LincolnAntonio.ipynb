{
 "cells": [
  {
   "cell_type": "markdown",
   "metadata": {},
   "source": [
    "Calcular el productor cruz o externo de dos vectores en ${\\rm I\\!R}^{3}$ donde el usuario indica las entradas de los vectores"
   ]
  },
  {
   "cell_type": "markdown",
   "metadata": {},
   "source": [
    "Primero dejamos que el \"usuario\" inserte los vectores"
   ]
  },
  {
   "cell_type": "code",
   "execution_count": 7,
   "metadata": {},
   "outputs": [],
   "source": [
    "A=[1,1,1] \n",
    "B=[2,2,2];"
   ]
  },
  {
   "cell_type": "markdown",
   "metadata": {},
   "source": [
    "Ahora definimos el producto entre los vectores "
   ]
  },
  {
   "cell_type": "code",
   "execution_count": 10,
   "metadata": {},
   "outputs": [
    {
     "data": {
      "text/plain": [
       "externo (generic function with 1 method)"
      ]
     },
     "execution_count": 10,
     "metadata": {},
     "output_type": "execute_result"
    }
   ],
   "source": [
    "function externo(A,B)\n",
    "    pex=A[2]*B[3]-A[3]*B[2]         # Realizamos la operaciones para la primera componente del producto externo\n",
    "    pey=-A[1]*B[3]+A[3]*B[1]        # Segunda componente\n",
    "    pez=A[1]* B[2]-A[2]*B[1]        # Tercera componente\n",
    "    \n",
    "    pe=[pex,pey,pez]                # Definimos el producto a traves de sus tres componentes    \n",
    "    print(\"El producto externo de los vectores A y B es $pe\")\n",
    "end"
   ]
  },
  {
   "cell_type": "code",
   "execution_count": 11,
   "metadata": {},
   "outputs": [
    {
     "name": "stdout",
     "output_type": "stream",
     "text": [
      "El producto externo de los vectores A y B es [0, 0, 0]"
     ]
    }
   ],
   "source": [
    "externo(A,B)"
   ]
  }
 ],
 "metadata": {
  "kernelspec": {
   "display_name": "Julia 0.6.0",
   "language": "julia",
   "name": "julia-0.6"
  },
  "language_info": {
   "file_extension": ".jl",
   "mimetype": "application/julia",
   "name": "julia",
   "version": "0.6.0"
  }
 },
 "nbformat": 4,
 "nbformat_minor": 2
}
