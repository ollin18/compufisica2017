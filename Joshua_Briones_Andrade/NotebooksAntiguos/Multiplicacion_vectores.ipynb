{
 "cells": [
  {
   "cell_type": "markdown",
   "metadata": {},
   "source": [
    "# Multiplicación de Vectores (Producto Interno)\n",
    "## Computación\n",
    "### Facultad de Ciencias, UNAM\n",
    "### Briones Andrade Joshua\n"
   ]
  },
  {
   "cell_type": "markdown",
   "metadata": {},
   "source": [
    "Primero para la multiplicación de vectores debemos tener dos vectores de las mismas dimensiones que suponiendo seria de 1xn con n en los naturales, vamos a definir primero los componentes de nuestro vector."
   ]
  },
  {
   "cell_type": "code",
   "execution_count": 3,
   "metadata": {},
   "outputs": [
    {
     "data": {
      "text/plain": [
       "4"
      ]
     },
     "execution_count": 3,
     "metadata": {},
     "output_type": "execute_result"
    }
   ],
   "source": [
    "a=10;\n",
    "b=12;\n",
    "c=0;\n",
    "d=5\n",
    "e=4"
   ]
  },
  {
   "cell_type": "code",
   "execution_count": 4,
   "metadata": {},
   "outputs": [
    {
     "data": {
      "text/plain": [
       "1×5 Array{Int64,2}:\n",
       " 10  12  4  5  4"
      ]
     },
     "execution_count": 4,
     "metadata": {},
     "output_type": "execute_result"
    }
   ],
   "source": [
    "#Se define el primer vector como un arreglo de numeros al que llamaremos VectorA\n",
    "\n",
    "VectorA = hcat(a,b,c+4,d,e)"
   ]
  },
  {
   "cell_type": "code",
   "execution_count": 5,
   "metadata": {},
   "outputs": [
    {
     "data": {
      "text/plain": [
       "1×5 Array{Int64,2}:\n",
       " -5  14  10  12  5"
      ]
     },
     "execution_count": 5,
     "metadata": {},
     "output_type": "execute_result"
    }
   ],
   "source": [
    "##Se define el segundo vector como un arreglo de numeros al que llamaremos VectorB\n",
    "\n",
    "VectorB= hcat(e-9,b+2,a,2*c+12,d)"
   ]
  },
  {
   "cell_type": "markdown",
   "metadata": {},
   "source": [
    "La formula para el producto interno de dos vectores es:\n",
    "\n",
    "## $$\\vec{a}\\cdot\\vec{b}= \\sum_{i=1}^{n}{\\alpha_i\\beta_i}$$\n",
    "\n",
    "con n como la longitud de los vectores y alfa y beta como componentes de los vectores"
   ]
  },
  {
   "cell_type": "code",
   "execution_count": 6,
   "metadata": {},
   "outputs": [
    {
     "name": "stdout",
     "output_type": "stream",
     "text": [
      "El resultado es:\n",
      "238\n"
     ]
    }
   ],
   "source": [
    "#Finalmente para nuestro código vamos a checar primero la longitud del vector A y comprobaremos que es la misma con el vector B, una vez checado esto continuamos con k como nuestro contador para multiplicar cada uno de los componentes correspondientes y tener nuestro VectorR\n",
    "\n",
    "s=0\n",
    "for i ∈ length(VectorA)\n",
    "    if i != length(VectorB) \n",
    "        println(\"El vector A y el vector B no tienen las mismas dimensiones\")\n",
    "        else \n",
    "        for k ∈ 1:length(VectorA)\n",
    "        s=s+VectorA[k]*VectorB[k]\n",
    "        end\n",
    "        println(\"El resultado es:\")\n",
    "        println(s)\n",
    "    end\n",
    "end"
   ]
  },
  {
   "cell_type": "code",
   "execution_count": null,
   "metadata": {},
   "outputs": [],
   "source": []
  }
 ],
 "metadata": {
  "kernelspec": {
   "display_name": "Julia 0.5.2",
   "language": "julia",
   "name": "julia-0.5"
  },
  "language_info": {
   "file_extension": ".jl",
   "mimetype": "application/julia",
   "name": "julia",
   "version": "0.5.2"
  }
 },
 "nbformat": 4,
 "nbformat_minor": 2
}
