{
 "cells": [
  {
   "cell_type": "code",
   "execution_count": 1,
   "metadata": {},
   "outputs": [
    {
     "data": {
      "text/plain": [
       "Combinat (generic function with 1 method)"
      ]
     },
     "execution_count": 1,
     "metadata": {},
     "output_type": "execute_result"
    }
   ],
   "source": [
    "#2\n",
    "#La verdad no entendí bien la instrucción de definir una función factorial para hacerlo, pero espero que cuente el uso\n",
    "#de la función map para definir una función y aplicarla para distintos valores.\n",
    "function Combinat(n,r)\n",
    "    #Como no existen factoriales negativos condicionamos que r<n.\n",
    "    if r<n\n",
    "        #Hacemos uso de map para definir la función factorial y la aplicamos para n, n-r, r; y al mismo tiempo lo ponemos en una\n",
    "        #variable c.\n",
    "       c=map(function(x)\n",
    "                k=1.0\n",
    "                i=1.0\n",
    "                while x>=i\n",
    "                    k=k*i\n",
    "                    i+=1.0\n",
    "                    end\n",
    "                k\n",
    "                end,[n,n-r,r]);\n",
    "        #En la variable c[1,1] está el resultado del valor n, en c[2,1] el valor n-r y en c[3,1] el valor de r\n",
    "        j=c[1,1]/(c[2,1]*c[3,1])\n",
    "    else\n",
    "        print(\"r debe de ser menor que n\")\n",
    "    end\n",
    "end"
   ]
  },
  {
   "cell_type": "code",
   "execution_count": 2,
   "metadata": {},
   "outputs": [
    {
     "name": "stdout",
     "output_type": "stream",
     "text": [
      "r debe de ser menor que n"
     ]
    }
   ],
   "source": [
    "Combinat(3,4)"
   ]
  },
  {
   "cell_type": "code",
   "execution_count": 3,
   "metadata": {},
   "outputs": [
    {
     "data": {
      "text/plain": [
       "4.0"
      ]
     },
     "execution_count": 3,
     "metadata": {},
     "output_type": "execute_result"
    }
   ],
   "source": [
    "Combinat(4,3)"
   ]
  }
 ],
 "metadata": {
  "kernelspec": {
   "display_name": "Julia 0.6.0",
   "language": "julia",
   "name": "julia-0.6"
  },
  "language_info": {
   "file_extension": ".jl",
   "mimetype": "application/julia",
   "name": "julia",
   "version": "0.6.0"
  }
 },
 "nbformat": 4,
 "nbformat_minor": 2
}
