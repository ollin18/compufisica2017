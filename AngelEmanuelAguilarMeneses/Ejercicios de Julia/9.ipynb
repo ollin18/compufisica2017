{
 "cells": [
  {
   "cell_type": "code",
   "execution_count": 1,
   "metadata": {},
   "outputs": [
    {
     "data": {
      "text/plain": [
       "sum_mat2 (generic function with 1 method)"
      ]
     },
     "execution_count": 1,
     "metadata": {},
     "output_type": "execute_result"
    }
   ],
   "source": [
    "function sum_mat2(A,B) \n",
    "    if size(A)==size(B)==(2,2)#Comparamos el tamaño de las matrices\n",
    "        P=zeros(size(A))#Hacemos un contador para almacenar el resultado \n",
    "        for i in 1:size(A)[1] #Para cada elemento de los renglones de A\n",
    "            for j in 1:size(A)[2] #Para cada elemento de las columnas de A\n",
    "                c=A[i,j]+B[i,j] #Aquí se realiza la suma de matrices\n",
    "                P[i,j]=c #Le asignamos los resultados en el contador  \n",
    "            end\n",
    "        end\n",
    "        print(P) #Imprime los resultados\n",
    "    end\n",
    "end"
   ]
  },
  {
   "cell_type": "code",
   "execution_count": 2,
   "metadata": {},
   "outputs": [
    {
     "data": {
      "text/plain": [
       "2×2 Array{Int64,2}:\n",
       " 1  7\n",
       " 6  5"
      ]
     },
     "execution_count": 2,
     "metadata": {},
     "output_type": "execute_result"
    }
   ],
   "source": [
    "A=[1 7;6 5;]#Generamos la matriz A"
   ]
  },
  {
   "cell_type": "code",
   "execution_count": 3,
   "metadata": {},
   "outputs": [
    {
     "data": {
      "text/plain": [
       "2×2 Array{Int64,2}:\n",
       "  1  -5\n",
       " -1   2"
      ]
     },
     "execution_count": 3,
     "metadata": {},
     "output_type": "execute_result"
    }
   ],
   "source": [
    "B=[1 -5;-1 2;]#Generamos la matriz B"
   ]
  },
  {
   "cell_type": "code",
   "execution_count": 4,
   "metadata": {},
   "outputs": [
    {
     "ename": "LoadError",
     "evalue": "\u001b[91mUndefVarError: suma_mat2 not defined\u001b[39m",
     "output_type": "error",
     "traceback": [
      "\u001b[91mUndefVarError: suma_mat2 not defined\u001b[39m",
      "",
      "Stacktrace:",
      " [1] \u001b[1minclude_string\u001b[22m\u001b[22m\u001b[1m(\u001b[22m\u001b[22m::String, ::String\u001b[1m)\u001b[22m\u001b[22m at \u001b[1m./loading.jl:515\u001b[22m\u001b[22m"
     ]
    }
   ],
   "source": [
    "suma_mat2(A,B)"
   ]
  },
  {
   "cell_type": "code",
   "execution_count": 5,
   "metadata": {},
   "outputs": [
    {
     "data": {
      "text/plain": [
       "sum_matn (generic function with 1 method)"
      ]
     },
     "execution_count": 5,
     "metadata": {},
     "output_type": "execute_result"
    }
   ],
   "source": [
    "function sum_matn(A,B) \n",
    "    if size(A)==size(B)#Comparamos el tamaño de las matrices \n",
    "        p=zeros(size(A))#Definimos un contador que sea una matriz del tamaño de A\n",
    "        for i in 1:size(A)[1] #Para cada elemento de los renglones de A\n",
    "            for j in 1:size(A)[2]#Para cada elemento de las columnas de A\n",
    "                c=A[i,j]+B[i,j] #A c le asignamos el resultado\n",
    "                p[i,j]=c #Entra el resultado en el contador \n",
    "            end\n",
    "        end\n",
    "        print(p) #Imprimimos el resultado \n",
    "    end\n",
    "end"
   ]
  },
  {
   "cell_type": "code",
   "execution_count": 6,
   "metadata": {},
   "outputs": [
    {
     "data": {
      "text/plain": [
       "3×4 Array{Int64,2}:\n",
       "  8   4  10  1\n",
       "  4  15  -1  1\n",
       " -7   1   0  5"
      ]
     },
     "execution_count": 6,
     "metadata": {},
     "output_type": "execute_result"
    }
   ],
   "source": [
    "C=[8 4 10 1;4 15 -1 1;-7 1 0 5]"
   ]
  },
  {
   "cell_type": "code",
   "execution_count": 7,
   "metadata": {},
   "outputs": [
    {
     "data": {
      "text/plain": [
       "3×4 Array{Int64,2}:\n",
       " 1  7   -4  0\n",
       " 8  4  -10  6\n",
       " 7  3    9  3"
      ]
     },
     "execution_count": 7,
     "metadata": {},
     "output_type": "execute_result"
    }
   ],
   "source": [
    "D=[1 7 -4  0;8  4 -10 6;7 3 9 3]"
   ]
  },
  {
   "cell_type": "code",
   "execution_count": 8,
   "metadata": {},
   "outputs": [
    {
     "name": "stdout",
     "output_type": "stream",
     "text": [
      "[9.0 11.0 6.0 1.0; 12.0 19.0 -11.0 7.0; 0.0 4.0 9.0 8.0]"
     ]
    }
   ],
   "source": [
    "sum_matn(C,D)"
   ]
  },
  {
   "cell_type": "code",
   "execution_count": null,
   "metadata": {},
   "outputs": [],
   "source": []
  }
 ],
 "metadata": {
  "kernelspec": {
   "display_name": "Julia 0.6.0",
   "language": "julia",
   "name": "julia-0.6"
  },
  "language_info": {
   "file_extension": ".jl",
   "mimetype": "application/julia",
   "name": "julia",
   "version": "0.6.0"
  }
 },
 "nbformat": 4,
 "nbformat_minor": 2
}
