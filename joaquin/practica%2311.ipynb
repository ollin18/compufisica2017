{
 "cells": [
  {
   "cell_type": "markdown",
   "metadata": {},
   "source": [
    "<div class=\"alert alert-danger\" role=\"alert\">\n",
    "<h1>Ejercicios de programación en julia</h1>\n",
    "<h2>COMPUTACIÓN</h2>\n",
    "<h2>FÍSICA,FACULTAD DE CIENCIAS, UNAM </h2>\n",
    "<h3>JOAQUIN MIRANDA SANTIAGO</h3>\n",
    "</div>"
   ]
  },
  {
   "cell_type": "markdown",
   "metadata": {},
   "source": [
    "# Ejercicio 11\n",
    "## a) Escribe un programa para calcular una recta de valores Y en terminos de valores X en cierto rango de X.\n"
   ]
  },
  {
   "cell_type": "markdown",
   "metadata": {},
   "source": [
    "la ecuación de la recta tiene las siguiente forma\n",
    "$$\n",
    "  Y=mx + b\n",
    "$$"
   ]
  },
  {
   "cell_type": "code",
   "execution_count": 80,
   "metadata": {},
   "outputs": [
    {
     "name": "stderr",
     "output_type": "stream",
     "text": [
      "\u001b[1m\u001b[36mINFO: \u001b[39m\u001b[22m\u001b[36mPackage Plots is already installed\n",
      "\u001b[39m\u001b[1m\u001b[36mINFO: \u001b[39m\u001b[22m\u001b[36mMETADATA is out-of-date — you may not have the latest version of Plots\n",
      "\u001b[39m\u001b[1m\u001b[36mINFO: \u001b[39m\u001b[22m\u001b[36mUse `Pkg.update()` to get the latest versions of your packages\n",
      "\u001b[39m\u001b[1m\u001b[36mINFO: \u001b[39m\u001b[22m\u001b[36mPackage PyPlot is already installed\n",
      "\u001b[39m\u001b[1m\u001b[36mINFO: \u001b[39m\u001b[22m\u001b[36mMETADATA is out-of-date — you may not have the latest version of PyPlot\n",
      "\u001b[39m\u001b[1m\u001b[36mINFO: \u001b[39m\u001b[22m\u001b[36mUse `Pkg.update()` to get the latest versions of your packages\n",
      "\u001b[39m"
     ]
    }
   ],
   "source": [
    "\n",
    "Pkg.add(\"Plots\")\n",
    "Pkg.add(\"PyPlot\")"
   ]
  },
  {
   "cell_type": "code",
   "execution_count": 81,
   "metadata": {},
   "outputs": [],
   "source": [
    "using Plots"
   ]
  },
  {
   "cell_type": "code",
   "execution_count": 56,
   "metadata": {},
   "outputs": [
    {
     "data": {
      "text/plain": [
       "Plots.PyPlotBackend()"
      ]
     },
     "execution_count": 56,
     "metadata": {},
     "output_type": "execute_result"
    }
   ],
   "source": [
    "pyplot()"
   ]
  },
  {
   "cell_type": "code",
   "execution_count": 64,
   "metadata": {},
   "outputs": [
    {
     "data": {
      "text/plain": [
       "recta (generic function with 1 method)"
      ]
     },
     "execution_count": 64,
     "metadata": {},
     "output_type": "execute_result"
    }
   ],
   "source": [
    "function recta(m,b,x) #m es la pendiente , b la ordenada al origen y x es el intervalo del dominio de la recta \n",
    "    Y =zeros(x)\n",
    "    for i in eachindex(x)\n",
    "        Y[i] = m*x[i] + b\n",
    "     end \n",
    "\n",
    "    S=hcat(x,Y)\n",
    "    writedlm(\"recta.csv\",S,'|') \n",
    "end\n"
   ]
  },
  {
   "cell_type": "code",
   "execution_count": 65,
   "metadata": {},
   "outputs": [],
   "source": [
    "#ejemplo. sea \n",
    "m=3\n",
    "b=2\n",
    "x = collect(-10:0.5:10);"
   ]
  },
  {
   "cell_type": "code",
   "execution_count": 68,
   "metadata": {},
   "outputs": [],
   "source": [
    "recta(m,b,x)"
   ]
  },
  {
   "cell_type": "code",
   "execution_count": 67,
   "metadata": {},
   "outputs": [
    {
     "data": {
      "text/plain": [
       "41×1 Array{Any,2}:\n",
       " \"-10|-28\"   \n",
       " \"-9.5|-26.5\"\n",
       " \"-9|-25\"    \n",
       " \"-8.5|-23.5\"\n",
       " \"-8|-22\"    \n",
       " \"-7.5|-20.5\"\n",
       " \"-7|-19\"    \n",
       " \"-6.5|-17.5\"\n",
       " \"-6|-16\"    \n",
       " \"-5.5|-14.5\"\n",
       " \"-5|-13\"    \n",
       " \"-4.5|-11.5\"\n",
       " \"-4|-10\"    \n",
       " ⋮           \n",
       " \"4.5|15.5\"  \n",
       " \"5|17\"      \n",
       " \"5.5|18.5\"  \n",
       " \"6|20\"      \n",
       " \"6.5|21.5\"  \n",
       " \"7|23\"      \n",
       " \"7.5|24.5\"  \n",
       " \"8|26\"      \n",
       " \"8.5|27.5\"  \n",
       " \"9|29\"      \n",
       " \"9.5|30.5\"  \n",
       " \"10|32\"     "
      ]
     },
     "execution_count": 67,
     "metadata": {},
     "output_type": "execute_result"
    }
   ],
   "source": [
    "readdlm(\"recta.csv\")"
   ]
  },
  {
   "cell_type": "code",
   "execution_count": 69,
   "metadata": {},
   "outputs": [
    {
     "ename": "LoadError",
     "evalue": "\u001b[91mUndefVarError: Y not defined\u001b[39m",
     "output_type": "error",
     "traceback": [
      "\u001b[91mUndefVarError: Y not defined\u001b[39m",
      "",
      "Stacktrace:",
      " [1] \u001b[1minclude_string\u001b[22m\u001b[22m\u001b[1m(\u001b[22m\u001b[22m::String, ::String\u001b[1m)\u001b[22m\u001b[22m at \u001b[1m./loading.jl:515\u001b[22m\u001b[22m"
     ]
    }
   ],
   "source": [
    "plot(x,Y,w=3,color=:blue) \n",
    "title!(\"Grafica de la recta\")\n",
    "xaxis!(\"Posición en X\")\n",
    "yaxis!(\"Posición en Y\")"
   ]
  },
  {
   "cell_type": "markdown",
   "metadata": {},
   "source": [
    "## b) Escribe un programa para calcular una parabola de valores Y en términos de valores de X en cierto rango de X."
   ]
  },
  {
   "cell_type": "markdown",
   "metadata": {},
   "source": [
    "### una parabola tiene la forma \n",
    " $ Y=ax^2 +bx +c $"
   ]
  },
  {
   "cell_type": "code",
   "execution_count": 77,
   "metadata": {},
   "outputs": [
    {
     "data": {
      "text/plain": [
       "parabola (generic function with 1 method)"
      ]
     },
     "execution_count": 77,
     "metadata": {},
     "output_type": "execute_result"
    }
   ],
   "source": [
    "function parabola(a,b,c,x)\n",
    "    y=zeros(x)\n",
    "    for i in eachindex(x)\n",
    "        y[i]=a*x[i]^2+b*x[i] + c\n",
    "         h=hcat(x,y)\n",
    "    writedlm(\"parabola.csv\",h,'|') \n",
    "    end\n",
    "end\n",
    "   "
   ]
  },
  {
   "cell_type": "code",
   "execution_count": 78,
   "metadata": {},
   "outputs": [],
   "source": [
    "#ejemplo\n",
    "a=2\n",
    "b=4\n",
    "c=3\n",
    "x=collect(-9:0.5:9);"
   ]
  },
  {
   "cell_type": "code",
   "execution_count": 79,
   "metadata": {},
   "outputs": [],
   "source": [
    "parabola(a,b,c,x)"
   ]
  },
  {
   "cell_type": "code",
   "execution_count": null,
   "metadata": {},
   "outputs": [],
   "source": []
  }
 ],
 "metadata": {
  "kernelspec": {
   "display_name": "Julia 0.6.0",
   "language": "julia",
   "name": "julia-0.6"
  },
  "language_info": {
   "file_extension": ".jl",
   "mimetype": "application/julia",
   "name": "julia",
   "version": "0.6.0"
  }
 },
 "nbformat": 4,
 "nbformat_minor": 2
}
