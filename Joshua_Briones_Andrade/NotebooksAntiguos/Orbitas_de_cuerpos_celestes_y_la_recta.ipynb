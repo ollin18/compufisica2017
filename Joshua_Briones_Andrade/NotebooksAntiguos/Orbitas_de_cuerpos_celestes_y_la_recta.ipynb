{
 "cells": [
  {
   "cell_type": "markdown",
   "metadata": {},
   "source": [
    "<div class=\"alert alert-success\" role=\"alert\">\n",
    "<h1> Órbitas de Cuerpos Celestes y la Recta. </h1>\n",
    "<h2> Facultad de Ciencias, UNAM </h2>\n",
    "<h3> Briones Andrade Joshua || Computación </h3>\n",
    "</div>"
   ]
  },
  {
   "cell_type": "markdown",
   "metadata": {},
   "source": [
    "De la ley de la Gravitación Universal de Newton sabemos que:"
   ]
  },
  {
   "cell_type": "markdown",
   "metadata": {},
   "source": [
    "## $$ F=\\frac{Gm_{1}m_{2}}{r^2} $$"
   ]
  },
  {
   "cell_type": "markdown",
   "metadata": {},
   "source": [
    "Donde:\n",
    "\n",
    "$ F $: es la fuerza de atracción entre dos cuerpos\n",
    "\n",
    "$ G=6.674 \\times 10^{-11}\\frac{N\\cdot m^2}{kg^2} $: es la constante de gravitación universal \n",
    "\n",
    "$ m_1,m_2 $: son las masas de los dos cuerpos respectivamente\n",
    "\n",
    "$ r $: es la distancia entre los dos cuerpos"
   ]
  },
  {
   "cell_type": "markdown",
   "metadata": {},
   "source": [
    "Sin embargo, para poder desarrollarse esta ecuación con vectores, debe estar en terminos de vectores, por tanto usaremos el siguiente modelo."
   ]
  },
  {
   "cell_type": "markdown",
   "metadata": {},
   "source": [
    "### $$ \\vec{F}=\\frac{Gm_{1}m_{2}}{||\\vec{r}||^2}{\\hat{r}} $$"
   ]
  },
  {
   "cell_type": "markdown",
   "metadata": {},
   "source": [
    "Donde:\n",
    "\n",
    "$ \\hat{F} $ es el vector de la fuerza de atracción entre dos cuerpos\n",
    "\n",
    "$ G=6.674 \\times 10^{-11}\\frac{N\\cdot m^2}{kg^2} $ es la constante de gravitación universal \n",
    "\n",
    "$ m_1,m_2 $ son las masas de los dos cuerpos respectivamente\n",
    "\n",
    "$ \\vec{r} $: es la diferencia de la posición del cuerpo 1 con el cuerpo 2\n",
    "\n",
    "$ [\\vec{r}] $: es la distancia entre los dos cuerpos"
   ]
  },
  {
   "cell_type": "markdown",
   "metadata": {},
   "source": [
    "Sabemos que $\\vec{F}=m\\vec{a}$ y también por la definición de vector unitario $\\hat{r}=\\frac{\\vec{r}}{||\\vec{r}||}$; por lo tanto."
   ]
  },
  {
   "cell_type": "markdown",
   "metadata": {},
   "source": [
    "### $$ m\\vec{a}=\\frac{Gm_{1}m_{2}}{||\\vec{r}||^3}{\\vec{r}}$$"
   ]
  },
  {
   "cell_type": "markdown",
   "metadata": {},
   "source": [
    "Después cancelamos una masa de ambos lados y tenemos lo siguiente."
   ]
  },
  {
   "cell_type": "markdown",
   "metadata": {},
   "source": [
    "### $$ \\vec{a}=\\frac{Gm_{1}}{||\\vec{r}||^3}{\\vec{r}}$$"
   ]
  },
  {
   "cell_type": "markdown",
   "metadata": {},
   "source": [
    "Que si suponemos una $k=\\frac{Gm_{1}}{||\\vec{r}||^3}$ entonces..."
   ]
  },
  {
   "cell_type": "markdown",
   "metadata": {},
   "source": [
    "### $$ \\vec{a}=k\\vec{r} $$"
   ]
  },
  {
   "cell_type": "markdown",
   "metadata": {},
   "source": [
    "El vector r representa al desplazamiento que esta en función del tiempo, además como la aceleración es un vector si trabajamos en un plano tenemos lo siguiente."
   ]
  },
  {
   "cell_type": "markdown",
   "metadata": {},
   "source": [
    "$$ \\vec{a}=|(a_x,a_y)|=|(\\frac{d^{2}x(t)}{dt^2},\\frac{d^{2}y(t)}{dt^2})|=|(x(t),y(t))|=k\\vec{r} $$"
   ]
  },
  {
   "cell_type": "markdown",
   "metadata": {},
   "source": [
    "Según lo visto en clase de Computación, las formulas para el eje X y Y son las siguientes:\n",
    "\n",
    "$ X[t] = X   cos(kt) $\n",
    "\n",
    "$ Y[t] = Y   sen(kt) $"
   ]
  },
  {
   "cell_type": "markdown",
   "metadata": {},
   "source": [
    "Y k es una constante que simboliza en este caso la atraccion del campo gravitacional local sobre un cuerpo:\n",
    "\n",
    "$$\n",
    "\\frac{GM}{|r^2|} = 9.81 \\frac{m}{s^2}\n",
    "$$"
   ]
  },
  {
   "cell_type": "markdown",
   "metadata": {},
   "source": [
    "Donde G es la constante de gravitación universal, M es la masa del cuerpo más grande y r es la distancia entre los dos cuerpos."
   ]
  },
  {
   "cell_type": "markdown",
   "metadata": {},
   "source": [
    "Ahora designamos los valores y tiempo:"
   ]
  },
  {
   "cell_type": "code",
   "execution_count": 37,
   "metadata": {},
   "outputs": [
    {
     "data": {
      "text/plain": [
       "1"
      ]
     },
     "execution_count": 37,
     "metadata": {},
     "output_type": "execute_result"
    }
   ],
   "source": [
    "k = 9.81\n",
    "X_inicial = 1 #escogido de manera arbitraria\n",
    "Y_inicial = 1 #escogido de manera arbitraria"
   ]
  },
  {
   "cell_type": "code",
   "execution_count": 38,
   "metadata": {},
   "outputs": [],
   "source": [
    "#Definimos nuestro tiempo\n",
    "\n",
    "tiempo=collect(0:0.01:1);"
   ]
  },
  {
   "cell_type": "code",
   "execution_count": 39,
   "metadata": {},
   "outputs": [],
   "source": [
    "#Declaramos el tamaño de los vectores de posición X y Y\n",
    "\n",
    "Pos_X = zeros(tiempo);\n",
    "Pos_Y = zeros(tiempo);"
   ]
  },
  {
   "cell_type": "code",
   "execution_count": 40,
   "metadata": {},
   "outputs": [],
   "source": [
    "#Aplicamos la formula a cada elemento de los vectores de posición\n",
    "\n",
    "for i in 1:length(tiempo)\n",
    "    Pos_X[i] = X_inicial*cos.(k*tiempo[i])\n",
    "    Pos_Y[i] = Y_inicial*sin.(k*tiempo[i])\n",
    "end"
   ]
  },
  {
   "cell_type": "markdown",
   "metadata": {},
   "source": [
    "Ahora graficamos nuestros arreglos para visualizar los datos mejor"
   ]
  },
  {
   "cell_type": "code",
   "execution_count": 52,
   "metadata": {},
   "outputs": [],
   "source": [
    "using Plots"
   ]
  },
  {
   "cell_type": "code",
   "execution_count": 41,
   "metadata": {},
   "outputs": [
    {
     "data": {
      "text/html": [
       "<img src=\"data:image/png;base64,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\" />"
      ]
     },
     "execution_count": 41,
     "metadata": {},
     "output_type": "execute_result"
    }
   ],
   "source": [
    "plot(tiempo,Pos_X,w=1)\n",
    "title!(\"Kepler\")\n",
    "xaxis!(\"Tiempo(s)\")\n",
    "yaxis!(\"X\")"
   ]
  },
  {
   "cell_type": "code",
   "execution_count": 42,
   "metadata": {},
   "outputs": [
    {
     "data": {
      "text/html": [
       "<img src=\"data:image/png;base64,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\" />"
      ]
     },
     "execution_count": 42,
     "metadata": {},
     "output_type": "execute_result"
    }
   ],
   "source": [
    "plot(tiempo,Pos_Y,w=2)\n",
    "title!(\"K\")\n",
    "xaxis!(\"Tiempo(s)\")\n",
    "yaxis!(\"Y\")"
   ]
  },
  {
   "cell_type": "code",
   "execution_count": 43,
   "metadata": {},
   "outputs": [
    {
     "data": {
      "text/html": [
       "<img src=\"data:image/png;base64,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\" />"
      ]
     },
     "execution_count": 43,
     "metadata": {},
     "output_type": "execute_result"
    }
   ],
   "source": [
    "plot(Pos_X,Pos_Y,w=1)\n",
    "title!(\"X contra Y\")\n",
    "xaxis!(\"X\")\n",
    "yaxis!(\"Y\")"
   ]
  },
  {
   "cell_type": "markdown",
   "metadata": {},
   "source": [
    "Después convertimos los datos a un archivo csv"
   ]
  },
  {
   "cell_type": "code",
   "execution_count": 44,
   "metadata": {},
   "outputs": [
    {
     "data": {
      "text/plain": [
       "101×3 Array{Float64,2}:\n",
       " 0.0    1.0        0.0      \n",
       " 0.01   0.995192   0.0979427\n",
       " 0.02   0.980814   0.194944 \n",
       " 0.03   0.957005   0.29007  \n",
       " 0.04   0.923994   0.382407 \n",
       " 0.05   0.882097   0.471067 \n",
       " 0.06   0.831719   0.555197 \n",
       " 0.07   0.773342   0.633989 \n",
       " 0.08   0.70753    0.706684 \n",
       " 0.09   0.634913   0.772583 \n",
       " 0.1    0.556192   0.831054 \n",
       " 0.11   0.472122   0.881533 \n",
       " 0.12   0.383512   0.923536 \n",
       " ⋮                          \n",
       " 0.89  -0.768772   0.639523 \n",
       " 0.9   -0.827712   0.561153 \n",
       " 0.91  -0.878693   0.477386 \n",
       " 0.92  -0.921225   0.38903  \n",
       " 0.93  -0.954899   0.296932 \n",
       " 0.94  -0.97939    0.201979 \n",
       " 0.95  -0.994463   0.105084 \n",
       " 0.96  -0.999974   0.0071779\n",
       " 0.97  -0.995869  -0.0907968\n",
       " 0.98  -0.982188  -0.187898 \n",
       " 0.99  -0.959063  -0.283193 \n",
       " 1.0   -0.926715  -0.375765 "
      ]
     },
     "execution_count": 44,
     "metadata": {},
     "output_type": "execute_result"
    }
   ],
   "source": [
    "Tablas = hcat(tiempo,Pos_X,Pos_Y)"
   ]
  },
  {
   "cell_type": "code",
   "execution_count": 45,
   "metadata": {},
   "outputs": [],
   "source": [
    "writedlm(\"X_contra_Y.csv\", Tablas, '|')"
   ]
  },
  {
   "cell_type": "code",
   "execution_count": 46,
   "metadata": {},
   "outputs": [
    {
     "name": "stdout",
     "output_type": "stream",
     "text": [
      "0|1|0\n",
      "0.01|0.9951920526735505|0.09794272967099246\n",
      "0.02|0.9808144434091898|0.19494365237145128\n",
      "0.03|0.9570054257829645|0.29007001744745486\n",
      "0.04|0.9239939448001575|0.3824070997937192\n",
      "0.05|0.8820974353842356|0.4710669957538464\n",
      "0.06|0.8317187699560664|0.555197161108347\n",
      "0.07|0.773342384455161|0.6339886090500412\n",
      "0.08|0.707529620054713|0.7066836893159721\n",
      "0.09|0.6349133253640132|0.7725833736725187\n",
      "0.1|0.5561917710228913|0.831053977697249\n",
      "0.11|0.47212193520480383|0.8815332542215699\n",
      "0.12|0.3835122245944644|0.9235357998402688\n",
      "0.13|0.29121470083432544|0.956657722499523\n",
      "0.14|0.19611688718958806|0.9805805252803395\n",
      "0.15|0.09913323421798136|0.9950741690313757\n",
      "0.16|0.001196326509533154|0.9999992844011852\n",
      "0.17|-0.09675208494860119|0.9953085119992185\n",
      "0.18|-0.19377013855042122|0.9810469577987337\n",
      "0.19|-0.288924918913063|0.9573517594025093\n",
      "0.2|-0.3813014276928393|0.9244507673421026\n",
      "0.21|-0.47001138211292093|0.882660354091143\n",
      "0.22|-0.5542017565969419|0.8323823718609518\n",
      "0.23|-0.6330629853730749|0.7741002884320157\n",
      "0.24|-0.7058367471732102|0.708374538178739\n",
      "0.25|-0.7718232571703834|0.6358371329915392\n",
      "0.26|-0.8303879960359487|0.5571855849170914\n",
      "0.27|-0.8809678114106004|0.4731761989559669\n",
      "0.28|-0.9230763331181328|0.3846168005134226\n",
      "0.29|-0.9563086500498167|0.2923589674354067\n",
      "0.3|-0.9803452037469657|0.19728984132570107\n",
      "0.31|-0.994954861241409|0.10032359688572035\n",
      "0.32|-0.9999971376057651|0.0023926513068866432\n",
      "0.33|-0.9954235468417038|-0.09556130175485521\n",
      "0.34|-0.9812780681161973|-0.19259634740602846\n",
      "0.35|-0.9576967228624854|-0.2877794068700118\n",
      "0.36|-0.9249062668123011|-0.38019520987425975\n",
      "0.37|-0.8832220095366436|-0.46895509579282\n",
      "0.38|-0.83304478246216|-0.5532055589132963\n",
      "0.39|-0.774857084518373|-0.6321364556578642\n",
      "0.4|-0.7092184424788048|-0.7049887948385691\n",
      "0.41|-0.6367600306104677|-0.7710620360366318\n",
      "0.42|-0.5581786013686036|-0.8297208259253165\n",
      "0.43|-0.4742297854984759|-0.8804011077605874\n",
      "0.44|-0.38572082596972773|-0.9226155452913369\n",
      "0.45|-0.2935028156130263|-0.9559582089334375\n",
      "0.46|-0.19846251310105997|-0.9801084791458604\n",
      "0.47|-0.10151381597056597|-0.9948341294744034\n",
      "0.48|-0.003588972679883476|-0.9999935596168122\n",
      "0.49|0.09437038179400002|-0.9955371570363684\n",
      "0.5|0.19142228061819944|-0.981507774030816\n",
      "0.51|0.28663348295775654|-0.9580403156691818\n",
      "0.52|0.3790884479211975|-0.9253604425588429\n",
      "0.53|0.46789813830529803|-0.8837824009168977\n",
      "0.54|0.5522085694831664|-0.83370600081165\n",
      "0.55|0.6312090212304574|-0.7756127716311071\n",
      "0.56|0.7041398335256361|-0.7100613317471172\n",
      "0.57|0.770299711360722|-0.6376820168999503\n",
      "0.58|0.8290524683202056|-0.5591708189562241\n",
      "0.59|0.8798331440825959|-0.4752826933244404\n",
      "0.6|0.9221534370193594|-0.3868242993833019\n",
      "0.61|0.9556063996519356|-0.2946462437301129\n",
      "0.62|0.9798703518158229|-0.1996349008373419\n",
      "0.63|0.9947119739031501|-0.10270388976907704\n",
      "0.64|0.9999885504394473|-0.004785288916350673\n",
      "0.65|0.9956493424206135|0.0931793267704799\n",
      "0.66|0.981736075213835|0.19024793986725658\n",
      "0.67|0.9583825373308495|0.2854871488163395\n",
      "0.68|0.9258132939317127|0.3779811434176472\n",
      "0.69|0.8843415274298757|0.46684051116306774\n",
      "0.7|0.8343660259630884|0.5512107897334403\n",
      "0.71|0.7763673486886825|0.630280683418194\n",
      "0.72|0.7109032047773352|0.7032898644494419\n",
      "0.73|0.6386030905404413|0.7695362842336916\n",
      "0.74|0.560162236259894|0.8283829241771674\n",
      "0.75|0.4763349209269401|0.8792639211894946\n",
      "0.76|0.3879272191748549|0.9216900089635691\n",
      "0.77|0.2957892501501922|0.9552532227088203\n",
      "0.78|0.2008070028566261|0.979630822097661\n",
      "0.79|0.10389381657802542|0.9945883947024777\n",
      "0.8|0.005981598304123716|0.9999821100808395\n",
      "0.81|-0.09198813838892729|0.9957601028338802\n",
      "0.82|-0.18907332683391231|0.9819629713385106\n",
      "0.83|-0.28434040608639105|0.9587233873577019\n",
      "0.84|-0.3768732979483788|0.9262648202827918\n",
      "0.85|-0.46578221587980606|0.8848993882753552\n",
      "0.86|-0.5502122210921392|0.8350248569718478\n",
      "0.87|-0.6293514435497126|0.7771208146111471\n",
      "0.88|-0.702438888826462|0.7117440603645705\n",
      "0.89|-0.7687717557481555|0.6395232502137028\n",
      "0.9|-0.8277121944544518|0.5611528518606993\n",
      "0.91|-0.8786934398959539|0.47738646680002933\n",
      "0.92|-0.9212252617872232|0.3890295837658906\n",
      "0.93|-0.9548986786095566|0.2969318332373995\n",
      "0.94|-0.9793898903341881|0.20197881748140556\n",
      "0.95|-0.9944633920492523|0.10508359469439156\n",
      "0.96|-0.9999742385502061|0.007177899131048334\n",
      "0.97|-0.9958694381176482|-0.0907968183541682\n",
      "0.98|-0.9821884620801093|-0.18789844319927088\n",
      "0.99|-0.9590628652619151|-0.2831932564091274\n",
      "1|-0.9267150209658546|-0.3757649130989423\n"
     ]
    }
   ],
   "source": [
    ";cat \"X_contra_Y.csv\""
   ]
  },
  {
   "cell_type": "code",
   "execution_count": 47,
   "metadata": {},
   "outputs": [
    {
     "data": {
      "text/plain": [
       "101×3 Array{Float64,2}:\n",
       " 0.0    1.0        0.0      \n",
       " 0.01   0.995192   0.0979427\n",
       " 0.02   0.980814   0.194944 \n",
       " 0.03   0.957005   0.29007  \n",
       " 0.04   0.923994   0.382407 \n",
       " 0.05   0.882097   0.471067 \n",
       " 0.06   0.831719   0.555197 \n",
       " 0.07   0.773342   0.633989 \n",
       " 0.08   0.70753    0.706684 \n",
       " 0.09   0.634913   0.772583 \n",
       " 0.1    0.556192   0.831054 \n",
       " 0.11   0.472122   0.881533 \n",
       " 0.12   0.383512   0.923536 \n",
       " ⋮                          \n",
       " 0.89  -0.768772   0.639523 \n",
       " 0.9   -0.827712   0.561153 \n",
       " 0.91  -0.878693   0.477386 \n",
       " 0.92  -0.921225   0.38903  \n",
       " 0.93  -0.954899   0.296932 \n",
       " 0.94  -0.97939    0.201979 \n",
       " 0.95  -0.994463   0.105084 \n",
       " 0.96  -0.999974   0.0071779\n",
       " 0.97  -0.995869  -0.0907968\n",
       " 0.98  -0.982188  -0.187898 \n",
       " 0.99  -0.959063  -0.283193 \n",
       " 1.0   -0.926715  -0.375765 "
      ]
     },
     "execution_count": 47,
     "metadata": {},
     "output_type": "execute_result"
    }
   ],
   "source": [
    "readdlm(\"X_contra_Y.csv\", '|')"
   ]
  },
  {
   "cell_type": "markdown",
   "metadata": {},
   "source": [
    "## La Recta"
   ]
  },
  {
   "cell_type": "markdown",
   "metadata": {},
   "source": [
    "Continuando con el tema de la recta, hay muchas formas de trabajar con una recta en el plano, en este caso nosotros utilizaremos la formula de la pendiente y ordenada al origen."
   ]
  },
  {
   "cell_type": "markdown",
   "metadata": {},
   "source": [
    "## $$ y=m(x)+b$$"
   ]
  },
  {
   "cell_type": "markdown",
   "metadata": {},
   "source": [
    "Donde: \n",
    "\n",
    "$y(t)$ es una variable dependiente de $x$\n",
    "\n",
    "$x(t)$ es la variable independiente\n",
    "\n",
    "$m$ es la pendiente de la recta que esta definida como $m=\\frac{y_2 - y_1}{x_2 - x_1}$\n",
    "\n",
    "$b$ es la abscisa cuando se tiene la coodenada $(0,b)\\in L$"
   ]
  },
  {
   "cell_type": "code",
   "execution_count": 48,
   "metadata": {},
   "outputs": [
    {
     "data": {
      "text/plain": [
       "81-element Array{Float64,1}:\n",
       "  0.0  \n",
       "  0.125\n",
       "  0.25 \n",
       "  0.375\n",
       "  0.5  \n",
       "  0.625\n",
       "  0.75 \n",
       "  0.875\n",
       "  1.0  \n",
       "  1.125\n",
       "  1.25 \n",
       "  1.375\n",
       "  1.5  \n",
       "  ⋮    \n",
       "  8.625\n",
       "  8.75 \n",
       "  8.875\n",
       "  9.0  \n",
       "  9.125\n",
       "  9.25 \n",
       "  9.375\n",
       "  9.5  \n",
       "  9.625\n",
       "  9.75 \n",
       "  9.875\n",
       " 10.0  "
      ]
     },
     "execution_count": 48,
     "metadata": {},
     "output_type": "execute_result"
    }
   ],
   "source": [
    "#Primero definimos nuestro TiempoR que es con respecto a lo que avanzara x(t)\n",
    "\n",
    "TiempoR=0:0.125:10\n",
    "collect(TiempoR)"
   ]
  },
  {
   "cell_type": "code",
   "execution_count": 49,
   "metadata": {},
   "outputs": [],
   "source": [
    "#Definimos sobre que van a trabajar; x(t) con respecto al Dominio y(t) con respecto al Rango\n",
    "\n",
    "Dominio=zeros(TiempoR);\n",
    "Rango=zeros(TiempoR);"
   ]
  },
  {
   "cell_type": "code",
   "execution_count": 50,
   "metadata": {},
   "outputs": [
    {
     "data": {
      "text/plain": [
       "14"
      ]
     },
     "execution_count": 50,
     "metadata": {},
     "output_type": "execute_result"
    }
   ],
   "source": [
    "#Damos valores arbitrarios para la pendiente y la coordenada de la ordenada al origen\n",
    "\n",
    "m=3\n",
    "b=14"
   ]
  },
  {
   "cell_type": "code",
   "execution_count": 51,
   "metadata": {},
   "outputs": [],
   "source": [
    "#Decimps que para cada elemento del tiempoR tenemos que x=t*m + b; y que y=t\n",
    "\n",
    "for i ∈ eachindex(TiempoR)\n",
    "    Dominio[i]=TiempoR[i]*m+b   \n",
    "    Rango[i]=TiempoR[i]\n",
    "end"
   ]
  },
  {
   "cell_type": "code",
   "execution_count": 14,
   "metadata": {},
   "outputs": [
    {
     "data": {
      "text/plain": [
       "Plots.PyPlotBackend()"
      ]
     },
     "execution_count": 14,
     "metadata": {},
     "output_type": "execute_result"
    }
   ],
   "source": [
    "pyplot()"
   ]
  },
  {
   "cell_type": "code",
   "execution_count": 53,
   "metadata": {},
   "outputs": [
    {
     "data": {
      "text/html": [
       "<img src=\"data:image/png;base64,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\" />"
      ]
     },
     "execution_count": 53,
     "metadata": {},
     "output_type": "execute_result"
    }
   ],
   "source": [
    "#Graficamos ahora nuestros valores de RangoXDominio\n",
    "\n",
    "plot(Rango,Dominio,w=1)\n",
    "title!(\"Recta\")\n",
    "xaxis!(\"X\")\n",
    "yaxis!(\"Y\")"
   ]
  },
  {
   "cell_type": "code",
   "execution_count": 26,
   "metadata": {},
   "outputs": [
    {
     "data": {
      "text/plain": [
       "Plots.GRBackend()"
      ]
     },
     "execution_count": 26,
     "metadata": {},
     "output_type": "execute_result"
    }
   ],
   "source": [
    "gr()"
   ]
  }
 ],
 "metadata": {
  "celltoolbar": "Raw Cell Format",
  "kernelspec": {
   "display_name": "Julia 0.6.0",
   "language": "julia",
   "name": "julia-0.6"
  },
  "language_info": {
   "file_extension": ".jl",
   "mimetype": "application/julia",
   "name": "julia",
   "version": "0.6.0"
  }
 },
 "nbformat": 4,
 "nbformat_minor": 2
}
