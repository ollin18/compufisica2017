{
 "cells": [
  {
   "cell_type": "markdown",
   "metadata": {},
   "source": [
    "<div class=\"alert alert-success\" role=\"alert\">\n",
    " <h1>Pregunta 1</h1>\n",
    " <h2>Computación</h2>\n",
    " <h2>Física, Facultad de Ciencias. UNAM </h2>\n",
    " <h3>Fernanada Martínez Saldaña</h3>\n",
    " </div>"
   ]
  },
  {
   "cell_type": "markdown",
   "metadata": {},
   "source": [
    "Para obtener el promedio necesitamos sumar los números dados y de lo obtenido dividir entre la cantidad de números. "
   ]
  },
  {
   "cell_type": "markdown",
   "metadata": {},
   "source": [
    "$a)$ Este programa calcula el promedio de dos números dados por el usuario."
   ]
  },
  {
   "cell_type": "code",
   "execution_count": 2,
   "metadata": {},
   "outputs": [
    {
     "data": {
      "text/plain": [
       "prom (generic function with 1 method)"
      ]
     },
     "execution_count": 2,
     "metadata": {},
     "output_type": "execute_result"
    }
   ],
   "source": [
    "function prom(a,b)    #Genera la función promedio pidiendo como argumento dos números a y b\n",
    "    p=(a+b)/2         #calcula el promedio de a y b\n",
    "    print(\"El promedio de ambos números es: $p\") #imprime el resultado \n",
    "end"
   ]
  },
  {
   "cell_type": "markdown",
   "metadata": {},
   "source": [
    "Probaremos lafunción para obtener el promedio de dos números"
   ]
  },
  {
   "cell_type": "code",
   "execution_count": 3,
   "metadata": {},
   "outputs": [
    {
     "name": "stdout",
     "output_type": "stream",
     "text": [
      "El promedio de ambos números es: 7.0"
     ]
    }
   ],
   "source": [
    "prom(5,9)"
   ]
  },
  {
   "cell_type": "markdown",
   "metadata": {},
   "source": [
    "$b)$ Este programa calcula la suma desde 0 hasta un número n proporcionado por el usuario:"
   ]
  },
  {
   "cell_type": "code",
   "execution_count": 14,
   "metadata": {},
   "outputs": [
    {
     "data": {
      "text/plain": [
       "sumag (generic function with 1 method)"
      ]
     },
     "execution_count": 14,
     "metadata": {},
     "output_type": "execute_result"
    }
   ],
   "source": [
    "function sumag(n)     #Genera la función suma de gauss pididendo como arumentos un número n\n",
    "    s=0               #Da un valor inicial para la suma de 0\n",
    "    for i ∈ 0:n       #Varía la variable contadora i desde 0 hasta n\n",
    "        s= i + s      #Acumula la suma de las i\n",
    "    end             #Termina el ciclo for\n",
    "        print(\"la suma de los números desde el 0 hasta el $n es: $s\") #Imprime el resultado\n",
    "end                 #Termina la función"
   ]
  },
  {
   "cell_type": "markdown",
   "metadata": {},
   "source": [
    "Probamos la función"
   ]
  },
  {
   "cell_type": "code",
   "execution_count": 15,
   "metadata": {},
   "outputs": [
    {
     "name": "stdout",
     "output_type": "stream",
     "text": [
      "la suma de los números desde el 0 hasta el 100 es: 5050"
     ]
    }
   ],
   "source": [
    "sumag(100)"
   ]
  },
  {
   "cell_type": "markdown",
   "metadata": {},
   "source": [
    "$c)$ El siguiente programa calculará el factorial de un número introducido por el usuario:"
   ]
  },
  {
   "cell_type": "code",
   "execution_count": 1,
   "metadata": {},
   "outputs": [
    {
     "data": {
      "text/plain": [
       "nfact (generic function with 1 method)"
      ]
     },
     "execution_count": 1,
     "metadata": {},
     "output_type": "execute_result"
    }
   ],
   "source": [
    "function nfact(n)  #Generamos una función n\n",
    "    if n == 0      #Ponemos if ya que queremos que se cumpla la condición\n",
    "        1\n",
    "        else       #Ponemos else por si el valor de expresión es falso  \n",
    "        n * nfact(n-1) \n",
    "        end        #Termina el ciclo if\n",
    " end            #Termina la función"
   ]
  },
  {
   "cell_type": "markdown",
   "metadata": {},
   "source": [
    "Probamos la función factorial"
   ]
  },
  {
   "cell_type": "code",
   "execution_count": 2,
   "metadata": {},
   "outputs": [
    {
     "data": {
      "text/plain": [
       "24"
      ]
     },
     "execution_count": 2,
     "metadata": {},
     "output_type": "execute_result"
    }
   ],
   "source": [
    "nfact(4)\n"
   ]
  },
  {
   "cell_type": "markdown",
   "metadata": {},
   "source": [
    "$ d)$ Este programa calcula la un número elevado a una potencia introducida por el usuario "
   ]
  },
  {
   "cell_type": "code",
   "execution_count": 19,
   "metadata": {},
   "outputs": [
    {
     "data": {
      "text/plain": [
       "Pot (generic function with 1 method)"
      ]
     },
     "execution_count": 19,
     "metadata": {},
     "output_type": "execute_result"
    }
   ],
   "source": [
    "function Pot(a,b) #Genera la función potencia pidiendo como argumentos un número a y un número b que será la potencia a la que será elevada el número a  \n",
    "    p=1           #Da un valor inicial a la potencia de 1\n",
    "    for i ∈ 1:b   #Varía la variable de 1 hasta b\n",
    "        p=a*p     #La potencia será definida por el némero a multiplicado por p\n",
    "        end       #Termina el ciclo for\n",
    "    print(\"La potencia de $a elevado a la $b es: $p \") #Imprime el resultado\n",
    " end           #Termina la función"
   ]
  },
  {
   "cell_type": "markdown",
   "metadata": {},
   "source": [
    "Probamos la función potencia"
   ]
  },
  {
   "cell_type": "code",
   "execution_count": 23,
   "metadata": {},
   "outputs": [
    {
     "name": "stdout",
     "output_type": "stream",
     "text": [
      "La potencia de 5 elevado a la 5 es: 3125 "
     ]
    }
   ],
   "source": [
    "Pot(5,5)"
   ]
  }
 ],
 "metadata": {
  "kernelspec": {
   "display_name": "Julia 0.6.0",
   "language": "julia",
   "name": "julia-0.6"
  },
  "language_info": {
   "file_extension": ".jl",
   "mimetype": "application/julia",
   "name": "julia",
   "version": "0.6.0"
  }
 },
 "nbformat": 4,
 "nbformat_minor": 2
}
