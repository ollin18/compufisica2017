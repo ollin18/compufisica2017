{
 "cells": [
  {
   "cell_type": "markdown",
   "metadata": {},
   "source": [
    "<div class=\"alert alert-success\" role=\"alert\">\n",
    "<h1>Programación en Julia: Notebook 10 </h1>\n",
    "<h2>Facultad de Ciencias, UNAM </h2>\n",
    "<h3>Joshua Briones Andrade || Compufísica </h3>\n",
    "</div>"
   ]
  },
  {
   "cell_type": "markdown",
   "metadata": {},
   "source": [
    "**a)** Escribe  un programa que realice el producto de una matriz en $ℝ^{nxm}$, por un vector en $ℝ^n$ las entradas tanto del vector como de la matriz deben leerse de un archivo.  \n",
    "\n",
    "(Para facilitarte las cosas puedes convertir tu programa de producto punto “del ejercicio 8” en una función)\n",
    "\n",
    "Sean la matriz A, tal que $A \\in m_{nxm}$ y el vector B, tal que $B \\in m_{n}$ tales que el producto punto es denotado como..."
   ]
  },
  {
   "cell_type": "markdown",
   "metadata": {},
   "source": [
    "$$B_{n} \\cdot A_{nxm}=\n",
    "\\begin{pmatrix}\n",
    "b_1, &\n",
    "b_2, &\n",
    "\\dots &\n",
    "b_n\\\\\\end{pmatrix}\n",
    "\\cdot\n",
    "\\begin{pmatrix}\n",
    "a_{11} & a_{12} & \\dots & a_{1m}\\\\\n",
    "a_{21} & a_{22} & \\dots & a_{2m}\\\\\n",
    "\\vdots & \\vdots & \\ddots& \\vdots\\\\\n",
    "a_{n1} & a_{n2} & \\dots & a_{nm}\\\\\\end{pmatrix}\n",
    "=...$$"
   ]
  },
  {
   "cell_type": "markdown",
   "metadata": {},
   "source": [
    "\n",
    "$$...=\\begin{pmatrix}\\sum_{i=1}^{n}{a_{i1}b{i}},\n",
    "\\sum_{i=1}^{n}{a_{i2}b{i}},\n",
    "\\dots ,\n",
    "\\sum_{i=1}^{n}{a_{im}b{i}}\\\\\\end{pmatrix}$$"
   ]
  },
  {
   "cell_type": "markdown",
   "metadata": {},
   "source": [
    "Crearemos el vector b que tiene las dimensiones (1x5) y después vamos a crear nuestra matriz A de (5x3)"
   ]
  },
  {
   "cell_type": "code",
   "execution_count": 2,
   "metadata": {},
   "outputs": [
    {
     "data": {
      "text/plain": [
       "1×5 RowVector{Int64,Array{Int64,1}}:\n",
       " 2  4  1  5  3"
      ]
     },
     "execution_count": 2,
     "metadata": {},
     "output_type": "execute_result"
    }
   ],
   "source": [
    "b=randcycle(5)\n",
    "b'"
   ]
  },
  {
   "cell_type": "code",
   "execution_count": 12,
   "metadata": {},
   "outputs": [
    {
     "data": {
      "text/plain": [
       "5×3 Array{Int64,2}:\n",
       " 5  3  3\n",
       " 4  4  1\n",
       " 1  5  5\n",
       " 3  1  2\n",
       " 2  2  4"
      ]
     },
     "execution_count": 12,
     "metadata": {},
     "output_type": "execute_result"
    }
   ],
   "source": [
    "A1=hcat(randcycle(5),randcycle(5),randcycle(5))"
   ]
  },
  {
   "cell_type": "markdown",
   "metadata": {},
   "source": [
    "Primero definimos la función sumM para poder sumar los términos y arrojar el resultado de cada componente.\n",
    "\n",
    "-La n significa la dimension que comparten el vector b y la matriz A\n",
    "\n",
    "-La m significa otra dimension de la matriz A\n",
    "\n",
    "-b es el vector\n",
    "\n",
    "-A es la matriz"
   ]
  },
  {
   "cell_type": "code",
   "execution_count": 3,
   "metadata": {},
   "outputs": [
    {
     "data": {
      "text/plain": [
       "MultiMv (generic function with 1 method)"
      ]
     },
     "execution_count": 3,
     "metadata": {},
     "output_type": "execute_result"
    }
   ],
   "source": [
    "function MultiMv(b,A)\n",
    "    \n",
    "    if size(A)[1] == length(b)\n",
    "        s=0\n",
    "        C=zeros(1,size(A)[2])\n",
    "        for m ∈ 1:size(A)[2]\n",
    "            for i ∈ 1:size(A)[1]\n",
    "                s = s+A[i,m]*b[i]\n",
    "            end\n",
    "            C[1,m]=s\n",
    "            s=0\n",
    "        end\n",
    "        C\n",
    "    else\n",
    "        println(\"La matriz y el vector no comparten dimensiones compa, arre\")\n",
    "    end\n",
    "end"
   ]
  },
  {
   "cell_type": "markdown",
   "metadata": {},
   "source": [
    "Corroboramos que si sirve nuestra formula comparandola con la multiplicacion por 'default' de Julia"
   ]
  },
  {
   "cell_type": "code",
   "execution_count": 13,
   "metadata": {},
   "outputs": [
    {
     "data": {
      "text/plain": [
       "1×3 Array{Float64,2}:\n",
       " 48.0  38.0  37.0"
      ]
     },
     "execution_count": 13,
     "metadata": {},
     "output_type": "execute_result"
    }
   ],
   "source": [
    "MultiMv(b',A1)"
   ]
  },
  {
   "cell_type": "code",
   "execution_count": 14,
   "metadata": {},
   "outputs": [
    {
     "data": {
      "text/plain": [
       "1×3 RowVector{Int64,Array{Int64,1}}:\n",
       " 48  38  37"
      ]
     },
     "execution_count": 14,
     "metadata": {},
     "output_type": "execute_result"
    }
   ],
   "source": [
    "b'*A1"
   ]
  },
  {
   "cell_type": "markdown",
   "metadata": {},
   "source": [
    "\n",
    "\n",
    "**b)** Escribe  un programa que realice el producto de dos matrices en $ℝ^{nxm}$, el usuario debe insertar las entradas de las matrices.\n",
    "\n",
    "Apóyate en tu programa anterior, pues es una generalización de este.\n",
    "\n",
    "NOTA: En general, por convención cuando se multiplica una matriz por un vector se pone la matriz del lado izquierdo y el vector del lado derecho; y este a su vez se considera un vector columna. \n",
    "\n"
   ]
  },
  {
   "cell_type": "markdown",
   "metadata": {},
   "source": [
    "La formula para el producto interno de dos vectores es:\n",
    "\n",
    "$$A_{nxm}\\cdot B_{mxn}=\\sum_{j=1}^{m} \\sum_{i=1}^{n}{\\alpha_{ij}\\beta_{ij}}$$"
   ]
  },
  {
   "cell_type": "markdown",
   "metadata": {},
   "source": [
    "$$A_{nxm} \\cdot B_{mxn'}=\n",
    "\\begin{pmatrix}\n",
    "a_{11} & a_{12} & \\dots & a_{1m}\\\\\n",
    "a_{21} & a_{22} & \\dots & a_{2m}\\\\\n",
    "\\vdots & \\vdots & \\ddots& \\vdots\\\\\n",
    "a_{n1} & a_{n2} & \\dots & a_{nm}\\\\\\end{pmatrix}\n",
    "\\cdot\n",
    "\\begin{pmatrix}\n",
    "b_{11} & b_{12} & \\dots & b_{1n'}\\\\\n",
    "b_{21} & b_{22} & \\dots & b_{2n'}\\\\\n",
    "\\vdots & \\vdots & \\ddots& \\vdots\\\\\n",
    "b_{m1} & b_{m2} & \\dots & b_{mn'}\\\\\\end{pmatrix}=...$$"
   ]
  },
  {
   "cell_type": "markdown",
   "metadata": {},
   "source": [
    "$$...=\\begin{pmatrix}\n",
    "\\sum_{i=1}^{m}{a_{i1}b_{i1}} & \\sum_{i=1}^{m}{a_{i2}b_{i1}} & \\dots & \\sum_{i=1}^{m}{a_{in'}b_{i1}} \\\\\n",
    "\\sum_{i=1}^{m}{a_{i1}b_{i2}} & \\sum_{i=1}^{m}{a_{i2}b_{i2}} & \\dots & \\sum_{i=1}^{m}{a_{in'}b_{i2}} \\\\\n",
    "\\vdots & \\vdots & \\ddots& \\vdots \\\\\n",
    "\\sum_{i=1}^{m}{a_{i1}b_{in}} & \\sum_{i=1}^{m}{a_{i2}b_{in}} & \\dots & \\sum_{i=1}^{m}{a_{in'}b_{in}} \\\\\n",
    "\\\\\\end{pmatrix}$$"
   ]
  },
  {
   "cell_type": "markdown",
   "metadata": {},
   "source": [
    "Crearemos la matriz A que tiene las dimensiones (2x4) y después vamos a crear nuestra matriz B de (4x3), asi que el producto de A y B sera una matriz de dimensiones (2x3)"
   ]
  },
  {
   "cell_type": "code",
   "execution_count": 149,
   "metadata": {},
   "outputs": [
    {
     "data": {
      "text/plain": [
       "2×4 Array{Int64,2}:\n",
       " 3  0  1  2\n",
       " 1  2  3  0"
      ]
     },
     "execution_count": 149,
     "metadata": {},
     "output_type": "execute_result"
    }
   ],
   "source": [
    "Z = hcat(randcycle(4)-1,randcycle(4)-1)\n",
    "A=Z'"
   ]
  },
  {
   "cell_type": "code",
   "execution_count": 148,
   "metadata": {},
   "outputs": [
    {
     "data": {
      "text/plain": [
       "4×3 Array{Int64,2}:\n",
       " 3  4  4\n",
       " 1  1  1\n",
       " 4  2  2\n",
       " 2  3  3"
      ]
     },
     "execution_count": 148,
     "metadata": {},
     "output_type": "execute_result"
    }
   ],
   "source": [
    "B=hcat(randcycle(4),randcycle(4),randcycle(4))"
   ]
  },
  {
   "cell_type": "code",
   "execution_count": 152,
   "metadata": {},
   "outputs": [
    {
     "data": {
      "text/plain": [
       "MultiMM (generic function with 1 method)"
      ]
     },
     "execution_count": 152,
     "metadata": {},
     "output_type": "execute_result"
    }
   ],
   "source": [
    "#Para la funcion necesitamos comprobar que comparten las dimensiones correspondientes, por ello el primer \"if\"\n",
    "#Utilizamos d' para poder trabajar con un renglon 'i' de la matriz A y luego solo aplicar la multiplicacion de Mat x Vec\n",
    "\n",
    "function MultiMM(A,B)\n",
    "    \n",
    "    if size(A)[2] == size(B)[1]\n",
    "    \n",
    "        C=zeros(size(A)[1],size(B)[2])\n",
    "        \n",
    "        for i ∈ 1:size(A)[1]\n",
    "            d=hcat(A[i,1:end])\n",
    "            renglonA=d'\n",
    "            s=0\n",
    "            \n",
    "            for m ∈ 1:size(B)[2]    \n",
    "                for j ∈ 1:size(B)[1]\n",
    "                    s = s+B[j,m]*d'[j]\n",
    "                end\n",
    "            C[i,m]=s\n",
    "            s=0\n",
    "            end\n",
    "        end\n",
    "        C\n",
    "    else\n",
    "        println(\"Las matrices no comparten dimensiones compa, arre\")\n",
    "    end\n",
    "end"
   ]
  },
  {
   "cell_type": "markdown",
   "metadata": {},
   "source": [
    "Corroboramos que si sirve nuestra formula comparandola con la multiplicacion por 'default' de Julia"
   ]
  },
  {
   "cell_type": "code",
   "execution_count": 144,
   "metadata": {},
   "outputs": [
    {
     "data": {
      "text/plain": [
       "2×3 Array{Float64,2}:\n",
       " 13.0  20.0  12.0\n",
       " 20.0  13.0  17.0"
      ]
     },
     "execution_count": 144,
     "metadata": {},
     "output_type": "execute_result"
    }
   ],
   "source": [
    "MultiMM(A,B)"
   ]
  },
  {
   "cell_type": "code",
   "execution_count": 145,
   "metadata": {},
   "outputs": [
    {
     "data": {
      "text/plain": [
       "2×3 Array{Int64,2}:\n",
       " 13  20  12\n",
       " 20  13  17"
      ]
     },
     "execution_count": 145,
     "metadata": {},
     "output_type": "execute_result"
    }
   ],
   "source": [
    "A*B"
   ]
  }
 ],
 "metadata": {
  "kernelspec": {
   "display_name": "Julia 0.6.0",
   "language": "julia",
   "name": "julia-0.6"
  },
  "language_info": {
   "file_extension": ".jl",
   "mimetype": "application/julia",
   "name": "julia",
   "version": "0.6.0"
  }
 },
 "nbformat": 4,
 "nbformat_minor": 2
}
