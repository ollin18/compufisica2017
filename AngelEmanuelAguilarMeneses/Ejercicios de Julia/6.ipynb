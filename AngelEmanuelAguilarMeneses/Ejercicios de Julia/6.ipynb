{
 "cells": [
  {
   "cell_type": "code",
   "execution_count": 1,
   "metadata": {},
   "outputs": [
    {
     "data": {
      "text/plain": [
       "prod_vec3 (generic function with 1 method)"
      ]
     },
     "execution_count": 1,
     "metadata": {},
     "output_type": "execute_result"
    }
   ],
   "source": [
    "function prod_vec3(u,v)\n",
    "    if length(A)==length(B)==3 #Hacemos que los vectores tengan un tamoño igual entre si y a 3\n",
    "        i= ((A[2,1] * B[3,1]) - (A[3,1] * B[2,1]))#Resolvemos las determinantes de x\n",
    "        j=-((A[3,1] * B[1,1]) - (A[1,1] * B[3,1]))#Resolvemos las determinantes de y\n",
    "        k= ((A[1,1] * B[2,1]) - (A[2,1] * B[1,1]))#Resolvemos las determinantes de z\n",
    "    end\n",
    "    C=[i,j,k] #Hacemos el vector con los resultados\n",
    "    print(C) #Imprimimos el resultado \n",
    "end"
   ]
  },
  {
   "cell_type": "code",
   "execution_count": 2,
   "metadata": {},
   "outputs": [
    {
     "data": {
      "text/plain": [
       "3-element Array{Int64,1}:\n",
       " 2\n",
       " 0\n",
       " 4"
      ]
     },
     "execution_count": 2,
     "metadata": {},
     "output_type": "execute_result"
    }
   ],
   "source": [
    "A=[2,0,4]#Definimos un vector"
   ]
  },
  {
   "cell_type": "code",
   "execution_count": 3,
   "metadata": {},
   "outputs": [
    {
     "data": {
      "text/plain": [
       "3-element Array{Int64,1}:\n",
       "  1\n",
       " -2\n",
       "  8"
      ]
     },
     "execution_count": 3,
     "metadata": {},
     "output_type": "execute_result"
    }
   ],
   "source": [
    "B=[1,-2,8]"
   ]
  },
  {
   "cell_type": "code",
   "execution_count": 4,
   "metadata": {},
   "outputs": [
    {
     "name": "stdout",
     "output_type": "stream",
     "text": [
      "[8, 12, -4]"
     ]
    }
   ],
   "source": [
    "prod_vec3(A,B)"
   ]
  }
 ],
 "metadata": {
  "kernelspec": {
   "display_name": "Julia 0.6.0",
   "language": "julia",
   "name": "julia-0.6"
  },
  "language_info": {
   "file_extension": ".jl",
   "mimetype": "application/julia",
   "name": "julia",
   "version": "0.6.0"
  }
 },
 "nbformat": 4,
 "nbformat_minor": 2
}
