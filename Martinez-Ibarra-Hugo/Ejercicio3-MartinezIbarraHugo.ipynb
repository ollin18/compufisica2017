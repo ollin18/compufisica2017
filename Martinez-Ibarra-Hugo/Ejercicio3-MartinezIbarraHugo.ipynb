{
 "cells": [
  {
   "cell_type": "markdown",
   "metadata": {},
   "source": [
    "### Martínez Ibarra Hugo\n",
    "***\n",
    "### Computación <p style=\"text-align:right\">Grupo 8381\n",
    "## <p style=\"color:darkblue;text-align:center\">Ejercicio #3"
   ]
  },
  {
   "cell_type": "markdown",
   "metadata": {},
   "source": [
    "Siguiendo la siguiente serie:\n",
    "$$\\displaystyle{\\sum_{i=0}^{\\infty}} \\dfrac{(-1)^i}{2i+1}= \\dfrac{\\pi}{4}$$\n",
    "Escribe un programa que calcule diferentes aproximaciones de π para diferentes\n",
    "valores."
   ]
  },
  {
   "cell_type": "code",
   "execution_count": 1,
   "metadata": {},
   "outputs": [
    {
     "data": {
      "text/plain": [
       "aproxpi (generic function with 1 method)"
      ]
     },
     "execution_count": 1,
     "metadata": {},
     "output_type": "execute_result"
    }
   ],
   "source": [
    "#Se usó la aproximación con la serie infinita de Leibniz, sólo que ligeramente modificada para que se calcule el valor de pi.\n",
    "#Se definió la función aproxpi que depende de la variable n, la cual representa los n+1 términos que contendra la serie. Se comenzó por establecer la variable sum que guardará el valor acumulado de la suma. Después en un ciclo for se programó la serie. Se indicó que las instrucciones del ciclo se repitieran n+1 veces (es decir el mismo número de terminos que la serie) pues se comienza por 0 hasta llegar al número n, donde cada vez se actualizará el valor de la suma al adicionar, con el valor actual de i (contador referenciado al número de términos), el término (((-1)^i)/(2*i+1)) al valor de sum anterior. Luego fuera del ciclo, se múltipla el último valor de la suma por 4 para obtener el valor aproximado de pi y se imprime.\n",
    "function aproxpi(n)\n",
    "    sum=0.0\n",
    "    for i ∈ 0.0:n\n",
    "        sum=sum+(((-1)^i)/(2*i+1))\n",
    "    end\n",
    "    p=4*sum\n",
    "    print(p)\n",
    "end"
   ]
  },
  {
   "cell_type": "code",
   "execution_count": 2,
   "metadata": {},
   "outputs": [
    {
     "name": "stdout",
     "output_type": "stream",
     "text": [
      "3.141602653489793988460143364529440394040917831472762036846331303482711437967287"
     ]
    }
   ],
   "source": [
    "#Se prueba el algoritmo\n",
    "aproxpi(big(100000.0))"
   ]
  },
  {
   "cell_type": "code",
   "execution_count": null,
   "metadata": {},
   "outputs": [],
   "source": []
  }
 ],
 "metadata": {
  "kernelspec": {
   "display_name": "Julia 0.6.0",
   "language": "julia",
   "name": "julia-0.6"
  },
  "language_info": {
   "file_extension": ".jl",
   "mimetype": "application/julia",
   "name": "julia",
   "version": "0.6.0"
  }
 },
 "nbformat": 4,
 "nbformat_minor": 2
}
