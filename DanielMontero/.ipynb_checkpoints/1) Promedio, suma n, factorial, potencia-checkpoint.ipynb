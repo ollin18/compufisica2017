{
 "cells": [
  {
   "cell_type": "markdown",
   "metadata": {},
   "source": [
    "# Promedio, suma n, factorial, potencia"
   ]
  },
  {
   "cell_type": "markdown",
   "metadata": {},
   "source": [
    "## Promedio\n",
    "Para el promedio se definen dos valores que serán trabajados, estos pasan a la función de promedio y mediante la operación matemática se obtiene el resultado de la nueva variable dependiente \"p\", se imprime en pantalla y finaliza el ciclo."
   ]
  },
  {
   "cell_type": "code",
   "execution_count": 20,
   "metadata": {},
   "outputs": [
    {
     "data": {
      "text/plain": [
       "Promedio (generic function with 1 method)"
      ]
     },
     "execution_count": 20,
     "metadata": {},
     "output_type": "execute_result"
    }
   ],
   "source": [
    "function Promedio(a,b) #Se inicia una función para dos valores \n",
    "p=(a+b)/2              #Se define el valor que toma p algebricamente\n",
    "    println(p)         #El resultado de p pasa a la pantalla\n",
    "    end                #Finaliza la función"
   ]
  },
  {
   "cell_type": "code",
   "execution_count": 21,
   "metadata": {},
   "outputs": [
    {
     "name": "stdout",
     "output_type": "stream",
     "text": [
      "2.5\n"
     ]
    }
   ],
   "source": [
    "Promedio(2,3)          #Prueba de la función"
   ]
  },
  {
   "cell_type": "markdown",
   "metadata": {},
   "source": [
    "## Suma de 0 a n\n",
    "Para esta suma se puede usar un ciclo for que irá sumando cada número natural a una variable. El número de veces que se repite el proceso es el número dado a la función."
   ]
  },
  {
   "cell_type": "code",
   "execution_count": 23,
   "metadata": {},
   "outputs": [
    {
     "data": {
      "text/plain": [
       "Suma (generic function with 1 method)"
      ]
     },
     "execution_count": 23,
     "metadata": {},
     "output_type": "execute_result"
    }
   ],
   "source": [
    "function Suma(n)      #Se define la función para un valor\n",
    "    s=0               #Se define una variable que porta el resultado en cada paso\n",
    "    for i ∈ 0:n       #Inicia un ciclo for para cada elemento que haya desde 0 hasta n\n",
    "        s+=i          #Al valor anterior de la variable se le suma el siguiente número natural\n",
    "        end           #Finaliza el ciclo for\n",
    "    println(s)        #Imprime el resultado en pantalla\n",
    "    end               #Finaliza la función"
   ]
  },
  {
   "cell_type": "code",
   "execution_count": 25,
   "metadata": {},
   "outputs": [
    {
     "name": "stdout",
     "output_type": "stream",
     "text": [
      "6\n"
     ]
    }
   ],
   "source": [
    "Suma(3)               #Prueba de la función"
   ]
  },
  {
   "cell_type": "markdown",
   "metadata": {},
   "source": [
    "## Factorial\n",
    "El factorial se calcula mediante una función dependiente de un número. Primero hay que definir una variable para guardar el valor del factorial. Después inicia un ciclo for; lo que hace es multiplicar por el siguiente número natural al valor que tiene la varibale. El proceso se repite el número de veces que se dió a la función."
   ]
  },
  {
   "cell_type": "code",
   "execution_count": 27,
   "metadata": {},
   "outputs": [
    {
     "data": {
      "text/plain": [
       "Factorial (generic function with 1 method)"
      ]
     },
     "execution_count": 27,
     "metadata": {},
     "output_type": "execute_result"
    }
   ],
   "source": [
    "function Factorial(N) #Se define que se hará una función\n",
    "    fact=1               #La variable inicia como uno (si N=0, fact=1)\n",
    "    for i ∈ 1:N          #esto define el numero de veces que se repite el ciclo\n",
    "        fact*=i          #Multiplica el valor fact anterior por la i siguiente\n",
    "        end              #termina el ciclo for \n",
    "    return(fact)         #imprime el número resultante en pantalla y sigue funcionando como número\n",
    "    end                  #Finaliza la función"
   ]
  },
  {
   "cell_type": "code",
   "execution_count": 28,
   "metadata": {},
   "outputs": [
    {
     "data": {
      "text/plain": [
       "120"
      ]
     },
     "execution_count": 28,
     "metadata": {},
     "output_type": "execute_result"
    }
   ],
   "source": [
    "Factorial(5)            #Prueba de la función"
   ]
  },
  {
   "cell_type": "markdown",
   "metadata": {},
   "source": [
    "## Potencia\n",
    "La función para calcular la potencia se puede hacer mediante un ciclo for. Lo que este ciclo hace es tomar dos variable, una que será el coeficiente y otra la potencia a la que se eleva el coeficiente. Y se define otra variable como 1, que cambiará dependiendo de las anteriores. El ciclo toma esta variable dependiente y la multiplica por el coeficiente dado a la función y éste se repite el numéro de veces de la potencia (por definición matemática). "
   ]
  },
  {
   "cell_type": "code",
   "execution_count": 53,
   "metadata": {},
   "outputs": [
    {
     "data": {
      "text/plain": [
       "Potencia (generic function with 2 methods)"
      ]
     },
     "execution_count": 53,
     "metadata": {},
     "output_type": "execute_result"
    }
   ],
   "source": [
    "function Potencia(W,Z)     #Se define la función Potencia dependiente de dos variables (coeficiente y potencia)\n",
    "R=1                        #Se define la variable R como 1 para multiplicarse después\n",
    "    for i ∈ 1:Z            #Se inicia un ciclo for que ocurre el número de veces de la potencia\n",
    "    R=R*W                  #La variable R es multiplicada opor el coeficiente\n",
    "        end                #Termina el ciclo for\n",
    "return(R)                  #El resultado epasa a pantalla\n",
    "    end                    #Finaliza la función"
   ]
  },
  {
   "cell_type": "code",
   "execution_count": 54,
   "metadata": {},
   "outputs": [
    {
     "data": {
      "text/plain": [
       "59049"
      ]
     },
     "execution_count": 54,
     "metadata": {},
     "output_type": "execute_result"
    }
   ],
   "source": [
    "Potencia(9,5)              #Prueba de la función"
   ]
  }
 ],
 "metadata": {
  "kernelspec": {
   "display_name": "Julia 0.6.0",
   "language": "julia",
   "name": "julia-0.6"
  },
  "language_info": {
   "file_extension": ".jl",
   "mimetype": "application/julia",
   "name": "julia",
   "version": "0.6.0"
  }
 },
 "nbformat": 4,
 "nbformat_minor": 2
}
