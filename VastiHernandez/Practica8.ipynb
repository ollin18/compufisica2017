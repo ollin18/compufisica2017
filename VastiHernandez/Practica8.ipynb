{
 "cells": [
  {
   "cell_type": "markdown",
   "metadata": {},
   "source": [
    "a) Calcular el producto interior (producto punto) de dos vectores en $ R^{3} $ el usuario debe insertar las entradas de los vectores. "
   ]
  },
  {
   "cell_type": "code",
   "execution_count": 3,
   "metadata": {},
   "outputs": [
    {
     "data": {
      "text/plain": [
       "prodcruz3 (generic function with 1 method)"
      ]
     },
     "execution_count": 3,
     "metadata": {},
     "output_type": "execute_result"
    }
   ],
   "source": [
    "function prodcruz3(A,B)\n",
    "    if length(A)==length(B)==3 
    "        R = 0 
    "        for i in 1:length(A) 
    "            R=R+(A[i]*B[i]) 
    "        end\n",
    "        print(R),
    "    else\n",
    "        println(\"Vectores de distinta dimensión\"),
    "    end\n",
    "end"
   ]
  },
  {
   "cell_type": "code",
   "execution_count": 4,
   "metadata": {},
   "outputs": [
    {
     "data": {
      "text/plain": [
       "3-element Array{Int64,1}:\n",
       " 8\n",
       " 4\n",
       " 6"
      ]
     },
     "execution_count": 4,
     "metadata": {},
     "output_type": "execute_result"
    }
   ],
   "source": [
    "A=[8,4,6]"
   ]
  },
  {
   "cell_type": "code",
   "execution_count": 5,
   "metadata": {},
   "outputs": [
    {
     "data": {
      "text/plain": [
       "3-element Array{Int64,1}:\n",
       " 4\n",
       " 7\n",
       " 5"
      ]
     },
     "execution_count": 5,
     "metadata": {},
     "output_type": "execute_result"
    }
   ],
   "source": [
    "B=[4,7,5]"
   ]
  },
  {
   "cell_type": "code",
   "execution_count": 6,
   "metadata": {},
   "outputs": [
    {
     "name": "stdout",
     "output_type": "stream",
     "text": [
      "90"
     ]
    }
   ],
   "source": [
    "prodcruz3(A,B)"
   ]
  },
  {
   "cell_type": "markdown",
   "metadata": {},
   "source": [
    "b) Escribe  un programa que realice el producto interior (producto punto) de dos vectores en $ R^{n} $ las entradas de los vectores deben leerse de un archivo. (Recuerda nuevamente que esto solo tiene sentido si los vectores son de la misma dimensión)."
   ]
  },
  {
   "cell_type": "code",
   "execution_count": 16,
   "metadata": {},
   "outputs": [
    {
     "data": {
      "text/plain": [
       "prodcruzn (generic function with 1 method)"
      ]
     },
     "execution_count": 16,
     "metadata": {},
     "output_type": "execute_result"
    }
   ],
   "source": [
    "function prodcruzn(A,B)\n",
    "    if length(A)==length(B) ,
    "        R=0.0 #,
    "        for i in 1:length(A) #,
    "            R=R+(A[i]*B[i]) #,
    "        end\n",
    "        print(R) #,
    "    else\n",
    "        println(\"Vectores de distinta dimensión\") #,
    "    end\n",
    "end"
   ]
  },
  {
   "cell_type": "code",
   "execution_count": 17,
   "metadata": {},
   "outputs": [
    {
     "data": {
      "text/plain": [
       "6-element Array{Int64,1}:\n",
       " 8\n",
       " 7\n",
       " 4\n",
       " 5\n",
       " 6\n",
       " 1"
      ]
     },
     "execution_count": 17,
     "metadata": {},
     "output_type": "execute_result"
    }
   ],
   "source": [
    "u=[8,7,4,5,6,1]"
   ]
  },
  {
   "cell_type": "code",
   "execution_count": 24,
   "metadata": {},
   "outputs": [
    {
     "name": "stdout",
     "output_type": "stream",
     "text": [
      "136.0"
     ]
    }
   ],
   "source": [
    "prodcruzn(u,i)"
   ]
  },
  {
   "cell_type": "code",
   "execution_count": 23,
   "metadata": {},
   "outputs": [
    {
     "data": {
      "text/plain": [
       "6-element Array{Int64,1}:\n",
       " 7\n",
       " 4\n",
       " 1\n",
       " 5\n",
       " 6\n",
       " 2"
      ]
     },
     "execution_count": 23,
     "metadata": {},
     "output_type": "execute_result"
    }
   ],
   "source": [
    "u=[7,4,1,5,6,2]"
   ]
  },
  {
   "cell_type": "code",
   "execution_count": null,
   "metadata": {},
   "outputs": [],
   "source": []
  }
 ],
 "metadata": {
  "kernelspec": {
   "display_name": "Julia 0.6.0",
   "language": "julia",
   "name": "julia-0.6"
  },
  "language_info": {
   "file_extension": ".jl",
   "mimetype": "application/julia",
   "name": "julia",
   "version": "0.6.0"
  }
 },
 "nbformat": 4,
 "nbformat_minor": 2
}
