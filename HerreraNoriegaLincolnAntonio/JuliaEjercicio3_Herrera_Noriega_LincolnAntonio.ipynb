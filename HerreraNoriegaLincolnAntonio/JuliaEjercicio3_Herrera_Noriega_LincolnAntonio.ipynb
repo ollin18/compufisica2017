{
 "cells": [
  {
   "cell_type": "markdown",
   "metadata": {},
   "source": [
    "Aproximar el valor de \\pi usando la siguiente serie infinita:"
   ]
  },
  {
   "cell_type": "markdown",
   "metadata": {},
   "source": [
    "$$\\displaystyle{\\sum_{n=0}^{\\infty} \\dfrac{(-1)^n}{2n+1}} = \\dfrac{\\pi}{4}$$"
   ]
  },
  {
   "cell_type": "code",
   "execution_count": 3,
   "metadata": {},
   "outputs": [
    {
     "data": {
      "text/plain": [
       "mipi (generic function with 1 method)"
      ]
     },
     "execution_count": 3,
     "metadata": {},
     "output_type": "execute_result"
    }
   ],
   "source": [
    "function mipi(N)\n",
    "    s = 0.0             # Definimos la suma como un numero float\n",
    "    p=0.0               # definimos la variable para pi\n",
    "    for n ∈ 0:N         # establecemos el rango para el contador segun el valor introducido para la aproximacion\n",
    "        s = s + ((Float64(big(((-1)^n))) / (Float64(big(2*n + 1)))))  # realizamos la suma de s con la expresion de la suma para cada numero del contador\n",
    "    end\n",
    "    p = 4*s             # obtenemos la aproximacion de pi\n",
    "    return p            # obtenemos el valor de pi como un numero\n",
    "end"
   ]
  },
  {
   "cell_type": "code",
   "execution_count": 5,
   "metadata": {},
   "outputs": [
    {
     "data": {
      "text/plain": [
       "3.232315809405594"
      ]
     },
     "execution_count": 5,
     "metadata": {},
     "output_type": "execute_result"
    }
   ],
   "source": [
    "mipi(10)"
   ]
  },
  {
   "cell_type": "code",
   "execution_count": 7,
   "metadata": {},
   "outputs": [
    {
     "data": {
      "text/plain": [
       "3.1425916543395442"
      ]
     },
     "execution_count": 7,
     "metadata": {},
     "output_type": "execute_result"
    }
   ],
   "source": [
    "mipi(1000)"
   ]
  },
  {
   "cell_type": "code",
   "execution_count": 9,
   "metadata": {},
   "outputs": [
    {
     "data": {
      "text/plain": [
       "3.1415936535887745"
      ]
     },
     "execution_count": 9,
     "metadata": {},
     "output_type": "execute_result"
    }
   ],
   "source": [
    "mipi(big(1000000))"
   ]
  }
 ],
 "metadata": {
  "kernelspec": {
   "display_name": "Julia 0.5.2",
   "language": "julia",
   "name": "julia-0.5"
  },
  "language_info": {
   "file_extension": ".jl",
   "mimetype": "application/julia",
   "name": "julia",
   "version": "0.5.2"
  }
 },
 "nbformat": 4,
 "nbformat_minor": 2
}
