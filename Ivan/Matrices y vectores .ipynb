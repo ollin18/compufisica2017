{
 "cells": [
  {
   "cell_type": "code",
   "execution_count": 22,
   "metadata": {},
   "outputs": [
    {
     "data": {
      "text/plain": [
       "3×3 Array{Int64,2}:\n",
       " 1  2  3\n",
       " 3  4  5\n",
       " 7  8  9"
      ]
     },
     "execution_count": 22,
     "metadata": {},
     "output_type": "execute_result"
    }
   ],
   "source": [
    "A = [1 2 3; 3 4 5; 7 8 9]"
   ]
  },
  {
   "cell_type": "code",
   "execution_count": 23,
   "metadata": {
    "scrolled": true
   },
   "outputs": [
    {
     "data": {
      "text/plain": [
       "3×3 Array{Int64,2}:\n",
       " 1  5  3\n",
       " 9  3  0\n",
       " 3  6  2"
      ]
     },
     "execution_count": 23,
     "metadata": {},
     "output_type": "execute_result"
    }
   ],
   "source": [
    "B = [1 5 3; 9 3 0; 3 6 2]"
   ]
  },
  {
   "cell_type": "code",
   "execution_count": 29,
   "metadata": {},
   "outputs": [
    {
     "data": {
      "text/plain": [
       "ProdInt (generic function with 1 method)"
      ]
     },
     "execution_count": 29,
     "metadata": {},
     "output_type": "execute_result"
    }
   ],
   "source": [
    "function ProdInt(u,v)\n",
    "    if length(u) == length(v)\n",
    "        p = 0\n",
    "        for entrada in eachindex(v)\n",
    "            p += u[entrada]*v[entrada]\n",
    "        end\n",
    "        p\n",
    "    else\n",
    "        println(\"Error! Distintas dimensiones!\")\n",
    "    end\n",
    "end"
   ]
  },
  {
   "cell_type": "code",
   "execution_count": 30,
   "metadata": {},
   "outputs": [
    {
     "data": {
      "text/plain": [
       "mat_x_mat (generic function with 1 method)"
      ]
     },
     "execution_count": 30,
     "metadata": {},
     "output_type": "execute_result"
    }
   ],
   "source": [
    "function mat_x_mat(A,B)\n",
    "    ren_A = size(A)[1]\n",
    "    col_A = size(A)[2]\n",
    "    ren_B = size(B)[1]\n",
    "    col_B = size(B)[2]    \n",
    "    renglon_res = []\n",
    "    for renglonA in 1:ren_A\n",
    "        columna_res = []\n",
    "        columna_res = columna_res'\n",
    "        for columnaB in 1:col_B\n",
    "            columna_res=hcat(columna_res,ProdInt(A[renglonA,:],B[:,columnaB]))\n",
    "        end\n",
    "        renglon_res=vcat(renglon_res,columna_res)\n",
    "    end\n",
    "    renglon_res\n",
    "end"
   ]
  },
  {
   "cell_type": "code",
   "execution_count": 31,
   "metadata": {},
   "outputs": [
    {
     "ename": "LoadError",
     "evalue": "\u001b[91mDimensionMismatch(\"number of cols of each array must match (got 1 and 3)\")\u001b[39m",
     "output_type": "error",
     "traceback": [
      "\u001b[91mDimensionMismatch(\"number of cols of each array must match (got 1 and 3)\")\u001b[39m",
      "",
      "Stacktrace:",
      " [1] \u001b[1mvcat\u001b[22m\u001b[22m\u001b[1m(\u001b[22m\u001b[22m::Array{Any,1}, ::RowVector{Any,Array{Any,1}}\u001b[1m)\u001b[22m\u001b[22m at \u001b[1m./linalg/uniformscaling.jl:219\u001b[22m\u001b[22m",
      " [2] \u001b[1mmat_x_mat\u001b[22m\u001b[22m\u001b[1m(\u001b[22m\u001b[22m::Array{Int64,2}, ::Array{Int64,2}\u001b[1m)\u001b[22m\u001b[22m at \u001b[1m./In[30]:13\u001b[22m\u001b[22m",
      " [3] \u001b[1minclude_string\u001b[22m\u001b[22m\u001b[1m(\u001b[22m\u001b[22m::String, ::String\u001b[1m)\u001b[22m\u001b[22m at \u001b[1m./loading.jl:515\u001b[22m\u001b[22m"
     ]
    }
   ],
   "source": [
    "mat_x_mat(A,B)"
   ]
  },
  {
   "cell_type": "code",
   "execution_count": null,
   "metadata": {},
   "outputs": [],
   "source": []
  },
  {
   "cell_type": "code",
   "execution_count": 25,
   "metadata": {},
   "outputs": [
    {
     "data": {
      "text/plain": [
       "mat_x_vec (generic function with 1 method)"
      ]
     },
     "execution_count": 25,
     "metadata": {},
     "output_type": "execute_result"
    }
   ],
   "source": [
    "function mat_x_vec(A,v)\n",
    "    if size(A)[2] == length(v)\n",
    "        vector_resultante = zeros(size(A)[1])\n",
    "        for renglon in 1:size(A)[1]\n",
    "            entrada=0\n",
    "            for columna in 1:size(A)[2]\n",
    "                multiplicacion=A[renglon,columna]*v[columna]\n",
    "                entrada+=multiplicacion\n",
    "            end\n",
    "            vector_resultante[renglon] = entrada\n",
    "        end\n",
    "        vector_resultante\n",
    "    end\n",
    "end   "
   ]
  },
  {
   "cell_type": "code",
   "execution_count": null,
   "metadata": {},
   "outputs": [],
   "source": []
  }
 ],
 "metadata": {
  "kernelspec": {
   "display_name": "Julia 0.6.0",
   "language": "julia",
   "name": "julia-0.6"
  },
  "language_info": {
   "file_extension": ".jl",
   "mimetype": "application/julia",
   "name": "julia",
   "version": "0.6.0"
  }
 },
 "nbformat": 4,
 "nbformat_minor": 2
}
