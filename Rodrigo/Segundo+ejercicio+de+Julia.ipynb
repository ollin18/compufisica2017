{
 "cells": [
  {
   "cell_type": "markdown",
   "metadata": {},
   "source": [
    "# Calcular la combinatoria de n, en r"
   ]
  },
  {
   "cell_type": "code",
   "execution_count": 1,
   "metadata": {},
   "outputs": [
    {
     "data": {
      "text/plain": [
       "Comb (generic function with 1 method)"
      ]
     },
     "execution_count": 1,
     "metadata": {},
     "output_type": "execute_result"
    }
   ],
   "source": [
    "function Comb(n,r) #Se crea la funcion para la combinatoria\n",
    "    if n>r #Se pide que \"n\" sea mayor que r\n",
    "        c=0 #Se abre un contador que guarde la operación final\n",
    "        if n>=0 #Se pide como codicion que \"n\" sea mayor o igual a 0\n",
    "            i1=1 #Se establece una variable que guarde el factorial de n\n",
    "            k1=1 #Se establce un contador que vaya sacando el factorial de n\n",
    "            while n>=k1 #Se inicia un ciclo que termine hasta que k1 sea mayor que \"n\"\n",
    "                i1=i1*k1 #Se multiplica k1 por i1 para que el ciclo continue\n",
    "                k1+=1 #Se suma 1 para que el ciclo continue\n",
    "            end\n",
    "            if r>=0 #Se pide que \"r\" sea mayor o igual a 0\n",
    "                i2=1 #Se establece una variable que vaya guardando el factorial de \"r\"\n",
    "                k2=1 #Se establece un contador que vaya sacando el factorial de \"r\"\n",
    "                while r>=k2 #Se inicia el ciclo que termine hasta que \"k2\" sea mayor que \"r\"\n",
    "                    i2=i2*k2 #Se multiplica \"k2\" por \"i2\" para que el ciclo continue\n",
    "                    k2+=1 #sumamos 1 para que el ciclo continue\n",
    "                end\n",
    "                if (n-r)>=0 #Se pide que \"n-r\" sea mayor o igual a 0\n",
    "                    i=1 #Se establece una variable que guarde el factorial de \"n-r\"\n",
    "                    k3=1 #Se establece un contador que vaya sacando el factorial de \"n-r\"\n",
    "                    while (n-r)>=k3 #Se inicia el ciclo que terminara hasta que \"k3\" sea mayor que \"n-r\"\n",
    "                        i = i*k3 #Se multiplica \"k3\" por \"i\" para que el ciclo continue\n",
    "                        k3+=1 #Se suma 1 para que el ciclo continue\n",
    "                    end\n",
    "                end\n",
    "            end\n",
    "        end\n",
    "        c=i1/(i*i2) #c será igual a ese resultado, obtenido de i1,i2,i\n",
    "        print(c) #Para que imprima en pantalla \"c\"\n",
    "    else\n",
    "        print(\"r>n, al reves\") #Si \"r\" es menor que \"n\" que imprima \"r>n, al reves\"\n",
    "    end\n",
    "end"
   ]
  },
  {
   "cell_type": "code",
   "execution_count": 2,
   "metadata": {},
   "outputs": [
    {
     "name": "stdout",
     "output_type": "stream",
     "text": [
      "28.0"
     ]
    }
   ],
   "source": [
    "Comb(8,6)"
   ]
  },
  {
   "cell_type": "code",
   "execution_count": 3,
   "metadata": {},
   "outputs": [
    {
     "name": "stdout",
     "output_type": "stream",
     "text": [
      "r>n, al reves"
     ]
    }
   ],
   "source": [
    "Comb(5,7)"
   ]
  },
  {
   "cell_type": "code",
   "execution_count": null,
   "metadata": {},
   "outputs": [],
   "source": []
  }
 ],
 "metadata": {
  "kernelspec": {
   "display_name": "Julia 0.6.0",
   "language": "julia",
   "name": "julia-0.6"
  },
  "language_info": {
   "file_extension": ".jl",
   "mimetype": "application/julia",
   "name": "julia",
   "version": "0.6.0"
  }
 },
 "nbformat": 4,
 "nbformat_minor": 2
}
