{
 "cells": [
  {
   "cell_type": "markdown",
   "metadata": {},
   "source": [
    "<div class=\"alert alert-info\" role=\"alert\">\n",
    "<p class =\"lead\"> \n",
    "<h1>Suma de Matrices </h1>\n",
    "<h2> Computación </h2>\n",
    "<h2>Física, Facultad de Ciencias. UNAM </h2>\n",
    "<h3>Celeste Castro Granados</h3>\n",
    "</div>"
   ]
  },
  {
   "cell_type": "markdown",
   "metadata": {},
   "source": [
    "a) Vamos a escribir un programa que nos permita sumar dos matrices en $ ℝ^{2x2} $ en el cual el usuario será el que definirá cada entrada de las matrices."
   ]
  },
  {
   "cell_type": "markdown",
   "metadata": {},
   "source": [
    "Sean dos matrices $ A,B \\in m_{2x2} $, la suma de dos matrices está dada de la siguiente manera:\n",
    "\n",
    "$$ A_{2x2}+B_{2x2} = \n",
    "\\begin{pmatrix}\n",
    "a_{11} & a_{12} \\\\\n",
    "a_{21} & a_{22} \\\\\\end{pmatrix} \n",
    "+\n",
    "\\begin{pmatrix}\n",
    "b_{11} & b_{12}\\\\\n",
    "b_{21} & b_{22}\\\\\\end{pmatrix}=... $$ "
   ]
  },
  {
   "cell_type": "markdown",
   "metadata": {},
   "source": [
    "$$\n",
    "...=\\begin{pmatrix}\n",
    "a_{11}+b_{11} & a_{12}+b_{12}\\\\\n",
    "    a_{21}+b_{21} & a_{22}+b_{22}\\\\\\end{pmatrix}=C_{2x2} $$"
   ]
  },
  {
   "cell_type": "markdown",
   "metadata": {},
   "source": [
    "Para empezar vamos a definir los renglones i, j y un ciclo for que contenga a otro dentro de este para que recorra todos los componentes de la matriz."
   ]
  },
  {
   "cell_type": "code",
   "execution_count": 1,
   "metadata": {},
   "outputs": [
    {
     "data": {
      "text/plain": [
       "SumMat (generic function with 1 method)"
      ]
     },
     "execution_count": 1,
     "metadata": {},
     "output_type": "execute_result"
    }
   ],
   "source": [
    "function SumMat(A,B)\n",
    "    n=size(A) #Definimos n del tamaño de la matriz A\n",
    "    \n",
    "    if n !=size(B)\n",
    "        println(\"Las matrices deben ser de la misma dimensión\") #Esto va a suceder cuando las matrices no sean del mismo tamaño, no se va a realizar la operación\n",
    "    else\n",
    "        C=zeros(A) #Esta va a ser nuestra matriz resultante \n",
    "        i=1\n",
    "        j=1\n",
    "        for h ∈ 1:2 #Va a ir de 1 hasta 2 porque son matrices cuadradas\n",
    "            for m ∈ 1:2\n",
    "            C[i,j]=A[i,j]+B[i,j] #Decimos que la entrada i,j de C va a ser igual a la suma de la misma entrada en A + la misma entrada en B\n",
    "            i=i+1 #Aquí le decimos que vaya recorriendo renglón por renglón\n",
    "            end\n",
    "            i=1\n",
    "            j=j+1\n",
    "        end\n",
    "        C\n",
    "    end\n",
    "end      "
   ]
  },
  {
   "cell_type": "markdown",
   "metadata": {},
   "source": [
    "Una vez definida nuestra función, vamos a probarla con matrices aleatorias:"
   ]
  },
  {
   "cell_type": "code",
   "execution_count": 2,
   "metadata": {},
   "outputs": [
    {
     "data": {
      "text/plain": [
       "2×2 Array{Float64,2}:\n",
       " 0.318539  0.157457\n",
       " 0.626308  0.453926"
      ]
     },
     "execution_count": 2,
     "metadata": {},
     "output_type": "execute_result"
    }
   ],
   "source": [
    "A = rand(2,2)"
   ]
  },
  {
   "cell_type": "code",
   "execution_count": 3,
   "metadata": {},
   "outputs": [
    {
     "data": {
      "text/plain": [
       "2×2 Array{Float64,2}:\n",
       " 0.716896  0.353618\n",
       " 0.300358  0.444424"
      ]
     },
     "execution_count": 3,
     "metadata": {},
     "output_type": "execute_result"
    }
   ],
   "source": [
    "B = rand(2,2)"
   ]
  },
  {
   "cell_type": "code",
   "execution_count": 4,
   "metadata": {},
   "outputs": [
    {
     "data": {
      "text/plain": [
       "2×2 Array{Float64,2}:\n",
       " 1.03543   0.511075\n",
       " 0.926666  0.89835 "
      ]
     },
     "execution_count": 4,
     "metadata": {},
     "output_type": "execute_result"
    }
   ],
   "source": [
    "SumMat(A,B)"
   ]
  },
  {
   "cell_type": "markdown",
   "metadata": {},
   "source": [
    "Otro ejemplo:"
   ]
  },
  {
   "cell_type": "code",
   "execution_count": 5,
   "metadata": {},
   "outputs": [
    {
     "data": {
      "text/plain": [
       "2×2 Array{Int64,2}:\n",
       " 2  5\n",
       " 3  7"
      ]
     },
     "execution_count": 5,
     "metadata": {},
     "output_type": "execute_result"
    }
   ],
   "source": [
    "A=hcat([2,3],[5,7])"
   ]
  },
  {
   "cell_type": "code",
   "execution_count": 6,
   "metadata": {},
   "outputs": [
    {
     "data": {
      "text/plain": [
       "2×2 Array{Int64,2}:\n",
       " 4  8\n",
       " 2  5"
      ]
     },
     "execution_count": 6,
     "metadata": {},
     "output_type": "execute_result"
    }
   ],
   "source": [
    "B=hcat([4,2],[8,5])"
   ]
  },
  {
   "cell_type": "code",
   "execution_count": 7,
   "metadata": {},
   "outputs": [
    {
     "data": {
      "text/plain": [
       "2×2 Array{Int64,2}:\n",
       " 6  13\n",
       " 5  12"
      ]
     },
     "execution_count": 7,
     "metadata": {},
     "output_type": "execute_result"
    }
   ],
   "source": [
    "SumMat(A,B)"
   ]
  },
  {
   "cell_type": "markdown",
   "metadata": {},
   "source": [
    "Y un último ejemplo:"
   ]
  },
  {
   "cell_type": "code",
   "execution_count": 8,
   "metadata": {},
   "outputs": [
    {
     "data": {
      "text/plain": [
       "2×3 Array{Int64,2}:\n",
       " 2  5  9\n",
       " 3  7  1"
      ]
     },
     "execution_count": 8,
     "metadata": {},
     "output_type": "execute_result"
    }
   ],
   "source": [
    "A =hcat([2,3],[5,7],[9,1])"
   ]
  },
  {
   "cell_type": "code",
   "execution_count": 9,
   "metadata": {},
   "outputs": [
    {
     "data": {
      "text/plain": [
       "2×2 Array{Int64,2}:\n",
       "  2  5\n",
       " 11  3"
      ]
     },
     "execution_count": 9,
     "metadata": {},
     "output_type": "execute_result"
    }
   ],
   "source": [
    "B=hcat([2,11],[5,3])"
   ]
  },
  {
   "cell_type": "code",
   "execution_count": 10,
   "metadata": {},
   "outputs": [
    {
     "name": "stdout",
     "output_type": "stream",
     "text": [
      "Las matrices deben ser de la misma dimensión\n"
     ]
    }
   ],
   "source": [
    "SumMat(A,B)"
   ]
  },
  {
   "cell_type": "markdown",
   "metadata": {},
   "source": [
    "Y aquí observamos lo que sucede cuando las matrices no son de la misma dimensión."
   ]
  },
  {
   "cell_type": "markdown",
   "metadata": {},
   "source": [
    "**b) Para el caso generalizado definimos los renglones i, j y un ciclo for que considere las dimesiones de las matrices para repetirse i o j veces, este contendra a otro dentro ciclo for para que recorra todos los componentes de la matriz.**\n"
   ]
  },
  {
   "cell_type": "code",
   "execution_count": 11,
   "metadata": {},
   "outputs": [
    {
     "data": {
      "text/plain": [
       "SumaMat (generic function with 1 method)"
      ]
     },
     "execution_count": 11,
     "metadata": {},
     "output_type": "execute_result"
    }
   ],
   "source": [
    "function SumaMat(A,B)\n",
    "    n=size(A)\n",
    "    \n",
    "    if n !=size(B)\n",
    "        println(\"Las matrices deben de ser de la misma dimensión\")\n",
    "    else\n",
    "        C=zeros(A)\n",
    "        i=1\n",
    "        j=1\n",
    "        for h ∈ 1:n[2]\n",
    "            for m ∈ 1:n[1]\n",
    "            C[i,j]=A[i,j]+B[i,j]\n",
    "            i=i+1\n",
    "            end\n",
    "            i=1\n",
    "            j=j+1\n",
    "        end\n",
    "        C\n",
    "    end\n",
    "end      "
   ]
  },
  {
   "cell_type": "markdown",
   "metadata": {},
   "source": [
    "Ahora lo que vamos a hacer es probarlo con un ejemplo, en donde las entradas de las matrices se van a leer de un archivo, y posteriormente realizaremos la suma entre ellas."
   ]
  },
  {
   "cell_type": "markdown",
   "metadata": {},
   "source": [
    "Vamos a usar dos archivo llamados \"numeros.csv\" y \"numeros3.csv\", de los cuales obtendremos nuestros datos."
   ]
  },
  {
   "cell_type": "code",
   "execution_count": 12,
   "metadata": {},
   "outputs": [
    {
     "data": {
      "text/plain": [
       "10×5 Array{Float64,2}:\n",
       " 0.279112   0.603476    0.174542   0.949193   0.0184632\n",
       " 0.491553   0.429904    0.54561    0.0450827  0.240349 \n",
       " 0.423377   0.00218974  0.746105   0.672648   0.627589 \n",
       " 0.818008   0.876047    0.924085   0.614007   0.0527286\n",
       " 0.380846   0.0353204   0.926518   0.0885945  0.822851 \n",
       " 0.0299714  0.762       0.503472   0.568603   0.45383  \n",
       " 0.113166   0.925569    0.0800565  0.604007   0.257965 \n",
       " 0.803592   0.186209    0.416348   0.568096   0.954342 \n",
       " 0.795183   0.860483    0.069683   0.60982    0.921001 \n",
       " 0.667658   0.849752    0.793487   0.396402   0.926119 "
      ]
     },
     "execution_count": 12,
     "metadata": {},
     "output_type": "execute_result"
    }
   ],
   "source": [
    "Matriz1 = readdlm(\"numeros.csv\",'|')"
   ]
  },
  {
   "cell_type": "code",
   "execution_count": 13,
   "metadata": {},
   "outputs": [
    {
     "data": {
      "text/plain": [
       "10×5 Array{Float64,2}:\n",
       " 0.377741    0.193747  0.748039    0.29462   0.383843 \n",
       " 0.92103     0.797538  0.331989    0.641476  0.557273 \n",
       " 0.883586    0.300195  0.437535    0.993535  0.619089 \n",
       " 0.475396    0.45006   0.00652487  0.890546  0.0529748\n",
       " 0.319692    0.883792  0.247058    0.715374  0.185885 \n",
       " 0.731463    0.390556  0.616334    0.511008  0.603723 \n",
       " 0.827293    0.864427  0.043315    0.583696  0.33245  \n",
       " 0.882397    0.622723  0.466879    0.563903  0.0119117\n",
       " 0.0944181   0.306642  0.982249    0.611868  0.0324575\n",
       " 0.00512328  0.891741  0.19596     0.174805  0.632789 "
      ]
     },
     "execution_count": 13,
     "metadata": {},
     "output_type": "execute_result"
    }
   ],
   "source": [
    "Matriz2 = readdlm(\"numeros3.csv\",'|')"
   ]
  },
  {
   "cell_type": "markdown",
   "metadata": {},
   "source": [
    "Y finalmente procedemos a sumar nuestras dos matrices que vamos a definir como A y B mediante nuestra función."
   ]
  },
  {
   "cell_type": "code",
   "execution_count": 14,
   "metadata": {},
   "outputs": [
    {
     "data": {
      "text/plain": [
       "10×5 Array{Float64,2}:\n",
       " 0.279112   0.603476    0.174542   0.949193   0.0184632\n",
       " 0.491553   0.429904    0.54561    0.0450827  0.240349 \n",
       " 0.423377   0.00218974  0.746105   0.672648   0.627589 \n",
       " 0.818008   0.876047    0.924085   0.614007   0.0527286\n",
       " 0.380846   0.0353204   0.926518   0.0885945  0.822851 \n",
       " 0.0299714  0.762       0.503472   0.568603   0.45383  \n",
       " 0.113166   0.925569    0.0800565  0.604007   0.257965 \n",
       " 0.803592   0.186209    0.416348   0.568096   0.954342 \n",
       " 0.795183   0.860483    0.069683   0.60982    0.921001 \n",
       " 0.667658   0.849752    0.793487   0.396402   0.926119 "
      ]
     },
     "execution_count": 14,
     "metadata": {},
     "output_type": "execute_result"
    }
   ],
   "source": [
    "A = Matriz1"
   ]
  },
  {
   "cell_type": "code",
   "execution_count": 15,
   "metadata": {},
   "outputs": [
    {
     "data": {
      "text/plain": [
       "10×5 Array{Float64,2}:\n",
       " 0.377741    0.193747  0.748039    0.29462   0.383843 \n",
       " 0.92103     0.797538  0.331989    0.641476  0.557273 \n",
       " 0.883586    0.300195  0.437535    0.993535  0.619089 \n",
       " 0.475396    0.45006   0.00652487  0.890546  0.0529748\n",
       " 0.319692    0.883792  0.247058    0.715374  0.185885 \n",
       " 0.731463    0.390556  0.616334    0.511008  0.603723 \n",
       " 0.827293    0.864427  0.043315    0.583696  0.33245  \n",
       " 0.882397    0.622723  0.466879    0.563903  0.0119117\n",
       " 0.0944181   0.306642  0.982249    0.611868  0.0324575\n",
       " 0.00512328  0.891741  0.19596     0.174805  0.632789 "
      ]
     },
     "execution_count": 15,
     "metadata": {},
     "output_type": "execute_result"
    }
   ],
   "source": [
    "B = Matriz2"
   ]
  },
  {
   "cell_type": "code",
   "execution_count": 16,
   "metadata": {},
   "outputs": [
    {
     "data": {
      "text/plain": [
       "10×5 Array{Float64,2}:\n",
       " 0.656853  0.797223  0.922581  1.24381   0.402306\n",
       " 1.41258   1.22744   0.877599  0.686559  0.797622\n",
       " 1.30696   0.302385  1.18364   1.66618   1.24668 \n",
       " 1.2934    1.32611   0.93061   1.50455   0.105703\n",
       " 0.700537  0.919112  1.17358   0.803968  1.00874 \n",
       " 0.761434  1.15256   1.11981   1.07961   1.05755 \n",
       " 0.940459  1.79      0.123371  1.1877    0.590415\n",
       " 1.68599   0.808932  0.883228  1.132     0.966254\n",
       " 0.889601  1.16713   1.05193   1.22169   0.953458\n",
       " 0.672781  1.74149   0.989447  0.571207  1.55891 "
      ]
     },
     "execution_count": 16,
     "metadata": {},
     "output_type": "execute_result"
    }
   ],
   "source": [
    "SumaMat(A,B)"
   ]
  }
 ],
 "metadata": {
  "kernelspec": {
   "display_name": "Julia 0.6.0",
   "language": "julia",
   "name": "julia-0.6"
  },
  "language_info": {
   "file_extension": ".jl",
   "mimetype": "application/julia",
   "name": "julia",
   "version": "0.6.0"
  }
 },
 "nbformat": 4,
 "nbformat_minor": 2
}
