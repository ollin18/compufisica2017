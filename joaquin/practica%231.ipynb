{
 "cells": [
  {
   "cell_type": "markdown",
   "metadata": {},
   "source": [
    " <div class=\"alert alert-success\" role=\"alert\">\n",
    " <h1>EJERCICIOS DE PROGRAMACIÓN EN JULIA </h1>\n",
    " <h2>Computación</h2>\n",
    " <h2>Física, Facultad de Ciencias. UNAM </h2>\n",
    " <h3>Miranda Santiago Joaquin</h3>\n",
    " \n",
    " </div>"
   ]
  },
  {
   "cell_type": "markdown",
   "metadata": {},
   "source": [
    "## Ejercicio 1\n",
    "## a) calcular el promedio de de dos números a y b introducidos por le usuario "
   ]
  },
  {
   "cell_type": "code",
   "execution_count": 62,
   "metadata": {},
   "outputs": [
    {
     "data": {
      "text/plain": [
       "promedio (generic function with 1 method)"
      ]
     },
     "execution_count": 62,
     "metadata": {},
     "output_type": "execute_result"
    }
   ],
   "source": [
    "P=0\n",
    "function promedio(a,b) # donde a y b son números que el usuario de la función debe introducir \n",
    "    P = (a +b)/2\n",
    " end "
   ]
  },
  {
   "cell_type": "code",
   "execution_count": 63,
   "metadata": {},
   "outputs": [
    {
     "data": {
      "text/plain": [
       "7.5"
      ]
     },
     "execution_count": 63,
     "metadata": {},
     "output_type": "execute_result"
    }
   ],
   "source": [
    "# veamos un ejemplo\n",
    "promedio(5,10)"
   ]
  },
  {
   "cell_type": "markdown",
   "metadata": {},
   "source": [
    "## b) la suma desde 0 hasta n introducido por el usuario \n",
    "### Esta suma está defidina como:\n",
    "\n",
    "$\\displaystyle{\\sum_{i=1}^{N} i}$\n"
   ]
  },
  {
   "cell_type": "code",
   "execution_count": 64,
   "metadata": {},
   "outputs": [
    {
     "data": {
      "text/plain": [
       "suma_n (generic function with 1 method)"
      ]
     },
     "execution_count": 64,
     "metadata": {},
     "output_type": "execute_result"
    }
   ],
   "source": [
    "# definamos suma como la variable que contendra la suma de lo n primeros naturales \n",
    "function suma_n(n) # para esto usaremos un ciclo for \n",
    "   a = 0 # definimos a  como la variable que sera nuestro contador\n",
    "    suma = 0 \n",
    "    for i in 1:n \n",
    "    a+=1 \n",
    "    suma+=a\n",
    "    end\n",
    "    println(\"la suma de los primeros \", a, \" números naturales, es:\")\n",
    "    println(suma)\n",
    "    \n",
    "end\n",
    "\n",
    "    "
   ]
  },
  {
   "cell_type": "code",
   "execution_count": 65,
   "metadata": {},
   "outputs": [
    {
     "name": "stdout",
     "output_type": "stream",
     "text": [
      "la suma de los primeros 6 números naturales, es:\n",
      "21\n"
     ]
    }
   ],
   "source": [
    "# Ejemplo\n",
    "suma_n(6)"
   ]
  },
  {
   "cell_type": "markdown",
   "metadata": {},
   "source": [
    "## c) Calcular el factorial de un número introducido por el usuario"
   ]
  },
  {
   "cell_type": "code",
   "execution_count": 14,
   "metadata": {},
   "outputs": [
    {
     "data": {
      "text/plain": [
       "factorial (generic function with 1 method)"
      ]
     },
     "execution_count": 14,
     "metadata": {},
     "output_type": "execute_result"
    }
   ],
   "source": [
    "\n",
    "function factorial(n) # n es el número al que hay que colcular su factorial.\n",
    "    a=0\n",
    "    b=1\n",
    "    for i in 1:n \n",
    "       a =a+1 # a es la variable que nos sirve de contador, incrementa su valor en una unidad n veces \n",
    "        b=b*a # b actualiza su valor por el producto de su valor anterior por elvalor de a \n",
    "        end \n",
    "    println(\"El factorial de \",n,\", es:\")\n",
    "    println(b)\n",
    "end\n",
    "  \n",
    "    "
   ]
  },
  {
   "cell_type": "code",
   "execution_count": 15,
   "metadata": {},
   "outputs": [
    {
     "name": "stdout",
     "output_type": "stream",
     "text": [
      "El factorial de 5, es:\n",
      "120\n"
     ]
    }
   ],
   "source": [
    "#probemos la función factorial\n",
    "factorial(5)"
   ]
  },
  {
   "cell_type": "markdown",
   "metadata": {},
   "source": [
    "## d) Calcular la potencia de un número a a la ptencia b (a y b deben ser introducidos por le usuario) "
   ]
  },
  {
   "cell_type": "code",
   "execution_count": 68,
   "metadata": {},
   "outputs": [
    {
     "data": {
      "text/plain": [
       "potencia (generic function with 1 method)"
      ]
     },
     "execution_count": 68,
     "metadata": {},
     "output_type": "execute_result"
    }
   ],
   "source": [
    "function potencia(a,b)# donde a es la base y b es la potencia\n",
    "    p=1\n",
    "    for i in 1:b # b son las veces con la que se multiplicara el número a dentro del ciclo for \n",
    "         p*=a # aqui el valor de p se actuliza con un factor a , b veces \n",
    "    end\n",
    "    println(a,\" elevado al exponente \",b,\", es:\" )\n",
    "    println(p)\n",
    "end\n",
    "    "
   ]
  },
  {
   "cell_type": "code",
   "execution_count": 69,
   "metadata": {},
   "outputs": [
    {
     "name": "stdout",
     "output_type": "stream",
     "text": [
      "5 elevado al exponente 2, es:\n",
      "25\n"
     ]
    }
   ],
   "source": [
    "potencia(5,2)"
   ]
  },
  {
   "cell_type": "markdown",
   "metadata": {},
   "source": []
  }
 ],
 "metadata": {
  "kernelspec": {
   "display_name": "Julia 0.6.0",
   "language": "julia",
   "name": "julia-0.6"
  },
  "language_info": {
   "file_extension": ".jl",
   "mimetype": "application/julia",
   "name": "julia",
   "version": "0.6.0"
  }
 },
 "nbformat": 4,
 "nbformat_minor": 2
}
