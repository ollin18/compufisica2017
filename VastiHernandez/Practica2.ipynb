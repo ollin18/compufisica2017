{
 "cells": [
  {
   "cell_type": "markdown",
   "metadata": {},
   "source": [
    "Calcular la combinatoria de n, en z. Apóyate en la siguiente expresión\n",
    "\n",
    "$$\n",
    "C_{n}^{z} = ({ \\frac {n}{z} }) = { \\frac {n!}{(n-z)!z!} }\n",
    "$$\n",
    "Define para hacerlo una función factorial (usa en el inciso c, de la pregunta anterior). La idea es pedirle al usuario los valores de n y r."
   ]
  },
  {
   "cell_type": "code",
   "execution_count": 15,
   "metadata": {},
   "outputs": [
    {
     "name": "stderr",
     "output_type": "stream",
     "text": [
      "WARNING: Method definition fact(Any) in module Main at In[9]:2 overwritten at In[15]:2.\n"
     ]
    },
    {
     "data": {
      "text/plain": [
       "fact (generic function with 1 method)"
      ]
     },
     "execution_count": 15,
     "metadata": {},
     "output_type": "execute_result"
    }
   ],
   "source": [
    "function fact(N)\n",
    "    factm=0 ,
    "        if N==0 || N==1 #Sea \"N\" Igual a 0 o 1 el resultado debe ser 1\n",
    "        factm=1\n",
    "            else #En caso de que sea distinto de 0 o 1 deberá realizarce la siguiente operacion\n",
    "            factm=(N*(fact(N-1)))  #De esta manera la operacion se repitirá hasta el momento en el que  N sea 0\n",
    "        end \n",
    "end"
   ]
  },
  {
   "cell_type": "code",
   "execution_count": 10,
   "metadata": {},
   "outputs": [
    {
     "name": "stderr",
     "output_type": "stream",
     "text": [
      "WARNING: Method definition combi(Any, Any) in module Main at In[6]:2 overwritten at In[10]:2.\n"
     ]
    },
    {
     "data": {
      "text/plain": [
       "combi (generic function with 1 method)"
      ]
     },
     "execution_count": 10,
     "metadata": {},
     "output_type": "execute_result"
    }
   ],
   "source": [
    "function combi(n,r) #Aqui se deben aplicar dos valores, n y z \n",
    "    c=fact(n)/(fact(n-z)*fact(z)) #\"c\" sera nuestra variable del resultado y aplicamos la formula dada\n",
    "    println(c) #Imprimo par obtener el resultado de c\n",
    "end"
   ]
  },
  {
   "cell_type": "code",
   "execution_count": 16,
   "metadata": {},
   "outputs": [
    {
     "name": "stdout",
     "output_type": "stream",
     "text": [
      "4.0\n"
     ]
    }
   ],
   "source": [
    "combi(4,1)"
   ]
  },
  {
   "cell_type": "code",
   "execution_count": null,
   "metadata": {},
   "outputs": [],
   "source": []
  }
 ],
 "metadata": {
  "kernelspec": {
   "display_name": "Julia 0.5.2",
   "language": "julia",
   "name": "julia-0.5"
  },
  "language_info": {
   "file_extension": ".jl",
   "mimetype": "application/julia",
   "name": "julia",
   "version": "0.5.2"
  }
 },
 "nbformat": 4,
 "nbformat_minor": 2
}
