{
 "cells": [
  {
   "cell_type": "markdown",
   "metadata": {},
   "source": [
    "a) "
   ]
  },
  {
   "cell_type": "code",
   "execution_count": null,
   "metadata": {},
   "outputs": [],
   "source": [
    "function prod_esc3(u,v)#Creamos la función produc_esc3 para vecotres de R³\n",
    "    if length(u)==length(v)==3 # Comparamos el tamaño de los vectores,y que sean de 3 entradas\n",
    "        p= 0 #Definimos un contador\n",
    "        for i in 1:length(A)\n",
    "            p=p+(u[i]*[i]) #A el contador se le asigna el resultado\n",
    "        end\n",
    "        print(p) #Imprime el resultado \n",
    "    else\n",
    "        println(\"Error,los vectores deben de ser del mismo tamaño o iguales a 3\")#Si los vectores no cumplen la condicióm se imprimirá error\n",
    "    end\n",
    "end"
   ]
  },
  {
   "cell_type": "code",
   "execution_count": null,
   "metadata": {},
   "outputs": [],
   "source": [
    "A=[1,4,9]#Definimos un arreglo"
   ]
  },
  {
   "cell_type": "code",
   "execution_count": null,
   "metadata": {},
   "outputs": [],
   "source": [
    "B=[4,2,3]#Definimos el otro arreglo"
   ]
  },
  {
   "cell_type": "code",
   "execution_count": null,
   "metadata": {},
   "outputs": [],
   "source": [
    "prod_esc3(A,B)#Comprobamos que la función funcione"
   ]
  },
  {
   "cell_type": "markdown",
   "metadata": {},
   "source": [
    "b) "
   ]
  },
  {
   "cell_type": "code",
   "execution_count": null,
   "metadata": {},
   "outputs": [],
   "source": [
    "function prod_esc(u,v)\n",
    "    if length(u)==length(v)#Comparamos el tamaño de los vectores\n",
    "        p=0.0 #Definimos un contador\n",
    "        for i in 1:length(u) #Se crea el ciclo for\n",
    "            p=p+(u[i]*v[i]) #Se le asigna el resultado a el contador\n",
    "        end\n",
    "        print(p) #Nos imprimirá el resultado\n",
    "    else\n",
    "        println(\"Error,vectores de distinta dimensión\")#En caso de que los vectores sean de distinto tamaño\n",
    "    end\n",
    "end"
   ]
  },
  {
   "cell_type": "code",
   "execution_count": null,
   "metadata": {},
   "outputs": [],
   "source": [
    "u=[3,4,0,5,5,1]#Creamos un arreglo"
   ]
  },
  {
   "cell_type": "code",
   "execution_count": null,
   "metadata": {},
   "outputs": [],
   "source": [
    "v=[2,6,4,9,3,6]#Definimos otro arreglo de igual tamaño"
   ]
  },
  {
   "cell_type": "code",
   "execution_count": null,
   "metadata": {},
   "outputs": [],
   "source": [
    "q=[0,4,1,5,6,2,7]#Definimos un arreglo de diferente tamaño a u y v"
   ]
  },
  {
   "cell_type": "code",
   "execution_count": null,
   "metadata": {},
   "outputs": [],
   "source": [
    "prod_esc(u,v)#Probamos la función"
   ]
  },
  {
   "cell_type": "code",
   "execution_count": null,
   "metadata": {},
   "outputs": [],
   "source": [
    "prod_esc(v,q)#Probamos la función para vectores de distinto tamaño"
   ]
  }
 ],
 "metadata": {
  "kernelspec": {
   "display_name": "Julia 0.6.0",
   "language": "julia",
   "name": "julia-0.6"
  },
  "language_info": {
   "file_extension": ".jl",
   "mimetype": "application/julia",
   "name": "julia",
   "version": "0.6.0"
  }
 },
 "nbformat": 4,
 "nbformat_minor": 2
}
