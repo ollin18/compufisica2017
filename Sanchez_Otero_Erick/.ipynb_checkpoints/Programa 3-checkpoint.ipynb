{
 "cells": [
  {
   "cell_type": "code",
   "execution_count": 3,
   "metadata": {},
   "outputs": [
    {
     "data": {
      "text/plain": [
       "Aproxpi (generic function with 1 method)"
      ]
     },
     "execution_count": 3,
     "metadata": {},
     "output_type": "execute_result"
    }
   ],
   "source": [
    "#3\n",
    "function Aproxpi(N)\n",
    "    #Ponemos 0.0 para que sea un número float\n",
    "    q = 0.0\n",
    "    p = 0\n",
    "    #Lo haré con for, lo que quiere decir que para todos los números dentro del intervalo 0:N se aplicará la formula.\n",
    "    for n ∈ 0:N\n",
    "        q = q + (((-1)^n) / (2*n+1))\n",
    "    end\n",
    "    #Muy importante recordar que esto nos dará π/4, por lo que debemos de multiplicar el resultado por 4 para obtener π.\n",
    "    p = 4*q\n",
    "    println(p)\n",
    "end"
   ]
  },
  {
   "cell_type": "code",
   "execution_count": 4,
   "metadata": {},
   "outputs": [
    {
     "name": "stdout",
     "output_type": "stream",
     "text": [
      "3.1415916535897743\n"
     ]
    }
   ],
   "source": [
    "Aproxpi(999999)"
   ]
  }
 ],
 "metadata": {
  "kernelspec": {
   "display_name": "Julia 0.6.0",
   "language": "julia",
   "name": "julia-0.6"
  },
  "language_info": {
   "file_extension": ".jl",
   "mimetype": "application/julia",
   "name": "julia",
   "version": "0.6.0"
  }
 },
 "nbformat": 4,
 "nbformat_minor": 2
}
