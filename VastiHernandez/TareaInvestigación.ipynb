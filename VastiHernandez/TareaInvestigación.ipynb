{
 "cells": [
  {
   "cell_type": "markdown",
   "metadata": {},
   "source": [
    "\n",
    "<font size=\"8\" color=\"purple\" align=center >*Tarea Investigación* \n"
   ]
  },
  {
   "cell_type": "markdown",
   "metadata": {},
   "source": [
    "## Investigación sobre :\n",
    "###              1-: Que es un sistema de punto flotante\n",
    "###                            2-: Las diferencias entre sistemas operativos de 32 y 64 bits \n",
    "###                          3-: Que es ALU (unidad lógico matemática) y que es un algoritmo \n",
    "###                        4-: Que es la estabilidad de un algoritmo"
   ]
  },
  {
