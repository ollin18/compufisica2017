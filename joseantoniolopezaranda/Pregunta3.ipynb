{
 "cells": [
  {
   "cell_type": "code",
   "execution_count": 1,
   "metadata": {},
   "outputs": [
    {
     "data": {
      "text/plain": [
       "Sumapi (generic function with 1 method)"
      ]
     },
     "execution_count": 1,
     "metadata": {},
     "output_type": "execute_result"
    }
   ],
   "source": [
    "function Sumapi(n)\n",
    "    if n>0\n",
    "        i=0 #Aquí establecemos un contador donde guardaremos la suma que se irá ejecutando\n",
    "        k=0 #Este representara el valor que incrementará para que la suma se efectue con cada valor hasta n\n",
    "        while n>=k #Aquí se pide como condición que k=<n para que se cumpla el ciclo\n",
    "            i=i+((-1)^k)/(2k+1) #Aquí se suma al contador cada que k crece\n",
    "            k+=1 #Aquí le sumamos 1 a k para contiuar el ciclo\n",
    "            end \n",
    "        print(4i) #Pedimos que nos devuelva \"i\" una vez que el ciclo termine\n",
    "    else\n",
    "        print(\"Tú número es negativo\") #Pedimos que en caso de que n sea negativo nos devuelva esta respuesta\n",
    "    end\n",
    "end"
   ]
  },
  {
   "cell_type": "code",
   "execution_count": 2,
   "metadata": {},
   "outputs": [
    {
     "name": "stdout",
     "output_type": "stream",
     "text": [
      "2.666666666666667"
     ]
    }
   ],
   "source": [
    "Sumapi(1)"
   ]
  },
  {
   "cell_type": "code",
   "execution_count": 3,
   "metadata": {},
   "outputs": [
    {
     "name": "stdout",
     "output_type": "stream",
     "text": [
      "3.466666666666667"
     ]
    }
   ],
   "source": [
    "Sumapi(2)"
   ]
  },
  {
   "cell_type": "code",
   "execution_count": 4,
   "metadata": {},
   "outputs": [
    {
     "name": "stdout",
     "output_type": "stream",
     "text": [
      "2.8952380952380956"
     ]
    }
   ],
   "source": [
    "Sumapi(3)"
   ]
  },
  {
   "cell_type": "code",
   "execution_count": 5,
   "metadata": {},
   "outputs": [
    {
     "name": "stdout",
     "output_type": "stream",
     "text": [
      "3.232315809405594"
     ]
    }
   ],
   "source": [
    "Sumapi(10)"
   ]
  },
  {
   "cell_type": "code",
   "execution_count": 6,
   "metadata": {},
   "outputs": [
    {
     "name": "stdout",
     "output_type": "stream",
     "text": [
      "3.189184782277596"
     ]
    }
   ],
   "source": [
    "Sumapi(20)"
   ]
  },
  {
   "cell_type": "code",
   "execution_count": 7,
   "metadata": {},
   "outputs": [
    {
     "name": "stdout",
     "output_type": "stream",
     "text": [
      "3.1611986129870506"
     ]
    }
   ],
   "source": [
    "Sumapi(50)"
   ]
  },
  {
   "cell_type": "code",
   "execution_count": 9,
   "metadata": {},
   "outputs": [
    {
     "name": "stdout",
     "output_type": "stream",
     "text": [
      "3.1425916543395442"
     ]
    }
   ],
   "source": [
    "Sumapi(1000)"
   ]
  },
  {
   "cell_type": "code",
   "execution_count": 10,
   "metadata": {},
   "outputs": [
    {
     "data": {
      "text/plain": [
       "π = 3.1415926535897..."
      ]
     },
     "execution_count": 10,
     "metadata": {},
     "output_type": "execute_result"
    }
   ],
   "source": [
    "pi"
   ]
  },
  {
   "cell_type": "code",
   "execution_count": null,
   "metadata": {},
   "outputs": [],
   "source": []
  }
 ],
 "metadata": {
  "kernelspec": {
   "display_name": "Julia 0.5.2",
   "language": "julia",
   "name": "julia-0.5"
  },
  "language_info": {
   "file_extension": ".jl",
   "mimetype": "application/julia",
   "name": "julia",
   "version": "0.5.2"
  }
 },
 "nbformat": 4,
 "nbformat_minor": 2
}
