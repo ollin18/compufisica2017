{
 "cells": [
  {
   "cell_type": "markdown",
   "metadata": {},
   "source": [
    "<div class=\"alert alert-info\" role=\"alert\">\n",
    "<p class =\"lead\"> \n",
    "<h1> Multiplicación de Matrices</h1>\n",
    "<h3>Computación</h3> <h3>Física, Facultad de Ciencias. UNAM </h3>\n",
    "<h2>Ethan Campos Méndez</h2> </div>"
   ]
  },
  {
   "cell_type": "markdown",
   "metadata": {},
   "source": [
    "Primero multiplicaremos un vector por una matriz:"
   ]
  },
  {
   "cell_type": "code",
   "execution_count": 49,
   "metadata": {},
   "outputs": [
    {
     "data": {
      "text/plain": [
       "MatxVec (generic function with 1 method)"
      ]
     },
     "execution_count": 49,
     "metadata": {},
     "output_type": "execute_result"
    }
   ],
   "source": [
    "function MatxVec(A,v) #Definimos la matriz y el vector\n",
    "    if size(A)[2] == length(v) #Para poder hacer la multiplicación la columna debe ser del tamaño del vector.\n",
    "        x = zeros(size(A)[1]) \n",
    "        for i in 1:size(A)[1] #Para todas las entradas en el renglón   \n",
    "            a=0\n",
    "            for j in 1:size(A)[2] #Para todas lasentradas en la columna\n",
    "                y=A[i,j]*v[j] #Hacemos la multiplicación debida\n",
    "                a+=y\n",
    "            end\n",
    "            x[i] = a #Vamos sumando los datos\n",
    "        end\n",
    "       x #arrojamos el vector resultante \n",
    "    else\n",
    "        println(\"No se puede realizar la multiplicación, la columna de la matriz debe tener el tamaño del vector\")\n",
    "    end\n",
    "end          "
   ]
  },
  {
   "cell_type": "code",
   "execution_count": 50,
   "metadata": {},
   "outputs": [],
   "source": [
    "#Definimos el vector y la matriz\n",
    "v=(1.0, 2.0, 3.0)\n",
    "A=[1.0 2.0 3.0; 3.0 2.0 1.0; 2.0 1.0 3.0];"
   ]
  },
  {
   "cell_type": "code",
   "execution_count": 51,
   "metadata": {},
   "outputs": [
    {
     "data": {
      "text/plain": [
       "3-element Array{Float64,1}:\n",
       " 14.0\n",
       " 10.0\n",
       " 13.0"
      ]
     },
     "execution_count": 51,
     "metadata": {},
     "output_type": "execute_result"
    }
   ],
   "source": [
    "MatxVec(A,v)"
   ]
  },
  {
   "cell_type": "markdown",
   "metadata": {},
   "source": [
    "Ahora multipliquemos Matriz por Matriz: "
   ]
  },
  {
   "cell_type": "code",
   "execution_count": 61,
   "metadata": {},
   "outputs": [
    {
     "data": {
      "text/plain": [
       "MatxMat (generic function with 1 method)"
      ]
     },
     "execution_count": 61,
     "metadata": {},
     "output_type": "execute_result"
    }
   ],
   "source": [
    "function MatxMat(A,B) #Definimos las Matrices\n",
    "    if size(A)[2] == size(B)[1]  #Para poder hacer la multiplicación, la columa de A debe ser del tamaño de.\n",
    "        x = zeros(size(A)[1]) \n",
    "        for i in 1:size(A)[1] #Para todas las entradas en el renglón   \n",
    "            a=0\n",
    "            for j in 1:size(A)[2] #Para todas las entradas en la columna\n",
    "                y=A[i,j]*v[j] #Hacemos la multiplicación debida\n",
    "                a+=y\n",
    "                b=0\n",
    "                for k ∈ 1:size(B)[2]\n",
    "                   z=A[i,j]+B[i,k]*x[k,j] #Hacemos la multiplicación debida\n",
    "                   b+=z\n",
    "                end\n",
    "            end\n",
    "            x[i] = a #Vamos sumando los datos\n",
    "        end\n",
    "       x #arrojamos el vector resultante \n",
    "    end\n",
    "end         "
   ]
  },
  {
   "cell_type": "code",
   "execution_count": 62,
   "metadata": {},
   "outputs": [],
   "source": [
    "A=[1.0 2.0 3.0; 3.0 2.0 1.0; 2.0 1.0 3.0];\n",
    "B=[1.0 2.0 3.0; 3.0 2.0 1.0; 2.0 1.0 3.0];"
   ]
  },
  {
   "cell_type": "code",
   "execution_count": 63,
   "metadata": {},
   "outputs": [
    {
     "ename": "LoadError",
     "evalue": "\u001b[91mBoundsError: attempt to access 3-element Array{Float64,1} at index [1, 2]\u001b[39m",
     "output_type": "error",
     "traceback": [
      "\u001b[91mBoundsError: attempt to access 3-element Array{Float64,1} at index [1, 2]\u001b[39m",
      "",
      "Stacktrace:",
      " [1] \u001b[1mMatxMat\u001b[22m\u001b[22m\u001b[1m(\u001b[22m\u001b[22m::Array{Float64,2}, ::Array{Float64,2}\u001b[1m)\u001b[22m\u001b[22m at \u001b[1m./In[61]:11\u001b[22m\u001b[22m",
      " [2] \u001b[1minclude_string\u001b[22m\u001b[22m\u001b[1m(\u001b[22m\u001b[22m::String, ::String\u001b[1m)\u001b[22m\u001b[22m at \u001b[1m./loading.jl:515\u001b[22m\u001b[22m"
     ]
    }
   ],
   "source": [
    "MatxMat(A,B)"
   ]
  }
 ],
 "metadata": {
  "kernelspec": {
   "display_name": "Julia 0.6.0",
   "language": "julia",
   "name": "julia-0.6"
  },
  "language_info": {
   "file_extension": ".jl",
   "mimetype": "application/julia",
   "name": "julia",
   "version": "0.6.0"
  }
 },
 "nbformat": 4,
 "nbformat_minor": 2
}
