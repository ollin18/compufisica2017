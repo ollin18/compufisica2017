{
 "cells": [
  {
   "cell_type": "markdown",
   "metadata": {},
   "source": [
    "<div class=\"alert alert-info\" role=\"alert\"> \n",
    "<h1> Tarea #1: Investigación de conceptos relacionados a la computación </h1>\n",
    "<h2> Briones Andrade Joshua </h2>\n",
    "<h2> Computación, UNAM</h2> \n",
    "<h3> Correo electrónico: </h3>\n",
    "<p> JoshuaBriones@ciencias.unam.mx </p>\n",
    "</div>"
   ]
  },
  {
   "cell_type": "markdown",
   "metadata": {},
   "source": [
    "### 1. Investigar acerca de los siguientes conceptos en internet:\n",
    "+ Sistema de Punto Flotante\n",
    "+ Diferencia SO 32 bit/64 bit\n",
    "+ ALU\n",
    "+ Algorítmo y estabilidad"
   ]
  },
  {
   "cell_type": "markdown",
   "metadata": {},
   "source": [
    "## Sistema de Punto Flotante\n",
    "Para decirlo de manera sencilla, un sistema de punto flotante sirve para poder hacer poder hacer **cálculos de precisión** con números de ordenes de magnitud muy dispares o con números de una extension muy larga como los irracionales sin agotar la memoria de nuestro ordenador, un recurso a tomar en cuenta para los tiempos que utilice la computadora para arrojar datos del calculo en cuestión.\n",
    "\n",
    "Lo que el **Sistema de Punto Flotante** hace es descomponer al número en dos componentes en sitema binario (o tres) para poder trabajarlo de una manera mas sencilla en nuestro ordenador, estos componentes son:\n",
    "\n",
    "+ **Signo:**(opcional)\n",
    "Este es un solo bit de información que indicará si es positivo o negativo el número.\n",
    "\n",
    "\n",
    "+ **Un exponente:**\n",
    "Es una cadena de 8 bits que contiene el exponente por el que va a ser elevado el número, puede ser positivo o negativo para hacerlo grande o pequeño y tendra una base ya definida por defecto.\n",
    "\n",
    "\n",
    "+ **Una mantisa:**\n",
    "Van a ser los primeros digitos que componen al número en orden de mayor a menor con una extension de 23 bits para priorizar la precisión de las mediciones."
   ]
  },
  {
   "cell_type": "markdown",
   "metadata": {},
   "source": [
    "![punto_flotante](https://lh4.googleusercontent.com/MJ2mYPTroD8M2HcDf6cgUQDe9HJ476SttvxrxBUZ4ff8fdz5_U2XJeqB_hUJ36VeHRKZ5vv2nA75MCc=w1366-h639)"
   ]
  },
  {
   "cell_type": "markdown",
   "metadata": {},
   "source": [
    "![punto_flotante2](https://lh4.googleusercontent.com/MBqcueRtncB5626nEPtFagA2606V7juD0KeMfpvXxLrW-LxFqJY0fWaS5lSEke2C41zD4WqWxloSWHQ=w1366-h639)"
   ]
  },
  {
   "cell_type": "markdown",
   "metadata": {},
   "source": [
    "El Sistema de Punto Flotante surgió por la necesidad del computo científico se para hacer calculos entre números de magnitudes muy diferentes por lo que se necesita una alta precisión al momento de generar datos para evitar errores en los experimentos y/o mediciones.\n",
    "\n",
    "Un ejemplo: \n",
    ">Para un **ingeniero** construyendo una autopista, no importa si tiene 10 metros o 10.0001 metros de ancho ─ posiblemente ni siquiera sus mediciones eran así de precisas.\n",
    "\n",
    ">Para alguien diseñando un microchip, 0.0001 metros (la décima parte de un milímetro) es una diferencia enorme ─ pero nunca tendrá que manejar distancias mayores de 0.1 metros.\n",
    "\n",
    ">Un **físico** necesita usar la velocidad de la luz (más o menos 300000000) y la constante de gravitación universal (más o menos 0.0000000000667) juntas en el mismo cálculo.\n",
    "\n",
    "Para satisfacer al ingeniero y al diseñador de circuitos integrados, el formato tiene que ser preciso para números de órdenes de magnitud muy diferentes. Sin embargo, solo se necesita precisión relativa. Para satisfacer al físico, debe ser posible hacer cálculos que involucren números de órdenes muy dispares. **(1)**"
   ]
  },
  {
   "cell_type": "markdown",
   "metadata": {},
   "source": [
    "## Diferencias entre Sistemas Operativos de 32 bits y 64 bits\n",
    "\n",
    "+ ##### Limitaciones de Memoria:\n",
    "\n",
    "Los procesadores de 64 bits pueden direccionar teóricamente hasta 16 exabytes de memoria (actualmente admiten hasta 192 Gb), mientras que los procesadores de 32 bits sólo pueden direccionar 4 Gb de memoria RAM.\n",
    "\n",
    "\n",
    "+ ##### Sistemas operativos:\n",
    "\n",
    "Es importante tener en cuenta la compatibilidad del software de usuario, es decir los programas, y los controladores encargados de hacer funcionar el hardware. Antes de dar el salto de SO debemos estar seguros de que todo nuestro hardware como cámaras, escáners, impresoras y todo lo demás cuenten con una versión de 64 bits de sus controladores o bien que cuenten con controladores genéricos en dichos sistemas.\n",
    "\n",
    "Otra cosa que tenemos que tener en cuenta es que si queremos migrar a una arquitectura de 64 bits a partir de una versión  de 32 bits, no se podrá hacer mediante una actualización o parche, tendremos que comprar una versión específica para esa arquitectura. Si utilizamos un sistema operativo libre como Debian o sus derivados como Ubuntu, la migración no será problema debido al soporte a arquitecturas de 32 bits\n",
    "\n",
    "\n",
    "+ ##### Tamaño del conjunto de datos:\n",
    "\n",
    "La arquitectura de 64 bits también se puede referir al tamaño de las instrucciones dentro del conjunto de instrucciones o a cualquier otro elemento de datos (p.ej. las cantidades de 64 bits de coma flotante de doble precisión son comunes). Sin más calificaciones, sin embargo, la arquitectura de las computadoras de 64 bits tiene integrados registros que son de 64 bits, que permite procesar (interna y externamente) datos de 64 bits.\n",
    " Los registros en un procesador se dividen generalmente en tres grupos: enteros, coma flotantes ( números decimales ) y otros. En todos los procesadores de propósito general, sólo los registros enteros pueden almacenar punteros (una dirección de algún dato en memoria). Los registros que no son de enteros no se pueden utilizar para almacenar punteros para leer o escribir memoria y por tanto no se pueden utilizar para evitar cualesquiera restricciones impuestas por el tamaño de los registros enteros.\n",
    "\n",
    "\n",
    "+ ##### Alto Rendimiento:\n",
    "\n",
    "Debería notarse que la velocidad no es el único factor por considerar en una comparación de procesadores de 32 bits y 64 bits. Usos como la multitarea, las pruebas de carga y el clustering (para computación de alto rendimiento) pueden ser más idóneos para una arquitectura de 64 bits teniendo en cuenta un desarrollo correcto. Los clusters de 64 bits han sido ampliamente usados en grandes organizaciones como IBM, Vodafone, HP y Microsoft, por esta razón.\n",
    "\n",
    "Mientras las arquitecturas de 64 bits incontestablemente hacen más sencillo el trabajar con grandes conjuntos de datos en aplicaciones como el vídeo digital, computación científica y grandes bases de datos, ha habido un debate considerable sobre si los modos de compatibilidad con 32 bits serán más rápidos que los sistemas de 32 bits del mismo precio para otras tareas. En las arquitecturas x86-64 (AMD64 y EM64T, IA-32e), la mayoría de los sistemas operativos de 32 bits y aplicaciones pueden ejecutarse sin problemas en el hardware de 64 bits.\n",
    "\n"
   ]
  },
  {
   "cell_type": "markdown",
   "metadata": {
    "collapsed": false
   },
   "source": [
    "![64_32_bits](http://omicrono.elespanol.com/wp-content/uploads/2016/08/32-bit-y-64-bit.jpg)"
   ]
  },
  {
   "cell_type": "markdown",
   "metadata": {
    "collapsed": true
   },
   "source": [
    "## Arithmethic Logic Unit (ALU)\n",
    "\n",
    "La **Unidad Aritmético Lógica** es un circuito digital cuya función es realizar operaciones aritméticas entre dos números y las operaciones logicas entre dos valores, basicamente las operaciones que realiza son de dos tipos:\n",
    "\n",
    "|    Ariméticas    | Lógicas |\n",
    "|:----------------:|:-------:|\n",
    "|Adición +         |If,then  | \n",
    "|Sustracción -     |And      |\n",
    "|Multiplicación `*`|Or       |\n",
    "|División /        |Not ¬    |\n",
    "\n",
    "Una ALU puede encontrarse en todo tipo de circuitos y dispositivos electrónicos. Por ejemplo, en un complejo circuito de microprocesador moderno, en tarjetas gráficas, de sonido o video, equipos de TV de alta definición, y lectoras de CD.\n",
    "\n",
    "El esquema de una ALU en general incluye a A y B como operandos, R como salida, F como entrada de la unidad de control, y D como estado de la salida.\n",
    "\n",
    "La ALU se compone básicamente de: Circuito Operacional, Registros de Entradas, Registro Acumulador y un Registro de Estados, conjunto de registros que hacen posible la realización de cada una de las operaciones.\n",
    "\n",
    "La mayoría de las acciones de la computadora son realizadas por la ALU. La ALU toma datos de los registros del procesador. Estos datos son procesados y los resultados de esta operación se almacenan en los registros de salida de la ALU. Otros mecanismos mueven datos entre estos registros y la memoria.2​\n",
    "\n",
    "Una unidad de control controla a la ALU, al ajustar los circuitos que le señala a la ALU qué operaciones realizar.\n",
    "\n",
    "![ALU](https://upload.wikimedia.org/wikipedia/commons/thumb/8/82/ALU_symbol.svg/175px-ALU_symbol.svg.png)\n",
    "\n",
    "Una unidad de coma flotante, Floating Point Unit (FPU), también realiza operaciones aritméticas entre dos valores, pero lo hace para números en representación de coma flotante, que es mucho más complicada que la representación de complemento a dos usada comúnmente en una ALU. Para hacer estos cálculos, una FPU tiene incorporados varios circuitos complejos, incluyendo algunas ALU internas.\n",
    "\n",
    "Generalmente los ingenieros llaman ALU al circuito que realiza operaciones aritméticas en formatos de número entero (como complemento a dos y BCD), mientras que los circuitos que calculan en formatos más complejos como coma flotante, números complejos, etc., reciben generalmente un nombre más específico, como FPU.\n",
    "\n",
    "\n",
    "\n"
   ]
  },
  {
   "cell_type": "markdown",
   "metadata": {},
   "source": [
    "## Algorítmo y Estabilidad\n",
    "\n",
    "La estabilidad numérica es una propiedad de los algoritmos numéricos. Describe cómo los errores en los datos de entrada se propagan a través del algoritmo. En un método estable, los errores debidos a las aproximaciones se atenúan a medida que la computación procede. En un método inestable, cualquier error en el procesamiento se magnifica conforme el cálculo procede. Métodos inestables generan rápidamente anomalías y son inútiles para el procesamiento numérico.\n",
    "\n",
    "##### Idea intuitiva \n",
    "Un algoritmo es estable si, pequeños cambios en los datos de entrada, producen pequeños cambios en los datos de salida.\n",
    "\n",
    "Y por el contrario, un algoritmo es inestable si, pequeños cambios en los datos de entrada producen grandes cambios en los datos de salida.\n",
    "___\n",
    "##### Definición\n",
    "\n",
    "Dado un algoritmo f(x), con x los datos de entrada y ε el error en los datos de entrada, decimos que el algoritmo es numéricamente estable (es decir que el algoritmo depende continuamente de los parámetros) para el error absoluto si\n",
    "\n",
    "### $x-(x+\\epsilon )\\simeq f(x)-f(x+\\epsilon )$\n",
    "\n",
    "y numéricamente estable para el error relativo si\n",
    "\n",
    "## ${\\frac {x-(x+\\epsilon )}{x}}\\simeq {\\frac {f(x)-f(x+\\epsilon )}{f(x)}}$\n",
    "\n",
    "Decimos que un algoritmo es numéricamente inestable para el error absoluto si\n",
    "\n",
    "### ${\\displaystyle x-(x+\\epsilon )<<f(x)-f(x+\\epsilon )\\ }$\n",
    "\n",
    "y numéricamente inestable para el error relativo si\n",
    "\n",
    "## ${\\frac {x-(x+\\epsilon )}{x}}<<{\\frac {f(x)-f(x+\\epsilon )}{f(x)}}$\n",
    "\n",
    "Cuando se calculan soluciones numéricas a ciertas ecuaciones diferenciales parciales, la estabilidad se consigue algunas veces incluyendo la difusión numérica. La difusión numérica es un término matemático que asegura que errores de redondeo y de otro tipo en los cálculos se diseminen y no se sumen causando desbordes en el cálculo.\n",
    "\n",
    "La estabilidad numérica es la razón por la cual no se puede normalmente testear un código numérico como la simulación del clima corriéndolo hacia atrás. Correr el código hacia adelante incluye usualmente métodos numéricos para asegurar que los errores de aproximación aleatorios se vuelvan cada vez menos importantes a medida que el cálculo procede, asegurando la estabilidad numérica. Correr el código hacia atrás magnifica los errores generando resultados sin utilidad práctica.\n",
    "\n",
    "Cuando se resuelve un problema numérico con un método aproximado, dos tipos de errores pueden ocurrir:\n",
    "\n",
    "+ **Errores de truncamiento** debidos a la simplificación de procesos infinitos en un número finito de cálculos. Ejemplos: calcular una función trascendente usando su serie de Taylor, integrar usando una suma finita de rectángulos.\n",
    "\n",
    "\n",
    "+ **Errores de redondeo** generados al guardar u operar con precisión finita, por ejemplo al representar números irracionales o periódicos con un número limitado de cifras significativas, o al guardar en un ordenador la representación aproximada de un número, por no reposar la representación exacta de este número en punto flotante.\n"
   ]
  },
  {
   "cell_type": "markdown",
   "metadata": {
    "collapsed": true
   },
   "source": [
    "## Bibliografia:\n",
    "\n",
    "+ **(1)** tomado el 17/09/2017 de http://puntoflotante.org/formats/fp/\n",
    "+ [punto_flotante] y [punto_flotante2] tomadas el 17/09/2017 de Imagenemmc2.geofisica.unam.mx/cursos/mcst-2007-II/arch/SisNum.pdf\n",
    "+ Consultada el 18/09/2017: https://es.wikipedia.org/wiki/64_bits\n",
    "+ [64_32_bits] tomada el 18/09/2017: http://omicrono.elespanol.com/wp-content/uploads/2016/08/32-bit-y-64-bit.jpg\n",
    "+ Consultada el 18/09/2017: https://www.definicionabc.com/tecnologia/alu.php\n",
    "+ Consultada el 18/09/2017: https://es.wikipedia.org/wiki/Unidad_aritmética_lógica\n",
    "+ [ALU] tomada el 18/09/2017 de https://upload.wikimedia.org/wikipedia/commons/thumb/8/82/ALU_symbol.svg/175px-ALU_symbol.svg.png\n",
    "+ Consultada el 18/09/2017: https://es.wikipedia.org/wiki/Estabilidad_num%C3%A9rica\n"
   ]
  }
 ],
 "metadata": {
  "kernelspec": {
   "display_name": "Julia 0.5.2",
   "language": "julia",
   "name": "julia-0.5"
  },
  "language_info": {
   "file_extension": ".jl",
   "mimetype": "application/julia",
   "name": "julia",
   "version": "0.5.2"
  }
 },
 "nbformat": 4,
 "nbformat_minor": 2
}
