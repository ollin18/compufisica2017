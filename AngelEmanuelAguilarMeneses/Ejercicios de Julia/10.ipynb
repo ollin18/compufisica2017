{
 "cells": [
  {
   "cell_type": "code",
   "execution_count": 1,
   "metadata": {},
   "outputs": [
    {
     "data": {
      "text/plain": [
       "matvec (generic function with 1 method)"
      ]
     },
     "execution_count": 1,
     "metadata": {},
     "output_type": "execute_result"
    }
   ],
   "source": [
    "function matvec(m,v)\n",
    "    if size(m)[2] == length(v)#Comparamos que el tamaño del vetcor sea igual al número de renglones de la matriz\n",
    "        p= zeros(size(m)[1])#Hacemos un contador \n",
    "        for i in 1:size(m)[1]#Para cada elemento de los renglones de la matriz\n",
    "            l=0 # Guarda los renglones \n",
    "            for j in 1:size(m)[2] #Para cada elemento de las columnas d la amtriz\n",
    "                n=m[i,j]*v[j] #Se multiplicará el renglón por columna\n",
    "                l+=n#a l le sumamos el valor de l\n",
    "            end\n",
    "            p[i]=l #El contador es igual a el resultado\n",
    "        end\n",
    "        print(p) #Imprimimos el resultado \n",
    "    end\n",
    "end"
   ]
  },
  {
   "cell_type": "code",
   "execution_count": 2,
   "metadata": {},
   "outputs": [
    {
     "data": {
      "text/plain": [
       "3×3 Array{Int64,2}:\n",
       " 1  -9  8\n",
       " 3   4  6\n",
       " 1   5  0"
      ]
     },
     "execution_count": 2,
     "metadata": {},
     "output_type": "execute_result"
    }
   ],
   "source": [
    "A=[1 -9 8;3 4 6;1 5 0]#Definimos una matriz"
   ]
  },
  {
   "cell_type": "code",
   "execution_count": 3,
   "metadata": {},
   "outputs": [
    {
     "data": {
      "text/plain": [
       "3-element Array{Int64,1}:\n",
       " 1\n",
       " 4\n",
       " 9"
      ]
     },
     "execution_count": 3,
     "metadata": {},
     "output_type": "execute_result"
    }
   ],
   "source": [
    "u=[1,4,9]#Definimos un vector"
   ]
  },
  {
   "cell_type": "code",
   "execution_count": 4,
   "metadata": {},
   "outputs": [
    {
     "name": "stdout",
     "output_type": "stream",
     "text": [
      "[37.0, 73.0, 21.0]"
     ]
    }
   ],
   "source": [
    "matvec(A,u)#Comprobamos la función"
   ]
  },
  {
   "cell_type": "code",
   "execution_count": 5,
   "metadata": {},
   "outputs": [
    {
     "data": {
      "text/plain": [
       "multimat (generic function with 1 method)"
      ]
     },
     "execution_count": 5,
     "metadata": {},
     "output_type": "execute_result"
    }
   ],
   "source": [
    "function multimat(A,B)\n",
    "    if size(A)[2]== size(B)[1]#Comparamos el tamaño de las matrices \n",
    "        k= zeros(size(A)[1],size(B)[2])#Creamos un contador para almacenar el mismo resultado \n",
    "        for i in 1:size(A)[1]#Iniciamos el  ciclo for \n",
    "            l=1 #Marcamos las columnas de B\n",
    "            while l<=size(A)[1] #Mientras las columnas de B sean menor o iguales a los renglones de A\n",
    "                m=0 #Abrimos un contador que almacena el resultado de n\n",
    "                for j in 1:size(B)[1]#Para los renglones de b \n",
    "                    n=A[i,j]*B[j,l]#Multiplicamos i con cada j \n",
    "                    m+=n #Se suman los resultados de n\n",
    "                end\n",
    "                k[i,l]=m #m e s cada i*j\n",
    "                l+=1 #Recorremos la matriz de 1 en 1 \n",
    "            end\n",
    "        end\n",
    "        print(k) # Imprimimos el resultado \n",
    "    end\n",
    "end"
   ]
  },
  {
   "cell_type": "code",
   "execution_count": 6,
   "metadata": {},
   "outputs": [
    {
     "data": {
      "text/plain": [
       "3×3 Array{Int64,2}:\n",
       " 1   8  5\n",
       " 4  -4  5\n",
       " 3  -2  7"
      ]
     },
     "execution_count": 6,
     "metadata": {},
     "output_type": "execute_result"
    }
   ],
   "source": [
    "A= [1 8 5; 4 -4 5; 3 -2 7]#Creamos una matriz"
   ]
  },
  {
   "cell_type": "code",
   "execution_count": 7,
   "metadata": {},
   "outputs": [
    {
     "data": {
      "text/plain": [
       "3×3 Array{Int64,2}:\n",
       " 1  7  -4\n",
       " 6  3  -1\n",
       " 0  4   2"
      ]
     },
     "execution_count": 7,
     "metadata": {},
     "output_type": "execute_result"
    }
   ],
   "source": [
    "B=[1 7 -4; 6 3 -1;  0 4 2]"
   ]
  },
  {
   "cell_type": "code",
   "execution_count": 8,
   "metadata": {},
   "outputs": [
    {
     "name": "stdout",
     "output_type": "stream",
     "text": [
      "[49.0 51.0 -2.0; -20.0 36.0 -2.0; -9.0 43.0 4.0]"
     ]
    }
   ],
   "source": [
    "multimat(A,B)#Comprobamos la función"
   ]
  },
  {
   "cell_type": "code",
   "execution_count": null,
   "metadata": {},
   "outputs": [],
   "source": []
  }
 ],
 "metadata": {
  "kernelspec": {
   "display_name": "Julia 0.6.0",
   "language": "julia",
   "name": "julia-0.6"
  },
  "language_info": {
   "file_extension": ".jl",
   "mimetype": "application/julia",
   "name": "julia",
   "version": "0.6.0"
  }
 },
 "nbformat": 4,
 "nbformat_minor": 2
}
