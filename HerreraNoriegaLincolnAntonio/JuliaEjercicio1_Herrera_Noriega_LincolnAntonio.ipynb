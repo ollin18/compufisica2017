{
 "cells": [
  {
   "cell_type": "markdown",
   "metadata": {},
   "source": [
    "a) Calcular el valor promedio de dos numeros introducidos por el usuario"
   ]
  },
  {
   "cell_type": "code",
   "execution_count": 12,
   "metadata": {},
   "outputs": [
    {
     "data": {
      "text/plain": [
       "promedio (generic function with 1 method)"
      ]
     },
     "execution_count": 12,
     "metadata": {},
     "output_type": "execute_result"
    }
   ],
   "source": [
    "function promedio(a,b)            # Definimos la función que realizará el promedio\n",
    "    p = (a+b)/2                   # Asignamos a la variable p el valor del promedio calcuado por operadores aritméticos\n",
    "print(\"El promedio es $p\")        # Entregar al usuario el volumen \n",
    "    end                           # Finalizar la función"
   ]
  },
  {
   "cell_type": "code",
   "execution_count": 13,
   "metadata": {},
   "outputs": [
    {
     "name": "stdout",
     "output_type": "stream",
     "text": [
      "El promedio es 0.5"
     ]
    }
   ],
   "source": [
    "promedio(0,1)"
   ]
  },
  {
   "cell_type": "markdown",
   "metadata": {},
   "source": [
    "b) Obtener la suma desde 0 hasta un número $n$ introducido por el usuario:"
   ]
  },
  {
   "cell_type": "code",
   "execution_count": 14,
   "metadata": {},
   "outputs": [
    {
     "data": {
      "text/plain": [
       "suma (generic function with 1 method)"
      ]
     },
     "execution_count": 14,
     "metadata": {},
     "output_type": "execute_result"
    }
   ],
   "source": [
    "function suma(n)               # Definimos la función que realizará la suma\n",
    "    s=0                        # Definimos la variable para realizar la suma\n",
    "    for i ∈ 0:1:n              # Ciclo for con el contador desde 0 hasta n con tamaño de intervalo 1\n",
    "        s= i + s               # Realiza la suma entre la variable y cada elemento del contador\n",
    "    end                    # Finalizar el ciclo for\n",
    "print(\"La suma es $s\") # Imprimir el resultado\n",
    "end                        # Finalizar la función"
   ]
  },
  {
   "cell_type": "code",
   "execution_count": 15,
   "metadata": {},
   "outputs": [
    {
     "name": "stdout",
     "output_type": "stream",
     "text": [
      "La suma es 5050"
     ]
    }
   ],
   "source": [
    "suma(100)"
   ]
  },
  {
   "cell_type": "markdown",
   "metadata": {},
   "source": [
    "c) Calcular el factorial de un numero introducido por el usuario"
   ]
  },
  {
   "cell_type": "code",
   "execution_count": 21,
   "metadata": {},
   "outputs": [
    {
     "data": {
      "text/plain": [
       "mifactorial (generic function with 1 method)"
      ]
     },
     "execution_count": 21,
     "metadata": {},
     "output_type": "execute_result"
    }
   ],
   "source": [
    "function mifactorial(n)\n",
    "    f=1                           # definimos la variable y asignamos su valor de 1 en caso de n=0\n",
    "    for i ∈ 1:n                   # definimos el rango del contador con tamaño de intervalo default\n",
    "        f=f*i                     # realizamos la multiplicación de f por cada elemento del contador\n",
    "    end\n",
    "print(\"El factorial es $f\")\n",
    "end"
   ]
  },
  {
   "cell_type": "code",
   "execution_count": 22,
   "metadata": {},
   "outputs": [
    {
     "name": "stdout",
     "output_type": "stream",
     "text": [
      "El factorial es 1"
     ]
    }
   ],
   "source": [
    "mifactorial(0)"
   ]
  },
  {
   "cell_type": "markdown",
   "metadata": {},
   "source": [
    "d) Calcular la potencia de un número $a$ elevado a una potencia introducida por el usuario."
   ]
  },
  {
   "cell_type": "code",
   "execution_count": 23,
   "metadata": {},
   "outputs": [
    {
     "data": {
      "text/plain": [
       "Pot (generic function with 1 method)"
      ]
     },
     "execution_count": 23,
     "metadata": {},
     "output_type": "execute_result"
    }
   ],
   "source": [
    "function Pot(a,b)\n",
    "    p=1\n",
    "    for i ∈ 1:b\n",
    "        p=a*p\n",
    "    end\n",
    "print(\"El número $a elevado a la $b potencia es: $p \")\n",
    "end"
   ]
  },
  {
   "cell_type": "code",
   "execution_count": 24,
   "metadata": {},
   "outputs": [
    {
     "name": "stdout",
     "output_type": "stream",
     "text": [
      "El número 2 elevado a la 3 potencia es: 8 "
     ]
    }
   ],
   "source": [
    "Pot(2,3)"
   ]
  }
 ],
 "metadata": {
  "kernelspec": {
   "display_name": "Julia 0.6.0",
   "language": "julia",
   "name": "julia-0.6"
  },
  "language_info": {
   "file_extension": ".jl",
   "mimetype": "application/julia",
   "name": "julia",
   "version": "0.6.0"
  }
 },
 "nbformat": 4,
 "nbformat_minor": 2
}
