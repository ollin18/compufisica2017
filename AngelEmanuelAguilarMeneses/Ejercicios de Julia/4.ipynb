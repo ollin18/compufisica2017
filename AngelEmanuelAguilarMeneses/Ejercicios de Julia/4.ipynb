{
 "cells": [
  {
   "cell_type": "markdown",
   "metadata": {},
   "source": [
    "Esta es la expresión de una serie que sea aproxima a e\n",
    "$\\displaystyle{\\sum_{n=0}^{\\infty} \\dfrac{1}{n!}} = e $"
   ]
  },
  {
   "cell_type": "code",
   "execution_count": 1,
   "metadata": {},
   "outputs": [
    {
     "data": {
      "text/plain": [
       "factorial (generic function with 1 method)"
      ]
     },
     "execution_count": 1,
     "metadata": {},
     "output_type": "execute_result"
    }
   ],
   "source": [
    "function factorial(n)#Creamos la función factorial\n",
    "    if n==0\n",
    "        return 1\n",
    "        else \n",
    "        n*(Float64(big(factorial(n-1))))\n",
    "    end\n",
    "end"
   ]
  },
  {
   "cell_type": "code",
   "execution_count": 2,
   "metadata": {},
   "outputs": [
    {
     "data": {
      "text/plain": [
       "aproxe (generic function with 1 method)"
      ]
     },
     "execution_count": 2,
     "metadata": {},
     "output_type": "execute_result"
    }
   ],
   "source": [
    "function aproxe(N)#Creamos la función aproxe\n",
    "    suma = 0 #Se define el contador\n",
    "    for n ∈ 0:N\n",
    "        suma = suma + (Float64(big(1))/(Float64(big(factorial(n)))))#A suma se le asigna el valor de la operación\n",
    "    end\n",
    "    print(suma)#La función nos regresará el valor de suma\n",
    "end"
   ]
  },
  {
   "cell_type": "code",
   "execution_count": 3,
   "metadata": {},
   "outputs": [
    {
     "name": "stdout",
     "output_type": "stream",
     "text": [
      "2.7182818284590455"
     ]
    }
   ],
   "source": [
    "aproxe(28)#Se prueba la función"
   ]
  },
  {
   "cell_type": "code",
   "execution_count": 4,
   "metadata": {},
   "outputs": [
    {
     "name": "stdout",
     "output_type": "stream",
     "text": [
      "2.7182818284590455"
     ]
    }
   ],
   "source": [
    "aproxe(40)"
   ]
  },
  {
   "cell_type": "code",
   "execution_count": null,
   "metadata": {},
   "outputs": [],
   "source": []
  }
 ],
 "metadata": {
  "kernelspec": {
   "display_name": "Julia 0.6.0",
   "language": "julia",
   "name": "julia-0.6"
  },
  "language_info": {
   "file_extension": ".jl",
   "mimetype": "application/julia",
   "name": "julia",
   "version": "0.6.0"
  }
 },
 "nbformat": 4,
 "nbformat_minor": 2
}
