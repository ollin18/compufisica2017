{
 "cells": [
  {
   "cell_type": "markdown",
   "metadata": {},
   "source": [
    "### Martínez Ibarra Hugo\n",
    "***\n",
    "### Computación <p style=\"text-align:right\">Grupo 8381\n",
    "## <p style=\"color:darkblue;text-align:center\">Ejercicio #4"
   ]
  },
  {
   "cell_type": "markdown",
   "metadata": {},
   "source": [
    "Siguiendo la siguiente serie:\n",
    "$$\\displaystyle{\\sum_{i=0}^{\\infty}}\\dfrac{1}{n!}=e$$\n",
    "Escribe un programa que calcule diferentes aproximaciones de e para diferentes valores. Apóyate en tu función factorial definida en la pregunta 2."
   ]
  },
  {
   "cell_type": "code",
   "execution_count": 1,
   "metadata": {},
   "outputs": [
    {
     "data": {
      "text/plain": [
       "facto (generic function with 1 method)"
      ]
     },
     "execution_count": 1,
     "metadata": {},
     "output_type": "execute_result"
    }
   ],
   "source": [
    "#Se retoma la función factorial construida en el ejercicio 2.\n",
    "function facto(r)\n",
    "    if r==0\n",
    "        1\n",
    "    else\n",
    "        r*facto(r-1)\n",
    "    end\n",
    "end"
   ]
  },
  {
   "cell_type": "code",
   "execution_count": 2,
   "metadata": {},
   "outputs": [
    {
     "data": {
      "text/plain": [
       "numeroe (generic function with 1 method)"
      ]
     },
     "execution_count": 2,
     "metadata": {},
     "output_type": "execute_result"
    }
   ],
   "source": [
    "#Se aproximará el número e mediante la serie previamente expuesta. \n",
    "#Se definió la función numeroe en la se que comenzó estableciendo la variable sum que guardará el valor acumulado de la suma. Luego se inició un ciclo for que repetirá la instrucción en su interior k+1 veces (desde cero hasta k; el número de términos deseados de la serie); dicha instrucción consiste en que el término correspondiente de la serie, 1/i!, donde i es el contador que corresponde a cada término de la seri se sume al valor anterior de sum. Luego al final del ciclo se imprime el último valor de la suma que ya contiene el valor acumulado de la adición de todos los términos de la serie.\n",
    "function numeroe(k)\n",
    "    sum=0.0\n",
    "    for i ∈ 0.0:k\n",
    "        sum=sum+(1/facto(i))\n",
    "    end\n",
    "    print(sum)\n",
    "end"
   ]
  },
  {
   "cell_type": "code",
   "execution_count": 3,
   "metadata": {},
   "outputs": [
    {
     "name": "stdout",
     "output_type": "stream",
     "text": [
      "2.718281828458994464285469576474867480158485449490740496031501322506613511904582  0.262261 seconds (57.52 k allocations: 3.244 MiB, 34.85% gc time)\n"
     ]
    }
   ],
   "source": [
    "#Se prueba el algoritmo y se pide con @time que se visualize el tiempo de cálculo.\n",
    "@time numeroe(big(15))"
   ]
  },
  {
   "cell_type": "code",
   "execution_count": null,
   "metadata": {},
   "outputs": [],
   "source": []
  }
 ],
 "metadata": {
  "kernelspec": {
   "display_name": "Julia 0.6.0",
   "language": "julia",
   "name": "julia-0.6"
  },
  "language_info": {
   "file_extension": ".jl",
   "mimetype": "application/julia",
   "name": "julia",
   "version": "0.6.0"
  }
 },
 "nbformat": 4,
 "nbformat_minor": 2
}
