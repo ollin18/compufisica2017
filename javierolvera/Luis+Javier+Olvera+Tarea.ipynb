{
 "cells": [
  {
   "cell_type": "markdown",
   "metadata": {},
   "source": [
    "# TAREA\n",
    "## Computación\n",
    "***\n",
    "Física, UNAM\n",
    "###### Luis Javier Olvera Vázquez"
   ]
  },
  {
   "cell_type": "markdown",
   "metadata": {},
   "source": [
    "## ¿Qué es un sistema de punto flotante?\n",
    "***\n",
    "La representación de punto flotante (en inglés floating point, que significa «punto flotante») es una forma de notación científica usada en los microprocesadores con la cual se pueden representar números racionales extremadamente grandes y pequeños de una manera muy eficiente y compacta, y con la que se pueden realizar operaciones aritméticas. El estándar para la representación en punto flotante es el IEEE 754.\n",
    "\n",
    "\n",
    "[Fuente](https://es.wikipedia.org/wiki/Coma_flotante)"
   ]
  },
  {
   "cell_type": "markdown",
   "metadata": {},
   "source": [
    "## Diferencia entre sistemas operativos de 32 y de 64 bits.\n",
    "***\n",
    "Existen sistemas operativos de 32 bits y de 64 bits, los cuales corresponden con la arquitectura del procesador, de 32 y 64 bits respectivamente siendo esta la forma más eficiente. Haciendo un cálculo exponencial, un procesador de 32 bits nos da 4.294.967.296 valores posibles, mientras que uno de 64 bits nos ofrece un abanico de 18.446.744.073.709.551.616 valores, lo que supone un gran número de bits con los que poder trabajar (esta operación podemos verificarla como se presenta más abajo).\n",
    "\n",
    "Un sistema operativo de 32 bits tiene más limitaciones, la principal que sólo admite 4 GB de memoria RAM. Aumentar la cantidad de memoria de acceso aleatorio más allá de esta cifra no tiene mucho impacto en el rendimiento, pero en un sistema de 64 bits sí es bastante apreciable.\n",
    "\n",
    "[Fuente](https://www.genbeta.com/a-fondo/sistemas-operativos-de-32-y-64-bits-cual-es-la-diferencia)\n"
   ]
  },
  {
   "cell_type": "code",
   "execution_count": 18,
   "metadata": {
    "collapsed": false
   },
   "outputs": [
    {
     "name": "stdout",
     "output_type": "stream",
     "text": [
      "2 elevado a la 32 = 4294967296\n"
     ]
    }
   ],
   "source": [
    "p = 1\n",
    "for i ∈ 1:32\n",
    "    p = p*2\n",
    "end\n",
    "println(\"2 elevado a la 32 = $p\")"
   ]
  },
  {
   "cell_type": "code",
   "execution_count": 19,
   "metadata": {
    "collapsed": false
   },
   "outputs": [
    {
     "name": "stdout",
     "output_type": "stream",
     "text": [
      "2 elevado a la 62 = 4611686018427387904\n"
     ]
    }
   ],
   "source": [
    "b = 2\n",
    "e = 62\n",
    "p = 1\n",
    "for i ∈ 1:e\n",
    "    p = p*b\n",
    "end\n",
    "println(\"$b elevado a la $e = $p\")"
   ]
  },
  {
   "cell_type": "markdown",
   "metadata": {
    "collapsed": true
   },
   "source": [
    "## ¿Qué es una ALU?\n",
    "***\n",
    "En computación, la unidad aritmética lógica o unidad aritmético-lógica, también conocida como ALU (siglas en inglés de arithmetic logic unit), es un circuito digital que calcula operaciones aritméticas (como suma, resta, multiplicación, etc.) y operaciones lógicas (si, y, o, no), entre valores (generalmente uno o dos) de los argumentos.\n",
    "\n",
    "Muchos tipos de circuitos electrónicos necesitan realizar algún tipo de operación aritmética. Por mucho, los circuitos electrónicos más complejos son los que están construidos dentro de los chips de microprocesadores modernos. Por lo tanto, estos procesadores tienen dentro de ellos un ALU muy complejo y potente. De hecho, un microprocesador moderno (y los mainframes) puede tener múltiples núcleos, cada núcleo con múltiples unidades de ejecución, cada una de ellas con múltiples ALU.\n",
    "\n",
    "La ALU se compone básicamente de: Circuito Operacional, Registros de Entradas, Registro Acumulador y un Registro de Estados, conjunto de registros que hacen posible la realización de cada una de las operaciones.\n",
    "\n",
    "![Símbolo de la ALU](ttps://es.wikipedia.org/wiki/Unidad_aritmética_lógica#/media/File:ALU_symbol.svg)\n",
    "\n",
    "La mayoría de las acciones de la computadora son realizadas por la ALU. La ALU toma datos de los registros del procesador. Estos datos son procesados y los resultados de esta operación se almacenan en los registros de salida de la ALU. Otros mecanismos mueven datos entre estos registros y la memoria.2​\n",
    "\n",
    "Una unidad de control controla a la ALU, al ajustar los circuitos que le señala a la ALU qué operaciones realizar.\n",
    "\n",
    "La mayoría de las ALU pueden realizar las siguientes operaciones:\n",
    "\n",
    "* Operaciones aritméticas de números enteros (adición, sustracción, y a veces multiplicación y división, aunque esto es más complejo)\n",
    "* Operaciones lógicas de bits (AND, NOT, OR, XOR, XNOR)\n",
    "* Operaciones de desplazamiento de bits (Desplazan o rotan una palabra en un número específico de bits hacia la izquierda o la derecha, con o sin extensión de signo). Los desplazamientos pueden ser interpretados como multiplicaciones o divisiones por 2.\n",
    "\n",
    "[Fuente](https://es.wikipedia.org/wiki/Unidad_aritm%C3%A9tica_l%C3%B3gica)"
   ]
  },
  {
   "cell_type": "markdown",
   "metadata": {
    "collapsed": true
   },
   "source": [
    "## Algoritmos y Estabilidad\n",
    "***\n",
    "En el subcampo matemático del análisis numérico, la estabilidad numérica es una propiedad de los algoritmos numéricos. Describe cómo los errores en los datos de entrada se propagan a través del algoritmo. En un método estable, los errores debidos a las aproximaciones se atenúan a medida que la computación procede. En un método inestable, cualquier error en el procesamiento se magnifica conforme el cálculo procede. Métodos inestables generan rápidamente anomalías y son inútiles para el procesamiento numérico.\n",
    "\n",
    "La estabilidad numérica de un método junto con el número condición (en:condition number) define cuán buen resultado podemos obtener usando métodos aproximados para calcular cierto problema matemático.\n",
    "\n",
    "Algunas veces un sólo cálculo puede ser logrado de varias maneras, que pueden ser algebraicamente idénticas en términos de números reales o complejos, pero que en la práctica producen resultados diferentes según varían los niveles de estabilidad numérica. Una de las tareas comunes del análisis numérico es tratar de seleccionar algoritmos robustos: esto es, que tienen una buena estabilidad numérica en un amplio intervalo (range) de situaciones. Estos métodos están frecuentemente disponibles para usuarios de lenguajes de programación como bibliotecas de computación matemática (ver mathematical computing libraries). El uso apropiado de bibliotecas de computación matemática es usualmente muy superior a algoritmos numéricos \"caseros\".\n",
    "\n",
    "### Definición:\n",
    "\n",
    "Dado un algoritmo f(x), con x los datos de entrada y ε el error en los datos de entrada, decimos que el algoritmo es numéricamente estable (es decir que el algoritmo depende continuamente de los parámetros) para el error absoluto si\n",
    "\n",
    "${\\displaystyle x-(x+\\epsilon )\\simeq f(x)-f(x+\\epsilon )}$\n",
    "\n",
    "y numéricamente estable para el error relativo si\n",
    "\n",
    "${\\displaystyle {\\frac {x-(x+\\epsilon )}{x}}\\simeq {\\frac {f(x)-f(x+\\epsilon )}{f(x)}}}$\n",
    "\n",
    "Decimos que un algoritmo es numéricamente inestable para el error absoluto si\n",
    "\n",
    "${\\displaystyle x-(x+\\epsilon )<<f(x)-f(x+\\epsilon )\\ }$\n",
    "\n",
    "y numéricamente inestable para el error relativo si\n",
    "\n",
    "${\\displaystyle {\\frac {x-(x+\\epsilon )}{x}}<<{\\frac {f(x)-f(x+\\epsilon )}{f(x)}}}$\n",
    "\n",
    "[Fuente](https://es.wikipedia.org/wiki/Estabilidad_num%C3%A9rica)"
   ]
  }
 ],
 "metadata": {
  "kernelspec": {
   "display_name": "Julia 0.5.2",
   "language": "julia",
   "name": "julia-0.5"
  },
  "language_info": {
   "file_extension": ".jl",
   "mimetype": "application/julia",
   "name": "julia",
   "version": "0.5.2"
  }
 },
 "nbformat": 4,
 "nbformat_minor": 2
}
