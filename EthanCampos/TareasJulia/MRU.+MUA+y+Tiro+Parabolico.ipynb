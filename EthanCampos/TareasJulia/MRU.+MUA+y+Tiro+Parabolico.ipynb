{
 "cells": [
  {
   "cell_type": "markdown",
   "metadata": {},
   "source": [
    "<div class=\"alert alert-info\" role=\"alert\">\n",
    "<p class =\"lead\"> \n",
    "<h1> MRU, MUA, Tiro Parabólico </h1>\n",
    "<h3>Computación</h3> <h3>Física, Facultad de Ciencias. UNAM </h3>\n",
    "<h2>Ethan Campos Méndez</h2> </div>"
   ]
  },
  {
   "cell_type": "markdown",
   "metadata": {},
   "source": [
    "## Movimiento Rectilíneo Uniforme ##\n",
    "Usaremos la fórmula posición que está en función del tiempo:\n",
    "\n",
    "$$ x=x_i+vt $$\n",
    "\n",
    "$x$ *es la posición según el tiempo, $x_i$ la posición inicial, $v$ la velocidad y $t$ el tiempo.*"
   ]
  },
  {
   "cell_type": "markdown",
   "metadata": {},
   "source": [
    "Crearemos una función para el MRU."
   ]
  },
  {
   "cell_type": "code",
   "execution_count": 10,
   "metadata": {},
   "outputs": [
    {
     "data": {
      "text/plain": [
       "MRU (generic function with 1 method)"
      ]
     },
     "execution_count": 10,
     "metadata": {},
     "output_type": "execute_result"
    }
   ],
   "source": [
    "function MRU(x1,v,ti,tf,tint)#Agregamos las variables, posición inicial, velocidad, tiempo inicial, tiempo final y el intervalo.\n",
    "    t=collect(ti:tint:tf) #Intervalo de tiempo\n",
    "    x=zeros(size(t)) #Para que haya una x por cada t\n",
    "    for i ∈ eachindex(t)\n",
    "    x[i]=x1+v*t[i] \n",
    "    resultados=hcat(t,x) #Guardamos los resultados\n",
    "        writedlm(\"MRU.csv\", resultados, '|') #Envíamos estos resultados a un archivo .csv\n",
    "    end\n",
    "end"
   ]
  },
  {
   "cell_type": "code",
   "execution_count": 11,
   "metadata": {},
   "outputs": [],
   "source": [
    "MRU(0,20,0,15,1)"
   ]
  },
  {
   "cell_type": "code",
   "execution_count": 12,
   "metadata": {},
   "outputs": [
    {
     "name": "stdout",
     "output_type": "stream",
     "text": [
      "0|0\n",
      "1|20\n",
      "2|40\n",
      "3|60\n",
      "4|80\n",
      "5|100\n",
      "6|120\n",
      "7|140\n",
      "8|160\n",
      "9|180\n",
      "10|200\n",
      "11|220\n",
      "12|240\n",
      "13|260\n",
      "14|280\n",
      "15|300\n"
     ]
    }
   ],
   "source": [
    ";cat MRU.csv"
   ]
  },
  {
   "cell_type": "markdown",
   "metadata": {},
   "source": [
    "## Movimiento Uniformemente Acelerado ##"
   ]
  },
  {
   "cell_type": "markdown",
   "metadata": {},
   "source": [
    "Usaremos la formula de velocidad final porqué está en función del tiempo, que es la sigueinte:\n",
    "$$ {V_f}= {V_i} + at $$ "
   ]
  },
  {
   "cell_type": "markdown",
   "metadata": {},
   "source": [
    "$V_f$ *es la velocidad final*, $V_i$ *Es la velocidad inicial*, $a$ *La acelaración* y $t$ *el tiempo*"
   ]
  },
  {
   "cell_type": "code",
   "execution_count": 13,
   "metadata": {},
   "outputs": [
    {
     "data": {
      "text/plain": [
       "MUA (generic function with 1 method)"
      ]
     },
     "execution_count": 13,
     "metadata": {},
     "output_type": "execute_result"
    }
   ],
   "source": [
    "function MUA(v1,a,ti,tf,tint)#Agregamos las variables, velocidad inicial, aceleracióm, tiempo inicial, tiempo final y el intérvalo.\n",
    "    t=collect(ti:tint:tf) #El intervalo de tiempo\n",
    "    v=zeros(size(t)) #Esto es para que haya una v para cada t\n",
    "    for i ∈ eachindex(t)\n",
    "    v[i]=v1+a*t[i] #Hacemos la multipliación.\n",
    "    variables=hcat(t,v) #Lo guardamos\n",
    "        writedlm(\"MUA.csv\", variables, '|') #Enviamos a un archivo .csv los resultados. \n",
    "    end\n",
    "end"
   ]
  },
  {
   "cell_type": "code",
   "execution_count": 14,
   "metadata": {},
   "outputs": [],
   "source": [
    "MUA(20,9.81,1,10,1)"
   ]
  },
  {
   "cell_type": "code",
   "execution_count": 15,
   "metadata": {},
   "outputs": [
    {
     "name": "stdout",
     "output_type": "stream",
     "text": [
      "1|29.810000000000002\n",
      "2|39.620000000000005\n",
      "3|49.43\n",
      "4|59.24\n",
      "5|69.05000000000001\n",
      "6|78.86\n",
      "7|88.67\n",
      "8|98.48\n",
      "9|108.29\n",
      "10|118.10000000000001\n"
     ]
    }
   ],
   "source": [
    ";cat MUA.csv"
   ]
  },
  {
   "cell_type": "markdown",
   "metadata": {},
   "source": [
    "## Tiro Parabólico ##\n",
    "\n",
    "Usaremosla formula de posición respecto al tiempo del tiro parabólico:\n",
    "$$\n",
    "\\textbf{x} = (v_{0x}t+x_0)\\hat{i} + \\left(-\\frac{1}{2}gt^2+v_{0y}t+y_0\\right)\\hat{j}\n",
    "$$\n"
   ]
  },
  {
   "cell_type": "markdown",
   "metadata": {},
   "source": [
    "*Dónde $x$ es la posición, $v_0$ la velocidad inicial ($x$ o $y$), $x_0$ posición inicial en $x$, $t$ tiempo, $g$ gravedad, $y_0$ posición inicial en $y$*"
   ]
  },
  {
   "cell_type": "markdown",
   "metadata": {},
   "source": [
    "Haremos la función:"
   ]
  },
  {
   "cell_type": "code",
   "execution_count": 16,
   "metadata": {},
   "outputs": [
    {
     "data": {
      "text/plain": [
       "TiroParabólico (generic function with 1 method)"
      ]
     },
     "execution_count": 16,
     "metadata": {},
     "output_type": "execute_result"
    }
   ],
   "source": [
    "function TiroParabólico(v0x,v0y,x0,y0,ti,tf,tint) #Ingresamos las variables\n",
    "    g=9.81 #La gravedad la dejamos como constante\n",
    "    t=collect(ti:tint:tf) #El intervalo de tiempo\n",
    "    x=zeros(size(t)) #Esto es para que haya una x para cada t\n",
    "    for i ∈ eachindex(t)\n",
    "    x[i]=(v0x*t[i]+x0)+((-1/2)*g*t[i]^2+v0y*t[i]+y0)\n",
    "        resultados=hcat(t,x) #Lo guardamos\n",
    "        writedlm(\"TiroParabólico.csv\", resultados, '|') #Enviamos a un archivo .csv los resultados. \n",
    "    end\n",
    "end"
   ]
  },
  {
   "cell_type": "code",
   "execution_count": 17,
   "metadata": {},
   "outputs": [],
   "source": [
    "TiroParabólico(1.5,2.2,0.0,0.0,0.0,15.0,1.0)"
   ]
  },
  {
   "cell_type": "code",
   "execution_count": 18,
   "metadata": {},
   "outputs": [
    {
     "name": "stdout",
     "output_type": "stream",
     "text": [
      "0|0\n",
      "1|-1.205\n",
      "2|-12.22\n",
      "3|-33.045\n",
      "4|-63.68000000000001\n",
      "5|-104.125\n",
      "6|-154.38000000000002\n",
      "7|-214.445\n",
      "8|-284.32\n",
      "9|-364.005\n",
      "10|-453.5\n",
      "11|-552.805\n",
      "12|-661.9200000000001\n",
      "13|-780.845\n",
      "14|-909.58\n",
      "15|-1048.125\n"
     ]
    }
   ],
   "source": [
    ";cat TiroParabólico.csv"
   ]
  }
 ],
 "metadata": {
  "kernelspec": {
   "display_name": "Julia 0.6.0",
   "language": "julia",
   "name": "julia-0.6"
  },
  "language_info": {
   "file_extension": ".jl",
   "mimetype": "application/julia",
   "name": "julia",
   "version": "0.6.0"
  }
 },
 "nbformat": 4,
 "nbformat_minor": 2
}
