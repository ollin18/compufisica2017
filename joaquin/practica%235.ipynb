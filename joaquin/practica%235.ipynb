{
 "cells": [
  {
   "cell_type": "markdown",
   "metadata": {},
   "source": [
    "<div class=\"alert alert-danger\" role=\"alert\">\n",
    "<h1>Ejercicios de programación en julia</h1>\n",
    "<h2>COMPUTACIÓN</h2>\n",
    "<h2>FÍSICA,FACULTAD DE CIENCIAS, UNAM </h2>\n",
    "<h3>JOAQUIN MIRANDA SANTIAGO</h3>\n",
    "</div>"
   ]
  },
  {
   "cell_type": "markdown",
   "metadata": {},
   "source": [
    "# Ejercicio 5\n",
    "## 5.1 Calcular las raices de un polinomio cuadrático. El usuario debe proporcionar los coeficientes de la ecuación de segundo grado."
   ]
  },
  {
   "cell_type": "markdown",
   "metadata": {},
   "source": [
    "### Hagamos una función que saque las raices de una ecuanción de la forma $ax^2+bx+c$"
   ]
  },
  {
   "cell_type": "code",
   "execution_count": 18,
   "metadata": {},
   "outputs": [
    {
     "data": {
      "text/plain": [
       "raices (generic function with 1 method)"
      ]
     },
     "execution_count": 18,
     "metadata": {},
     "output_type": "execute_result"
    }
   ],
   "source": [
    "function raices(a,b,c) #a,b y c son los coeficientes de la ecuación cuandratica\n",
    "    x=0\n",
    "    x1=0\n",
    "    x2=0\n",
    "    if b*b-4*a*c==0 # si el discriminate b^2-4ac es cero, entonces, la ecuación tiene una unica solución\n",
    "        b^2-4*a*c  \n",
    "        x=-b/2*a\n",
    "        println(\"La ecuacio tiene una unica solucion y su valor es: \",x)\n",
    "    elseif b*b-4*a*c>=0# si el discriminate b^2-4ac es mayor a cero, entonces, la ecuación tiene dos soluciones reales diferentes\n",
    "        x1=(-b + (sqrt(b*b-4*a*c)))/(2*a)\n",
    "       x2=(-b - (sqrt(b*b-4*a*c)))/(2*a)\n",
    "         println(\"La ecuacio tiene dos soluciones reales, una es x1=:\",x1,\"y la otra es: x2=\",x2)\n",
    "        else #si el dicriminante es negativo, entonces las soluciones son complejas\n",
    "        x1=(-b + (sqrt(complex(b*b-4*a*c))))/(2*a)\n",
    "        x2=(-b - (sqrt(complex(b*b-4*a*c))))/(2*a)\n",
    "        println(\"Las soluciones de la ecuación son imaginarias, estas son:\")\n",
    "        println(\"x1=\",x1,\" y\")\n",
    "        println(\"x2=\",x2)        \n",
    "     end\n",
    "    end   "
   ]
  },
  {
   "cell_type": "markdown",
   "metadata": {},
   "source": [
    "### ejemplos"
   ]
  },
  {
   "cell_type": "code",
   "execution_count": 19,
   "metadata": {},
   "outputs": [
    {
     "name": "stdout",
     "output_type": "stream",
     "text": [
      "La ecuacio tiene una unica solucion y su valor es: -1.0\n"
     ]
    }
   ],
   "source": [
    "\n",
    "raices(1,2,1)"
   ]
  },
  {
   "cell_type": "code",
   "execution_count": 20,
   "metadata": {},
   "outputs": [
    {
     "name": "stdout",
     "output_type": "stream",
     "text": [
      "La ecuacio tiene dos soluciones reales, una es x1=:2.0y la otra es: x2=-2.0\n"
     ]
    }
   ],
   "source": [
    "raices(1,0,-4)"
   ]
  },
  {
   "cell_type": "code",
   "execution_count": 21,
   "metadata": {},
   "outputs": [
    {
     "name": "stdout",
     "output_type": "stream",
     "text": [
      "Las soluciones de la ecuación son imaginarias, estas son:\n",
      "x1=0.0 + 2.0im y\n",
      "x2=0.0 - 2.0im\n"
     ]
    }
   ],
   "source": [
    "raices(1,0,4)"
   ]
  },
  {
   "cell_type": "raw",
   "metadata": {},
   "source": []
  }
 ],
 "metadata": {
  "kernelspec": {
   "display_name": "Julia 0.6.0",
   "language": "julia",
   "name": "julia-0.6"
  },
  "language_info": {
   "file_extension": ".jl",
   "mimetype": "application/julia",
   "name": "julia",
   "version": "0.6.0"
  }
 },
 "nbformat": 4,
 "nbformat_minor": 2
}
