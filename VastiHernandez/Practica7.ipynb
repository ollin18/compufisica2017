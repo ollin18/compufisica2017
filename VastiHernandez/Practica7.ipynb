{
 "cells": [
  {
   "cell_type": "markdown",
   "metadata": {},
   "source": [
    "a) Escribe un programa que sume dos vectores en  $ R^{3} $ , el usuario debe insertar las entradas de los vectores. "
   ]
  },
  {
   "cell_type": "code",
   "execution_count": 1,
   "metadata": {},
   "outputs": [
    {
     "data": {
      "text/plain": [
       "s (generic function with 1 method)"
      ]
     },
     "execution_count": 1,
     "metadata": {},
     "output_type": "execute_result"
    }
   ],
   "source": [
    "function s(A,B)\n",
    "    if length(A)==length(B)==3 #como se dijo en la practica anterior, esto plantea que el tamaño de los vectores debe ser 3\n",
    "        C=[0,0,0] \n",
    "        for i in eachindex(A) \n",
    "            C[i]=(A[i]+B[i]) #Esta es la operacion que se realizara por cada renglon \"i\"\n",
    "        end\n",
    "    else \n",
    "        print(\"Tus vectores deben ser de tamaño 3\") #Cuando no tenga el tamaño de 3\n",
    "    end\n",
    "    print(C) #Imprimir, lo que dará lugar el resultado\n",
    "end"
   ]
  },
  {
   "cell_type": "code",
   "execution_count": 2,
   "metadata": {},
   "outputs": [
    {
     "data": {
      "text/plain": [
       "3-element Array{Int64,1}:\n",
       " 2\n",
       " 1\n",
       " 0"
      ]
     },
     "execution_count": 2,
     "metadata": {},
     "output_type": "execute_result"
    }
   ],
   "source": [
    "y=[2,1,0]"
   ]
  },
  {
   "cell_type": "code",
   "execution_count": 3,
   "metadata": {},
   "outputs": [
    {
     "data": {
      "text/plain": [
       "3-element Array{Int64,1}:\n",
       " 3\n",
       " 6\n",
       " 9"
      ]
     },
     "execution_count": 3,
     "metadata": {},
     "output_type": "execute_result"
    }
   ],
   "source": [
    "x=[3,6,9]"
   ]
  },
  {
   "cell_type": "code",
   "execution_count": 5,
   "metadata": {},
   "outputs": [
    {
     "name": "stdout",
     "output_type": "stream",
     "text": [
      "[5,7,9]"
     ]
    }
   ],
   "source": [
    "s(x,y)"
   ]
  },
  {
   "cell_type": "markdown",
   "metadata": {},
   "source": [
    "b) Escribe  un programa que sume dos vectores en  $ R^{n} $  las entradas de los vectores deben leerse de un archivo de datos. (recuerda que esto solo tiene sentido si los vectores a sumar son de la misma dimensión)."
   ]
  },
  {
   "cell_type": "code",
   "execution_count": 6,
   "metadata": {},
   "outputs": [
    {
     "data": {
      "text/plain": [
       "suma2 (generic function with 1 method)"
      ]
     },
     "execution_count": 6,
     "metadata": {},
     "output_type": "execute_result"
    }
   ],
   "source": [
    "function suma2(A,B)\n",
    "    if length(A)==length(B) #como se dijo en ejercicio anterior, esto plantea las magnitudes de los vectores, en este caso ambos deben ser iguales ambos vectores\n",
    "        t=length(A)\n",
    "        u= Array{Float64}(t) #Creamos un Vector que tenga el mismo tamaño de A\n",
    "        for i in eachindex(u) #Se va a sumar un número a un número de un vector a otro\n",
    "            u[i]=(A[i]+B[i]) #Se hara la suma de cada i-ésimo número de A con cada i-ésimo numero de B\n",
    "        end\n",
    "        print(u) \n",
    "    else\n",
    "        print(\"Los vectores tienen diferente tamaño\") #Cuando los vectores no son iguales en tamaño\n",
    "    end\n",
    "end"
   ]
  },
  {
   "cell_type": "code",
   "execution_count": 7,
   "metadata": {},
   "outputs": [
    {
     "data": {
      "text/plain": [
       "8-element Array{Int64,1}:\n",
       " 1\n",
       " 2\n",
       " 3\n",
       " 4\n",
       " 5\n",
       " 6\n",
       " 7\n",
       " 8"
      ]
     },
     "execution_count": 7,
     "metadata": {},
     "output_type": "execute_result"
    }
   ],
   "source": [
    "l=[1,2,3,4,5,6,7,8]"
   ]
  },
  {
   "cell_type": "code",
   "execution_count": 8,
   "metadata": {},
   "outputs": [
    {
     "data": {
      "text/plain": [
       "8-element Array{Int64,1}:\n",
       " 8\n",
       " 7\n",
       " 6\n",
       " 5\n",
       " 4\n",
       " 3\n",
       " 2\n",
       " 1"
      ]
     },
     "execution_count": 8,
     "metadata": {},
     "output_type": "execute_result"
    }
   ],
   "source": [
    "m=[8,7,6,5,4,3,2,1]"
   ]
  },
  {
   "cell_type": "code",
   "execution_count": 9,
   "metadata": {},
   "outputs": [
    {
     "name": "stdout",
     "output_type": "stream",
     "text": [
      "[9.0,9.0,9.0,9.0,9.0,9.0,9.0,9.0]"
     ]
    }
   ],
   "source": [
    "suma2(l,m)"
   ]
  },
  {
   "cell_type": "code",
   "execution_count": null,
   "metadata": {},
   "outputs": [],
   "source": []
  }
 ],
 "metadata": {
  "kernelspec": {
   "display_name": "Julia 0.5.2",
   "language": "julia",
   "name": "julia-0.5"
  },
  "language_info": {
   "file_extension": ".jl",
   "mimetype": "application/julia",
   "name": "julia",
   "version": "0.5.2"
  }
 },
 "nbformat": 4,
 "nbformat_minor": 2
}
