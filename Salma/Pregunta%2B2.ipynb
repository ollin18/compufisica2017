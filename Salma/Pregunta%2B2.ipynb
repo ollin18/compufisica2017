{
 "cells": [
  {
   "cell_type": "markdown",
   "metadata": {},
   "source": [
    "Calcular la combinatoria de n, en r. Apóyate en la siguiente expresión\n",
    "\n",
    "$$\n",
    "C_{n}^{r} = ({ \\frac {n}{r} }) = { \\frac {n!}{(n-r)!r!} }\n",
    "$$\n",
    "Define para hacerlo una función factorial (usa en el inciso c, de la pregunta anterior). La idea es pedirle al usuario los valores de n y r."
   ]
  },
  {
   "cell_type": "code",
   "execution_count": 1,
   "metadata": {},
   "outputs": [
    {
     "data": {
      "text/plain": [
       "fact (generic function with 1 method)"
      ]
     },
     "execution_count": 1,
     "metadata": {},
     "output_type": "execute_result"
    }
   ],
   "source": [
    "function fact(N)\n",
    "    factm=0 #contador\n",
    "        if N==0 || N==1 # si \"N\" es parecido a 0 o 1 diga que el resultado es 1\n",
    "        factm=1\n",
    "        else #si N no es 0 o 1 entonces se realiza la siguiente operacion\n",
    "            factm=(N*(fact(N-1)))  #hara la operacion hasta que N sea 0 o 1\n",
    "        end \n",
    "end"
   ]
  },
  {
   "cell_type": "code",
   "execution_count": 2,
   "metadata": {},
   "outputs": [
    {
     "data": {
      "text/plain": [
       "combi (generic function with 1 method)"
      ]
     },
     "execution_count": 2,
     "metadata": {},
     "output_type": "execute_result"
    }
   ],
   "source": [
    "function combi(n,r) #se asigna dos valores, n y r \n",
    "    c=fact(n)/(fact(n-r)*fact(r)) #\"c\" es una variable del resultado y se aplica la formula dada\n",
    "    println(c) #Imprime en la pantalla el resultado final de c\n",
    "end"
   ]
  },
  {
   "cell_type": "code",
   "execution_count": 3,
   "metadata": {},
   "outputs": [
    {
     "name": "stdout",
     "output_type": "stream",
     "text": [
      "4.0\n"
     ]
    }
   ],
   "source": [
    "combi(4,1)"
   ]
  }
 ],
 "metadata": {
  "kernelspec": {
   "display_name": "Julia 0.5.2",
   "language": "julia",
   "name": "julia-0.5"
  },
  "language_info": {
   "file_extension": ".jl",
   "mimetype": "application/julia",
   "name": "julia",
   "version": "0.5.2"
  }
 },
 "nbformat": 4,
 "nbformat_minor": 2
}
