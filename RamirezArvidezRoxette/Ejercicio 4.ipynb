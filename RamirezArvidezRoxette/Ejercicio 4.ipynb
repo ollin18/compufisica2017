{
 "cells": [
  {
   "cell_type": "markdown",
   "metadata": {},
   "source": [
    "El número e, es un número irracional, \n",
    "\n",
    "es decir que nopuede representarse como una fracción ameno que se haga una aproximación. \n",
    "\n",
    "Se lo suele llamar el número de Euler por Leonhard Euler"
   ]
  },
  {
   "cell_type": "code",
   "execution_count": null,
   "metadata": {},
   "outputs": [],
   "source": [
    "Dada la sucesión "
   ]
  },
  {
   "cell_type": "markdown",
   "metadata": {},
   "source": [
    "$$\n",
    "{a}_{n}={(1+\\frac { 1 }{ n } ) }^{ n }\n",
    "$$"
   ]
  },
  {
   "cell_type": "code",
   "execution_count": null,
   "metadata": {},
   "outputs": [],
   "source": [
    "Podemos expandrel binomio y simplifcarlo después, para calcular el límite cuyo resultado es la iguiente sumatoria. La cuál es conocida, pues:"
   ]
  },
  {
   "cell_type": "markdown",
   "metadata": {},
   "source": [
    "$$\n",
    "\\lim _{ n\\rightarrow \\infty  }{ ({ a }_{ n }) } =\\sum _{ k=0 }^{ \\infty  }{ \\frac { 1 }{ k! }  } =e\\quad\n",
    "$$"
   ]
  },
  {
   "cell_type": "markdown",
   "metadata": {},
   "source": [
    "Donde mientras más grande sea k,más nos aproximmos a el número neperiano. Ahora generamos una fución con está ecuación para aproximar e. Pero como vamos hacer uso de la función factorial, añdimos la explicada en el inciso anterior."
   ]
  },
  {
   "cell_type": "code",
   "execution_count": 36,
   "metadata": {},
   "outputs": [
    {
     "data": {
      "text/plain": [
       "factorialr (generic function with 1 method)"
      ]
     },
     "execution_count": 36,
     "metadata": {},
     "output_type": "execute_result"
    }
   ],
   "source": [
    "function factorialr(N)\n",
    "    f = 1\n",
    "    for n ∈ 1:N\n",
    "        f= f*n\n",
    "    end\n",
    "    return f\n",
    "end"
   ]
  },
  {
   "cell_type": "code",
   "execution_count": 37,
   "metadata": {},
   "outputs": [
    {
     "data": {
      "text/plain": [
       "numeroeF (generic function with 1 method)"
      ]
     },
     "execution_count": 37,
     "metadata": {},
     "output_type": "execute_result"
    }
   ],
   "source": [
    "function numeroeF(N) #Llamamos el cálculo de número neperiano con el nombre \"numeroeFac(N)\" donde N es asignado por el usuario\n",
    "    suma = 1 #Asignamos el valor de suma igual a 1, pues para este usaremos la función factorial y por ello decidí usarlo.\n",
    "    for n ∈ 1:N #Aplicamos el ciclo for, para n con valores del intervalo de 1 hhasta N\n",
    "        suma += (1/factorialr(n)) #ahora uma toma su valor anterior adicionando el producto dde la fracción 1/factorial(n)\n",
    "    end\n",
    "    print(suma)\n",
    "end"
   ]
  },
  {
   "cell_type": "code",
   "execution_count": 39,
   "metadata": {},
   "outputs": [
    {
     "name": "stdout",
     "output_type": "stream",
     "text": [
      "2.7182818011463845"
     ]
    }
   ],
   "source": [
    "numeroeFac(10)"
   ]
  },
  {
   "cell_type": "code",
   "execution_count": 46,
   "metadata": {},
   "outputs": [
    {
     "name": "stdout",
     "output_type": "stream",
     "text": [
      "2.7182818284590455"
     ]
    }
   ],
   "source": [
    "numeroeFac(43)"
   ]
  },
  {
   "cell_type": "code",
   "execution_count": null,
   "metadata": {},
   "outputs": [],
   "source": []
  }
 ],
 "metadata": {
  "kernelspec": {
   "display_name": "Julia 0.6.0",
   "language": "julia",
   "name": "julia-0.6"
  },
  "language_info": {
   "file_extension": ".jl",
   "mimetype": "application/julia",
   "name": "julia",
   "version": "0.6.0"
  }
 },
 "nbformat": 4,
 "nbformat_minor": 2
}
