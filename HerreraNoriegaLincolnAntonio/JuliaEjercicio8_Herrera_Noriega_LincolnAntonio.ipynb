{
 "cells": [
  {
   "cell_type": "markdown",
   "metadata": {},
   "source": [
    "a) Calcular el producto interior entre dos vectores en ${\\rm I\\!R}^{3}$ que el usuario determine"
   ]
  },
  {
   "cell_type": "code",
   "execution_count": 1,
   "metadata": {},
   "outputs": [
    {
     "data": {
      "text/plain": [
       "interno (generic function with 1 method)"
      ]
     },
     "execution_count": 1,
     "metadata": {},
     "output_type": "execute_result"
    }
   ],
   "source": [
    "function interno(A,B)\n",
    "    p=A[1]*B[1]+A[2]*B[2]+A[3]*B[3]     # suma entre los productos de las componentes correspondientes de los vectores\n",
    "    print(\"El producto interno es $p\")  \n",
    "end"
   ]
  },
  {
   "cell_type": "code",
   "execution_count": 4,
   "metadata": {},
   "outputs": [],
   "source": [
    "A=[1,1,1]\n",
    "B=[2,2,2];"
   ]
  },
  {
   "cell_type": "code",
   "execution_count": 5,
   "metadata": {},
   "outputs": [
    {
     "name": "stdout",
     "output_type": "stream",
     "text": [
      "El producto interno es 6"
     ]
    }
   ],
   "source": [
    "interno(A,B)"
   ]
  },
  {
   "cell_type": "markdown",
   "metadata": {},
   "source": [
    "b) Producto interno de dos vectores en ${\\rm I\\!R}^{n}$ leídos de un archivo de datos."
   ]
  },
  {
   "cell_type": "markdown",
   "metadata": {},
   "source": [
    "Primero escribimos a un archivo los dos vectores anteriormente utilizados"
   ]
  },
  {
   "cell_type": "code",
   "execution_count": 6,
   "metadata": {},
   "outputs": [],
   "source": [
    "writedlm(\"A.csv\", A, '|')"
   ]
  },
  {
   "cell_type": "code",
   "execution_count": 7,
   "metadata": {},
   "outputs": [],
   "source": [
    "writedlm(\"B.csv\", B, '|')"
   ]
  },
  {
   "cell_type": "code",
   "execution_count": 8,
   "metadata": {},
   "outputs": [],
   "source": [
    "u = readdlm(\"A.csv\", '|');"
   ]
  },
  {
   "cell_type": "code",
   "execution_count": 9,
   "metadata": {},
   "outputs": [],
   "source": [
    "v = readdlm(\"B.csv\", '|');"
   ]
  },
  {
   "cell_type": "code",
   "execution_count": 11,
   "metadata": {},
   "outputs": [
    {
     "data": {
      "text/plain": [
       "internon (generic function with 1 method)"
      ]
     },
     "execution_count": 11,
     "metadata": {},
     "output_type": "execute_result"
    }
   ],
   "source": [
    "function  internon(u,v)\n",
    "    if  length(u) ==  length(v)                       # condicional para determinar si tienen la misma dimension\n",
    "        p=0                                           \n",
    "        for i ∈ eachindex(u)                          \n",
    "           p=u[i]*v[i]+p                              # se realiza la suma de los productos de cada componente corerspondiente en el contador\n",
    "        end\n",
    "        print(\"El producto interno es $p\")\n",
    "    else\n",
    "        print(\"Error, se intento obtener el producto de dos vectores con distinto tamaño\")\n",
    "    end\n",
    "end\n"
   ]
  },
  {
   "cell_type": "code",
   "execution_count": 12,
   "metadata": {},
   "outputs": [
    {
     "name": "stdout",
     "output_type": "stream",
     "text": [
      "El producto interno es 6.0"
     ]
    }
   ],
   "source": [
    "internon(u,v)"
   ]
  },
  {
   "cell_type": "markdown",
   "metadata": {},
   "source": [
    "Para el caso de vectores con distinto tamaño"
   ]
  },
  {
   "cell_type": "code",
   "execution_count": 14,
   "metadata": {},
   "outputs": [
    {
     "name": "stdout",
     "output_type": "stream",
     "text": [
      "Error, se intento obtener el producto de dos vectores con distinto tamaño"
     ]
    }
   ],
   "source": [
    "A=[1,1]\n",
    "B=[1,1,1]\n",
    "writedlm(\"A.csv\", A, '|')\n",
    "writedlm(\"B.csv\", B, '|')\n",
    "u = readdlm(\"A.csv\", '|')\n",
    "v = readdlm(\"B.csv\", '|')\n",
    "internon(u,v)"
   ]
  }
 ],
 "metadata": {
  "kernelspec": {
   "display_name": "Julia 0.6.0",
   "language": "julia",
   "name": "julia-0.6"
  },
  "language_info": {
   "file_extension": ".jl",
   "mimetype": "application/julia",
   "name": "julia",
   "version": "0.6.0"
  }
 },
 "nbformat": 4,
 "nbformat_minor": 2
}
