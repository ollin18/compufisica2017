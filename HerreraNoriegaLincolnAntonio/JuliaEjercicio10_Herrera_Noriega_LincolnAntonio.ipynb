{
 "cells": [
  {
   "cell_type": "markdown",
   "metadata": {},
   "source": [
    "Realizar el producto de una matriz en ${\\rm I\\!R}^{nxm}$ por un vector ${\\rm I\\!R}^{n}$ donde cada entrada del vector o matriz se deben leer de un archivo."
   ]
  },
  {
   "cell_type": "markdown",
   "metadata": {},
   "source": [
    "Definimos los productos vector por vector que utilizaremos adelante"
   ]
  },
  {
   "cell_type": "code",
   "execution_count": 4,
   "metadata": {},
   "outputs": [
    {
     "data": {
      "text/plain": [
       "vxv (generic function with 1 method)"
      ]
     },
     "execution_count": 4,
     "metadata": {},
     "output_type": "execute_result"
    }
   ],
   "source": [
    "function vxv(u,v)\n",
    "    if  length(u) == length(v)   # verificamos que tengan la misma dimensión\n",
    "        p=0                      # declaramos la variable sobre la que se hará el producto\n",
    "        for i ∈ eachindex(u)     # realizaremos el ciclo para cada elemento en u\n",
    "           p=u[i]*v[i]+p         # se suman se multiplican las componentes con el mismo indice de los vectores y se suman con el cilo\n",
    "        end\n",
    "        return(p)\n",
    "    else\n",
    "        print(\"Error, se intento multiplicar vector por vector de dimensiones incorrectas\")\n",
    "    end\n",
    "end"
   ]
  },
  {
   "cell_type": "markdown",
   "metadata": {},
   "source": [
    "Ahora definimos la función que realize el producto matriz por vector"
   ]
  },
  {
   "cell_type": "code",
   "execution_count": 5,
   "metadata": {},
   "outputs": [
    {
     "data": {
      "text/plain": [
       "mxv (generic function with 1 method)"
      ]
     },
     "execution_count": 5,
     "metadata": {},
     "output_type": "execute_result"
    }
   ],
   "source": [
    "function mxv(A,B)\n",
    "    if size(A)[2] ==  length(B)  # verificamos que el número de columnas de A sea el mismo que el número de renglones de B\n",
    "        p=A[:,1]                 # declaramos la variable p como una matriz con el mismo numero de renglones que A y solo una columna\n",
    "        for i ∈ 1:size(A)[1]     # ciclo for con contador corriendo por el numero de renglones de A\n",
    "            p[i]=vxv(A[i,:],B)   # para cada renglon de p realizar el producto de la columna i de A con el vector B\n",
    "        end\n",
    "        return(p)\n",
    "    else\n",
    "       print(\"Error, se intento multiplicar matriz por vector de dimensiones incorrectas\")\n",
    "    end\n",
    "end     "
   ]
  },
  {
   "cell_type": "markdown",
   "metadata": {},
   "source": [
    "Verificamos el funcionamiento de las funciones definidas hasta ahora con matrices obtenidas desde archivos"
   ]
  },
  {
   "cell_type": "code",
   "execution_count": 6,
   "metadata": {},
   "outputs": [
    {
     "data": {
      "text/plain": [
       "2-element Array{Int64,1}:\n",
       " 6\n",
       " 2"
      ]
     },
     "execution_count": 6,
     "metadata": {},
     "output_type": "execute_result"
    }
   ],
   "source": [
    "A=[6 3; 5 6]\n",
    "B=[6,2]"
   ]
  },
  {
   "cell_type": "code",
   "execution_count": 7,
   "metadata": {},
   "outputs": [],
   "source": [
    "writedlm(\"A.csv\", A, '|')\n",
    "writedlm(\"B.csv\", B, '|')"
   ]
  },
  {
   "cell_type": "markdown",
   "metadata": {},
   "source": [
    "Ahora si podemos realizar el producto leyendo las matrices desde archivos"
   ]
  },
  {
   "cell_type": "code",
   "execution_count": 10,
   "metadata": {},
   "outputs": [
    {
     "data": {
      "text/plain": [
       "2-element Array{Float64,1}:\n",
       " 42.0\n",
       " 42.0"
      ]
     },
     "execution_count": 10,
     "metadata": {},
     "output_type": "execute_result"
    }
   ],
   "source": [
    "mxv((readdlm(\"A.csv\",'|')),(readdlm(\"B.csv\",'|')))"
   ]
  },
  {
   "cell_type": "markdown",
   "metadata": {},
   "source": [
    "Ahora definimos el producto de matriz por matriz:"
   ]
  },
  {
   "cell_type": "code",
   "execution_count": 20,
   "metadata": {},
   "outputs": [
    {
     "data": {
      "text/plain": [
       "mxm (generic function with 1 method)"
      ]
     },
     "execution_count": 20,
     "metadata": {},
     "output_type": "execute_result"
    }
   ],
   "source": [
    "function mxm(A,B)\n",
    "    if size(A)[2] == size(B)[1]       # verificamos que el número de columnas de A sea el mismo que el número de renglones de B\n",
    "        p=mxv(A,B[:,1])               # declaramos la variable del producto al mismo tiempo que realizamos la primera parte del producto\n",
    "        for i ∈ 2:size(B)[2]          # ya que tenemos una matriz del tamaño correcto sobre la cual concatenar el resto del producto,\n",
    "            p=hcat(p,mxv(A,B[:,i]))   # realizamos el producto matriz vector y agregamos la nueva columna a la matriz\n",
    "            end\n",
    "        print(p)\n",
    "    else\n",
    "       print(\"Error, se intento multiplicar vector por vector de dimensiones incorrectas\")\n",
    "    end\n",
    "end"
   ]
  },
  {
   "cell_type": "code",
   "execution_count": 21,
   "metadata": {},
   "outputs": [],
   "source": [
    "A=[1 0;0 2;3 0]\n",
    "B=[3 0 2 3; 0 1 0 0];"
   ]
  },
  {
   "cell_type": "raw",
   "metadata": {},
   "source": [
    "Verificando el funcionamiento de nuestra función:"
   ]
  },
  {
   "cell_type": "code",
   "execution_count": 17,
   "metadata": {},
   "outputs": [
    {
     "name": "stdout",
     "output_type": "stream",
     "text": [
      "[3 0 2 3; 0 2 0 0; 9 0 6 9]"
     ]
    }
   ],
   "source": [
    "mxm(A,B)"
   ]
  }
 ],
 "metadata": {
  "kernelspec": {
   "display_name": "Julia 0.6.0",
   "language": "julia",
   "name": "julia-0.6"
  },
  "language_info": {
   "file_extension": ".jl",
   "mimetype": "application/julia",
   "name": "julia",
   "version": "0.6.0"
  }
 },
 "nbformat": 4,
 "nbformat_minor": 2
}
