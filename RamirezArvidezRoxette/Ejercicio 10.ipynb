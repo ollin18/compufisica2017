{
 "cells": [
  {
   "cell_type": "markdown",
   "metadata": {},
   "source": [
    "a) Escribe un programa que realice el producto de una matriz en $$ R^{nxm}$$ por un vector en $$ R^n$$ Las entradas tanto del vector como de la matriz debenleerse de un archivo . (Para facilitarte las cosas puedes convertir tu\n",
    "programa de producto punto “del ejercicio 8” en una función)"
   ]
  },
  {
   "cell_type": "markdown",
   "metadata": {},
   "source": [
    "Generamos la función:"
   ]
  },
  {
   "cell_type": "code",
   "execution_count": 20,
   "metadata": {},
   "outputs": [
    {
     "data": {
      "text/plain": [
       "MatxVec (generic function with 1 method)"
      ]
     },
     "execution_count": 20,
     "metadata": {},
     "output_type": "execute_result"
    }
   ],
   "source": [
    "function MatxVec(m,v)\n",
    "    if size(m)[2] == length(v) #Necesitamos que la dimensión de la matriz en las columnas sea igual a la del vector. Para que la operación sea válida\n",
    "        C = zeros(size(m)[1]) #Se construye un arreglo con las dimensiones de los renglones de la matriz, y la del vector\n",
    "        for i in 1:size(m)[1] #Las operaciones se realizan en losrenglones de C (los renglones se indican con el [1])\n",
    "            l=0 #Esta variable guardara los elementos de las operaciones a continuación, para usarse posteriormente \n",
    "            for j in 1:size(m)[2] #Para cada j ésimo elemento que pertenece a la columnas de M se opera\n",
    "                M=m[i,j]*v[j] #M toma el valo de el producto del i,j-ésimo de la matriz pon el j-ésimo renglón del vector\n",
    "                l+=M #A l, reasignamos un nuevo valo que la adicción del último valo de l con el de la operación M\n",
    "                end #Termina el ciclo for\n",
    "            C[i]=l #este es nuestro vector resultante, a cada i ésimo elemento le correponde el final de l \n",
    "            end #Termina ciclo for\n",
    "        print(C) #Pedimos que imprima el vector resultante que es C\n",
    "        end #Termina ciclo condicional\n",
    "end #Trmina la función "
   ]
  },
  {
   "cell_type": "code",
   "execution_count": 21,
   "metadata": {},
   "outputs": [
    {
     "data": {
      "text/plain": [
       "3×3 Array{Int64,2}:\n",
       " 1  7  8\n",
       " 8  4  6\n",
       " 1  5  6"
      ]
     },
     "execution_count": 21,
     "metadata": {},
     "output_type": "execute_result"
    }
   ],
   "source": [
    "M=[1 7 8;8 4 6;1 5 6]"
   ]
  },
  {
   "cell_type": "code",
   "execution_count": 22,
   "metadata": {},
   "outputs": [
    {
     "data": {
      "text/plain": [
       "3-element Array{Int64,1}:\n",
       " 1\n",
       " 7\n",
       " 5"
      ]
     },
     "execution_count": 22,
     "metadata": {},
     "output_type": "execute_result"
    }
   ],
   "source": [
    "v=[1,7,5]"
   ]
  },
  {
   "cell_type": "code",
   "execution_count": 23,
   "metadata": {},
   "outputs": [
    {
     "name": "stdout",
     "output_type": "stream",
     "text": [
      "[90.0, 66.0, 66.0]"
     ]
    }
   ],
   "source": [
    "MatxVec(M,v)"
   ]
  },
  {
   "cell_type": "markdown",
   "metadata": {},
   "source": [
    "b) Escribe un programa que realice el producto de dos matrices en $$R^{nxm} $$\n",
    ", el\n",
    "usuario debe insertar las entradas de las matrices. Apóyate en tu programa\n",
    "anterior, pues es una generalización de este"
   ]
  },
  {
   "cell_type": "code",
   "execution_count": 1,
   "metadata": {},
   "outputs": [
    {
     "data": {
      "text/plain": [
       "MM (generic function with 1 method)"
      ]
     },
     "execution_count": 1,
     "metadata": {},
     "output_type": "execute_result"
    }
   ],
   "source": [
    "function MM(A,B)\n",
    "    if size(A)[2]== size(B)[1] #Abrimos el condicional. Es necesario que el tamaño de columna de A tiene que ser igual que de renglón de B\n",
    "        M= zeros(size(A)[1],size(B)[2]) #Generamos una matriz nxm; n=tamaño de renglones de A y m=columnas de B\n",
    "        for i in 1:size(A)[1] #A cada elemento de los renglones de A se hará lo siguiente:\n",
    "            l=1 #estas son las columnas de B donde se asignan lo valores de las operaciones\n",
    "            while l<=size(A)[1] #Mientras l sea menor o igual al tamaño de los renglones de A entonces,\n",
    "                x=0 #x=0, este es un contador y guarda el resultado de w\n",
    "                for j in 1:size(B)[1] #A cada elemento que pertenece a los renglones de B\n",
    "                    w=A[i,j]*B[j,l] #Y w tom el valor del producto del i ésimo por el j ésimo elemento\n",
    "                    x+=w #El contador toma el valor original adicionando el nuevo de w \n",
    "                end #Termina el ciclo for \n",
    "                R[i,l]=x #la variable x corresponde a cada i-l ésimo\n",
    "                l+=1 #Y vamos recorriendo en la matriz un renglón\n",
    "            end #Termina ciclo while\n",
    "        end #Termina ciclo for\n",
    "    print(R) #Imprimimos la matriz resultante\n",
    "    end #Termina el condicional \n",
    "end #"
   ]
  },
  {
   "cell_type": "code",
   "execution_count": 2,
   "metadata": {},
   "outputs": [
    {
     "data": {
      "text/plain": [
       "3×3 Array{Int64,2}:\n",
       " 1  8  9\n",
       " 5  4  5\n",
       " 5  2  7"
      ]
     },
     "execution_count": 2,
     "metadata": {},
     "output_type": "execute_result"
    }
   ],
   "source": [
    "A= [1 8 9; 5 4 5; 5 2 7]"
   ]
  },
  {
   "cell_type": "code",
   "execution_count": 3,
   "metadata": {},
   "outputs": [
    {
     "data": {
      "text/plain": [
       "3×3 Array{Int64,2}:\n",
       " 4  7  8\n",
       " 6  3  1\n",
       " 7  8  2"
      ]
     },
     "execution_count": 3,
     "metadata": {},
     "output_type": "execute_result"
    }
   ],
   "source": [
    "B=[4 7 8; 6 3 1;  7 8 2]"
   ]
  },
  {
   "cell_type": "code",
   "execution_count": 4,
   "metadata": {},
   "outputs": [
    {
     "ename": "LoadError",
     "evalue": "\u001b[91mUndefVarError: R not defined\u001b[39m",
     "output_type": "error",
     "traceback": [
      "\u001b[91mUndefVarError: R not defined\u001b[39m",
      "",
      "Stacktrace:",
      " [1] \u001b[1mMM\u001b[22m\u001b[22m\u001b[1m(\u001b[22m\u001b[22m::Array{Int64,2}, ::Array{Int64,2}\u001b[1m)\u001b[22m\u001b[22m at \u001b[1m./In[1]:12\u001b[22m\u001b[22m",
      " [2] \u001b[1minclude_string\u001b[22m\u001b[22m\u001b[1m(\u001b[22m\u001b[22m::String, ::String\u001b[1m)\u001b[22m\u001b[22m at \u001b[1m./loading.jl:515\u001b[22m\u001b[22m"
     ]
    }
   ],
   "source": [
    "MM(A,B)"
   ]
  },
  {
   "cell_type": "code",
   "execution_count": null,
   "metadata": {},
   "outputs": [],
   "source": []
  }
 ],
 "metadata": {
  "kernelspec": {
   "display_name": "Julia 0.6.0",
   "language": "julia",
   "name": "julia-0.6"
  },
  "language_info": {
   "file_extension": ".jl",
   "mimetype": "application/julia",
   "name": "julia",
   "version": "0.6.0"
  }
 },
 "nbformat": 4,
 "nbformat_minor": 2
}
