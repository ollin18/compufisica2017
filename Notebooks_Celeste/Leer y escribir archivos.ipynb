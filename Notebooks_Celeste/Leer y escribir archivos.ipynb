{
 "cells": [
  {
   "cell_type": "markdown",
   "metadata": {},
   "source": [
    "<div class=\"alert alert-success\" role=\"alert\">\n",
    " <h1>Leer y escribir archivos </h1>\n",
    " <h2>Computación</h2>\n",
    " <h2>Física, Facultad de Ciencias. UNAM </h2>\n",
    " <h3>Celeste Castro Granados</h3>\n",
    " </div>"
   ]
  },
  {
   "cell_type": "markdown",
   "metadata": {},
   "source": [
    "Vamos a ver como se lee y escribe un archivo."
   ]
  },
  {
   "cell_type": "markdown",
   "metadata": {},
   "source": [
    "Primero obtenemos nuestros datos:"
   ]
  },
  {
   "cell_type": "code",
   "execution_count": 2,
   "metadata": {},
   "outputs": [
    {
     "data": {
      "text/plain": [
       "10-element Array{Float64,1}:\n",
       " 0.449945\n",
       " 0.297371\n",
       " 0.841091\n",
       " 0.917416\n",
       " 0.515702\n",
       " 0.877577\n",
       " 0.245472\n",
       " 0.134379\n",
       " 0.423905\n",
       " 0.316283"
      ]
     },
     "execution_count": 2,
     "metadata": {},
     "output_type": "execute_result"
    }
   ],
   "source": [
    "uno = [rand() for i in 1:10]\n",
    "dos = [rand() for i in 1:10]\n",
    "tres = [rand() for i in 1:10]\n",
    "cuatro = [rand() for i in 1:10]\n",
    "cinco = [rand() for i in 1:10]"
   ]
  },
  {
   "cell_type": "code",
   "execution_count": 3,
   "metadata": {},
   "outputs": [
    {
     "data": {
      "text/plain": [
       "10-element Array{Float64,1}:\n",
       " 0.985046 \n",
       " 0.640717 \n",
       " 0.439838 \n",
       " 0.324667 \n",
       " 0.0897601\n",
       " 0.494309 \n",
       " 0.50281  \n",
       " 0.24318  \n",
       " 0.868622 \n",
       " 0.447573 "
      ]
     },
     "execution_count": 3,
     "metadata": {},
     "output_type": "execute_result"
    }
   ],
   "source": [
    "uno"
   ]
  },
  {
   "cell_type": "code",
   "execution_count": 4,
   "metadata": {},
   "outputs": [
    {
     "data": {
      "text/plain": [
       "10×5 Array{Float64,2}:\n",
       " 0.985046   0.296197  0.823271   0.467809   0.449945\n",
       " 0.640717   0.374739  0.578725   0.156754   0.297371\n",
       " 0.439838   0.293066  0.47925    0.118614   0.841091\n",
       " 0.324667   0.377511  0.0452993  0.773815   0.917416\n",
       " 0.0897601  0.124408  0.120248   0.874379   0.515702\n",
       " 0.494309   0.426538  0.731813   0.428283   0.877577\n",
       " 0.50281    0.849503  0.377221   0.0192363  0.245472\n",
       " 0.24318    0.763064  0.209187   0.384473   0.134379\n",
       " 0.868622   0.500018  0.425304   0.163343   0.423905\n",
       " 0.447573   0.437396  0.384746   0.843798   0.316283"
      ]
     },
     "execution_count": 4,
     "metadata": {},
     "output_type": "execute_result"
    }
   ],
   "source": [
    "variables = hcat(uno,dos,tres,cuatro,cinco)"
   ]
  },
  {
   "cell_type": "markdown",
   "metadata": {},
   "source": [
    "Y ahora si, escribimos nuestros datos en un archivo csv:"
   ]
  },
  {
   "cell_type": "code",
   "execution_count": 5,
   "metadata": {},
   "outputs": [],
   "source": [
    "writedlm(\"numeros.csv\",variables,'|')"
   ]
  },
  {
   "cell_type": "code",
   "execution_count": 6,
   "metadata": {},
   "outputs": [
    {
     "name": "stdout",
     "output_type": "stream",
     "text": [
      "0.9850464932041889|0.29619654682842667|0.8232708324340574|0.46780896714051123|0.44994453521889466\n",
      "0.6407173878130081|0.37473854544110585|0.5787248210131741|0.1567543791355177|0.29737085740855407\n",
      "0.43983836896040773|0.29306613893434585|0.47924976678375186|0.11861383150685056|0.8410913434386356\n",
      "0.3246673218251277|0.3775106062829019|0.045299300263639264|0.773815167537846|0.9174161683555824\n",
      "0.08976007676028819|0.1244076757203918|0.12024836434000563|0.8743792060533107|0.5157016489042383\n",
      "0.49430854959587167|0.42653807499449314|0.7318133076852296|0.4282829789630678|0.8775774447545954\n",
      "0.50280950396723|0.8495025493480732|0.3772206369319109|0.019236313539806593|0.2454724356865743\n",
      "0.2431800776735633|0.7630635825670862|0.2091867718449416|0.3844729333619643|0.13437936759339908\n",
      "0.8686216599469907|0.5000183707011281|0.42530382893505725|0.16334273635196972|0.4239052703784545\n",
      "0.4475727936033138|0.4373955909672165|0.3847457785186641|0.8437984712055409|0.3162827551547729\n"
     ]
    }
   ],
   "source": [
    ";cat numeros.csv"
   ]
  },
  {
   "cell_type": "markdown",
   "metadata": {},
   "source": [
    "Y finalmente, hacemos lectura de nuestro archivo."
   ]
  },
  {
   "cell_type": "code",
   "execution_count": 7,
   "metadata": {},
   "outputs": [
    {
     "data": {
      "text/plain": [
       "10×5 Array{Float64,2}:\n",
       " 0.985046   0.296197  0.823271   0.467809   0.449945\n",
       " 0.640717   0.374739  0.578725   0.156754   0.297371\n",
       " 0.439838   0.293066  0.47925    0.118614   0.841091\n",
       " 0.324667   0.377511  0.0452993  0.773815   0.917416\n",
       " 0.0897601  0.124408  0.120248   0.874379   0.515702\n",
       " 0.494309   0.426538  0.731813   0.428283   0.877577\n",
       " 0.50281    0.849503  0.377221   0.0192363  0.245472\n",
       " 0.24318    0.763064  0.209187   0.384473   0.134379\n",
       " 0.868622   0.500018  0.425304   0.163343   0.423905\n",
       " 0.447573   0.437396  0.384746   0.843798   0.316283"
      ]
     },
     "execution_count": 7,
     "metadata": {},
     "output_type": "execute_result"
    }
   ],
   "source": [
    "lectura = readdlm(\"numeros.csv\",'|')"
   ]
  }
 ],
 "metadata": {
  "kernelspec": {
   "display_name": "Julia 0.6.0",
   "language": "julia",
   "name": "julia-0.6"
  },
  "language_info": {
   "file_extension": ".jl",
   "mimetype": "application/julia",
   "name": "julia",
   "version": "0.6.0"
  }
 },
 "nbformat": 4,
 "nbformat_minor": 2
}
