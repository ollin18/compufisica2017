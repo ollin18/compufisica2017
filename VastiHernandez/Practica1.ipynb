{
 "cells": [
  {
   "cell_type": "markdown",
   "metadata": {},
   "source": [
    "a) Calcular el promedio de dos números a  y  b introducidos por el usuario."
   ]
  },
  {
   "cell_type": "code",
   "execution_count": 1,
   "metadata": {},
   "outputs": [
    {
     "data": {
      "text/plain": [
       "Promedio (generic function with 1 method)"
      ]
     },
     "execution_count": 1,
     "metadata": {},
     "output_type": "execute_result"
    }
   ],
   "source": [
    "function Promedio(a,b) #En esta parte se aplicaran los valores que permitiran el calculo del promedio\n",
    "    c=0 
    "    c=c+(a+b)/2 #El promedio\n puedo obtenerlo con este modelo matemático",
    "    return c #Imprimo c\n, para generar su valor resultante",
    "end"
   ]
  },
  {
   "cell_type": "code",
   "execution_count": 2,
   "metadata": {},
   "outputs": [
    {
     "data": {
      "text/plain": [
       "9.5"
      ]
     },
     "execution_count": 2,
     "metadata": {},
     "output_type": "execute_result"
    }
   ],
   "source": [
    "Promedio(5,10)"
   ]
  },
  {
   "cell_type": "markdown",
   "metadata": {},
   "source": [
    "b) La suma desde 0 hasta un número n introducido por el usuario."
   ]
  },
  {
   "cell_type": "code",
   "execution_count": 3,
   "metadata": {},
   "outputs": [
    {
     "data": {
      "text/plain": [
       "SumaNaturales (generic function with 1 method)"
      ]
     },
     "execution_count": 3,
     "metadata": {},
     "output_type": "execute_result"
    }
   ],
   "source": [
    "function SumaNaturales(N) #\"N\" es el valor que se aplicará para suma\n",
    "i=0\n",
    "k=1\n",
    "    for n in 1:N #Utilice un For en donde aplica que para del valor asignado (n) se vayan  sumando detrás todos los numeros",
    "    i=i+k;\n",
    "    k=k+1;\n",
    "    end\n",
    "    print(i) #Imprimo i, para generar el valor resultante",
    "end"
   ]
  },
  {
   "cell_type": "code",
   "execution_count": 4,
   "metadata": {},
   "outputs": [
    {
     "name": "stdout",
     "output_type": "stream",
     "text": [
      "5050"
     ]
    }
   ],
   "source": [
    "SumaNaturales(100)"
   ]
  },
  {
   "cell_type": "markdown",
   "metadata": {},
   "source": [
    "c) Calcular el factorial de un numero introducido por el usuario."
   ]
  },
  {
   "cell_type": "code",
   "execution_count": 5,
   "metadata": {},
   "outputs": [
    {
     "data": {
      "text/plain": [
       "fact (generic function with 1 method)"
      ]
     },
     "execution_count": 5,
     "metadata": {},
     "output_type": "execute_result"
    }
   ],
   "source": [
    "function fact(N)\n",
    "    factm=0 ,
    "        if N==0 || N==1 # Suponiendo que i \"N\" sea igual a 0 o 1, el código  ejecute un resultado de 1\n",
    "        factm=1\n",
    "            else #En caso de ser diferente de 0 o 1 entonces ejecute la siguiente operacion\n",
    "            factm=(N*(fact(N-1)))  #La operacion se va a repetir hasta que N sea 0\n",
    "        end \n",
    "end"
   ]
  },
  {
   "cell_type": "code",
   "execution_count": 6,
   "metadata": {},
   "outputs": [
    {
     "data": {
      "text/plain": [
       "120"
      ]
     },
     "execution_count": 6,
     "metadata": {},
     "output_type": "execute_result"
    }
   ],
   "source": [
    "fact(5)"
   ]
  },
  {
   "cell_type": "code",
   "execution_count": 7,
   "metadata": {},
   "outputs": [
    {
     "data": {
      "text/plain": [
       "Expo (generic function with 1 method)"
      ]
     },
     "execution_count": 7,
     "metadata": {},
     "output_type": "execute_result"
    }
   ],
   "source": [
    "function Expo(a,b)\n",
    "    x=0.0 #Utilizo un factor con el que se deberá de guardar el valor de \"x\" \n",
    "    x=a^b #elevo a la potencia b\n",
    "    print(x) #Para generar el valor resultante mprimo \"x\"\n",
    "end"
   ]
  },
  {
   "cell_type": "code",
   "execution_count": 8,
   "metadata": {},
   "outputs": [
    {
     "name": "stdout",
     "output_type": "stream",
     "text": [
      "4"
     ]
    }
   ],
   "source": [
    "Expo(2,2)"
   ]
  },
  {
   "cell_type": "code",
   "execution_count": null,
   "metadata": {},
   "outputs": [],
   "source": []
  }
 ],
 "metadata": {
  "kernelspec": {
   "display_name": "Julia 0.5.2",
   "language": "julia",
   "name": "julia-0.5"
  },
  "language_info": {
   "file_extension": ".jl",
   "mimetype": "application/julia",
   "name": "julia",
   "version": "0.5.2"
  }
 },
 "nbformat": 4,
 "nbformat_minor": 2
}
