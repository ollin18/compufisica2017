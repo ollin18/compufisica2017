{
 "cells": [
  {
   "cell_type": "markdown",
   "metadata": {},
   "source": [
    "<div class=\"alert alert-success\" role=\"alert\">\n",
    "<h1>Programación en Julia: Notebook 8 </h1>\n",
    "<h2>Facultad de Ciencias, UNAM </h2>\n",
    "<h3>Joshua Briones Andrade || Compufísica </h3>\n",
    "</div>"
   ]
  },
  {
   "cell_type": "markdown",
   "metadata": {},
   "source": [
    "**a)** Calcular el producto interior (producto punto) de dos vectores en ℝ^3 el usuario debe insertar las entradas de los vectores. "
   ]
  },
  {
   "cell_type": "markdown",
   "metadata": {},
   "source": [
    "Recurrimos a la definición del producto interior para vectores en ℝ^3 y sabemos que...\n",
    "\n",
    "$$ \\vec A \\cdot \\vec B = (a_1,a_2,a_3)\\cdot(b_1,b_2,b_3)=a_1b_1+a_2b_2+a_3b_3 $$"
   ]
  },
  {
   "cell_type": "code",
   "execution_count": 1,
   "metadata": {},
   "outputs": [
    {
     "data": {
      "text/plain": [
       "Dot3 (generic function with 1 method)"
      ]
     },
     "execution_count": 1,
     "metadata": {},
     "output_type": "execute_result"
    }
   ],
   "source": [
    "function Dot3(A,B)\n",
    "    if length(A)==length(B)\n",
    "        C=0\n",
    "        for i in eachindex(A)\n",
    "            C=C+(A[i]*B[i])\n",
    "        end\n",
    "        C\n",
    "    else \n",
    "        println(\"No tienen las mismas dimensiones compa, arre\")\n",
    "    end\n",
    "end"
   ]
  },
  {
   "cell_type": "code",
   "execution_count": 2,
   "metadata": {},
   "outputs": [
    {
     "name": "stdout",
     "output_type": "stream",
     "text": [
      "No tienen las mismas dimensiones compa, arre\n"
     ]
    }
   ],
   "source": [
    "A=[11,5,2,1];B=[9,3,6]\n",
    "Dot3(A,B)"
   ]
  },
  {
   "cell_type": "code",
   "execution_count": 4,
   "metadata": {},
   "outputs": [
    {
     "data": {
      "text/plain": [
       "36"
      ]
     },
     "execution_count": 4,
     "metadata": {},
     "output_type": "execute_result"
    }
   ],
   "source": [
    "A=[1,5,2];B=[9,3,6]\n",
    "Dot3(A,B)"
   ]
  },
  {
   "cell_type": "markdown",
   "metadata": {},
   "source": [
    "**b)** Escribe  un programa que realice el producto interior (producto punto) de dos vectores en ℝ^n las entradas de los vectores deben leerse de un archivo. \n",
    "\n",
    "(Recuerda nuevamente que esto solo tiene sentido si los vectores son de la misma dimensión)."
   ]
  },
  {
   "cell_type": "markdown",
   "metadata": {},
   "source": [
    "Recurrimos a la definición del producto interior para vectores en ℝ^n (generalizada) y la aplicamos a la funcion \"Dot\".\n",
    "\n",
    "$$ \\vec A \\cdot \\vec B = (a_1,a_2,a_3,...,a_n)\\cdot(b_1,b_2,b_3,...,b_n)=a_1b_1+a_2b_2+a_3b_3+...+a_nb_n $$"
   ]
  },
  {
   "cell_type": "code",
   "execution_count": 5,
   "metadata": {},
   "outputs": [
    {
     "data": {
      "text/plain": [
       "Dot (generic function with 1 method)"
      ]
     },
     "execution_count": 5,
     "metadata": {},
     "output_type": "execute_result"
    }
   ],
   "source": [
    "function Dot(A,B)\n",
    "    if length(A)==length(B)\n",
    "        C=0\n",
    "        for i in eachindex(A)\n",
    "            C=C+(A[i]*B[i])\n",
    "        end\n",
    "        C\n",
    "    else \n",
    "        println(\"No tienen las mismas dimensiones compa, arre\")\n",
    "    end\n",
    "end"
   ]
  },
  {
   "cell_type": "code",
   "execution_count": 6,
   "metadata": {},
   "outputs": [
    {
     "data": {
      "text/plain": [
       "57"
      ]
     },
     "execution_count": 6,
     "metadata": {},
     "output_type": "execute_result"
    }
   ],
   "source": [
    "A=hcat(11,5,2,1);B=hcat(0,9,3,6)\n",
    "Dot(A,B)"
   ]
  },
  {
   "cell_type": "code",
   "execution_count": 7,
   "metadata": {},
   "outputs": [
    {
     "data": {
      "text/plain": [
       "197.83809300000001"
      ]
     },
     "execution_count": 7,
     "metadata": {},
     "output_type": "execute_result"
    }
   ],
   "source": [
    "#Para que trabaje con componentes decimales se tiene que aclarar que cada componente es flotante.\n",
    "A=[11.0,5.0,2.0,1.0,9,99.9,5,4,3];B=[0.0,9.0,3.0,6.02,3.11,.78907,2,3,4]\n",
    "\n",
    "Dot(A,B)"
   ]
  },
  {
   "cell_type": "code",
   "execution_count": 35,
   "metadata": {},
   "outputs": [
    {
     "data": {
      "text/plain": [
       "2×9 Array{Float64,2}:\n",
       " 11.0  5.0  2.0  1.0   9.0   99.9      5.0  4.0  3.0\n",
       "  0.0  9.0  3.0  6.02  3.11   0.78907  2.0  3.0  4.0"
      ]
     },
     "execution_count": 35,
     "metadata": {},
     "output_type": "execute_result"
    }
   ],
   "source": [
    "T=vcat(A',B')\n",
    "writedlm(\"Dot.csv\",T,'|')\n",
    "readdlm(\"Dot.csv\",'|')"
   ]
  },
  {
   "cell_type": "code",
   "execution_count": 31,
   "metadata": {},
   "outputs": [
    {
     "data": {
      "text/plain": [
       "Dot (generic function with 2 methods)"
      ]
     },
     "execution_count": 31,
     "metadata": {},
     "output_type": "execute_result"
    }
   ],
   "source": [
    "function Dot(AB)\n",
    "    A=AB[1,1:size(AB)[2]]\n",
    "    B=AB[2,1:size(AB)[2]]\n",
    "    C=0\n",
    "    for i ∈ 1:size(AB)[2]\n",
    "        C=C+(A[i]*B[i])\n",
    "    end\n",
    "    C\n",
    "end"
   ]
  },
  {
   "cell_type": "code",
   "execution_count": 33,
   "metadata": {},
   "outputs": [
    {
     "data": {
      "text/plain": [
       "197.83809300000001"
      ]
     },
     "execution_count": 33,
     "metadata": {},
     "output_type": "execute_result"
    }
   ],
   "source": [
    "Dot(readdlm(\"Dot.csv\",'|'))"
   ]
  }
 ],
 "metadata": {
  "kernelspec": {
   "display_name": "Julia 0.6.0",
   "language": "julia",
   "name": "julia-0.6"
  },
  "language_info": {
   "file_extension": ".jl",
   "mimetype": "application/julia",
   "name": "julia",
   "version": "0.6.0"
  }
 },
 "nbformat": 4,
 "nbformat_minor": 2
}
