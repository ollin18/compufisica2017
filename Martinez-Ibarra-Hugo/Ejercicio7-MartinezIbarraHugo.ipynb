{
 "cells": [
  {
   "cell_type": "markdown",
   "metadata": {},
   "source": [
    "### Martínez Ibarra Hugo\n",
    "***\n",
    "### Computación <p style=\"text-align:right\">Grupo 8381\n",
    "## <p style=\"color:darkblue;text-align:center\">Ejercicio #7"
   ]
  },
  {
   "cell_type": "markdown",
   "metadata": {},
   "source": [
    "a) Escribe un programa que sume dos vectores en $\\mathbb{R}³$, el usuario debe insertar las entradas de los vectores."
   ]
  },
  {
   "cell_type": "markdown",
   "metadata": {},
   "source": [
    "Recordar que la suma de vectores se hace entrada a entrada:\n",
    "$$a=[a_{1,1}\\quad a_{1,2}\\quad a_{1,3}]$$\n",
    "$$b=[b_{1,1}\\quad b_{1,2}\\quad b_{1,3}]$$\n",
    "$$a+b=[a_{1,1}+b_{1,1}\\quad a_{1,2}+b_{1,2}\\quad a_{1,3}+b_{1,3}]$$\n",
    "\n",
    "Para el caso de vectores verticales (columna):\n",
    "\n",
    "$$a=\\begin{bmatrix}a_{1,1}\\\\a_{2,1}\\\\a_{3,1}\\end{bmatrix}\\qquad b=\\begin{bmatrix}b_{1,1}\\\\b_{2,1}\\\\b_{3,1}\\end{bmatrix}$$\n",
    "$$a+b=\\begin{bmatrix}a_{1,1}+b_{1,1}\\\\a_{2,1}+b_{2,1}\\\\a_{3,1}+b_{3,1}\\end{bmatrix}$$"
   ]
  },
  {
   "cell_type": "code",
   "execution_count": 1,
   "metadata": {},
   "outputs": [],
   "source": [
    "#Aquí el usuario introduce las entradas de cada vector que se va a sumar.\n",
    "#Sólo vectores horizontales (renglón).\n",
    "a=[1 2 3]\n",
    "b=[4 5 6];"
   ]
  },
  {
   "cell_type": "code",
   "execution_count": 2,
   "metadata": {},
   "outputs": [
    {
     "data": {
      "text/plain": [
       "sumr3 (generic function with 1 method)"
      ]
     },
     "execution_count": 2,
     "metadata": {},
     "output_type": "execute_result"
    }
   ],
   "source": [
    "#Se define la función para la suma en R³. Este algoritmo sirve para vectores verticales u horizontales.\n",
    "#Se utiliza condicional para ver si se trata de un vector vertical u horizontal. Lo primero se corrobora al ver si son de la misma dimensión (1 para vectores verticales, 2 para vectores horizontales), luego si tienen el mismo número fe renglones, con lenght(), si coinciden en número de elementos se lleva a cabo la operación. Para el caso de vectores horizontales la dimensión de ambos vectores debe ser 2 y si tienen el mismo tamaño, size()=(1,3), se lleva a cabo la operación. Para ambos casos si no se cumple la condición principal se avisa que no son del mismo tamaño.\n",
    "function sumr3(a::Array,b::Array)\n",
    "    if ndims(a)==ndims(b) && ndims(a)==1\n",
    "        if length(a)==length(b)\n",
    "            sum=[a[1,]+b[1,],a[2,]+b[2,],a[3,]+b[3,]]\n",
    "        else\n",
    "            \"No son del mismo tamaño\"\n",
    "        end\n",
    "    elseif ndims(a)==2 && ndims(a)==ndims(b)\n",
    "        if size(a)==size(b)&&size(a)==(1,3)\n",
    "            sum=[a[1,1]+b[1,1] a[1,2]+b[1,2] a[1,3]+b[1,3]]\n",
    "        else\n",
    "            \"No son del mismo tamaño o no son vectores renglón\"\n",
    "        end\n",
    "    else\n",
    "        \"No definido\"\n",
    "    end\n",
    "end"
   ]
  },
  {
   "cell_type": "code",
   "execution_count": 3,
   "metadata": {},
   "outputs": [
    {
     "data": {
      "text/plain": [
       "1×3 Array{Int64,2}:\n",
       " 5  7  9"
      ]
     },
     "execution_count": 3,
     "metadata": {},
     "output_type": "execute_result"
    }
   ],
   "source": [
    "#Se prueba el algoritmo.\n",
    "sumr3(a,b)"
   ]
  },
  {
   "cell_type": "markdown",
   "metadata": {},
   "source": [
    "b) Escribe un programa que sume dos vectores en $\\mathbb{R}^n$ las entradas de los vectores deben leerse de un archivo de datos. (recuerda que esto solo tiene sentido si los vectores a sumar son de la misma dimensión)."
   ]
  },
  {
   "cell_type": "markdown",
   "metadata": {},
   "source": [
    "Recordar que la suma de vectores se hace entrada a entrada:\n",
    "$$a=[a_{1,1}\\quad a_{1,2}\\quad\\cdots\\qquad a_{1,n}]$$\n",
    "$$b=[b_{1,1}\\quad b_{1,2}\\quad\\cdots\\qquad b_{1,n}]$$\n",
    "$$a+b=[a_{1,1}+b_{1,1}\\quad a_{1,2}+b_{1,2}\\quad\\cdots\\qquad a_{1,n}+b_{1,n}]$$\n",
    "\n",
    "Para el caso de vectores verticales (columna):\n",
    "\n",
    "$$a=\\begin{bmatrix}a_{1,1}\\\\a_{2,1}\\\\\\vdots\\\\a_{n,1}\\end{bmatrix}\\qquad b=\\begin{bmatrix}b_{1,1}\\\\b_{2,1}\\\\\\vdots\\\\b_{n,1}\\end{bmatrix}$$\n",
    "$$a+b=\\begin{bmatrix}a_{1,1}+b_{1,1}\\\\a_{2,1}+b_{2,1}\\\\\\vdots\\\\a_{n,1}+b_{n,1}\\end{bmatrix}$$"
   ]
  },
  {
   "cell_type": "code",
   "execution_count": 4,
   "metadata": {},
   "outputs": [],
   "source": [
    "#Se definen aquí los vectores para que luego sean escritos en un archivo, este paso sólo se hace con el propósito de que el archivo de datos se genere al mismo tiempo que se corre este cuaderno, pues de lo contrario se tendría que subir un archivo de texto extra, además del presente cuaderno. Sólo por cuestión de practicidad, pero el programa hace precisamente lo que se pide.\n",
    "va=[1 2 3 0]\n",
    "vb=[4 5 6 0];"
   ]
  },
  {
   "cell_type": "code",
   "execution_count": 5,
   "metadata": {},
   "outputs": [],
   "source": [
    "#Se escriben los archivos que contienen las entradas de los vectores, cabe mencionar que aquí depende cómo se escriban los vectores, verticales u horizontales, pue sasí los leerá el comando, por eso se debe ser cuidadoso con la colocación del símbolo separador(\"|\").\n",
    "writedlm(\"a.txt\",va,'|')\n",
    "writedlm(\"b.txt\",vb,'|')"
   ]
  },
  {
   "cell_type": "code",
   "execution_count": 6,
   "metadata": {},
   "outputs": [],
   "source": [
    "#Se leen los datos provenientes de los archivos.\n",
    "a=readdlm(\"a.txt\",'|')\n",
    "b=readdlm(\"b.txt\",'|');"
   ]
  },
  {
   "cell_type": "code",
   "execution_count": 7,
   "metadata": {},
   "outputs": [
    {
     "data": {
      "text/plain": [
       "1×4 Array{Float64,2}:\n",
       " 1.0  2.0  3.0  0.0"
      ]
     },
     "execution_count": 7,
     "metadata": {},
     "output_type": "execute_result"
    }
   ],
   "source": [
    "a"
   ]
  },
  {
   "cell_type": "code",
   "execution_count": 8,
   "metadata": {},
   "outputs": [
    {
     "data": {
      "text/plain": [
       "1×4 Array{Float64,2}:\n",
       " 4.0  5.0  6.0  0.0"
      ]
     },
     "execution_count": 8,
     "metadata": {},
     "output_type": "execute_result"
    }
   ],
   "source": [
    "b"
   ]
  },
  {
   "cell_type": "code",
   "execution_count": 9,
   "metadata": {},
   "outputs": [
    {
     "data": {
      "text/plain": [
       "sumnvect1 (generic function with 1 method)"
      ]
     },
     "execution_count": 9,
     "metadata": {},
     "output_type": "execute_result"
    }
   ],
   "source": [
    "#Método1: Una función que recibe como argumento los dos vectores a sumar, sean horizontales (renglón) o verticales (columna).\n",
    "#Dentro se divide en casos la forma de tomar y operar las entradas de los vectores. El primer caso es cuando los dos vectores son del mismo tamaño y además se trata de vectores columna, size(a)[2]=1 que indica que el número de columnas es 1, después se crea un vector de ceros con las dimensiones (tamaño) de cualquiera de los vectores inciaies, aquí se elige el vector a. La forma de llenarlo es con un ciclo for donde se mantiene constante el índice que representa la única columna existente y el contador sólo actua sobre el otro índice (de los renglones) donde llena cada entrada con la correspondiente suma.\n",
    "#De manera similar se plantea el otro caso, con elseif, cuando ambos vectores tienen el mismo tamaño pero se trata de vectores renglón, y aquí al momento de llenar con el ciclo for se mantiene constante el índice que representa al único renglón existente y el contador actúa sobre el índice que representa las columnas.\n",
    "#Como caso adicional se verifica cuando los vectores no tienen el mismo tamaño.\n",
    "function sumnvect1(a::Array,b::Array)\n",
    "    if size(a)==size(b) && size(a)[2]==1\n",
    "        sumn=zeros(size(a)[1],size(a)[2])\n",
    "        for i in 1:size(a)[1]\n",
    "            sumn[i,size(a)[2]]=a[i,size(a)[2]]+b[i,size(b)[2]]\n",
    "        end\n",
    "        sumn\n",
    "    elseif size(a)==size(b) && size(a)[1]==1\n",
    "        sumn=zeros(size(a)[1],size(a)[2])\n",
    "        for i in 1:size(a)[2]\n",
    "            sumn[size(a)[1],i]=a[size(a)[1],i]+b[size(b)[1],i]\n",
    "        end\n",
    "        sumn\n",
    "    else\n",
    "        \"No son del mismo tamaño\"\n",
    "    end\n",
    "end"
   ]
  },
  {
   "cell_type": "code",
   "execution_count": 10,
   "metadata": {},
   "outputs": [
    {
     "data": {
      "text/plain": [
       "1×4 Array{Float64,2}:\n",
       " 5.0  7.0  9.0  0.0"
      ]
     },
     "execution_count": 10,
     "metadata": {},
     "output_type": "execute_result"
    }
   ],
   "source": [
    "#Se prueba el algoritmo.\n",
    "sumnvect1(a,b)"
   ]
  },
  {
   "cell_type": "code",
   "execution_count": 11,
   "metadata": {},
   "outputs": [
    {
     "data": {
      "text/plain": [
       "sumnvect2 (generic function with 1 method)"
      ]
     },
     "execution_count": 11,
     "metadata": {},
     "output_type": "execute_result"
    }
   ],
   "source": [
    "#Método2: Una función que contiene la función push! recibe como argumento los dos vectores a sumar, sean horizontales (renglón) o verticales (columna).\n",
    "#El algoritmo es bastante similar al anterior, sólo que aquí luego de confirmar que son del mismo tamaño se crea un arreglo vació el cual se llenará con la función push del mismo modo que en el método pasado. Sólo para el caso de vectores renglón se debe volver a asignar al vector resultante el tamaño adecuado de acuerdo a los vectores de los que proviene, pues la función push llena el arreglo, por defecto, como un vector columna.\n",
    "function sumnvect2(a::Array,b::Array)\n",
    "   if size(a)==size(b) && size(a)[2]==1\n",
    "        sumn=[]\n",
    "        for i in 1:size(a)[1]\n",
    "            push!(sumn,a[i,size(a)[2]]+b[i,size(b)[2]])\n",
    "        end\n",
    "        sumn\n",
    "    elseif size(a)==size(b) && size(a)[1]==1\n",
    "        sumn=[]\n",
    "        for i in 1:size(a)[2]\n",
    "            push!(sumn,a[size(a)[1],i]+b[size(b)[1],i])\n",
    "        end\n",
    "        reshape(sumn,(size(a)[1],size(a)[2]))\n",
    "    else\n",
    "        \"No son del mismo tamaño\"\n",
    "    end\n",
    "end"
   ]
  },
  {
   "cell_type": "code",
   "execution_count": 12,
   "metadata": {},
   "outputs": [
    {
     "data": {
      "text/plain": [
       "1×4 Array{Any,2}:\n",
       " 5.0  7.0  9.0  0.0"
      ]
     },
     "execution_count": 12,
     "metadata": {},
     "output_type": "execute_result"
    }
   ],
   "source": [
    "#Se prueba el algoritmo.\n",
    "sumnvect2(a,b)"
   ]
  },
  {
   "cell_type": "code",
   "execution_count": null,
   "metadata": {},
   "outputs": [],
   "source": []
  }
 ],
 "metadata": {
  "kernelspec": {
   "display_name": "Julia 0.6.0",
   "language": "julia",
   "name": "julia-0.6"
  },
  "language_info": {
   "file_extension": ".jl",
   "mimetype": "application/julia",
   "name": "julia",
   "version": "0.6.0"
  }
 },
 "nbformat": 4,
 "nbformat_minor": 2
}
