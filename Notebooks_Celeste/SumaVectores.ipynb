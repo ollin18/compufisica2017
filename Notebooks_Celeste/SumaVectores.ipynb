{
 "cells": [
  {
   "cell_type": "markdown",
   "metadata": {},
   "source": [
    "<div class=\"alert alert-info\" role=\"alert\">\n",
    "<p class =\"lead\"> \n",
    "<h1>Suma de vectores </h1>\n",
    "<h2> Computación </h2>\n",
    "<h2>Física, Facultad de Ciencias. UNAM </h2>\n",
    "<h3>Celeste Castro Granados</h3>\n",
    "</div>"
   ]
  },
  {
   "cell_type": "markdown",
   "metadata": {},
   "source": [
    "La suma de vectores en $ ℝ^{3} $ está dada de la siguiente manera:\n",
    "\n",
    "Sea un vector A:\n",
    "\n",
    "$$\n",
    "A = (Ax,Ay,Az)\n",
    "$$\n",
    "\n",
    "Y un vector B:\n",
    "\n",
    "$$\n",
    "B = (Bx,By,Bz)\n",
    "$$\n",
    "\n",
    "La suma A+B es:\n",
    "\n",
    "$$\n",
    "A+B = (Ax+Bx,   Ay+By,   Az+Bz)\n",
    "$$"
   ]
  },
  {
   "cell_type": "markdown",
   "metadata": {},
   "source": [
    "Empezamos definiendo primero los componentes de nuestros vectores:"
   ]
  },
  {
   "cell_type": "code",
   "execution_count": 1,
   "metadata": {},
   "outputs": [
    {
     "data": {
      "text/plain": [
       "11"
      ]
     },
     "execution_count": 1,
     "metadata": {},
     "output_type": "execute_result"
    }
   ],
   "source": [
    "a=4\n",
    "b=6\n",
    "c=9\n",
    "d=7\n",
    "e=3\n",
    "f=11"
   ]
  },
  {
   "cell_type": "markdown",
   "metadata": {},
   "source": [
    "Y definimos nuestra operación:"
   ]
  },
  {
   "cell_type": "code",
   "execution_count": 2,
   "metadata": {},
   "outputs": [
    {
     "data": {
      "text/plain": [
       "SumaVec (generic function with 1 method)"
      ]
     },
     "execution_count": 2,
     "metadata": {},
     "output_type": "execute_result"
    }
   ],
   "source": [
    "function SumaVec(A,B)\n",
    "    if length(A) == length(B) #Con esta línea nos aseguramos de que se efectúe sólo si los vectores son de la misma dimensión\n",
    "        S = [a+d,b+e,c+f] #Efectuamos la suma A+B  \n",
    "        print(S)  #Nos va a imprimir el vector resultante de nuestra suma\n",
    "    else\n",
    "        println(\"u y v deben de ser del mismo tamaño\") #Esto va a imprimir en caso de que los vectores no sean de la misma dimensión\n",
    "    end\n",
    "end"
   ]
  },
  {
   "cell_type": "markdown",
   "metadata": {},
   "source": [
    "Procedemos a probarla:\n",
    "\n",
    "Damos nuestro vector A:"
   ]
  },
  {
   "cell_type": "code",
   "execution_count": 3,
   "metadata": {},
   "outputs": [
    {
     "data": {
      "text/plain": [
       "3-element Array{Int64,1}:\n",
       " 4\n",
       " 6\n",
       " 9"
      ]
     },
     "execution_count": 3,
     "metadata": {},
     "output_type": "execute_result"
    }
   ],
   "source": [
    "A = [a,b,c]"
   ]
  },
  {
   "cell_type": "markdown",
   "metadata": {},
   "source": [
    "Y nuestro vector B:"
   ]
  },
  {
   "cell_type": "code",
   "execution_count": 4,
   "metadata": {},
   "outputs": [
    {
     "data": {
      "text/plain": [
       "3-element Array{Int64,1}:\n",
       "  7\n",
       "  3\n",
       " 11"
      ]
     },
     "execution_count": 4,
     "metadata": {},
     "output_type": "execute_result"
    }
   ],
   "source": [
    "B = [d,e,f]"
   ]
  },
  {
   "cell_type": "code",
   "execution_count": 5,
   "metadata": {},
   "outputs": [
    {
     "name": "stdout",
     "output_type": "stream",
     "text": [
      "[11, 9, 20]"
     ]
    }
   ],
   "source": [
    "SumaVec(A,B)"
   ]
  },
  {
   "cell_type": "markdown",
   "metadata": {},
   "source": [
    "Finalmente, es importante mencionar que el usuario puede introducir nuevos componentes y vectores cuando quiera y seguir realizando la operación. "
   ]
  },
  {
   "cell_type": "markdown",
   "metadata": {},
   "source": [
    "Por ejemplo:"
   ]
  },
  {
   "cell_type": "code",
   "execution_count": 6,
   "metadata": {},
   "outputs": [
    {
     "data": {
      "text/plain": [
       "5"
      ]
     },
     "execution_count": 6,
     "metadata": {},
     "output_type": "execute_result"
    }
   ],
   "source": [
    "a=2\n",
    "b=8\n",
    "c=11\n",
    "d=17\n",
    "e=6\n",
    "f=5"
   ]
  },
  {
   "cell_type": "code",
   "execution_count": 7,
   "metadata": {},
   "outputs": [
    {
     "data": {
      "text/plain": [
       "3-element Array{Int64,1}:\n",
       "  2\n",
       "  8\n",
       " 11"
      ]
     },
     "execution_count": 7,
     "metadata": {},
     "output_type": "execute_result"
    }
   ],
   "source": [
    "A = [a,b,c]"
   ]
  },
  {
   "cell_type": "code",
   "execution_count": 8,
   "metadata": {},
   "outputs": [
    {
     "data": {
      "text/plain": [
       "3-element Array{Int64,1}:\n",
       " 17\n",
       "  6\n",
       "  5"
      ]
     },
     "execution_count": 8,
     "metadata": {},
     "output_type": "execute_result"
    }
   ],
   "source": [
    "B = [d,e,f]"
   ]
  },
  {
   "cell_type": "code",
   "execution_count": 9,
   "metadata": {},
   "outputs": [
    {
     "name": "stdout",
     "output_type": "stream",
     "text": [
      "[19, 14, 16]"
     ]
    }
   ],
   "source": [
    "SumaVec(A,B)"
   ]
  }
 ],
 "metadata": {
  "kernelspec": {
   "display_name": "Julia 0.6.0",
   "language": "julia",
   "name": "julia-0.6"
  },
  "language_info": {
   "file_extension": ".jl",
   "mimetype": "application/julia",
   "name": "julia",
   "version": "0.6.0"
  }
 },
 "nbformat": 4,
 "nbformat_minor": 2
}
