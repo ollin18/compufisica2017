{
 "cells": [
  {
   "cell_type": "markdown",
   "metadata": {},
   "source": [
    "Siguiendo la siguiente serie\n",
    "\n",
    "$\\displaystyle{\\sum_{n=0}^{∞} i} = \\dfrac{{-1}^n}{2n+1} = \\dfrac {π}{4}$\n",
    "\n",
    "Escribe un programa que calcule diferentes aproximaciones de π para diferentes valores."
   ]
  },
  {
   "cell_type": "code",
   "execution_count": 2,
   "metadata": {},
   "outputs": [
    {
     "name": "stderr",
     "output_type": "stream",
     "text": [
      "WARNING: Method definition PI(Any) in module Main at In[1]:2 overwritten at In[2]:2.\n"
     ]
    },
    {
     "data": {
      "text/plain": [
       "PI (generic function with 1 method)"
      ]
     },
     "execution_count": 2,
     "metadata": {},
     "output_type": "execute_result"
    }
   ],
   "source": [
    "function PI(n)\n",
    "        pi=0 #Creamo un contador\n",
    "        co=0 #Aqui este ira aumentando hasta llegar a \"n\"\n",
    "        while n>=co #Esto se repetira hasta que el contador llegue a \"n\"\n",
    "            pi=pi+((-1)^co)/(2co+1) #Se actualizara pi constantemente \n",
    "            co+=1 #Sumamos 1 a \"co\" para contiuar el ciclo\n",
    "        end \n",
    "    print(4pi) #Se imprimira pi cuando el ciclo termine \n",
    "end"
   ]
  },
  {
   "cell_type": "code",
   "execution_count": 3,
   "metadata": {},
   "outputs": [
    {
     "name": "stdout",
     "output_type": "stream",
     "text": [
      "2.666666666666667"
     ]
    }
   ],
   "source": [
    "PI(1)"
   ]
  },
  {
   "cell_type": "code",
   "execution_count": 4,
   "metadata": {},
   "outputs": [
    {
     "name": "stdout",
     "output_type": "stream",
     "text": [
      "3.466666666666667"
     ]
    }
   ],
   "source": [
    "PI(2)"
   ]
  },
  {
   "cell_type": "code",
   "execution_count": 5,
   "metadata": {},
   "outputs": [
    {
     "name": "stdout",
     "output_type": "stream",
     "text": [
      "3.232315809405594"
     ]
    }
   ],
   "source": [
    "PI(10)"
   ]
  },
  {
   "cell_type": "code",
   "execution_count": 6,
   "metadata": {},
   "outputs": [
    {
     "name": "stdout",
     "output_type": "stream",
     "text": [
      "3.1465677471829556"
     ]
    }
   ],
   "source": [
    "PI(200)"
   ]
  },
  {
   "cell_type": "code",
   "execution_count": 10,
   "metadata": {},
   "outputs": [
    {
     "name": "stdout",
     "output_type": "stream",
     "text": [
      "3.1415927535897814"
     ]
    }
   ],
   "source": [
    "PI(10000000) #entre el número sea mayor, más cercano es a Pi"
   ]
  },
  {
   "cell_type": "code",
   "execution_count": null,
   "metadata": {},
   "outputs": [],
   "source": []
  }
 ],
 "metadata": {
  "kernelspec": {
   "display_name": "Julia 0.5.2",
   "language": "julia",
   "name": "julia-0.5"
  },
  "language_info": {
   "file_extension": ".jl",
   "mimetype": "application/julia",
   "name": "julia",
   "version": "0.5.2"
  }
 },
 "nbformat": 4,
 "nbformat_minor": 2
}
