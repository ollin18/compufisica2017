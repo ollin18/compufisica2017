{
 "cells": [
  {
   "cell_type": "code",
   "execution_count": 1,
   "metadata": {},
   "outputs": [
    {
     "data": {
      "text/plain": [
       "factorialr (generic function with 1 method)"
      ]
     },
     "execution_count": 1,
     "metadata": {},
     "output_type": "execute_result"
    }
   ],
   "source": [
    "function factorialr(N) #Usamos el comando function para nombrar la función factorialr(N) con N, el número del que deseamos el factorial\n",
    "    f = 1 #Asignamos a f =1 debido a que sabemos que el factorial de 0 es 1, es decir el primer resultado de efectuar la funci´ón arroja 1 y es la base para los siguientes resultados.. Por definición el factorial de N es el producto de los factores que preceden ese número\n",
    "    for n ∈ 1:N #Generamos el ciclo for con una variable n la cuál tiene asignados los valores del intervalo 1 hasta N. \n",
    "        f= f*n #le damos un nuevo valor a f que es igual al producto de su valor anterior por el valor que va tomando n, en el intervalo\n",
    "    end #Cuando se ha llegado al valor límite del intervalo, se termina el ciclo.\n",
    "    println(f) #Imprime en pantalla el valor final de f\n",
    "end #Termina la función"
   ]
  },
  {
   "cell_type": "code",
   "execution_count": 2,
   "metadata": {},
   "outputs": [
    {
     "name": "stdout",
     "output_type": "stream",
     "text": [
      "6\n"
     ]
    }
   ],
   "source": [
    "factorialr(3)"
   ]
  },
  {
   "cell_type": "code",
   "execution_count": 3,
   "metadata": {},
   "outputs": [
    {
     "name": "stdout",
     "output_type": "stream",
     "text": [
      "120\n"
     ]
    }
   ],
   "source": [
    "factorialr(5)"
   ]
  },
  {
   "cell_type": "code",
   "execution_count": 4,
   "metadata": {},
   "outputs": [
    {
     "name": "stdout",
     "output_type": "stream",
     "text": [
      "1\n"
     ]
    }
   ],
   "source": [
    "factorialr(0)"
   ]
  },
  {
   "cell_type": "markdown",
   "metadata": {},
   "source": [
    "El resultado del factorial 0 es interesante. Observemos que es igual a 1. \n",
    "Si analizamos la secuncia del código dando N=0 \n"
   ]
  },
  {
   "cell_type": "markdown",
   "metadata": {},
   "source": [
    "f=1 \n",
    "\n",
    "n ∈ 1:0"
   ]
  },
  {
   "cell_type": "markdown",
   "metadata": {},
   "source": [
    "Lo cual no es válido, se termina el ciclo y f=1. \n",
    "El factorial, que aparece especialmente en combinatoria, \n",
    "representa el número deformas deordenar n objetos. \n",
    "Por eso el factorial de 0=1"
   ]
  },
  {
   "cell_type": "code",
   "execution_count": null,
   "metadata": {},
   "outputs": [],
   "source": []
  }
 ],
 "metadata": {
  "kernelspec": {
   "display_name": "Julia 0.6.0",
   "language": "julia",
   "name": "julia-0.6"
  },
  "language_info": {
   "file_extension": ".jl",
   "mimetype": "application/julia",
   "name": "julia",
   "version": "0.6.0"
  }
 },
 "nbformat": 4,
 "nbformat_minor": 2
}
