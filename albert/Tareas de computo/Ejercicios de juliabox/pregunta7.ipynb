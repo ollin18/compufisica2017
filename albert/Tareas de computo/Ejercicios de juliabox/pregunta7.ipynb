{
 "cells": [
  {
   "cell_type": "markdown",
   "metadata": {},
   "source": [
    "a) Escribe un programa que sume dos vectores en  $ R^{3} $ , el usuario debe insertar las entradas de los vectores. "
   ]
  },
  {
   "cell_type": "code",
   "execution_count": 1,
   "metadata": {},
   "outputs": [
    {
     "data": {
      "text/plain": [
       "svect3 (generic function with 1 method)"
      ]
     },
     "execution_count": 1,
     "metadata": {},
     "output_type": "execute_result"
    }
   ],
   "source": [
    "function svect3(A,B)\n",
    "    if length(A)==length(B)==3 # definimos el tamaño de los vectores\n",
    "        C=[0,0,0] # creamos el vector para guardar resultados \n",
    "        for i in eachindex(A) # se hacen operacions reglon a reglon \n",
    "            C[i]=(A[i]+B[i])\n",
    "        end\n",
    "        else # reafirmamos la condicion deltamaño \n",
    "        print(\"Tus vectores deben ser de tamaño 3\") \n",
    "    end\n",
    "    print(C) # imprimimos el resultado \n",
    "end"
   ]
  },
  {
   "cell_type": "code",
   "execution_count": 2,
   "metadata": {},
   "outputs": [
    {
     "data": {
      "text/plain": [
       "3-element Array{Int64,1}:\n",
       " 5\n",
       " 5\n",
       " 5"
      ]
     },
     "execution_count": 2,
     "metadata": {},
     "output_type": "execute_result"
    }
   ],
   "source": [
    "y=[5,5,5]"
   ]
  },
  {
   "cell_type": "code",
   "execution_count": 3,
   "metadata": {},
   "outputs": [
    {
     "data": {
      "text/plain": [
       "3-element Array{Int64,1}:\n",
       " 5\n",
       " 5\n",
       " 5"
      ]
     },
     "execution_count": 3,
     "metadata": {},
     "output_type": "execute_result"
    }
   ],
   "source": [
    "x=[5,5,5]"
   ]
  },
  {
   "cell_type": "code",
   "execution_count": 4,
   "metadata": {},
   "outputs": [
    {
     "name": "stdout",
     "output_type": "stream",
     "text": [
      "[10,10,10]"
     ]
    }
   ],
   "source": [
    "svect3(x,y)"
   ]
  },
  {
   "cell_type": "markdown",
   "metadata": {},
   "source": [
    "b) Escribe  un programa que sume dos vectores en  $ R^{n} $  las entradas de los vectores deben leerse de un archivo de datos. (recuerda que esto solo tiene sentido si los vectores a sumar son de la misma dimensión)."
   ]
  },
  {
   "cell_type": "code",
   "execution_count": 5,
   "metadata": {},
   "outputs": [
    {
     "data": {
      "text/plain": [
       "svectorn (generic function with 1 method)"
      ]
     },
     "execution_count": 5,
     "metadata": {},
     "output_type": "execute_result"
    }
   ],
   "source": [
    "function svectorn(A,B)\n",
    "    if length(A)==length(B) # comparamos los vectores para su tamaño \n",
    "        t=length(A)\n",
    "        u= Array{Float64}(t) #hacemos un contador del mismo tamaño de los vectores \n",
    "        for i in eachindex(u) # suma de cada componente \n",
    "            u[i]=(A[i]+B[i]) # se hace la suma de cada valor \n",
    "        end\n",
    "        print(u) # imprime el resultado \n",
    "    else\n",
    "        print(\"Los vectores tienen diferente tamaño\") # comparamos el tamaño de los vectores \n",
    "    end\n",
    "end"
   ]
  },
  {
   "cell_type": "code",
   "execution_count": 6,
   "metadata": {},
   "outputs": [
    {
     "data": {
      "text/plain": [
       "8-element Array{Int64,1}:\n",
       " 7\n",
       " 4\n",
       " 1\n",
       " 8\n",
       " 6\n",
       " 5\n",
       " 1\n",
       " 9"
      ]
     },
     "execution_count": 6,
     "metadata": {},
     "output_type": "execute_result"
    }
   ],
   "source": [
    "l=[7,4,1,8,6,5,1,9]"
   ]
  },
  {
   "cell_type": "code",
   "execution_count": 7,
   "metadata": {},
   "outputs": [
    {
     "data": {
      "text/plain": [
       "8-element Array{Int64,1}:\n",
       " 1\n",
       " 5\n",
       " 4\n",
       " 9\n",
       " 6\n",
       " 3\n",
       " 2\n",
       " 8"
      ]
     },
     "execution_count": 7,
     "metadata": {},
     "output_type": "execute_result"
    }
   ],
   "source": [
    "m=[1,5,4,9,6,3,2,8]"
   ]
  },
  {
   "cell_type": "code",
   "execution_count": 8,
   "metadata": {},
   "outputs": [
    {
     "name": "stdout",
     "output_type": "stream",
     "text": [
      "[8.0,9.0,5.0,17.0,12.0,8.0,3.0,17.0]"
     ]
    }
   ],
   "source": [
    "svectorn(l,m)"
   ]
  },
  {
   "cell_type": "code",
   "execution_count": null,
   "metadata": {},
   "outputs": [],
   "source": []
  }
 ],
 "metadata": {
  "kernelspec": {
   "display_name": "Julia 0.5.2",
   "language": "julia",
   "name": "julia-0.5"
  },
  "language_info": {
   "file_extension": ".jl",
   "mimetype": "application/julia",
   "name": "julia",
   "version": "0.5.2"
  }
 },
 "nbformat": 4,
 "nbformat_minor": 2
}
