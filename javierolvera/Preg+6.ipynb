{
 "cells": [
  {
   "cell_type": "markdown",
   "metadata": {},
   "source": [
    "Este programa obtiene el producto cruz de dos vectores en $R3$"
   ]
  },
  {
   "cell_type": "code",
   "execution_count": 1,
   "metadata": {},
   "outputs": [
    {
     "data": {
      "text/plain": [
       "3-element Array{Int64,1}:\n",
       " 0\n",
       " 3\n",
       " 4"
      ]
     },
     "execution_count": 1,
     "metadata": {},
     "output_type": "execute_result"
    }
   ],
   "source": [
    "A=[1,2,0]  #Declaramos dos vectores de prueba\n",
    "B=[0,3,4]"
   ]
  },
  {
   "cell_type": "code",
   "execution_count": 4,
   "metadata": {},
   "outputs": [
    {
     "data": {
      "text/plain": [
       "prodcruz (generic function with 1 method)"
      ]
     },
     "execution_count": 4,
     "metadata": {},
     "output_type": "execute_result"
    }
   ],
   "source": [
    "function prodcruz(A,B)   #Se crea la función con dos vectores como parámetros\n",
    "    pcx=A[2]*B[3]-A[3]*B[2]  #Obtenemos las componenetes del vector resultante, apartir del determinante requerido\n",
    "    pcy=-A[1]*B[3]+A[3]*B[1]\n",
    "    pcz=A[1]* B[2]-A[2]*B[1]\n",
    "    \n",
    "    pc=[pcx,pcy,pcz]    #Integra los resultados en un vector\n",
    "     \n",
    "    print(\"El producto cruz de los vectores A y B es: $pc\")\n",
    "end"
   ]
  },
  {
   "cell_type": "code",
   "execution_count": 5,
   "metadata": {},
   "outputs": [
    {
     "name": "stdout",
     "output_type": "stream",
     "text": [
      "El producto cruz de los vectores A y B es: [8, -4, 3]"
     ]
    }
   ],
   "source": [
    "prodcruz(A,B)"
   ]
  }
 ],
 "metadata": {
  "kernelspec": {
   "display_name": "Julia 0.6.0",
   "language": "julia",
   "name": "julia-0.6"
  },
  "language_info": {
   "file_extension": ".jl",
   "mimetype": "application/julia",
   "name": "julia",
   "version": "0.6.0"
  }
 },
 "nbformat": 4,
 "nbformat_minor": 2
}
