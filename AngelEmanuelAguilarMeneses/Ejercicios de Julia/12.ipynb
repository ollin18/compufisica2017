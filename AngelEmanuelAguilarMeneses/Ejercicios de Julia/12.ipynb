{
 "cells": [
  {
   "cell_type": "code",
   "execution_count": 1,
   "metadata": {},
   "outputs": [
    {
     "data": {
      "text/plain": [
       "mru (generic function with 1 method)"
      ]
     },
     "execution_count": 1,
     "metadata": {},
     "output_type": "execute_result"
    }
   ],
   "source": [
    " function mru(t1,Δt,t2,v) #t1 y t2 son el tiempo inicial y final respectivamente, Δt es el intervalo de tiempo v es la velocidad\n",
    "    t= collect(t1:Δt:t2) #Creamos un arreglo de tiemo desde t1 hasta t2 con intervalos de Δt \n",
    "    posición=zeros(collect(t1:Δt:t2)) #Creamos un arreglo de ceros para guardar los datos de la posición\n",
    "    velocidad=zeros(length(t)) #Creamos un arreglo de ceros para la velocidad\n",
    "    for i ∈ 1:length(t) #Le pedimos que a todo elemento de t se le aplique las siguientes operaciones\n",
    "        if i != 1 #Si el elemento de t es distinto de 1\n",
    "            posición[i] = posición[i-1]+v*Δt #Utilizamos la ecuación del mru, se le resta 1 a i porque manejamos el Δt en la ecuación\n",
    "        end\n",
    "    end\n",
    "    velocidad=velocidad .+ v #Declaramos que la velocidad sera obtenida sumando a cada elemento del arreglo la velocidad dada\n",
    "    mrudatos= hcat(t,posición,velocidad)#Aquí concatenamos los datos obtenidos\n",
    "    writedlm(\"mrudatos.csv\",mrudatos,'|') #Aquí escribimos los datos en un archivo\n",
    "    print(t,posición,velocidad) #Aquí pedimos que regrese los datos de tiempo, posición y velocidad\n",
    "end   "
   ]
  },
  {
   "cell_type": "code",
   "execution_count": 2,
   "metadata": {},
   "outputs": [
    {
     "name": "stdout",
     "output_type": "stream",
     "text": [
      "[0.0,0.5,1.0,1.5,2.0,2.5,3.0,3.5,4.0,4.5,5.0,5.5,6.0,6.5,7.0,7.5,8.0,8.5,9.0,9.5,10.0,10.5,11.0,11.5,12.0,12.5,13.0,13.5,14.0,14.5,15.0,15.5,16.0,16.5,17.0,17.5,18.0,18.5,19.0,19.5,20.0,20.5,21.0,21.5,22.0,22.5,23.0,23.5,24.0,24.5,25.0,25.5,26.0,26.5,27.0,27.5,28.0,28.5,29.0,29.5,30.0,30.5,31.0,31.5,32.0,32.5,33.0,33.5,34.0,34.5,35.0,35.5,36.0,36.5,37.0,37.5,38.0,38.5,39.0,39.5,40.0,40.5,41.0,41.5,42.0,42.5,43.0,43.5,44.0,44.5,45.0,45.5,46.0,46.5,47.0,47.5,48.0,48.5,49.0,49.5,50.0,50.5,51.0,51.5,52.0,52.5,53.0,53.5,54.0,54.5,55.0,55.5,56.0,56.5,57.0,57.5,58.0,58.5,59.0,59.5,60.0,60.5,61.0,61.5,62.0,62.5,63.0,63.5,64.0,64.5,65.0,65.5,66.0,66.5,67.0,67.5,68.0,68.5,69.0,69.5,70.0,70.5,71.0,71.5,72.0,72.5,73.0,73.5,74.0,74.5,75.0,75.5,76.0,76.5,77.0,77.5,78.0,78.5,79.0,79.5,80.0,80.5,81.0,81.5,82.0,82.5,83.0,83.5,84.0,84.5,85.0,85.5,86.0,86.5,87.0,87.5,88.0,88.5,89.0,89.5,90.0,90.5,91.0,91.5,92.0,92.5,93.0,93.5,94.0,94.5,95.0,95.5,96.0,96.5,97.0,97.5,98.0,98.5,99.0,99.5,100.0][0.0,10.0,20.0,30.0,40.0,50.0,60.0,70.0,80.0,90.0,100.0,110.0,120.0,130.0,140.0,150.0,160.0,170.0,180.0,190.0,200.0,210.0,220.0,230.0,240.0,250.0,260.0,270.0,280.0,290.0,300.0,310.0,320.0,330.0,340.0,350.0,360.0,370.0,380.0,390.0,400.0,410.0,420.0,430.0,440.0,450.0,460.0,470.0,480.0,490.0,500.0,510.0,520.0,530.0,540.0,550.0,560.0,570.0,580.0,590.0,600.0,610.0,620.0,630.0,640.0,650.0,660.0,670.0,680.0,690.0,700.0,710.0,720.0,730.0,740.0,750.0,760.0,770.0,780.0,790.0,800.0,810.0,820.0,830.0,840.0,850.0,860.0,870.0,880.0,890.0,900.0,910.0,920.0,930.0,940.0,950.0,960.0,970.0,980.0,990.0,1000.0,1010.0,1020.0,1030.0,1040.0,1050.0,1060.0,1070.0,1080.0,1090.0,1100.0,1110.0,1120.0,1130.0,1140.0,1150.0,1160.0,1170.0,1180.0,1190.0,1200.0,1210.0,1220.0,1230.0,1240.0,1250.0,1260.0,1270.0,1280.0,1290.0,1300.0,1310.0,1320.0,1330.0,1340.0,1350.0,1360.0,1370.0,1380.0,1390.0,1400.0,1410.0,1420.0,1430.0,1440.0,1450.0,1460.0,1470.0,1480.0,1490.0,1500.0,1510.0,1520.0,1530.0,1540.0,1550.0,1560.0,1570.0,1580.0,1590.0,1600.0,1610.0,1620.0,1630.0,1640.0,1650.0,1660.0,1670.0,1680.0,1690.0,1700.0,1710.0,1720.0,1730.0,1740.0,1750.0,1760.0,1770.0,1780.0,1790.0,1800.0,1810.0,1820.0,1830.0,1840.0,1850.0,1860.0,1870.0,1880.0,1890.0,1900.0,1910.0,1920.0,1930.0,1940.0,1950.0,1960.0,1970.0,1980.0,1990.0,2000.0][20.0,20.0,20.0,20.0,20.0,20.0,20.0,20.0,20.0,20.0,20.0,20.0,20.0,20.0,20.0,20.0,20.0,20.0,20.0,20.0,20.0,20.0,20.0,20.0,20.0,20.0,20.0,20.0,20.0,20.0,20.0,20.0,20.0,20.0,20.0,20.0,20.0,20.0,20.0,20.0,20.0,20.0,20.0,20.0,20.0,20.0,20.0,20.0,20.0,20.0,20.0,20.0,20.0,20.0,20.0,20.0,20.0,20.0,20.0,20.0,20.0,20.0,20.0,20.0,20.0,20.0,20.0,20.0,20.0,20.0,20.0,20.0,20.0,20.0,20.0,20.0,20.0,20.0,20.0,20.0,20.0,20.0,20.0,20.0,20.0,20.0,20.0,20.0,20.0,20.0,20.0,20.0,20.0,20.0,20.0,20.0,20.0,20.0,20.0,20.0,20.0,20.0,20.0,20.0,20.0,20.0,20.0,20.0,20.0,20.0,20.0,20.0,20.0,20.0,20.0,20.0,20.0,20.0,20.0,20.0,20.0,20.0,20.0,20.0,20.0,20.0,20.0,20.0,20.0,20.0,20.0,20.0,20.0,20.0,20.0,20.0,20.0,20.0,20.0,20.0,20.0,20.0,20.0,20.0,20.0,20.0,20.0,20.0,20.0,20.0,20.0,20.0,20.0,20.0,20.0,20.0,20.0,20.0,20.0,20.0,20.0,20.0,20.0,20.0,20.0,20.0,20.0,20.0,20.0,20.0,20.0,20.0,20.0,20.0,20.0,20.0,20.0,20.0,20.0,20.0,20.0,20.0,20.0,20.0,20.0,20.0,20.0,20.0,20.0,20.0,20.0,20.0,20.0,20.0,20.0,20.0,20.0,20.0,20.0,20.0,20.0]"
     ]
    }
   ],
   "source": [
    "mru(0,0.5,100,20)#Probamos la función"
   ]
  },
  {
   "cell_type": "code",
   "execution_count": 3,
   "metadata": {},
   "outputs": [
    {
     "data": {
      "text/plain": [
       "mus (generic function with 1 method)"
      ]
     },
     "execution_count": 3,
     "metadata": {},
     "output_type": "execute_result"
    }
   ],
   "source": [
    "function mus(t1,Δt,t2,v_0,a) #t1 y t2 son los tiempos inicial y final, Δt es el intervalo de tiempo, v_0 se refiere a la velocidad inicial y a es la aceleración. \n",
    "    t= collect(t1:Δt:t2) #creamos un arreglo de tiemo desde t1 hasta t2 con espacio de Δt entre cada tiempo. \n",
    "    posición=zeros(collect(t1:Δt:t2)) #Aquí creamos un arreglo de ceros para guardar los datos de la posición\n",
    "    velocidad=zeros(collect(t1:Δt:t2)) #Hacemos lo mismo para la velocidad\n",
    "    for i ∈ 1:length(t) #Le pedimos que a todo elemento de t se le aplique las siguientes operaciones\n",
    "        if i != 1 #lSi cada elemento de t es distino a 1\n",
    "            posición[i]=(v_0*t[i])+(1/2*a*(t[i])^2) #Utilizamos la ecuación del mua \"X(t)=v_0t + 1/2at^2\"\n",
    "            velocidad[i]=v_0+a*t[i] #Utilizamos la ecuación de la velocidad en el mua \"V(t)=v_0 + at\"\n",
    "        end\n",
    "    end\n",
    "    muadatos= hcat(t,posición,velocidad)#Aquí concatenamos los datos obtenidos\n",
    "    writedlm(\"muadatos.csv\",muadatos,'|') #Aquí escribimos los datos en un archivo\n",
    "    print(t,posición,velocidad) #Aquí le pedimos que imprima los datos del tiempo, la posición y la velocidad\n",
    "end  "
   ]
  },
  {
   "cell_type": "code",
   "execution_count": 4,
   "metadata": {},
   "outputs": [
    {
     "ename": "LoadError",
     "evalue": "UndefVarError: MUA not defined",
     "output_type": "error",
     "traceback": [
      "UndefVarError: MUA not defined",
      "",
      " in include_string(::String, ::String) at ./loading.jl:441"
     ]
    }
   ],
   "source": [
    "MUA(0,1,100,4,3)"
   ]
  },
  {
   "cell_type": "code",
   "execution_count": 5,
   "metadata": {},
   "outputs": [
    {
     "data": {
      "text/plain": [
       "TiroPa (generic function with 1 method)"
      ]
     },
     "execution_count": 5,
     "metadata": {},
     "output_type": "execute_result"
    }
   ],
   "source": [
    "function TiroPa(t1,Δt,t2,θ,g,v_0) #t1 y t2corresponden al tiempo inicialy final,Δt es el intevalo de tiempo ,Θ es el angulo, g es el valor de la gravedad, v_0 es la velocidad inicial\n",
    "    t=collect(t1:Δt:t2) #Creamos un arreglo de tiemo desde t1 hasta t2 con espacio de Δt entre cada tiempo.\n",
    "    X=zeros(t) #Aquí creamos un arreglo que guardara la posición en X \n",
    "    Y=zeros(t) #Aquí creamos un arreglo que guardara l posición en Y\n",
    "    for i in eachindex(t) #Le pedimos que a todo elemento de t se le aplique las siguientes operaciones\n",
    "        X[i] = v_0*cos(θ)*t[i] #Utilizamos la ecuación\n",
    "        Y[i] = (-(1/2*g*t[i]^2)+v_0*sin(θ)*t[i]) #Utilizamos la ecuación\n",
    "    end\n",
    "    Datos=hcat(t,X,Y) #Concatenamos los datos obtenidos\n",
    "    writedlm(\"Datos.csv\",Datos,'|') #Aquí escribimos los datos en un archivo\n",
    "    print(t,X,Y) #Aquí le pedimos que imprima los datos del tiempo, la posición en X y Y\n",
    "end "
   ]
  },
  {
   "cell_type": "code",
   "execution_count": 6,
   "metadata": {},
   "outputs": [
    {
     "name": "stdout",
     "output_type": "stream",
     "text": [
      "[0.0,0.25,0.5,0.75,1.0,1.25,1.5,1.75,2.0,2.25,2.5,2.75,3.0,3.25,3.5,3.75,4.0,4.25,4.5,4.75,5.0,5.25,5.5,5.75,6.0,6.25,6.5,6.75,7.0,7.25,7.5,7.75,8.0,8.25,8.5,8.75,9.0,9.25,9.5,9.75,10.0,10.25,10.5,10.75,11.0,11.25,11.5,11.75,12.0,12.25,12.5,12.75,13.0,13.25,13.5,13.75,14.0,14.25,14.5,14.75,15.0,15.25,15.5,15.75,16.0,16.25,16.5,16.75,17.0,17.25,17.5,17.75,18.0,18.25,18.5,18.75,19.0,19.25,19.5,19.75,20.0][0.0,10.6066,21.2132,31.8198,42.4264,53.033,63.6396,74.2462,84.8528,95.4594,106.066,116.673,127.279,137.886,148.492,159.099,169.706,180.312,190.919,201.525,212.132,222.739,233.345,243.952,254.558,265.165,275.772,286.378,296.985,307.591,318.198,328.805,339.411,350.018,360.624,371.231,381.838,392.444,403.051,413.657,424.264,434.871,445.477,456.084,466.69,477.297,487.904,498.51,509.117,519.723,530.33,540.937,551.543,562.15,572.756,583.363,593.97,604.576,615.183,625.79,636.396,647.003,657.609,668.216,678.823,689.429,700.036,710.642,721.249,731.856,742.462,753.069,763.675,774.282,784.889,795.495,806.102,816.708,827.315,837.922,848.528][0.0,10.3,19.987,29.0607,37.5214,45.3689,52.6034,59.2246,65.2328,70.6279,75.4098,79.5786,83.1342,86.0768,88.4062,90.1225,91.2256,91.7157,91.5926,90.8564,89.507,87.5446,84.969,81.7803,77.9784,73.5635,68.5354,62.8942,56.6398,49.7724,42.2918,34.1981,25.4913,16.1713,6.23821,-4.308,-15.4673,-27.2398,-39.6254,-52.6241,-66.2359,-80.4609,-95.299,-110.75,-126.815,-143.492,-160.783,-178.686,-197.203,-216.333,-236.076,-256.432,-277.402,-298.984,-321.18,-343.988,-367.41,-391.445,-416.093,-441.355,-467.229,-493.716,-520.817,-548.531,-576.857,-605.797,-635.351,-665.517,-696.296,-727.689,-759.694,-792.313,-825.545,-859.39,-893.848,-928.919,-964.603,-1000.9,-1037.81,-1075.34,-1113.47]"
     ]
    }
   ],
   "source": [
    "TiroPa(0,0.25,20,π/4,9.81,60)"
   ]
  },
  {
   "cell_type": "code",
   "execution_count": null,
   "metadata": {},
   "outputs": [],
   "source": []
  }
 ],
 "metadata": {
  "kernelspec": {
   "display_name": "Julia 0.5.2",
   "language": "julia",
   "name": "julia-0.5"
  },
  "language_info": {
   "file_extension": ".jl",
   "mimetype": "application/julia",
   "name": "julia",
   "version": "0.5.2"
  }
 },
 "nbformat": 4,
 "nbformat_minor": 2
}
