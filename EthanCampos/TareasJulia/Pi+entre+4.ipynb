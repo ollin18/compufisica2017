{
 "cells": [
  {
   "cell_type": "markdown",
   "metadata": {},
   "source": [
    "<div class=\"alert alert-info\" role=\"alert\">\n",
    "<p class =\"lead\"> \n",
    "    <h1> Aproximación de π/4 </h1>\n",
    "<h3>Computación</h3> <h3>Física, Facultad de Ciencias. UNAM </h3>\n",
    "<h2>Ethan Campos Méndez </h2> </div>"
   ]
  },
  {
   "cell_type": "markdown",
   "metadata": {},
   "source": [
    "Aproximaremos π/4 con la siguiente serie:"
   ]
  },
  {
   "cell_type": "markdown",
   "metadata": {},
   "source": [
    "$$\\displaystyle{\\sum_{n=0}^{\\infty} \\dfrac{(-1)^n}{2n+1}} = \\dfrac{\\pi}{4}$$"
   ]
  },
  {
   "cell_type": "code",
   "execution_count": 1,
   "metadata": {},
   "outputs": [
    {
     "data": {
      "text/plain": [
       "Aproxpi (generic function with 1 method)"
      ]
     },
     "execution_count": 1,
     "metadata": {},
     "output_type": "execute_result"
    }
   ],
   "source": [
    "function Aproxpi(n) \n",
    "    x=0\n",
    "    for i ∈ 0:n #Esto sería lo equivalente a la suma\n",
    "        x=x+(Float64(big(((-1)^i)/(Float64(big(2*i+1)))))) #Ponemos la función Float64 y Big para que use la mayor cantidad de decimales\n",
    "    end\n",
    "    x\n",
    "end"
   ]
  },
  {
   "cell_type": "code",
   "execution_count": 2,
   "metadata": {},
   "outputs": [
    {
     "data": {
      "text/plain": [
       "0.7878733502677479"
      ]
     },
     "execution_count": 2,
     "metadata": {},
     "output_type": "execute_result"
    }
   ],
   "source": [
    "Aproxpi(100)"
   ]
  }
 ],
 "metadata": {
  "kernelspec": {
   "display_name": "Julia 0.6.0",
   "language": "julia",
   "name": "julia-0.6"
  },
  "language_info": {
   "file_extension": ".jl",
   "mimetype": "application/julia",
   "name": "julia",
   "version": "0.6.0"
  }
 },
 "nbformat": 4,
 "nbformat_minor": 2
}
